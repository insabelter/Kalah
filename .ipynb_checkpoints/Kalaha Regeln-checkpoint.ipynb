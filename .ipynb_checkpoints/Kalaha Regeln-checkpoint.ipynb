{
 "cells": [
  {
   "cell_type": "markdown",
   "metadata": {},
   "source": [
    "# Kalaha Regeln\n",
    "\n",
    "### Spielaufbau: \n",
    "\n",
    "<p>Das Spielfeld besteht aus 6 Mulden pro Seite und zusätzlich einer großen Mulde pro Spieler am Rand, das sogenannte „Kalaha“. In jede Mulde außer den Kalaha’s werden sechs Spielsteine platziert.</p> \n",
    "\n",
    "### Spielablauf: \n",
    "<p>Abwechselnd wählt ein Spieler eine Mulde auf seiner Spielfeldseite aus. Die sich darin befindenden Spielsteine setzt er nacheinander gegen den Uhrzeigersinn in die nachfolgenden Mulden ein. Dabei wird auch ein Spielstein in das eigene Kalaha gelegt, das gegnerische Kalaha wird übersprungen.\n",
    "Wird der letzte Spielstein in das eigene Kalaha gesetzt, so ist der Spieler erneut am Zug. Wird der letzte Spielstein in eine leere Mulde auf der eigenen Spielfeldseite gelegt, so wird dieser Spielerstein und alle Spielsteine im gegenüberliegenden Feld in das Kalaha des Spielers gelegt. In dem Fall ist der Gegner am Zug.</p>\n",
    "\n",
    "### Spielende:\n",
    "<p>Das Spielt endet, wenn alle Mulden eines Spielers geleert sind. Der gegnerische Spieler legt dann alle verbleibenden Spielsteine auf seiner Seite in sein Kalaha.</p>\n",
    "\n",
    "### Ziel des Spiels: \n",
    "<p>Sieger ist, wer nach Spielende mehr Spielsteine in seinem Kalaha besitzt.</p>\n",
    "\n",
    "Quelle: http://www.kalaha.de/kalaha.htm Abruf am 9.11.2021\n"
   ]
  }
 ],
 "metadata": {
  "kernelspec": {
   "display_name": "Python 3",
   "language": "python",
   "name": "python3"
  },
  "language_info": {
   "codemirror_mode": {
    "name": "ipython",
    "version": 3
   },
   "file_extension": ".py",
   "mimetype": "text/x-python",
   "name": "python",
   "nbconvert_exporter": "python",
   "pygments_lexer": "ipython3",
   "version": "3.7.4"
  }
 },
 "nbformat": 4,
 "nbformat_minor": 2
}
