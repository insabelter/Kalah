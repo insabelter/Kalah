{
 "cells": [
  {
   "cell_type": "code",
   "execution_count": 1021,
   "id": "4d10eedf",
   "metadata": {},
   "outputs": [
    {
     "data": {
      "text/html": [
       "<link href='http://fonts.googleapis.com/css?family=Alegreya+Sans:100,300,400,500,700,800,900,100italic,300italic,400italic,500italic,700italic,800italic,900italic' rel='stylesheet' type='text/css'>\n",
       "<link href='http://fonts.googleapis.com/css?family=Arvo:400,700,400italic' rel='stylesheet' type='text/css'>\n",
       "<link href='http://fonts.googleapis.com/css?family=PT+Mono' rel='stylesheet' type='text/css'>\n",
       "<link href='http://fonts.googleapis.com/css?family=Shadows+Into+Light' rel='stylesheet' type='text/css'>\n",
       "<link href='http://fonts.googleapis.com/css?family=Philosopher:400,700,400italic,700italic' rel='stylesheet' type='text/css'>\n",
       "\n",
       "<style>\n",
       "\n",
       "@font-face {\n",
       "    font-family: \"Computer Modern\";\n",
       "    src: url('http://mirrors.ctan.org/fonts/cm-unicode/fonts/otf/cmunss.otf');\n",
       "}\n",
       "\n",
       ".container { width: 100% }\n",
       "\n",
       "/* Formatting for header cells */\n",
       ".text_cell_render h1 {\n",
       "    font-family: 'Philosopher', sans-serif;\n",
       "    font-weight: 400;\n",
       "    font-size: 2.2em;\n",
       "    line-height: 100%;\n",
       "    color: rgb(0, 80, 120);\n",
       "    margin-bottom: 0.1em;\n",
       "    margin-top: 0.1em;\n",
       "    display: block;\n",
       "}\t\n",
       ".text_cell_render h2 {\n",
       "    font-family: 'Philosopher', serif;\n",
       "    font-weight: 400;\n",
       "    font-size: 1.9em;\n",
       "    line-height: 100%;\n",
       "    color: rgb(200,100,0);\n",
       "    margin-bottom: 0.1em;\n",
       "    margin-top: 0.1em;\n",
       "    display: block;\n",
       "}\t\n",
       "\n",
       ".text_cell_render h3 {\n",
       "    font-family: 'Philosopher', serif;\n",
       "    margin-top:12px;\n",
       "    margin-bottom: 3px;\n",
       "    font-style: italic;\n",
       "    color: rgb(94,127,192);\n",
       "}\n",
       "\n",
       ".text_cell_render h4 {\n",
       "    font-family: 'Philosopher', serif;\n",
       "}\n",
       "\n",
       ".text_cell_render h5 {\n",
       "    font-family: 'Alegreya Sans', sans-serif;\n",
       "    font-weight: 300;\n",
       "    font-size: 16pt;\n",
       "    color: grey;\n",
       "    font-style: italic;\n",
       "    margin-bottom: .1em;\n",
       "    margin-top: 0.1em;\n",
       "    display: block;\n",
       "}\n",
       "\n",
       ".text_cell_render h6 {\n",
       "    font-family: 'PT Mono', sans-serif;\n",
       "    font-weight: 300;\n",
       "    font-size: 10pt;\n",
       "    color: grey;\n",
       "    margin-bottom: 1px;\n",
       "    margin-top: 1px;\n",
       "}\n",
       "\n",
       ".text_cell_render em {\n",
       "    font-family: 'Philosopher', sans-serif;\n",
       "    color:        blue;\n",
       "    background-color: rgb(255,220,180);\n",
       "    font-size:    110%;\n",
       "    margin-left:   2px;\n",
       "    margin-right:  2px;\n",
       "    font-weight:   100;\n",
       "}\n",
       "\n",
       ".text_cell_render b {\n",
       "    color:            rgb(255,195,195);\n",
       "    background-color: rgb(0,0,0);\n",
       "    font-size:    110%;\n",
       "    margin-left:   2px;\n",
       "    margin-right:  2px;\n",
       "    font-weight:   650;\n",
       "}\n",
       "\n",
       ".text_cell_render tt {\n",
       "    font-size:    120%;\n",
       "    margin-left:   2px;\n",
       "    margin-right:  2px;\n",
       "    font-weight:   150;\n",
       "}\n",
       "\n",
       ".Codemirror {\n",
       "    font-family: \"PT Mono\";\n",
       "    font-size: 100%;\n",
       "}\n",
       "\n",
       "</style>\n",
       "\n"
      ],
      "text/plain": [
       "<IPython.core.display.HTML object>"
      ]
     },
     "execution_count": 1021,
     "metadata": {},
     "output_type": "execute_result"
    }
   ],
   "source": [
    "from ipycanvas import MultiCanvas,Canvas,hold_canvas\n",
    "from ipywidgets import Image\n",
    "from math import pi\n",
    "import random\n",
    "import IPython.display\n",
    "from IPython.core.display import HTML\n",
    "with open('style.css', 'r') as file:\n",
    "    css = file.read()\n",
    "HTML(css)"
   ]
  },
  {
   "cell_type": "markdown",
   "id": "86aac2fa",
   "metadata": {},
   "source": [
    "## Graphical User Interface\n",
    "In this section we develop the graphical user interface the player is going to use to play the game. This includes the representation of a game state and the implementation of user input."
   ]
  },
  {
   "cell_type": "markdown",
   "id": "80d5ae95",
   "metadata": {},
   "source": [
    "### The Board\n",
    "The following image shows the entire board including some notations. The general setup of the board is pretty simple: we see 12 circular \"holes\" in the middle area and one big yet round \"hole\" on either end of the board. We call these **houses**. The big houses are special houses often referred to as **Kalah**. The houses are split between the 2 players such that each player gets 6 regular houses and 1 Kalah. "
   ]
  },
  {
   "cell_type": "markdown",
   "id": "1bf81165",
   "metadata": {},
   "source": [
    "### The Board Class\n",
    "We define a board class to simplify the approach of drawing the board and the according state of the game.\n",
    "\n",
    "#### Variables & Constants\n",
    "This class contains the following variables:\n",
    "- `canvas` = Holds the canvas object used for displaying the current game state\n",
    "\n",
    "and the following constants:\n",
    "- `BACKGROUND_IMG` = Contains the file location as string, which refers to the background image of the canvas\n",
    "- `SEED_IMG` = Contains the file location as string, which refers to the image used for one seed"
   ]
  },
  {
   "cell_type": "code",
   "execution_count": 1022,
   "id": "fe520f55",
   "metadata": {},
   "outputs": [],
   "source": [
    "class Board:\n",
    "    canvas = MultiCanvas(2,width=800, height=350)\n",
    "    background = canvas[0]\n",
    "    foreground = canvas[1]\n",
    "    BACKGROUND_IMG = 'images/background.png'\n",
    "    SEED_IMG = 'images/seed.png'"
   ]
  },
  {
   "cell_type": "code",
   "execution_count": 1023,
   "id": "13407b3f",
   "metadata": {},
   "outputs": [],
   "source": [
    "def _drawBackground(self):\n",
    "    # Load the image\n",
    "    background_sprite = Image.from_file(self.BACKGROUND_IMG)\n",
    "    # Draw the image on the background layer\n",
    "    self.background.draw_image(background_sprite,0,0)\n",
    "    \n",
    "Board._drawBackground = _drawBackground\n",
    "del _drawBackground"
   ]
  },
  {
   "cell_type": "code",
   "execution_count": 1024,
   "id": "efefcd5e",
   "metadata": {},
   "outputs": [],
   "source": [
    "def state_to_dict(state):\n",
    "    d = {}\n",
    "    for i in [0,1]:\n",
    "        for j in range(7):\n",
    "            d[order[i][j]] = state[i][j]\n",
    "    return d"
   ]
  },
  {
   "cell_type": "code",
   "execution_count": 1025,
   "id": "1cc9dac5",
   "metadata": {},
   "outputs": [],
   "source": [
    "def _drawSeeds(self, x, y, rad, cnt):\n",
    "    #account for thickness of seed\n",
    "    self.foreground.stroke_circle(x,y,rad)\n",
    "    rad-= 5\n",
    "    seed_sprite = Image.from_file(self.SEED_IMG)\n",
    "    rad = float(rad)\n",
    "    \n",
    "    \n",
    "#     if cnt <= 0 or rad <= 0 or x < 0 or y < 0:\n",
    "#         raise 'Illegal'\n",
    "    with hold_canvas(self.foreground):\n",
    "        while cnt > 0:\n",
    "            self.foreground.save()\n",
    "            rad_copy = rad\n",
    "            seed_x = round(random.uniform(x-rad_copy,x+rad_copy), 3)\n",
    "            rad_copy = ((x+rad_copy) - abs(seed_x))/2\n",
    "            seed_y = round(random.uniform(y-rad_copy,y+rad_copy), 3)\n",
    "            # Rotate by random amount for variation\n",
    "            self.foreground.translate(seed_x, seed_y)\n",
    "            self.foreground.rotate(random.uniform(0., pi))\n",
    "            self.foreground.scale(0.05)\n",
    "            self.foreground.translate(- seed_x, - seed_y)\n",
    "            self.foreground.draw_image(seed_sprite, seed_x, seed_y)\n",
    "            print(seed_x)\n",
    "            print(seed_y)\n",
    "            cnt-= 1\n",
    "            self.foreground.restore()\n",
    "        \n",
    "        \n",
    "Board._drawSeeds = _drawSeeds\n",
    "del _drawSeeds"
   ]
  },
  {
   "cell_type": "code",
   "execution_count": 1026,
   "id": "79b44d01",
   "metadata": {},
   "outputs": [],
   "source": [
    "def draw(self):\n",
    "#     CENTER_Y = self.canvas.height/2\n",
    "#     Y_OFFSET_TEXT = 35\n",
    "    \n",
    "#     house = state_to_dict(state)\n",
    "#     self.foreground.font = '32px serif'\n",
    "#     foreground.fill_style = 'black'\n",
    "\n",
    "#     # Upper row of numbers for the houses\n",
    "#     self.foreground.fill_text(str(house['F']),135,CENTER_Y - Y_OFFSET_TEXT)\n",
    "#     self.foreground.fill_text(str(house['E']),235,CENTER_Y - Y_OFFSET_TEXT)\n",
    "#     self.foreground.fill_text(str(house['D']),335,CENTER_Y - Y_OFFSET_TEXT)\n",
    "#     self.foreground.fill_text(str(house['C']),435,CENTER_Y - Y_OFFSET_TEXT)\n",
    "#     self.foreground.fill_text(str(house['B']),535,CENTER_Y - Y_OFFSET_TEXT)\n",
    "#     self.foreground.fill_text(str(house['A']),635,CENTER_Y - Y_OFFSET_TEXT)\n",
    "\n",
    "#     # Lower row of numbers for the houses\n",
    "#     self.foreground.fill_text(str(house['a']),135,CENTER_Y + Y_OFFSET_TEXT)\n",
    "#     self.foreground.fill_text(str(house['b']),235,CENTER_Y + Y_OFFSET_TEXT)\n",
    "#     self.foreground.fill_text(str(house['c']),335,CENTER_Y + Y_OFFSET_TEXT)\n",
    "#     self.foreground.fill_text(str(house['d']),435,CENTER_Y + Y_OFFSET_TEXT)\n",
    "#     self.foreground.fill_text(str(house['e']),535,CENTER_Y + Y_OFFSET_TEXT)\n",
    "#     self.foreground.fill_text(str(house['f']),635,CENTER_Y + Y_OFFSET_TEXT)\n",
    "\n",
    "#     foreground.fill_text(str(house['o']),730,175)\n",
    "#     foreground.fill_text(str(house['O']),40,175)\n",
    "    \n",
    "    #IPython.display.clear_output()\n",
    "    IPython.display.display(self.canvas)\n",
    "\n",
    "Board.draw = draw\n",
    "del draw"
   ]
  },
  {
   "cell_type": "code",
   "execution_count": 1027,
   "id": "c81700bf",
   "metadata": {},
   "outputs": [
    {
     "name": "stdout",
     "output_type": "stream",
     "text": [
      "35.065\n",
      "43.424\n"
     ]
    },
    {
     "data": {
      "application/vnd.jupyter.widget-view+json": {
       "model_id": "60486c7704094f91924609b56eef4c59",
       "version_major": 2,
       "version_minor": 0
      },
      "text/plain": [
       "MultiCanvas(height=350, width=800)"
      ]
     },
     "metadata": {},
     "output_type": "display_data"
    }
   ],
   "source": [
    "board = Board()\n",
    "board._drawSeeds(50,50,20,1)\n",
    "board.draw()"
   ]
  },
  {
   "cell_type": "code",
   "execution_count": null,
   "id": "b174719a",
   "metadata": {},
   "outputs": [],
   "source": []
  },
  {
   "cell_type": "code",
   "execution_count": null,
   "id": "aab6bff1",
   "metadata": {},
   "outputs": [],
   "source": []
  }
 ],
 "metadata": {
  "kernelspec": {
   "display_name": "Python 3 (ipykernel)",
   "language": "python",
   "name": "python3"
  },
  "language_info": {
   "codemirror_mode": {
    "name": "ipython",
    "version": 3
   },
   "file_extension": ".py",
   "mimetype": "text/x-python",
   "name": "python",
   "nbconvert_exporter": "python",
   "pygments_lexer": "ipython3",
   "version": "3.9.1"
  }
 },
 "nbformat": 4,
 "nbformat_minor": 5
}
