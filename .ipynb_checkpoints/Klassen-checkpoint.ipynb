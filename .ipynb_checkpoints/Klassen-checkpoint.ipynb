{
 "cells": [
  {
   "cell_type": "code",
   "execution_count": 336,
   "id": "81b7d70b",
   "metadata": {},
   "outputs": [],
   "source": [
    "from ipycanvas import Canvas"
   ]
  },
  {
   "cell_type": "code",
   "execution_count": 400,
   "id": "752379f2",
   "metadata": {},
   "outputs": [],
   "source": [
    "order = [('A','B','C','D','E','F','O'),\n",
    "         ('a','b','c','d','e','f','o')]\n",
    "letter_numbers = {'a':0, 'b':1, 'c':2, 'd':3, 'e':4, 'f':5 }"
   ]
  },
  {
   "cell_type": "markdown",
   "id": "c7f8087d",
   "metadata": {},
   "source": [
    "## Klasse \"Board\""
   ]
  },
  {
   "cell_type": "code",
   "execution_count": 352,
   "id": "9e2a82f2",
   "metadata": {},
   "outputs": [],
   "source": [
    "class Board:\n",
    "    \n",
    "    def __init__(self):\n",
    "        pass\n",
    "    \n",
    "    def _state_to_dict(self, state):\n",
    "        d = {}\n",
    "        for i in [0,1]:\n",
    "            for j in range(7):\n",
    "                d[order[i][j]] = state[i][j]\n",
    "        return d\n",
    "    \n",
    "    def draw(self, state):\n",
    "        troughes = self._state_to_dict(state)\n",
    "        \n",
    "        canvas = Canvas(width=800, height=350)\n",
    "\n",
    "        canvas.fill_style='brown'\n",
    "        canvas.fill_rect(0,0,canvas.width)\n",
    "\n",
    "\n",
    "        canvas.stroke_circles([((i)*100)+140 for i in range(6)],[75 for i in range(6)], 40)\n",
    "        canvas.stroke_circles([(i*100)+140 for i in range(6)],[255 for i in range(6)], 40)\n",
    "\n",
    "        canvas.stroke_rects([10,canvas.width-100],[85,85],[80,80],[180,180])\n",
    "\n",
    "        canvas.fill_style='white'\n",
    "        canvas.font = '32px serif'\n",
    "        canvas.fill_text(\"O\",40,70)\n",
    "        canvas.fill_text(\"F\",135,30)\n",
    "        canvas.fill_text(\"E\",230,30)\n",
    "        canvas.fill_text(\"D\",330,30)\n",
    "        canvas.fill_text(\"C\",430,30)\n",
    "        canvas.fill_text(\"B\",530,30)\n",
    "        canvas.fill_text(\"A\",630,30)\n",
    "        # ---------\n",
    "        canvas.fill_style = 'black'\n",
    "        canvas.fill_text(\"a\",135,320)\n",
    "        canvas.fill_text(\"b\",230,320)\n",
    "        canvas.fill_text(\"c\",330,320)\n",
    "        canvas.fill_text(\"d\",430,320)\n",
    "        canvas.fill_text(\"e\",530,320)\n",
    "        canvas.fill_text(\"f\",630,320)\n",
    "        canvas.fill_text(\"o\",730,290)\n",
    "\n",
    "        canvas.fill_style = 'black'\n",
    "        canvas.fill_text(str(troughes['F']),135,140)\n",
    "        canvas.fill_text(str(troughes['E']),230,140)\n",
    "\n",
    "        canvas.fill_text(str(troughes['D']),330,140)\n",
    "        canvas.fill_text(str(troughes['C']),430,140)\n",
    "        canvas.fill_text(str(troughes['B']),530,140)\n",
    "        canvas.fill_text(str(troughes['A']),630,140)\n",
    "\n",
    "        canvas.fill_text(str(troughes['a']),135,210)\n",
    "        canvas.fill_text(str(troughes['b']),230,210)\n",
    "        canvas.fill_text(str(troughes['c']),330,210)\n",
    "        canvas.fill_text(str(troughes['d']),430,210)\n",
    "        canvas.fill_text(str(troughes['e']),530,210)\n",
    "        canvas.fill_text(str(troughes['f']),630,210)\n",
    "\n",
    "        canvas.fill_text(str(troughes['o']),730,175)\n",
    "        canvas.fill_text(str(troughes['O']),40,175)\n",
    "\n",
    "        return canvas"
   ]
  },
  {
   "cell_type": "markdown",
   "id": "9406aa0d",
   "metadata": {},
   "source": [
    "# Klasse \"Player\""
   ]
  },
  {
   "cell_type": "code",
   "execution_count": 387,
   "id": "d8f3bc30",
   "metadata": {},
   "outputs": [],
   "source": [
    "class Player:\n",
    "    \n",
    "    def __init__(self, number, name):\n",
    "        if number in [0,1]:\n",
    "            self.number = number\n",
    "        else:\n",
    "            raise ValueError(\"Number of player must be 0 or 1!\")\n",
    "        if isinstance(name, str):\n",
    "            self.name = name\n",
    "        else:\n",
    "            raise ValueError(\"Name must be a string!\")\n",
    "    \n",
    "    # own troughes should always be first, \n",
    "    # but in game state troughes of player 0 are first\n",
    "    # -> if this is player 1: switch tuples in state\n",
    "    def _switch_view(self, state):\n",
    "        t1,t2 = state\n",
    "        if self.number == 1:\n",
    "            return [t2,t1]\n",
    "        else:\n",
    "            return [t1,t2]\n",
    "        \n",
    "    def _available_troughes(self, own_troughes):\n",
    "        available = []\n",
    "        for i in range(len(own_troughes)):\n",
    "            if own_troughes[i] != 0:\n",
    "                available.append(i)\n",
    "        return available\n",
    "        \n",
    "    def choose_trough(self, current_state):\n",
    "        pass"
   ]
  },
  {
   "cell_type": "markdown",
   "id": "f1d873b0",
   "metadata": {},
   "source": [
    "## Tests der Klasse \"Player\""
   ]
  },
  {
   "cell_type": "code",
   "execution_count": 371,
   "id": "5666d6d0",
   "metadata": {},
   "outputs": [
    {
     "ename": "ValueError",
     "evalue": "Number of player must be 0 or 1!",
     "output_type": "error",
     "traceback": [
      "\u001b[1;31m---------------------------------------------------------------------------\u001b[0m",
      "\u001b[1;31mValueError\u001b[0m                                Traceback (most recent call last)",
      "\u001b[1;32m~\\AppData\\Local\\Temp/ipykernel_19284/4009009648.py\u001b[0m in \u001b[0;36m<module>\u001b[1;34m\u001b[0m\n\u001b[1;32m----> 1\u001b[1;33m \u001b[0mPlayer\u001b[0m\u001b[1;33m(\u001b[0m\u001b[1;36m2\u001b[0m\u001b[1;33m,\u001b[0m \u001b[1;34m\"Player1\"\u001b[0m\u001b[1;33m)\u001b[0m\u001b[1;33m\u001b[0m\u001b[1;33m\u001b[0m\u001b[0m\n\u001b[0m",
      "\u001b[1;32m~\\AppData\\Local\\Temp/ipykernel_19284/1162876662.py\u001b[0m in \u001b[0;36m__init__\u001b[1;34m(self, number, name)\u001b[0m\n\u001b[0;32m      5\u001b[0m             \u001b[0mself\u001b[0m\u001b[1;33m.\u001b[0m\u001b[0mnumber\u001b[0m \u001b[1;33m=\u001b[0m \u001b[0mnumber\u001b[0m\u001b[1;33m\u001b[0m\u001b[1;33m\u001b[0m\u001b[0m\n\u001b[0;32m      6\u001b[0m         \u001b[1;32melse\u001b[0m\u001b[1;33m:\u001b[0m\u001b[1;33m\u001b[0m\u001b[1;33m\u001b[0m\u001b[0m\n\u001b[1;32m----> 7\u001b[1;33m             \u001b[1;32mraise\u001b[0m \u001b[0mValueError\u001b[0m\u001b[1;33m(\u001b[0m\u001b[1;34m\"Number of player must be 0 or 1!\"\u001b[0m\u001b[1;33m)\u001b[0m\u001b[1;33m\u001b[0m\u001b[1;33m\u001b[0m\u001b[0m\n\u001b[0m\u001b[0;32m      8\u001b[0m         \u001b[1;32mif\u001b[0m \u001b[0misinstance\u001b[0m\u001b[1;33m(\u001b[0m\u001b[0mname\u001b[0m\u001b[1;33m,\u001b[0m \u001b[0mstr\u001b[0m\u001b[1;33m)\u001b[0m\u001b[1;33m:\u001b[0m\u001b[1;33m\u001b[0m\u001b[1;33m\u001b[0m\u001b[0m\n\u001b[0;32m      9\u001b[0m             \u001b[0mself\u001b[0m\u001b[1;33m.\u001b[0m\u001b[0mname\u001b[0m \u001b[1;33m=\u001b[0m \u001b[0mname\u001b[0m\u001b[1;33m\u001b[0m\u001b[1;33m\u001b[0m\u001b[0m\n",
      "\u001b[1;31mValueError\u001b[0m: Number of player must be 0 or 1!"
     ]
    }
   ],
   "source": [
    "Player(2, \"Player1\")"
   ]
  },
  {
   "cell_type": "code",
   "execution_count": 372,
   "id": "558c3d29",
   "metadata": {},
   "outputs": [
    {
     "ename": "ValueError",
     "evalue": "Name must be a string!",
     "output_type": "error",
     "traceback": [
      "\u001b[1;31m---------------------------------------------------------------------------\u001b[0m",
      "\u001b[1;31mValueError\u001b[0m                                Traceback (most recent call last)",
      "\u001b[1;32m~\\AppData\\Local\\Temp/ipykernel_19284/2906016446.py\u001b[0m in \u001b[0;36m<module>\u001b[1;34m\u001b[0m\n\u001b[1;32m----> 1\u001b[1;33m \u001b[0mPlayer\u001b[0m\u001b[1;33m(\u001b[0m\u001b[1;36m0\u001b[0m\u001b[1;33m,\u001b[0m \u001b[1;36m3\u001b[0m\u001b[1;33m)\u001b[0m\u001b[1;33m\u001b[0m\u001b[1;33m\u001b[0m\u001b[0m\n\u001b[0m",
      "\u001b[1;32m~\\AppData\\Local\\Temp/ipykernel_19284/1162876662.py\u001b[0m in \u001b[0;36m__init__\u001b[1;34m(self, number, name)\u001b[0m\n\u001b[0;32m      9\u001b[0m             \u001b[0mself\u001b[0m\u001b[1;33m.\u001b[0m\u001b[0mname\u001b[0m \u001b[1;33m=\u001b[0m \u001b[0mname\u001b[0m\u001b[1;33m\u001b[0m\u001b[1;33m\u001b[0m\u001b[0m\n\u001b[0;32m     10\u001b[0m         \u001b[1;32melse\u001b[0m\u001b[1;33m:\u001b[0m\u001b[1;33m\u001b[0m\u001b[1;33m\u001b[0m\u001b[0m\n\u001b[1;32m---> 11\u001b[1;33m             \u001b[1;32mraise\u001b[0m \u001b[0mValueError\u001b[0m\u001b[1;33m(\u001b[0m\u001b[1;34m\"Name must be a string!\"\u001b[0m\u001b[1;33m)\u001b[0m\u001b[1;33m\u001b[0m\u001b[1;33m\u001b[0m\u001b[0m\n\u001b[0m\u001b[0;32m     12\u001b[0m \u001b[1;33m\u001b[0m\u001b[0m\n\u001b[0;32m     13\u001b[0m     \u001b[1;31m# own troughes should always be first,\u001b[0m\u001b[1;33m\u001b[0m\u001b[1;33m\u001b[0m\u001b[1;33m\u001b[0m\u001b[0m\n",
      "\u001b[1;31mValueError\u001b[0m: Name must be a string!"
     ]
    }
   ],
   "source": [
    "Player(0, 3)"
   ]
  },
  {
   "cell_type": "code",
   "execution_count": 373,
   "id": "a417fd3b",
   "metadata": {},
   "outputs": [
    {
     "data": {
      "text/plain": [
       "<__main__.Player at 0x27d39a11d90>"
      ]
     },
     "execution_count": 373,
     "metadata": {},
     "output_type": "execute_result"
    }
   ],
   "source": [
    "Player(0, \"Player1\")"
   ]
  },
  {
   "cell_type": "markdown",
   "id": "751e01d1",
   "metadata": {},
   "source": [
    "## Player-Klasse \"Human\""
   ]
  },
  {
   "cell_type": "code",
   "execution_count": 405,
   "id": "0c749716",
   "metadata": {},
   "outputs": [],
   "source": [
    "class Human(Player):\n",
    "    \n",
    "    def choose_trough(self, current_state):\n",
    "        current_state = self._switch_view(current_state)\n",
    "        own_t,safe = current_state[0][:6],current_state[0][6]\n",
    "        available = self._available_troughes(own_t)\n",
    "        \n",
    "        i_string = \"Choose one of the available troughes:\\n\"\n",
    "        for i in available:\n",
    "            i_string += f\"{order[self.number][i]}, \"\n",
    "        \n",
    "        choice_str = \"\"\n",
    "        while choice_str not in letter_numbers.keys():\n",
    "            choice_str = input(i_string[:-2]+\"\\n\").lower()\n",
    "        \n",
    "        choice = letter_numbers[choice_str]\n",
    "        return choice"
   ]
  },
  {
   "cell_type": "markdown",
   "id": "c155263e",
   "metadata": {},
   "source": [
    "### Tests der Player-Klasse \"Human\""
   ]
  },
  {
   "cell_type": "code",
   "execution_count": 410,
   "id": "a066763f",
   "metadata": {},
   "outputs": [],
   "source": [
    "human = Human(0,\"Hans\")"
   ]
  },
  {
   "cell_type": "code",
   "execution_count": 412,
   "id": "319edfa8",
   "metadata": {},
   "outputs": [
    {
     "name": "stdout",
     "output_type": "stream",
     "text": [
      "Choose one of the available troughes:\n",
      "A, B, C, D, E, F\n",
      "B\n"
     ]
    },
    {
     "data": {
      "text/plain": [
       "1"
      ]
     },
     "execution_count": 412,
     "metadata": {},
     "output_type": "execute_result"
    }
   ],
   "source": [
    "human.choose_trough([(6,6,6,6,6,6,0), (6,6,6,6,6,6,0)])"
   ]
  },
  {
   "cell_type": "markdown",
   "id": "eaf25d64",
   "metadata": {},
   "source": [
    "## Player-Klasse \"Random_KI\""
   ]
  },
  {
   "cell_type": "code",
   "execution_count": 450,
   "id": "08880b44",
   "metadata": {},
   "outputs": [],
   "source": [
    "import random as rn\n",
    "\n",
    "class Random_KI(Player):\n",
    "    \n",
    "    rn.seed(1)\n",
    "    \n",
    "    def choose_trough(self, current_state):\n",
    "        current_state = self._switch_view(current_state)\n",
    "        own_t,safe = current_state[0][:6],current_state[0][6]\n",
    "        available = self._available_troughes(own_t)\n",
    "        \n",
    "        choice = rn.choice(available)\n",
    "        \n",
    "        return choice"
   ]
  },
  {
   "cell_type": "markdown",
   "id": "762e47e4",
   "metadata": {},
   "source": [
    "### Tests der Player-Klasse \"Random_KI\""
   ]
  },
  {
   "cell_type": "code",
   "execution_count": 451,
   "id": "99633680",
   "metadata": {},
   "outputs": [],
   "source": [
    "ki = Random_KI(0,\"Rando\")"
   ]
  },
  {
   "cell_type": "code",
   "execution_count": 454,
   "id": "668663b9",
   "metadata": {},
   "outputs": [
    {
     "data": {
      "text/plain": [
       "0"
      ]
     },
     "execution_count": 454,
     "metadata": {},
     "output_type": "execute_result"
    }
   ],
   "source": [
    "ki.choose_trough([(6,6,6,6,6,6,0), (6,6,6,6,6,6,0)])"
   ]
  },
  {
   "cell_type": "markdown",
   "id": "62295b62",
   "metadata": {},
   "source": [
    "# Klasse \"Kalah_Game\""
   ]
  },
  {
   "cell_type": "code",
   "execution_count": 359,
   "id": "f940d517",
   "metadata": {},
   "outputs": [],
   "source": [
    "class Kalah_Game():\n",
    "    \n",
    "    state = [(6,6,6,6,6,6,0), (6,6,6,6,6,6,0)]\n",
    "    board = Board()\n",
    "    \n",
    "    def __init__(self, player):\n",
    "        if len(player) != 2:\n",
    "            raise ValueError(\"There must be exactly two players!\")\n",
    "        if not (isinstance(player[0], Player) and isinstance(player[1], Player)):\n",
    "            raise ValueError(\"Both players must be of type Player!\")\n",
    "        self.player = player\n",
    "        \n",
    "    def show_states(self):\n",
    "        s = f''\n",
    "        for i in [0,1]:\n",
    "            s += f'{self.player[i].name}:\\t\\t'\n",
    "            for j in range(7):\n",
    "                s += f'{order[i][j]}: {self.state[i][j]}  '\n",
    "            s += f'\\n'\n",
    "        print(s)\n",
    "    \n",
    "    def draw_board(self):\n",
    "        return self.board.draw(self.state)\n",
    "    \n",
    "    def _next_state(state, choice)\n",
    "    \n",
    "    def start(self):\n",
    "        \n",
    "        # only 2 turns right now\n",
    "        for turn in range(1):\n",
    "            "
   ]
  },
  {
   "cell_type": "markdown",
   "id": "c84c9bf9",
   "metadata": {},
   "source": [
    "## Tests der Klasse \"Kalah_Game\":"
   ]
  },
  {
   "cell_type": "code",
   "execution_count": 360,
   "id": "67f4431c",
   "metadata": {},
   "outputs": [
    {
     "ename": "ValueError",
     "evalue": "There must be exactly two players!",
     "output_type": "error",
     "traceback": [
      "\u001b[1;31m---------------------------------------------------------------------------\u001b[0m",
      "\u001b[1;31mValueError\u001b[0m                                Traceback (most recent call last)",
      "\u001b[1;32m~\\AppData\\Local\\Temp/ipykernel_19284/3821332541.py\u001b[0m in \u001b[0;36m<module>\u001b[1;34m\u001b[0m\n\u001b[1;32m----> 1\u001b[1;33m \u001b[0mgame\u001b[0m \u001b[1;33m=\u001b[0m \u001b[0mKalah_Game\u001b[0m\u001b[1;33m(\u001b[0m\u001b[1;33m[\u001b[0m\u001b[1;33m]\u001b[0m\u001b[1;33m)\u001b[0m\u001b[1;33m\u001b[0m\u001b[1;33m\u001b[0m\u001b[0m\n\u001b[0m",
      "\u001b[1;32m~\\AppData\\Local\\Temp/ipykernel_19284/2585547054.py\u001b[0m in \u001b[0;36m__init__\u001b[1;34m(self, player)\u001b[0m\n\u001b[0;32m      6\u001b[0m     \u001b[1;32mdef\u001b[0m \u001b[0m__init__\u001b[0m\u001b[1;33m(\u001b[0m\u001b[0mself\u001b[0m\u001b[1;33m,\u001b[0m \u001b[0mplayer\u001b[0m\u001b[1;33m)\u001b[0m\u001b[1;33m:\u001b[0m\u001b[1;33m\u001b[0m\u001b[1;33m\u001b[0m\u001b[0m\n\u001b[0;32m      7\u001b[0m         \u001b[1;32mif\u001b[0m \u001b[0mlen\u001b[0m\u001b[1;33m(\u001b[0m\u001b[0mplayer\u001b[0m\u001b[1;33m)\u001b[0m \u001b[1;33m!=\u001b[0m \u001b[1;36m2\u001b[0m\u001b[1;33m:\u001b[0m\u001b[1;33m\u001b[0m\u001b[1;33m\u001b[0m\u001b[0m\n\u001b[1;32m----> 8\u001b[1;33m             \u001b[1;32mraise\u001b[0m \u001b[0mValueError\u001b[0m\u001b[1;33m(\u001b[0m\u001b[1;34m\"There must be exactly two players!\"\u001b[0m\u001b[1;33m)\u001b[0m\u001b[1;33m\u001b[0m\u001b[1;33m\u001b[0m\u001b[0m\n\u001b[0m\u001b[0;32m      9\u001b[0m         \u001b[1;32mif\u001b[0m \u001b[1;32mnot\u001b[0m \u001b[1;33m(\u001b[0m\u001b[0misinstance\u001b[0m\u001b[1;33m(\u001b[0m\u001b[0mplayer\u001b[0m\u001b[1;33m[\u001b[0m\u001b[1;36m0\u001b[0m\u001b[1;33m]\u001b[0m\u001b[1;33m,\u001b[0m \u001b[0mPlayer\u001b[0m\u001b[1;33m)\u001b[0m \u001b[1;32mand\u001b[0m \u001b[0misinstance\u001b[0m\u001b[1;33m(\u001b[0m\u001b[0mplayer\u001b[0m\u001b[1;33m[\u001b[0m\u001b[1;36m1\u001b[0m\u001b[1;33m]\u001b[0m\u001b[1;33m,\u001b[0m \u001b[0mPlayer\u001b[0m\u001b[1;33m)\u001b[0m\u001b[1;33m)\u001b[0m\u001b[1;33m:\u001b[0m\u001b[1;33m\u001b[0m\u001b[1;33m\u001b[0m\u001b[0m\n\u001b[0;32m     10\u001b[0m             \u001b[1;32mraise\u001b[0m \u001b[0mValueError\u001b[0m\u001b[1;33m(\u001b[0m\u001b[1;34m\"Both players must be of type Player!\"\u001b[0m\u001b[1;33m)\u001b[0m\u001b[1;33m\u001b[0m\u001b[1;33m\u001b[0m\u001b[0m\n",
      "\u001b[1;31mValueError\u001b[0m: There must be exactly two players!"
     ]
    }
   ],
   "source": [
    "game = Kalah_Game([])"
   ]
  },
  {
   "cell_type": "code",
   "execution_count": 361,
   "id": "96269dc8",
   "metadata": {},
   "outputs": [
    {
     "ename": "ValueError",
     "evalue": "Both players must be of type Player!",
     "output_type": "error",
     "traceback": [
      "\u001b[1;31m---------------------------------------------------------------------------\u001b[0m",
      "\u001b[1;31mValueError\u001b[0m                                Traceback (most recent call last)",
      "\u001b[1;32m~\\AppData\\Local\\Temp/ipykernel_19284/3052538121.py\u001b[0m in \u001b[0;36m<module>\u001b[1;34m\u001b[0m\n\u001b[1;32m----> 1\u001b[1;33m \u001b[0mgame\u001b[0m \u001b[1;33m=\u001b[0m \u001b[0mKalah_Game\u001b[0m\u001b[1;33m(\u001b[0m\u001b[1;33m[\u001b[0m\u001b[1;36m1\u001b[0m\u001b[1;33m,\u001b[0m \u001b[1;36m2\u001b[0m\u001b[1;33m]\u001b[0m\u001b[1;33m)\u001b[0m\u001b[1;33m\u001b[0m\u001b[1;33m\u001b[0m\u001b[0m\n\u001b[0m",
      "\u001b[1;32m~\\AppData\\Local\\Temp/ipykernel_19284/2585547054.py\u001b[0m in \u001b[0;36m__init__\u001b[1;34m(self, player)\u001b[0m\n\u001b[0;32m      8\u001b[0m             \u001b[1;32mraise\u001b[0m \u001b[0mValueError\u001b[0m\u001b[1;33m(\u001b[0m\u001b[1;34m\"There must be exactly two players!\"\u001b[0m\u001b[1;33m)\u001b[0m\u001b[1;33m\u001b[0m\u001b[1;33m\u001b[0m\u001b[0m\n\u001b[0;32m      9\u001b[0m         \u001b[1;32mif\u001b[0m \u001b[1;32mnot\u001b[0m \u001b[1;33m(\u001b[0m\u001b[0misinstance\u001b[0m\u001b[1;33m(\u001b[0m\u001b[0mplayer\u001b[0m\u001b[1;33m[\u001b[0m\u001b[1;36m0\u001b[0m\u001b[1;33m]\u001b[0m\u001b[1;33m,\u001b[0m \u001b[0mPlayer\u001b[0m\u001b[1;33m)\u001b[0m \u001b[1;32mand\u001b[0m \u001b[0misinstance\u001b[0m\u001b[1;33m(\u001b[0m\u001b[0mplayer\u001b[0m\u001b[1;33m[\u001b[0m\u001b[1;36m1\u001b[0m\u001b[1;33m]\u001b[0m\u001b[1;33m,\u001b[0m \u001b[0mPlayer\u001b[0m\u001b[1;33m)\u001b[0m\u001b[1;33m)\u001b[0m\u001b[1;33m:\u001b[0m\u001b[1;33m\u001b[0m\u001b[1;33m\u001b[0m\u001b[0m\n\u001b[1;32m---> 10\u001b[1;33m             \u001b[1;32mraise\u001b[0m \u001b[0mValueError\u001b[0m\u001b[1;33m(\u001b[0m\u001b[1;34m\"Both players must be of type Player!\"\u001b[0m\u001b[1;33m)\u001b[0m\u001b[1;33m\u001b[0m\u001b[1;33m\u001b[0m\u001b[0m\n\u001b[0m\u001b[0;32m     11\u001b[0m         \u001b[0mself\u001b[0m\u001b[1;33m.\u001b[0m\u001b[0mplayer\u001b[0m \u001b[1;33m=\u001b[0m \u001b[0mplayer\u001b[0m\u001b[1;33m\u001b[0m\u001b[1;33m\u001b[0m\u001b[0m\n\u001b[0;32m     12\u001b[0m \u001b[1;33m\u001b[0m\u001b[0m\n",
      "\u001b[1;31mValueError\u001b[0m: Both players must be of type Player!"
     ]
    }
   ],
   "source": [
    "game = Kalah_Game([1, 2])"
   ]
  },
  {
   "cell_type": "code",
   "execution_count": 362,
   "id": "88b0deb6",
   "metadata": {},
   "outputs": [
    {
     "ename": "ValueError",
     "evalue": "Both players must be of type Player!",
     "output_type": "error",
     "traceback": [
      "\u001b[1;31m---------------------------------------------------------------------------\u001b[0m",
      "\u001b[1;31mValueError\u001b[0m                                Traceback (most recent call last)",
      "\u001b[1;32m~\\AppData\\Local\\Temp/ipykernel_19284/2296100084.py\u001b[0m in \u001b[0;36m<module>\u001b[1;34m\u001b[0m\n\u001b[1;32m----> 1\u001b[1;33m \u001b[0mgame\u001b[0m \u001b[1;33m=\u001b[0m \u001b[0mKalah_Game\u001b[0m\u001b[1;33m(\u001b[0m\u001b[1;33m[\u001b[0m\u001b[0mRandom_KI\u001b[0m\u001b[1;33m(\u001b[0m\u001b[1;36m0\u001b[0m\u001b[1;33m,\u001b[0m\u001b[1;34m\"KI\"\u001b[0m\u001b[1;33m)\u001b[0m\u001b[1;33m,\u001b[0m \u001b[0mHuman\u001b[0m\u001b[1;33m(\u001b[0m\u001b[1;36m1\u001b[0m\u001b[1;33m,\u001b[0m\u001b[1;34m\"Insa\"\u001b[0m\u001b[1;33m)\u001b[0m\u001b[1;33m]\u001b[0m\u001b[1;33m)\u001b[0m\u001b[1;33m\u001b[0m\u001b[1;33m\u001b[0m\u001b[0m\n\u001b[0m",
      "\u001b[1;32m~\\AppData\\Local\\Temp/ipykernel_19284/2585547054.py\u001b[0m in \u001b[0;36m__init__\u001b[1;34m(self, player)\u001b[0m\n\u001b[0;32m      8\u001b[0m             \u001b[1;32mraise\u001b[0m \u001b[0mValueError\u001b[0m\u001b[1;33m(\u001b[0m\u001b[1;34m\"There must be exactly two players!\"\u001b[0m\u001b[1;33m)\u001b[0m\u001b[1;33m\u001b[0m\u001b[1;33m\u001b[0m\u001b[0m\n\u001b[0;32m      9\u001b[0m         \u001b[1;32mif\u001b[0m \u001b[1;32mnot\u001b[0m \u001b[1;33m(\u001b[0m\u001b[0misinstance\u001b[0m\u001b[1;33m(\u001b[0m\u001b[0mplayer\u001b[0m\u001b[1;33m[\u001b[0m\u001b[1;36m0\u001b[0m\u001b[1;33m]\u001b[0m\u001b[1;33m,\u001b[0m \u001b[0mPlayer\u001b[0m\u001b[1;33m)\u001b[0m \u001b[1;32mand\u001b[0m \u001b[0misinstance\u001b[0m\u001b[1;33m(\u001b[0m\u001b[0mplayer\u001b[0m\u001b[1;33m[\u001b[0m\u001b[1;36m1\u001b[0m\u001b[1;33m]\u001b[0m\u001b[1;33m,\u001b[0m \u001b[0mPlayer\u001b[0m\u001b[1;33m)\u001b[0m\u001b[1;33m)\u001b[0m\u001b[1;33m:\u001b[0m\u001b[1;33m\u001b[0m\u001b[1;33m\u001b[0m\u001b[0m\n\u001b[1;32m---> 10\u001b[1;33m             \u001b[1;32mraise\u001b[0m \u001b[0mValueError\u001b[0m\u001b[1;33m(\u001b[0m\u001b[1;34m\"Both players must be of type Player!\"\u001b[0m\u001b[1;33m)\u001b[0m\u001b[1;33m\u001b[0m\u001b[1;33m\u001b[0m\u001b[0m\n\u001b[0m\u001b[0;32m     11\u001b[0m         \u001b[0mself\u001b[0m\u001b[1;33m.\u001b[0m\u001b[0mplayer\u001b[0m \u001b[1;33m=\u001b[0m \u001b[0mplayer\u001b[0m\u001b[1;33m\u001b[0m\u001b[1;33m\u001b[0m\u001b[0m\n\u001b[0;32m     12\u001b[0m \u001b[1;33m\u001b[0m\u001b[0m\n",
      "\u001b[1;31mValueError\u001b[0m: Both players must be of type Player!"
     ]
    }
   ],
   "source": [
    "game = Kalah_Game([Random_KI(0,\"KI\"), Human(1,\"Insa\")])"
   ]
  },
  {
   "cell_type": "code",
   "execution_count": 363,
   "id": "758c766d",
   "metadata": {},
   "outputs": [
    {
     "data": {
      "application/vnd.jupyter.widget-view+json": {
       "model_id": "f021ea5e8df249d5bb7b628035138386",
       "version_major": 2,
       "version_minor": 0
      },
      "text/plain": [
       "Canvas(height=350, width=800)"
      ]
     },
     "metadata": {},
     "output_type": "display_data"
    }
   ],
   "source": [
    "game.draw_board()"
   ]
  },
  {
   "cell_type": "code",
   "execution_count": 323,
   "id": "493fd8d3",
   "metadata": {},
   "outputs": [
    {
     "name": "stdout",
     "output_type": "stream",
     "text": [
      "Insa:\t\tA: 6  B: 6  C: 6  D: 6  E: 6  F: 6  O: 0  \n",
      "KI:\t\ta: 6  b: 6  c: 6  d: 6  e: 6  f: 6  o: 0  \n",
      "\n"
     ]
    }
   ],
   "source": [
    "game.show_states()"
   ]
  },
  {
   "cell_type": "code",
   "execution_count": null,
   "id": "82b858ce",
   "metadata": {},
   "outputs": [],
   "source": []
  },
  {
   "cell_type": "code",
   "execution_count": null,
   "id": "a07236eb",
   "metadata": {},
   "outputs": [],
   "source": []
  }
 ],
 "metadata": {
  "kernelspec": {
   "display_name": "Python 3 (ipykernel)",
   "language": "python",
   "name": "python3"
  },
  "language_info": {
   "codemirror_mode": {
    "name": "ipython",
    "version": 3
   },
   "file_extension": ".py",
   "mimetype": "text/x-python",
   "name": "python",
   "nbconvert_exporter": "python",
   "pygments_lexer": "ipython3",
   "version": "3.8.12"
  }
 },
 "nbformat": 4,
 "nbformat_minor": 5
}
