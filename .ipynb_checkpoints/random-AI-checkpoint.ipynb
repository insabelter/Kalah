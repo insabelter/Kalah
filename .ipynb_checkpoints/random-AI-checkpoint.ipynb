{
 "cells": [
  {
   "cell_type": "code",
   "execution_count": 1,
   "metadata": {},
   "outputs": [],
   "source": [
    "from ipycanvas import Canvas"
   ]
  },
  {
   "cell_type": "code",
   "execution_count": 2,
   "metadata": {},
   "outputs": [
    {
     "data": {
      "application/vnd.jupyter.widget-view+json": {
       "model_id": "aeb91da7c3fa4a9b85dc7e139bbd5c2a",
       "version_major": 2,
       "version_minor": 0
      },
      "text/plain": [
       "Canvas(height=200, width=200)"
      ]
     },
     "metadata": {},
     "output_type": "display_data"
    }
   ],
   "source": [
    "# Making the Canvas\n",
    "canvas = Canvas(width=200, height=200)\n",
    "\n",
    "canvas.fill_rect(62.5,62.5,25)\n",
    "#canvas.clear_rect(45,45,60,60)\n",
    "canvas.stroke_rect(50,50,50,50)\n",
    "\n",
    "canvas"
   ]
  },
  {
   "cell_type": "code",
   "execution_count": 3,
   "metadata": {},
   "outputs": [],
   "source": [
    "def drawStones(canvas,x,y):\n",
    "    oldStyle = canvas.fill_style # save this to revert later\n",
    "    canvas.fill_style = 'blue'\n",
    "    canvas.fill_circles([x-15,x+15,x],[y-10,y-10,y+10],[10,10,10])\n",
    "    canvas.fill_style = oldStyle"
   ]
  },
  {
   "cell_type": "code",
   "execution_count": 4,
   "metadata": {
    "scrolled": false
   },
   "outputs": [
    {
     "data": {
      "application/vnd.jupyter.widget-view+json": {
       "model_id": "60632132123145839bcb4eccffda560e",
       "version_major": 2,
       "version_minor": 0
      },
      "text/plain": [
       "Canvas(height=300, width=800)"
      ]
     },
     "metadata": {},
     "output_type": "display_data"
    }
   ],
   "source": [
    "# First attempt at board\n",
    "# Image for reference: http://www.iggamecenter.com/images/info/kalah/2.jpg\n",
    "\n",
    "canvas = Canvas(width=800, height=300)\n",
    "\n",
    "canvas.fill_style='brown'\n",
    "canvas.fill_rect(0,0,canvas.width)\n",
    "\n",
    "\n",
    "canvas.stroke_circles([((i)*100)+140 for i in range(6)],[80for i in range(6)], 40)\n",
    "canvas.stroke_circles([(i*100)+140 for i in range(6)],[200 for i in range(6)], 40)\n",
    "\n",
    "canvas.stroke_rects([10,canvas.width-100],[50,50],[80,80],[180,180])\n",
    "\n",
    "canvas.fill_style='white'\n",
    "canvas.font = '32px serif'\n",
    "canvas.fill_text(\"O\",40,30)\n",
    "canvas.fill_text(\"F\",135,30)\n",
    "canvas.fill_text(\"E\",230,30)\n",
    "canvas.fill_text(\"D\",330,30)\n",
    "canvas.fill_text(\"C\",430,30)\n",
    "canvas.fill_text(\"B\",530,30)\n",
    "canvas.fill_text(\"A\",630,30)\n",
    "# ---------\n",
    "canvas.fill_style = 'black'\n",
    "canvas.fill_text(\"a\",135,275)\n",
    "canvas.fill_text(\"b\",230,275)\n",
    "canvas.fill_text(\"c\",330,275)\n",
    "canvas.fill_text(\"d\",430,275)\n",
    "canvas.fill_text(\"e\",530,275)\n",
    "canvas.fill_text(\"f\",630,275)\n",
    "canvas.fill_text(\"o\",730,275)\n",
    "\n",
    "drawStones(canvas,140,85)\n",
    "canvas"
   ]
  },
  {
   "cell_type": "code",
   "execution_count": 5,
   "metadata": {},
   "outputs": [
    {
     "data": {
      "application/vnd.jupyter.widget-view+json": {
       "model_id": "4ff2d59f42a947e29f16ae740294532e",
       "version_major": 2,
       "version_minor": 0
      },
      "text/plain": [
       "Canvas(height=350, width=800)"
      ]
     },
     "metadata": {},
     "output_type": "display_data"
    }
   ],
   "source": [
    "# Start state (six stones in each circle)\n",
    "# a-b-c-d-e-f-o-A-B-C-D-E-F-O\n",
    "\n",
    "def drawBoard(troughes):\n",
    "    canvas = Canvas(width=800, height=350)\n",
    "\n",
    "    canvas.fill_style='brown'\n",
    "    canvas.fill_rect(0,0,canvas.width)\n",
    "\n",
    "\n",
    "    canvas.stroke_circles([((i)*100)+140 for i in range(6)],[75 for i in range(6)], 40)\n",
    "    canvas.stroke_circles([(i*100)+140 for i in range(6)],[255 for i in range(6)], 40)\n",
    "\n",
    "    canvas.stroke_rects([10,canvas.width-100],[85,85],[80,80],[180,180])\n",
    "\n",
    "    canvas.fill_style='white'\n",
    "    canvas.font = '32px serif'\n",
    "    canvas.fill_text(\"O\",40,70)\n",
    "    canvas.fill_text(\"F\",135,30)\n",
    "    canvas.fill_text(\"E\",230,30)\n",
    "    canvas.fill_text(\"D\",330,30)\n",
    "    canvas.fill_text(\"C\",430,30)\n",
    "    canvas.fill_text(\"B\",530,30)\n",
    "    canvas.fill_text(\"A\",630,30)\n",
    "    # ---------\n",
    "    canvas.fill_style = 'black'\n",
    "    canvas.fill_text(\"a\",135,320)\n",
    "    canvas.fill_text(\"b\",230,320)\n",
    "    canvas.fill_text(\"c\",330,320)\n",
    "    canvas.fill_text(\"d\",430,320)\n",
    "    canvas.fill_text(\"e\",530,320)\n",
    "    canvas.fill_text(\"f\",630,320)\n",
    "    canvas.fill_text(\"o\",730,290)\n",
    "\n",
    "    canvas.fill_style = 'black'\n",
    "    canvas.fill_text(str(troughes['F']),135,140)\n",
    "    canvas.fill_text(str(troughes['E']),230,140)\n",
    "    \n",
    "    canvas.fill_text(str(troughes['D']),330,140)\n",
    "    canvas.fill_text(str(troughes['C']),430,140)\n",
    "    canvas.fill_text(str(troughes['B']),530,140)\n",
    "    canvas.fill_text(str(troughes['A']),630,140)\n",
    "    \n",
    "    canvas.fill_text(str(troughes['a']),135,210)\n",
    "    canvas.fill_text(str(troughes['b']),230,210)\n",
    "    canvas.fill_text(str(troughes['c']),330,210)\n",
    "    canvas.fill_text(str(troughes['d']),430,210)\n",
    "    canvas.fill_text(str(troughes['e']),530,210)\n",
    "    canvas.fill_text(str(troughes['f']),630,210)\n",
    "    \n",
    "    \n",
    "    canvas.fill_text(str(troughes['o']),730,175)\n",
    "    canvas.fill_text(str(troughes['O']),40,175)\n",
    "    \n",
    "    return canvas\n",
    "\n",
    "\n",
    "troughes = {'a':6,'b':6,'c':6,'d':6,'e':6,'f':6,'o':0,\n",
    "           'A':6,'B':6,'C':6,'D':6,'E':6,'F':6,'O':0}\n",
    "drawBoard(troughes)"
   ]
  },
  {
   "cell_type": "code",
   "execution_count": 6,
   "metadata": {},
   "outputs": [
    {
     "name": "stdout",
     "output_type": "stream",
     "text": [
      "0\n"
     ]
    },
    {
     "data": {
      "application/vnd.jupyter.widget-view+json": {
       "model_id": "0e8e2aee4e644b42b7cc278c273d4b35",
       "version_major": 2,
       "version_minor": 0
      },
      "text/plain": [
       "Canvas(height=350, width=800)"
      ]
     },
     "metadata": {},
     "output_type": "display_data"
    }
   ],
   "source": [
    "import random as rnd\n",
    "\n",
    "troughes = {'a':6,'b':6,'c':6,'d':6,'e':6,'f':6,'o':0,\n",
    "           'A':6,'B':6,'C':6,'D':6,'E':6,'F':6,'O':0}\n",
    "order = ['A','B','C','D','E','F','O',\n",
    "        'a','b','c','d','e','f','o']\n",
    "\n",
    "# AI turn\n",
    "\n",
    "rndnumber = rnd.random() * 5\n",
    "rndnumber = round(rndnumber,0)\n",
    "rndnumber = int(rndnumber)\n",
    "# verkürztes array oder so\n",
    "rolledletter = order[rndnumber]\n",
    "value = order.index(rolledletter)\n",
    "print(order.index(order[rndnumber]))\n",
    "stones = troughes[order[rndnumber]]\n",
    "troughes[order[rndnumber]] = 0\n",
    "for i in range(1,stones+1):\n",
    "    if((rndnumber + i) == 13):\n",
    "        i -= 1\n",
    "        continue\n",
    "    troughes[order[rndnumber + i]] += 1\n",
    "    \n",
    "    \n",
    "#input(\"Which trough do you pick?\")\n",
    "drawBoard(troughes)"
   ]
  },
  {
   "cell_type": "markdown",
   "metadata": {},
   "source": [
    "### Movemethode für beide Spieler\n",
    "Nimmt das ausgewählte Feld des Spielers und das aktuelle Dictionary, also den aktuellen Spielstand als Eingabeparameter.\n",
    "Ausgabe ist der neue Spielstand."
   ]
  },
  {
   "cell_type": "code",
   "execution_count": 9,
   "metadata": {},
   "outputs": [],
   "source": [
    "def move(field, troughes):\n",
    "    \n",
    "    order = ['A','B','C','D','E','F','O',\n",
    "             'a','b','c','d','e','f','o']\n",
    "    \n",
    "    #in Zukunft leeres Feld wählen abfangen\n",
    "    #if(troughes[field] != 0):\n",
    "    stones = troughes[field]\n",
    "    troughes[field] = 0\n",
    "   \n",
    "        \n",
    "    for j in range(0, len(order)):\n",
    "        if(order[j] == field):\n",
    "            value = j \n",
    "    for i in range(1,stones+1):\n",
    "        if((value < 7 and (value + i) == 13) or (value > 6 and value + i < 14 and order[value + i] == \"O\")):\n",
    "            currentplace = value + i + 1\n",
    "        elif(value + i > 13):\n",
    "            currentplace = (value + i) % 14\n",
    "        else:\n",
    "            currentplace = value + i\n",
    "        troughes[order[currentplace]] += 1\n",
    "    print(troughes)    \n",
    "    return troughes"
   ]
  },
  {
   "cell_type": "markdown",
   "metadata": {},
   "source": [
    "### Erster Entwurf zum spielen\n",
    "Abwechselnd führen die KI und der Spieler ihren Spielzug aus.\n",
    "\n",
    "Die KI wählt mit der random Funktion ein Feld aus und im Anschluss wird mit der move Funktion der neue Spielstand erstellt.\n",
    "\n",
    "Der Spieler wählt per Input sein Feld aus und im Anschluss wird mit der move Funktion der neue Spielstand erstellt."
   ]
  },
  {
   "cell_type": "code",
   "execution_count": 8,
   "metadata": {},
   "outputs": [
    {
     "name": "stdout",
     "output_type": "stream",
     "text": [
      "B\n",
      "{'A': 6, 'B': 0, 'C': 7, 'D': 7, 'E': 7, 'F': 7, 'O': 1, 'a': 7, 'b': 6, 'c': 6, 'd': 6, 'e': 6, 'f': 6, 'o': 0}\n",
      "Which trough do you pick? (Choose between a, b, c, d, e, f): a\n",
      "{'A': 7, 'B': 0, 'C': 7, 'D': 7, 'E': 7, 'F': 7, 'O': 1, 'a': 0, 'b': 7, 'c': 7, 'd': 7, 'e': 7, 'f': 7, 'o': 1}\n",
      "E\n",
      "{'A': 7, 'B': 0, 'C': 7, 'D': 7, 'E': 0, 'F': 8, 'O': 2, 'a': 1, 'b': 8, 'c': 8, 'd': 8, 'e': 8, 'f': 7, 'o': 1}\n",
      "Which trough do you pick? (Choose between a, b, c, d, e, f): b\n",
      "{'A': 8, 'B': 1, 'C': 8, 'D': 7, 'E': 0, 'F': 8, 'O': 2, 'a': 1, 'b': 0, 'c': 9, 'd': 9, 'e': 9, 'f': 8, 'o': 2}\n",
      "C\n",
      "{'A': 8, 'B': 1, 'C': 0, 'D': 8, 'E': 1, 'F': 9, 'O': 3, 'a': 2, 'b': 1, 'c': 10, 'd': 10, 'e': 9, 'f': 8, 'o': 2}\n",
      "Which trough do you pick? (Choose between a, b, c, d, e, f): c\n",
      "{'A': 9, 'B': 2, 'C': 1, 'D': 9, 'E': 2, 'F': 10, 'O': 3, 'a': 2, 'b': 1, 'c': 0, 'd': 11, 'e': 10, 'f': 9, 'o': 3}\n"
     ]
    },
    {
     "data": {
      "application/vnd.jupyter.widget-view+json": {
       "model_id": "00f0194d6fc140128bbbf1287441a64d",
       "version_major": 2,
       "version_minor": 0
      },
      "text/plain": [
       "Canvas(height=350, width=800)"
      ]
     },
     "metadata": {},
     "output_type": "display_data"
    }
   ],
   "source": [
    "import random as rnd\n",
    "\n",
    "troughes = {'A':6,'B':6,'C':6,'D':6,'E':6,'F':6,'O':0,\n",
    "            'a':6,'b':6,'c':6,'d':6,'e':6,'f':6,'o':0}\n",
    "\n",
    "order = ['A','B','C','D','E','F','O',\n",
    "         'a','b','c','d','e','f','o']\n",
    "\n",
    "end = False\n",
    "player = \"B\"\n",
    "test = 0 \n",
    "\n",
    "while(end <=5):\n",
    "    \n",
    "    if(player == \"B\"):\n",
    "        \n",
    "        rndnumber = rnd.random() * 5\n",
    "        rndnumber = round(rndnumber,0)\n",
    "        rndnumber = int(rndnumber)\n",
    "        \n",
    "        print(order[rndnumber])\n",
    "        \n",
    "        troughes = move(order[rndnumber], troughes)\n",
    "        \n",
    "    elif(player == \"S\"):\n",
    "        \n",
    "        field = input(\"Which trough do you pick? (Choose between a, b, c, d, e, f): \")\n",
    "        troughes = move(field, troughes)\n",
    "    \n",
    "    if(player == \"B\"):\n",
    "        player = \"S\"\n",
    "    elif(player == \"S\"):\n",
    "        player = \"B\"\n",
    "        \n",
    "    end += 1\n",
    "    \n",
    "drawBoard(troughes)\n"
   ]
  },
  {
   "cell_type": "code",
   "execution_count": null,
   "metadata": {},
   "outputs": [],
   "source": []
  }
 ],
 "metadata": {
  "kernelspec": {
   "display_name": "Python 3",
   "language": "python",
   "name": "python3"
  },
  "language_info": {
   "codemirror_mode": {
    "name": "ipython",
    "version": 3
   },
   "file_extension": ".py",
   "mimetype": "text/x-python",
   "name": "python",
   "nbconvert_exporter": "python",
   "pygments_lexer": "ipython3",
   "version": "3.7.4"
  }
 },
 "nbformat": 4,
 "nbformat_minor": 5
}
