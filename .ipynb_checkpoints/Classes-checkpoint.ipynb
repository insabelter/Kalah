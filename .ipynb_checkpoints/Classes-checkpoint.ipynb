{
 "cells": [
  {
   "cell_type": "markdown",
   "id": "b8c4dac5",
   "metadata": {},
   "source": [
    "# Classes\n",
    "\n",
    "The Kalah game is implemented with the use of several classes, containing base class **Kalah_Game**, a **Board** class for displaying the UI and a **Player** class as well as several classes inheriting from this **Player** class:\n",
    "\n",
    "- **Human**\n",
    "- **Random_KI**\n",
    "\n",
    "The following illustration shows a class diagram of all classes involved:\n",
    "\n",
    "<img src=\"Kalah_Class_Diagram.png\" alt=\"Kalah_Class_Diagram\" width=\"600\"/>\n",
    "\n",
    "This image was created with [Creatly](https://creately.com/)."
   ]
  },
  {
   "cell_type": "markdown",
   "id": "7db22f8c",
   "metadata": {},
   "source": [
    "## Global Variables\n",
    "\n",
    "Additionally to the classes, there are two global variables with the purpose to help converting the state of the game board, which is represented by a nested list, to letters. The letter representation is mainly for the UI, but also distributes to print and logging messages being easier to humanly comprehend."
   ]
  },
  {
   "cell_type": "code",
   "execution_count": 86,
   "id": "38edbd9a",
   "metadata": {},
   "outputs": [],
   "source": [
    "order = [['A','B','C','D','E','F','O'],\n",
    "         ['a','b','c','d','e','f','o']]\n",
    "letter_numbers = {'a':0, 'b':1, 'c':2, 'd':3, 'e':4, 'f':5 }"
   ]
  },
  {
   "cell_type": "markdown",
   "id": "b9b7b649",
   "metadata": {},
   "source": [
    "## Board Class\n",
    "\n",
    "The class **Board** has the purpose to create the game UI by drawing a Kalah board if requested.\n",
    "\n",
    "#### Methods:\n",
    "\n",
    "- *_state_to_dict(state)*\n",
    "- *draw(state)*\n",
    "- *drawBackground*\n",
    "\n",
    "### _state_to_dict\n",
    "\n",
    "The private method **_state_to_dict** takes a board state in form of a nested list and transforms it into a dictionary with the letter representation of the troughes as keys and the trough values from the list as values. This representation is only needed for the draw function.\n",
    "\n",
    "### draw\n",
    "\n",
    "The method **draw** takes a board state and creates an illustration of the Kalah board by using the library <tt>ipycanvas</tt>. \n",
    "\n",
    "### _drawBackground\n",
    "\n",
    "The private method **drawBackground** takes no parameters and draws the base for the game board. Since we are using a Multi-layered Canvas we use this function to draw the basic board as a background on the lowest layer of the MultiCanvas. This enables us to avoid redrawing the entirety of the board after every change and instead only redraw elements that are subject to change."
   ]
  },
  {
   "cell_type": "code",
   "execution_count": 176,
   "id": "6fa46117",
   "metadata": {},
   "outputs": [],
   "source": [
    "from ipycanvas import Canvas\n",
    "from ipycanvas import MultiCanvas"
   ]
  },
  {
   "cell_type": "code",
   "execution_count": 207,
   "id": "1b493ccf",
   "metadata": {},
   "outputs": [],
   "source": [
    "class Board:\n",
    "    multi_canvas = MultiCanvas(width=800, height=350)\n",
    "    \n",
    "    def __init__(self):\n",
    "        \n",
    "        self._drawBackground()\n",
    "    \n",
    "    def _state_to_dict(self, state):\n",
    "        d = {}\n",
    "        for i in [0,1]:\n",
    "            for j in range(7):\n",
    "                d[order[i][j]] = state[i][j]\n",
    "        return d\n",
    "    \n",
    "    def _drawBackground(self):\n",
    "        self.multi_canvas[0]\n",
    "        self.multi_canvas[0].fill_style='brown'\n",
    "        self.multi_canvas[0].fill_rect(0,0,self.multi_canvas.width)\n",
    "\n",
    "        self.multi_canvas[0].stroke_circles([((i)*100)+145 for i in range(6)],[75 for i in range(6)], 40)\n",
    "        self.multi_canvas[0].stroke_circles([(i*100)+145 for i in range(6)],[255 for i in range(6)], 40)\n",
    "\n",
    "        self.multi_canvas[0].stroke_rects([10,self.multi_canvas.width-100],[85,85],[80,80],[180,180])\n",
    "\n",
    "        self.multi_canvas[0].fill_style='white'\n",
    "        self.multi_canvas[0].font = '32px serif'\n",
    "        self.multi_canvas[0].fill_text(\"O\",40,70)\n",
    "        self.multi_canvas[0].fill_text(\"F\",135,30)\n",
    "        self.multi_canvas[0].fill_text(\"E\",235,30)\n",
    "        self.multi_canvas[0].fill_text(\"D\",335,30)\n",
    "        self.multi_canvas[0].fill_text(\"C\",435,30)\n",
    "        self.multi_canvas[0].fill_text(\"B\",535,30)\n",
    "        self.multi_canvas[0].fill_text(\"A\",635,30)\n",
    "        # ---------\n",
    "        self.multi_canvas[0].fill_style = 'black'\n",
    "        self.multi_canvas[0].fill_text(\"a\",135,320)\n",
    "        self.multi_canvas[0].fill_text(\"b\",235,320)\n",
    "        self.multi_canvas[0].fill_text(\"c\",335,320)\n",
    "        self.multi_canvas[0].fill_text(\"d\",435,320)\n",
    "        self.multi_canvas[0].fill_text(\"e\",535,320)\n",
    "        self.multi_canvas[0].fill_text(\"f\",635,320)\n",
    "        self.multi_canvas[0].fill_text(\"o\",735,290)\n",
    "    \n",
    "    def draw(self, state):\n",
    "        troughes = self._state_to_dict(state)\n",
    "        self.multi_canvas[1].font = '32px serif'\n",
    "        self.multi_canvas[1].fill_style = 'black'\n",
    "        \n",
    "        self.multi_canvas[1].fill_text(str(troughes['F']),135,140)\n",
    "        self.multi_canvas[1].fill_text(str(troughes['E']),235,140)\n",
    "\n",
    "        self.multi_canvas[1].fill_text(str(troughes['D']),335,140)\n",
    "        self.multi_canvas[1].fill_text(str(troughes['C']),435,140)\n",
    "        self.multi_canvas[1].fill_text(str(troughes['B']),535,140)\n",
    "        self.multi_canvas[1].fill_text(str(troughes['A']),635,140)\n",
    "\n",
    "        self.multi_canvas[1].fill_text(str(troughes['a']),135,210)\n",
    "        self.multi_canvas[1].fill_text(str(troughes['b']),235,210)\n",
    "        self.multi_canvas[1].fill_text(str(troughes['c']),335,210)\n",
    "        self.multi_canvas[1].fill_text(str(troughes['d']),435,210)\n",
    "        self.multi_canvas[1].fill_text(str(troughes['e']),535,210)\n",
    "        self.multi_canvas[1].fill_text(str(troughes['f']),635,210)\n",
    "\n",
    "        self.multi_canvas[1].fill_text(str(troughes['o']),730,175)\n",
    "        self.multi_canvas[1].fill_text(str(troughes['O']),40,175)\n",
    "\n",
    "        return self.multi_canvas"
   ]
  },
  {
   "cell_type": "code",
   "execution_count": 208,
   "id": "438df691",
   "metadata": {},
   "outputs": [
    {
     "data": {
      "application/vnd.jupyter.widget-view+json": {
       "model_id": "7ffc12d910da4c24b774cc7d73463a43",
       "version_major": 2,
       "version_minor": 0
      },
      "text/plain": [
       "MultiCanvas(height=350, width=800)"
      ]
     },
     "metadata": {},
     "output_type": "display_data"
    }
   ],
   "source": [
    "Board().draw([(1,6,8,0,20,6,17), (0,0,4,18,2,1,3)])"
   ]
  },
  {
   "cell_type": "markdown",
   "id": "d6c39e21",
   "metadata": {},
   "source": [
    "# Player Class\n",
    "\n",
    "The class **Player** is the superclass which represents a Kalah game player. In Kalah there are exactly two players which compete against each other. \n",
    "\n",
    "#### Attributes:\n",
    "- *number*\n",
    "- *name*\n",
    "\n",
    "The attribute *number* of a player has either the value 0 or 1 depending on the order in which the players take their turns. Additionally, *number* represents the index of the state list which contains the player's list of trough values.\n",
    "\n",
    "The attribute *name* is a string which represents the player's name in the UI or print and logging messages.\n",
    "\n",
    "#### Methods:\n",
    "\n",
    "- *\\_\\_init__(number, name)*\n",
    "- *\\_\\_str__()*\n",
    "- *_available_troughes(own_troughes)*\n",
    "- *choose_trough(current_state)*\n",
    "\n",
    "The method *\\_\\_init__(number, name)* initializes the **Player** object and checks if the given *number* is either 0 or 1 and if the given *name* is a string. If one of these criteria is not met, an error message is raised.\n",
    "\n",
    "The method *\\_\\_str__()* defines the *name* of the **Player** object as their string representative for print messages.\n",
    "\n",
    "The private method *_available_troughes(own_troughes)* receives a list which represents the player's troughes and their store. The method returns a list with the indizes of all troughes which contain at least one seed (list indizes with a value higher than null).\n",
    "\n",
    "The method *choose_trough(current_state)* receives the current state of the Kalah board and returns the index of the chosen trough from the player's trough list. This method differentiates the **Player** subclasses and is therefore differently implemented in each of them. There is no basic implementation of this method in the **Player** class. This is why in the class **Kalah_Game** only subclasses of **Player** are accepted as players. Therefore, this class is intended as an abstract class."
   ]
  },
  {
   "cell_type": "code",
   "execution_count": 90,
   "id": "e3a8a422",
   "metadata": {},
   "outputs": [],
   "source": [
    "class Player:\n",
    "    \n",
    "    def __init__(self, number, name):\n",
    "        if number in [0,1]:\n",
    "            self.number = number\n",
    "        else:\n",
    "            raise ValueError(\"Number of player must be 0 or 1!\")\n",
    "        if isinstance(name, str):\n",
    "            self.name = name\n",
    "        else:\n",
    "            raise ValueError(\"Name must be a string!\")\n",
    "            \n",
    "    def __str__(self):\n",
    "        return self.name\n",
    "        \n",
    "    def _available_troughes(self, own_troughes):\n",
    "        available = []\n",
    "        for i in range(len(own_troughes)):\n",
    "            if own_troughes[i] != 0:\n",
    "                available.append(i)\n",
    "        return available\n",
    "        \n",
    "    def choose_trough(self, current_state):\n",
    "        pass"
   ]
  },
  {
   "cell_type": "markdown",
   "id": "ccfac334",
   "metadata": {},
   "source": [
    "## Tests of Player Class"
   ]
  },
  {
   "cell_type": "markdown",
   "id": "1c0b1f48",
   "metadata": {},
   "source": [
    "### 1. Player number must be 0 or 1"
   ]
  },
  {
   "cell_type": "code",
   "execution_count": 91,
   "id": "2cc5995b",
   "metadata": {},
   "outputs": [
    {
     "name": "stdout",
     "output_type": "stream",
     "text": [
      "Number of player must be 0 or 1!\n"
     ]
    }
   ],
   "source": [
    "try:\n",
    "    Player(2, \"Player1\")\n",
    "except ValueError as e:\n",
    "    print(e)"
   ]
  },
  {
   "cell_type": "markdown",
   "id": "5e2ec533",
   "metadata": {},
   "source": [
    "### 2. Player name must be a string"
   ]
  },
  {
   "cell_type": "code",
   "execution_count": 92,
   "id": "cdf8b0a1",
   "metadata": {},
   "outputs": [
    {
     "name": "stdout",
     "output_type": "stream",
     "text": [
      "Name must be a string!\n"
     ]
    }
   ],
   "source": [
    "try:\n",
    "    Player(0, 3)\n",
    "except ValueError as e:\n",
    "    print(e)"
   ]
  },
  {
   "cell_type": "markdown",
   "id": "a85186a6",
   "metadata": {},
   "source": [
    "### 3. Successful Player creation"
   ]
  },
  {
   "cell_type": "code",
   "execution_count": 93,
   "id": "2197ba2a",
   "metadata": {},
   "outputs": [
    {
     "data": {
      "text/plain": [
       "<__main__.Player at 0x17b41885700>"
      ]
     },
     "execution_count": 93,
     "metadata": {},
     "output_type": "execute_result"
    }
   ],
   "source": [
    "Player(0, \"Player1\")"
   ]
  },
  {
   "cell_type": "markdown",
   "id": "a2f72827",
   "metadata": {},
   "source": [
    "## Human Player Class\n",
    "\n",
    "The class **Human** inherits from **Player**.\n",
    "It is used for humans playing against each other or against one of the KIs. \n",
    "\n",
    "The method *choose_trough(current_state)* is implemented as follows:\n",
    "\n",
    "At first the own troughes are extracted from the game state and the available trough indizes are calculated using the method *_available_troughes*. Afterwards the human player is asked to choose one of the available troughes via a input field. With limiting the player to the available troughes, it is easier to detect a correct input. If the player enters an unvalid value, they are asked to input a value again until a valid value is given. The index of the corresponding trough is returned."
   ]
  },
  {
   "cell_type": "code",
   "execution_count": 94,
   "id": "0f094145",
   "metadata": {},
   "outputs": [],
   "source": [
    "class Human(Player):\n",
    "    \n",
    "    def choose_trough(self, current_state):\n",
    "        own_t,store = current_state[number][:6],current_state[number][6]\n",
    "        available = self._available_troughes(own_t)\n",
    "        \n",
    "        i_string = \"Choose one of the available troughes:\\n\"\n",
    "        for i in available:\n",
    "            i_string += f\"{order[number][i]}, \"\n",
    "        \n",
    "        choice_str = \"\"\n",
    "        while choice_str not in [k for k in letter_numbers if letter_numbers[k] in available]:\n",
    "            choice_str = input(i_string[:-2]+\"\\n\").lower()\n",
    "        \n",
    "        choice = letter_numbers[choice_str]\n",
    "        return choice"
   ]
  },
  {
   "cell_type": "markdown",
   "id": "8372d5f1",
   "metadata": {},
   "source": [
    "### Test of Human Player Class"
   ]
  },
  {
   "cell_type": "code",
   "execution_count": 95,
   "id": "0ed0f1ee",
   "metadata": {},
   "outputs": [],
   "source": [
    "human = Human(1,\"Hans\")"
   ]
  },
  {
   "cell_type": "code",
   "execution_count": 96,
   "id": "e9ccee85",
   "metadata": {},
   "outputs": [],
   "source": [
    "#human.choose_trough([[6,6,6,6,6,6,0], [6,0,6,6,4,6,0]])"
   ]
  },
  {
   "cell_type": "markdown",
   "id": "6b3d9656",
   "metadata": {},
   "source": [
    "## Random_KI Player Class\n",
    "\n",
    "The class **Random_KI** inherits from **Player**. It is a simple KI player implementation which chooses troughes at random.\n",
    "\n",
    "The class **Random_KI** has a modified *\\_\\_init__* function which has an additional argument *seed* for setting a seed for the <tt>random</tt> library functions. Whenever the same seed is set, the <tt>random</tt> function creates the same random numbers or chooses the same random objects from a list. Adding this argument eases the logging and debbuging of **Random_KI** players.\n",
    "\n",
    "The method *choose_trough(current_state)* is implemented as follows:\n",
    "\n",
    "At first the own troughes are extracted from the game state and the available trough indizes are calculated using the method *_available_troughes*. From the list of available trough indizes, one is chosen at random using the function <tt>choice</tt> from the library <tt>random</tt>. Afterwards, this value is returned."
   ]
  },
  {
   "cell_type": "code",
   "execution_count": 97,
   "id": "a9fa979b",
   "metadata": {},
   "outputs": [],
   "source": [
    "import random as rn\n",
    "\n",
    "class Random_KI(Player):\n",
    "    \n",
    "    def __init__(self, number, name, seed):\n",
    "        rn.seed(seed)\n",
    "        super().__init__(number, name)\n",
    "    \n",
    "    def choose_trough(self, current_state):\n",
    "        own_t,safe = current_state[self.number][:6],current_state[self.number][6]\n",
    "        available = self._available_troughes(own_t)\n",
    "        \n",
    "        choice = rn.choice(available)\n",
    "        \n",
    "        return choice"
   ]
  },
  {
   "cell_type": "markdown",
   "id": "f971de87",
   "metadata": {},
   "source": [
    "### Test of Random_KI Player Class"
   ]
  },
  {
   "cell_type": "code",
   "execution_count": 98,
   "id": "c653f568",
   "metadata": {},
   "outputs": [],
   "source": [
    "ki = Random_KI(0,\"Rando\", 1)"
   ]
  },
  {
   "cell_type": "code",
   "execution_count": 99,
   "id": "69be5e59",
   "metadata": {},
   "outputs": [
    {
     "data": {
      "text/plain": [
       "1"
      ]
     },
     "execution_count": 99,
     "metadata": {},
     "output_type": "execute_result"
    }
   ],
   "source": [
    "ki.choose_trough([[6,6,6,6,6,6,0], [6,6,6,6,6,6,0]])"
   ]
  },
  {
   "cell_type": "markdown",
   "id": "0507940e",
   "metadata": {},
   "source": [
    "# Kalah_Game Class\n",
    "\n",
    "The class **Kalah_Game** is the core of the Kalah game implementation. It contains all information on the game, including the current game state.\n",
    "\n",
    "#### Attributes:\n",
    "- *state*\n",
    "- *board*\n",
    "- *players*\n",
    "\n",
    "The attribute *state* represents the state of the Kalah board which is defined by the number of seeds laying in each of the player's troughes and their stores. It is implemented by a nested list which contains a list for the troughes on each of the two players' sides. The last index of each of the lists is the store of that player. At the start of the game, where the stores are empty and there are six seeds in every trough, the implemented representation of the state for example is: [[6,6,6,6,6,6,0], [6,6,6,6,6,6,0]].\n",
    "\n",
    "The attribute *board* is an instance of the earlier described **Board** class and has the purpose to draw the game UI.\n",
    "\n",
    "The attribute *players* is a list of the two players that play the game. They must be instances of a subclass of the **Player** class. The order in which they take turns is determined by their **Player** *number*: The player with the number 0 goes first. \n",
    "\n",
    "#### Methods:\n",
    "\n",
    "- *\\_\\_init__(players)*\n",
    "- *_show_state(state)*\n",
    "- *show_state()*\n",
    "- *draw_board()*\n",
    "- *_move(player_num, choice)*\n",
    "- *_finished()*\n",
    "- *_calculate_winner()*\n",
    "- *start()*\n",
    "\n",
    "The method *\\_\\_init__(players)* initializes the game by setting the *state* to the initial state (seen above), initializing a board object and setting the *players* list using the received \"players\" argument. Before setting the *players* list, the received list is checked for the number of items it contains (must be exactly 2) and if the items in the list are both instances of a **Player** subclass (but not of the class **Player** itself). In error case, matching error messages are raised.\n",
    "\n",
    "The private method *_show_state(state)* creates a formatted string which represents the received state and prints it to the console. It can be used as an alternative to the <tt>ipycanvas</tt> game UI.\n",
    "\n",
    "The method *show_state()* calls the private mthod *_show_state(state)* with the current game state (attribute *state*).\n",
    "\n",
    "The method *draw_board()* calls the *draw(state)* method of the *board* instance with the current game state (attribute *state*).\n",
    "\n",
    "The private method *_move(player_num, choice)* receives the number of the current player and the trough index they have chosen as a result of the **Player** method *choose_trough*. It calculates the actions of the player's turn and returns the resulting new game state.\n",
    "\n",
    "##### The calculations are implemented based on the following game rules:\n",
    "\n",
    "1. ...\n",
    "2. ... @noah @neelis\n",
    "\n",
    "The private method *_finished()* checks if one of the players has no seeds in their troughes left and is therefore unable to take another turn. If this is the case, the method returns True, otherwise it returns False.\n",
    "\n",
    "The private method *_calculate_winner()* counts the seeds on each player's side of the board (troughes and store). The player with the higher number of seeds wins the game. If both players have the same number of seeds, the game ends with a draw. The method prints the winner to the console.\n",
    "\n",
    "The method *start()* starts the Kalah game. Until the game is finished (the method *_finished()* returns True), both players take turns, starting with the player with the number 0. At the start of each turn, the current game state is shown. Next, the current player chooses one of the troughes with the **Player** method *choose_trough(current_state)*. Afterwards, this choice is handed to the private method *_move(player_num, choice)* which calculates the new game state. The attribute *state* is updated with this new game state. Then it is the turn of the other player. If the game is finished, the method *_calculate_winner()* calculates which of the players wins the game and prints the result to the console."
   ]
  },
  {
   "cell_type": "code",
   "execution_count": 168,
   "id": "4caaf391",
   "metadata": {},
   "outputs": [],
   "source": [
    "class Kalah_Game():\n",
    "    number = 0\n",
    "    \n",
    "    def __init__(self, players):\n",
    "        self.state = [[6,6,6,6,6,6,0], [6,6,6,6,6,6,0]]\n",
    "        self.board = Board()\n",
    "        \n",
    "        if len(players) != 2:\n",
    "            raise ValueError(\"There must be exactly two players!\")\n",
    "        if not ((isinstance(players[0], Player) and type(players[0]) != Player) \n",
    "            and (isinstance(players[1], Player) and type(players[1]) != Player)):\n",
    "            raise ValueError(\"Both players must be of instances of a subclass of the class Player!\")\n",
    "        if {players[0].number, players[1].number} != {0,1}:\n",
    "            raise ValueError(\"One of the players must be self.number 0 and the other one self.number 1!\")\n",
    "        self.players = players\n",
    "        \n",
    "    def _show_state(self, state):\n",
    "        s = f''\n",
    "        \n",
    "        s += f'{self.players[0].name}:\\t\\t'\n",
    "        for j in range(6,-1,-1):\n",
    "            s += f'{order[0][j]}: {state[0][j]}  '\n",
    "        s += f'\\n'\n",
    "        \n",
    "        s += f'{self.players[1].name}:\\t\\t\\t'\n",
    "        for j in range(7):\n",
    "            s += f'{order[1][j]}: {state[1][j]}  '\n",
    "        s += f'\\n'\n",
    "        \n",
    "        print(s)\n",
    "    \n",
    "    def show_state(self):\n",
    "        self._show_state(self.state)\n",
    "    \n",
    "    def draw_board(self):\n",
    "        return self.board.draw(self.state)\n",
    "    \n",
    "    def _move(self, player_num, choice):\n",
    "        new_state = self.state.copy()\n",
    "        \n",
    "        stones = self.state[player_num][choice]\n",
    "        new_state[player_num][choice] = 0\n",
    "        \n",
    "        c_field = (player_num,choice)\n",
    "\n",
    "        # Go through troughes counterclockwise\n",
    "        while (stones > 0):\n",
    "            current_player_num,field_num = c_field\n",
    "            field_num += 1\n",
    "            if(field_num == 6 and current_player_num != player_num):\n",
    "                c_field = current_player_num,field_num\n",
    "                continue\n",
    "            if(field_num > 6):\n",
    "                field_num=0\n",
    "                current_player_num = (current_player_num +1)%2\n",
    "                \n",
    "            c_field = current_player_num,field_num\n",
    "            new_state[current_player_num][field_num] += 1\n",
    "            stones -= 1\n",
    "            # Check for special kalah rule ( Extra turn if last stone ends in own kalah)\n",
    "            if(current_player_num == player_num and field_num == 6 and stones == 0):\n",
    "                # Give current player another turn\n",
    "                print(f'Player {self.players[player_num].name} gets an extra turn!')\n",
    "                # twist the order beforehand so the standard game loop grants the extra turn automatically\n",
    "                self.number = (self.number + 1) % 2\n",
    "            elif(current_player_num == player_num and new_state[current_player_num][field_num]==1 and stones==0):\n",
    "                # collect all points to be rewarded and empty the fields\n",
    "                receivedPoints = new_state[current_player_num][field_num]\n",
    "                receivedPoints += new_state[(current_player_num +1)%2][5-field_num]\n",
    "                new_state[(current_player_num +1)%2][5-field_num] = 0\n",
    "                new_state[current_player_num][field_num] = 0\n",
    "                # award all the points to the current player's kalah\n",
    "                new_state[current_player_num][6] += receivedPoints\n",
    "                print(f'Player {self.players[player_num].name} gets a steal for {receivedPoints} Points!')\n",
    "            \n",
    "        return new_state\n",
    "    \n",
    "    # Returns True if one player has no stones left and loses\n",
    "    # Also prints which player loses\n",
    "    def _finished(self):\n",
    "        sum0 = sum(self.state[0][:-1])\n",
    "        sum1 = sum(self.state[1][:-1])\n",
    "        \n",
    "        if(not (sum0 == 0 or sum1 == 0)):\n",
    "            return False\n",
    "        self.show_state()\n",
    "        print(\"Finished Game!\")\n",
    "        return True\n",
    "    \n",
    "    def _calculate_winner(self):\n",
    "        sum0 = sum(self.state[0])\n",
    "        sum1 = sum(self.state[1])\n",
    "        print(f\"{self.players[0]}: {sum0} Points. {self.players[1]}: {sum1} Points.\")\n",
    "        if(sum0 > sum1):\n",
    "            print(f\"{self.players[0]} wins!\")\n",
    "        elif(sum1 > sum0):\n",
    "            print(f\"{self.players[1]} wins!\")\n",
    "        else:\n",
    "            print(f\"Draw!\")\n",
    "            \n",
    "    def utility(self, player_num):\n",
    "        playerKalah = self.state[player_num][6]\n",
    "        opponentKalah = self.state[(player_num+1)%2][6]\n",
    "        if(playerKalah > opponentKalah):\n",
    "            return 1\n",
    "        elif(playerKalah == opponentKalah):\n",
    "            return 0\n",
    "        else:\n",
    "            return -1\n",
    "    \n",
    "    def start(self):\n",
    "        while(not self._finished()):\n",
    "            print(\"Current state:\")\n",
    "            self.show_state()\n",
    "            print(f\"Next is {self.players[self.number].name}'s turn.\")\n",
    "\n",
    "            choice = self.players[self.number].choose_trough(self.state)\n",
    "            print(f\"{self.players[self.number].name} chose {order[self.number][choice]}\")\n",
    "\n",
    "            self.state = self._move(self.number, choice)\n",
    "            \n",
    "            self.number = (self.number + 1) % 2\n",
    "        \n",
    "        self._calculate_winner()"
   ]
  },
  {
   "cell_type": "markdown",
   "id": "56c965d5",
   "metadata": {},
   "source": [
    "## Tests of Kalah_Game Class"
   ]
  },
  {
   "cell_type": "markdown",
   "id": "6763f99f",
   "metadata": {},
   "source": [
    "### 1. There must be exactly two players"
   ]
  },
  {
   "cell_type": "code",
   "execution_count": 156,
   "id": "d7169611",
   "metadata": {},
   "outputs": [
    {
     "name": "stdout",
     "output_type": "stream",
     "text": [
      "There must be exactly two players!\n"
     ]
    }
   ],
   "source": [
    "try:\n",
    "    game = Kalah_Game([Player(0,\"Test\")])\n",
    "except ValueError as e:\n",
    "    print(e)"
   ]
  },
  {
   "cell_type": "markdown",
   "id": "d6fcce34",
   "metadata": {},
   "source": [
    "### 2. Players must be instances of a Player sublass"
   ]
  },
  {
   "cell_type": "code",
   "execution_count": 157,
   "id": "0d195dc1",
   "metadata": {},
   "outputs": [
    {
     "name": "stdout",
     "output_type": "stream",
     "text": [
      "Both players must be of instances of a subclass of the class Player!\n"
     ]
    }
   ],
   "source": [
    "try:\n",
    "    game = Kalah_Game([Player(0,\"Test\"), Player(1,\"Test\")])\n",
    "except ValueError as e:\n",
    "    print(e)"
   ]
  },
  {
   "cell_type": "markdown",
   "id": "f148671c",
   "metadata": {},
   "source": [
    "### 3. Player numbers must be 0 and 1"
   ]
  },
  {
   "cell_type": "code",
   "execution_count": 158,
   "id": "00c87341",
   "metadata": {},
   "outputs": [
    {
     "name": "stdout",
     "output_type": "stream",
     "text": [
      "One of the players must be self.number 0 and the other one self.number 1!\n"
     ]
    }
   ],
   "source": [
    "try:\n",
    "    game = Kalah_Game([Human(1,\"Human\"), Random_KI(1,\"KI\",2)])\n",
    "except ValueError as e:\n",
    "    print(e)"
   ]
  },
  {
   "cell_type": "markdown",
   "id": "a11dcbcf",
   "metadata": {},
   "source": [
    "### 4. Successful Game creation with two KIs"
   ]
  },
  {
   "cell_type": "code",
   "execution_count": 169,
   "id": "585ab682",
   "metadata": {},
   "outputs": [],
   "source": [
    "game = Kalah_Game([Random_KI(0,\"KI1\",1), Random_KI(1,\"KI2\",2)])"
   ]
  },
  {
   "cell_type": "code",
   "execution_count": 170,
   "id": "62acf442",
   "metadata": {},
   "outputs": [
    {
     "name": "stdout",
     "output_type": "stream",
     "text": [
      "KI1:\t\tO: 0  F: 6  E: 6  D: 6  C: 6  B: 6  A: 6  \n",
      "KI2:\t\t\ta: 6  b: 6  c: 6  d: 6  e: 6  f: 6  o: 0  \n",
      "\n"
     ]
    }
   ],
   "source": [
    "game.show_state()"
   ]
  },
  {
   "cell_type": "code",
   "execution_count": 171,
   "id": "58ecfd67",
   "metadata": {
    "scrolled": false
   },
   "outputs": [
    {
     "name": "stdout",
     "output_type": "stream",
     "text": [
      "Current state:\n",
      "KI1:\t\tO: 0  F: 6  E: 6  D: 6  C: 6  B: 6  A: 6  \n",
      "KI2:\t\t\ta: 6  b: 6  c: 6  d: 6  e: 6  f: 6  o: 0  \n",
      "\n",
      "Next is KI1's turn.\n",
      "KI1 chose A\n",
      "Player KI1 gets an extra turn!\n",
      "Current state:\n",
      "KI1:\t\tO: 1  F: 7  E: 7  D: 7  C: 7  B: 7  A: 0  \n",
      "KI2:\t\t\ta: 6  b: 6  c: 6  d: 6  e: 6  f: 6  o: 0  \n",
      "\n",
      "Next is KI1's turn.\n",
      "KI1 chose B\n",
      "Current state:\n",
      "KI1:\t\tO: 2  F: 8  E: 8  D: 8  C: 8  B: 0  A: 0  \n",
      "KI2:\t\t\ta: 7  b: 7  c: 6  d: 6  e: 6  f: 6  o: 0  \n",
      "\n",
      "Next is KI2's turn.\n",
      "KI2 chose a\n",
      "Current state:\n",
      "KI1:\t\tO: 2  F: 8  E: 8  D: 8  C: 8  B: 0  A: 1  \n",
      "KI2:\t\t\ta: 0  b: 8  c: 7  d: 7  e: 7  f: 7  o: 1  \n",
      "\n",
      "Next is KI1's turn.\n",
      "KI1 chose D\n",
      "Current state:\n",
      "KI1:\t\tO: 3  F: 9  E: 9  D: 0  C: 8  B: 0  A: 1  \n",
      "KI2:\t\t\ta: 1  b: 9  c: 8  d: 8  e: 8  f: 7  o: 1  \n",
      "\n",
      "Next is KI2's turn.\n",
      "KI2 chose b\n",
      "Current state:\n",
      "KI1:\t\tO: 3  F: 9  E: 9  D: 1  C: 9  B: 1  A: 2  \n",
      "KI2:\t\t\ta: 1  b: 0  c: 9  d: 9  e: 9  f: 8  o: 2  \n",
      "\n",
      "Next is KI1's turn.\n",
      "KI1 chose F\n",
      "Current state:\n",
      "KI1:\t\tO: 4  F: 0  E: 9  D: 1  C: 9  B: 2  A: 3  \n",
      "KI2:\t\t\ta: 2  b: 1  c: 10  d: 10  e: 10  f: 9  o: 2  \n",
      "\n",
      "Next is KI2's turn.\n",
      "KI2 chose f\n",
      "Current state:\n",
      "KI1:\t\tO: 4  F: 1  E: 10  D: 2  C: 10  B: 3  A: 4  \n",
      "KI2:\t\t\ta: 3  b: 2  c: 10  d: 10  e: 10  f: 0  o: 3  \n",
      "\n",
      "Next is KI1's turn.\n",
      "KI1 chose C\n",
      "Current state:\n",
      "KI1:\t\tO: 5  F: 2  E: 11  D: 3  C: 0  B: 3  A: 4  \n",
      "KI2:\t\t\ta: 4  b: 3  c: 11  d: 11  e: 11  f: 1  o: 3  \n",
      "\n",
      "Next is KI2's turn.\n",
      "KI2 chose c\n",
      "Current state:\n",
      "KI1:\t\tO: 5  F: 3  E: 12  D: 4  C: 1  B: 4  A: 5  \n",
      "KI2:\t\t\ta: 5  b: 3  c: 0  d: 12  e: 12  f: 2  o: 4  \n",
      "\n",
      "Next is KI1's turn.\n",
      "KI1 chose E\n",
      "Current state:\n",
      "KI1:\t\tO: 6  F: 4  E: 0  D: 5  C: 2  B: 5  A: 6  \n",
      "KI2:\t\t\ta: 6  b: 4  c: 1  d: 13  e: 13  f: 3  o: 4  \n",
      "\n",
      "Next is KI2's turn.\n",
      "KI2 chose b\n",
      "Current state:\n",
      "KI1:\t\tO: 6  F: 4  E: 0  D: 5  C: 2  B: 5  A: 6  \n",
      "KI2:\t\t\ta: 6  b: 0  c: 2  d: 14  e: 14  f: 4  o: 4  \n",
      "\n",
      "Next is KI1's turn.\n",
      "KI1 chose F\n",
      "Current state:\n",
      "KI1:\t\tO: 7  F: 0  E: 0  D: 5  C: 2  B: 5  A: 6  \n",
      "KI2:\t\t\ta: 7  b: 1  c: 3  d: 14  e: 14  f: 4  o: 4  \n",
      "\n",
      "Next is KI2's turn.\n",
      "KI2 chose a\n",
      "Current state:\n",
      "KI1:\t\tO: 7  F: 0  E: 0  D: 5  C: 2  B: 5  A: 7  \n",
      "KI2:\t\t\ta: 0  b: 2  c: 4  d: 15  e: 15  f: 5  o: 5  \n",
      "\n",
      "Next is KI1's turn.\n",
      "KI1 chose B\n",
      "Player KI1 gets an extra turn!\n",
      "Current state:\n",
      "KI1:\t\tO: 8  F: 1  E: 1  D: 6  C: 3  B: 0  A: 7  \n",
      "KI2:\t\t\ta: 0  b: 2  c: 4  d: 15  e: 15  f: 5  o: 5  \n",
      "\n",
      "Next is KI1's turn.\n",
      "KI1 chose E\n",
      "Current state:\n",
      "KI1:\t\tO: 8  F: 2  E: 0  D: 6  C: 3  B: 0  A: 7  \n",
      "KI2:\t\t\ta: 0  b: 2  c: 4  d: 15  e: 15  f: 5  o: 5  \n",
      "\n",
      "Next is KI2's turn.\n",
      "KI2 chose e\n",
      "Player KI2 gets an extra turn!\n",
      "Current state:\n",
      "KI1:\t\tO: 8  F: 3  E: 1  D: 7  C: 4  B: 1  A: 8  \n",
      "KI2:\t\t\ta: 1  b: 3  c: 5  d: 16  e: 1  f: 7  o: 7  \n",
      "\n",
      "Next is KI2's turn.\n",
      "KI2 chose f\n",
      "Current state:\n",
      "KI1:\t\tO: 8  F: 4  E: 2  D: 8  C: 5  B: 2  A: 9  \n",
      "KI2:\t\t\ta: 1  b: 3  c: 5  d: 16  e: 1  f: 0  o: 8  \n",
      "\n",
      "Next is KI1's turn.\n",
      "KI1 chose E\n",
      "Player KI1 gets an extra turn!\n",
      "Current state:\n",
      "KI1:\t\tO: 9  F: 5  E: 0  D: 8  C: 5  B: 2  A: 9  \n",
      "KI2:\t\t\ta: 1  b: 3  c: 5  d: 16  e: 1  f: 0  o: 8  \n",
      "\n",
      "Next is KI1's turn.\n",
      "KI1 chose C\n",
      "Current state:\n",
      "KI1:\t\tO: 10  F: 6  E: 1  D: 9  C: 0  B: 2  A: 9  \n",
      "KI2:\t\t\ta: 2  b: 3  c: 5  d: 16  e: 1  f: 0  o: 8  \n",
      "\n",
      "Next is KI2's turn.\n",
      "KI2 chose e\n",
      "Player KI2 gets a steal for 10 Points!\n",
      "Current state:\n",
      "KI1:\t\tO: 10  F: 6  E: 1  D: 9  C: 0  B: 2  A: 0  \n",
      "KI2:\t\t\ta: 2  b: 3  c: 5  d: 16  e: 0  f: 0  o: 18  \n",
      "\n",
      "Next is KI1's turn.\n",
      "KI1 chose F\n",
      "Current state:\n",
      "KI1:\t\tO: 11  F: 0  E: 1  D: 9  C: 0  B: 2  A: 0  \n",
      "KI2:\t\t\ta: 3  b: 4  c: 6  d: 17  e: 1  f: 0  o: 18  \n",
      "\n",
      "Next is KI2's turn.\n",
      "KI2 chose e\n",
      "Player KI2 gets a steal for 1 Points!\n",
      "Current state:\n",
      "KI1:\t\tO: 11  F: 0  E: 1  D: 9  C: 0  B: 2  A: 0  \n",
      "KI2:\t\t\ta: 3  b: 4  c: 6  d: 17  e: 0  f: 0  o: 19  \n",
      "\n",
      "Next is KI1's turn.\n",
      "KI1 chose D\n",
      "Current state:\n",
      "KI1:\t\tO: 12  F: 1  E: 2  D: 0  C: 0  B: 2  A: 0  \n",
      "KI2:\t\t\ta: 4  b: 5  c: 7  d: 18  e: 1  f: 1  o: 19  \n",
      "\n",
      "Next is KI2's turn.\n",
      "KI2 chose a\n",
      "Current state:\n",
      "KI1:\t\tO: 12  F: 1  E: 2  D: 0  C: 0  B: 2  A: 0  \n",
      "KI2:\t\t\ta: 0  b: 6  c: 8  d: 19  e: 2  f: 1  o: 19  \n",
      "\n",
      "Next is KI1's turn.\n",
      "KI1 chose B\n",
      "Player KI1 gets a steal for 9 Points!\n",
      "Current state:\n",
      "KI1:\t\tO: 21  F: 1  E: 2  D: 0  C: 1  B: 0  A: 0  \n",
      "KI2:\t\t\ta: 0  b: 6  c: 0  d: 19  e: 2  f: 1  o: 19  \n",
      "\n",
      "Next is KI2's turn.\n",
      "KI2 chose e\n",
      "Player KI2 gets an extra turn!\n",
      "Current state:\n",
      "KI1:\t\tO: 21  F: 1  E: 2  D: 0  C: 1  B: 0  A: 0  \n",
      "KI2:\t\t\ta: 0  b: 6  c: 0  d: 19  e: 0  f: 2  o: 20  \n",
      "\n",
      "Next is KI2's turn.\n",
      "KI2 chose d\n",
      "Current state:\n",
      "KI1:\t\tO: 21  F: 2  E: 3  D: 1  C: 3  B: 2  A: 2  \n",
      "KI2:\t\t\ta: 1  b: 7  c: 1  d: 1  e: 2  f: 4  o: 22  \n",
      "\n",
      "Next is KI1's turn.\n",
      "KI1 chose C\n",
      "Current state:\n",
      "KI1:\t\tO: 21  F: 3  E: 4  D: 2  C: 0  B: 2  A: 2  \n",
      "KI2:\t\t\ta: 1  b: 7  c: 1  d: 1  e: 2  f: 4  o: 22  \n",
      "\n",
      "Next is KI2's turn.\n",
      "KI2 chose d\n",
      "Current state:\n",
      "KI1:\t\tO: 21  F: 3  E: 4  D: 2  C: 0  B: 2  A: 2  \n",
      "KI2:\t\t\ta: 1  b: 7  c: 1  d: 0  e: 3  f: 4  o: 22  \n",
      "\n",
      "Next is KI1's turn.\n",
      "KI1 chose E\n",
      "Current state:\n",
      "KI1:\t\tO: 22  F: 4  E: 0  D: 2  C: 0  B: 2  A: 2  \n",
      "KI2:\t\t\ta: 2  b: 8  c: 1  d: 0  e: 3  f: 4  o: 22  \n",
      "\n",
      "Next is KI2's turn.\n",
      "KI2 chose f\n",
      "Current state:\n",
      "KI1:\t\tO: 22  F: 4  E: 0  D: 2  C: 1  B: 3  A: 3  \n",
      "KI2:\t\t\ta: 2  b: 8  c: 1  d: 0  e: 3  f: 0  o: 23  \n",
      "\n",
      "Next is KI1's turn.\n",
      "KI1 chose B\n",
      "Player KI1 gets a steal for 9 Points!\n",
      "Current state:\n",
      "KI1:\t\tO: 31  F: 4  E: 0  D: 3  C: 2  B: 0  A: 3  \n",
      "KI2:\t\t\ta: 2  b: 0  c: 1  d: 0  e: 3  f: 0  o: 23  \n",
      "\n",
      "Next is KI2's turn.\n",
      "KI2 chose e\n",
      "Current state:\n",
      "KI1:\t\tO: 31  F: 4  E: 0  D: 3  C: 2  B: 0  A: 4  \n",
      "KI2:\t\t\ta: 2  b: 0  c: 1  d: 0  e: 0  f: 1  o: 24  \n",
      "\n",
      "Next is KI1's turn.\n",
      "KI1 chose C\n",
      "Player KI1 gets a steal for 1 Points!\n",
      "Current state:\n",
      "KI1:\t\tO: 32  F: 4  E: 0  D: 4  C: 0  B: 0  A: 4  \n",
      "KI2:\t\t\ta: 2  b: 0  c: 1  d: 0  e: 0  f: 1  o: 24  \n",
      "\n",
      "Next is KI2's turn.\n",
      "KI2 chose a\n",
      "Current state:\n",
      "KI1:\t\tO: 32  F: 4  E: 0  D: 4  C: 0  B: 0  A: 4  \n",
      "KI2:\t\t\ta: 0  b: 1  c: 2  d: 0  e: 0  f: 1  o: 24  \n",
      "\n",
      "Next is KI1's turn.\n",
      "KI1 chose A\n",
      "Player KI1 gets a steal for 2 Points!\n",
      "Current state:\n",
      "KI1:\t\tO: 34  F: 4  E: 0  D: 5  C: 1  B: 1  A: 0  \n",
      "KI2:\t\t\ta: 0  b: 0  c: 2  d: 0  e: 0  f: 1  o: 24  \n",
      "\n",
      "Next is KI2's turn.\n",
      "KI2 chose c\n",
      "Player KI2 gets a steal for 2 Points!\n",
      "Current state:\n",
      "KI1:\t\tO: 34  F: 4  E: 0  D: 5  C: 1  B: 0  A: 0  \n",
      "KI2:\t\t\ta: 0  b: 0  c: 0  d: 1  e: 0  f: 1  o: 26  \n",
      "\n",
      "Next is KI1's turn.\n",
      "KI1 chose C\n",
      "Current state:\n",
      "KI1:\t\tO: 34  F: 4  E: 0  D: 6  C: 0  B: 0  A: 0  \n",
      "KI2:\t\t\ta: 0  b: 0  c: 0  d: 1  e: 0  f: 1  o: 26  \n",
      "\n",
      "Next is KI2's turn.\n",
      "KI2 chose f\n",
      "Player KI2 gets an extra turn!\n",
      "Current state:\n",
      "KI1:\t\tO: 34  F: 4  E: 0  D: 6  C: 0  B: 0  A: 0  \n",
      "KI2:\t\t\ta: 0  b: 0  c: 0  d: 1  e: 0  f: 0  o: 27  \n",
      "\n",
      "Next is KI2's turn.\n",
      "KI2 chose d\n",
      "Player KI2 gets a steal for 1 Points!\n",
      "KI1:\t\tO: 34  F: 4  E: 0  D: 6  C: 0  B: 0  A: 0  \n",
      "KI2:\t\t\ta: 0  b: 0  c: 0  d: 0  e: 0  f: 0  o: 28  \n",
      "\n",
      "Finished Game!\n",
      "KI1: 44 Points. KI2: 28 Points.\n",
      "KI1 wins!\n"
     ]
    }
   ],
   "source": [
    "game.start()"
   ]
  },
  {
   "cell_type": "code",
   "execution_count": null,
   "id": "b2937d7e",
   "metadata": {},
   "outputs": [],
   "source": []
  },
  {
   "cell_type": "code",
   "execution_count": null,
   "id": "96bc1cd2",
   "metadata": {},
   "outputs": [],
   "source": []
  }
 ],
 "metadata": {
  "kernelspec": {
   "display_name": "Python 3 (ipykernel)",
   "language": "python",
   "name": "python3"
  },
  "language_info": {
   "codemirror_mode": {
    "name": "ipython",
    "version": 3
   },
   "file_extension": ".py",
   "mimetype": "text/x-python",
   "name": "python",
   "nbconvert_exporter": "python",
   "pygments_lexer": "ipython3",
   "version": "3.9.1"
  }
 },
 "nbformat": 4,
 "nbformat_minor": 5
}
