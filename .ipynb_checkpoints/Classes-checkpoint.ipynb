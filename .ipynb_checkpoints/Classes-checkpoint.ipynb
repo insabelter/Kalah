{
 "cells": [
  {
   "cell_type": "code",
   "execution_count": 18,
   "id": "7b53db14",
   "metadata": {},
   "outputs": [
    {
     "data": {
      "text/html": [
       "<link href='http://fonts.googleapis.com/css?family=Alegreya+Sans:100,300,400,500,700,800,900,100italic,300italic,400italic,500italic,700italic,800italic,900italic' rel='stylesheet' type='text/css'>\n",
       "<link href='http://fonts.googleapis.com/css?family=Arvo:400,700,400italic' rel='stylesheet' type='text/css'>\n",
       "<link href='http://fonts.googleapis.com/css?family=PT+Mono' rel='stylesheet' type='text/css'>\n",
       "<link href='http://fonts.googleapis.com/css?family=Shadows+Into+Light' rel='stylesheet' type='text/css'>\n",
       "<link href='http://fonts.googleapis.com/css?family=Philosopher:400,700,400italic,700italic' rel='stylesheet' type='text/css'>\n",
       "\n",
       "<style>\n",
       "\n",
       "@font-face {\n",
       "    font-family: \"Computer Modern\";\n",
       "    src: url('http://mirrors.ctan.org/fonts/cm-unicode/fonts/otf/cmunss.otf');\n",
       "}\n",
       "\n",
       ".container { width: 100% }\n",
       "\n",
       "/* Formatting for header cells */\n",
       ".text_cell_render h1 {\n",
       "    font-family: 'Philosopher';\n",
       "    font-weight: 600;\n",
       "    font-size: 2.2em;\n",
       "    line-height: 100%;\n",
       "    color: rgb(0, 80, 120);\n",
       "    margin-bottom: 0.1em;\n",
       "    margin-top: 0.1em;\n",
       "    display: block;\n",
       "}\t\n",
       ".text_cell_render h2 {\n",
       "    font-family: 'Philosopher';\n",
       "    font-weight: 400;\n",
       "    font-size: 1.8em;\n",
       "    line-height: 100%;\n",
       "    color: rgb(0, 80, 120);\n",
       "    margin-bottom: 0.1em;\n",
       "    margin-top: 0.1em;\n",
       "    display: block;\n",
       "}\t\n",
       "\n",
       ".text_cell_render h3 {\n",
       "    font-family: 'Philosopher';\n",
       "    margin-top:12px;\n",
       "    margin-bottom: 3px;\n",
       "    font-style: italic;\n",
       "    color: rgb(0, 100, 132);\n",
       "}\n",
       "\n",
       ".text_cell_render h4 {\n",
       "    font-family: 'Philosopher', serif;\n",
       "    color: rgb(0, 100, 132);\n",
       "}\n",
       "\n",
       ".text_cell_render h5 {\n",
       "    font-family: 'Philosopher', serif;\n",
       "    margin-top:6px;\n",
       "    margin-bottom: 2px;\n",
       "    color: rgb(0, 100, 132);\n",
       "    font-style: italic;\n",
       "    display: block;\n",
       "}\n",
       "\n",
       ".text_cell_render h6 {\n",
       "    font-family: 'PT Mono', serif;\n",
       "    font-weight: 300;\n",
       "    font-size: 10pt;\n",
       "    color: grey;\n",
       "    margin-bottom: 1px;\n",
       "    margin-top: 1px;\n",
       "}\n",
       "\n",
       ".text_cell_render em {\n",
       "    font-family: 'Philosopher', serif;\n",
       "    background-color: rgb(220,235,240);\n",
       "    font-size:    110%;\n",
       "    margin-left:   2px;\n",
       "    margin-right:  2px;\n",
       "    font-weight:   100;\n",
       "    font-style: normal;\n",
       "}\n",
       "\n",
       ".text_cell_render b {\n",
       "    font-family: 'Philosopher', serif;\n",
       "    color:            rgb(255,195,195);\n",
       "    background-color: rgb(0,0,0);\n",
       "    font-size:    110%;\n",
       "    margin-left:   2px;\n",
       "    margin-right:  2px;\n",
       "    font-weight:   650;\n",
       "}\n",
       "\n",
       ".text_cell_render tt {\n",
       "    font-size:    120%;\n",
       "    margin-left:   2px;\n",
       "    margin-right:  2px;\n",
       "    font-weight:   150;\n",
       "}\n",
       "\n",
       ".Codemirror {\n",
       "    font-family: \"PT Mono\";\n",
       "    font-size: 100%;\n",
       "}\n",
       "\n",
       "</style>\n",
       "\n"
      ],
      "text/plain": [
       "<IPython.core.display.HTML object>"
      ]
     },
     "execution_count": 18,
     "metadata": {},
     "output_type": "execute_result"
    }
   ],
   "source": [
    "from IPython.core.display import HTML\n",
    "with open('style.css', 'r') as file:\n",
    "    css = file.read()\n",
    "HTML(css)"
   ]
  },
  {
   "cell_type": "markdown",
   "id": "7d22e287",
   "metadata": {},
   "source": [
    "# Kalah Rules\n",
    "\n",
    "### Game structure:\n",
    "<p>The playing field consists of 6 houses per side and additionally one large house per player at the edge, the so-called storage. At the beginning of the game, six seeds are placed in each house except the storage.</p>\n",
    "\n",
    "![title](images/Board.png)\n",
    "\n",
    "### Gameplay:\n",
    "<p>Alternately, a player selects a house on his side of the board. The player then places the seeds in the following houses in a counter-clockwise direction. If visited, a seed is placed in the own storage, the opponent's storage is left out. The player's turn ends if all seeds are placed.\n",
    "\n",
    "There are some special rules, that apply if the last seed is placed in the player's storage or an empty player's house:\n",
    "1. If the last seed is placed in the own storage, it is the player's turn again. \n",
    "2. If the last seed is placed in an empty house on the player's own side of the board, this seed and all the seeds in the opposite house are placed in the player's storage. In that case, it is the opponent's turn.</p>\n",
    "\n",
    "### End of the game:\n",
    "<p>The game ends when all the houses of one player have been emptied. The opposing player then places all remaining seed in his storage.</p>\n",
    "\n",
    "### Object of the game:\n",
    "<p>The winner is the player who has more seeds in his storage at the end of the game.</p>\n",
    "\n",
    "Source: http://www.kalaha.de/kalaha.htm (9.11.2021)"
   ]
  },
  {
   "cell_type": "markdown",
   "id": "20f28351",
   "metadata": {},
   "source": [
    "# Kalah game definition\n",
    "\n",
    "### Basic definition:\n",
    "<p>We define the game G as a six-tuple as follows so that a computer is able to play Kalah.</p>\n",
    "\n",
    "*G = <States, s0, Players, nextStates, finished, utility>*\n",
    "\n",
    "The components have the following meanings:\n",
    "\n",
    "1. **States** is a set that contains all possible states of the game Kalah. A state of the game is represented by a list containing two lists, representing the houses of the two players. The first six values of each list represent the number of seeds in the player's houses represented by the letters {A, B, C, D, E, F}. The seventh and last value stands for the number of seeds in the corresponding player's storage. The start state of the game is for example:\n",
    "\n",
    "<center><em>[[6,6,6,6,6,6,0], [6,6,6,6,6,6,0]]</em></center>\n",
    "\n",
    "2. **s0 $\\varepsilon$ States** is the start state.\n",
    "3. **Players** is a list that contains the players. Kalah is a game for exactly two players, therefore this game's **Players** list only contains two elements.\n",
    "4. **nextStates** is a function which calculates a set of states that are reachable by one move from Player p in the state s. To do so, the function receives a state **s $\\varepsilon$ States** and a player **p $\\varepsilon$ Players**. The formula is given as follows:\n",
    "\n",
    "<center><em>nextStates: States x Players &rarr; 2<sup>States</sup></em></center>\n",
    "\n",
    "5. **finished** is a function that takes a state **s $\\varepsilon$ States** and checks if the game is finished, meaning that one of the players has emptied all their houses . The formula is: \n",
    "<br><br>\n",
    "<center><em>finished: States &rarr; B</em></center>\n",
    "<br>\n",
    "The function finished is used to compute a set Terminalstates that contains all states from a finished game. This set is defined as follows: \n",
    "<br><br>\n",
    "<center><em>TerminalStates:= {s $\\varepsilon$ States | finished(s)}</em></center>\n",
    "<br>\n",
    "6. **utility** is a function that calculates the value of the game for a player. Therefore, the function takes a state **s $\\varepsilon$ TerminalStates** and a player **p $\\varepsilon$ Players**. The value that the function returns is an element from the set **{-1, 0, 1}**. The player p has lost the game when the function returns -1. If the function returns 1, the player has won the game and if the value is 0, the game ends in a draw. The formula for the function is:\n",
    "\n",
    "<center><em>utility: TerminalStates x Players &rarr; {-1, 0. +1}</em></center>\n",
    "\n",
    "source: https://github.com/karlstroetmann/Artificial-Intelligence/blob/master/Lecture-Notes/artificial-intelligence.pdf, S.87, Abruf am 06.02.2022"
   ]
  },
  {
   "cell_type": "markdown",
   "id": "6a5c32a3",
   "metadata": {},
   "source": [
    "# Classes\n",
    "\n",
    "The Kalah game is implemented with the use of several classes, containing base class **Kalah_Game**, a **Board** class for displaying the UI and a **Player** class as well as several classes inheriting from this **Player** class:\n",
    "\n",
    "- **Human**\n",
    "- **Random_KI**\n",
    "\n",
    "The following illustration shows a class diagram of all classes involved:\n",
    "\n",
    "<img src=\"images/Kalah_Class_Diagram.png\" alt=\"Kalah_Class_Diagram\" width=\"600\"/>\n",
    "\n",
    "This image was created with [Creatly](https://creately.com/)."
   ]
  },
  {
   "cell_type": "markdown",
   "id": "9b54afaa",
   "metadata": {},
   "source": [
    "## Global Variables\n",
    "\n",
    "Additionally to the classes, there are two global variables with the purpose to help converting the state of the game board, which is represented by a nested list, to letters. The letter representation is mainly for the UI, but also distributes to print and logging messages being easier to humanly comprehend."
   ]
  },
  {
   "cell_type": "code",
   "execution_count": null,
   "id": "a904ca0d",
   "metadata": {},
   "outputs": [],
   "source": [
    "order = [['A','B','C','D','E','F','O'],\n",
    "         ['a','b','c','d','e','f','o']]\n",
    "letter_numbers = {'a':0, 'b':1, 'c':2, 'd':3, 'e':4, 'f':5 }"
   ]
  },
  {
   "cell_type": "markdown",
   "id": "bfb007cf",
   "metadata": {},
   "source": [
    "## Board Class\n",
    "\n",
    "The class **Board** has the purpose to create the game UI by drawing a Kalah board if requested.\n",
    "\n",
    "#### Methods:\n",
    "\n",
    "- *_state_to_dict(state)*\n",
    "- *draw(state)*\n",
    "\n",
    "The private method *_state_to_dict(state)* takes a board state in form of a nested list and transforms it into a dictionary with the letter representation of the house as keys and the house values from the list as values. This representation is only needed for the draw function.\n",
    "\n",
    "The method *draw(state)* takes a board state and creates an illustration of the Kalah board by using the library <tt>ipycanvas</tt>.\n",
    "    ... @neelis"
   ]
  },
  {
   "cell_type": "code",
   "execution_count": null,
   "id": "50f1c82c",
   "metadata": {},
   "outputs": [],
   "source": [
    "from ipycanvas import Canvas"
   ]
  },
  {
   "cell_type": "code",
   "execution_count": null,
   "id": "ae4457b4",
   "metadata": {},
   "outputs": [],
   "source": [
    "class Board:\n",
    "    \n",
    "    def _state_to_dict(self, state):\n",
    "        d = {}\n",
    "        for i in [0,1]:\n",
    "            for j in range(7):\n",
    "                d[order[i][j]] = state[i][j]\n",
    "        return d\n",
    "    \n",
    "    def draw(self, state):\n",
    "        house = self._state_to_dict(state)\n",
    "        \n",
    "        canvas = Canvas(width=800, height=350)\n",
    "\n",
    "        canvas.fill_style='brown'\n",
    "        canvas.fill_rect(0,0,canvas.width)\n",
    "\n",
    "\n",
    "        canvas.stroke_circles([((i)*100)+140 for i in range(6)],[75 for i in range(6)], 40)\n",
    "        canvas.stroke_circles([(i*100)+140 for i in range(6)],[255 for i in range(6)], 40)\n",
    "\n",
    "        canvas.stroke_rects([10,canvas.width-100],[85,85],[80,80],[180,180])\n",
    "\n",
    "        canvas.fill_style='white'\n",
    "        canvas.font = '32px serif'\n",
    "        canvas.fill_text(\"O\",40,70)\n",
    "        canvas.fill_text(\"F\",135,30)\n",
    "        canvas.fill_text(\"E\",230,30)\n",
    "        canvas.fill_text(\"D\",330,30)\n",
    "        canvas.fill_text(\"C\",430,30)\n",
    "        canvas.fill_text(\"B\",530,30)\n",
    "        canvas.fill_text(\"A\",630,30)\n",
    "        # ---------\n",
    "        canvas.fill_style = 'black'\n",
    "        canvas.fill_text(\"a\",135,320)\n",
    "        canvas.fill_text(\"b\",230,320)\n",
    "        canvas.fill_text(\"c\",330,320)\n",
    "        canvas.fill_text(\"d\",430,320)\n",
    "        canvas.fill_text(\"e\",530,320)\n",
    "        canvas.fill_text(\"f\",630,320)\n",
    "        canvas.fill_text(\"o\",730,290)\n",
    "\n",
    "        canvas.fill_style = 'black'\n",
    "        canvas.fill_text(str(house['F']),135,140)\n",
    "        canvas.fill_text(str(house['E']),230,140)\n",
    "\n",
    "        canvas.fill_text(str(house['D']),330,140)\n",
    "        canvas.fill_text(str(house['C']),430,140)\n",
    "        canvas.fill_text(str(house['B']),530,140)\n",
    "        canvas.fill_text(str(house['A']),630,140)\n",
    "\n",
    "        canvas.fill_text(str(house['a']),135,210)\n",
    "        canvas.fill_text(str(house['b']),230,210)\n",
    "        canvas.fill_text(str(house['c']),330,210)\n",
    "        canvas.fill_text(str(house['d']),430,210)\n",
    "        canvas.fill_text(str(house['e']),530,210)\n",
    "        canvas.fill_text(str(house['f']),630,210)\n",
    "\n",
    "        canvas.fill_text(str(house['o']),730,175)\n",
    "        canvas.fill_text(str(house['O']),40,175)\n",
    "\n",
    "        return canvas"
   ]
  },
  {
   "cell_type": "code",
   "execution_count": null,
   "id": "ac7f9dc7",
   "metadata": {},
   "outputs": [],
   "source": [
    "Board().draw([(1,6,8,0,20,6,17), (0,0,4,18,2,1,3)])"
   ]
  },
  {
   "cell_type": "markdown",
   "id": "8c78f4bd",
   "metadata": {},
   "source": [
    "# Player Class\n",
    "\n",
    "#### Attributes:\n",
    "- *number*\n",
    "- *name*\n",
    "\n",
    "#### Methods:\n",
    "\n",
    "- *\\_\\_init__(number, name)*\n",
    "- *\\_\\_str__()*\n",
    "- *_available_house(own_house)*\n",
    "- *choose_house(current_state)*\n",
    "\n",
    "The class **Player** is the superclass which represents a Kalah game player. In Kalah there are exactly two players which compete against each other. \n",
    "\n",
    "The attribute *number* of a player has either the value 0 or 1 depending on the order in which the players take their turns.\n",
    "If the number of the player is 0, they start the game by having the first turn.\n",
    "Additionally, *number* represents the index of the state list which contains the player's list of house values.\n",
    "\n",
    "The attribute *name* is a string which represents the player's name in the UI or print and logging messages.\n",
    "\n",
    "### Method: __init__\n",
    "The method *\\_\\_init__(number, name)* initializes the **Player** object and checks if the given *number* is either 0 or 1 and if the given *name* is a string. If one of these criteria is not met, an error message is raised.\n",
    "\n",
    "### Method: __str__\n",
    "The method *\\_\\_str__()* defines the *name* of the **Player** object as their string representative for print messages."
   ]
  },
  {
   "cell_type": "code",
   "execution_count": null,
   "id": "01df35f1",
   "metadata": {},
   "outputs": [],
   "source": [
    "class Player:\n",
    "    \n",
    "    def __init__(self, number, name):\n",
    "        if number in [0,1]:\n",
    "            self.number = number\n",
    "        else:\n",
    "            raise ValueError(\"Number of player must be 0 or 1!\")\n",
    "        if isinstance(name, str):\n",
    "            self.name = name\n",
    "        else:\n",
    "            raise ValueError(\"Name must be a string!\")\n",
    "            \n",
    "    def __str__(self):\n",
    "        return self.name"
   ]
  },
  {
   "cell_type": "markdown",
   "id": "e37ec5c2",
   "metadata": {},
   "source": [
    "### Method: _available_house\n",
    "\n",
    "The private method *_available_house(own_house)* receives a list which represents the player's house and their store. The method returns a list with the indizes of all house which contain at least one seed (list indizes with a value higher than null)."
   ]
  },
  {
   "cell_type": "code",
   "execution_count": null,
   "id": "440eff8c",
   "metadata": {},
   "outputs": [],
   "source": [
    "def _available_house(self, own_house):\n",
    "    available = []\n",
    "    for i in range(len(own_house)):\n",
    "        if own_house[i] != 0:\n",
    "            available.append(i)\n",
    "    return available\n",
    "\n",
    "Player._available_house = _available_house\n",
    "del _available_house"
   ]
  },
  {
   "cell_type": "markdown",
   "id": "1e3e595f",
   "metadata": {},
   "source": [
    "### Method: choose_house\n",
    "\n",
    "The method *choose_house(current_state)* receives the current state of the Kalah board and returns the index of the chosen house from the player's house list. This method differentiates the **Player** subclasses and is therefore differently implemented in each of them. There is no basic implementation of this method in the **Player** class. This is why in the class **Kalah_Game** only subclasses of **Player** are accepted as players. Therefore, this class is intended as an abstract class."
   ]
  },
  {
   "cell_type": "code",
   "execution_count": null,
   "id": "9bc3e1ce",
   "metadata": {},
   "outputs": [],
   "source": [
    "def choose_house(self, current_state):\n",
    "    pass\n",
    "\n",
    "Player.choose_house = choose_house\n",
    "del choose_house"
   ]
  },
  {
   "cell_type": "markdown",
   "id": "a29364b0",
   "metadata": {},
   "source": [
    "## Tests of Player Class"
   ]
  },
  {
   "cell_type": "markdown",
   "id": "2390973d",
   "metadata": {},
   "source": [
    "### 1. Player number must be 0 or 1"
   ]
  },
  {
   "cell_type": "code",
   "execution_count": null,
   "id": "dd90eff5",
   "metadata": {},
   "outputs": [],
   "source": [
    "try:\n",
    "    Player(2, \"Player1\")\n",
    "except ValueError as e:\n",
    "    print(e)"
   ]
  },
  {
   "cell_type": "markdown",
   "id": "6023af2c",
   "metadata": {},
   "source": [
    "### 2. Player name must be a string"
   ]
  },
  {
   "cell_type": "code",
   "execution_count": null,
   "id": "722ef003",
   "metadata": {},
   "outputs": [],
   "source": [
    "try:\n",
    "    Player(0, 3)\n",
    "except ValueError as e:\n",
    "    print(e)"
   ]
  },
  {
   "cell_type": "markdown",
   "id": "4e5d6246",
   "metadata": {},
   "source": [
    "### 3. Successful Player creation"
   ]
  },
  {
   "cell_type": "code",
   "execution_count": null,
   "id": "f45e7185",
   "metadata": {},
   "outputs": [],
   "source": [
    "Player(0, \"Player1\")"
   ]
  },
  {
   "cell_type": "markdown",
   "id": "39ff7956",
   "metadata": {},
   "source": [
    "## Human Player Class\n",
    "\n",
    "The class **Human** inherits from **Player**.\n",
    "It is used for humans playing against each other or against one of the KIs. \n",
    "\n",
    "### Method: choose_house\n",
    "The method *choose_house(current_state)* is implemented as follows:\n",
    "\n",
    "At first the own house are extracted from the game state and the available house indizes are calculated using the method *_available_house*. Afterwards the human player is asked to choose one of the available house via a input field. With limiting the player to the available house, it is easier to detect a correct input. If the player enters an unvalid value, they are asked to input a value again until a valid value is given. The index of the corresponding house is returned."
   ]
  },
  {
   "cell_type": "code",
   "execution_count": null,
   "id": "7f6436e3",
   "metadata": {},
   "outputs": [],
   "source": [
    "class Human(Player):\n",
    "    \n",
    "    def choose_house(self, current_state):\n",
    "        own_t,store = current_state[self.number][:6],current_state[self.number][6]\n",
    "        available = self._available_house(own_t)\n",
    "        \n",
    "        i_string = \"Choose one of the available house:\\n\"\n",
    "        for i in available:\n",
    "            i_string += f\"{order[self.number][i]}, \"\n",
    "        \n",
    "        choice_str = \"\"\n",
    "        while choice_str not in [k for k in letter_numbers if letter_numbers[k] in available]:\n",
    "            choice_str = input(i_string[:-2]+\"\\n\").lower()\n",
    "        \n",
    "        choice = letter_numbers[choice_str]\n",
    "        return choice"
   ]
  },
  {
   "cell_type": "markdown",
   "id": "850def49",
   "metadata": {},
   "source": [
    "### Test of Human Player Class"
   ]
  },
  {
   "cell_type": "code",
   "execution_count": null,
   "id": "c2091194",
   "metadata": {},
   "outputs": [],
   "source": [
    "human = Human(1,\"Hans\")"
   ]
  },
  {
   "cell_type": "code",
   "execution_count": null,
   "id": "6046fac5",
   "metadata": {},
   "outputs": [],
   "source": [
    "#human.choose_house([[6,6,6,6,6,6,0], [6,0,6,6,4,6,0]])"
   ]
  },
  {
   "cell_type": "markdown",
   "id": "97a089db",
   "metadata": {},
   "source": [
    "## Random_KI Player Class\n",
    "\n",
    "The class **Random_KI** inherits from **Player**. It is a simple KI player implementation which chooses house at random.\n",
    "\n",
    "The class **Random_KI** has a modified *\\_\\_init__* function which has an additional argument *seed* for setting a seed for the <tt>random</tt> library functions. Whenever the same seed is set, the <tt>random</tt> function creates the same random numbers or chooses the same random objects from a list. Adding this argument eases the logging and debbuging of **Random_KI** players."
   ]
  },
  {
   "cell_type": "code",
   "execution_count": null,
   "id": "be572bd6",
   "metadata": {},
   "outputs": [],
   "source": [
    "import random as rn\n",
    "\n",
    "class Random_KI(Player):\n",
    "    \n",
    "    def __init__(self, number, name, seed):\n",
    "        rn.seed(seed)\n",
    "        super().__init__(number, name)"
   ]
  },
  {
   "cell_type": "markdown",
   "id": "599de72f",
   "metadata": {},
   "source": [
    "### Method: choose_house\n",
    "The method *choose_house(current_state)* is implemented as follows:\n",
    "\n",
    "At first the own house are extracted from the game state and the available house indizes are calculated using the method *_available_house*. From the list of available house indizes, one is chosen at random using the function <tt>choice</tt> from the library <tt>random</tt>. Afterwards, this value is returned."
   ]
  },
  {
   "cell_type": "code",
   "execution_count": null,
   "id": "3600c7d9",
   "metadata": {},
   "outputs": [],
   "source": [
    "def choose_house(self, current_state):\n",
    "    own_t,safe = current_state[self.number][:6],current_state[self.number][6]\n",
    "    available = self._available_house(own_t)\n",
    "\n",
    "    choice = rn.choice(available)\n",
    "\n",
    "    return choice\n",
    "\n",
    "Random_KI.choose_house = choose_house\n",
    "del choose_house"
   ]
  },
  {
   "cell_type": "markdown",
   "id": "0d38e0b3",
   "metadata": {},
   "source": [
    "### Test of Random_KI Player Class"
   ]
  },
  {
   "cell_type": "code",
   "execution_count": null,
   "id": "3943575d",
   "metadata": {},
   "outputs": [],
   "source": [
    "ki = Random_KI(0,\"Rando\", 1)"
   ]
  },
  {
   "cell_type": "code",
   "execution_count": null,
   "id": "d14eef61",
   "metadata": {},
   "outputs": [],
   "source": [
    "ki.choose_house([[6,6,6,6,6,6,0], [6,6,6,6,6,6,0]])"
   ]
  },
  {
   "cell_type": "markdown",
   "id": "7d3b4e05",
   "metadata": {},
   "source": [
    "# Kalah_Game Class\n",
    "\n",
    "#### Attributes:\n",
    "- *state*\n",
    "- *board*\n",
    "- *players*\n",
    "- *current_player*\n",
    "\n",
    "#### Methods:\n",
    "\n",
    "- *\\_\\_init__(players)*\n",
    "- *_other_player(player_num)*\n",
    "- *_show_state(state)*\n",
    "- *show_state()*\n",
    "- *draw_board()*\n",
    "- *_move(player_num, choice)*\n",
    "- *_finished()*\n",
    "- *_calculate_winner()*\n",
    "- *start()*\n",
    "- *utility(player_num)*\n",
    "\n",
    "The class **Kalah_Game** is the core of the Kalah game implementation. It contains all information on the game, including the current game state.\n",
    "\n",
    "The attribute *state* represents the state of the Kalah board which is defined by the number of seeds laying in each of the player's house and their stores. It is implemented by a nested list which contains a list for the house on each of the two players' sides. The last index of each of the lists is the store of that player. At the start of the game, where the stores are empty and there are six seeds in every house, the implemented representation of the state for example is: [[6,6,6,6,6,6,0], [6,6,6,6,6,6,0]].\n",
    "\n",
    "The attribute *board* is an instance of the earlier described **Board** class and has the purpose to draw the game UI.\n",
    "\n",
    "The attribute *players* is a list of the two players that play the game. They must be instances of a subclass of the **Player** class. The order in which they take turns is determined by their **Player** *number*: The player with the number 0 goes first.\n",
    "\n",
    "The attribute *current_player* has either the value 0 or 1. It takes track of which player's turn it currently is. If *current_player* has the value 0 for example, it is the turn of the player which stands at index 0 of the *players* list and therefore also has the **Player**'s class attribute *number* of value 0.\n",
    "\n",
    "### Method: __init__\n",
    "The method *\\_\\_init__(players)* initializes the game by setting the *state* to the initial state (seen above), initializing a board object and setting the *players* list using the received \"players\" argument. Before setting the *players* list, the received list is checked for the number of items it contains (must be exactly 2) and if the items in the list are both instances of a **Player** subclass (but not of the class **Player** itself). In error case, matching error messages are raised."
   ]
  },
  {
   "cell_type": "code",
   "execution_count": null,
   "id": "0312b55c",
   "metadata": {},
   "outputs": [],
   "source": [
    "class Kalah_Game():\n",
    "    \n",
    "    def __init__(self, players):\n",
    "        self.state = [[6,6,6,6,6,6,0], [6,6,6,6,6,6,0]]\n",
    "        self.board = Board()\n",
    "        \n",
    "        if len(players) != 2:\n",
    "            raise ValueError(\"There must be exactly two players!\")\n",
    "        if not ((isinstance(players[0], Player) and type(players[0]) != Player) \n",
    "            and (isinstance(players[1], Player) and type(players[1]) != Player)):\n",
    "            raise ValueError(\"Both players must be of instances of a subclass of the class Player!\")\n",
    "        if {players[0].number, players[1].number} != {0,1}:\n",
    "            raise ValueError(\"One of the players must be self.number 0 and the other one self.number 1!\")\n",
    "        \n",
    "        self.players = players\n",
    "        self.current_player = 0"
   ]
  },
  {
   "cell_type": "markdown",
   "id": "38e914e6",
   "metadata": {},
   "source": [
    "### Method: _other_player\n",
    "The auxiliary method *_other_player(player_num)* returns the opponent's player number to a given player number. This means that it returns 1 for the input 0, and 0 for the input 1."
   ]
  },
  {
   "cell_type": "code",
   "execution_count": null,
   "id": "d047b0e4",
   "metadata": {},
   "outputs": [],
   "source": [
    "def _other_player(self, player_num):\n",
    "    return (player_num + 1) % 2\n",
    "\n",
    "Kalah_Game._other_player = _other_player\n",
    "del _other_player"
   ]
  },
  {
   "cell_type": "markdown",
   "id": "f8fd6f18",
   "metadata": {},
   "source": [
    "### Methods: _show_state and show_state\n",
    "The private method *_show_state(state)* creates a formatted string which represents the received state and prints it to the console. It can be used as an alternative to the <tt>ipycanvas</tt> game UI.\n",
    "\n",
    "The method *show_state()* calls the private method *_show_state(state)* with the current game state (attribute *state*)."
   ]
  },
  {
   "cell_type": "code",
   "execution_count": null,
   "id": "a56c8009",
   "metadata": {},
   "outputs": [],
   "source": [
    "def _show_state(self, state):\n",
    "    s = f''\n",
    "\n",
    "    s += f'{self.players[0].name}:\\t\\t\\t'\n",
    "    for j in range(6,-1,-1):\n",
    "        s += f'{order[0][j]}: {state[0][j]}  '\n",
    "    s += f'\\n'\n",
    "\n",
    "    s += f'{self.players[1].name}:\\t\\t\\t'\n",
    "    for j in range(7):\n",
    "        s += f'{order[1][j]}: {state[1][j]}  '\n",
    "    s += f'\\n'\n",
    "\n",
    "    print(s)\n",
    "\n",
    "Kalah_Game._show_state = _show_state\n",
    "del _show_state"
   ]
  },
  {
   "cell_type": "code",
   "execution_count": null,
   "id": "8cf34507",
   "metadata": {},
   "outputs": [],
   "source": [
    "def show_state(self):\n",
    "    self._show_state(self.state)\n",
    "    \n",
    "Kalah_Game.show_state = show_state\n",
    "del show_state"
   ]
  },
  {
   "cell_type": "markdown",
   "id": "a98caf0d",
   "metadata": {},
   "source": [
    "### Method: draw_board\n",
    "The method *draw_board()* calls the *draw(state)* method of the *board* instance with the current game state (attribute *state*)."
   ]
  },
  {
   "cell_type": "code",
   "execution_count": null,
   "id": "74c74ef7",
   "metadata": {},
   "outputs": [],
   "source": [
    "def draw_board(self):\n",
    "    return self.board.draw(self.state)\n",
    "\n",
    "Kalah_Game.draw_board = draw_board\n",
    "del draw_board"
   ]
  },
  {
   "cell_type": "markdown",
   "id": "1406315e",
   "metadata": {},
   "source": [
    "### Method: _move\n",
    "The private method *_move(player_num, choice)* receives the number of the current player and the house index they have chosen as a result of the **Player** method *choose_house*. It calculates the actions of the player's turn and returns the resulting new game state.\n",
    "\n",
    "##### The calculations are implemented based on the following game rules:\n",
    "\n",
    "1. The current player choses one of his house. The seeds from the chosen house are placed counterclockwise in the house of both players and in the store of the current player. The store of the opponent is left out. Then it is the turn of the opponent.\n",
    "\n",
    "\n",
    "2. If the last seed is placed in the store of the current player, they get another move.\n",
    "\n",
    "\n",
    "3. If the last seed is placed in an empty house of the current player the seed from this house and all seeds from the opposite house are place in the store of the current player. Then it's the opponent's turn."
   ]
  },
  {
   "cell_type": "code",
   "execution_count": null,
   "id": "eeb7617e",
   "metadata": {},
   "outputs": [],
   "source": [
    "def _move(self, choice):\n",
    "    new_state = self.state.copy()\n",
    "\n",
    "    seeds = self.state[self.current_player][choice]\n",
    "    new_state[self.current_player][choice] = 0\n",
    "\n",
    "    c_house_player_num = self.current_player\n",
    "    c_house_num = choice\n",
    "\n",
    "    # Go through houses counterclockwise\n",
    "    while (seeds > 0):\n",
    "        c_house_num += 1\n",
    "\n",
    "        # Skip opponent's store\n",
    "        if(c_house_num == 6 and c_house_player_num != self.current_player):\n",
    "            continue\n",
    "\n",
    "        # Switch to houses of the other player\n",
    "        if(c_house_num > 6):\n",
    "            c_house_num = 0\n",
    "            c_house_player_num = self._other_player(c_house_player_num)\n",
    "\n",
    "        # Add seed to the currently visited house\n",
    "        new_state[c_house_player_num][c_house_num] += 1\n",
    "        seeds -= 1\n",
    "\n",
    "    # Check for special rules after last seed was placed in own store or own empty house:\n",
    "    if(c_house_player_num == self.current_player):\n",
    "\n",
    "        # Rule: Another turn if last seed is placed in own store\n",
    "        if(c_house_num == 6):\n",
    "            # Give current player another turn\n",
    "            print(f'Player {self.players[self.current_player].name} gets an extra turn!')\n",
    "            # Twist the order beforehand so the standard game loop grants the extra turn automatically\n",
    "            self.current_player = self._other_player(self.current_player)\n",
    "\n",
    "        # Rule: Last seed is placed in empty house of current player\n",
    "        elif(new_state[self.current_player][c_house_num] == 1):                \n",
    "            # Collect all seeds to be rewarded and empty both houses\n",
    "            receivedSeeds = new_state[self.current_player][c_house_num]\n",
    "            receivedSeeds += new_state[self._other_player(self.current_player)][5 - c_house_num]\n",
    "            new_state[self._other_player(self.current_player)][5 - c_house_num] = 0\n",
    "            new_state[self.current_player][c_house_num] = 0\n",
    "            # Award all the seeds to the current player's kalah\n",
    "            new_state[self.current_player][6] += receivedSeeds\n",
    "            print(f'Player {self.players[self.current_player].name} gets a steal for {receivedSeeds} Seeds!')\n",
    "\n",
    "    return new_state\n",
    "\n",
    "Kalah_Game._move = _move\n",
    "del _move"
   ]
  },
  {
   "cell_type": "markdown",
   "id": "5001ba39",
   "metadata": {},
   "source": [
    "### Method: _finished\n",
    "The private method *_finished()* checks if one of the players has no seeds in their house left and is therefore unable to take another turn. If this is the case, the method returns True, otherwise it returns False. "
   ]
  },
  {
   "cell_type": "code",
   "execution_count": null,
   "id": "2a683bfd",
   "metadata": {},
   "outputs": [],
   "source": [
    "def _finished(self):\n",
    "    sum0 = sum(self.state[0][:-1])\n",
    "    sum1 = sum(self.state[1][:-1])\n",
    "\n",
    "    if(not (sum0 == 0 or sum1 == 0)):\n",
    "        return False\n",
    "    self.show_state()\n",
    "    print(\"Finished Game!\")\n",
    "    return True\n",
    "\n",
    "Kalah_Game._finished = _finished\n",
    "del _finished"
   ]
  },
  {
   "cell_type": "markdown",
   "id": "bdbb407e",
   "metadata": {},
   "source": [
    "### Method: _calculate_winner\n",
    "The private method *_calculate_winner()* counts the seeds on each player's side of the board (house and store). The player with the higher number of seeds wins the game. If both players have the same number of seeds, the game ends with a draw. The method prints the winner to the console."
   ]
  },
  {
   "cell_type": "code",
   "execution_count": null,
   "id": "2084354c",
   "metadata": {},
   "outputs": [],
   "source": [
    "def _calculate_winner(self):\n",
    "    sum0 = sum(self.state[0])\n",
    "    sum1 = sum(self.state[1])\n",
    "    print(f\"{self.players[0]}: {sum0} Points. {self.players[1]}: {sum1} Points.\")\n",
    "    if(sum0 > sum1):\n",
    "        print(f\"{self.players[0]} wins!\")\n",
    "    elif(sum1 > sum0):\n",
    "        print(f\"{self.players[1]} wins!\")\n",
    "    else:\n",
    "        print(f\"Draw!\")\n",
    "        \n",
    "Kalah_Game._calculate_winner = _calculate_winner\n",
    "del _calculate_winner"
   ]
  },
  {
   "cell_type": "markdown",
   "id": "c05370af",
   "metadata": {},
   "source": [
    "### Method: start\n",
    "The method *start()* starts the Kalah game. Until the game is finished (the method *_finished()* returns True), both players take turns, starting with the player with the number 0. At the start of each turn, the current game state is shown. Next, the current player chooses one of the house with the **Player** method *choose_house(current_state)*. Afterwards, this choice is handed to the private method *_move(player_num, choice)* which calculates the new game state. The attribute *state* is updated with this new game state. Then it is the turn of the other player. If the game is finished, the method *_calculate_winner()* calculates which of the players wins the game and prints the result to the console."
   ]
  },
  {
   "cell_type": "code",
   "execution_count": null,
   "id": "b768b4ce",
   "metadata": {},
   "outputs": [],
   "source": [
    "def start(self):\n",
    "    while(not self._finished()):\n",
    "        print(\"Current state:\")\n",
    "        self.show_state()\n",
    "        print(f\"Next is {self.players[self.current_player].name}'s turn.\")\n",
    "\n",
    "        choice = self.players[self.current_player].choose_house(self.state)\n",
    "        print(f\"{self.players[self.current_player].name} chose {order[self.current_player][choice]}\")\n",
    "\n",
    "        self.state = self._move(choice)\n",
    "\n",
    "        self.current_player = self._other_player(self.current_player)\n",
    "\n",
    "    self._calculate_winner()\n",
    "    \n",
    "Kalah_Game.start = start\n",
    "del start"
   ]
  },
  {
   "cell_type": "markdown",
   "id": "b82d38ae",
   "metadata": {},
   "source": [
    "### Method: utility\n",
    "The  method *utility(player_num)* receives the number of the current player and uses the current state to calculate the utility of the state for the player. The method compares the seeds from both stores and returns an Integer dependent on the result. If the current player has more seeds than the opponent the method returns 1. If they own less seeds than the opponent the method returns -1 and if it is a draw the number 0 is returned.     "
   ]
  },
  {
   "cell_type": "code",
   "execution_count": null,
   "id": "3b0ce432",
   "metadata": {},
   "outputs": [],
   "source": [
    "def utility(self, player_num):\n",
    "    playerStore = self.state[player_num][6]\n",
    "    opponentStore = self.state[self._other_player(player_num)][6]\n",
    "    if(playerStore > opponentStore):\n",
    "        return 1\n",
    "    elif(playerStore == opponentStore):\n",
    "        return 0\n",
    "    else:\n",
    "        return -1\n",
    "    \n",
    "Kalah_Game.utility = utility\n",
    "del utility"
   ]
  },
  {
   "cell_type": "markdown",
   "id": "8eb064c5",
   "metadata": {},
   "source": [
    "## Tests of Kalah_Game Class"
   ]
  },
  {
   "cell_type": "markdown",
   "id": "70603406",
   "metadata": {},
   "source": [
    "### 1. There must be exactly two players"
   ]
  },
  {
   "cell_type": "code",
   "execution_count": null,
   "id": "20fcfe51",
   "metadata": {},
   "outputs": [],
   "source": [
    "try:\n",
    "    game = Kalah_Game([Player(0,\"Test\")])\n",
    "except ValueError as e:\n",
    "    print(e)"
   ]
  },
  {
   "cell_type": "markdown",
   "id": "3b5fc677",
   "metadata": {},
   "source": [
    "### 2. Players must be instances of a Player sublass"
   ]
  },
  {
   "cell_type": "code",
   "execution_count": null,
   "id": "b237e0db",
   "metadata": {},
   "outputs": [],
   "source": [
    "try:\n",
    "    game = Kalah_Game([Player(0,\"Test\"), Player(1,\"Test\")])\n",
    "except ValueError as e:\n",
    "    print(e)"
   ]
  },
  {
   "cell_type": "markdown",
   "id": "96af30e2",
   "metadata": {},
   "source": [
    "### 3. Player numbers must be 0 and 1"
   ]
  },
  {
   "cell_type": "code",
   "execution_count": null,
   "id": "36d7782f",
   "metadata": {},
   "outputs": [],
   "source": [
    "try:\n",
    "    game = Kalah_Game([Human(1,\"Human\"), Random_KI(1,\"KI\",2)])\n",
    "except ValueError as e:\n",
    "    print(e)"
   ]
  },
  {
   "cell_type": "markdown",
   "id": "3a9c6426",
   "metadata": {},
   "source": [
    "### 4. Successful Game creation with two KIs"
   ]
  },
  {
   "cell_type": "code",
   "execution_count": null,
   "id": "cbe11607",
   "metadata": {},
   "outputs": [],
   "source": [
    "game = Kalah_Game([Random_KI(0,\"KI1\",1), Random_KI(1,\"KI2\",2)])"
   ]
  },
  {
   "cell_type": "code",
   "execution_count": null,
   "id": "c9510a00",
   "metadata": {},
   "outputs": [],
   "source": [
    "game.show_state()"
   ]
  },
  {
   "cell_type": "code",
   "execution_count": null,
   "id": "d3180d92",
   "metadata": {
    "scrolled": false
   },
   "outputs": [],
   "source": [
    "game.start()"
   ]
  },
  {
   "cell_type": "code",
   "execution_count": null,
   "id": "3442d6eb",
   "metadata": {},
   "outputs": [],
   "source": [
    "gameHuman = Kalah_Game([Random_KI(0,\"KI2\",1), Human(1,\"Human\")])"
   ]
  },
  {
   "cell_type": "code",
   "execution_count": null,
   "id": "db1f7d52",
   "metadata": {},
   "outputs": [],
   "source": [
    "gameHuman.show_state()"
   ]
  },
  {
   "cell_type": "code",
   "execution_count": null,
   "id": "36338dc7",
   "metadata": {},
   "outputs": [],
   "source": [
    "gameHuman.start()"
   ]
  }
 ],
 "metadata": {
  "kernelspec": {
   "display_name": "Python 3 (ipykernel)",
   "language": "python",
   "name": "python3"
  },
  "language_info": {
   "codemirror_mode": {
    "name": "ipython",
    "version": 3
   },
   "file_extension": ".py",
   "mimetype": "text/x-python",
   "name": "python",
   "nbconvert_exporter": "python",
   "pygments_lexer": "ipython3",
   "version": "3.8.12"
  }
 },
 "nbformat": 4,
 "nbformat_minor": 5
}
