{
 "cells": [
  {
   "cell_type": "markdown",
   "source": "# AI Comparisons\n\nThis notebook is for comparing the different AIs by letting them compete against each other.\n\n<b style=\"background-color:yellow; color:blue\">TODO!!!!!</b>",
   "metadata": {
    "cell_id": "603a133b486546edb23ff3d2f3da3fed",
    "tags": [],
    "deepnote_cell_type": "markdown",
    "deepnote_cell_height": 157.234375
   }
  },
  {
   "cell_type": "code",
   "metadata": {
    "cell_id": "870c411ac16146bb90f3d9ca6905ea90",
    "tags": [],
    "deepnote_to_be_reexecuted": false,
    "source_hash": "6bd84484",
    "execution_start": 1652699693697,
    "execution_millis": 124,
    "deepnote_cell_type": "code",
    "deepnote_cell_height": 81.453125
   },
   "source": "%run Core.ipynb",
   "outputs": [],
   "execution_count": null
  },
  {
   "cell_type": "markdown",
   "source": "# Test Scout",
   "metadata": {
    "cell_id": "93a3cba0068a4ffc9c76b772da481357",
    "tags": [],
    "deepnote_cell_type": "markdown",
    "deepnote_cell_height": 82.453125
   }
  },
  {
   "cell_type": "code",
   "source": "%%time\n\ngCounts = 0\ngCache = {}\nCache = {}\nMinimax(\"Minimax\",5,0).choose_house(gStartState)\nprint(gCounts)",
   "metadata": {
    "cell_id": "b7e705c805e442e797b1a32548602a7e",
    "tags": [],
    "deepnote_to_be_reexecuted": true,
    "source_hash": "615be57e",
    "execution_start": 1652694962095,
    "execution_millis": 1521,
    "deepnote_cell_type": "code",
    "deepnote_cell_height": 258.234375
   },
   "outputs": [
    {
     "name": "stdout",
     "text": "3301\nCPU times: user 689 ms, sys: 3.71 ms, total: 692 ms\nWall time: 1.52 s\n",
     "output_type": "stream"
    }
   ],
   "execution_count": null
  },
  {
   "cell_type": "code",
   "metadata": {
    "cell_id": "bf56caa2931248a59fcfe8c51d6a1c14",
    "tags": [],
    "deepnote_to_be_reexecuted": true,
    "source_hash": "591bf5ae",
    "execution_start": 1652691802399,
    "execution_millis": 577,
    "deepnote_cell_type": "code",
    "deepnote_cell_height": 458.59375
   },
   "source": "%%time\ngCounts = 0\n\ngame = Kalah_Game([Scout(\"Scout\",3), Minimax(\"Mini\",3)],0)\ngame.start()\nwon = utility(game.state, 0)\n\nif(won == 1):\n    print(f\"{game.players[0]} wins!\")\nelif(won == -1):\n    print(f\"{game.players[1]} wins!\")\nelse:\n    print(f\"Draw!\")\n\nprint(game.state)\nprint(gCounts)",
   "outputs": [
    {
     "name": "stdout",
     "text": "Mini wins!\n[[0, 0, 0, 0, 0, 0, 13], [8, 1, 0, 0, 1, 0, 25]]\n11367\nCPU times: user 609 ms, sys: 630 µs, total: 610 ms\nWall time: 616 ms\n",
     "output_type": "stream"
    }
   ],
   "execution_count": null
  },
  {
   "cell_type": "code",
   "metadata": {
    "cell_id": "61e04173f958475e9f0318deb37c82b7",
    "tags": [],
    "deepnote_to_be_reexecuted": true,
    "source_hash": "8ad68ea4",
    "execution_start": 1652276169949,
    "execution_millis": 874,
    "deepnote_cell_type": "code",
    "deepnote_cell_height": 329.0625
   },
   "source": "game = Kalah_Game([Minimax(\"Mini\",3), Scout(\"Scout\",3)],0)\ngame.start()\nwon = utility(game.state, 0)\n\nif(won == 1):\n    print(f\"{game.players[0]} wins!\")\nelif(won == -1):\n    print(f\"{game.players[1]} wins!\")\nelse:\n    print(f\"Draw!\")\n\nprint(game.state)",
   "execution_count": null,
   "outputs": [
    {
     "name": "stdout",
     "text": "Mini wins!\n[[3, 0, 0, 0, 0, 0, 27], [0, 0, 0, 0, 0, 0, 18]]\n",
     "output_type": "stream"
    }
   ]
  },
  {
   "cell_type": "markdown",
   "source": "## Tests Minimax ",
   "metadata": {
    "cell_id": "d10e176d93994a55abfa0bcc53c6f755",
    "tags": [],
    "deepnote_cell_type": "markdown",
    "deepnote_cell_height": 70.46875
   }
  },
  {
   "cell_type": "markdown",
   "source": "In this section we are executing the following tests:\n\n- Random AI plays against Minimax AI\n- Two Minimax AI's play against each other with different limits",
   "metadata": {
    "cell_id": "793b718b592d4d50b00dd45ff30d7026",
    "tags": [],
    "deepnote_cell_type": "markdown",
    "deepnote_cell_height": 128.625
   }
  },
  {
   "cell_type": "markdown",
   "source": "### Test: Random_AI vs. Minimax",
   "metadata": {
    "tags": [],
    "cell_id": "93bdb372-0725-43b3-9fb6-4b57c2a546ec",
    "deepnote_to_be_reexecuted": false,
    "source_hash": "f7f06c10",
    "execution_start": 1650978068108,
    "execution_millis": 4,
    "deepnote_cell_type": "markdown",
    "deepnote_cell_height": 62.453125
   }
  },
  {
   "cell_type": "markdown",
   "source": "In this test the Random AI and the Minimax AI are playing against each other 100 times. The Random AI is the beginner for 50 games and the Minimax AI is the beginner for 50 games.",
   "metadata": {
    "cell_id": "50eb8261532b4c8990c08b364bd9b905",
    "tags": [],
    "deepnote_cell_type": "markdown",
    "deepnote_cell_height": 75.265625
   }
  },
  {
   "cell_type": "code",
   "metadata": {
    "cell_id": "da96102e151a47cb946a57ddaed48b63",
    "tags": [],
    "deepnote_to_be_reexecuted": true,
    "source_hash": "59d1b5a8",
    "execution_start": 1652272142920,
    "execution_millis": 1977,
    "deepnote_cell_type": "code",
    "deepnote_cell_height": 870.234375
   },
   "source": "%%time\n\nlimit = 2\nmini_wins = 0\nrando_wins = 0\n\nfor seed in range(50):\n    game1 = Kalah_Game([Random_AI(\"Rando\",seed), Minimax(\"Mini\",limit)],0)\n    game1.start()\n    won1 = utility(game1.state, 0)\n    \n    # print(\"\")\n    # game1.show_state() \n    if(won1 == 1):\n        # print(f\"{game1.players[0]} wins!\")\n        rando_wins += 1\n    elif(won1 == -1):\n        # print(f\"{game1.players[1]} wins!\")\n        mini_wins += 1\n    else:\n        # print(f\"Draw!\")\n        pass\n        \n    ############################\n    \n    game2 = Kalah_Game([Minimax(\"Mini\",limit), Random_AI(\"Rando\",seed)],0)\n    game2.start()\n    won2 = utility(game2.state, 0)\n\n\n    if(won2 == 1):\n        # print(f\"{game2.players[0]} wins!\")\n        mini_wins += 1\n    elif(won2 == -1):\n        # print(f\"{game2.players[1]} wins!\")\n        rando_wins += 1\n    else:\n        # print(f\"Draw!\")\n        pass\n            \nprint(f\"Rando won {rando_wins} times and Mini won {mini_wins} times!\")",
   "execution_count": null,
   "outputs": [
    {
     "name": "stdout",
     "text": "Rando won 0 times and Mini won 100 times!\nCPU times: user 1.77 s, sys: 50.1 ms, total: 1.82 s\nWall time: 1.82 s\n",
     "output_type": "stream"
    }
   ]
  },
  {
   "cell_type": "markdown",
   "source": "As expected the Minimax AI wins every time. ",
   "metadata": {
    "cell_id": "516513a4104a4f2fa2677e2880ba38e2",
    "tags": [],
    "deepnote_cell_type": "markdown",
    "deepnote_cell_height": 52.859375
   }
  },
  {
   "cell_type": "markdown",
   "source": "### Test: Minimax vs. Minimax with limit 2 and 3",
   "metadata": {
    "cell_id": "ce6366822df3408b8f46baefcf33d086",
    "tags": [],
    "deepnote_cell_type": "markdown",
    "deepnote_cell_height": 62.453125
   }
  },
  {
   "cell_type": "markdown",
   "source": "In this test two Minimax AI's with different limits are competing",
   "metadata": {
    "cell_id": "193a8a5377ed4ca6b6eee0180d3e7e88",
    "tags": [],
    "deepnote_cell_type": "markdown",
    "deepnote_cell_height": 52.859375
   }
  },
  {
   "cell_type": "code",
   "metadata": {
    "cell_id": "6b88eaefc031429a9197f653059d84f9",
    "tags": [],
    "deepnote_to_be_reexecuted": true,
    "source_hash": "18a3a3b1",
    "execution_start": 1652193414049,
    "execution_millis": 5710,
    "deepnote_cell_type": "code",
    "deepnote_cell_height": 870.234375
   },
   "source": "%%time\n\nlimit = 4\nmima_low = 0\nmima_high = 0\n\nfor i in range(50):\n    game1 = Kalah_Game([Minimax(\"Mima_high\",limit), Minimax(\"Mima_low\",limit-2)],0)\n    game1.start()\n    won1 = utility(game1.state, 0)\n    \n    # print(\"\")\n    # game1.show_state() \n    if(won1 == 1):\n        # print(f\"{game1.players[0]} wins!\")\n        mima_high += 1\n    elif(won1 == -1):\n        # print(f\"{game1.players[1]} wins!\")\n        mima_low += 1\n    else:\n        # print(f\"Draw!\")\n        pass\n        \n    ############################\n    \n    game2 = Kalah_Game([Minimax(\"Mima_low\",limit-2), Minimax(\"Mima_high\",limit)],0)\n    game2.start()\n    won2 = utility(game2.state, 0)\n\n\n    if(won2 == 1):\n        # print(f\"{game2.players[0]} wins!\")\n        mima_low += 1\n    elif(won2 == -1):\n        # print(f\"{game2.players[1]} wins!\")\n        mima_high += 1\n    else:\n        # print(f\"Draw!\")\n        pass\n            \nprint(f\"Mima_low won {mima_low} times and Mima_high won {mima_high} times!\")",
   "execution_count": null,
   "outputs": [
    {
     "name": "stdout",
     "text": "Mima_low won 0 times and Mima_high won 100 times!\nCPU times: user 5.73 s, sys: 22.8 ms, total: 5.75 s\nWall time: 5.75 s\n",
     "output_type": "stream"
    }
   ]
  },
  {
   "cell_type": "markdown",
   "source": "Bei Limitunterschied von 1 ist es ausgeglichen (je nachdem, wer beginnt). Bei Limitunterschied von mehr als 2 gewinnt immer Mima_high.",
   "metadata": {
    "cell_id": "56b0fb6159704c99865e6dd3501aeb10",
    "tags": [],
    "deepnote_cell_type": "markdown",
    "deepnote_cell_height": 75.265625
   }
  },
  {
   "cell_type": "markdown",
   "source": "## Tests: Alpha-Beta",
   "metadata": {
    "cell_id": "68f0edd4bd7b4059b8530326e52c04c0",
    "tags": [],
    "deepnote_cell_type": "markdown",
    "deepnote_cell_height": 70.46875
   }
  },
  {
   "cell_type": "markdown",
   "source": "In this section we are executing the following tests:\n\n- computation time for Minimax AI and AlphaBeta AI\n- Minimax AI plays against AlphaBeta AI with same and different limits\n- Minimax AI plays against AlphaBeta AI with different beginner",
   "metadata": {
    "cell_id": "090366f5bcbd4d6aaf9ac765a8448e23",
    "tags": [],
    "deepnote_cell_type": "markdown",
    "deepnote_cell_height": 154.015625
   }
  },
  {
   "cell_type": "markdown",
   "source": "### computation time: Minimax vs. AlphaBeta",
   "metadata": {
    "cell_id": "3c43142f330849218747698b060a6bca",
    "tags": [],
    "deepnote_cell_type": "markdown",
    "deepnote_cell_height": 62.453125
   }
  },
  {
   "cell_type": "markdown",
   "source": "In this tests two AI's with the same limit are playing against each other for the Minimax AI and the AlphaBeta AI to compare the comptutation time of a game.",
   "metadata": {
    "cell_id": "079009a984e64e0a97b8da47751d8e5b",
    "tags": [],
    "deepnote_cell_type": "markdown",
    "deepnote_cell_height": 75.265625
   }
  },
  {
   "cell_type": "code",
   "metadata": {
    "cell_id": "ca05472dd5bb4351bf62fa4dff4a50e3",
    "tags": [],
    "deepnote_to_be_reexecuted": true,
    "source_hash": "97c994e5",
    "execution_start": 1652193645527,
    "execution_millis": 3449,
    "deepnote_cell_type": "code",
    "deepnote_cell_height": 385.40625
   },
   "source": "%%time\ngame = Kalah_Game([Minimax(\"Mima_1\",4), Minimax(\"Mima_2\",4)],0)\ngame.start()\nwon = utility(game.state, 0)\n\nif(won == 1):\n    print(f\"{game.players[0]} wins!\")\nelif(won == -1):\n    print(f\"{game.players[1]} wins!\")\nelse:\n    print(f\"Draw!\")\n\nprint(game.state)",
   "execution_count": null,
   "outputs": [
    {
     "name": "stdout",
     "text": "Mima_2 wins!\n[[0, 0, 0, 0, 0, 0, 23], [1, 0, 0, 2, 11, 0, 11]]\nCPU times: user 3.42 s, sys: 19.6 ms, total: 3.44 s\nWall time: 3.45 s\n",
     "output_type": "stream"
    }
   ]
  },
  {
   "cell_type": "code",
   "metadata": {
    "cell_id": "7838fcc7357844049272160a1ae719da",
    "tags": [],
    "deepnote_to_be_reexecuted": true,
    "source_hash": "3e1561d9",
    "execution_start": 1652193649197,
    "execution_millis": 2419,
    "deepnote_cell_type": "code",
    "deepnote_cell_height": 385.40625
   },
   "source": "%%time\ngame = Kalah_Game([AlphaBeta(\"Ab_first\",4), AlphaBeta(\"Ab_second\",4)],0)\ngame.start()\nwon = utility(game.state, 0)\n\nif(won == 1):\n    print(f\"{game.players[0]} wins!\")\nelif(won == -1):\n    print(f\"{game.players[1]} wins!\")\nelse:\n    print(f\"Draw!\")\n\nprint(game.state)",
   "execution_count": null,
   "outputs": [
    {
     "name": "stdout",
     "text": "Ab_first wins!\n[[0, 1, 2, 1, 0, 3, 24], [0, 0, 0, 0, 0, 0, 17]]\nCPU times: user 2.48 s, sys: 12 ms, total: 2.49 s\nWall time: 2.49 s\n",
     "output_type": "stream"
    }
   ]
  },
  {
   "cell_type": "markdown",
   "source": "As expected the AlphaBeta AI's are faster than the Minimax AI's.",
   "metadata": {
    "cell_id": "cd36c0f55de14d989a55426e7c26d14f",
    "tags": [],
    "deepnote_cell_type": "markdown",
    "deepnote_cell_height": 52.859375
   }
  },
  {
   "cell_type": "markdown",
   "source": "### Test: Minimax vs. AlphaBeta",
   "metadata": {
    "cell_id": "d73fd376f0694de0aad3a704ff8df4ad",
    "tags": [],
    "deepnote_cell_type": "markdown",
    "deepnote_cell_height": 62.453125
   }
  },
  {
   "cell_type": "markdown",
   "source": "The two AI's Minimax and AlphaBeta are competing against each other with different limits.",
   "metadata": {
    "cell_id": "51bd6ad2920d46ae810291110620d898",
    "tags": [],
    "deepnote_cell_type": "markdown",
    "deepnote_cell_height": 52.859375
   }
  },
  {
   "cell_type": "code",
   "metadata": {
    "cell_id": "4b9cb4e23d00468fba46b0100d01d09c",
    "tags": [],
    "deepnote_to_be_reexecuted": true,
    "source_hash": "5de5af14",
    "execution_start": 1651671873893,
    "execution_millis": 60,
    "deepnote_cell_type": "code",
    "deepnote_cell_height": 347.046875
   },
   "source": "testlimit = 3\ngame = Kalah_Game([AlphaBeta(\"AB\",testlimit+2), Minimax(\"Mini\",testlimit)],0)\ngame.start()\nwon = utility(game.state, 0)\n\nif(won == 1):\n    print(f\"{game.players[0]} wins!\")\nelif(won == -1):\n    print(f\"{game.players[1]} wins!\")\nelse:\n    print(f\"Draw!\")\n\nprint(game.state)",
   "execution_count": null,
   "outputs": [
    {
     "name": "stdout",
     "text": "AB wins!\n[[0, 0, 0, 0, 0, 5, 27], [0, 0, 0, 0, 0, 0, 16]]\n",
     "output_type": "stream"
    }
   ]
  },
  {
   "cell_type": "code",
   "metadata": {
    "cell_id": "ef3cd07a0e88462ebff57c2244d9605a",
    "tags": [],
    "deepnote_to_be_reexecuted": true,
    "source_hash": "7240a372",
    "execution_start": 1651671874014,
    "execution_millis": 2574,
    "deepnote_cell_type": "code",
    "deepnote_cell_height": 347.046875
   },
   "source": "testlimit = 4\ngame = Kalah_Game([Minimax(\"Mini\",testlimit),AlphaBeta(\"AB\",testlimit)],0)\ngame.start()\nwon = utility(game.state, 0)\n\nif(won == 1):\n    print(f\"{game.players[0]} wins!\")\nelif(won == -1):\n    print(f\"{game.players[1]} wins!\")\nelse:\n    print(f\"Draw!\")\n\nprint(game.state)",
   "execution_count": null,
   "outputs": [
    {
     "name": "stdout",
     "text": "AB wins!\n[[0, 0, 0, 0, 0, 0, 23], [1, 0, 0, 2, 11, 0, 11]]\n",
     "output_type": "stream"
    }
   ]
  },
  {
   "cell_type": "markdown",
   "source": "With the same limit the first Player wins. ",
   "metadata": {
    "cell_id": "7dbc21305b274533820fb895239a6cdd",
    "tags": [],
    "deepnote_cell_type": "markdown",
    "deepnote_cell_height": 52.859375
   }
  },
  {
   "cell_type": "code",
   "metadata": {
    "cell_id": "7b7697ca745c40f4b7a14b9810d2d9c7",
    "tags": [],
    "deepnote_to_be_reexecuted": true,
    "source_hash": "98140d8b",
    "execution_start": 1652190359316,
    "execution_millis": 10,
    "deepnote_cell_type": "code",
    "deepnote_cell_height": 385.40625
   },
   "source": "%%time\ngame = Kalah_Game([Minimax(\"Mini\",5), AlphaBeta(\"AlphaBeta\",5)],0)\ngame.start()\nwon = utility(game.state, 0)\n\nif(won == 1):\n    print(f\"{game.players[0]} wins!\")\nelif(won == -1):\n    print(f\"{game.players[1]} wins!\")\nelse:\n    print(f\"Draw!\")\n\nprint(game.state)",
   "execution_count": null,
   "outputs": [
    {
     "name": "stdout",
     "text": "AlphaBeta wins!\n[[0, 0, 0, 0, 0, 0, 17], [1, 1, 11, 0, 0, 1, 17]]\nCPU times: user 44.6 ms, sys: 3 µs, total: 44.6 ms\nWall time: 44.2 ms\n",
     "output_type": "stream"
    }
   ]
  },
  {
   "cell_type": "markdown",
   "source": "### Test: Minimax vs. AlphaBeta with different beginner",
   "metadata": {
    "cell_id": "fe2b8e9029404341b387fa1962ecf683",
    "tags": [],
    "deepnote_cell_type": "markdown",
    "deepnote_cell_height": 62.453125
   }
  },
  {
   "cell_type": "code",
   "metadata": {
    "cell_id": "e9a7b8cb31de439a9ce9ad05038a7375",
    "tags": [],
    "deepnote_to_be_reexecuted": true,
    "source_hash": "48d3033a",
    "execution_start": 1652273371596,
    "execution_millis": 16448,
    "deepnote_cell_type": "code",
    "deepnote_cell_height": 906.21875
   },
   "source": "%%time\n\nlimit = 3\nmini_wins = 0\nalphabeta_wins = 0\n\nfor seed in range(20):\n    #print(seed)\n    game1 = Kalah_Game([AlphaBeta(\"AlphaBeta\", limit+1, seed), Minimax(\"Mini\", limit, seed)],0)\n    game1.start()\n    won1 = utility(game1.state, 0)\n    \n    # print(\"\")\n    # game1.show_state() \n    if(won1 == 1):\n        # print(f\"{game1.players[0]} wins!\")\n        alphabeta_wins += 1\n    elif(won1 == -1):\n        # print(f\"{game1.players[1]} wins!\")\n        mini_wins += 1\n    else:\n        #print(f\"Draw!\")\n        pass\n        \n    ############################\n    \n    game2 = Kalah_Game([Minimax(\"Mini\", limit, seed), AlphaBeta(\"AlphaBeta\", limit+1, seed)],0)\n    game2.start()\n    won2 = utility(game2.state, 0)\n    \n    # print(\"\")\n    # game2.show_state() \n    if(won2 == 1):\n        # print(f\"{game2.players[0]} wins!\")\n        mini_wins += 1\n    elif(won2 == -1):\n        # print(f\"{game2.players[1]} wins!\")\n        alphabeta_wins += 1\n    else:\n        #print(f\"Draw!\")\n        pass\n            \nprint(f\"AlphaBeta won {alphabeta_wins} times and Mini won {mini_wins} times!\")",
   "execution_count": null,
   "outputs": [
    {
     "name": "stdout",
     "text": "AlphaBeta won 23 times and Mini won 16 times!\nCPU times: user 16.1 s, sys: 176 ms, total: 16.3 s\nWall time: 16.3 s\n",
     "output_type": "stream"
    }
   ]
  },
  {
   "cell_type": "markdown",
   "source": "## Tests: Scout",
   "metadata": {
    "cell_id": "7f3f4535f32c427eb554345868f5a68d",
    "tags": [],
    "deepnote_cell_type": "markdown",
    "deepnote_cell_height": 70.46875
   }
  },
  {
   "cell_type": "markdown",
   "source": "In this section we are executing the following tests:\n\n- computation time for AlphaBeta AI and Scout AI\n- Minimax AI plays against Scout AI with same and different limits\n- AlphaBeta AI plays against Scout AI with same and different limits\n- Minimax AI plays against Scout AI with different beginner\n- AlphaBeta AI plays against Scout AI with different beginner",
   "metadata": {
    "cell_id": "bce70889765341e786d13521021c3a76",
    "tags": [],
    "deepnote_cell_type": "markdown",
    "deepnote_cell_height": 204.796875
   }
  },
  {
   "cell_type": "markdown",
   "source": "game = Kalah_Game([Minimax(\"Mini\",5), Scout(\"Scout\",5)],0)\ngame.start()\nwon = utility(game.state, 0)\n\nif(won == 1):\n    print(f\"{game.players[0]} wins!\")\nelif(won == -1):\n    print(f\"{game.players[1]} wins!\")\nelse:\n    print(f\"Draw!\")\n\nprint(game.state)",
   "metadata": {
    "cell_id": "eb133ed40b614f8eb3bb84fd446b0bca",
    "tags": [],
    "deepnote_cell_type": "markdown",
    "deepnote_cell_height": 125.640625
   }
  },
  {
   "cell_type": "markdown",
   "source": "# Time Comparisons Minimax, AlphaBeta, Scout",
   "metadata": {
    "cell_id": "064325ed9f5c494e9126e3fef6c66443",
    "tags": [],
    "deepnote_cell_type": "markdown",
    "deepnote_cell_height": 134.453125
   }
  },
  {
   "cell_type": "code",
   "source": "%run Core.ipynb",
   "metadata": {
    "cell_id": "2de340541a7342bb9ea72d57ecf4920f",
    "tags": [],
    "deepnote_to_be_reexecuted": false,
    "source_hash": "6bd84484",
    "execution_start": 1652707191290,
    "execution_millis": 108,
    "deepnote_cell_type": "code",
    "deepnote_cell_height": 81.453125
   },
   "outputs": [],
   "execution_count": 121
  },
  {
   "cell_type": "code",
   "metadata": {
    "cell_id": "249b84f1eaad4b2f98ab9f9b9b13ff83",
    "tags": [],
    "deepnote_to_be_reexecuted": false,
    "source_hash": "f90c71ea",
    "execution_start": 1652707191789,
    "execution_millis": 4,
    "deepnote_cell_type": "code",
    "deepnote_cell_height": 441.453125
   },
   "source": "from datetime import datetime\nimport numpy as np\nimport pandas as pd\n\ndef testWithLimit(PlayerClass, limit):\n    global Cache\n    global gCache\n    global Cache_test\n    global Cache_eval\n    global gCounts\n    gCounts = 0\n    time = datetime.now()\n    for seed in range(5):\n        Cache = {}\n        gCache = {}\n        Cache_test = {}\n        Cache_eval = {}\n        Kalah_Game([PlayerClass(\"Player_1\",limit,seed),PlayerClass(\"Player_2\",limit,seed)],0).start()\n    time_diff = datetime.now() - time\n    time_diff = float(time_diff.total_seconds())\n    return time_diff",
   "execution_count": 122,
   "outputs": []
  },
  {
   "cell_type": "code",
   "source": "limits = [2,3,4,5,6]\n\nmini_counts = []\nalphabeta_counts  = []\nscout_counts  = []\n\nmini_times = []\nalphabeta_times  = []\nscout_times  = []",
   "metadata": {
    "cell_id": "8c7f6afc6c47424a99ae66bec0669352",
    "tags": [],
    "deepnote_to_be_reexecuted": false,
    "source_hash": "796d868f",
    "execution_start": 1652707192707,
    "execution_millis": 1,
    "deepnote_cell_type": "code",
    "deepnote_cell_height": 225.46875
   },
   "outputs": [],
   "execution_count": 123
  },
  {
   "cell_type": "code",
   "source": "for limit in limits:\n    mini_times.append(testWithLimit(Minimax, limit))\n    mini_counts.append(gCounts)",
   "metadata": {
    "cell_id": "b5ed0922985543a6b918d3d005fbcc63",
    "tags": [],
    "deepnote_to_be_reexecuted": false,
    "source_hash": "aedb8952",
    "execution_start": 1652707192872,
    "execution_millis": 16918,
    "deepnote_cell_type": "code",
    "deepnote_cell_height": 117.453125
   },
   "outputs": [],
   "execution_count": 124
  },
  {
   "cell_type": "code",
   "source": "for limit in limits:\n    alphabeta_times.append(testWithLimit(AlphaBeta, limit))\n    alphabeta_counts.append(gCounts)",
   "metadata": {
    "cell_id": "7dcdee06f14643c786f84584de4c8c2b",
    "tags": [],
    "deepnote_to_be_reexecuted": false,
    "source_hash": "9e8a386a",
    "execution_start": 1652707209834,
    "execution_millis": 10650,
    "deepnote_cell_type": "code",
    "deepnote_cell_height": 117.453125
   },
   "outputs": [],
   "execution_count": 125
  },
  {
   "cell_type": "code",
   "source": "for limit in limits:\n    scout_times.append(testWithLimit(Scout, limit))\n    scout_counts.append(gCounts)",
   "metadata": {
    "cell_id": "ca803d40aecf4ad58dd424610d4ef909",
    "tags": [],
    "deepnote_to_be_reexecuted": false,
    "source_hash": "eb427d3e",
    "execution_start": 1652707220610,
    "execution_millis": 15725,
    "deepnote_cell_type": "code",
    "deepnote_cell_height": 117.453125
   },
   "outputs": [],
   "execution_count": 126
  },
  {
   "cell_type": "code",
   "metadata": {
    "cell_id": "50ee3fd0a9cd441bbc8a0139e2342e74",
    "tags": [],
    "deepnote_to_be_reexecuted": false,
    "source_hash": "272e4bc0",
    "execution_start": 1652707236344,
    "execution_millis": 354,
    "deepnote_cell_type": "code",
    "deepnote_cell_height": 629.703125,
    "deepnote_output_heights": [
     279.984375
    ]
   },
   "source": "import matplotlib as mlp\nimport matplotlib.pyplot as plt\n\nplt.title('Calculation time for 5 games of two identical player algorithms')\nplt.xlabel('Limit depth')\nplt.ylabel('Node inspections')\n\nplt.plot(limits, mini_counts, label=\"Minimax\")\nplt.plot(limits, alphabeta_counts, label=\"AlphaBeta\")\nplt.plot(limits, scout_counts, label=\"Scout\")\n\nplt.legend(loc='upper left', frameon=True)\n\n# Diagramm anzeigen:\nplt.show()",
   "execution_count": 127,
   "outputs": [
    {
     "data": {
      "text/plain": "<Figure size 432x288 with 1 Axes>",
      "image/png": "[encoded data removed]"
     },
     "metadata": {
      "needs_background": "light",
      "image/png": {
       "width": 424,
       "height": 278
      }
     },
     "output_type": "display_data"
    }
   ]
  },
  {
   "cell_type": "code",
   "source": "import matplotlib as mlp\nimport matplotlib.pyplot as plt\n\nplt.title('Calculation time for 5 games of two identical player algorithms')\nplt.xlabel('Limit depth')\nplt.ylabel('Time in Seconds')\n\nplt.plot(limits, mini_times, label=\"Minimax\")\nplt.plot(limits, alphabeta_times, label=\"AlphaBeta\")\nplt.plot(limits, scout_times, label=\"Scout\")\n\nplt.legend(loc='upper left', frameon=True)\n\n# Diagramm anzeigen:\nplt.show()",
   "metadata": {
    "cell_id": "600dc92b0fe9444ab10d32c5d5bd39f7",
    "tags": [],
    "deepnote_to_be_reexecuted": false,
    "source_hash": "565db2cb",
    "execution_start": 1652707236738,
    "execution_millis": 351,
    "deepnote_cell_type": "code",
    "deepnote_cell_height": 629.703125,
    "deepnote_output_heights": [
     279.984375
    ]
   },
   "outputs": [
    {
     "data": {
      "text/plain": "<Figure size 432x288 with 1 Axes>",
      "image/png": "[encoded data removed]"
     },
     "metadata": {
      "needs_background": "light",
      "image/png": {
       "width": 406,
       "height": 278
      }
     },
     "output_type": "display_data"
    }
   ],
   "execution_count": 128
  },
  {
   "cell_type": "code",
   "metadata": {
    "cell_id": "3765032336ce47238c35c3af12d313b0",
    "tags": [],
    "deepnote_to_be_reexecuted": true,
    "source_hash": "b623e53d",
    "owner_user_id": "f69dee13-5c5e-4b97-89fa-71f96690ed33",
    "deepnote_cell_type": "code",
    "deepnote_cell_height": 81.453125
   },
   "source": "",
   "execution_count": null,
   "outputs": []
  },
  {
   "cell_type": "markdown",
   "source": "<a style='text-decoration:none;line-height:16px;display:flex;color:#5B5B62;padding:10px;justify-content:end;' href='https://deepnote.com?utm_source=created-in-deepnote-cell&projectId=b91c3ea7-d814-439b-837a-72fdc90697b1' target=\"_blank\">\n<img alt='Created in deepnote.com' style='display:inline;max-height:16px;margin:0px;margin-right:7.5px;' src='data:image/svg+xml;base64,PD94bWwgdmVyc2lvbj0iMS4wIiBlbmNvZGluZz0iVVRGLTgiPz4KPHN2ZyB3aWR0aD0iODBweCIgaGVpZ2h0PSI4MHB4IiB2aWV3Qm94PSIwIDAgODAgODAiIHZlcnNpb249IjEuMSIgeG1sbnM9Imh0dHA6Ly93d3cudzMub3JnLzIwMDAvc3ZnIiB4bWxuczp4bGluaz0iaHR0cDovL3d3dy53My5vcmcvMTk5OS94bGluayI+CiAgICA8IS0tIEdlbmVyYXRvcjogU2tldGNoIDU0LjEgKDc2NDkwKSAtIGh0dHBzOi8vc2tldGNoYXBwLmNvbSAtLT4KICAgIDx0aXRsZT5Hcm91cCAzPC90aXRsZT4KICAgIDxkZXNjPkNyZWF0ZWQgd2l0aCBTa2V0Y2guPC9kZXNjPgogICAgPGcgaWQ9IkxhbmRpbmciIHN0cm9rZT0ibm9uZSIgc3Ryb2tlLXdpZHRoPSIxIiBmaWxsPSJub25lIiBmaWxsLXJ1bGU9ImV2ZW5vZGQiPgogICAgICAgIDxnIGlkPSJBcnRib2FyZCIgdHJhbnNmb3JtPSJ0cmFuc2xhdGUoLTEyMzUuMDAwMDAwLCAtNzkuMDAwMDAwKSI+CiAgICAgICAgICAgIDxnIGlkPSJHcm91cC0zIiB0cmFuc2Zvcm09InRyYW5zbGF0ZSgxMjM1LjAwMDAwMCwgNzkuMDAwMDAwKSI+CiAgICAgICAgICAgICAgICA8cG9seWdvbiBpZD0iUGF0aC0yMCIgZmlsbD0iIzAyNjVCNCIgcG9pbnRzPSIyLjM3NjIzNzYyIDgwIDM4LjA0NzY2NjcgODAgNTcuODIxNzgyMiA3My44MDU3NTkyIDU3LjgyMTc4MjIgMzIuNzU5MjczOSAzOS4xNDAyMjc4IDMxLjY4MzE2ODMiPjwvcG9seWdvbj4KICAgICAgICAgICAgICAgIDxwYXRoIGQ9Ik0zNS4wMDc3MTgsODAgQzQyLjkwNjIwMDcsNzYuNDU0OTM1OCA0Ny41NjQ5MTY3LDcxLjU0MjI2NzEgNDguOTgzODY2LDY1LjI2MTk5MzkgQzUxLjExMjI4OTksNTUuODQxNTg0MiA0MS42NzcxNzk1LDQ5LjIxMjIyODQgMjUuNjIzOTg0Niw0OS4yMTIyMjg0IEMyNS40ODQ5Mjg5LDQ5LjEyNjg0NDggMjkuODI2MTI5Niw0My4yODM4MjQ4IDM4LjY0NzU4NjksMzEuNjgzMTY4MyBMNzIuODcxMjg3MSwzMi41NTQ0MjUgTDY1LjI4MDk3Myw2Ny42NzYzNDIxIEw1MS4xMTIyODk5LDc3LjM3NjE0NCBMMzUuMDA3NzE4LDgwIFoiIGlkPSJQYXRoLTIyIiBmaWxsPSIjMDAyODY4Ij48L3BhdGg+CiAgICAgICAgICAgICAgICA8cGF0aCBkPSJNMCwzNy43MzA0NDA1IEwyNy4xMTQ1MzcsMC4yNTcxMTE0MzYgQzYyLjM3MTUxMjMsLTEuOTkwNzE3MDEgODAsMTAuNTAwMzkyNyA4MCwzNy43MzA0NDA1IEM4MCw2NC45NjA0ODgyIDY0Ljc3NjUwMzgsNzkuMDUwMzQxNCAzNC4zMjk1MTEzLDgwIEM0Ny4wNTUzNDg5LDc3LjU2NzA4MDggNTMuNDE4MjY3Nyw3MC4zMTM2MTAzIDUzLjQxODI2NzcsNTguMjM5NTg4NSBDNTMuNDE4MjY3Nyw0MC4xMjg1NTU3IDM2LjMwMzk1NDQsMzcuNzMwNDQwNSAyNS4yMjc0MTcsMzcuNzMwNDQwNSBDMTcuODQzMDU4NiwzNy43MzA0NDA1IDkuNDMzOTE5NjYsMzcuNzMwNDQwNSAwLDM3LjczMDQ0MDUgWiIgaWQ9IlBhdGgtMTkiIGZpbGw9IiMzNzkzRUYiPjwvcGF0aD4KICAgICAgICAgICAgPC9nPgogICAgICAgIDwvZz4KICAgIDwvZz4KPC9zdmc+' > </img>\nCreated in <span style='font-weight:600;margin-left:4px;'>Deepnote</span></a>",
   "metadata": {
    "tags": [],
    "created_in_deepnote_cell": true,
    "deepnote_cell_type": "markdown"
   }
  }
 ],
 "nbformat": 4,
 "nbformat_minor": 2,
 "metadata": {
  "orig_nbformat": 2,
  "deepnote": {},
  "deepnote_notebook_id": "1c75c9b8-b0de-4186-968a-2f0ad623c796",
  "deepnote_execution_queue": []
 }
}