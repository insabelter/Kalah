{
 "cells": [
  {
   "cell_type": "markdown",
   "source": "# AI Comparisons\n\nThis notebook is for comparing the different AIs by letting them compete against each other.\n\n<b style=\"background-color:yellow; color:blue\">TODO!!!!!</b>",
   "metadata": {
    "cell_id": "603a133b486546edb23ff3d2f3da3fed",
    "tags": [],
    "deepnote_cell_type": "markdown",
    "deepnote_cell_height": 156.78125
   }
  },
  {
   "cell_type": "code",
   "metadata": {
    "cell_id": "870c411ac16146bb90f3d9ca6905ea90",
    "tags": [],
    "deepnote_to_be_reexecuted": false,
    "source_hash": "6bd84484",
    "execution_start": 1651670683881,
    "execution_millis": 134,
    "deepnote_cell_type": "code",
    "deepnote_cell_height": 81,
    "deepnote_output_heights": [
     78.75
    ]
   },
   "source": "%run Core.ipynb",
   "execution_count": 195,
   "outputs": []
  },
  {
   "cell_type": "code",
   "source": "gCache = {}",
   "metadata": {
    "cell_id": "dfee762f5b2a4edf95448d88be2c5e57",
    "tags": [],
    "deepnote_to_be_reexecuted": false,
    "source_hash": "b4b80184",
    "execution_start": 1651670424700,
    "execution_millis": 1,
    "deepnote_cell_type": "code",
    "deepnote_cell_height": 81
   },
   "outputs": [],
   "execution_count": 180
  },
  {
   "cell_type": "code",
   "metadata": {
    "cell_id": "976cccda683246f8b788596f7c6bc1ba",
    "tags": [],
    "deepnote_to_be_reexecuted": false,
    "source_hash": "8bf76742",
    "execution_start": 1651670799408,
    "execution_millis": 373,
    "deepnote_cell_type": "code",
    "deepnote_cell_height": 953,
    "deepnote_output_heights": [
     611,
     424.125
    ]
   },
   "source": "%%time\n#gCache = {}\ntestlimit = 3\ngame = Kalah_Game([AlphaBeta(\"AlphaBeta\",testlimit), AlphaBeta(\"AlphaBeta\",testlimit)],0)\ngame.start()\nwon = utility(game.state, 0)\n\nif(won == 1):\n    print(f\"{game.players[0]} wins!\")\nelif(won == -1):\n    print(f\"{game.players[1]} wins!\")\nelse:\n    print(f\"Draw!\")\n\nprint(game.state)",
   "execution_count": 200,
   "outputs": [
    {
     "name": "stdout",
     "text": "0.12\n[5]\n-0.08\n[1]\n-0.08\n[0]\n0.24\n[2]\n0.24\n[5]\n0.24\n[4]\n-0.2\n[1, 3]\n0.24\n[5, 5]\n0.24\n[1, 3]\n-0.2\n[0]\n0.28\n[5]\n0.28\n[4]\n-0.16\n[1]\n0.28\n[5]\n0.28\n[0]\n-0.16\n[4]\n0.32\n[0]\n-0.28\n[2]\n0.36\n[4]\n0.36\n[5]\n0.36\n[3]\n0.36\n[5]\n0.36\n[4]\n-0.28\n[3]\n0.44\n[2]\n0.44\n[4]\n0.44\n[1]\n-0.28\n[4]\n-0.28\n[2]\n0.32\n[3, 5]\n0.32\n[4]\n0.32\n[0]\n-0.28\n[5]\n0.4\n[0, 1]\n-0.2\n[3]\n0.36\n[2, 5]\n-0.36\n[0, 2, 4, 4, 4, 4, 4, 4, 4, 4]\n-0.36\n[0, 1, 2, 3, 5, 5, 5, 5]\n0.44\n[2]\n-0.44\n[1, 5]\n-0.44\n[1]\n0.44\n[4, 4]\n0.44\n[3, 5]\n0.44\n[3]\n-0.36\n[2, 3]\n1\n[4]\n-1\n[3, 4, 4]\n-1\n[3, 5]\n1\n[5]\nAlphaBeta wins!\n[[0, 0, 0, 0, 0, 0, 28], [0, 0, 0, 0, 1, 2, 17]]\nCPU times: user 420 ms, sys: 16.1 ms, total: 436 ms\nWall time: 429 ms\n",
     "output_type": "stream"
    }
   ]
  },
  {
   "cell_type": "code",
   "metadata": {
    "cell_id": "1df122a466174f589121aeefbcfc136f",
    "tags": [],
    "deepnote_to_be_reexecuted": false,
    "source_hash": "df95117d",
    "execution_start": 1651670907790,
    "execution_millis": 2479,
    "deepnote_cell_type": "code",
    "deepnote_cell_height": 953,
    "deepnote_output_heights": [
     500.875,
     424.125
    ]
   },
   "source": "%%time\n#gCache = {}\ntestlimit = 3\ngame = Kalah_Game([Minimax(\"Minimax\",testlimit,0), AlphaBeta(\"AlphaBeta\",testlimit+2)],0)\ngame.start()\nwon = utility(game.state, 0)\n\nif(won == 1):\n    print(f\"{game.players[0]} wins!\")\nelif(won == -1):\n    print(f\"{game.players[1]} wins!\")\nelse:\n    print(f\"Draw!\")\n\nprint(game.state)",
   "execution_count": 207,
   "outputs": [
    {
     "name": "stdout",
     "text": "-0.16\n[5]\n-0.12\n[1, 1]\n-0.12\n[5, 5]\n-0.12\n[3, 4]\n-0.16\n[5]\n-0.16\n[3]\n-0.2\n[0, 1, 5, 5]\n-0.2\n[0, 1]\n0.04\n[0]\n1\n[4, 5, 5]\n1\n[4, 4]\n1\n[1, 5]\n1\n[0, 3, 5, 5]\nAlphaBeta wins!\n[[0, 0, 0, 0, 0, 0, 15], [0, 0, 12, 2, 0, 1, 18]]\nCPU times: user 2.51 s, sys: 3.31 ms, total: 2.51 s\nWall time: 2.5 s\n",
     "output_type": "stream"
    }
   ]
  },
  {
   "cell_type": "markdown",
   "source": "## Test: Alpha-Beta",
   "metadata": {
    "cell_id": "68f0edd4bd7b4059b8530326e52c04c0",
    "tags": [],
    "owner_user_id": "7c84efd6-9dfe-4698-8d7f-9a6307a4d527",
    "deepnote_cell_type": "markdown",
    "deepnote_cell_height": 70
   }
  },
  {
   "cell_type": "markdown",
   "source": "##### Notizen:\n\n- Zweiter Spieler gewinnt bei gleichem Limit (limit 2&4) (müsste andersrum sein)\n- Bei Limit 3 gewinnt erster\n\n- Vermutung: Bei geradem Limit gewinnt 2. Spieler, sonst 1.\n- Bei Limit 5 gewinnt aber 2. Spieler\n- Bei Limit 6 gewinnt aber 1. Spieler",
   "metadata": {
    "cell_id": "f02e87b662ee42b9b3193757bea4e47a",
    "tags": [],
    "deepnote_cell_type": "markdown",
    "deepnote_cell_height": 203.953125
   }
  },
  {
   "cell_type": "code",
   "metadata": {
    "cell_id": "4b9cb4e23d00468fba46b0100d01d09c",
    "tags": [],
    "deepnote_to_be_reexecuted": false,
    "source_hash": "5de5af14",
    "execution_start": 1651671043200,
    "execution_millis": 6636,
    "owner_user_id": "f69dee13-5c5e-4b97-89fa-71f96690ed33",
    "deepnote_cell_type": "code",
    "deepnote_cell_height": 917
   },
   "source": "testlimit = 3\ngame = Kalah_Game([AlphaBeta(\"AB\",testlimit+2), Minimax(\"Mini\",testlimit)],0)\ngame.start()\nwon = utility(game.state, 0)\n\nif(won == 1):\n    print(f\"{game.players[0]} wins!\")\nelif(won == -1):\n    print(f\"{game.players[1]} wins!\")\nelse:\n    print(f\"Draw!\")\n\nprint(game.state)",
   "execution_count": 210,
   "outputs": [
    {
     "name": "stdout",
     "text": "0.24\n[5]\n0.32\n[2]\n0.32\n[5]\n0.32\n[3]\n0.36\n[5]\n0.36\n[4]\n0.64\n[5]\n0.64\n[1]\n0.72\n[4]\n0.72\n[5]\n0.72\n[1]\n0.76\n[5]\n0.76\n[3]\n0.76\n[5]\n0.76\n[4]\n0.76\n[5]\n0.76\n[2]\n0.76\n[5]\n0.76\n[0]\n0.76\n[5]\n0.76\n[4]\n0.76\n[5]\n0.76\n[3]\n1\n[0, 2, 3, 4, 4, 4, 4]\n1\n[5, 5, 5, 5]\n1\n[0, 1, 2, 3]\n1\n[1, 1, 1, 1, 2, 5, 5, 5, 5, 5, 5, 5, 5, 5, 5, 5, 5, 5, 5, 5]\n1\n[0, 4, 4, 4]\n1\n[0, 2, 3]\n1\n[3]\n1\n[0, 4, 4, 5]\n1\n[1, 5]\nAB wins!\n[[0, 0, 0, 0, 0, 5, 27], [0, 0, 0, 0, 0, 0, 16]]\n",
     "output_type": "stream"
    }
   ]
  },
  {
   "cell_type": "code",
   "metadata": {
    "cell_id": "ef3cd07a0e88462ebff57c2244d9605a",
    "tags": [],
    "deepnote_to_be_reexecuted": false,
    "source_hash": "7240a372",
    "execution_start": 1651671057896,
    "execution_millis": 4793,
    "deepnote_cell_type": "code",
    "deepnote_cell_height": 914
   },
   "source": "testlimit = 4\ngame = Kalah_Game([Minimax(\"Mini\",testlimit),AlphaBeta(\"AB\",testlimit)],0)\ngame.start()\nwon = utility(game.state, 0)\n\nif(won == 1):\n    print(f\"{game.players[0]} wins!\")\nelif(won == -1):\n    print(f\"{game.players[1]} wins!\")\nelse:\n    print(f\"Draw!\")\n\nprint(game.state)",
   "execution_count": 212,
   "outputs": [
    {
     "name": "stdout",
     "text": "-0.24\n[1, 5]\n-0.28\n[1, 1, 1]\n-0.28\n[5, 5, 5]\n-0.28\n[2, 3, 4]\n-0.24\n[5, 5]\n-0.24\n[2, 4]\n-0.24\n[0, 5, 5]\n-0.2\n[5, 5]\n-0.2\n[3, 3]\n-0.2\n[0, 5]\n-0.2\n[2, 5]\n-0.2\n[2]\n-0.2\n[1]\n1\n[0, 1, 2, 3]\nAB wins!\n[[0, 0, 0, 0, 0, 0, 23], [1, 0, 0, 2, 11, 0, 11]]\n",
     "output_type": "stream"
    }
   ]
  },
  {
   "cell_type": "markdown",
   "source": "With the same limit the first Player wins. ",
   "metadata": {
    "cell_id": "7dbc21305b274533820fb895239a6cdd",
    "tags": [],
    "deepnote_cell_type": "markdown",
    "deepnote_cell_height": 52.390625
   }
  },
  {
   "cell_type": "markdown",
   "source": "### Rechenlaufzeit: Minimax gegen AlphaBeta",
   "metadata": {
    "cell_id": "3c43142f330849218747698b060a6bca",
    "tags": [],
    "deepnote_cell_type": "markdown",
    "deepnote_cell_height": 62
   }
  },
  {
   "cell_type": "code",
   "metadata": {
    "cell_id": "ca05472dd5bb4351bf62fa4dff4a50e3",
    "tags": [],
    "deepnote_to_be_reexecuted": false,
    "source_hash": "97c994e5",
    "execution_start": 1651580898555,
    "execution_millis": 5262,
    "deepnote_cell_type": "code",
    "deepnote_cell_height": 388.75
   },
   "source": "%%time\ngame = Kalah_Game([Minimax(\"Mima_1\",4), Minimax(\"Mima_2\",4)],0)\ngame.start()\nwon = utility(game.state, 0)\n\nif(won == 1):\n    print(f\"{game.players[0]} wins!\")\nelif(won == -1):\n    print(f\"{game.players[1]} wins!\")\nelse:\n    print(f\"Draw!\")\n\nprint(game.state)",
   "execution_count": null,
   "outputs": [
    {
     "name": "stdout",
     "text": "Mima_2 wins!\n[[0, 0, 0, 0, 0, 0, 23], [1, 0, 0, 2, 11, 0, 11]]\nCPU times: user 3.19 s, sys: 44.1 ms, total: 3.23 s\nWall time: 4.73 s\n",
     "output_type": "stream"
    }
   ]
  },
  {
   "cell_type": "code",
   "metadata": {
    "cell_id": "7838fcc7357844049272160a1ae719da",
    "tags": [],
    "deepnote_to_be_reexecuted": false,
    "source_hash": "3e1561d9",
    "execution_start": 1651580950346,
    "execution_millis": 694,
    "deepnote_cell_type": "code",
    "deepnote_cell_height": 1091.125
   },
   "source": "%%time\ngame = Kalah_Game([AlphaBeta(\"Ab_first\",4), AlphaBeta(\"Ab_second\",4)],0)\ngame.start()\nwon = utility(game.state, 0)\n\nif(won == 1):\n    print(f\"{game.players[0]} wins!\")\nelif(won == -1):\n    print(f\"{game.players[1]} wins!\")\nelse:\n    print(f\"Draw!\")\n\nprint(game.state)",
   "execution_count": null,
   "outputs": [
    {
     "name": "stdout",
     "text": "Test\nTest\nTest\nTest\nTest\nTest\nTest\nTest\nTest\nTest\nTest\nTest\nTest\nTest\nTest\nTest\nTest\nTest\nTest\nTest\nTest\nTest\nTest\nTest\nTest\nTest\nTest\nTest\nTest\nTest\nTest\nTest\nTest\nTest\nTest\nTest\nTest\nTest\nTest\nTest\nTest\nTest\nTest\nTest\nTest\nTest\nTest\nTest\nTest\nTest\nTest\n",
     "output_type": "stream"
    },
    {
     "output_type": "error",
     "ename": "ValueError",
     "evalue": "No choice for AlphaBeta found! \nbestVal: -0.44\nBestChoices: []\nnext_states: [([[0, 2, 4, 2, 0, 5, 8], [0, 5, 1, 9, 1, 8, 3]], [0]), ([[0, 2, 4, 2, 0, 5, 8], [3, 0, 1, 9, 2, 9, 3]], [1]), ([[1, 3, 5, 3, 1, 5, 8], [3, 4, 0, 0, 2, 9, 4]], [3]), ([[0, 2, 4, 2, 0, 5, 8], [3, 4, 0, 8, 0, 9, 3]], [4]), ([[1, 3, 5, 3, 1, 6, 8], [4, 4, 0, 8, 1, 0, 4]], [5])]",
     "traceback": [
      "\u001b[0;31m---------------------------------------------------------------------------\u001b[0m",
      "\u001b[0;31mValueError\u001b[0m                                Traceback (most recent call last)",
      "\u001b[0;32m<timed exec>\u001b[0m in \u001b[0;36m<module>\u001b[0;34m\u001b[0m\n",
      "\u001b[0;32m<ipython-input-48-9d1ab790a4b3>\u001b[0m in \u001b[0;36mstart\u001b[0;34m(self)\u001b[0m\n\u001b[1;32m     12\u001b[0m             \u001b[0mtime\u001b[0m\u001b[0;34m.\u001b[0m\u001b[0msleep\u001b[0m\u001b[0;34m(\u001b[0m\u001b[0;36m0.05\u001b[0m\u001b[0;34m)\u001b[0m\u001b[0;34m\u001b[0m\u001b[0;34m\u001b[0m\u001b[0m\n\u001b[1;32m     13\u001b[0m \u001b[0;34m\u001b[0m\u001b[0m\n\u001b[0;32m---> 14\u001b[0;31m         \u001b[0mchoice\u001b[0m \u001b[0;34m=\u001b[0m \u001b[0mself\u001b[0m\u001b[0;34m.\u001b[0m\u001b[0mplayers\u001b[0m\u001b[0;34m[\u001b[0m\u001b[0mself\u001b[0m\u001b[0;34m.\u001b[0m\u001b[0mcurrent_player\u001b[0m\u001b[0;34m]\u001b[0m\u001b[0;34m.\u001b[0m\u001b[0mchoose_house\u001b[0m\u001b[0;34m(\u001b[0m\u001b[0mself\u001b[0m\u001b[0;34m.\u001b[0m\u001b[0mstate\u001b[0m\u001b[0;34m)\u001b[0m\u001b[0;34m\u001b[0m\u001b[0;34m\u001b[0m\u001b[0m\n\u001b[0m\u001b[1;32m     15\u001b[0m \u001b[0;34m\u001b[0m\u001b[0m\n\u001b[1;32m     16\u001b[0m         \u001b[0;32mif\u001b[0m \u001b[0mself\u001b[0m\u001b[0;34m.\u001b[0m\u001b[0mdisplay_mode\u001b[0m \u001b[0;34m!=\u001b[0m \u001b[0;36m0\u001b[0m\u001b[0;34m:\u001b[0m\u001b[0;34m\u001b[0m\u001b[0;34m\u001b[0m\u001b[0m\n",
      "\u001b[0;32m<ipython-input-48-8486151b4ab4>\u001b[0m in \u001b[0;36mchoose_house\u001b[0;34m(self, current_state)\u001b[0m\n\u001b[1;32m      7\u001b[0m \u001b[0;34m\u001b[0m\u001b[0m\n\u001b[1;32m      8\u001b[0m     \u001b[0;32mif\u001b[0m \u001b[0mlen\u001b[0m\u001b[0;34m(\u001b[0m\u001b[0mBestChoices\u001b[0m\u001b[0;34m)\u001b[0m \u001b[0;34m==\u001b[0m \u001b[0;36m0\u001b[0m\u001b[0;34m:\u001b[0m\u001b[0;34m\u001b[0m\u001b[0;34m\u001b[0m\u001b[0m\n\u001b[0;32m----> 9\u001b[0;31m         \u001b[0;32mraise\u001b[0m \u001b[0mValueError\u001b[0m\u001b[0;34m(\u001b[0m\u001b[0;34mf'No choice for AlphaBeta found! \\nbestVal: {bestVal}\\nBestChoices: {BestChoices}\\nnext_states: {NS}'\u001b[0m\u001b[0;34m)\u001b[0m\u001b[0;31m#\u001b[0m\u001b[0;34m\u001b[0m\u001b[0;34m\u001b[0m\u001b[0m\n\u001b[0m\u001b[1;32m     10\u001b[0m \u001b[0;34m\u001b[0m\u001b[0m\n\u001b[1;32m     11\u001b[0m     \u001b[0;31m# Find best choice, where number of seeds in own Store is maximized (out of next_states)\u001b[0m\u001b[0;34m\u001b[0m\u001b[0;34m\u001b[0m\u001b[0;34m\u001b[0m\u001b[0m\n",
      "\u001b[0;31mValueError\u001b[0m: No choice for AlphaBeta found! \nbestVal: -0.44\nBestChoices: []\nnext_states: [([[0, 2, 4, 2, 0, 5, 8], [0, 5, 1, 9, 1, 8, 3]], [0]), ([[0, 2, 4, 2, 0, 5, 8], [3, 0, 1, 9, 2, 9, 3]], [1]), ([[1, 3, 5, 3, 1, 5, 8], [3, 4, 0, 0, 2, 9, 4]], [3]), ([[0, 2, 4, 2, 0, 5, 8], [3, 4, 0, 8, 0, 9, 3]], [4]), ([[1, 3, 5, 3, 1, 6, 8], [4, 4, 0, 8, 1, 0, 4]], [5])]"
     ]
    }
   ]
  },
  {
   "cell_type": "code",
   "metadata": {
    "cell_id": "7b7697ca745c40f4b7a14b9810d2d9c7",
    "tags": [],
    "deepnote_to_be_reexecuted": false,
    "source_hash": "825e430f",
    "execution_start": 1651578154568,
    "execution_millis": 19595,
    "deepnote_cell_type": "code",
    "deepnote_cell_height": 388.75
   },
   "source": "%%time\ngame = Kalah_Game([Minimax(\"Mini\",5), AlphaBeta(\"Ab_first\",5)],0)\ngame.start()\nwon = utility(game.state, 0)\n\nif(won == 1):\n    print(f\"{game.players[0]} wins!\")\nelif(won == -1):\n    print(f\"{game.players[1]} wins!\")\nelse:\n    print(f\"Draw!\")\n\nprint(game.state)",
   "execution_count": null,
   "outputs": [
    {
     "name": "stdout",
     "text": "Ab_first wins!\n[[0, 0, 0, 0, 0, 0, 17], [1, 1, 11, 0, 0, 1, 17]]\nCPU times: user 19.5 s, sys: 36.6 ms, total: 19.6 s\nWall time: 19.6 s\n",
     "output_type": "stream"
    }
   ]
  },
  {
   "cell_type": "markdown",
   "source": "### Vergleich: Minimax gegen AlphaBeta mit unterschiedlichem Beginner",
   "metadata": {
    "cell_id": "fe2b8e9029404341b387fa1962ecf683",
    "tags": [],
    "deepnote_cell_type": "markdown",
    "deepnote_cell_height": 62
   }
  },
  {
   "cell_type": "code",
   "metadata": {
    "cell_id": "e9a7b8cb31de439a9ce9ad05038a7375",
    "tags": [],
    "deepnote_to_be_reexecuted": false,
    "source_hash": "ea8b4438",
    "execution_start": 1651580861192,
    "execution_millis": 661,
    "deepnote_cell_type": "code",
    "deepnote_cell_height": 1312.3125
   },
   "source": "%%time\n\nlimit = 2\nmini_wins = 0\nalphabeta_wins = 0\n\nfor seed in range(20):\n    print(seed)\n    game1 = Kalah_Game([AlphaBeta(\"AlphaBeta\", limit, seed), Minimax(\"Mini\", limit, seed)],0)\n    game1.start()\n    won1 = utility(game1.state, 0)\n    \n    # print(\"\")\n    # game1.show_state() \n    if(won1 == 1):\n        # print(f\"{game1.players[0]} wins!\")\n        alphabeta_wins += 1\n    elif(won1 == -1):\n        # print(f\"{game1.players[1]} wins!\")\n        mini_wins += 1\n    else:\n        # print(f\"Draw!\")\n        pass\n        \n    ############################\n    \n    game2 = Kalah_Game([Minimax(\"Mini\", limit, seed), AlphaBeta(\"AlphaBeta\", limit, seed)],0)\n    game2.start()\n    won2 = utility(game2.state, 0)\n    \n    # print(\"\")\n    # game2.show_state() \n    if(won2 == 1):\n        # print(f\"{game2.players[0]} wins!\")\n        mini_wins += 1\n    elif(won2 == -1):\n        # print(f\"{game2.players[1]} wins!\")\n        alphabeta_wins += 1\n    else:\n        # print(f\"Draw!\")\n        pass\n            \nprint(f\"AlphaBeta won {alphabeta_wins} times and Mini won {mini_wins} times!\")",
   "execution_count": null,
   "outputs": [
    {
     "name": "stdout",
     "text": "0\n1\n2\n3\n4\n5\n6\n7\n8\n9\n10\n11\n12\n13\n14\n15\n16\n17\n18\n19\nAlphaBeta won 13 times and Mini won 23 times!\nCPU times: user 609 ms, sys: 7.43 ms, total: 617 ms\nWall time: 708 ms\n",
     "output_type": "stream"
    }
   ]
  },
  {
   "cell_type": "markdown",
   "source": "## Test: Random_AI vs. Minimax",
   "metadata": {
    "tags": [],
    "cell_id": "93bdb372-0725-43b3-9fb6-4b57c2a546ec",
    "deepnote_to_be_reexecuted": false,
    "source_hash": "f7f06c10",
    "execution_start": 1650978068108,
    "execution_millis": 4,
    "deepnote_cell_type": "markdown",
    "deepnote_cell_height": 70
   }
  },
  {
   "cell_type": "code",
   "metadata": {
    "cell_id": "da96102e151a47cb946a57ddaed48b63",
    "tags": [],
    "deepnote_to_be_reexecuted": false,
    "source_hash": "72cbe321",
    "execution_start": 1651564742131,
    "execution_millis": 2976,
    "deepnote_cell_type": "code",
    "deepnote_cell_height": 1457
   },
   "source": "%%time\n\nlimit = 2\nmini_wins = 0\nrando_wins = 0\n\nfor seed in range(100):\n    print(seed)\n    game1 = Kalah_Game([Random_AI(\"Rando\",seed), Minimax(\"Mini\",limit)],0)\n    game1.start()\n    won1 = utility(game1.state, 0)\n    \n    # print(\"\")\n    # game1.show_state() \n    if(won1 == 1):\n        # print(f\"{game1.players[0]} wins!\")\n        rando_wins += 1\n    elif(won1 == -1):\n        # print(f\"{game1.players[1]} wins!\")\n        mini_wins += 1\n    else:\n        # print(f\"Draw!\")\n        pass\n        \n    ############################\n    \n    game2 = Kalah_Game([Minimax(\"Mini\",limit), Random_AI(\"Rando\",seed)],0)\n    game2.start()\n    won2 = utility(game2.state, 0)\n    \n    # print(\"\")\n    # game2.show_state() \n    if(won2 == 1):\n        # print(f\"{game2.players[0]} wins!\")\n        mini_wins += 1\n    elif(won2 == -1):\n        # print(f\"{game2.players[1]} wins!\")\n        rando_wins += 1\n    else:\n        # print(f\"Draw!\")\n        pass\n            \nprint(f\"Rando won {rando_wins} times and Mini won {mini_wins} times!\")",
   "execution_count": null,
   "outputs": [
    {
     "name": "stdout",
     "text": "0\n1\n2\n3\n4\n5\n6\n7\n8\n9\n10\n11\n12\n13\n14\n15\n16\n17\n18\n19\n20\n21\n22\n23\n24\n25\n26\n27\n28\n29\n30\n31\n32\n33\n34\n35\n36\n37\n38\n39\n40\n41\n42\n43\n44\n45\n46\n47\n48\n49\n50\n51\n52\n53\n54\n55\n56\n57\n58\n59\n60\n61\n62\n63\n64\n65\n66\n67\n68\n69\n70\n71\n72\n73\n74\n75\n76\n77\n78\n79\n80\n81\n82\n83\n84\n85\n86\n87\n88\n89\n90\n91\n92\n93\n94\n95\n96\n97\n98\n99\nRando won 0 times and Mini won 200 times!\nCPU times: user 3.03 s, sys: 20.1 ms, total: 3.05 s\nWall time: 3.04 s\n",
     "output_type": "stream"
    }
   ]
  },
  {
   "cell_type": "markdown",
   "source": "## Test: Minimax vs. Minimax with limit 2 and 3",
   "metadata": {
    "cell_id": "ce6366822df3408b8f46baefcf33d086",
    "tags": [],
    "deepnote_cell_type": "markdown",
    "deepnote_cell_height": 70
   }
  },
  {
   "cell_type": "code",
   "metadata": {
    "cell_id": "6b88eaefc031429a9197f653059d84f9",
    "tags": [],
    "deepnote_to_be_reexecuted": false,
    "source_hash": "c69dfa58",
    "execution_start": 1651578842672,
    "execution_millis": 21,
    "deepnote_cell_type": "code",
    "deepnote_cell_height": 330.375
   },
   "source": "game = Kalah_Game([Minimax(\"Mini_1\",1),Minimax(\"Mini_2\",2)],0)\ngame.start()\nwon = utility(game.state, 0)\n\nif(won == 1):\n    print(f\"{game.players[0]} wins!\")\nelif(won == -1):\n    print(f\"{game.players[1]} wins!\")\nelse:\n    print(f\"Draw!\")\n\nprint(game.state)",
   "execution_count": null,
   "outputs": [
    {
     "name": "stdout",
     "text": "Mini_2 wins!\n[[0, 0, 0, 0, 0, 0, 15], [0, 0, 0, 15, 0, 0, 18]]\n",
     "output_type": "stream"
    }
   ]
  },
  {
   "cell_type": "markdown",
   "source": "## Test: AlphaBeta vs. Minimax ",
   "metadata": {
    "cell_id": "155cea13988647458d8c55d378fbb20b",
    "tags": [],
    "deepnote_cell_type": "markdown",
    "deepnote_cell_height": 70
   }
  },
  {
   "cell_type": "markdown",
   "source": "",
   "metadata": {
    "cell_id": "f649530fe697407197c3f35bc9bc5520",
    "tags": [],
    "deepnote_cell_type": "markdown",
    "deepnote_cell_height": 46
   }
  },
  {
   "cell_type": "code",
   "source": "gCache = {}\nAlphaBeta(\"Alphi\",2).choose_house(gStartState)",
   "metadata": {
    "cell_id": "35625ea8af1a45ba9becc98d8da5f238",
    "tags": [],
    "deepnote_to_be_reexecuted": false,
    "source_hash": "556a6198",
    "execution_start": 1651666989698,
    "execution_millis": 6,
    "deepnote_cell_type": "code",
    "deepnote_cell_height": 202.5625,
    "deepnote_output_heights": [
     null,
     21.1875
    ]
   },
   "outputs": [
    {
     "name": "stdout",
     "text": "0.0\n[2, 2]\n",
     "output_type": "stream"
    },
    {
     "output_type": "execute_result",
     "execution_count": 63,
     "data": {
      "text/plain": "2"
     },
     "metadata": {}
    }
   ],
   "execution_count": 63
  },
  {
   "cell_type": "code",
   "source": "counter = 0\nfor ns,_ in next_states([[4,4,0,5,0,6,2],[5,5,5,4,4,4,0]],0):\n    for ns1,_ in next_states(ns,1):\n        for ns2,choices in next_states(ns1,0):\n            if (ns2[0][6]) <= (ns2[1][6]):\n                print(ns2)\n                print(\"First choice \"+str(choices[0]))\n                counter +=1\n                \nprint(counter)",
   "metadata": {
    "cell_id": "1436edc432b841ebb8335c238db47660",
    "tags": [],
    "deepnote_to_be_reexecuted": false,
    "source_hash": "91501a1b",
    "execution_start": 1651669468899,
    "execution_millis": 7,
    "deepnote_cell_type": "code",
    "deepnote_cell_height": 863,
    "deepnote_output_heights": [
     193.875
    ]
   },
   "outputs": [
    {
     "name": "stdout",
     "text": "[[0, 2, 2, 7, 2, 8, 2], [5, 0, 0, 6, 6, 6, 2]]\nFirst choice 0\n[[5, 0, 2, 6, 1, 7, 2], [5, 0, 0, 6, 6, 6, 2]]\nFirst choice 1\n[[5, 1, 0, 7, 1, 7, 2], [5, 0, 0, 6, 6, 6, 2]]\nFirst choice 2\n[[5, 1, 1, 6, 0, 8, 2], [5, 0, 0, 6, 6, 6, 2]]\nFirst choice 4\n[[0, 2, 2, 7, 2, 8, 2], [5, 0, 6, 0, 6, 6, 2]]\nFirst choice 0\n[[5, 0, 2, 6, 1, 7, 2], [5, 0, 6, 0, 6, 6, 2]]\nFirst choice 1\n[[5, 1, 0, 7, 1, 7, 2], [5, 0, 6, 0, 6, 6, 2]]\nFirst choice 2\n[[5, 1, 1, 6, 0, 8, 2], [5, 0, 6, 0, 6, 6, 2]]\nFirst choice 4\n[[0, 2, 3, 7, 2, 8, 2], [5, 0, 6, 5, 0, 6, 2]]\nFirst choice 0\n[[5, 0, 3, 6, 1, 7, 2], [5, 0, 6, 5, 0, 6, 2]]\nFirst choice 1\n[[5, 1, 0, 7, 2, 7, 2], [5, 0, 6, 5, 0, 6, 2]]\nFirst choice 2\n[[5, 1, 2, 6, 0, 8, 2], [5, 0, 6, 5, 0, 6, 2]]\nFirst choice 4\n[[0, 2, 3, 8, 2, 8, 2], [5, 0, 6, 5, 5, 0, 2]]\nFirst choice 0\n[[5, 0, 3, 7, 1, 7, 2], [5, 0, 6, 5, 5, 0, 2]]\nFirst choice 1\n[[5, 1, 0, 8, 2, 7, 2], [5, 0, 6, 5, 5, 0, 2]]\nFirst choice 2\n[[5, 1, 2, 7, 0, 8, 2], [5, 0, 6, 5, 5, 0, 2]]\nFirst choice 4\n16\n",
     "output_type": "stream"
    }
   ],
   "execution_count": 147
  },
  {
   "cell_type": "markdown",
   "source": "<a style='text-decoration:none;line-height:16px;display:flex;color:#5B5B62;padding:10px;justify-content:end;' href='https://deepnote.com?utm_source=created-in-deepnote-cell&projectId=b91c3ea7-d814-439b-837a-72fdc90697b1' target=\"_blank\">\n<img alt='Created in deepnote.com' style='display:inline;max-height:16px;margin:0px;margin-right:7.5px;' src='data:image/svg+xml;base64,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' > </img>\nCreated in <span style='font-weight:600;margin-left:4px;'>Deepnote</span></a>",
   "metadata": {
    "tags": [],
    "created_in_deepnote_cell": true,
    "deepnote_cell_type": "markdown"
   }
  }
 ],
 "nbformat": 4,
 "nbformat_minor": 2,
 "metadata": {
  "orig_nbformat": 2,
  "deepnote": {},
  "deepnote_notebook_id": "1c75c9b8-b0de-4186-968a-2f0ad623c796",
  "deepnote_execution_queue": []
 }
}