{
 "cells": [
  {
   "cell_type": "markdown",
   "source": "# AI Comparisons\n\nThis notebook is for comparing the different AIs by letting them compete against each other.\n\n<b style=\"background-color:yellow; color:blue\">TODO!!!!!</b>",
   "metadata": {
    "cell_id": "603a133b486546edb23ff3d2f3da3fed",
    "tags": [],
    "deepnote_cell_type": "markdown",
    "deepnote_cell_height": 156.78125
   }
  },
  {
   "cell_type": "code",
   "metadata": {
    "cell_id": "870c411ac16146bb90f3d9ca6905ea90",
    "tags": [],
    "deepnote_to_be_reexecuted": false,
    "source_hash": "6bd84484",
    "execution_start": 1651474373916,
    "execution_millis": 156,
    "deepnote_cell_type": "code",
    "deepnote_cell_height": 81,
    "deepnote_output_heights": [
     78.75,
     607
    ]
   },
   "source": "%run Core.ipynb",
   "execution_count": null,
   "outputs": []
  },
  {
   "cell_type": "markdown",
   "source": "## Test: Alpha-Beta",
   "metadata": {
    "cell_id": "68f0edd4bd7b4059b8530326e52c04c0",
    "tags": [],
    "deepnote_cell_type": "markdown",
    "deepnote_cell_height": 70
   }
  },
  {
   "cell_type": "markdown",
   "source": "##### Notizen:\n\n- Zweiter Spieler gewinnt bei gleichem Limit (limit 2&4) (müsste andersrum sein)\n- Bei Limit 3 gewinnt erster\n\n- Vermutung: Bei geradem Limit gewinnt 2. Spieler, sonst 1.\n- Bei Limit 5 gewinnt aber 2. Spieler\n- Bei Limit 6 gewinnt aber 1. Spieler",
   "metadata": {
    "cell_id": "f02e87b662ee42b9b3193757bea4e47a",
    "tags": [],
    "deepnote_cell_type": "markdown",
    "deepnote_cell_height": 203.953125
   }
  },
  {
   "cell_type": "code",
   "metadata": {
    "cell_id": "976cccda683246f8b788596f7c6bc1ba",
    "tags": [],
    "deepnote_to_be_reexecuted": false,
    "source_hash": "1d06da41",
    "execution_start": 1651474777910,
    "execution_millis": 167342,
    "deepnote_cell_type": "code",
    "deepnote_cell_height": 348.375
   },
   "source": "testlimit = 6\ngame = Kalah_Game([Minimax(0,\"Mini\",testlimit), AlphaBeta(1,\"AB\",testlimit)],0)\ngame.start()\nwon = utility(game.state, 0)\n\nif(won == 1):\n    print(f\"{game.players[0]} wins!\")\nelif(won == -1):\n    print(f\"{game.players[1]} wins!\")\nelse:\n    print(f\"Draw!\")\n\nprint(game.state)",
   "execution_count": null,
   "outputs": [
    {
     "name": "stdout",
     "text": "Mini wins!\n[[0, 0, 13, 1, 4, 0, 18], [0, 0, 0, 0, 0, 0, 12]]\n",
     "output_type": "stream"
    }
   ]
  },
  {
   "cell_type": "code",
   "metadata": {
    "cell_id": "4b9cb4e23d00468fba46b0100d01d09c",
    "tags": [],
    "deepnote_to_be_reexecuted": false,
    "source_hash": "11cdee4a",
    "execution_start": 1651474991364,
    "execution_millis": 145470,
    "deepnote_cell_type": "code",
    "deepnote_cell_height": 348.375
   },
   "source": "testlimit = 6\ngame = Kalah_Game([AlphaBeta(0,\"AB\",testlimit), Minimax(1,\"Mini\",testlimit)],0)\ngame.start()\nwon = utility(game.state, 0)\n\nif(won == 1):\n    print(f\"{game.players[0]} wins!\")\nelif(won == -1):\n    print(f\"{game.players[1]} wins!\")\nelse:\n    print(f\"Draw!\")\n\nprint(game.state)",
   "execution_count": null,
   "outputs": [
    {
     "name": "stdout",
     "text": "AB wins!\n[[0, 0, 13, 1, 4, 0, 18], [0, 0, 0, 0, 0, 0, 12]]\n",
     "output_type": "stream"
    }
   ]
  },
  {
   "cell_type": "markdown",
   "source": "With the same limit the first Player wins. ",
   "metadata": {
    "cell_id": "7dbc21305b274533820fb895239a6cdd",
    "tags": [],
    "deepnote_cell_type": "markdown",
    "deepnote_cell_height": 52.390625
   }
  },
  {
   "cell_type": "code",
   "metadata": {
    "cell_id": "7838fcc7357844049272160a1ae719da",
    "tags": [],
    "deepnote_to_be_reexecuted": false,
    "source_hash": "af6d9",
    "execution_start": 1651475925189,
    "execution_millis": 3944,
    "deepnote_cell_type": "code",
    "deepnote_cell_height": 330.375
   },
   "source": "game = Kalah_Game([AlphaBeta(0,\"Ab_first\",4), AlphaBeta(1,\"Ab_second\",4)],0)\ngame.start()\nwon = utility(game.state, 0)\n\nif(won == 1):\n    print(f\"{game.players[0]} wins!\")\nelif(won == -1):\n    print(f\"{game.players[1]} wins!\")\nelse:\n    print(f\"Draw!\")\n\nprint(game.state)",
   "execution_count": null,
   "outputs": [
    {
     "name": "stdout",
     "text": "Ab_second wins!\n[[0, 0, 0, 0, 0, 0, 19], [2, 0, 0, 2, 15, 0, 10]]\n",
     "output_type": "stream"
    }
   ]
  },
  {
   "cell_type": "markdown",
   "source": "## Test: Random_AI vs. Minimax",
   "metadata": {
    "tags": [],
    "cell_id": "93bdb372-0725-43b3-9fb6-4b57c2a546ec",
    "deepnote_to_be_reexecuted": false,
    "source_hash": "f7f06c10",
    "execution_start": 1650978068108,
    "execution_millis": 4,
    "owner_user_id": "7c84efd6-9dfe-4698-8d7f-9a6307a4d527",
    "deepnote_cell_type": "markdown",
    "deepnote_cell_height": 70
   }
  },
  {
   "cell_type": "code",
   "metadata": {
    "cell_id": "da96102e151a47cb946a57ddaed48b63",
    "tags": [],
    "deepnote_to_be_reexecuted": true,
    "source_hash": "edfde30a",
    "execution_start": 1651216301322,
    "execution_millis": 11442,
    "owner_user_id": "f69dee13-5c5e-4b97-89fa-71f96690ed33",
    "deepnote_cell_type": "code",
    "deepnote_cell_height": 1457
   },
   "source": "%%time\n\nlimit = 2\nmini_wins = 0\nrando_wins = 0\n\nfor seed in range(100):\n    print(seed)\n    game1 = Kalah_Game([Random_AI(0,\"Rando\",seed), Minimax(1,\"Mini\",limit,seed)],0)\n    game1.start()\n    won1 = utility(game1.state, 0)\n    \n    # print(\"\")\n    # game1.show_state() \n    if(won1 == 1):\n        # print(f\"{game1.players[0]} wins!\")\n        rando_wins += 1\n    elif(won1 == -1):\n        # print(f\"{game1.players[1]} wins!\")\n        mini_wins += 1\n    else:\n        # print(f\"Draw!\")\n        pass\n        \n    ############################\n    \n    game2 = Kalah_Game([Minimax(0,\"Mini\",limit,seed), Random_AI(1,\"Rando\",seed)],0)\n    game2.start()\n    won2 = utility(game2.state, 0)\n    \n    # print(\"\")\n    # game2.show_state() \n    if(won2 == 1):\n        # print(f\"{game2.players[0]} wins!\")\n        mini_wins += 1\n    elif(won2 == -1):\n        # print(f\"{game2.players[1]} wins!\")\n        rando_wins += 1\n    else:\n        # print(f\"Draw!\")\n        pass\n            \nprint(f\"Rando won {rando_wins} times and Mini won {mini_wins} times!\")",
   "execution_count": null,
   "outputs": [
    {
     "name": "stdout",
     "text": "0\n1\n2\n3\n4\n5\n6\n7\n8\n9\n10\n11\n12\n13\n14\n15\n16\n17\n18\n19\n20\n21\n22\n23\n24\n25\n26\n27\n28\n29\n30\n31\n32\n33\n34\n35\n36\n37\n38\n39\n40\n41\n42\n43\n44\n45\n46\n47\n48\n49\n50\n51\n52\n53\n54\n55\n56\n57\n58\n59\n60\n61\n62\n63\n64\n65\n66\n67\n68\n69\n70\n71\n72\n73\n74\n75\n76\n77\n78\n79\n80\n81\n82\n83\n84\n85\n86\n87\n88\n89\n90\n91\n92\n93\n94\n95\n96\n97\n98\n99\nRando won 0 times and Mini won 200 times!\nCPU times: user 9.9 s, sys: 92.5 ms, total: 9.99 s\nWall time: 11.4 s\n",
     "output_type": "stream"
    }
   ]
  },
  {
   "cell_type": "markdown",
   "source": "## Test: Minimax vs. Minimax with limit 2 and 3",
   "metadata": {
    "cell_id": "ce6366822df3408b8f46baefcf33d086",
    "tags": [],
    "deepnote_cell_type": "markdown",
    "deepnote_cell_height": 70
   }
  },
  {
   "cell_type": "code",
   "metadata": {
    "cell_id": "6b88eaefc031429a9197f653059d84f9",
    "tags": [],
    "deepnote_to_be_reexecuted": true,
    "source_hash": "f2ee9028",
    "execution_start": 1651216312766,
    "execution_millis": 84,
    "deepnote_cell_type": "code",
    "deepnote_cell_height": 330.375
   },
   "source": "game = Kalah_Game([Minimax(0,\"Mini_1\",1),Minimax(1,\"Mini_2\",2)],0)\ngame.start()\nwon = utility(game.state, 0)\n\nif(won == 1):\n    print(f\"{game.players[0]} wins!\")\nelif(won == -1):\n    print(f\"{game.players[1]} wins!\")\nelse:\n    print(f\"Draw!\")\n\nprint(game.state)",
   "execution_count": null,
   "outputs": [
    {
     "name": "stdout",
     "text": "Mini_2 wins!\n[[0, 0, 0, 0, 0, 0, 15], [0, 0, 0, 15, 0, 0, 18]]\n",
     "output_type": "stream"
    }
   ]
  },
  {
   "cell_type": "markdown",
   "source": "## Test: AlphaBeta vs. Minimax ",
   "metadata": {
    "cell_id": "155cea13988647458d8c55d378fbb20b",
    "tags": [],
    "deepnote_cell_type": "markdown",
    "deepnote_cell_height": 70
   }
  },
  {
   "cell_type": "markdown",
   "source": "",
   "metadata": {
    "cell_id": "f649530fe697407197c3f35bc9bc5520",
    "tags": [],
    "deepnote_cell_type": "markdown",
    "deepnote_cell_height": 46
   }
  },
  {
   "cell_type": "markdown",
   "source": "<a style='text-decoration:none;line-height:16px;display:flex;color:#5B5B62;padding:10px;justify-content:end;' href='https://deepnote.com?utm_source=created-in-deepnote-cell&projectId=b91c3ea7-d814-439b-837a-72fdc90697b1' target=\"_blank\">\n<img alt='Created in deepnote.com' style='display:inline;max-height:16px;margin:0px;margin-right:7.5px;' src='data:image/svg+xml;base64,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' > </img>\nCreated in <span style='font-weight:600;margin-left:4px;'>Deepnote</span></a>",
   "metadata": {
    "tags": [],
    "created_in_deepnote_cell": true,
    "deepnote_cell_type": "markdown"
   }
  }
 ],
 "nbformat": 4,
 "nbformat_minor": 2,
 "metadata": {
  "orig_nbformat": 2,
  "deepnote": {},
  "deepnote_notebook_id": "1c75c9b8-b0de-4186-968a-2f0ad623c796",
  "deepnote_execution_queue": []
 }
}