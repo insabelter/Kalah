{
 "cells": [
  {
   "cell_type": "markdown",
   "source": "# AI Comparisons\n\nThis notebook is for comparing the different AI's. Three different tests are made:\n\n1. Proving that all three AI's make the same decisions for the same state.\n2. AI's with different limits are competing.\n3. Comparing the computig time and the node inspections for AlphaBeta and Scout. ",
   "metadata": {
    "cell_id": "603a133b486546edb23ff3d2f3da3fed",
    "tags": [],
    "deepnote_cell_type": "markdown",
    "deepnote_cell_height": 221.5625
   }
  },
  {
   "cell_type": "code",
   "metadata": {
    "cell_id": "870c411ac16146bb90f3d9ca6905ea90",
    "tags": [],
    "deepnote_to_be_reexecuted": false,
    "source_hash": "6bd84484",
    "execution_start": 1654342221438,
    "execution_millis": 255,
    "deepnote_cell_type": "code",
    "deepnote_cell_height": 81
   },
   "source": "%run Core.ipynb",
   "execution_count": 79,
   "outputs": []
  },
  {
   "cell_type": "markdown",
   "source": "## 1. AI's make the same decision",
   "metadata": {
    "cell_id": "cdb303cc6c144d028bc645e4cc700de0",
    "tags": [],
    "deepnote_cell_type": "markdown",
    "deepnote_cell_height": 70
   }
  },
  {
   "cell_type": "markdown",
   "source": "The following tests should prove that all three AI's make the same decision when the same state is given. ",
   "metadata": {
    "cell_id": "056b83e1806b4a0c9f900c73286be5a9",
    "tags": [],
    "deepnote_cell_type": "markdown",
    "deepnote_cell_height": 52.390625
   }
  },
  {
   "cell_type": "markdown",
   "source": "The first test checks if the decision for the start state is the same with different limits. ",
   "metadata": {
    "cell_id": "bd6c5a5a592843648930e803caf181d2",
    "tags": [],
    "deepnote_cell_type": "markdown",
    "deepnote_cell_height": 52.390625
   }
  },
  {
   "cell_type": "code",
   "metadata": {
    "cell_id": "2bb0cea79a264fc2b2eee30125588aa2",
    "tags": [],
    "deepnote_to_be_reexecuted": false,
    "source_hash": "b2c4c3e5",
    "execution_start": 1654333644882,
    "execution_millis": 2,
    "deepnote_cell_type": "code",
    "deepnote_cell_height": 99
   },
   "source": "for i in range(1,6):\n    assert Minimax(\"Mini\",i).choose_house(gStartState) == AlphaBeta(\"Alpha\", i).choose_house(gStartState) == Scout(\"Scout\", i).choose_house(gStartState)",
   "execution_count": 59,
   "outputs": []
  },
  {
   "cell_type": "markdown",
   "source": "All AI's make the same decision, so the test is successful.",
   "metadata": {
    "cell_id": "d909ed5e874648fb9303951231253b50",
    "tags": [],
    "deepnote_cell_type": "markdown",
    "deepnote_cell_height": 52.390625
   }
  },
  {
   "cell_type": "markdown",
   "source": "The next test checks if the same decision is made for a random state that isn't the start state or a state that results in a finished state.",
   "metadata": {
    "cell_id": "55f5348cdc974077b448e3359d7d5098",
    "tags": [],
    "deepnote_cell_type": "markdown",
    "deepnote_cell_height": 52.390625
   }
  },
  {
   "cell_type": "code",
   "metadata": {
    "cell_id": "f9098af22cb24cadb3be7938b94442aa",
    "tags": [],
    "deepnote_to_be_reexecuted": false,
    "source_hash": "3d41648b",
    "execution_start": 1654333837514,
    "execution_millis": 1,
    "deepnote_cell_type": "code",
    "deepnote_cell_height": 117
   },
   "source": "statetest =  [[1,1,1,1,0,0,15],[2,2,2,2,0,4,17]]\nfor i in range(1,6):\n    assert Minimax(\"Mini\",i).choose_house(statetest) == AlphaBeta(\"Alpha\", i).choose_house(statetest) == Scout(\"Scout\", i).choose_house(statetest)",
   "execution_count": 61,
   "outputs": []
  },
  {
   "cell_type": "markdown",
   "source": "Again, all three AI's make the same decision.",
   "metadata": {
    "cell_id": "2f4794cab27a4372aae5772d2dca3700",
    "tags": [],
    "deepnote_cell_type": "markdown",
    "deepnote_cell_height": 52.390625
   }
  },
  {
   "cell_type": "markdown",
   "source": "The following function is used to verify that a game of AlphaBeta and Scout against the Random AI result in the same finished state. The function takes a limit and a seed as parameters and prints out the finished state for both games or raises an error if the finished states are different. ",
   "metadata": {
    "cell_id": "614cb9bfc3174340a9f776edbe5b75b5",
    "tags": [],
    "deepnote_cell_type": "markdown",
    "deepnote_cell_height": 74.78125
   }
  },
  {
   "cell_type": "code",
   "metadata": {
    "cell_id": "854b86134d1441659cfb9b3c372675fc",
    "tags": [],
    "deepnote_to_be_reexecuted": false,
    "source_hash": "dbbbf33d",
    "execution_start": 1654334018099,
    "execution_millis": 0,
    "deepnote_cell_type": "code",
    "deepnote_cell_height": 351
   },
   "source": " def test_ending(limit, seed):\n\n    end_states = set()\n\n    game1 = Kalah_Game([AlphaBeta(\"AlphaBeta\",limit),Random_AI(\"Rando\",seed)],0)\n    game1.start()\n    end_alpha = to_tuple(game1.state)\n\n    game2 = Kalah_Game([Scout(\"Scout\",limit),Random_AI(\"Rando\",seed)],0)\n    game2.start()\n    end_scout = to_tuple(game2.state)\n\n    print(set((end_alpha, end_scout)))\n\n    if end_alpha != end_scout:\n        raise Exception(f\"Exception at seed {seed} with limit {l}\")",
   "execution_count": 62,
   "outputs": []
  },
  {
   "cell_type": "markdown",
   "source": "The function *test_ending* is called for ten different seeds and a limit from one to six. ",
   "metadata": {
    "cell_id": "cdf61efa75f74850b3deb2d7a93fbc15",
    "tags": [],
    "deepnote_cell_type": "markdown",
    "deepnote_cell_height": 52.390625
   }
  },
  {
   "cell_type": "code",
   "metadata": {
    "cell_id": "d4c39de8bda649eba4cbaca281db4ea2",
    "tags": [],
    "deepnote_to_be_reexecuted": false,
    "source_hash": "3802fed3",
    "execution_start": 1654334533862,
    "execution_millis": 3631,
    "deepnote_cell_type": "code",
    "deepnote_cell_height": 737
   },
   "source": "for seed in range(10):\n    for l in range(1,6):\n        test_ending(l, seed)",
   "execution_count": 64,
   "outputs": [
    {
     "name": "stdout",
     "text": "{((0, 1, 0, 1, 0, 0, 31), (0, 0, 0, 0, 0, 0, 15))}\n{((0, 1, 0, 0, 0, 0, 38), (0, 0, 0, 0, 0, 0, 9))}\n{((0, 0, 1, 0, 1, 0, 38), (0, 0, 0, 0, 0, 0, 8))}\n{((0, 2, 0, 0, 0, 0, 34), (0, 0, 0, 0, 0, 0, 12))}\n{((1, 0, 0, 0, 0, 1, 36), (0, 0, 0, 0, 0, 0, 10))}\n{((2, 1, 1, 0, 0, 0, 37), (0, 0, 0, 0, 0, 0, 7))}\n{((0, 0, 0, 0, 0, 1, 37), (0, 0, 0, 0, 0, 0, 10))}\n{((0, 1, 0, 1, 1, 1, 29), (0, 0, 0, 0, 0, 0, 15))}\n{((0, 1, 0, 1, 1, 1, 29), (0, 0, 0, 0, 0, 0, 15))}\n{((6, 1, 0, 0, 0, 1, 33), (0, 0, 0, 0, 0, 0, 7))}\n{((0, 0, 0, 2, 0, 0, 36), (0, 0, 0, 0, 0, 0, 10))}\n{((0, 2, 0, 1, 0, 0, 22), (0, 0, 0, 0, 0, 0, 23))}\n{((3, 3, 0, 0, 0, 1, 34), (0, 0, 0, 0, 0, 0, 7))}\n{((3, 3, 0, 0, 0, 2, 33), (0, 0, 0, 0, 0, 0, 7))}\n{((0, 0, 0, 0, 2, 2, 34), (0, 0, 0, 0, 0, 0, 10))}\n{((0, 0, 0, 2, 0, 1, 36), (0, 0, 0, 0, 0, 0, 9))}\n{((1, 0, 1, 3, 1, 1, 33), (0, 0, 0, 0, 0, 0, 8))}\n{((0, 0, 0, 0, 0, 0, 40), (0, 0, 0, 0, 0, 0, 8))}\n{((0, 0, 0, 0, 0, 0, 40), (0, 0, 0, 0, 0, 0, 8))}\n{((0, 0, 0, 0, 0, 0, 25), (1, 8, 7, 1, 1, 0, 5))}\n{((2, 1, 0, 0, 1, 0, 28), (0, 0, 0, 0, 0, 0, 16))}\n{((0, 0, 1, 0, 1, 0, 39), (0, 0, 0, 0, 0, 0, 7))}\n{((0, 0, 0, 0, 0, 0, 39), (0, 0, 2, 0, 3, 1, 3))}\n{((0, 0, 0, 0, 0, 0, 39), (0, 0, 2, 0, 3, 1, 3))}\n{((0, 4, 0, 2, 1, 0, 29), (0, 0, 0, 0, 0, 0, 12))}\n{((0, 0, 3, 3, 1, 0, 31), (0, 0, 0, 0, 0, 0, 10))}\n{((1, 0, 1, 2, 0, 1, 34), (0, 0, 0, 0, 0, 0, 9))}\n{((0, 0, 0, 0, 0, 0, 36), (0, 0, 0, 3, 0, 4, 5))}\n{((0, 2, 1, 0, 0, 0, 34), (0, 0, 0, 0, 0, 0, 11))}\n{((0, 0, 1, 9, 2, 1, 27), (0, 0, 0, 0, 0, 0, 8))}\n{((0, 0, 0, 0, 0, 0, 36), (0, 0, 0, 0, 0, 0, 12))}\n{((0, 0, 0, 0, 0, 0, 26), (0, 1, 0, 3, 11, 0, 7))}\n{((2, 0, 0, 0, 0, 5, 32), (0, 0, 0, 0, 0, 0, 9))}\n{((2, 0, 0, 0, 0, 5, 32), (0, 0, 0, 0, 0, 0, 9))}\n{((0, 0, 0, 0, 0, 0, 29), (0, 0, 0, 0, 0, 1, 18))}\n{((1, 2, 1, 1, 0, 0, 32), (0, 0, 0, 0, 0, 0, 11))}\n{((0, 0, 3, 3, 0, 1, 33), (0, 0, 0, 0, 0, 0, 8))}\n{((0, 0, 0, 0, 0, 0, 32), (0, 0, 1, 4, 0, 8, 3))}\n{((1, 0, 0, 0, 0, 3, 34), (0, 0, 0, 0, 0, 0, 10))}\n{((1, 0, 0, 12, 0, 1, 23), (0, 0, 0, 0, 0, 0, 11))}\n{((0, 0, 0, 0, 2, 0, 33), (0, 0, 0, 0, 0, 0, 13))}\n{((0, 2, 0, 1, 0, 0, 31), (0, 0, 0, 0, 0, 0, 14))}\n{((2, 0, 0, 3, 1, 0, 35), (0, 0, 0, 0, 0, 0, 7))}\n{((2, 0, 0, 3, 1, 0, 35), (0, 0, 0, 0, 0, 0, 7))}\n{((2, 0, 3, 13, 10, 0, 14), (0, 0, 0, 0, 0, 0, 6))}\n{((0, 1, 1, 0, 1, 1, 34), (0, 0, 0, 0, 0, 0, 10))}\n{((0, 0, 0, 0, 0, 0, 32), (0, 2, 0, 0, 4, 1, 9))}\n{((0, 0, 0, 0, 2, 0, 32), (0, 0, 0, 0, 0, 0, 14))}\n{((3, 0, 1, 0, 0, 0, 33), (0, 0, 0, 0, 0, 0, 11))}\n{((1, 0, 4, 1, 0, 0, 32), (0, 0, 0, 0, 0, 0, 10))}\n",
     "output_type": "stream"
    }
   ]
  },
  {
   "cell_type": "markdown",
   "source": "All games ended with the same finished state. That means that the AI's made the same decisions during the game. ",
   "metadata": {
    "cell_id": "2890634342dc471a82afef46086fdcbf",
    "tags": [],
    "deepnote_cell_type": "markdown",
    "deepnote_cell_height": 52.390625
   }
  },
  {
   "cell_type": "markdown",
   "source": "### Conclusion",
   "metadata": {
    "cell_id": "4daaf83b3b9247d080362f4edc9f456b",
    "tags": [],
    "deepnote_cell_type": "markdown",
    "deepnote_cell_height": 62
   }
  },
  {
   "cell_type": "markdown",
   "source": "The tests show that all three AI's make the same decision when the identical state is given. That is the result that was expected. All AI's make equal decisions but the difference lies in the efficiency which is determined by node inspections and computing time. These differences are looked at in the last section. ",
   "metadata": {
    "cell_id": "5974c41ac5824c8cbbb22a295f7f6fab",
    "tags": [],
    "deepnote_cell_type": "markdown",
    "deepnote_cell_height": 74.78125
   }
  },
  {
   "cell_type": "markdown",
   "source": "## 2. Comparing AI's with different limits",
   "metadata": {
    "cell_id": "28b9d3e8afcc446e89f58aaaf21c6abb",
    "tags": [],
    "deepnote_cell_type": "markdown",
    "deepnote_cell_height": 70
   }
  },
  {
   "cell_type": "markdown",
   "source": "This section studies games between AlphaBeta AI's with different limits and different seeds. The results would be the same for each AI as shown in the previous tests, so it is enough to test one AI only. At first, functions are defined to let two AI's compete for 50 games. ",
   "metadata": {
    "cell_id": "a4ad7f2a4be64163bd98c63b8b05222c",
    "tags": [],
    "deepnote_cell_type": "markdown",
    "deepnote_cell_height": 74.78125
   }
  },
  {
   "cell_type": "markdown",
   "source": "The function *empty_caches()* empties all existing caches from the Core notebook.",
   "metadata": {
    "cell_id": "d834d9d509874ca6b8157df44205511c",
    "tags": [],
    "deepnote_cell_type": "markdown",
    "deepnote_cell_height": 52.390625
   }
  },
  {
   "cell_type": "code",
   "metadata": {
    "cell_id": "058493cd929747cdaaeee0506da8612a",
    "tags": [],
    "deepnote_to_be_reexecuted": false,
    "source_hash": "e67c7267",
    "execution_start": 1654330705046,
    "execution_millis": 2,
    "deepnote_cell_type": "code",
    "deepnote_cell_height": 225
   },
   "source": "def empty_caches():\n    global Cache\n    Cache = {}\n    global gCache\n    gCache = {}\n    global Cache_test\n    Cache_test = {}\n    global Cache_eval\n    Cache_eval = {}",
   "execution_count": 41,
   "outputs": []
  },
  {
   "cell_type": "markdown",
   "source": "### Function: compare_AIs\nThe function *compare_AIs* takes two AI's and a seed as arguments. Then 50 games are played where each player is beginning 25 times. At the end the result is printed out that shows how many times each AI has won. ",
   "metadata": {
    "cell_id": "59e8409b0aed48bcbeba796842e0ea89",
    "tags": [],
    "deepnote_cell_type": "markdown",
    "deepnote_cell_height": 122.78125
   }
  },
  {
   "cell_type": "code",
   "metadata": {
    "cell_id": "a51fe41e92774695a89e9dca3161c0f2",
    "tags": [],
    "deepnote_to_be_reexecuted": false,
    "source_hash": "4376875f",
    "execution_start": 1654330710131,
    "execution_millis": 3,
    "deepnote_cell_type": "code",
    "deepnote_cell_height": 675
   },
   "source": "def compare_AIs(AI_1, AI_2, seed=0):\n    empty_caches()\n    \n    rn.seed(seed)\n\n    ai1 = 0\n    ai2 = 0\n\n    for _ in range(25):\n        game1 = Kalah_Game([AI_1, AI_2],0)\n        game1.start()\n        won1 = utility(game1.state, 0)\n        \n        if won1 == 1:\n            ai1 += 1\n        elif won1 == -1:\n            ai2 += 1\n        else:\n            pass\n            \n        ############################\n        \n        game2 = Kalah_Game([AI_2, AI_1],0)\n        game2.start()\n        won2 = utility(game2.state, 0)\n\n        if won2 == 1:\n            ai2 += 1\n        elif won2 == -1:\n            ai1 += 1\n        else:\n            pass\n\n    print(str(AI_1.name) + f\" won {ai1} times, \" + str(AI_2) + f\" won {ai2} times and {50-ai1-ai2} games ended as draws.\")",
   "execution_count": 42,
   "outputs": []
  },
  {
   "cell_type": "markdown",
   "source": "### AI's competing",
   "metadata": {
    "cell_id": "68f0edd4bd7b4059b8530326e52c04c0",
    "tags": [],
    "deepnote_cell_type": "markdown",
    "deepnote_cell_height": 62
   }
  },
  {
   "cell_type": "markdown",
   "source": "In the following tests two AlphaBeta AI's with different limits and different seeds are competing.",
   "metadata": {
    "cell_id": "1a3a8dd874334ec3a5fbf85ef9539086",
    "tags": [],
    "deepnote_cell_type": "markdown",
    "deepnote_cell_height": 52.390625
   }
  },
  {
   "cell_type": "code",
   "source": "for i in range(4):\n    compare_AIs(AlphaBeta(\"AlphaBeta_4\", 4), AlphaBeta(\"AlphaBeta_3\", 3),i)",
   "metadata": {
    "cell_id": "a394faa3f5014db59b88213ff0593a70",
    "tags": [],
    "deepnote_to_be_reexecuted": false,
    "source_hash": "6041e2d8",
    "execution_start": 1654336070077,
    "execution_millis": 69121,
    "deepnote_cell_type": "code",
    "deepnote_cell_height": 208
   },
   "outputs": [
    {
     "name": "stdout",
     "text": "AlphaBeta_4 won 25 times, AlphaBeta_3 won 25 times and 0 games ended as draws.\nAlphaBeta_4 won 25 times, AlphaBeta_3 won 25 times and 0 games ended as draws.\nAlphaBeta_4 won 25 times, AlphaBeta_3 won 25 times and 0 games ended as draws.\nAlphaBeta_4 won 25 times, AlphaBeta_3 won 25 times and 0 games ended as draws.\n",
     "output_type": "stream"
    }
   ],
   "execution_count": 70
  },
  {
   "cell_type": "code",
   "source": "for i in range(4):\n    compare_AIs(AlphaBeta(\"AlphaBeta_4\", 4), AlphaBeta(\"AlphaBeta_2\", 2),i)",
   "metadata": {
    "cell_id": "8090557975144031a8a1497bfc326e75",
    "tags": [],
    "deepnote_to_be_reexecuted": false,
    "source_hash": "30d7e111",
    "execution_start": 1654335817987,
    "execution_millis": 44453,
    "deepnote_cell_type": "code",
    "deepnote_cell_height": 130.1875
   },
   "outputs": [
    {
     "name": "stdout",
     "text": "AlphaBeta_4 won 37 times, AlphaBeta_2 won 13 times and 0 games ended as draws.\n",
     "output_type": "stream"
    }
   ],
   "execution_count": 68
  },
  {
   "cell_type": "code",
   "metadata": {
    "cell_id": "f8626f2ef9fe495ab044b2776b90e550",
    "tags": [],
    "deepnote_to_be_reexecuted": false,
    "source_hash": "bfdf36be",
    "execution_start": 1654335327217,
    "execution_millis": 50608,
    "deepnote_cell_type": "code",
    "deepnote_cell_height": 130.1875
   },
   "source": "for i in range(4):\n    compare_AIs(AlphaBeta(\"AlphaBeta_5\", 5), AlphaBeta(\"AlphaBeta_4\", 4),i)",
   "execution_count": 66,
   "outputs": [
    {
     "name": "stdout",
     "text": "AlphaBeta_5 won 33 times, AlphaBeta_4 won 8 times and 9 games ended as draws.\n",
     "output_type": "stream"
    }
   ]
  },
  {
   "cell_type": "code",
   "metadata": {
    "cell_id": "2bbd9ddb5f3e4384a9d8274cf5be1613",
    "tags": [],
    "deepnote_to_be_reexecuted": false,
    "source_hash": "39708305",
    "execution_start": 1654336616081,
    "execution_millis": 268876,
    "deepnote_cell_type": "code",
    "deepnote_cell_height": 190.75
   },
   "source": "for i in range(4):\n    compare_AIs(AlphaBeta(\"AlphaBeta_5\", 5), AlphaBeta(\"AlphaBeta_3\", 3),i)",
   "execution_count": 72,
   "outputs": [
    {
     "name": "stdout",
     "text": "AlphaBeta_5 won 39 times, AlphaBeta_3 won 6 times and 5 games ended as draws.\nAlphaBeta_5 won 34 times, AlphaBeta_3 won 13 times and 3 games ended as draws.\nAlphaBeta_5 won 36 times, AlphaBeta_3 won 11 times and 3 games ended as draws.\nAlphaBeta_5 won 41 times, AlphaBeta_3 won 6 times and 3 games ended as draws.\n",
     "output_type": "stream"
    }
   ]
  },
  {
   "cell_type": "markdown",
   "source": "In the first test the result is very balanced. The second test with a limit difference of two shows that the AI with the higher limit wins more often. In the last tests with an odd number as higher limit the AI with the higher limit wins more often. That shows that an AI with a limit difference of two or more wins significantly more often. With a limit difference of one the AI with a higher limit wins more often when the higher limit is an odd number. The reason for that outcome will be discussed in the conclusion. ",
   "metadata": {
    "cell_id": "96fb6ecd0b284c27824bc5d4b51829d1",
    "tags": [],
    "deepnote_cell_type": "markdown",
    "deepnote_cell_height": 119.5625
   }
  },
  {
   "cell_type": "markdown",
   "source": "### Conclusion",
   "metadata": {
    "cell_id": "7f3f4535f32c427eb554345868f5a68d",
    "tags": [],
    "deepnote_cell_type": "markdown",
    "deepnote_cell_height": 62
   }
  },
  {
   "cell_type": "markdown",
   "source": "The tests show the following outcome when two AI's compete with different limits:\n- An AI with the higher limit wins more often when the limit is higher by a minimum of two.\n- The games between two AI's with a limit difference of one are very balanced when the higher limit is an even number. \n- An AI with a higher limit by one wins more often when the limit is an odd number. \n\nWith a limit difference of one the question if the higer limit is an even or an odd number has a big influence. The reason for that is that with a recursion depth that is set to an even number the last state that is considered is a state where the currently choosing player has a turn. Then the decisions can be slightly worse than the decisions with a limit that checks a final state where the opponent has a turn. That would be the cause for odd limits. A fair assumption as to why this occurs is that a limit with an even number only looks at the maximizing player for that last state and does not consider what kind of opportunities this gives the opponent. Odd limits always consider the opponent in their last checked state which causes a better choice in general. ",
   "metadata": {
    "cell_id": "1f2af0d17a52427da64f209f9a5ffd78",
    "tags": [],
    "deepnote_cell_type": "markdown",
    "deepnote_cell_height": 497.515625
   }
  },
  {
   "cell_type": "markdown",
   "source": "## 3. Time and Node Inspections comparison: AlphaBeta, Scout",
   "metadata": {
    "cell_id": "064325ed9f5c494e9126e3fef6c66443",
    "tags": [],
    "owner_user_id": "7c84efd6-9dfe-4698-8d7f-9a6307a4d527",
    "deepnote_cell_type": "markdown",
    "deepnote_cell_height": 70
   }
  },
  {
   "cell_type": "markdown",
   "source": "In this section we are comparing the efficencies of the two AI's AlphaBeta and Scout:\n\n- computation time for AlphaBeta AI and Scout AI\n- node inspections for AlphaBeta AI and Scout AI\n\nAll of the implemented AI's use memoization. Memoization is a technique to speed up function calls of a certain complex function, by storing past inputs and corresponding outputs in a dictionary. If an input to the function was once recieved before, the execution of the actual function can be skipped and instead the output stored in the dictionary will be returned. This is mainly useful for functions that take longer to compute than it takes to access a value in a dictionary.\n\nThe function *test_with_limit* receives a Player class and a limit and then plays five games with two players of this Player class which each are given the provided limit. By playing five games with different seeds, variations due to random choices of the AIs are evened.",
   "metadata": {
    "cell_id": "a42f18e205654f43a5b9ab56c2efcfa2",
    "tags": [],
    "deepnote_cell_type": "markdown",
    "deepnote_cell_height": 254.125
   }
  },
  {
   "cell_type": "code",
   "metadata": {
    "cell_id": "249b84f1eaad4b2f98ab9f9b9b13ff83",
    "tags": [],
    "deepnote_to_be_reexecuted": false,
    "source_hash": "631936de",
    "execution_start": 1654342231842,
    "execution_millis": 3,
    "deepnote_cell_type": "code",
    "deepnote_cell_height": 333
   },
   "source": "from datetime import datetime\nimport numpy as np\nimport pandas as pd\nimport matplotlib.pyplot as plt\n\ndef test_with_limit(PlayerClass, limit):\n    global gCounts\n    gCounts = 0\n    time = datetime.now()\n    for seed in range(5):\n        empty_caches()\n        Kalah_Game([PlayerClass(\"Player_1\",limit,seed),PlayerClass(\"Player_2\",limit,seed)],0).start()\n    time_diff = datetime.now() - time\n    time_diff = float(time_diff.total_seconds())\n    return time_diff",
   "execution_count": 80,
   "outputs": []
  },
  {
   "cell_type": "markdown",
   "source": "The following function *test_AIs* tests the three AIs one after another with different limits and saves the calculation times and node inspection counts to lists to illustrate them in diagrams afterwards.",
   "metadata": {
    "cell_id": "5a913c8e4be04fdb8484287b41ed2f3c",
    "tags": [],
    "deepnote_to_be_reexecuted": false,
    "source_hash": "9ac6e7c3",
    "execution_start": 1652783846313,
    "execution_millis": 6,
    "deepnote_cell_type": "markdown",
    "deepnote_cell_height": 74.78125
   }
  },
  {
   "cell_type": "code",
   "metadata": {
    "cell_id": "0a1467e527684499a2db27b7d51a7465",
    "tags": [],
    "deepnote_to_be_reexecuted": false,
    "source_hash": "c2dec451",
    "execution_start": 1654342239475,
    "execution_millis": 1,
    "deepnote_cell_type": "code",
    "deepnote_cell_height": 81
   },
   "source": "limits = [1,2,3,4,5,6,7]",
   "execution_count": 83,
   "outputs": []
  },
  {
   "cell_type": "code",
   "metadata": {
    "cell_id": "0486a6e1f3494a41a24069d62bef5fa2",
    "tags": [],
    "deepnote_to_be_reexecuted": false,
    "source_hash": "bd384760",
    "execution_start": 1654342240542,
    "execution_millis": 2,
    "deepnote_cell_type": "code",
    "deepnote_cell_height": 315
   },
   "source": "def test_AIs():\n    global limits\n    times = [[],[]]\n    counts = [[],[]]\n\n    for limit in limits:\n        times[0].append(test_with_limit(AlphaBeta, limit))\n        counts[0].append(gCounts)\n\n    for limit in limits:\n        times[1].append(test_with_limit(Scout, limit))\n        counts[1].append(gCounts)\n    \n    return times, counts",
   "execution_count": 84,
   "outputs": []
  },
  {
   "cell_type": "markdown",
   "source": "The function *draw_plots()* displays the calculated time and node inspection count values in two diagrams make them comparable.",
   "metadata": {
    "cell_id": "7ec4475ccc9549c1a301c98d248d9e4c",
    "tags": [],
    "deepnote_cell_type": "markdown",
    "deepnote_cell_height": 52.390625
   }
  },
  {
   "cell_type": "code",
   "metadata": {
    "cell_id": "50ee3fd0a9cd441bbc8a0139e2342e74",
    "tags": [],
    "deepnote_to_be_reexecuted": false,
    "source_hash": "47de8ede",
    "execution_start": 1654342242363,
    "execution_millis": 0,
    "deepnote_cell_type": "code",
    "deepnote_cell_height": 567
   },
   "source": "def draw_plots(times, counts):\n    global limits\n\n    plt.title('Calculation time for 5 games of two identical player algorithms')\n    plt.xlabel('Limit depth')\n    plt.ylabel('Time in seconds')\n\n    plt.plot(limits, times[0], label=\"AlphaBeta\")\n    plt.plot(limits, times[1], label=\"Scout\")\n    plt.xticks(limits)\n\n    plt.legend(loc='upper left', frameon=True)\n\n    # Diagramm anzeigen:\n    plt.show()\n\n    plt.title('Node Inspections for 5 games of two identical player algorithms')\n    plt.xlabel('Limit depth')\n    plt.ylabel('Node Inspections')\n\n    plt.plot(limits, counts[0], label=\"AlphaBeta\")\n    plt.plot(limits, counts[1], label=\"Scout\")\n    plt.xticks(limits)\n\n    plt.legend(loc='upper left', frameon=True)\n\n    # Diagramm anzeigen:\n    plt.show()",
   "execution_count": 85,
   "outputs": []
  },
  {
   "cell_type": "markdown",
   "source": "### Comparison",
   "metadata": {
    "cell_id": "d7407b1ec19346a38f30f806d351656e",
    "tags": [],
    "deepnote_cell_type": "markdown",
    "deepnote_cell_height": 62
   }
  },
  {
   "cell_type": "code",
   "metadata": {
    "cell_id": "1f76c5ccd55b4415bae4d6ce4a54e512",
    "tags": [],
    "deepnote_to_be_reexecuted": false,
    "source_hash": "cf01f143",
    "execution_start": 1654342243923,
    "execution_millis": 373722,
    "deepnote_cell_type": "code",
    "deepnote_cell_height": 81
   },
   "source": "times, counts = test_AIs()",
   "execution_count": 77,
   "outputs": []
  },
  {
   "cell_type": "code",
   "metadata": {
    "cell_id": "528c75878e6841d1be39621548085d6d",
    "tags": [],
    "deepnote_to_be_reexecuted": true,
    "source_hash": "dfa90d3b",
    "execution_start": 1654337519831,
    "execution_millis": 773,
    "deepnote_cell_type": "code",
    "deepnote_cell_height": 688,
    "deepnote_output_heights": [
     280,
     280
    ]
   },
   "source": "draw_plots(times, counts)",
   "execution_count": 78,
   "outputs": [
    {
     "data": {
      "text/plain": "<Figure size 432x288 with 1 Axes>",
      "image/png": "[encoded data removed]"
     },
     "metadata": {
      "needs_background": "light",
      "image/png": {
       "width": 412,
       "height": 278
      }
     },
     "output_type": "display_data"
    },
    {
     "data": {
      "text/plain": "<Figure size 432x288 with 1 Axes>",
      "image/png": "[encoded data removed]"
     },
     "metadata": {
      "needs_background": "light",
      "image/png": {
       "width": 433,
       "height": 278
      }
     },
     "output_type": "display_data"
    }
   ]
  },
  {
   "cell_type": "markdown",
   "source": "### Conclusion",
   "metadata": {
    "cell_id": "a7bb133365024f4eac22085513c1f33a",
    "tags": [],
    "deepnote_cell_type": "markdown",
    "deepnote_cell_height": 62
   }
  },
  {
   "cell_type": "markdown",
   "source": "**TODO!**",
   "metadata": {
    "cell_id": "a159d4264cfa47908fd0beeaeb42df3b",
    "tags": [],
    "deepnote_cell_type": "markdown",
    "deepnote_cell_height": 52.390625
   }
  },
  {
   "cell_type": "markdown",
   "source": "<a style='text-decoration:none;line-height:16px;display:flex;color:#5B5B62;padding:10px;justify-content:end;' href='https://deepnote.com?utm_source=created-in-deepnote-cell&projectId=b91c3ea7-d814-439b-837a-72fdc90697b1' target=\"_blank\">\n<img alt='Created in deepnote.com' style='display:inline;max-height:16px;margin:0px;margin-right:7.5px;' src='data:image/svg+xml;base64,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' > </img>\nCreated in <span style='font-weight:600;margin-left:4px;'>Deepnote</span></a>",
   "metadata": {
    "tags": [],
    "created_in_deepnote_cell": true,
    "deepnote_cell_type": "markdown"
   }
  }
 ],
 "nbformat": 4,
 "nbformat_minor": 2,
 "metadata": {
  "orig_nbformat": 2,
  "deepnote": {},
  "deepnote_notebook_id": "1c75c9b8-b0de-4186-968a-2f0ad623c796",
  "deepnote_execution_queue": [
   {
    "cellId": "1f76c5ccd55b4415bae4d6ce4a54e512",
    "sessionId": "0a12595d-ac44-43d9-aee5-0611e6fe5696",
    "msgId": "06e9d3fe-24fa-493c-ac82-831d800578ed"
   },
   {
    "cellId": "528c75878e6841d1be39621548085d6d",
    "sessionId": "0a12595d-ac44-43d9-aee5-0611e6fe5696",
    "msgId": "ffd9e5c2-c75c-4877-99b0-df5a79b96d84"
   }
  ]
 }
}