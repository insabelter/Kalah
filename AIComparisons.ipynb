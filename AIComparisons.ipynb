{
 "cells": [
  {
   "cell_type": "markdown",
   "source": "# AI Comparisons\n\nThis notebook is for comparing the different AI's by letting them compete against each other. ",
   "metadata": {
    "cell_id": "603a133b486546edb23ff3d2f3da3fed",
    "tags": [],
    "deepnote_cell_type": "markdown",
    "deepnote_cell_height": 120.859375
   }
  },
  {
   "cell_type": "code",
   "metadata": {
    "cell_id": "870c411ac16146bb90f3d9ca6905ea90",
    "tags": [],
    "deepnote_to_be_reexecuted": false,
    "source_hash": "6bd84484",
    "execution_start": 1652891833943,
    "execution_millis": 336,
    "deepnote_cell_type": "code",
    "deepnote_cell_height": 81.453125
   },
   "source": "%run Core.ipynb",
   "execution_count": null,
   "outputs": []
  },
  {
   "cell_type": "markdown",
   "source": "The function *empty_caches()* empties all exisiting caches from the Core notebook.",
   "metadata": {
    "cell_id": "d834d9d509874ca6b8157df44205511c",
    "tags": [],
    "deepnote_cell_type": "markdown",
    "deepnote_cell_height": 52.859375
   }
  },
  {
   "cell_type": "code",
   "metadata": {
    "cell_id": "058493cd929747cdaaeee0506da8612a",
    "tags": [],
    "deepnote_to_be_reexecuted": false,
    "source_hash": "e67c7267",
    "execution_start": 1652891834281,
    "execution_millis": 3,
    "deepnote_cell_type": "code",
    "deepnote_cell_height": 225.46875
   },
   "source": "def empty_caches():\n    global Cache\n    Cache = {}\n    global gCache\n    gCache = {}\n    global Cache_test\n    Cache_test = {}\n    global Cache_eval\n    Cache_eval = {}",
   "execution_count": null,
   "outputs": []
  },
  {
   "cell_type": "markdown",
   "source": "### Function: compare_AIs\nThe function *compare_AIs* takes two AI's as arguments. Then 50 games are played where each player is beginning 25 times. For each game the seeds are changed to generate different games. At the end the result is printed out that shows how many times each AI has won. ",
   "metadata": {
    "cell_id": "59e8409b0aed48bcbeba796842e0ea89",
    "tags": [],
    "deepnote_cell_type": "markdown",
    "deepnote_cell_height": 145.65625
   }
  },
  {
   "cell_type": "code",
   "metadata": {
    "cell_id": "a51fe41e92774695a89e9dca3161c0f2",
    "tags": [],
    "deepnote_to_be_reexecuted": false,
    "source_hash": "f80adc20",
    "execution_start": 1652891834298,
    "execution_millis": 0,
    "deepnote_cell_type": "code",
    "deepnote_cell_height": 711.453125
   },
   "source": "def compare_AIs(AI_1, AI_2):\n    empty_caches()\n\n    ai1 = 0\n    ai2 = 0\n\n    for seed in range(25):\n        rn.seed(seed)\n\n        game1 = Kalah_Game([AI_1, AI_2],0)\n        game1.start()\n        won1 = utility(game1.state, 0)\n        \n        if(won1 == 1):\n            ai1 += 1\n        elif(won1 == -1):\n            ai2 += 1\n        else:\n            pass\n            \n        ############################\n        \n        rn.seed(seed)\n\n        game2 = Kalah_Game([AI_2, AI_1],0)\n        game2.start()\n        won2 = utility(game2.state, 0)\n\n        if(won2 == 1):\n            ai2 += 1\n        elif(won2 == -1):\n            ai1 += 1\n        else:\n            pass\n\n    print(str(AI_1.name) + f\" won {ai1} times, \" + str(AI_2) + f\" won {ai2} times and {50-ai1-ai2} games ended as draws.\")",
   "execution_count": null,
   "outputs": []
  },
  {
   "cell_type": "markdown",
   "source": "## Tests Minimax ",
   "metadata": {
    "cell_id": "d10e176d93994a55abfa0bcc53c6f755",
    "tags": [],
    "deepnote_cell_type": "markdown",
    "deepnote_cell_height": 70.46875
   }
  },
  {
   "cell_type": "markdown",
   "source": "In this section we are executing the following tests:\n\n- Random AI plays against Minimax AI\n- Two Minimax AI's play against each other with same and different limits",
   "metadata": {
    "cell_id": "793b718b592d4d50b00dd45ff30d7026",
    "tags": [],
    "deepnote_cell_type": "markdown",
    "deepnote_cell_height": 128.625
   }
  },
  {
   "cell_type": "markdown",
   "source": "#### Test: Random_AI vs. Minimax",
   "metadata": {
    "tags": [],
    "cell_id": "93bdb372-0725-43b3-9fb6-4b57c2a546ec",
    "deepnote_to_be_reexecuted": false,
    "source_hash": "f7f06c10",
    "execution_start": 1650978068108,
    "execution_millis": 4,
    "deepnote_cell_type": "markdown",
    "deepnote_cell_height": 54.453125
   }
  },
  {
   "cell_type": "markdown",
   "source": "In this test the Random AI and the Minimax AI are playing against each other.",
   "metadata": {
    "cell_id": "50eb8261532b4c8990c08b364bd9b905",
    "tags": [],
    "deepnote_cell_type": "markdown",
    "deepnote_cell_height": 52.859375
   }
  },
  {
   "cell_type": "code",
   "metadata": {
    "cell_id": "08611b02782a4d92aa324e0d0893abd8",
    "tags": [],
    "deepnote_to_be_reexecuted": false,
    "source_hash": "30b10ac7",
    "execution_start": 1652891834311,
    "execution_millis": 2045,
    "deepnote_cell_type": "code",
    "deepnote_cell_height": 111.875
   },
   "source": "compare_AIs(Random_AI(\"Rando\", 1), Minimax(\"Minimax\", 2))",
   "execution_count": null,
   "outputs": [
    {
     "name": "stdout",
     "text": "Rando won 0 times, Minimax won 50 times and 0 games ended as draws.\n",
     "output_type": "stream"
    }
   ]
  },
  {
   "cell_type": "markdown",
   "source": "As expected the Minimax AI wins every time. ",
   "metadata": {
    "cell_id": "516513a4104a4f2fa2677e2880ba38e2",
    "tags": [],
    "deepnote_cell_type": "markdown",
    "deepnote_cell_height": 52.859375
   }
  },
  {
   "cell_type": "markdown",
   "source": "#### Test: Minimax vs. Minimax ",
   "metadata": {
    "cell_id": "ce6366822df3408b8f46baefcf33d086",
    "tags": [],
    "deepnote_cell_type": "markdown",
    "deepnote_cell_height": 54.453125
   }
  },
  {
   "cell_type": "markdown",
   "source": "In this test two Minimax AI's play against each other with the same limit of 3.",
   "metadata": {
    "cell_id": "e7cac69af2d8483c87ecfc4fc2e3210e",
    "tags": [],
    "deepnote_cell_type": "markdown",
    "deepnote_cell_height": 52.859375
   }
  },
  {
   "cell_type": "code",
   "metadata": {
    "cell_id": "20fbacbe8bdc442a89b3764490e2d98d",
    "tags": [],
    "deepnote_to_be_reexecuted": false,
    "source_hash": "83e58c51",
    "execution_start": 1652891836360,
    "execution_millis": 4151,
    "deepnote_cell_type": "code",
    "deepnote_cell_height": 111.875
   },
   "source": "compare_AIs(Minimax(\"Mima_1\", 3), Minimax(\"Mima_2\", 3))",
   "execution_count": null,
   "outputs": [
    {
     "name": "stdout",
     "text": "Mima_1 won 25 times, Mima_2 won 25 times and 0 games ended as draws.\n",
     "output_type": "stream"
    }
   ]
  },
  {
   "cell_type": "markdown",
   "source": "As expected each player wins 25 times. When two AI's with the same limit play against each other the player who is beginning wins. ",
   "metadata": {
    "cell_id": "146588f659824111a45f23ee68f16fd3",
    "tags": [],
    "deepnote_cell_type": "markdown",
    "deepnote_cell_height": 75.265625
   }
  },
  {
   "cell_type": "markdown",
   "source": "In the following two tests two Minimax AI's with different limits are competing.",
   "metadata": {
    "cell_id": "193a8a5377ed4ca6b6eee0180d3e7e88",
    "tags": [],
    "deepnote_cell_type": "markdown",
    "deepnote_cell_height": 52.859375
   }
  },
  {
   "cell_type": "code",
   "metadata": {
    "cell_id": "381776ce840d455183bf38115f7ba68b",
    "tags": [],
    "deepnote_to_be_reexecuted": false,
    "source_hash": "423b36ad",
    "execution_start": 1652891840539,
    "execution_millis": 28010,
    "deepnote_cell_type": "code",
    "deepnote_cell_height": 111.875
   },
   "source": "compare_AIs(Minimax(\"Mima_4\", 4), Minimax(\"Mima_3\", 3))",
   "execution_count": null,
   "outputs": [
    {
     "name": "stdout",
     "text": "Mima_4 won 29 times, Mima_3 won 20 times and 1 games ended as draws.\n",
     "output_type": "stream"
    }
   ]
  },
  {
   "cell_type": "markdown",
   "source": "The Minimax AI with limit 4 wins roughly 10 times more than the Minimax AI with limit 3.",
   "metadata": {
    "cell_id": "ae5f9e8765b940b0a72b7cd88066f770",
    "tags": [],
    "deepnote_cell_type": "markdown",
    "deepnote_cell_height": 52.859375
   }
  },
  {
   "cell_type": "code",
   "metadata": {
    "cell_id": "10c62c383f344f9e907b8c1d423031cf",
    "tags": [],
    "deepnote_to_be_reexecuted": false,
    "source_hash": "ce6a27c6",
    "execution_start": 1652891868186,
    "execution_millis": 125504,
    "deepnote_cell_type": "code",
    "deepnote_cell_height": 111.875
   },
   "source": "compare_AIs(Minimax(\"Mima_5\", 5), Minimax(\"Mima_3\", 3))",
   "execution_count": null,
   "outputs": [
    {
     "name": "stdout",
     "text": "Mima_5 won 39 times, Mima_3 won 6 times and 5 games ended as draws.\n",
     "output_type": "stream"
    }
   ]
  },
  {
   "cell_type": "markdown",
   "source": "The Minimax AI with limit 5 has a win rate of roughly 80% when it's playing against a Minimax AI with limit 3. As expected an AI with a higher limit wins more often than the same AI with a lower limit. ",
   "metadata": {
    "cell_id": "f77985baa2434e0dbe2c911e4dbe738a",
    "tags": [],
    "deepnote_cell_type": "markdown",
    "deepnote_cell_height": 75.265625
   }
  },
  {
   "cell_type": "markdown",
   "source": "## Tests: Alpha-Beta",
   "metadata": {
    "cell_id": "68f0edd4bd7b4059b8530326e52c04c0",
    "tags": [],
    "deepnote_cell_type": "markdown",
    "deepnote_cell_height": 70.46875
   }
  },
  {
   "cell_type": "markdown",
   "source": "In this section we are executing the following tests:\n\n- two AlphaBeta AI's play against each other with same and different limits\n- Minimax AI plays against AlphaBeta AI with same and different limits ",
   "metadata": {
    "cell_id": "090366f5bcbd4d6aaf9ac765a8448e23",
    "tags": [],
    "deepnote_cell_type": "markdown",
    "deepnote_cell_height": 128.625
   }
  },
  {
   "cell_type": "markdown",
   "source": "#### Test AlphaBeta vs. AlphaBeta",
   "metadata": {
    "cell_id": "bb710da0077c439c85317a6db533b969",
    "tags": [],
    "deepnote_cell_type": "markdown",
    "deepnote_cell_height": 54.453125
   }
  },
  {
   "cell_type": "code",
   "metadata": {
    "cell_id": "4bdfdd0266014807be2754cacbdea226",
    "tags": [],
    "deepnote_to_be_reexecuted": false,
    "source_hash": "4241fd7b",
    "execution_start": 1652891993689,
    "execution_millis": 6539,
    "deepnote_cell_type": "code",
    "deepnote_cell_height": 111.875
   },
   "source": "compare_AIs(AlphaBeta(\"AlphaBeta_1\", 3), AlphaBeta(\"AlphaBeta_2\", 3))",
   "execution_count": null,
   "outputs": [
    {
     "name": "stdout",
     "text": "AlphaBeta_1 won 25 times, AlphaBeta_2 won 25 times and 0 games ended as draws.\n",
     "output_type": "stream"
    }
   ]
  },
  {
   "cell_type": "markdown",
   "source": "As expected each player wins 25 times. When two AI's with the same limit play against each other the player who is beginning wins. ",
   "metadata": {
    "cell_id": "0f1abd1b367246a685168022e6de1c1f",
    "tags": [],
    "deepnote_cell_type": "markdown",
    "deepnote_cell_height": 75.265625
   }
  },
  {
   "cell_type": "markdown",
   "source": "In the following two tests two AlphaBeta AI's with different limits are competing.",
   "metadata": {
    "cell_id": "1a3a8dd874334ec3a5fbf85ef9539086",
    "tags": [],
    "deepnote_cell_type": "markdown",
    "deepnote_cell_height": 52.859375
   }
  },
  {
   "cell_type": "code",
   "metadata": {
    "cell_id": "f8626f2ef9fe495ab044b2776b90e550",
    "tags": [],
    "deepnote_to_be_reexecuted": false,
    "source_hash": "d512e1cf",
    "execution_start": 1652891999747,
    "execution_millis": 24366,
    "deepnote_cell_type": "code",
    "deepnote_cell_height": 111.875
   },
   "source": "compare_AIs(AlphaBeta(\"AlphaBeta_1\", 4), AlphaBeta(\"AlphaBeta_2\", 3))",
   "execution_count": null,
   "outputs": [
    {
     "name": "stdout",
     "text": "AlphaBeta_1 won 29 times, AlphaBeta_2 won 20 times and 1 games ended as draws.\n",
     "output_type": "stream"
    }
   ]
  },
  {
   "cell_type": "markdown",
   "source": "The AlphaBeta AI with limit 4 wins roughly 10 times more than the AlphaBeta AI with limit 3.",
   "metadata": {
    "cell_id": "72257c3d68b84eaaaca3f25124c74b77",
    "tags": [],
    "deepnote_cell_type": "markdown",
    "deepnote_cell_height": 52.859375
   }
  },
  {
   "cell_type": "code",
   "metadata": {
    "cell_id": "2bbd9ddb5f3e4384a9d8274cf5be1613",
    "tags": [],
    "deepnote_to_be_reexecuted": false,
    "source_hash": "eb1cea14",
    "execution_start": 1652892024195,
    "execution_millis": 55526,
    "deepnote_cell_type": "code",
    "deepnote_cell_height": 111.875
   },
   "source": "compare_AIs(AlphaBeta(\"AlphaBeta_1\", 5), AlphaBeta(\"AlphaBeta_2\", 3))",
   "execution_count": null,
   "outputs": [
    {
     "name": "stdout",
     "text": "AlphaBeta_1 won 39 times, AlphaBeta_2 won 6 times and 5 games ended as draws.\n",
     "output_type": "stream"
    }
   ]
  },
  {
   "cell_type": "markdown",
   "source": "The AlphaBeta AI with limit 5 has a win rate of roughly 80% when it's playing against a AlphaBeta AI with limit 3. As expected an AI with a higher limit wins more often than the same AI with a lower limit. ",
   "metadata": {
    "cell_id": "d52133df89f049328fa8e41eee624ffb",
    "tags": [],
    "deepnote_cell_type": "markdown",
    "deepnote_cell_height": 75.265625
   }
  },
  {
   "cell_type": "markdown",
   "source": "#### Test: Minimax vs. AlphaBeta",
   "metadata": {
    "cell_id": "d73fd376f0694de0aad3a704ff8df4ad",
    "tags": [],
    "deepnote_cell_type": "markdown",
    "deepnote_cell_height": 54.453125
   }
  },
  {
   "cell_type": "markdown",
   "source": "In this test the Minimax AI and the AlphaBeta AI are playing against each with the same limit of 3.",
   "metadata": {
    "cell_id": "6310330f2ac14b7b80a7f016d7a62d18",
    "tags": [],
    "deepnote_cell_type": "markdown",
    "deepnote_cell_height": 52.859375
   }
  },
  {
   "cell_type": "code",
   "metadata": {
    "cell_id": "83709113908c43759646e443a469c605",
    "tags": [],
    "deepnote_to_be_reexecuted": false,
    "source_hash": "c9befa4",
    "execution_start": 1652892079854,
    "execution_millis": 9002,
    "deepnote_cell_type": "code",
    "deepnote_cell_height": 111.875
   },
   "source": "compare_AIs(Minimax(\"Minimax\", 3), AlphaBeta(\"AlphaBeta\", 3))",
   "execution_count": null,
   "outputs": [
    {
     "name": "stdout",
     "text": "Minimax won 25 times, AlphaBeta won 25 times and 0 games ended as draws.\n",
     "output_type": "stream"
    }
   ]
  },
  {
   "cell_type": "markdown",
   "source": "With the same limit the beginning player wins independent from the algorithm. ",
   "metadata": {
    "cell_id": "7dbc21305b274533820fb895239a6cdd",
    "tags": [],
    "deepnote_cell_type": "markdown",
    "deepnote_cell_height": 52.859375
   }
  },
  {
   "cell_type": "markdown",
   "source": "The two AI's Minimax and AlphaBeta are competing against each other with different limits. In the first test the Minimax AI has a higher limit by 1 than the AlphaBeta AI and in the second test it is reversed. In the third test the AlphaBeta AI has a limit advantage of 2. ",
   "metadata": {
    "cell_id": "51bd6ad2920d46ae810291110620d898",
    "tags": [],
    "deepnote_cell_type": "markdown",
    "deepnote_cell_height": 97.671875
   }
  },
  {
   "cell_type": "code",
   "metadata": {
    "cell_id": "30e5f57dc7de4d2da7a0ebf3444840d7",
    "tags": [],
    "deepnote_to_be_reexecuted": false,
    "source_hash": "b0ee3c7f",
    "execution_start": 1652892088876,
    "execution_millis": 33305,
    "deepnote_cell_type": "code",
    "deepnote_cell_height": 111.875
   },
   "source": "compare_AIs(Minimax(\"Minimax\", 4), AlphaBeta(\"AlphaBeta\", 3))",
   "execution_count": null,
   "outputs": [
    {
     "name": "stdout",
     "text": "Minimax won 29 times, AlphaBeta won 20 times and 1 games ended as draws.\n",
     "output_type": "stream"
    }
   ]
  },
  {
   "cell_type": "code",
   "metadata": {
    "cell_id": "847fbf8a69da4e098ca86ffd166e7ba8",
    "tags": [],
    "deepnote_to_be_reexecuted": false,
    "source_hash": "4aff415e",
    "execution_start": 1652892122250,
    "execution_millis": 22684,
    "deepnote_cell_type": "code",
    "deepnote_cell_height": 111.875
   },
   "source": "compare_AIs(Minimax(\"Minimax\", 3), AlphaBeta(\"AlphaBeta\", 4))",
   "execution_count": null,
   "outputs": [
    {
     "name": "stdout",
     "text": "Minimax won 20 times, AlphaBeta won 29 times and 1 games ended as draws.\n",
     "output_type": "stream"
    }
   ]
  },
  {
   "cell_type": "code",
   "metadata": {
    "cell_id": "d07d9c32e64b45ab9ff4124f4eb7358d",
    "tags": [],
    "deepnote_to_be_reexecuted": false,
    "source_hash": "397004eb",
    "execution_start": 1652892144950,
    "execution_millis": 55591,
    "deepnote_cell_type": "code",
    "deepnote_cell_height": 111.875
   },
   "source": "compare_AIs(Minimax(\"Minimax\", 3), AlphaBeta(\"AlphaBeta\", 5))",
   "execution_count": null,
   "outputs": [
    {
     "name": "stdout",
     "text": "Minimax won 6 times, AlphaBeta won 39 times and 5 games ended as draws.\n",
     "output_type": "stream"
    }
   ]
  },
  {
   "cell_type": "markdown",
   "source": "The AI with the higher limit wins more often. Also the higher the difference between the limits is the AI with the higher limit wins more often. ",
   "metadata": {
    "cell_id": "96fb6ecd0b284c27824bc5d4b51829d1",
    "tags": [],
    "deepnote_cell_type": "markdown",
    "deepnote_cell_height": 75.265625
   }
  },
  {
   "cell_type": "markdown",
   "source": "# Tests: Scout",
   "metadata": {
    "cell_id": "93a3cba0068a4ffc9c76b772da481357",
    "tags": [],
    "deepnote_cell_type": "markdown",
    "deepnote_cell_height": 82.453125
   }
  },
  {
   "cell_type": "markdown",
   "source": "In this section we are executing the following tests:\n\n- Scout plays against Scout with same and different limits \n- Scout plays against Minimax with same and different limits \n- Scout plays against AlphaBeta with same and different limits ",
   "metadata": {
    "cell_id": "77eb8133f567465b923e621d2bba4dd9",
    "tags": [],
    "deepnote_cell_type": "markdown",
    "deepnote_cell_height": 154.015625
   }
  },
  {
   "cell_type": "markdown",
   "source": "#### Tests: Scout vs. Scout",
   "metadata": {
    "cell_id": "2fc0cfb60def43928fdb9ecfbe8ea9ee",
    "tags": [],
    "deepnote_cell_type": "markdown",
    "deepnote_cell_height": 54.453125
   }
  },
  {
   "cell_type": "code",
   "metadata": {
    "cell_id": "265a8a4087624b84b8b2a63929ca1112",
    "tags": [],
    "deepnote_to_be_reexecuted": false,
    "source_hash": "ccc61e29",
    "execution_start": 1652892200659,
    "execution_millis": 7143,
    "deepnote_cell_type": "code",
    "deepnote_cell_height": 111.875
   },
   "source": "compare_AIs(Scout(\"Scout_1\", 3), Scout(\"Scout_2\", 3))",
   "execution_count": null,
   "outputs": [
    {
     "name": "stdout",
     "text": "Scout_1 won 25 times, Scout_2 won 25 times and 0 games ended as draws.\n",
     "output_type": "stream"
    }
   ]
  },
  {
   "cell_type": "markdown",
   "source": "As expected each player wins 25 times. When two AI's with the same limit play against each other the player who is beginning wins. ",
   "metadata": {
    "cell_id": "863573d114f5490ca0e6469c7e86052c",
    "tags": [],
    "deepnote_cell_type": "markdown",
    "deepnote_cell_height": 75.265625
   }
  },
  {
   "cell_type": "markdown",
   "source": "In the following two tests two Scout AI's with different limits are competing.",
   "metadata": {
    "cell_id": "72cd191020734983983424a9061c9a9d",
    "tags": [],
    "deepnote_cell_type": "markdown",
    "deepnote_cell_height": 52.859375
   }
  },
  {
   "cell_type": "code",
   "metadata": {
    "cell_id": "1ace470060de40afa33d8b15ca784d95",
    "tags": [],
    "deepnote_to_be_reexecuted": false,
    "source_hash": "6163da5",
    "execution_start": 1652892207860,
    "execution_millis": 37830,
    "deepnote_cell_type": "code",
    "deepnote_cell_height": 111.875
   },
   "source": "compare_AIs(Scout(\"Scout_1\", 4), Scout(\"Scout_2\", 3))",
   "execution_count": null,
   "outputs": [
    {
     "name": "stdout",
     "text": "Scout_1 won 29 times, Scout_2 won 20 times and 1 games ended as draws.\n",
     "output_type": "stream"
    }
   ]
  },
  {
   "cell_type": "markdown",
   "source": "The AlphaBeta AI with limit 4 wins roughly 10 times more than the AlphaBeta AI with limit 3.",
   "metadata": {
    "cell_id": "9df7f02eb5954baaa8b19024db7701f7",
    "tags": [],
    "deepnote_cell_type": "markdown",
    "deepnote_cell_height": 52.859375
   }
  },
  {
   "cell_type": "code",
   "metadata": {
    "cell_id": "93d5c1e3731e48ea85f240a39fe9c3f3",
    "tags": [],
    "deepnote_to_be_reexecuted": false,
    "source_hash": "eb0003a2",
    "execution_start": 1652892245689,
    "execution_millis": 96457,
    "deepnote_cell_type": "code",
    "deepnote_cell_height": 111.875
   },
   "source": "compare_AIs(Scout(\"Scout_1\", 5), Scout(\"Scout_2\", 3))",
   "execution_count": null,
   "outputs": [
    {
     "name": "stdout",
     "text": "Scout_1 won 39 times, Scout_2 won 6 times and 5 games ended as draws.\n",
     "output_type": "stream"
    }
   ]
  },
  {
   "cell_type": "markdown",
   "source": "The Scout AI with limit 5 has a win rate of roughly 80% when it's playing against a Scout AI with limit 3. As expected an AI with a higher limit wins more often than the same AI with a lower limit. ",
   "metadata": {
    "cell_id": "fa652c3564e143e6bfe09dbf4d5546bd",
    "tags": [],
    "deepnote_cell_type": "markdown",
    "deepnote_cell_height": 75.265625
   }
  },
  {
   "cell_type": "markdown",
   "source": "#### Tests: Minimax and Scout",
   "metadata": {
    "cell_id": "a441da8417c64fa5bc1790d37d7384a5",
    "tags": [],
    "deepnote_cell_type": "markdown",
    "deepnote_cell_height": 54.453125
   }
  },
  {
   "cell_type": "markdown",
   "source": "In this test the Minimax AI and the Scout AI are playing against each with the same limit of 3.",
   "metadata": {
    "cell_id": "51bca0d7b2f345119b444df19ea1f900",
    "tags": [],
    "deepnote_cell_type": "markdown",
    "deepnote_cell_height": 52.859375
   }
  },
  {
   "cell_type": "code",
   "metadata": {
    "cell_id": "385799ccbae64f8c88d3d42640fc52bb",
    "tags": [],
    "deepnote_to_be_reexecuted": false,
    "source_hash": "9c936de6",
    "execution_start": 1652892341700,
    "execution_millis": 11326,
    "deepnote_cell_type": "code",
    "deepnote_cell_height": 111.875
   },
   "source": "compare_AIs(Minimax(\"Minimax\", 3), Scout(\"Scout\", 3))",
   "execution_count": null,
   "outputs": [
    {
     "name": "stdout",
     "text": "Minimax won 25 times, Scout won 25 times and 0 games ended as draws.\n",
     "output_type": "stream"
    }
   ]
  },
  {
   "cell_type": "markdown",
   "source": "With the same limit the beginning player wins independent from the algorithm. ",
   "metadata": {
    "cell_id": "2052bb7650b145b7a42429093984d525",
    "tags": [],
    "deepnote_cell_type": "markdown",
    "deepnote_cell_height": 52.859375
   }
  },
  {
   "cell_type": "markdown",
   "source": "The two AI's Minimax and Scout are competing against each other with different limits. In the first test the Minimax AI has a higher limit than the Scout AI and in the second test it is reversed.",
   "metadata": {
    "cell_id": "e9fd6bded32040829fcc84918fed727c",
    "tags": [],
    "deepnote_cell_type": "markdown",
    "deepnote_cell_height": 75.265625
   }
  },
  {
   "cell_type": "code",
   "metadata": {
    "cell_id": "380bcf8786ae40f5808dae98063995e4",
    "tags": [],
    "deepnote_to_be_reexecuted": false,
    "source_hash": "4e33350f",
    "execution_start": 1652892352525,
    "execution_millis": 37448,
    "deepnote_cell_type": "code",
    "deepnote_cell_height": 111.875
   },
   "source": "compare_AIs(Minimax(\"Minimax\", 4), Scout(\"Scout\", 3))",
   "execution_count": null,
   "outputs": [
    {
     "name": "stdout",
     "text": "Minimax won 29 times, Scout won 20 times and 1 games ended as draws.\n",
     "output_type": "stream"
    }
   ]
  },
  {
   "cell_type": "code",
   "metadata": {
    "cell_id": "accbbd9ccca748baa96250a3e2899f90",
    "tags": [],
    "deepnote_to_be_reexecuted": false,
    "source_hash": "679342fe",
    "execution_start": 1652892389971,
    "execution_millis": 34745,
    "deepnote_cell_type": "code",
    "deepnote_cell_height": 111.875
   },
   "source": "compare_AIs(Minimax(\"Minimax\", 3), Scout(\"Scout\", 4))",
   "execution_count": null,
   "outputs": [
    {
     "name": "stdout",
     "text": "Minimax won 20 times, Scout won 29 times and 1 games ended as draws.\n",
     "output_type": "stream"
    }
   ]
  },
  {
   "cell_type": "markdown",
   "source": "The AI with the higher limit wins more often independent from the algorithm. ",
   "metadata": {
    "cell_id": "f7dcf4cc01764c8eb42313e1d3b150ac",
    "tags": [],
    "deepnote_cell_type": "markdown",
    "deepnote_cell_height": 52.859375
   }
  },
  {
   "cell_type": "markdown",
   "source": "#### Tests: AlphaBeta and Scout",
   "metadata": {
    "cell_id": "3225e6f86a3e4c0d9f04b5a90287c1d3",
    "tags": [],
    "deepnote_cell_type": "markdown",
    "deepnote_cell_height": 54.453125
   }
  },
  {
   "cell_type": "markdown",
   "source": "In this test the AlphaBeta AI and the Scout AI are playing against each with the same limit of 3.",
   "metadata": {
    "cell_id": "6d2cea0d7f8446cdbfc306494b8af499",
    "tags": [],
    "deepnote_cell_type": "markdown",
    "deepnote_cell_height": 52.859375
   }
  },
  {
   "cell_type": "code",
   "metadata": {
    "cell_id": "677f14c0fbb74760a1abd2816dbf909f",
    "tags": [],
    "deepnote_to_be_reexecuted": false,
    "source_hash": "4bab6b8f",
    "execution_start": 1652892424839,
    "execution_millis": 11055,
    "deepnote_cell_type": "code",
    "deepnote_cell_height": 111.875
   },
   "source": "compare_AIs(AlphaBeta(\"AlphaBeta\", 3), Scout(\"Scout\", 3))",
   "execution_count": null,
   "outputs": [
    {
     "name": "stdout",
     "text": "AlphaBeta won 25 times, Scout won 25 times and 0 games ended as draws.\n",
     "output_type": "stream"
    }
   ]
  },
  {
   "cell_type": "markdown",
   "source": "With the same limit the beginning player wins independent from the algorithm. ",
   "metadata": {
    "cell_id": "80144f3cce2544bb918fbcb5462adf71",
    "tags": [],
    "deepnote_cell_type": "markdown",
    "deepnote_cell_height": 52.859375
   }
  },
  {
   "cell_type": "markdown",
   "source": "The two AI's AlphaBeta and Scout are competing against each other with different limits. In the first test the AlphaBeta AI has a higher limit than the Scout AI and in the second test it is reversed.",
   "metadata": {
    "cell_id": "c0301048732a404d9b5e9f2ff809abea",
    "tags": [],
    "deepnote_cell_type": "markdown",
    "deepnote_cell_height": 75.265625
   }
  },
  {
   "cell_type": "code",
   "metadata": {
    "cell_id": "2dbc654a78ca4af293ee30dd273cff55",
    "tags": [],
    "deepnote_to_be_reexecuted": false,
    "source_hash": "ddfbaf62",
    "execution_start": 1652892435894,
    "execution_millis": 25850,
    "deepnote_cell_type": "code",
    "deepnote_cell_height": 111.875
   },
   "source": "compare_AIs(AlphaBeta(\"AlphaBeta\", 4), Scout(\"Scout\", 3))",
   "execution_count": null,
   "outputs": [
    {
     "name": "stdout",
     "text": "AlphaBeta won 29 times, Scout won 20 times and 1 games ended as draws.\n",
     "output_type": "stream"
    }
   ]
  },
  {
   "cell_type": "code",
   "metadata": {
    "cell_id": "85299028282f46249adebe1ebc98f3ef",
    "tags": [],
    "deepnote_to_be_reexecuted": false,
    "source_hash": "f2ba19ae",
    "execution_start": 1652892461753,
    "execution_millis": 35032,
    "deepnote_cell_type": "code",
    "deepnote_cell_height": 111.875
   },
   "source": "compare_AIs(AlphaBeta(\"AlphaBeta\", 3), Scout(\"Scout\", 4))",
   "execution_count": null,
   "outputs": [
    {
     "name": "stdout",
     "text": "AlphaBeta won 20 times, Scout won 29 times and 1 games ended as draws.\n",
     "output_type": "stream"
    }
   ]
  },
  {
   "cell_type": "markdown",
   "source": "The AI with the higher limit wins more often independent from the algorithm. ",
   "metadata": {
    "cell_id": "7a8c4ae313c14573903fb86433de4c65",
    "tags": [],
    "deepnote_cell_type": "markdown",
    "deepnote_cell_height": 52.859375
   }
  },
  {
   "cell_type": "markdown",
   "source": "# Conclusion",
   "metadata": {
    "cell_id": "7f3f4535f32c427eb554345868f5a68d",
    "tags": [],
    "deepnote_cell_type": "markdown",
    "deepnote_cell_height": 82.453125
   }
  },
  {
   "cell_type": "markdown",
   "source": "1. All tests between two AI's with the same limit show that always the beginner is winning. That is the result for the same algorithm competing and for different algorithms playing against each other.\n\n2. The AI with the higher limit wins more often. When the differnce between the limits of the AI's gets bigger the win rate of the AI with the higher limit gets bigger. That is also the same result for all algorithms competing against each other. \n\nThat shows that in general all three AI's have a similar level. The difference is located in the computing time and in the node inscpections. These factors are researched in the following tests.",
   "metadata": {
    "cell_id": "1f2af0d17a52427da64f209f9a5ffd78",
    "tags": [],
    "owner_user_id": "f69dee13-5c5e-4b97-89fa-71f96690ed33",
    "deepnote_cell_type": "markdown",
    "deepnote_cell_height": 184.84375
   }
  },
  {
   "cell_type": "markdown",
   "source": "# Time and Node Inspections comparison: Minimax, AlphaBeta, Scout",
   "metadata": {
    "cell_id": "064325ed9f5c494e9126e3fef6c66443",
    "tags": [],
    "owner_user_id": "7c84efd6-9dfe-4698-8d7f-9a6307a4d527",
    "deepnote_cell_type": "markdown",
    "deepnote_cell_height": 134.453125
   }
  },
  {
   "cell_type": "markdown",
   "source": "In this section we are comparing the efficencies of the three AI's:\n\n- computation time for Minimax AI, AlphaBeta AI and Scout AI\n- node inspections for Minimax AI, AlphaBeta AI and Scout AI\n\nThis efficiency of the AIs should be compared with and without memoization.\n\nMemoization is a technique to speed up function calls of a certain complex function, by storing past inputs and corresponding outputs in a dictionary. If an input to the function was once recieved before, the execution of the actual function can be skipped and instead the output stored in the dictionary will be returned. This is mainly useful for functions that take longer to compute than it takes to access a value in a dictionary.\n\nThe comparison without memoization should be more representative of the algorithmical efficiency of the different AIs. The comparison with memoization on the other hand should demonstrate how effective the different memoization implementations for the different AIs are and which AI implementation is most useful in total.\n\nThe function *test_with_limit* receives a Player class and a limit and then plays five games with two players of this Player class which each are given the provided limit. By playing five games with different seeds, variations due to random choices of the AIs are evened.",
   "metadata": {
    "cell_id": "a42f18e205654f43a5b9ab56c2efcfa2",
    "tags": [],
    "deepnote_cell_type": "markdown",
    "deepnote_cell_height": 417
   }
  },
  {
   "cell_type": "code",
   "metadata": {
    "cell_id": "249b84f1eaad4b2f98ab9f9b9b13ff83",
    "tags": [],
    "deepnote_to_be_reexecuted": false,
    "source_hash": "9ea1d080",
    "execution_start": 1652892496790,
    "execution_millis": 5,
    "deepnote_cell_type": "code",
    "deepnote_cell_height": 315.46875
   },
   "source": "from datetime import datetime\nimport numpy as np\nimport pandas as pd\n\ndef test_with_limit(PlayerClass, limit):\n    global gCounts\n    gCounts = 0\n    time = datetime.now()\n    for seed in range(5):\n        empty_caches()\n        Kalah_Game([PlayerClass(\"Player_1\",limit,seed),PlayerClass(\"Player_2\",limit,seed)],0).start()\n    time_diff = datetime.now() - time\n    time_diff = float(time_diff.total_seconds())\n    return time_diff",
   "execution_count": null,
   "outputs": []
  },
  {
   "cell_type": "markdown",
   "source": "The following function *test_AIs* tests the three AIs one after another with different limits and saves the calculation times and node inspection counts to lists to illustrate them in diagrams afterwards.",
   "metadata": {
    "cell_id": "5a913c8e4be04fdb8484287b41ed2f3c",
    "tags": [],
    "deepnote_to_be_reexecuted": false,
    "source_hash": "9ac6e7c3",
    "execution_start": 1652783846313,
    "execution_millis": 6,
    "deepnote_cell_type": "markdown",
    "deepnote_cell_height": 75.265625
   }
  },
  {
   "cell_type": "code",
   "metadata": {
    "cell_id": "0a1467e527684499a2db27b7d51a7465",
    "tags": [],
    "deepnote_to_be_reexecuted": false,
    "source_hash": "799f1fad",
    "execution_start": 1652892496795,
    "execution_millis": 3,
    "deepnote_cell_type": "code",
    "deepnote_cell_height": 81.453125
   },
   "source": "limits = [1,2,3,4,5]",
   "execution_count": null,
   "outputs": []
  },
  {
   "cell_type": "code",
   "metadata": {
    "cell_id": "0486a6e1f3494a41a24069d62bef5fa2",
    "tags": [],
    "deepnote_to_be_reexecuted": false,
    "source_hash": "226025d3",
    "execution_start": 1652892496805,
    "execution_millis": 2,
    "deepnote_cell_type": "code",
    "deepnote_cell_height": 387.453125
   },
   "source": "def test_AIs():\n    global limits\n    times = [[],[],[]]\n    counts = [[],[],[]]\n\n    for limit in limits:\n        times[0].append(test_with_limit(Minimax, limit))\n        counts[0].append(gCounts)\n\n    for limit in limits:\n        times[1].append(test_with_limit(AlphaBeta, limit))\n        counts[1].append(gCounts)\n\n    for limit in limits:\n        times[2].append(test_with_limit(Scout, limit))\n        counts[2].append(gCounts)\n\n    return times, counts",
   "execution_count": null,
   "outputs": []
  },
  {
   "cell_type": "markdown",
   "source": "The function *draw_plots()* displays the calculated time and node inspection count values in two diagrams make them comparable.",
   "metadata": {
    "cell_id": "7ec4475ccc9549c1a301c98d248d9e4c",
    "tags": [],
    "deepnote_cell_type": "markdown",
    "deepnote_cell_height": 52.859375
   }
  },
  {
   "cell_type": "code",
   "metadata": {
    "cell_id": "50ee3fd0a9cd441bbc8a0139e2342e74",
    "tags": [],
    "deepnote_to_be_reexecuted": false,
    "source_hash": "1ee70863",
    "execution_start": 1652892496818,
    "execution_millis": 39,
    "deepnote_cell_type": "code",
    "deepnote_cell_height": 567.453125
   },
   "source": "def draw_plots(times, counts):\n    global limits\n\n    plt.title('Calculation time for 5 games of two identical player algorithms')\n    plt.xlabel('Limit depth')\n    plt.ylabel('Time in seconds')\n\n    plt.plot(limits, times[0], label=\"Minimax\")\n    plt.plot(limits, times[1], label=\"AlphaBeta\")\n    plt.plot(limits, times[2], label=\"Scout\")\n\n    plt.legend(loc='upper left', frameon=True)\n\n    # Diagramm anzeigen:\n    plt.show()\n\n    plt.title('Node Inspections for 5 games of two identical player algorithms')\n    plt.xlabel('Limit depth')\n    plt.ylabel('Node Inspections')\n\n    plt.plot(limits, counts[0], label=\"Minimax\")\n    plt.plot(limits, counts[1], label=\"AlphaBeta\")\n    plt.plot(limits, counts[2], label=\"Scout\")\n\n    plt.legend(loc='upper left', frameon=True)\n\n    # Diagramm anzeigen:\n    plt.show()",
   "execution_count": null,
   "outputs": []
  },
  {
   "cell_type": "markdown",
   "source": "## Comparison without Memoization\nTo test the AIs without memoization, the AI functions *value, evaluate, EVAL* and *TEST* from the core notebook are overwritten by special versions which were implemented specifically for this comparison and are marked by an '_' at the beginning of their names. ",
   "metadata": {
    "cell_id": "322e91d9edbd4d1fa7abd1e27849e36d",
    "tags": [],
    "deepnote_cell_type": "markdown",
    "deepnote_cell_height": 131.265625
   }
  },
  {
   "cell_type": "code",
   "metadata": {
    "cell_id": "fc584561f7b54e8292d4fa15a8d3138f",
    "tags": [],
    "deepnote_to_be_reexecuted": false,
    "source_hash": "2ecf3ff4",
    "execution_start": 1652892496858,
    "execution_millis": 0,
    "deepnote_cell_type": "code",
    "deepnote_cell_height": 135.46875
   },
   "source": "value = _value\nevaluate = _evaluate\nEVAL = _EVAL\nTEST = _TEST",
   "execution_count": null,
   "outputs": []
  },
  {
   "cell_type": "code",
   "metadata": {
    "cell_id": "e4a16706e0b948e995042619bd088c85",
    "tags": [],
    "deepnote_to_be_reexecuted": false,
    "source_hash": "cf01f143",
    "execution_start": 1652892496965,
    "execution_millis": 1018588,
    "deepnote_cell_type": "code",
    "deepnote_cell_height": 81.453125
   },
   "source": "times, counts = test_AIs()",
   "execution_count": null,
   "outputs": []
  },
  {
   "cell_type": "code",
   "metadata": {
    "cell_id": "6faa5428dcf444168aa27f32f457f9cf",
    "tags": [],
    "deepnote_to_be_reexecuted": false,
    "source_hash": "dfa90d3b",
    "execution_start": 1652893515553,
    "execution_millis": 1241,
    "deepnote_cell_type": "code",
    "deepnote_cell_height": 144.859375
   },
   "source": "draw_plots(times, counts)",
   "execution_count": null,
   "outputs": [
    {
     "output_type": "error",
     "ename": "NameError",
     "evalue": "name 'plt' is not defined",
     "traceback": [
      "\u001b[0;31m---------------------------------------------------------------------------\u001b[0m",
      "\u001b[0;31mNameError\u001b[0m                                 Traceback (most recent call last)",
      "\u001b[0;32m<ipython-input-30-6a7673c8241e>\u001b[0m in \u001b[0;36m<module>\u001b[0;34m\u001b[0m\n\u001b[0;32m----> 1\u001b[0;31m \u001b[0mdraw_plots\u001b[0m\u001b[0;34m(\u001b[0m\u001b[0mtimes\u001b[0m\u001b[0;34m,\u001b[0m \u001b[0mcounts\u001b[0m\u001b[0;34m)\u001b[0m\u001b[0;34m\u001b[0m\u001b[0;34m\u001b[0m\u001b[0m\n\u001b[0m",
      "\u001b[0;32m<ipython-input-27-420937598c24>\u001b[0m in \u001b[0;36mdraw_plots\u001b[0;34m(times, counts)\u001b[0m\n\u001b[1;32m      2\u001b[0m     \u001b[0;32mglobal\u001b[0m \u001b[0mlimits\u001b[0m\u001b[0;34m\u001b[0m\u001b[0;34m\u001b[0m\u001b[0m\n\u001b[1;32m      3\u001b[0m \u001b[0;34m\u001b[0m\u001b[0m\n\u001b[0;32m----> 4\u001b[0;31m     \u001b[0mplt\u001b[0m\u001b[0;34m.\u001b[0m\u001b[0mtitle\u001b[0m\u001b[0;34m(\u001b[0m\u001b[0;34m'Calculation time for 5 games of two identical player algorithms'\u001b[0m\u001b[0;34m)\u001b[0m\u001b[0;34m\u001b[0m\u001b[0;34m\u001b[0m\u001b[0m\n\u001b[0m\u001b[1;32m      5\u001b[0m     \u001b[0mplt\u001b[0m\u001b[0;34m.\u001b[0m\u001b[0mxlabel\u001b[0m\u001b[0;34m(\u001b[0m\u001b[0;34m'Limit depth'\u001b[0m\u001b[0;34m)\u001b[0m\u001b[0;34m\u001b[0m\u001b[0;34m\u001b[0m\u001b[0m\n\u001b[1;32m      6\u001b[0m     \u001b[0mplt\u001b[0m\u001b[0;34m.\u001b[0m\u001b[0mylabel\u001b[0m\u001b[0;34m(\u001b[0m\u001b[0;34m'Time in seconds'\u001b[0m\u001b[0;34m)\u001b[0m\u001b[0;34m\u001b[0m\u001b[0;34m\u001b[0m\u001b[0m\n",
      "\u001b[0;31mNameError\u001b[0m: name 'plt' is not defined"
     ]
    }
   ]
  },
  {
   "cell_type": "markdown",
   "source": "## Comparison with Memoization\nTo compare the AIs without memoization, the core notebook is executed again to have the original versions of the core functions.",
   "metadata": {
    "cell_id": "d7407b1ec19346a38f30f806d351656e",
    "tags": [],
    "deepnote_cell_type": "markdown",
    "deepnote_cell_height": 108.859375
   }
  },
  {
   "cell_type": "code",
   "metadata": {
    "cell_id": "7d52c466e15e4b48a28ced9873117c19",
    "tags": [],
    "deepnote_to_be_reexecuted": true,
    "source_hash": "6bd84484",
    "execution_start": 1652870717563,
    "execution_millis": 250,
    "deepnote_cell_type": "code",
    "deepnote_cell_height": 81.453125
   },
   "source": "%run Core.ipynb",
   "execution_count": null,
   "outputs": []
  },
  {
   "cell_type": "code",
   "metadata": {
    "cell_id": "1f76c5ccd55b4415bae4d6ce4a54e512",
    "tags": [],
    "deepnote_to_be_reexecuted": true,
    "source_hash": "cf01f143",
    "execution_start": 1652870717813,
    "execution_millis": 4773,
    "deepnote_cell_type": "code",
    "deepnote_cell_height": 81.453125
   },
   "source": "times, counts = test_AIs()",
   "execution_count": null,
   "outputs": []
  },
  {
   "cell_type": "code",
   "metadata": {
    "cell_id": "528c75878e6841d1be39621548085d6d",
    "tags": [],
    "deepnote_to_be_reexecuted": true,
    "source_hash": "dfa90d3b",
    "execution_start": 1652870722597,
    "execution_millis": 677,
    "deepnote_cell_type": "code",
    "deepnote_cell_height": 688.921875,
    "deepnote_output_heights": [
     279.984375,
     279.984375
    ]
   },
   "source": "draw_plots(times, counts)",
   "execution_count": null,
   "outputs": [
    {
     "data": {
      "text/plain": "<Figure size 432x288 with 1 Axes>",
      "image/png": "[encoded data removed]"
     },
     "metadata": {
      "needs_background": "light",
      "image/png": {
       "width": 415,
       "height": 278
      }
     },
     "output_type": "display_data"
    },
    {
     "data": {
      "text/plain": "<Figure size 432x288 with 1 Axes>",
      "image/png": "[encoded data removed]"
     },
     "metadata": {
      "needs_background": "light",
      "image/png": {
       "width": 427,
       "height": 278
      }
     },
     "output_type": "display_data"
    }
   ]
  },
  {
   "cell_type": "markdown",
   "source": "<a style='text-decoration:none;line-height:16px;display:flex;color:#5B5B62;padding:10px;justify-content:end;' href='https://deepnote.com?utm_source=created-in-deepnote-cell&projectId=b91c3ea7-d814-439b-837a-72fdc90697b1' target=\"_blank\">\n<img alt='Created in deepnote.com' style='display:inline;max-height:16px;margin:0px;margin-right:7.5px;' src='data:image/svg+xml;base64,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' > </img>\nCreated in <span style='font-weight:600;margin-left:4px;'>Deepnote</span></a>",
   "metadata": {
    "tags": [],
    "created_in_deepnote_cell": true,
    "deepnote_cell_type": "markdown"
   }
  }
 ],
 "nbformat": 4,
 "nbformat_minor": 2,
 "metadata": {
  "orig_nbformat": 2,
  "deepnote": {},
  "deepnote_notebook_id": "1c75c9b8-b0de-4186-968a-2f0ad623c796",
  "deepnote_execution_queue": []
 }
}