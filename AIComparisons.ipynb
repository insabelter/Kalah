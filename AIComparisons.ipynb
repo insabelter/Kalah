{
 "cells": [
  {
   "cell_type": "markdown",
   "source": "# AI Comparisons\n\nThis notebook is for comparing the different AI's. Three different tests are made:\n\n1. Proving that all three AI's make the same decisions for the same state.\n2. AI's with different limits are competing.\n3. Comparing the computig time and the node inspections for AlphaBeta and Scout. ",
   "metadata": {
    "cell_id": "603a133b486546edb23ff3d2f3da3fed",
    "tags": [],
    "deepnote_cell_type": "markdown",
    "deepnote_cell_height": 221.5625
   }
  },
  {
   "cell_type": "code",
   "metadata": {
    "cell_id": "870c411ac16146bb90f3d9ca6905ea90",
    "tags": [],
    "deepnote_to_be_reexecuted": false,
    "source_hash": "6bd84484",
    "execution_start": 1654440982149,
    "execution_millis": 172,
    "deepnote_cell_type": "code",
    "deepnote_cell_height": 81
   },
   "source": "%run Core.ipynb",
   "execution_count": null,
   "outputs": []
  },
  {
   "cell_type": "markdown",
   "source": "## 1. AI's make the same decision",
   "metadata": {
    "cell_id": "cdb303cc6c144d028bc645e4cc700de0",
    "tags": [],
    "deepnote_cell_type": "markdown",
    "deepnote_cell_height": 70
   }
  },
  {
   "cell_type": "markdown",
   "source": "The following tests should prove that all three AI's make the same decision when the same state is given. ",
   "metadata": {
    "cell_id": "056b83e1806b4a0c9f900c73286be5a9",
    "tags": [],
    "deepnote_cell_type": "markdown",
    "deepnote_cell_height": 52.390625
   }
  },
  {
   "cell_type": "markdown",
   "source": "The first test checks if the decision for the start state is the same with different limits. ",
   "metadata": {
    "cell_id": "bd6c5a5a592843648930e803caf181d2",
    "tags": [],
    "deepnote_cell_type": "markdown",
    "deepnote_cell_height": 52.390625
   }
  },
  {
   "cell_type": "code",
   "metadata": {
    "cell_id": "2bb0cea79a264fc2b2eee30125588aa2",
    "tags": [],
    "deepnote_to_be_reexecuted": false,
    "source_hash": "b2c4c3e5",
    "execution_start": 1654333644882,
    "execution_millis": 2,
    "deepnote_cell_type": "code",
    "deepnote_cell_height": 99
   },
   "source": "for i in range(1,6):\n    assert Minimax(\"Mini\",i).choose_house(gStartState) == AlphaBeta(\"Alpha\", i).choose_house(gStartState) == Scout(\"Scout\", i).choose_house(gStartState)",
   "execution_count": null,
   "outputs": []
  },
  {
   "cell_type": "markdown",
   "source": "All AI's make the same decision, so the test is successful.",
   "metadata": {
    "cell_id": "d909ed5e874648fb9303951231253b50",
    "tags": [],
    "deepnote_cell_type": "markdown",
    "deepnote_cell_height": 52.390625
   }
  },
  {
   "cell_type": "markdown",
   "source": "The next test checks if the same decision is made for a random state that is not the start state or a state that results in a finished state.",
   "metadata": {
    "cell_id": "55f5348cdc974077b448e3359d7d5098",
    "tags": [],
    "deepnote_cell_type": "markdown",
    "deepnote_cell_height": 52.390625
   }
  },
  {
   "cell_type": "code",
   "metadata": {
    "cell_id": "f9098af22cb24cadb3be7938b94442aa",
    "tags": [],
    "deepnote_to_be_reexecuted": false,
    "source_hash": "3d41648b",
    "execution_start": 1654333837514,
    "execution_millis": 1,
    "owner_user_id": "7c84efd6-9dfe-4698-8d7f-9a6307a4d527",
    "deepnote_cell_type": "code",
    "deepnote_cell_height": 117
   },
   "source": "statetest =  [[1,1,1,1,0,0,15],[2,2,2,2,0,4,17]]\nfor i in range(1,6):\n    assert Minimax(\"Mini\",i).choose_house(statetest) == AlphaBeta(\"Alpha\", i).choose_house(statetest) == Scout(\"Scout\", i).choose_house(statetest)",
   "execution_count": null,
   "outputs": []
  },
  {
   "cell_type": "markdown",
   "source": "Again, all three AI's make the same decision.",
   "metadata": {
    "cell_id": "2f4794cab27a4372aae5772d2dca3700",
    "tags": [],
    "deepnote_cell_type": "markdown",
    "deepnote_cell_height": 52.390625
   }
  },
  {
   "cell_type": "markdown",
   "source": "The following function is used to verify that a game of AlphaBeta and Scout against the Random AI result in the same finished state. The function takes a limit and a seed as parameters and raises an error if the finished states are different. ",
   "metadata": {
    "cell_id": "614cb9bfc3174340a9f776edbe5b75b5",
    "tags": [],
    "deepnote_cell_type": "markdown",
    "deepnote_cell_height": 74.78125
   }
  },
  {
   "cell_type": "code",
   "metadata": {
    "cell_id": "854b86134d1441659cfb9b3c372675fc",
    "tags": [],
    "deepnote_to_be_reexecuted": false,
    "source_hash": "7fb2837d",
    "execution_start": 1654437128497,
    "execution_millis": 8,
    "deepnote_cell_type": "code",
    "deepnote_cell_height": 315
   },
   "source": " def test_ending(limit, seed):\n\n    end_states = set()\n\n    game1 = Kalah_Game([AlphaBeta(\"AlphaBeta\",limit),Random_Player(\"Rando\",seed)],0)\n    game1.start()\n    end_alpha = to_tuple(game1.state)\n\n    game2 = Kalah_Game([Scout(\"Scout\",limit),Random_Player(\"Rando\",seed)],0)\n    game2.start()\n    end_scout = to_tuple(game2.state)\n\n    if end_alpha != end_scout:\n        raise Exception(f\"Exception at seed {seed} with limit {l}\")",
   "execution_count": null,
   "outputs": []
  },
  {
   "cell_type": "markdown",
   "source": "The function *test_ending* is called for ten different seeds and a limit from one to five. ",
   "metadata": {
    "cell_id": "cdf61efa75f74850b3deb2d7a93fbc15",
    "tags": [],
    "deepnote_cell_type": "markdown",
    "deepnote_cell_height": 52.390625
   }
  },
  {
   "cell_type": "code",
   "metadata": {
    "cell_id": "d4c39de8bda649eba4cbaca281db4ea2",
    "tags": [],
    "deepnote_to_be_reexecuted": false,
    "source_hash": "3802fed3",
    "execution_start": 1654437239439,
    "execution_millis": 21795,
    "deepnote_cell_type": "code",
    "deepnote_cell_height": 180.1875
   },
   "source": "for seed in range(10):\n    for l in range(1,5):\n        test_ending(l, seed)",
   "execution_count": null,
   "outputs": [
    {
     "output_type": "error",
     "ename": "KeyboardInterrupt",
     "evalue": "",
     "traceback": [
      "\u001b[0;31m---------------------------------------------------------------------------\u001b[0m",
      "\u001b[0;31mKeyboardInterrupt\u001b[0m                         Traceback (most recent call last)",
      "\u001b[0;32m<ipython-input-7-4a2ee07c429f>\u001b[0m in \u001b[0;36m<module>\u001b[0;34m\u001b[0m\n\u001b[1;32m      1\u001b[0m \u001b[0;32mfor\u001b[0m \u001b[0mseed\u001b[0m \u001b[0;32min\u001b[0m \u001b[0mrange\u001b[0m\u001b[0;34m(\u001b[0m\u001b[0;36m10\u001b[0m\u001b[0;34m)\u001b[0m\u001b[0;34m:\u001b[0m\u001b[0;34m\u001b[0m\u001b[0;34m\u001b[0m\u001b[0m\n\u001b[1;32m      2\u001b[0m     \u001b[0;32mfor\u001b[0m \u001b[0ml\u001b[0m \u001b[0;32min\u001b[0m \u001b[0mrange\u001b[0m\u001b[0;34m(\u001b[0m\u001b[0;36m1\u001b[0m\u001b[0;34m,\u001b[0m\u001b[0;36m6\u001b[0m\u001b[0;34m)\u001b[0m\u001b[0;34m:\u001b[0m\u001b[0;34m\u001b[0m\u001b[0;34m\u001b[0m\u001b[0m\n\u001b[0;32m----> 3\u001b[0;31m         \u001b[0mtest_ending\u001b[0m\u001b[0;34m(\u001b[0m\u001b[0ml\u001b[0m\u001b[0;34m,\u001b[0m \u001b[0mseed\u001b[0m\u001b[0;34m)\u001b[0m\u001b[0;34m\u001b[0m\u001b[0;34m\u001b[0m\u001b[0m\n\u001b[0m",
      "\u001b[0;32m<ipython-input-3-af63204c1d26>\u001b[0m in \u001b[0;36mtest_ending\u001b[0;34m(limit, seed)\u001b[0m\n\u001b[1;32m      4\u001b[0m \u001b[0;34m\u001b[0m\u001b[0m\n\u001b[1;32m      5\u001b[0m    \u001b[0mgame1\u001b[0m \u001b[0;34m=\u001b[0m \u001b[0mKalah_Game\u001b[0m\u001b[0;34m(\u001b[0m\u001b[0;34m[\u001b[0m\u001b[0mAlphaBeta\u001b[0m\u001b[0;34m(\u001b[0m\u001b[0;34m\"AlphaBeta\"\u001b[0m\u001b[0;34m,\u001b[0m\u001b[0mlimit\u001b[0m\u001b[0;34m)\u001b[0m\u001b[0;34m,\u001b[0m\u001b[0mRandom_AI\u001b[0m\u001b[0;34m(\u001b[0m\u001b[0;34m\"Rando\"\u001b[0m\u001b[0;34m,\u001b[0m\u001b[0mseed\u001b[0m\u001b[0;34m)\u001b[0m\u001b[0;34m]\u001b[0m\u001b[0;34m,\u001b[0m\u001b[0;36m0\u001b[0m\u001b[0;34m)\u001b[0m\u001b[0;34m\u001b[0m\u001b[0;34m\u001b[0m\u001b[0m\n\u001b[0;32m----> 6\u001b[0;31m    \u001b[0mgame1\u001b[0m\u001b[0;34m.\u001b[0m\u001b[0mstart\u001b[0m\u001b[0;34m(\u001b[0m\u001b[0;34m)\u001b[0m\u001b[0;34m\u001b[0m\u001b[0;34m\u001b[0m\u001b[0m\n\u001b[0m\u001b[1;32m      7\u001b[0m    \u001b[0mend_alpha\u001b[0m \u001b[0;34m=\u001b[0m \u001b[0mto_tuple\u001b[0m\u001b[0;34m(\u001b[0m\u001b[0mgame1\u001b[0m\u001b[0;34m.\u001b[0m\u001b[0mstate\u001b[0m\u001b[0;34m)\u001b[0m\u001b[0;34m\u001b[0m\u001b[0;34m\u001b[0m\u001b[0m\n\u001b[1;32m      8\u001b[0m \u001b[0;34m\u001b[0m\u001b[0m\n",
      "\u001b[0;32m<ipython-input-2-296c604e0721>\u001b[0m in \u001b[0;36mstart\u001b[0;34m(self)\u001b[0m\n\u001b[1;32m     12\u001b[0m             \u001b[0mtime\u001b[0m\u001b[0;34m.\u001b[0m\u001b[0msleep\u001b[0m\u001b[0;34m(\u001b[0m\u001b[0;36m0.05\u001b[0m\u001b[0;34m)\u001b[0m\u001b[0;34m\u001b[0m\u001b[0;34m\u001b[0m\u001b[0m\n\u001b[1;32m     13\u001b[0m \u001b[0;34m\u001b[0m\u001b[0m\n\u001b[0;32m---> 14\u001b[0;31m         \u001b[0mchoice\u001b[0m \u001b[0;34m=\u001b[0m \u001b[0mself\u001b[0m\u001b[0;34m.\u001b[0m\u001b[0mplayers\u001b[0m\u001b[0;34m[\u001b[0m\u001b[0mself\u001b[0m\u001b[0;34m.\u001b[0m\u001b[0mcurrent_player\u001b[0m\u001b[0;34m]\u001b[0m\u001b[0;34m.\u001b[0m\u001b[0mchoose_house\u001b[0m\u001b[0;34m(\u001b[0m\u001b[0mself\u001b[0m\u001b[0;34m.\u001b[0m\u001b[0mstate\u001b[0m\u001b[0;34m)\u001b[0m\u001b[0;34m\u001b[0m\u001b[0;34m\u001b[0m\u001b[0m\n\u001b[0m\u001b[1;32m     15\u001b[0m \u001b[0;34m\u001b[0m\u001b[0m\n\u001b[1;32m     16\u001b[0m         \u001b[0;32mif\u001b[0m \u001b[0mself\u001b[0m\u001b[0;34m.\u001b[0m\u001b[0mdisplay_mode\u001b[0m \u001b[0;34m!=\u001b[0m \u001b[0;36m0\u001b[0m\u001b[0;34m:\u001b[0m\u001b[0;34m\u001b[0m\u001b[0;34m\u001b[0m\u001b[0m\n",
      "\u001b[0;32m<ipython-input-2-5f629e647dad>\u001b[0m in \u001b[0;36mchoose_house\u001b[0;34m(self, current_state)\u001b[0m\n\u001b[1;32m      5\u001b[0m     \u001b[0mbestVal\u001b[0m \u001b[0;34m=\u001b[0m  \u001b[0mpd_evaluate\u001b[0m\u001b[0;34m(\u001b[0m\u001b[0mcurrent_state\u001b[0m\u001b[0;34m,\u001b[0m \u001b[0mself\u001b[0m\u001b[0;34m.\u001b[0m\u001b[0mnumber\u001b[0m\u001b[0;34m,\u001b[0m \u001b[0mself\u001b[0m\u001b[0;34m.\u001b[0m\u001b[0mnumber\u001b[0m\u001b[0;34m,\u001b[0m \u001b[0mself\u001b[0m\u001b[0;34m.\u001b[0m\u001b[0mlimit\u001b[0m\u001b[0;34m,\u001b[0m \u001b[0mmaxValue\u001b[0m\u001b[0;34m,\u001b[0m \u001b[0;34m-\u001b[0m\u001b[0;36m1\u001b[0m\u001b[0;34m,\u001b[0m \u001b[0;36m1\u001b[0m\u001b[0;34m)\u001b[0m\u001b[0;34m\u001b[0m\u001b[0;34m\u001b[0m\u001b[0m\n\u001b[1;32m      6\u001b[0m \u001b[0;34m\u001b[0m\u001b[0m\n\u001b[0;32m----> 7\u001b[0;31m     \u001b[0mBestChoices\u001b[0m \u001b[0;34m=\u001b[0m \u001b[0;34m[\u001b[0m\u001b[0mchoices\u001b[0m\u001b[0;34m[\u001b[0m\u001b[0;36m0\u001b[0m\u001b[0;34m]\u001b[0m \u001b[0;32mfor\u001b[0m \u001b[0mnext_state\u001b[0m\u001b[0;34m,\u001b[0m\u001b[0mchoices\u001b[0m \u001b[0;32min\u001b[0m \u001b[0mNS\u001b[0m \u001b[0;32mif\u001b[0m \u001b[0mpd_evaluate\u001b[0m\u001b[0;34m(\u001b[0m\u001b[0mnext_state\u001b[0m\u001b[0;34m,\u001b[0m \u001b[0mother_player\u001b[0m\u001b[0;34m(\u001b[0m\u001b[0mself\u001b[0m\u001b[0;34m.\u001b[0m\u001b[0mnumber\u001b[0m\u001b[0;34m)\u001b[0m\u001b[0;34m,\u001b[0m \u001b[0mself\u001b[0m\u001b[0;34m.\u001b[0m\u001b[0mnumber\u001b[0m\u001b[0;34m,\u001b[0m \u001b[0mself\u001b[0m\u001b[0;34m.\u001b[0m\u001b[0mlimit\u001b[0m\u001b[0;34m-\u001b[0m\u001b[0;36m1\u001b[0m\u001b[0;34m,\u001b[0m \u001b[0mminValue\u001b[0m\u001b[0;34m,\u001b[0m \u001b[0;34m-\u001b[0m\u001b[0;36m1\u001b[0m\u001b[0;34m,\u001b[0m \u001b[0;36m1\u001b[0m\u001b[0;34m)\u001b[0m \u001b[0;34m==\u001b[0m \u001b[0mbestVal\u001b[0m\u001b[0;34m]\u001b[0m\u001b[0;34m\u001b[0m\u001b[0;34m\u001b[0m\u001b[0m\n\u001b[0m\u001b[1;32m      8\u001b[0m \u001b[0;34m\u001b[0m\u001b[0m\n\u001b[1;32m      9\u001b[0m     \u001b[0;32mif\u001b[0m \u001b[0mlen\u001b[0m\u001b[0;34m(\u001b[0m\u001b[0mBestChoices\u001b[0m\u001b[0;34m)\u001b[0m \u001b[0;34m==\u001b[0m \u001b[0;36m0\u001b[0m\u001b[0;34m:\u001b[0m\u001b[0;34m\u001b[0m\u001b[0;34m\u001b[0m\u001b[0m\n",
      "\u001b[0;32m<ipython-input-2-5f629e647dad>\u001b[0m in \u001b[0;36m<listcomp>\u001b[0;34m(.0)\u001b[0m\n\u001b[1;32m      5\u001b[0m     \u001b[0mbestVal\u001b[0m \u001b[0;34m=\u001b[0m  \u001b[0mpd_evaluate\u001b[0m\u001b[0;34m(\u001b[0m\u001b[0mcurrent_state\u001b[0m\u001b[0;34m,\u001b[0m \u001b[0mself\u001b[0m\u001b[0;34m.\u001b[0m\u001b[0mnumber\u001b[0m\u001b[0;34m,\u001b[0m \u001b[0mself\u001b[0m\u001b[0;34m.\u001b[0m\u001b[0mnumber\u001b[0m\u001b[0;34m,\u001b[0m \u001b[0mself\u001b[0m\u001b[0;34m.\u001b[0m\u001b[0mlimit\u001b[0m\u001b[0;34m,\u001b[0m \u001b[0mmaxValue\u001b[0m\u001b[0;34m,\u001b[0m \u001b[0;34m-\u001b[0m\u001b[0;36m1\u001b[0m\u001b[0;34m,\u001b[0m \u001b[0;36m1\u001b[0m\u001b[0;34m)\u001b[0m\u001b[0;34m\u001b[0m\u001b[0;34m\u001b[0m\u001b[0m\n\u001b[1;32m      6\u001b[0m \u001b[0;34m\u001b[0m\u001b[0m\n\u001b[0;32m----> 7\u001b[0;31m     \u001b[0mBestChoices\u001b[0m \u001b[0;34m=\u001b[0m \u001b[0;34m[\u001b[0m\u001b[0mchoices\u001b[0m\u001b[0;34m[\u001b[0m\u001b[0;36m0\u001b[0m\u001b[0;34m]\u001b[0m \u001b[0;32mfor\u001b[0m \u001b[0mnext_state\u001b[0m\u001b[0;34m,\u001b[0m\u001b[0mchoices\u001b[0m \u001b[0;32min\u001b[0m \u001b[0mNS\u001b[0m \u001b[0;32mif\u001b[0m \u001b[0mpd_evaluate\u001b[0m\u001b[0;34m(\u001b[0m\u001b[0mnext_state\u001b[0m\u001b[0;34m,\u001b[0m \u001b[0mother_player\u001b[0m\u001b[0;34m(\u001b[0m\u001b[0mself\u001b[0m\u001b[0;34m.\u001b[0m\u001b[0mnumber\u001b[0m\u001b[0;34m)\u001b[0m\u001b[0;34m,\u001b[0m \u001b[0mself\u001b[0m\u001b[0;34m.\u001b[0m\u001b[0mnumber\u001b[0m\u001b[0;34m,\u001b[0m \u001b[0mself\u001b[0m\u001b[0;34m.\u001b[0m\u001b[0mlimit\u001b[0m\u001b[0;34m-\u001b[0m\u001b[0;36m1\u001b[0m\u001b[0;34m,\u001b[0m \u001b[0mminValue\u001b[0m\u001b[0;34m,\u001b[0m \u001b[0;34m-\u001b[0m\u001b[0;36m1\u001b[0m\u001b[0;34m,\u001b[0m \u001b[0;36m1\u001b[0m\u001b[0;34m)\u001b[0m \u001b[0;34m==\u001b[0m \u001b[0mbestVal\u001b[0m\u001b[0;34m]\u001b[0m\u001b[0;34m\u001b[0m\u001b[0;34m\u001b[0m\u001b[0m\n\u001b[0m\u001b[1;32m      8\u001b[0m \u001b[0;34m\u001b[0m\u001b[0m\n\u001b[1;32m      9\u001b[0m     \u001b[0;32mif\u001b[0m \u001b[0mlen\u001b[0m\u001b[0;34m(\u001b[0m\u001b[0mBestChoices\u001b[0m\u001b[0;34m)\u001b[0m \u001b[0;34m==\u001b[0m \u001b[0;36m0\u001b[0m\u001b[0;34m:\u001b[0m\u001b[0;34m\u001b[0m\u001b[0;34m\u001b[0m\u001b[0m\n",
      "\u001b[0;32m<ipython-input-2-c79a2818d497>\u001b[0m in \u001b[0;36mpd_evaluate\u001b[0;34m(state, player_num, playing_player, limit, f, alpha, beta)\u001b[0m\n\u001b[1;32m      2\u001b[0m     \u001b[0;32mglobal\u001b[0m \u001b[0mgCache\u001b[0m\u001b[0;34m\u001b[0m\u001b[0;34m\u001b[0m\u001b[0m\n\u001b[1;32m      3\u001b[0m     \u001b[0;32mfor\u001b[0m \u001b[0ml\u001b[0m \u001b[0;32min\u001b[0m \u001b[0mrange\u001b[0m\u001b[0;34m(\u001b[0m\u001b[0mlimit\u001b[0m\u001b[0;34m+\u001b[0m\u001b[0;36m1\u001b[0m\u001b[0;34m)\u001b[0m\u001b[0;34m:\u001b[0m\u001b[0;34m\u001b[0m\u001b[0;34m\u001b[0m\u001b[0m\n\u001b[0;32m----> 4\u001b[0;31m         \u001b[0mvalue\u001b[0m \u001b[0;34m=\u001b[0m \u001b[0mevaluate\u001b[0m\u001b[0;34m(\u001b[0m\u001b[0mstate\u001b[0m\u001b[0;34m,\u001b[0m \u001b[0mplayer_num\u001b[0m\u001b[0;34m,\u001b[0m \u001b[0mplaying_player\u001b[0m\u001b[0;34m,\u001b[0m \u001b[0ml\u001b[0m\u001b[0;34m,\u001b[0m \u001b[0mf\u001b[0m\u001b[0;34m,\u001b[0m \u001b[0malpha\u001b[0m\u001b[0;34m,\u001b[0m \u001b[0mbeta\u001b[0m\u001b[0;34m)\u001b[0m\u001b[0;34m\u001b[0m\u001b[0;34m\u001b[0m\u001b[0m\n\u001b[0m\u001b[1;32m      5\u001b[0m         \u001b[0;32mif\u001b[0m \u001b[0mvalue\u001b[0m \u001b[0;32min\u001b[0m \u001b[0;34m[\u001b[0m\u001b[0;34m-\u001b[0m\u001b[0;36m1\u001b[0m\u001b[0;34m,\u001b[0m \u001b[0;36m1\u001b[0m\u001b[0;34m]\u001b[0m\u001b[0;34m:\u001b[0m\u001b[0;34m\u001b[0m\u001b[0;34m\u001b[0m\u001b[0m\n\u001b[1;32m      6\u001b[0m              \u001b[0;32mreturn\u001b[0m \u001b[0mvalue\u001b[0m\u001b[0;34m\u001b[0m\u001b[0;34m\u001b[0m\u001b[0m\n",
      "\u001b[0;32m<ipython-input-2-8b933d232c63>\u001b[0m in \u001b[0;36mevaluate\u001b[0;34m(state, player_num, playing_player, limit, f, alpha, beta)\u001b[0m\n\u001b[1;32m     12\u001b[0m                 \u001b[0;32mreturn\u001b[0m \u001b[0mv\u001b[0m\u001b[0;34m\u001b[0m\u001b[0;34m\u001b[0m\u001b[0m\n\u001b[1;32m     13\u001b[0m             \u001b[0;32melif\u001b[0m \u001b[0mv\u001b[0m \u001b[0;34m<\u001b[0m \u001b[0mbeta\u001b[0m\u001b[0;34m:\u001b[0m \u001b[0;31m# alpha < v\u001b[0m\u001b[0;34m\u001b[0m\u001b[0;34m\u001b[0m\u001b[0m\n\u001b[0;32m---> 14\u001b[0;31m                 \u001b[0mw\u001b[0m \u001b[0;34m=\u001b[0m \u001b[0mf\u001b[0m\u001b[0;34m(\u001b[0m\u001b[0mstate\u001b[0m\u001b[0;34m,\u001b[0m \u001b[0mplayer_num\u001b[0m\u001b[0;34m,\u001b[0m \u001b[0mplaying_player\u001b[0m\u001b[0;34m,\u001b[0m \u001b[0mlimit\u001b[0m\u001b[0;34m,\u001b[0m \u001b[0malpha\u001b[0m\u001b[0;34m,\u001b[0m \u001b[0mv\u001b[0m\u001b[0;34m)\u001b[0m\u001b[0;34m\u001b[0m\u001b[0;34m\u001b[0m\u001b[0m\n\u001b[0m\u001b[1;32m     15\u001b[0m                 \u001b[0mstore_cache\u001b[0m\u001b[0;34m(\u001b[0m\u001b[0mstate_tuple\u001b[0m\u001b[0;34m,\u001b[0m \u001b[0mplayer_num\u001b[0m\u001b[0;34m,\u001b[0m \u001b[0mplaying_player\u001b[0m\u001b[0;34m,\u001b[0m \u001b[0mlimit\u001b[0m\u001b[0;34m,\u001b[0m \u001b[0malpha\u001b[0m\u001b[0;34m,\u001b[0m \u001b[0mv\u001b[0m\u001b[0;34m,\u001b[0m \u001b[0mw\u001b[0m\u001b[0;34m)\u001b[0m\u001b[0;34m\u001b[0m\u001b[0;34m\u001b[0m\u001b[0m\n\u001b[1;32m     16\u001b[0m                 \u001b[0;32mreturn\u001b[0m \u001b[0mw\u001b[0m\u001b[0;34m\u001b[0m\u001b[0;34m\u001b[0m\u001b[0m\n",
      "\u001b[0;32m<ipython-input-2-af481806bdd8>\u001b[0m in \u001b[0;36mminValue\u001b[0;34m(state, player_num, playing_player, limit, alpha, beta)\u001b[0m\n\u001b[1;32m      9\u001b[0m     \u001b[0;32mwhile\u001b[0m \u001b[0mNS_PrioQueue\u001b[0m \u001b[0;34m!=\u001b[0m \u001b[0;34m[\u001b[0m\u001b[0;34m]\u001b[0m\u001b[0;34m:\u001b[0m\u001b[0;34m\u001b[0m\u001b[0;34m\u001b[0m\u001b[0m\n\u001b[1;32m     10\u001b[0m         \u001b[0m_\u001b[0m\u001b[0;34m,\u001b[0m \u001b[0mns\u001b[0m \u001b[0;34m=\u001b[0m \u001b[0mheapq\u001b[0m\u001b[0;34m.\u001b[0m\u001b[0mheappop\u001b[0m\u001b[0;34m(\u001b[0m\u001b[0mNS_PrioQueue\u001b[0m\u001b[0;34m)\u001b[0m\u001b[0;34m\u001b[0m\u001b[0;34m\u001b[0m\u001b[0m\n\u001b[0;32m---> 11\u001b[0;31m         \u001b[0mv\u001b[0m \u001b[0;34m=\u001b[0m \u001b[0mevaluate\u001b[0m\u001b[0;34m(\u001b[0m\u001b[0mns\u001b[0m\u001b[0;34m,\u001b[0m \u001b[0mother_player\u001b[0m\u001b[0;34m(\u001b[0m\u001b[0mplayer_num\u001b[0m\u001b[0;34m)\u001b[0m\u001b[0;34m,\u001b[0m \u001b[0mplaying_player\u001b[0m\u001b[0;34m,\u001b[0m \u001b[0mlimit\u001b[0m\u001b[0;34m-\u001b[0m\u001b[0;36m1\u001b[0m\u001b[0;34m,\u001b[0m \u001b[0mmaxValue\u001b[0m\u001b[0;34m,\u001b[0m \u001b[0malpha\u001b[0m\u001b[0;34m,\u001b[0m \u001b[0mbeta\u001b[0m\u001b[0;34m)\u001b[0m\u001b[0;34m\u001b[0m\u001b[0;34m\u001b[0m\u001b[0m\n\u001b[0m\u001b[1;32m     12\u001b[0m         \u001b[0;32mif\u001b[0m \u001b[0mv\u001b[0m \u001b[0;34m<=\u001b[0m \u001b[0malpha\u001b[0m\u001b[0;34m:\u001b[0m\u001b[0;34m\u001b[0m\u001b[0;34m\u001b[0m\u001b[0m\n\u001b[1;32m     13\u001b[0m             \u001b[0;32mreturn\u001b[0m \u001b[0mv\u001b[0m\u001b[0;34m\u001b[0m\u001b[0;34m\u001b[0m\u001b[0m\n",
      "\u001b[0;32m<ipython-input-2-8b933d232c63>\u001b[0m in \u001b[0;36mevaluate\u001b[0;34m(state, player_num, playing_player, limit, f, alpha, beta)\u001b[0m\n\u001b[1;32m     16\u001b[0m                 \u001b[0;32mreturn\u001b[0m \u001b[0mw\u001b[0m\u001b[0;34m\u001b[0m\u001b[0;34m\u001b[0m\u001b[0m\n\u001b[1;32m     17\u001b[0m             \u001b[0;32melse\u001b[0m\u001b[0;34m:\u001b[0m \u001b[0;31m# beta <= v\u001b[0m\u001b[0;34m\u001b[0m\u001b[0;34m\u001b[0m\u001b[0m\n\u001b[0;32m---> 18\u001b[0;31m                 \u001b[0mw\u001b[0m \u001b[0;34m=\u001b[0m \u001b[0mf\u001b[0m\u001b[0;34m(\u001b[0m\u001b[0mstate\u001b[0m\u001b[0;34m,\u001b[0m \u001b[0mplayer_num\u001b[0m\u001b[0;34m,\u001b[0m \u001b[0mplaying_player\u001b[0m\u001b[0;34m,\u001b[0m \u001b[0mlimit\u001b[0m\u001b[0;34m,\u001b[0m \u001b[0malpha\u001b[0m\u001b[0;34m,\u001b[0m \u001b[0mbeta\u001b[0m\u001b[0;34m)\u001b[0m\u001b[0;34m\u001b[0m\u001b[0;34m\u001b[0m\u001b[0m\n\u001b[0m\u001b[1;32m     19\u001b[0m                 \u001b[0mstore_cache\u001b[0m\u001b[0;34m(\u001b[0m\u001b[0mstate_tuple\u001b[0m\u001b[0;34m,\u001b[0m \u001b[0mplayer_num\u001b[0m\u001b[0;34m,\u001b[0m \u001b[0mplaying_player\u001b[0m\u001b[0;34m,\u001b[0m \u001b[0mlimit\u001b[0m\u001b[0;34m,\u001b[0m \u001b[0malpha\u001b[0m\u001b[0;34m,\u001b[0m \u001b[0mbeta\u001b[0m\u001b[0;34m,\u001b[0m \u001b[0mw\u001b[0m\u001b[0;34m)\u001b[0m\u001b[0;34m\u001b[0m\u001b[0;34m\u001b[0m\u001b[0m\n\u001b[1;32m     20\u001b[0m                 \u001b[0;32mreturn\u001b[0m \u001b[0mw\u001b[0m\u001b[0;34m\u001b[0m\u001b[0;34m\u001b[0m\u001b[0m\n",
      "\u001b[0;32m<ipython-input-2-aafabe883e91>\u001b[0m in \u001b[0;36mmaxValue\u001b[0;34m(state, player_num, playing_player, limit, alpha, beta)\u001b[0m\n\u001b[1;32m      4\u001b[0m \u001b[0;34m\u001b[0m\u001b[0m\n\u001b[1;32m      5\u001b[0m     \u001b[0mNS_PrioQueue\u001b[0m \u001b[0;34m=\u001b[0m \u001b[0;34m[\u001b[0m\u001b[0;34m]\u001b[0m\u001b[0;34m\u001b[0m\u001b[0;34m\u001b[0m\u001b[0m\n\u001b[0;32m----> 6\u001b[0;31m     \u001b[0;32mfor\u001b[0m \u001b[0mns\u001b[0m\u001b[0;34m,\u001b[0m\u001b[0m_\u001b[0m \u001b[0;32min\u001b[0m \u001b[0mnext_states\u001b[0m\u001b[0;34m(\u001b[0m\u001b[0mstate\u001b[0m\u001b[0;34m,\u001b[0m \u001b[0mplayer_num\u001b[0m\u001b[0;34m)\u001b[0m\u001b[0;34m:\u001b[0m\u001b[0;34m\u001b[0m\u001b[0;34m\u001b[0m\u001b[0m\n\u001b[0m\u001b[1;32m      7\u001b[0m         heapq.heappush(NS_PrioQueue, (-\n\u001b[1;32m      8\u001b[0m         gCache.get((to_tuple(ns),other_player(player_num),playing_player,limit-2),('=',0))[1], ns))\n",
      "\u001b[0;32m<ipython-input-2-a02a4fe3d172>\u001b[0m in \u001b[0;36mnext_states\u001b[0;34m(state, player_num)\u001b[0m\n\u001b[1;32m     10\u001b[0m         \u001b[0;31m# If so, next_states is called recursively until the player has no other turn\u001b[0m\u001b[0;34m\u001b[0m\u001b[0;34m\u001b[0m\u001b[0;34m\u001b[0m\u001b[0m\n\u001b[1;32m     11\u001b[0m         \u001b[0;32mif\u001b[0m \u001b[0manother_turn\u001b[0m\u001b[0;34m:\u001b[0m\u001b[0;34m\u001b[0m\u001b[0;34m\u001b[0m\u001b[0m\n\u001b[0;32m---> 12\u001b[0;31m             \u001b[0;32mfor\u001b[0m \u001b[0ms\u001b[0m\u001b[0;34m,\u001b[0m\u001b[0mchoices\u001b[0m \u001b[0;32min\u001b[0m \u001b[0mnext_states\u001b[0m\u001b[0;34m(\u001b[0m\u001b[0mnext_state\u001b[0m\u001b[0;34m,\u001b[0m \u001b[0mplayer_num\u001b[0m\u001b[0;34m)\u001b[0m\u001b[0;34m:\u001b[0m\u001b[0;34m\u001b[0m\u001b[0;34m\u001b[0m\u001b[0m\n\u001b[0m\u001b[1;32m     13\u001b[0m                 \u001b[0mstates\u001b[0m\u001b[0;34m.\u001b[0m\u001b[0mappend\u001b[0m\u001b[0;34m(\u001b[0m\u001b[0;34m(\u001b[0m\u001b[0ms\u001b[0m\u001b[0;34m,\u001b[0m\u001b[0;34m[\u001b[0m\u001b[0mchoice\u001b[0m\u001b[0;34m]\u001b[0m \u001b[0;34m+\u001b[0m \u001b[0mchoices\u001b[0m\u001b[0;34m)\u001b[0m\u001b[0;34m)\u001b[0m\u001b[0;34m\u001b[0m\u001b[0;34m\u001b[0m\u001b[0m\n\u001b[1;32m     14\u001b[0m         \u001b[0;32melse\u001b[0m\u001b[0;34m:\u001b[0m\u001b[0;34m\u001b[0m\u001b[0;34m\u001b[0m\u001b[0m\n",
      "\u001b[0;32m<ipython-input-2-a02a4fe3d172>\u001b[0m in \u001b[0;36mnext_states\u001b[0;34m(state, player_num)\u001b[0m\n\u001b[1;32m     10\u001b[0m         \u001b[0;31m# If so, next_states is called recursively until the player has no other turn\u001b[0m\u001b[0;34m\u001b[0m\u001b[0;34m\u001b[0m\u001b[0;34m\u001b[0m\u001b[0m\n\u001b[1;32m     11\u001b[0m         \u001b[0;32mif\u001b[0m \u001b[0manother_turn\u001b[0m\u001b[0;34m:\u001b[0m\u001b[0;34m\u001b[0m\u001b[0;34m\u001b[0m\u001b[0m\n\u001b[0;32m---> 12\u001b[0;31m             \u001b[0;32mfor\u001b[0m \u001b[0ms\u001b[0m\u001b[0;34m,\u001b[0m\u001b[0mchoices\u001b[0m \u001b[0;32min\u001b[0m \u001b[0mnext_states\u001b[0m\u001b[0;34m(\u001b[0m\u001b[0mnext_state\u001b[0m\u001b[0;34m,\u001b[0m \u001b[0mplayer_num\u001b[0m\u001b[0;34m)\u001b[0m\u001b[0;34m:\u001b[0m\u001b[0;34m\u001b[0m\u001b[0;34m\u001b[0m\u001b[0m\n\u001b[0m\u001b[1;32m     13\u001b[0m                 \u001b[0mstates\u001b[0m\u001b[0;34m.\u001b[0m\u001b[0mappend\u001b[0m\u001b[0;34m(\u001b[0m\u001b[0;34m(\u001b[0m\u001b[0ms\u001b[0m\u001b[0;34m,\u001b[0m\u001b[0;34m[\u001b[0m\u001b[0mchoice\u001b[0m\u001b[0;34m]\u001b[0m \u001b[0;34m+\u001b[0m \u001b[0mchoices\u001b[0m\u001b[0;34m)\u001b[0m\u001b[0;34m)\u001b[0m\u001b[0;34m\u001b[0m\u001b[0;34m\u001b[0m\u001b[0m\n\u001b[1;32m     14\u001b[0m         \u001b[0;32melse\u001b[0m\u001b[0;34m:\u001b[0m\u001b[0;34m\u001b[0m\u001b[0;34m\u001b[0m\u001b[0m\n",
      "\u001b[0;32m<ipython-input-2-a02a4fe3d172>\u001b[0m in \u001b[0;36mnext_states\u001b[0;34m(state, player_num)\u001b[0m\n\u001b[1;32m      5\u001b[0m         \u001b[0;32mif\u001b[0m \u001b[0mstate\u001b[0m\u001b[0;34m[\u001b[0m\u001b[0mplayer_num\u001b[0m\u001b[0;34m]\u001b[0m\u001b[0;34m[\u001b[0m\u001b[0mchoice\u001b[0m\u001b[0;34m]\u001b[0m \u001b[0;34m==\u001b[0m \u001b[0;36m0\u001b[0m\u001b[0;34m:\u001b[0m\u001b[0;34m\u001b[0m\u001b[0;34m\u001b[0m\u001b[0m\n\u001b[1;32m      6\u001b[0m             \u001b[0;32mcontinue\u001b[0m\u001b[0;34m\u001b[0m\u001b[0;34m\u001b[0m\u001b[0m\n\u001b[0;32m----> 7\u001b[0;31m         \u001b[0mnext_state\u001b[0m\u001b[0;34m,\u001b[0m \u001b[0manother_turn\u001b[0m \u001b[0;34m=\u001b[0m \u001b[0mmove\u001b[0m\u001b[0;34m(\u001b[0m\u001b[0mstate\u001b[0m\u001b[0;34m,\u001b[0m \u001b[0mplayer_num\u001b[0m\u001b[0;34m,\u001b[0m \u001b[0mchoice\u001b[0m\u001b[0;34m)\u001b[0m\u001b[0;34m\u001b[0m\u001b[0;34m\u001b[0m\u001b[0m\n\u001b[0m\u001b[1;32m      8\u001b[0m \u001b[0;34m\u001b[0m\u001b[0m\n\u001b[1;32m      9\u001b[0m         \u001b[0;31m# Check if player has another turn\u001b[0m\u001b[0;34m\u001b[0m\u001b[0;34m\u001b[0m\u001b[0;34m\u001b[0m\u001b[0m\n",
      "\u001b[0;32m<ipython-input-2-d5b348c67b7b>\u001b[0m in \u001b[0;36mmove\u001b[0;34m(state, player_num, choice)\u001b[0m\n\u001b[1;32m      7\u001b[0m     \u001b[0;31m# Place all seeds and check for special rules\u001b[0m\u001b[0;34m\u001b[0m\u001b[0;34m\u001b[0m\u001b[0;34m\u001b[0m\u001b[0m\n\u001b[1;32m      8\u001b[0m     \u001b[0mnew_state\u001b[0m\u001b[0;34m,\u001b[0m \u001b[0mlast_player_num\u001b[0m\u001b[0;34m,\u001b[0m \u001b[0mlast_house_num\u001b[0m \u001b[0;34m=\u001b[0m \u001b[0mplace_seeds\u001b[0m\u001b[0;34m(\u001b[0m\u001b[0mnew_state\u001b[0m\u001b[0;34m,\u001b[0m \u001b[0mseeds\u001b[0m\u001b[0;34m,\u001b[0m \u001b[0mplayer_num\u001b[0m\u001b[0;34m,\u001b[0m \u001b[0mchoice\u001b[0m\u001b[0;34m)\u001b[0m\u001b[0;34m\u001b[0m\u001b[0;34m\u001b[0m\u001b[0m\n\u001b[0;32m----> 9\u001b[0;31m     \u001b[0mnew_state\u001b[0m \u001b[0;34m=\u001b[0m \u001b[0msteal_if_possible\u001b[0m\u001b[0;34m(\u001b[0m\u001b[0mnew_state\u001b[0m\u001b[0;34m,\u001b[0m \u001b[0mplayer_num\u001b[0m\u001b[0;34m,\u001b[0m \u001b[0mlast_player_num\u001b[0m\u001b[0;34m,\u001b[0m \u001b[0mlast_house_num\u001b[0m\u001b[0;34m)\u001b[0m\u001b[0;34m\u001b[0m\u001b[0;34m\u001b[0m\u001b[0m\n\u001b[0m\u001b[1;32m     10\u001b[0m     \u001b[0manother_turn\u001b[0m \u001b[0;34m=\u001b[0m \u001b[0mcheck_another_turn\u001b[0m\u001b[0;34m(\u001b[0m\u001b[0mnew_state\u001b[0m\u001b[0;34m,\u001b[0m \u001b[0mplayer_num\u001b[0m\u001b[0;34m,\u001b[0m \u001b[0mlast_player_num\u001b[0m\u001b[0;34m,\u001b[0m \u001b[0mlast_house_num\u001b[0m\u001b[0;34m)\u001b[0m\u001b[0;34m\u001b[0m\u001b[0;34m\u001b[0m\u001b[0m\n\u001b[1;32m     11\u001b[0m     \u001b[0;32mreturn\u001b[0m \u001b[0mnew_state\u001b[0m\u001b[0;34m,\u001b[0m \u001b[0manother_turn\u001b[0m\u001b[0;34m\u001b[0m\u001b[0;34m\u001b[0m\u001b[0m\n",
      "\u001b[0;32m<ipython-input-2-b9b5dceb0ca3>\u001b[0m in \u001b[0;36msteal_if_possible\u001b[0;34m(state, player_num, last_player_num, last_house_num)\u001b[0m\n\u001b[1;32m      1\u001b[0m \u001b[0;32mdef\u001b[0m \u001b[0msteal_if_possible\u001b[0m\u001b[0;34m(\u001b[0m\u001b[0mstate\u001b[0m\u001b[0;34m,\u001b[0m \u001b[0mplayer_num\u001b[0m\u001b[0;34m,\u001b[0m \u001b[0mlast_player_num\u001b[0m\u001b[0;34m,\u001b[0m \u001b[0mlast_house_num\u001b[0m\u001b[0;34m)\u001b[0m\u001b[0;34m:\u001b[0m\u001b[0;34m\u001b[0m\u001b[0;34m\u001b[0m\u001b[0m\n\u001b[0;32m----> 2\u001b[0;31m     \u001b[0mstate\u001b[0m \u001b[0;34m=\u001b[0m \u001b[0mcopy\u001b[0m\u001b[0;34m.\u001b[0m\u001b[0mdeepcopy\u001b[0m\u001b[0;34m(\u001b[0m\u001b[0mstate\u001b[0m\u001b[0;34m)\u001b[0m\u001b[0;34m\u001b[0m\u001b[0;34m\u001b[0m\u001b[0m\n\u001b[0m\u001b[1;32m      3\u001b[0m     \u001b[0;32mif\u001b[0m \u001b[0mlast_house_num\u001b[0m \u001b[0;34m==\u001b[0m \u001b[0;36m6\u001b[0m \u001b[0;32mor\u001b[0m \u001b[0mplayer_num\u001b[0m \u001b[0;34m!=\u001b[0m \u001b[0mlast_player_num\u001b[0m\u001b[0;34m:\u001b[0m\u001b[0;34m\u001b[0m\u001b[0;34m\u001b[0m\u001b[0m\n\u001b[1;32m      4\u001b[0m         \u001b[0;32mreturn\u001b[0m \u001b[0mstate\u001b[0m\u001b[0;34m\u001b[0m\u001b[0;34m\u001b[0m\u001b[0m\n\u001b[1;32m      5\u001b[0m     \u001b[0mlast_house_seeds\u001b[0m \u001b[0;34m=\u001b[0m \u001b[0mstate\u001b[0m\u001b[0;34m[\u001b[0m\u001b[0mplayer_num\u001b[0m\u001b[0;34m]\u001b[0m\u001b[0;34m[\u001b[0m\u001b[0mlast_house_num\u001b[0m\u001b[0;34m]\u001b[0m\u001b[0;34m\u001b[0m\u001b[0;34m\u001b[0m\u001b[0m\n",
      "\u001b[0;32m/usr/local/lib/python3.7/copy.py\u001b[0m in \u001b[0;36mdeepcopy\u001b[0;34m(x, memo, _nil)\u001b[0m\n\u001b[1;32m    148\u001b[0m     \u001b[0mcopier\u001b[0m \u001b[0;34m=\u001b[0m \u001b[0m_deepcopy_dispatch\u001b[0m\u001b[0;34m.\u001b[0m\u001b[0mget\u001b[0m\u001b[0;34m(\u001b[0m\u001b[0mcls\u001b[0m\u001b[0;34m)\u001b[0m\u001b[0;34m\u001b[0m\u001b[0;34m\u001b[0m\u001b[0m\n\u001b[1;32m    149\u001b[0m     \u001b[0;32mif\u001b[0m \u001b[0mcopier\u001b[0m\u001b[0;34m:\u001b[0m\u001b[0;34m\u001b[0m\u001b[0;34m\u001b[0m\u001b[0m\n\u001b[0;32m--> 150\u001b[0;31m         \u001b[0my\u001b[0m \u001b[0;34m=\u001b[0m \u001b[0mcopier\u001b[0m\u001b[0;34m(\u001b[0m\u001b[0mx\u001b[0m\u001b[0;34m,\u001b[0m \u001b[0mmemo\u001b[0m\u001b[0;34m)\u001b[0m\u001b[0;34m\u001b[0m\u001b[0;34m\u001b[0m\u001b[0m\n\u001b[0m\u001b[1;32m    151\u001b[0m     \u001b[0;32melse\u001b[0m\u001b[0;34m:\u001b[0m\u001b[0;34m\u001b[0m\u001b[0;34m\u001b[0m\u001b[0m\n\u001b[1;32m    152\u001b[0m         \u001b[0;32mtry\u001b[0m\u001b[0;34m:\u001b[0m\u001b[0;34m\u001b[0m\u001b[0;34m\u001b[0m\u001b[0m\n",
      "\u001b[0;32m/usr/local/lib/python3.7/copy.py\u001b[0m in \u001b[0;36m_deepcopy_list\u001b[0;34m(x, memo, deepcopy)\u001b[0m\n\u001b[1;32m    214\u001b[0m     \u001b[0mappend\u001b[0m \u001b[0;34m=\u001b[0m \u001b[0my\u001b[0m\u001b[0;34m.\u001b[0m\u001b[0mappend\u001b[0m\u001b[0;34m\u001b[0m\u001b[0;34m\u001b[0m\u001b[0m\n\u001b[1;32m    215\u001b[0m     \u001b[0;32mfor\u001b[0m \u001b[0ma\u001b[0m \u001b[0;32min\u001b[0m \u001b[0mx\u001b[0m\u001b[0;34m:\u001b[0m\u001b[0;34m\u001b[0m\u001b[0;34m\u001b[0m\u001b[0m\n\u001b[0;32m--> 216\u001b[0;31m         \u001b[0mappend\u001b[0m\u001b[0;34m(\u001b[0m\u001b[0mdeepcopy\u001b[0m\u001b[0;34m(\u001b[0m\u001b[0ma\u001b[0m\u001b[0;34m,\u001b[0m \u001b[0mmemo\u001b[0m\u001b[0;34m)\u001b[0m\u001b[0;34m)\u001b[0m\u001b[0;34m\u001b[0m\u001b[0;34m\u001b[0m\u001b[0m\n\u001b[0m\u001b[1;32m    217\u001b[0m     \u001b[0;32mreturn\u001b[0m \u001b[0my\u001b[0m\u001b[0;34m\u001b[0m\u001b[0;34m\u001b[0m\u001b[0m\n\u001b[1;32m    218\u001b[0m \u001b[0md\u001b[0m\u001b[0;34m[\u001b[0m\u001b[0mlist\u001b[0m\u001b[0;34m]\u001b[0m \u001b[0;34m=\u001b[0m \u001b[0m_deepcopy_list\u001b[0m\u001b[0;34m\u001b[0m\u001b[0;34m\u001b[0m\u001b[0m\n",
      "\u001b[0;32m/usr/local/lib/python3.7/copy.py\u001b[0m in \u001b[0;36mdeepcopy\u001b[0;34m(x, memo, _nil)\u001b[0m\n\u001b[1;32m    148\u001b[0m     \u001b[0mcopier\u001b[0m \u001b[0;34m=\u001b[0m \u001b[0m_deepcopy_dispatch\u001b[0m\u001b[0;34m.\u001b[0m\u001b[0mget\u001b[0m\u001b[0;34m(\u001b[0m\u001b[0mcls\u001b[0m\u001b[0;34m)\u001b[0m\u001b[0;34m\u001b[0m\u001b[0;34m\u001b[0m\u001b[0m\n\u001b[1;32m    149\u001b[0m     \u001b[0;32mif\u001b[0m \u001b[0mcopier\u001b[0m\u001b[0;34m:\u001b[0m\u001b[0;34m\u001b[0m\u001b[0;34m\u001b[0m\u001b[0m\n\u001b[0;32m--> 150\u001b[0;31m         \u001b[0my\u001b[0m \u001b[0;34m=\u001b[0m \u001b[0mcopier\u001b[0m\u001b[0;34m(\u001b[0m\u001b[0mx\u001b[0m\u001b[0;34m,\u001b[0m \u001b[0mmemo\u001b[0m\u001b[0;34m)\u001b[0m\u001b[0;34m\u001b[0m\u001b[0;34m\u001b[0m\u001b[0m\n\u001b[0m\u001b[1;32m    151\u001b[0m     \u001b[0;32melse\u001b[0m\u001b[0;34m:\u001b[0m\u001b[0;34m\u001b[0m\u001b[0;34m\u001b[0m\u001b[0m\n\u001b[1;32m    152\u001b[0m         \u001b[0;32mtry\u001b[0m\u001b[0;34m:\u001b[0m\u001b[0;34m\u001b[0m\u001b[0;34m\u001b[0m\u001b[0m\n",
      "\u001b[0;32m/usr/local/lib/python3.7/copy.py\u001b[0m in \u001b[0;36m_deepcopy_list\u001b[0;34m(x, memo, deepcopy)\u001b[0m\n\u001b[1;32m    211\u001b[0m \u001b[0;32mdef\u001b[0m \u001b[0m_deepcopy_list\u001b[0m\u001b[0;34m(\u001b[0m\u001b[0mx\u001b[0m\u001b[0;34m,\u001b[0m \u001b[0mmemo\u001b[0m\u001b[0;34m,\u001b[0m \u001b[0mdeepcopy\u001b[0m\u001b[0;34m=\u001b[0m\u001b[0mdeepcopy\u001b[0m\u001b[0;34m)\u001b[0m\u001b[0;34m:\u001b[0m\u001b[0;34m\u001b[0m\u001b[0;34m\u001b[0m\u001b[0m\n\u001b[1;32m    212\u001b[0m     \u001b[0my\u001b[0m \u001b[0;34m=\u001b[0m \u001b[0;34m[\u001b[0m\u001b[0;34m]\u001b[0m\u001b[0;34m\u001b[0m\u001b[0;34m\u001b[0m\u001b[0m\n\u001b[0;32m--> 213\u001b[0;31m     \u001b[0mmemo\u001b[0m\u001b[0;34m[\u001b[0m\u001b[0mid\u001b[0m\u001b[0;34m(\u001b[0m\u001b[0mx\u001b[0m\u001b[0;34m)\u001b[0m\u001b[0;34m]\u001b[0m \u001b[0;34m=\u001b[0m \u001b[0my\u001b[0m\u001b[0;34m\u001b[0m\u001b[0;34m\u001b[0m\u001b[0m\n\u001b[0m\u001b[1;32m    214\u001b[0m     \u001b[0mappend\u001b[0m \u001b[0;34m=\u001b[0m \u001b[0my\u001b[0m\u001b[0;34m.\u001b[0m\u001b[0mappend\u001b[0m\u001b[0;34m\u001b[0m\u001b[0;34m\u001b[0m\u001b[0m\n\u001b[1;32m    215\u001b[0m     \u001b[0;32mfor\u001b[0m \u001b[0ma\u001b[0m \u001b[0;32min\u001b[0m \u001b[0mx\u001b[0m\u001b[0;34m:\u001b[0m\u001b[0;34m\u001b[0m\u001b[0;34m\u001b[0m\u001b[0m\n",
      "\u001b[0;31mKeyboardInterrupt\u001b[0m: "
     ]
    }
   ]
  },
  {
   "cell_type": "markdown",
   "source": "All games ended with the same finished state. That means that the AI's made the same decisions during the game. ",
   "metadata": {
    "cell_id": "2890634342dc471a82afef46086fdcbf",
    "tags": [],
    "deepnote_cell_type": "markdown",
    "deepnote_cell_height": 52.390625
   }
  },
  {
   "cell_type": "markdown",
   "source": "### Conclusion",
   "metadata": {
    "cell_id": "4daaf83b3b9247d080362f4edc9f456b",
    "tags": [],
    "deepnote_cell_type": "markdown",
    "deepnote_cell_height": 62
   }
  },
  {
   "cell_type": "markdown",
   "source": "The tests show that all three AI's make the same decision when the identical state is given. That is the result that was expected. All AI's make equal decisions but the difference lies in the efficiency which is determined by node inspections and computing time. These differences are looked at in the last section. ",
   "metadata": {
    "cell_id": "5974c41ac5824c8cbbb22a295f7f6fab",
    "tags": [],
    "deepnote_cell_type": "markdown",
    "deepnote_cell_height": 74.78125
   }
  },
  {
   "cell_type": "markdown",
   "source": "## 2. Comparing AI's with different limits",
   "metadata": {
    "cell_id": "28b9d3e8afcc446e89f58aaaf21c6abb",
    "tags": [],
    "deepnote_cell_type": "markdown",
    "deepnote_cell_height": 70
   }
  },
  {
   "cell_type": "markdown",
   "source": "This section studies games between AlphaBeta AI's with different limits and different seeds. The results would be the same for each AI as shown in the previous tests, so it is enough to test one AI only. At first, functions are defined to let two AI's compete for 50 games. ",
   "metadata": {
    "cell_id": "a4ad7f2a4be64163bd98c63b8b05222c",
    "tags": [],
    "deepnote_cell_type": "markdown",
    "deepnote_cell_height": 74.78125
   }
  },
  {
   "cell_type": "markdown",
   "source": "### Function: compare_AIs\nThe function *compare_AIs* takes two AI's and a seed as arguments. Then 50 games are played where each player is beginning 25 times. At the end the result is printed out that shows how many times each AI has won. ",
   "metadata": {
    "cell_id": "59e8409b0aed48bcbeba796842e0ea89",
    "tags": [],
    "deepnote_cell_type": "markdown",
    "deepnote_cell_height": 122.78125
   }
  },
  {
   "cell_type": "code",
   "metadata": {
    "cell_id": "a51fe41e92774695a89e9dca3161c0f2",
    "tags": [],
    "deepnote_to_be_reexecuted": false,
    "source_hash": "6a39ae3a",
    "execution_start": 1654345970758,
    "execution_millis": 2,
    "deepnote_cell_type": "code",
    "deepnote_cell_height": 639
   },
   "source": "def compare_AIs(AI_1, AI_2, seed=0):   \n    rn.seed(seed)\n\n    ai1 = 0\n    ai2 = 0\n\n    for _ in range(25):\n        game1 = Kalah_Game([AI_1, AI_2],0)\n        game1.start()\n        won1 = utility(game1.state, 0)\n        \n        if won1 == 1:\n            ai1 += 1\n        elif won1 == -1:\n            ai2 += 1\n        else:\n            pass\n            \n        ############################\n        \n        game2 = Kalah_Game([AI_2, AI_1],0)\n        game2.start()\n        won2 = utility(game2.state, 0)\n\n        if won2 == 1:\n            ai2 += 1\n        elif won2 == -1:\n            ai1 += 1\n        else:\n            pass\n\n    print(str(AI_1.name) + f\" won {ai1} times, \" + str(AI_2) + f\" won {ai2} times and {50-ai1-ai2} games ended as draws.\")",
   "execution_count": null,
   "outputs": []
  },
  {
   "cell_type": "markdown",
   "source": "### AI's competing",
   "metadata": {
    "cell_id": "68f0edd4bd7b4059b8530326e52c04c0",
    "tags": [],
    "deepnote_cell_type": "markdown",
    "deepnote_cell_height": 62
   }
  },
  {
   "cell_type": "markdown",
   "source": "In the following tests two AlphaBeta AI's with different limits and different seeds are competing.",
   "metadata": {
    "cell_id": "1a3a8dd874334ec3a5fbf85ef9539086",
    "tags": [],
    "deepnote_cell_type": "markdown",
    "deepnote_cell_height": 52.390625
   }
  },
  {
   "cell_type": "code",
   "metadata": {
    "cell_id": "a394faa3f5014db59b88213ff0593a70",
    "tags": [],
    "deepnote_to_be_reexecuted": false,
    "source_hash": "6041e2d8",
    "execution_start": 1654346117315,
    "execution_millis": 21921,
    "deepnote_cell_type": "code",
    "deepnote_cell_height": 190.75
   },
   "source": "for i in range(4):\n    compare_AIs(AlphaBeta(\"AlphaBeta_4\", 4), AlphaBeta(\"AlphaBeta_3\", 3),i)",
   "execution_count": null,
   "outputs": [
    {
     "name": "stdout",
     "text": "AlphaBeta_4 won 25 times, AlphaBeta_3 won 25 times and 0 games ended as draws.\nAlphaBeta_4 won 25 times, AlphaBeta_3 won 25 times and 0 games ended as draws.\nAlphaBeta_4 won 25 times, AlphaBeta_3 won 25 times and 0 games ended as draws.\nAlphaBeta_4 won 25 times, AlphaBeta_3 won 25 times and 0 games ended as draws.\n",
     "output_type": "stream"
    }
   ]
  },
  {
   "cell_type": "code",
   "metadata": {
    "cell_id": "8090557975144031a8a1497bfc326e75",
    "tags": [],
    "deepnote_to_be_reexecuted": false,
    "source_hash": "6a52fd4f",
    "execution_start": 1654346141605,
    "execution_millis": 20215,
    "deepnote_cell_type": "code",
    "deepnote_cell_height": 190.75
   },
   "source": "for i in range(4):\n    compare_AIs(AlphaBeta(\"AlphaBeta_4\", 4), AlphaBeta(\"AlphaBeta_2\", 2),i)",
   "execution_count": null,
   "outputs": [
    {
     "name": "stdout",
     "text": "AlphaBeta_4 won 37 times, AlphaBeta_2 won 13 times and 0 games ended as draws.\nAlphaBeta_4 won 42 times, AlphaBeta_2 won 8 times and 0 games ended as draws.\nAlphaBeta_4 won 34 times, AlphaBeta_2 won 15 times and 1 games ended as draws.\nAlphaBeta_4 won 32 times, AlphaBeta_2 won 17 times and 1 games ended as draws.\n",
     "output_type": "stream"
    }
   ]
  },
  {
   "cell_type": "code",
   "metadata": {
    "cell_id": "f8626f2ef9fe495ab044b2776b90e550",
    "tags": [],
    "deepnote_to_be_reexecuted": false,
    "source_hash": "fdb29de5",
    "execution_start": 1654346164550,
    "execution_millis": 75602,
    "deepnote_cell_type": "code",
    "deepnote_cell_height": 190.75
   },
   "source": "for i in range(4):\n    compare_AIs(AlphaBeta(\"AlphaBeta_5\", 5), AlphaBeta(\"AlphaBeta_4\", 4),i)",
   "execution_count": null,
   "outputs": [
    {
     "name": "stdout",
     "text": "AlphaBeta_5 won 33 times, AlphaBeta_4 won 8 times and 9 games ended as draws.\nAlphaBeta_5 won 36 times, AlphaBeta_4 won 7 times and 7 games ended as draws.\nAlphaBeta_5 won 31 times, AlphaBeta_4 won 11 times and 8 games ended as draws.\nAlphaBeta_5 won 31 times, AlphaBeta_4 won 12 times and 7 games ended as draws.\n",
     "output_type": "stream"
    }
   ]
  },
  {
   "cell_type": "code",
   "metadata": {
    "cell_id": "2bbd9ddb5f3e4384a9d8274cf5be1613",
    "tags": [],
    "deepnote_to_be_reexecuted": true,
    "source_hash": "39708305",
    "execution_start": 1654336616081,
    "execution_millis": 268876,
    "deepnote_cell_type": "code",
    "deepnote_cell_height": 190.75
   },
   "source": "for i in range(4):\n    compare_AIs(AlphaBeta(\"AlphaBeta_5\", 5), AlphaBeta(\"AlphaBeta_3\", 3),i)",
   "execution_count": null,
   "outputs": [
    {
     "name": "stdout",
     "text": "AlphaBeta_5 won 39 times, AlphaBeta_3 won 6 times and 5 games ended as draws.\nAlphaBeta_5 won 34 times, AlphaBeta_3 won 13 times and 3 games ended as draws.\nAlphaBeta_5 won 36 times, AlphaBeta_3 won 11 times and 3 games ended as draws.\nAlphaBeta_5 won 41 times, AlphaBeta_3 won 6 times and 3 games ended as draws.\n",
     "output_type": "stream"
    }
   ]
  },
  {
   "cell_type": "markdown",
   "source": "In the first test the result is very balanced. The second test with a limit difference of two shows that the AI with the higher limit wins more often. In the last tests with an odd number as higher limit the AI with the higher limit wins more often. That shows that an AI with a limit difference of two or more wins significantly more often. With a limit difference of one the AI with a higher limit wins more often when the higher limit is an odd number. The reason for that outcome will be discussed in the conclusion. ",
   "metadata": {
    "cell_id": "96fb6ecd0b284c27824bc5d4b51829d1",
    "tags": [],
    "deepnote_cell_type": "markdown",
    "deepnote_cell_height": 119.5625
   }
  },
  {
   "cell_type": "markdown",
   "source": "### Conclusion",
   "metadata": {
    "cell_id": "7f3f4535f32c427eb554345868f5a68d",
    "tags": [],
    "deepnote_cell_type": "markdown",
    "deepnote_cell_height": 62
   }
  },
  {
   "cell_type": "markdown",
   "source": "The tests show the following outcome when two AI's compete with different limits:\n- An AI with the higher limit wins more often when the limit is higher by a minimum of two.\n- The games between two AI's with a limit difference of one are very balanced when the higher limit is an even number. \n- An AI with a higher limit by one wins more often when the limit is an odd number. \n\nWith a limit difference of one the question if the higer limit is an even or an odd number has a big influence. The reason for that is that with a recursion depth that is set to an even number the last state that is considered is a state where the currently choosing player has a turn. Then the decisions can be slightly worse than the decisions with a limit that checks a final state where the opponent has a turn. That would be the cause for odd limits. A fair assumption as to why this occurs is that a limit with an even number only looks at the maximizing player for that last state and does not consider what kind of opportunities this gives the opponent. Odd limits always consider the opponent in their last checked state which causes a better choice in general. ",
   "metadata": {
    "cell_id": "1f2af0d17a52427da64f209f9a5ffd78",
    "tags": [],
    "deepnote_cell_type": "markdown",
    "deepnote_cell_height": 265.515625
   }
  },
  {
   "cell_type": "markdown",
   "source": "## 3. Time and Node Inspections comparison: AlphaBeta, Scout",
   "metadata": {
    "cell_id": "064325ed9f5c494e9126e3fef6c66443",
    "tags": [],
    "deepnote_cell_type": "markdown",
    "deepnote_cell_height": 70
   }
  },
  {
   "cell_type": "markdown",
   "source": "In this section we are comparing the efficencies of the two AI's AlphaBeta and Scout:\n\n- computation time for AlphaBeta AI and Scout AI\n- node inspections for AlphaBeta AI and Scout AI",
   "metadata": {
    "cell_id": "7adcf4a9b6c8498d86734131795ff7d5",
    "tags": [],
    "deepnote_cell_type": "markdown",
    "deepnote_cell_height": 128.171875
   }
  },
  {
   "cell_type": "markdown",
   "source": "All of the implemented AI's use memoization. Memoization is a technique to speed up function calls of a certain complex function, by storing past inputs and corresponding outputs in a dictionary. If an input to the function was once received before, the execution of the actual function can be skipped and instead the output stored in the dictionary will be returned. This is mainly useful for functions that take longer to compute than it takes to access a value in a dictionary.",
   "metadata": {
    "cell_id": "a42f18e205654f43a5b9ab56c2efcfa2",
    "tags": [],
    "owner_user_id": "f69dee13-5c5e-4b97-89fa-71f96690ed33",
    "deepnote_cell_type": "markdown",
    "deepnote_cell_height": 203.171875
   }
  },
  {
   "cell_type": "markdown",
   "source": "The function *empty_caches()* empties all existing caches from the Core notebook. The cache should be emptied for each game so that each game has to fill the cache again.",
   "metadata": {
    "cell_id": "d834d9d509874ca6b8157df44205511c",
    "tags": [],
    "deepnote_cell_type": "markdown",
    "deepnote_cell_height": 74.78125
   }
  },
  {
   "cell_type": "code",
   "metadata": {
    "cell_id": "058493cd929747cdaaeee0506da8612a",
    "tags": [],
    "deepnote_to_be_reexecuted": false,
    "source_hash": "e67c7267",
    "execution_start": 1654441032875,
    "execution_millis": 0,
    "deepnote_cell_type": "code",
    "deepnote_cell_height": 225
   },
   "source": "def empty_caches():\n    global Cache\n    Cache = {}\n    global gCache\n    gCache = {}\n    global Cache_test\n    Cache_test = {}\n    global Cache_eval\n    Cache_eval = {}",
   "execution_count": null,
   "outputs": []
  },
  {
   "cell_type": "markdown",
   "source": "The function *test_with_limit* receives a Player class and a limit and then plays five games with two players of this Player class which each are given the provided limit. By playing five games with different seeds, variations due to random choices of the AIs are evened.",
   "metadata": {
    "cell_id": "ae4b6cad5a8446e0990bdaf6f5f45c79",
    "tags": [],
    "deepnote_cell_type": "markdown",
    "deepnote_cell_height": 74.78125
   }
  },
  {
   "cell_type": "code",
   "metadata": {
    "cell_id": "249b84f1eaad4b2f98ab9f9b9b13ff83",
    "tags": [],
    "deepnote_to_be_reexecuted": false,
    "source_hash": "631936de",
    "execution_start": 1654441033561,
    "execution_millis": 1770,
    "deepnote_cell_type": "code",
    "deepnote_cell_height": 333
   },
   "source": "from datetime import datetime\nimport numpy as np\nimport pandas as pd\nimport matplotlib.pyplot as plt\n\ndef test_with_limit(PlayerClass, limit):\n    global gCounts\n    gCounts = 0\n    time = datetime.now()\n    for seed in range(5):\n        empty_caches()\n        Kalah_Game([PlayerClass(\"Player_1\",limit,seed),PlayerClass(\"Player_2\",limit,seed)],0).start()\n    time_diff = datetime.now() - time\n    time_diff = float(time_diff.total_seconds())\n    return time_diff",
   "execution_count": null,
   "outputs": []
  },
  {
   "cell_type": "markdown",
   "source": "The following function *test_AIs* tests the two AIs one after another with different limits and saves the calculation times and node inspection counts to lists to illustrate them in diagrams afterwards.",
   "metadata": {
    "cell_id": "5a913c8e4be04fdb8484287b41ed2f3c",
    "tags": [],
    "deepnote_to_be_reexecuted": false,
    "source_hash": "9ac6e7c3",
    "execution_start": 1652783846313,
    "execution_millis": 6,
    "deepnote_cell_type": "markdown",
    "deepnote_cell_height": 74.78125
   }
  },
  {
   "cell_type": "code",
   "metadata": {
    "cell_id": "0a1467e527684499a2db27b7d51a7465",
    "tags": [],
    "deepnote_to_be_reexecuted": false,
    "source_hash": "799f1fad",
    "execution_start": 1654441035662,
    "execution_millis": 4,
    "deepnote_cell_type": "code",
    "deepnote_cell_height": 81
   },
   "source": "limits = [1,2,3,4,5]",
   "execution_count": null,
   "outputs": []
  },
  {
   "cell_type": "code",
   "metadata": {
    "cell_id": "0486a6e1f3494a41a24069d62bef5fa2",
    "tags": [],
    "deepnote_to_be_reexecuted": false,
    "source_hash": "bd384760",
    "execution_start": 1654441036841,
    "execution_millis": 0,
    "deepnote_cell_type": "code",
    "deepnote_cell_height": 315
   },
   "source": "def test_AIs():\n    global limits\n    times = [[],[]]\n    counts = [[],[]]\n\n    for limit in limits:\n        times[0].append(test_with_limit(AlphaBeta, limit))\n        counts[0].append(gCounts)\n\n    for limit in limits:\n        times[1].append(test_with_limit(Scout, limit))\n        counts[1].append(gCounts)\n    \n    return times, counts",
   "execution_count": null,
   "outputs": []
  },
  {
   "cell_type": "markdown",
   "source": "The function *draw_plots()* displays the calculated time and node inspection count values in two diagrams make them comparable.",
   "metadata": {
    "cell_id": "7ec4475ccc9549c1a301c98d248d9e4c",
    "tags": [],
    "deepnote_cell_type": "markdown",
    "deepnote_cell_height": 52.390625
   }
  },
  {
   "cell_type": "code",
   "metadata": {
    "cell_id": "50ee3fd0a9cd441bbc8a0139e2342e74",
    "tags": [],
    "deepnote_to_be_reexecuted": false,
    "source_hash": "64e9afd3",
    "execution_start": 1654441295491,
    "execution_millis": 2,
    "deepnote_cell_type": "code",
    "deepnote_cell_height": 621
   },
   "source": "import matplotlib\n\ndef draw_plots(times, counts):\n    global limits\n\n    plt.title('Calculation time for 5 games of two identical player algorithms')\n    plt.xlabel('Limit depth')\n    plt.ylabel('Time in seconds')\n\n    plt.plot(limits, times[0], label=\"AlphaBeta\")\n    plt.plot(limits, times[1], label=\"Scout\")\n    plt.xticks(limits)\n\n    plt.legend(loc='upper left', frameon=True)\n\n    # Diagramm anzeigen:\n    plt.show()\n\n    plt.title('Node Inspections for 5 games of two identical player algorithms')\n    plt.xlabel('Limit depth')\n    plt.ylabel('Node Inspections')\n\n    plt.plot(limits, counts[0], label=\"AlphaBeta\")\n    plt.plot(limits, counts[1], label=\"Scout\")\n    plt.xticks(limits)\n    plt.ylim((1,gCounts*1.1))\n\n    plt.legend(loc='upper left', frameon=True)\n\n    # Diagramm anzeigen:\n    plt.show()",
   "execution_count": null,
   "outputs": []
  },
  {
   "cell_type": "markdown",
   "source": "### Comparison",
   "metadata": {
    "cell_id": "d7407b1ec19346a38f30f806d351656e",
    "tags": [],
    "deepnote_cell_type": "markdown",
    "deepnote_cell_height": 62
   }
  },
  {
   "cell_type": "code",
   "metadata": {
    "cell_id": "1f76c5ccd55b4415bae4d6ce4a54e512",
    "tags": [],
    "deepnote_to_be_reexecuted": false,
    "source_hash": "cf01f143",
    "execution_start": 1654441052122,
    "execution_millis": 213634,
    "deepnote_cell_type": "code",
    "deepnote_cell_height": 81
   },
   "source": "times, counts = test_AIs()",
   "execution_count": null,
   "outputs": []
  },
  {
   "cell_type": "code",
   "metadata": {
    "cell_id": "528c75878e6841d1be39621548085d6d",
    "tags": [],
    "deepnote_to_be_reexecuted": false,
    "source_hash": "dfa90d3b",
    "execution_start": 1654441298900,
    "execution_millis": 977,
    "deepnote_cell_type": "code",
    "deepnote_cell_height": 688,
    "deepnote_output_heights": [
     280,
     280
    ]
   },
   "source": "draw_plots(times, counts)",
   "execution_count": null,
   "outputs": [
    {
     "data": {
      "text/plain": "<Figure size 432x288 with 1 Axes>",
      "image/png": "[encoded data removed]"
     },
     "metadata": {
      "needs_background": "light",
      "image/png": {
       "width": 412,
       "height": 278
      }
     },
     "output_type": "display_data"
    },
    {
     "data": {
      "text/plain": "<Figure size 432x288 with 1 Axes>",
      "image/png": "[encoded data removed]"
     },
     "metadata": {
      "needs_background": "light",
      "image/png": {
       "width": 433,
       "height": 278
      }
     },
     "output_type": "display_data"
    }
   ]
  },
  {
   "cell_type": "markdown",
   "source": "### Conclusion",
   "metadata": {
    "cell_id": "a7bb133365024f4eac22085513c1f33a",
    "tags": [],
    "deepnote_cell_type": "markdown",
    "deepnote_cell_height": 62
   }
  },
  {
   "cell_type": "markdown",
   "source": "For lower limits the efficiency is quite similar. For higher limits the Scout AI is less efficient. That result is against the expectation. The reason for that is that the implementation in these notebooks of move ordering for the AlphaBeta AI seems to be better than the move ordering for the Scout AI. A reason for that might be that the move ordering could only be applied to one of the Scout functions: `EVAL`. In the function `TEST` the states are not fully evaluated, but only compared to a given value v. This is why move ordering would not be possible with the cache of `TEST`. This could be a reason for the high node inspection numbers and calculation times of Scout in comparison to AlphaBeta.",
   "metadata": {
    "cell_id": "a159d4264cfa47908fd0beeaeb42df3b",
    "tags": [],
    "deepnote_cell_type": "markdown",
    "deepnote_cell_height": 141.953125
   }
  },
  {
   "cell_type": "markdown",
   "source": "<a style='text-decoration:none;line-height:16px;display:flex;color:#5B5B62;padding:10px;justify-content:end;' href='https://deepnote.com?utm_source=created-in-deepnote-cell&projectId=b91c3ea7-d814-439b-837a-72fdc90697b1' target=\"_blank\">\n<img alt='Created in deepnote.com' style='display:inline;max-height:16px;margin:0px;margin-right:7.5px;' src='data:image/svg+xml;base64,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' > </img>\nCreated in <span style='font-weight:600;margin-left:4px;'>Deepnote</span></a>",
   "metadata": {
    "tags": [],
    "created_in_deepnote_cell": true,
    "deepnote_cell_type": "markdown"
   }
  }
 ],
 "nbformat": 4,
 "nbformat_minor": 2,
 "metadata": {
  "orig_nbformat": 2,
  "deepnote": {},
  "deepnote_notebook_id": "1c75c9b8-b0de-4186-968a-2f0ad623c796",
  "deepnote_execution_queue": []
 }
}