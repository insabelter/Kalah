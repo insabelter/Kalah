{
 "cells": [
  {
   "cell_type": "code",
   "execution_count": 5,
   "id": "1040ae6b",
   "metadata": {},
   "outputs": [],
   "source": [
    "from ipycanvas import Canvas"
   ]
  },
  {
   "cell_type": "code",
   "execution_count": 107,
   "id": "b7b0f546",
   "metadata": {},
   "outputs": [
    {
     "data": {
      "application/vnd.jupyter.widget-view+json": {
       "model_id": "3ceaa5416ccb48fb9dca56074277b5e1",
       "version_major": 2,
       "version_minor": 0
      },
      "text/plain": [
       "Canvas(height=200, width=200)"
      ]
     },
     "metadata": {},
     "output_type": "display_data"
    }
   ],
   "source": [
    "# Making the Canvas\n",
    "canvas = Canvas(width=200, height=200)\n",
    "\n",
    "canvas.fill_rect(62.5,62.5,25)\n",
    "#canvas.clear_rect(45,45,60,60)\n",
    "canvas.stroke_rect(50,50,50,50)\n",
    "\n",
    "canvas"
   ]
  },
  {
   "cell_type": "code",
   "execution_count": 138,
   "id": "da291bfd",
   "metadata": {},
   "outputs": [],
   "source": [
    "def drawStones(canvas,x,y):\n",
    "    oldStyle = canvas.fill_style # save this to revert later\n",
    "    canvas.fill_style = 'blue'\n",
    "    canvas.fill_circles([x-15,x+15,x],[y-10,y-10,y+10],[10,10,10])\n",
    "    canvas.fill_style = oldStyle"
   ]
  },
  {
   "cell_type": "code",
   "execution_count": 137,
   "id": "9a9e0681",
   "metadata": {
    "scrolled": false
   },
   "outputs": [
    {
     "data": {
      "application/vnd.jupyter.widget-view+json": {
       "model_id": "e0a9282091e746cd844947c6d6503c6f",
       "version_major": 2,
       "version_minor": 0
      },
      "text/plain": [
       "Canvas(height=300, width=800)"
      ]
     },
     "metadata": {},
     "output_type": "display_data"
    }
   ],
   "source": [
    "# First attempt at board\n",
    "# Image for reference: http://www.iggamecenter.com/images/info/kalah/2.jpg\n",
    "\n",
    "canvas = Canvas(width=800, height=300)\n",
    "\n",
    "canvas.fill_style='brown'\n",
    "canvas.fill_rect(0,0,canvas.width)\n",
    "\n",
    "\n",
    "canvas.stroke_circles([((i)*100)+140 for i in range(6)],[80for i in range(6)], 40)\n",
    "canvas.stroke_circles([(i*100)+140 for i in range(6)],[200 for i in range(6)], 40)\n",
    "\n",
    "canvas.stroke_rects([10,canvas.width-100],[50,50],[80,80],[180,180])\n",
    "\n",
    "canvas.fill_style='white'\n",
    "canvas.font = '32px serif'\n",
    "canvas.fill_text(\"O\",40,30)\n",
    "canvas.fill_text(\"F\",135,30)\n",
    "canvas.fill_text(\"E\",230,30)\n",
    "canvas.fill_text(\"D\",330,30)\n",
    "canvas.fill_text(\"C\",430,30)\n",
    "canvas.fill_text(\"B\",530,30)\n",
    "canvas.fill_text(\"A\",630,30)\n",
    "# ---------\n",
    "canvas.fill_style = 'black'\n",
    "canvas.fill_text(\"a\",135,275)\n",
    "canvas.fill_text(\"b\",230,275)\n",
    "canvas.fill_text(\"c\",330,275)\n",
    "canvas.fill_text(\"d\",430,275)\n",
    "canvas.fill_text(\"e\",530,275)\n",
    "canvas.fill_text(\"f\",630,275)\n",
    "canvas.fill_text(\"o\",730,275)\n",
    "\n",
    "drawStones(canvas,140,85)\n",
    "canvas"
   ]
  },
  {
   "cell_type": "code",
   "execution_count": 36,
   "id": "db50529f",
   "metadata": {},
   "outputs": [],
   "source": []
  }
 ],
 "metadata": {
  "kernelspec": {
   "display_name": "Python 3 (ipykernel)",
   "language": "python",
   "name": "python3"
  },
  "language_info": {
   "codemirror_mode": {
    "name": "ipython",
    "version": 3
   },
   "file_extension": ".py",
   "mimetype": "text/x-python",
   "name": "python",
   "nbconvert_exporter": "python",
   "pygments_lexer": "ipython3",
   "version": "3.9.1"
  }
 },
 "nbformat": 4,
 "nbformat_minor": 5
}
