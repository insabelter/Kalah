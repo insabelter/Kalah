{
 "cells": [
  {
   "cell_type": "code",
   "execution_count": 18,
   "id": "942976d2",
   "metadata": {
    "cell_id": "83778be5-dbbd-48b8-9522-7ba9f5847ca7",
    "deepnote_cell_type": "code",
    "deepnote_output_heights": [
     2
    ],
    "deepnote_to_be_reexecuted": false,
    "execution_millis": 248,
    "execution_start": 1645539100502,
    "source_hash": "ebe85e9f"
   },
   "outputs": [
    {
     "data": {
      "text/html": [
       "<link href='http://fonts.googleapis.com/css?family=Alegreya+Sans:100,300,400,500,700,800,900,100italic,300italic,400italic,500italic,700italic,800italic,900italic' rel='stylesheet' type='text/css'>\n",
       "<link href='http://fonts.googleapis.com/css?family=Arvo:400,700,400italic' rel='stylesheet' type='text/css'>\n",
       "<link href='http://fonts.googleapis.com/css?family=PT+Mono' rel='stylesheet' type='text/css'>\n",
       "<link href='http://fonts.googleapis.com/css?family=Shadows+Into+Light' rel='stylesheet' type='text/css'>\n",
       "<link href='http://fonts.googleapis.com/css?family=Philosopher:400,700,400italic,700italic' rel='stylesheet' type='text/css'>\n",
       "\n",
       "<style>\n",
       "\n",
       "@font-face {\n",
       "    font-family: \"Computer Modern\";\n",
       "    src: url('http://mirrors.ctan.org/fonts/cm-unicode/fonts/otf/cmunss.otf');\n",
       "}\n",
       "\n",
       ".container { width: 100% }\n",
       "\n",
       "/* Formatting for header cells */\n",
       ".text_cell_render h1 {\n",
       "    font-family: 'Philosopher';\n",
       "    font-weight: 600;\n",
       "    font-size: 2.2em;\n",
       "    line-height: 100%;\n",
       "    color: rgb(0, 80, 120);\n",
       "    margin-bottom: 0.1em;\n",
       "    margin-top: 0.1em;\n",
       "    display: block;\n",
       "}\t\n",
       ".text_cell_render h2 {\n",
       "    font-family: 'Philosopher';\n",
       "    font-weight: 400;\n",
       "    font-size: 1.8em;\n",
       "    line-height: 100%;\n",
       "    color: rgb(0, 80, 120);\n",
       "    margin-bottom: 0.1em;\n",
       "    margin-top: 0.1em;\n",
       "    display: block;\n",
       "}\t\n",
       "\n",
       ".text_cell_render h3 {\n",
       "    font-family: 'Philosopher';\n",
       "    margin-top:12px;\n",
       "    margin-bottom: 3px;\n",
       "    font-style: italic;\n",
       "    color: rgb(0, 100, 132);\n",
       "}\n",
       "\n",
       ".text_cell_render h4 {\n",
       "    font-family: 'Philosopher', serif;\n",
       "    color: rgb(0, 100, 132);\n",
       "}\n",
       "\n",
       ".text_cell_render h5 {\n",
       "    font-family: 'Philosopher', serif;\n",
       "    margin-top:6px;\n",
       "    margin-bottom: 2px;\n",
       "    color: rgb(0, 100, 132);\n",
       "    font-style: italic;\n",
       "    display: block;\n",
       "}\n",
       "\n",
       ".text_cell_render h6 {\n",
       "    font-family: 'PT Mono', serif;\n",
       "    font-weight: 300;\n",
       "    font-size: 10pt;\n",
       "    color: grey;\n",
       "    margin-bottom: 1px;\n",
       "    margin-top: 1px;\n",
       "}\n",
       "\n",
       ".text_cell_render em {\n",
       "    font-family: 'Philosopher', serif;\n",
       "    background-color: rgb(220,235,240);\n",
       "    font-size:    110%;\n",
       "    margin-left:   2px;\n",
       "    margin-right:  2px;\n",
       "    font-weight:   100;\n",
       "    font-style: normal;\n",
       "}\n",
       "\n",
       ".text_cell_render b {\n",
       "    font-family: 'Philosopher', serif;\n",
       "    color:            rgb(255,195,195);\n",
       "    font-size:    110%;\n",
       "    margin-left:   2px;\n",
       "    margin-right:  2px;\n",
       "    font-weight:   650;\n",
       "}\n",
       "\n",
       ".text_cell_render tt {\n",
       "    background-color: rgb(235,235,235);\n",
       "    font-size:    120%;\n",
       "    margin-left:   2px;\n",
       "    margin-right:  2px;\n",
       "    font-weight:   150;\n",
       "}\n",
       "\n",
       ".Codemirror {\n",
       "    font-family: \"PT Mono\";\n",
       "    font-size: 100%;\n",
       "}\n",
       "\n",
       "</style>\n",
       "\n"
      ],
      "text/plain": [
       "<IPython.core.display.HTML object>"
      ]
     },
     "execution_count": 18,
     "metadata": {},
     "output_type": "execute_result"
    }
   ],
   "source": [
    "from ipycanvas import MultiCanvas,hold_canvas\n",
    "from ipywidgets import Image\n",
    "import math\n",
    "import random\n",
    "import IPython.display\n",
    "import time\n",
    "import copy\n",
    "import datetime as dt\n",
    "from IPython.core.display import HTML\n",
    "with open('style.css', 'r') as file:\n",
    "    css = file.read()\n",
    "HTML(css)"
   ]
  },
  {
   "cell_type": "markdown",
   "id": "fc3d01cb",
   "metadata": {
    "cell_id": "00001-18d6a173-aebe-492d-9c4a-d89c70682f66",
    "deepnote_cell_type": "markdown"
   },
   "source": [
    "# Kalah Rules\n",
    "\n",
    "### Game structure:\n",
    "<p>The playing field consists of 6 houses per side and additionally one large house per player at the edge, the so-called storage. At the beginning of the game, six seeds are placed in each house except the storage.</p>\n",
    "\n",
    "<b style=\"background-color:yellow; color:blue\">Comment:</b>\n",
    "The wikipedia page on [Kalah](https://en.wikipedia.org/wiki/Kalah) states that initially the houses contain only 4 seeds, not six.\n",
    "\n",
    "![title](images/Board.png)\n",
    "\n",
    "### Gameplay:\n",
    "<p>Alternately, a player selects a house on his side of the board. The player then places the seeds in the following houses in a counter-clockwise direction. If visited, a seed is placed in the own storage, the opponent's storage is left out. The player's turn ends if all seeds are placed.\n",
    "\n",
    "There are some special rules, that apply if the last seed is placed in the player's storage or an empty player's house:\n",
    "1. If the last seed is placed in the own storage, it is the player's turn again. \n",
    "2. If the last seed is placed in an empty house on the player's own side of the board, this seed and all the seeds in the opposite house are placed in the player's storage. In that case, it is the opponent's turn.</p>\n",
    "\n",
    "<b style=\"background-color:darkred; color:lightblue\">Error:</b>  This is actually not correct.   If the opposite house is empty, then the seed is not placed in the players storage.  Your implementation is therefore wrong w.r.t. ths rule.\n",
    "\n",
    "### End of the game:\n",
    "<p>The game ends when all the houses of one player have been emptied. The opposing player then places all remaining seed in his storage.</p>\n",
    "\n",
    "### Object of the game:\n",
    "<p>The winner is the player who has more seeds in his storage at the end of the game.</p>\n",
    "\n",
    "Source: http://www.kalaha.de/kalaha.htm (9.11.2021)\n",
    "<b style=\"background-color:yellow; color:blue\">Comment:</b> Why do you cite a German website if this paper is written in English?\n",
    "Furthermore, the description on that webpage is wrong.  A better reference is http://gambiter.com/mancala/Kalah.html."
   ]
  },
  {
   "cell_type": "markdown",
   "id": "236e65b4",
   "metadata": {
    "cell_id": "00002-64cc3c2b-13f0-4191-a76c-c4445977d712",
    "deepnote_cell_type": "markdown"
   },
   "source": [
    "# Kalah game definition\n",
    "\n",
    "### Basic definition:\n",
    "<p>We define the game G as a six-tuple as follows so that a computer is able to play Kalah.</p>\n",
    "<br>\n",
    "<center><em>G = &ltStates, s0, Players, nextStates, finished, utility></em></center>\n",
    "\n",
    "The components have the following meanings:\n",
    "\n",
    "1. **States** is a set that contains all possible states of the game Kalah. A state of the game is represented by a list containing two lists, representing the houses of the two players. The first six values of each list represent the number of seeds in the player's houses represented by the letters **{A, B, C, D, E, F}**. The seventh and last value stands for the number of seeds in the corresponding player's storage. The start state of the game is for example:\n",
    "\n",
    "<center><em>[[6,6,6,6,6,6,0], [6,6,6,6,6,6,0]]</em></center>\n",
    "\n",
    "2. **s0 ∈ States** is the start state.\n",
    "\n",
    "<b style=\"background-color:yellow; color:blue\">Comment:</b> Use $\\in$ instead of **ε**.\n",
    "\n",
    "3. **Players** is a list that contains the players. Kalah is a game for exactly two players, therefore this game's **Players** list only contains two elements.\n",
    "4. **nextStates** is a function which calculates a set of states that are reachable by one move from Player p in the state s. To do so, the function receives a state **s ε States** and a player **p ε Players**. The formula is given as follows:\n",
    "\n",
    "<center><em>nextStates: States x Players &rarr; 2<sup>States</sup></em></center>\n",
    "\n",
    "5. **finished** is a function that takes a state **s $\\varepsilon$ States** and checks if the game is finished, meaning that one of the players has emptied all their houses . The formula is: \n",
    "<br><br>\n",
    "<center><em>finished: States &rarr; B</em></center>\n",
    "<br>\n",
    "<b style=\"background-color:yellow; color:blue\">Comment:</b> Use $\\mathbb{B}$ instead of <em>B</em>.\n",
    "The function finished is used to compute a set TerminalStates that contains all states from a finished game. This set is defined as follows: \n",
    "<br><br>\n",
    "<center><em>TerminalStates:= {s ε States | finished(s)}</em></center>\n",
    "<br>\n",
    "6. **utility** is a function that calculates the value of the game for a player. Therefore, the function takes a state **s ε TerminalStates** and a player **p ε Players**. The value that the function returns is an element from the set **{-1, 0, 1}**. The player p has lost the game when the function returns -1. If the function returns 1, the player has won the game and if the value is 0, the game ends in a draw. The formula for the function is:\n",
    "\n",
    "<center><em>utility: TerminalStates x Players &rarr; {-1, 0. 1}</em></center>\n",
    "\n",
    "source: https://github.com/karlstroetmann/Artificial-Intelligence/blob/master/Lecture-Notes/artificial-intelligence.pdf, S.87, Abruf am 06.02.2022"
   ]
  },
  {
   "cell_type": "markdown",
   "id": "b261ebd8",
   "metadata": {
    "cell_id": "00003-1b61c251-9262-4c52-a07b-bdc857bc4dbe",
    "deepnote_cell_type": "markdown"
   },
   "source": [
    "# Classes\n",
    "\n",
    "The Kalah game is implemented with the use of several classes, containing base class <tt>Kalah_Game</tt>, a <tt>Board</tt> class for displaying the UI and a <tt>Player</tt> class as well as several classes inheriting from this <tt>Player</tt> class:\n",
    "\n",
    "- <tt>Human</tt>\n",
    "- <tt>Repeated_Player</tt>\n",
    "- <tt>Random_AI</tt>\n",
    "\n",
    "The following illustration shows a class diagram of all classes involved:\n",
    "\n",
    "<img src=\"images/Kalah_Class_Diagram.png\" alt=\"Kalah_Class_Diagram\" width=\"600\"/>\n",
    "\n",
    "<b style=\"background-color:yellow; color:blue\">Comment:</b> \n",
    "I could not find some of the methods mentioned in this image.  For example, there is no method `choose_trough`.  Neither is there a method `calculate_winner`.  Actually, I don't believe in the value of diagramms of this kind for projects of this size.\n",
    "\n",
    "This image was created with [Creatly](https://creately.com/)."
   ]
  },
  {
   "cell_type": "markdown",
   "id": "dcffa5d6",
   "metadata": {
    "cell_id": "00004-d869a495-adcb-4d67-a1c8-eb2e48bb9038",
    "deepnote_cell_type": "markdown"
   },
   "source": [
    "## Global Variables\n",
    "\n",
    "Additionally to the classes, there is one global variable *gOrder* with the purpose to help converting the state of the game board, which is represented by a nested list, to letters. The letter representation is mainly for the UI, but also distributes to print and logging messages being easier to humanly comprehend."
   ]
  },
  {
   "cell_type": "code",
   "execution_count": 19,
   "id": "798f3661",
   "metadata": {
    "cell_id": "00005-7d50d53c-2223-4aae-804c-a5135095efa6",
    "deepnote_cell_type": "code",
    "deepnote_to_be_reexecuted": false,
    "execution_millis": 0,
    "execution_start": 1645539100621,
    "source_hash": "5e40d2f5"
   },
   "outputs": [],
   "source": [
    "gOrder = [['A','B','C','D','E','F','O'],\n",
    "         ['a','b','c','d','e','f','o']]"
   ]
  },
  {
   "cell_type": "markdown",
   "id": "958c34a7",
   "metadata": {
    "cell_id": "6101a602-8a4d-4adc-bd0d-4b735a1cbea7",
    "deepnote_cell_type": "markdown",
    "tags": []
   },
   "source": [
    "## Global Game Functions\n",
    "\n",
    "- *other_player(player_num)*\n",
    "- *move(state, player_num, choice)*\n",
    "- *next_states(state, player_num)*\n",
    "- *finished(state)*\n",
    "- *utility(state, player_num)*\n",
    "- *value(state, player_num)*\n",
    "\n",
    "TODO"
   ]
  },
  {
   "cell_type": "markdown",
   "id": "bade3593",
   "metadata": {
    "cell_id": "00039-12e7bf25-9084-46d1-b529-c0928d53be7c",
    "deepnote_cell_type": "markdown"
   },
   "source": [
    "### Function: other_player\n",
    "The function *other_player(player_num)* returns the opponent's player number to a given player number. This means that it returns 1 for the input 0, and 0 for the input 1."
   ]
  },
  {
   "cell_type": "code",
   "execution_count": 20,
   "id": "0c511549",
   "metadata": {
    "cell_id": "00040-baf5d4bd-4a25-4098-b0d6-921bd14d1319",
    "deepnote_cell_type": "code",
    "deepnote_to_be_reexecuted": false,
    "execution_millis": 596031557,
    "execution_start": 1645539100622,
    "source_hash": "770e4d0e"
   },
   "outputs": [],
   "source": [
    "def other_player(player_num):\n",
    "    return (player_num + 1) % 2"
   ]
  },
  {
   "cell_type": "markdown",
   "id": "a0e7629e",
   "metadata": {
    "cell_id": "00050-77ac7966-e59c-4060-9293-30832f033eab",
    "deepnote_cell_type": "markdown"
   },
   "source": [
    "### Function: move\n",
    "\n",
    "<b style=\"background-color:yellow; color:blue\">Comment:</b> All parameters of *move* should be included and explained.\n",
    "\n",
    "The function *move(choice)* receives a state, the number of a player and the house index they have chosen as a result of the <tt>Player</tt> method *choose_house*. It calculates the actions of the player's turn and returns the resulting new game state.  <b style=\"background-color:yellow; color:blue\">Comment: This is false!</b>\n",
    "Additionally, the function is used in *next_states* to calculate all possible following states from one state.\n",
    "\n",
    "##### The calculations are implemented based on the following game rules:\n",
    "\n",
    "1. The current player choses one of his house. The seeds from the chosen house are placed counterclockwise in the house of both players and in the store of the current player. The store of the opponent is left out. Then it is the turn of the opponent.\n",
    "\n",
    "\n",
    "2. If the last seed is placed in the store of the current player, they get another move.\n",
    "\n",
    "\n",
    "3. If the last seed is placed in an empty house of the current player the seed from this house and all seeds from the opposite house are place in the store of the current player. Then it's the opponent's turn."
   ]
  },
  {
   "cell_type": "markdown",
   "id": "521a90cc",
   "metadata": {},
   "source": [
    "<b style=\"background-color:yellow; color:blue\">Comment:</b> \n",
    "- Do not use `C`-syntax below.\n",
    "- The idea of of variable names like `c_house_player_num` is difficult to guess.  What does the `c` stand for?\n",
    "- The code of this function is rather long.  Wouldn't it be clearer if you introduced auxiliary methods to structure the code?\n",
    "- A function as involved as the function `move` should have some unit tests.\n",
    "- You should specify what exactly is returned.\n",
    "- `other_player(player_num)` is called twice."
   ]
  },
  {
   "cell_type": "code",
   "execution_count": 21,
   "id": "c2d14551",
   "metadata": {
    "cell_id": "00051-84307cf6-3f2c-4076-bf4a-5b2d7b66ecf9",
    "deepnote_cell_type": "code",
    "deepnote_to_be_reexecuted": false,
    "execution_millis": 2231331,
    "execution_start": 1645542113615,
    "source_hash": "f8060211"
   },
   "outputs": [],
   "source": [
    "def move(state, player_num, choice):\n",
    "    new_state = copy.deepcopy(state)\n",
    "\n",
    "    seeds = new_state[player_num][choice]\n",
    "    new_state[player_num][choice] = 0\n",
    "\n",
    "    c_house_player_num = player_num\n",
    "    c_house_num = choice\n",
    "\n",
    "    # Go through houses counterclockwise\n",
    "    while (seeds > 0):\n",
    "        c_house_num += 1\n",
    "\n",
    "        # Skip opponent's store\n",
    "        if(c_house_num == 6 and c_house_player_num != player_num):\n",
    "            continue\n",
    "\n",
    "        # Switch to houses of the other player\n",
    "        if(c_house_num > 6):\n",
    "            c_house_num = 0\n",
    "            c_house_player_num = other_player(c_house_player_num)\n",
    "\n",
    "        # Add seed to the currently visited house\n",
    "        new_state[c_house_player_num][c_house_num] += 1\n",
    "        seeds -= 1\n",
    "    \n",
    "    another_turn = False\n",
    "    # Check for special rules after last seed was placed in own store or own empty house:\n",
    "    if(c_house_player_num == player_num):\n",
    "\n",
    "        # Rule: Another turn if last seed is placed in own store\n",
    "        if(c_house_num == 6) and not finished(new_state):\n",
    "            # Give current player another turn\n",
    "            another_turn = True\n",
    "\n",
    "        # Rule: Last seed is placed in empty house of current player\n",
    "        elif(new_state[player_num][c_house_num] == 1):                \n",
    "            # Collect all seeds to be rewarded and empty both houses\n",
    "            receivedSeeds = new_state[player_num][c_house_num]\n",
    "            receivedSeeds += new_state[other_player(player_num)][5 - c_house_num]\n",
    "            new_state[other_player(player_num)][5 - c_house_num] = 0\n",
    "            new_state[player_num][c_house_num] = 0\n",
    "            # Award all the seeds to the current player's kalah\n",
    "            new_state[player_num][6] += receivedSeeds\n",
    "            # if self.display_mode != 0:\n",
    "                # print(f'Player {self.players[player_num].name} gets a steal for {receivedSeeds} Seeds!')\n",
    "\n",
    "    move_log = tuple([player_num, choice, copy.deepcopy(new_state)])\n",
    "    \n",
    "    return new_state, another_turn, move_log"
   ]
  },
  {
   "cell_type": "markdown",
   "id": "12da7e08",
   "metadata": {
    "cell_id": "00052-d30a97d7-a30f-423b-9ff0-2b7a8b9d3c5f",
    "deepnote_cell_type": "markdown"
   },
   "source": [
    "### Function: finished\n",
    "The private function *finished()* checks if one of the players has no seeds in their house left and is therefore unable to take another turn. If this is the case, the function returns True, otherwise it returns False. "
   ]
  },
  {
   "cell_type": "markdown",
   "id": "b8076945",
   "metadata": {},
   "source": [
    "<b style=\"background-color:yellow; color:blue\">Comment:</b> \n",
    "This implementation is not very efficient, because the decision can be taken as soon as the first non-empty house is discovered.\n",
    "\n",
    "Furthermore, code like \n",
    "```\n",
    "    if(not (sum0 == 0 or sum1 == 0)):\n",
    "        return False\n",
    "    return True\n",
    "```\n",
    "could be simplified as follows:\n",
    "```\n",
    "    return sum0 == 0 or sum1 == 0\n",
    "```"
   ]
  },
  {
   "cell_type": "code",
   "execution_count": 22,
   "id": "4941b86f",
   "metadata": {
    "cell_id": "00053-a39f0c36-fd65-463e-bf2b-3148a7d47916",
    "deepnote_cell_type": "code",
    "deepnote_to_be_reexecuted": false,
    "execution_millis": 1,
    "execution_start": 1645539100652,
    "source_hash": "fe285279"
   },
   "outputs": [],
   "source": [
    "def finished(state):\n",
    "    sum0 = sum(state[0][:-1])\n",
    "    sum1 = sum(state[1][:-1])\n",
    "\n",
    "    if(not (sum0 == 0 or sum1 == 0)):\n",
    "        return False\n",
    "    return True"
   ]
  },
  {
   "cell_type": "markdown",
   "id": "85ad7567",
   "metadata": {
    "cell_id": "00058-73ff3b34-bd55-4d10-a27a-af6ea7a395e4",
    "deepnote_cell_type": "markdown"
   },
   "source": [
    "### Function: next_states\n",
    "The function *nextStates()* is a function which calculates a set of states that are reachable by one move from Player p in the state s. To do so, the function receives a state **s ε States** and a player **p ε Players**. The formula is given as follows:\n",
    "\n",
    "<center><em>nextStates: States x Players &rarr; 2<sup>States</sup></em></center>"
   ]
  },
  {
   "cell_type": "markdown",
   "id": "bc954938",
   "metadata": {},
   "source": [
    "<b style=\"background-color:yellow; color:blue\">Comment:</b> \n",
    "* The function is called `next_states` instead of `nextStates` and it returns a list instead of a set.\n",
    "* Furthermore, this list does not contain states but pairs.  It is not obvious how these pairs are too be interpreted.\n",
    "* You should use the same names for the parameters in the code as in the comment, e.g. **state** instead of **s**."
   ]
  },
  {
   "cell_type": "code",
   "execution_count": 23,
   "id": "c286fbcb",
   "metadata": {
    "cell_id": "00059-b3c036fb-5c91-4b53-a303-ccae1336b33a",
    "deepnote_cell_type": "code",
    "deepnote_to_be_reexecuted": false,
    "execution_millis": 1,
    "execution_start": 1645539903824,
    "source_hash": "a11832c7"
   },
   "outputs": [],
   "source": [
    "def next_states(state, player_num):\n",
    "    states = []\n",
    "    for choice in range(6):\n",
    "        # Check if choice is valid (at least one seed in house)\n",
    "        if state[player_num][choice] == 0:\n",
    "            continue   \n",
    "        next_state, another_turn, _ = move(state, player_num, choice)\n",
    "\n",
    "        # Check if player has another turn\n",
    "        # If so, next_states is called recursively until the player has no other turn \n",
    "        if another_turn:\n",
    "            for s,choices in next_states(next_state, player_num):\n",
    "                states.append((s,[choice] + choices))\n",
    "        else:\n",
    "            states.append((next_state,[choice]))\n",
    "\n",
    "    return states"
   ]
  },
  {
   "cell_type": "markdown",
   "id": "45502703",
   "metadata": {},
   "source": [
    "<b style=\"background-color:yellow; color:blue\">Comment:</b> \n",
    "Unit tests like the test below should use `assert`."
   ]
  },
  {
   "cell_type": "code",
   "execution_count": 24,
   "id": "4739952b",
   "metadata": {
    "cell_id": "00060-c82f4f90-bed5-446e-bea2-33926492147d",
    "deepnote_cell_type": "code",
    "deepnote_output_heights": [
     98,
     117
    ],
    "deepnote_to_be_reexecuted": false,
    "execution_millis": 6,
    "execution_start": 1645539886547,
    "source_hash": "6d1e87cf"
   },
   "outputs": [
    {
     "data": {
      "text/plain": [
       "[([[0, 0, 0, 0, 0, 0, 44], [0, 2, 0, 1, 2, 1, 22]], [5])]"
      ]
     },
     "execution_count": 24,
     "metadata": {},
     "output_type": "execute_result"
    }
   ],
   "source": [
    "next_states([[0, 0, 0, 0, 0, 1, 43], [0, 2, 0, 1, 2, 1, 22]],0)"
   ]
  },
  {
   "cell_type": "markdown",
   "id": "879bc6ce",
   "metadata": {
    "cell_id": "00056-08bdb5a5-9aab-4114-9dc9-42156ac99995",
    "deepnote_cell_type": "markdown"
   },
   "source": [
    "### Function: utility\n",
    "The  function *utility(player_num)* receives the number of the current player and uses the current state to calculate the utility of the state for the player. The function compares the seeds from both stores and returns an Integer dependent on the result. If the current player has more seeds than the opponent the function returns 1. If they own less seeds than the opponent the function returns -1 and if it is a draw the number 0 is returned.     "
   ]
  },
  {
   "cell_type": "code",
   "execution_count": 25,
   "id": "82acea4d",
   "metadata": {
    "cell_id": "00057-c4f03208-b88b-46ab-a794-551d6210a8b9",
    "deepnote_cell_type": "code",
    "deepnote_to_be_reexecuted": false,
    "execution_millis": 0,
    "execution_start": 1645539100654,
    "source_hash": "5acd4e7e"
   },
   "outputs": [],
   "source": [
    "def utility(state, player_num):\n",
    "    playerStore = state[player_num][6]\n",
    "    opponentStore = state[other_player(player_num)][6]\n",
    "    if(playerStore > opponentStore):\n",
    "        return 1\n",
    "    elif(playerStore == opponentStore):\n",
    "        return 0\n",
    "    else:\n",
    "        return -1"
   ]
  },
  {
   "cell_type": "markdown",
   "id": "c5f7e2ea",
   "metadata": {},
   "source": [
    "<b style=\"background-color:darkred; color:lightblue\">Error:</b> \n",
    "This is not correct because you have to take account of the remaining stones that are left in the houses!\n",
    "These have to be added to the stones in the store."
   ]
  },
  {
   "cell_type": "markdown",
   "id": "f6dd0fb3",
   "metadata": {
    "cell_id": "00061-24530f64-210e-4a4c-85d0-5b29ca3cc874",
    "deepnote_cell_type": "markdown"
   },
   "source": [
    "### Function: value\n"
   ]
  },
  {
   "cell_type": "markdown",
   "id": "98c64942",
   "metadata": {
    "cell_id": "5affe1dd-24ec-4de4-a0dc-fefbb7c7571b",
    "deepnote_cell_type": "markdown",
    "tags": []
   },
   "source": [
    "#### Auxiliary functions for the method value\n",
    "\n",
    "The method *to_tuple* takes a list of the two lists that represent a game state. The function converts the list to a tuple of tuples and returns it.\n",
    "\n",
    "The method *to_list* does that procedure vice versa."
   ]
  },
  {
   "cell_type": "code",
   "execution_count": 26,
   "id": "bbd1673a",
   "metadata": {
    "cell_id": "4f5ed394-fe01-4762-b519-68da15f74a76",
    "deepnote_cell_type": "code",
    "deepnote_output_heights": [
     21
    ],
    "deepnote_to_be_reexecuted": false,
    "execution_millis": 1,
    "execution_start": 1645539100655,
    "source_hash": "9d49b353",
    "tags": []
   },
   "outputs": [],
   "source": [
    "def to_tuple(state_list):\n",
    "    return tuple(tuple(s) for s in state_list)"
   ]
  },
  {
   "cell_type": "code",
   "execution_count": 27,
   "id": "8093cf1c",
   "metadata": {
    "cell_id": "b2cfc6a0-9b0e-4fa4-9a79-1b1f687faba5",
    "deepnote_cell_type": "code",
    "deepnote_output_heights": [
     21
    ],
    "deepnote_to_be_reexecuted": false,
    "execution_millis": 98,
    "execution_start": 1645539100657,
    "source_hash": "4fd92f07",
    "tags": []
   },
   "outputs": [
    {
     "data": {
      "text/plain": [
       "((1, 8, 1, 0, 1, 2, 16), (1, 4, 0, 4, 15, 14, 5))"
      ]
     },
     "execution_count": 27,
     "metadata": {},
     "output_type": "execute_result"
    }
   ],
   "source": [
    "to_tuple([[1, 8, 1, 0, 1, 2, 16], [1, 4, 0, 4, 15, 14, 5]])"
   ]
  },
  {
   "cell_type": "code",
   "execution_count": 28,
   "id": "be3402a1",
   "metadata": {
    "cell_id": "b53023c8-a7bc-452c-a3c7-341959abce8e",
    "deepnote_cell_type": "code",
    "deepnote_to_be_reexecuted": false,
    "execution_millis": 2,
    "execution_start": 1645539100669,
    "source_hash": "d74c70c7",
    "tags": []
   },
   "outputs": [],
   "source": [
    "def to_list(state_tuple):\n",
    "    return list(list(s) for s in state_tuple)"
   ]
  },
  {
   "cell_type": "code",
   "execution_count": 29,
   "id": "5689af8e",
   "metadata": {
    "cell_id": "110d3192-80ca-449a-a32f-62a50d48a8af",
    "deepnote_cell_type": "code",
    "deepnote_output_heights": [
     21
    ],
    "deepnote_to_be_reexecuted": false,
    "execution_millis": 82,
    "execution_start": 1645539100675,
    "source_hash": "197706ac",
    "tags": []
   },
   "outputs": [
    {
     "data": {
      "text/plain": [
       "[[1, 8, 1, 0, 1, 2, 16], [1, 4, 0, 4, 15, 14, 5]]"
      ]
     },
     "execution_count": 29,
     "metadata": {},
     "output_type": "execute_result"
    }
   ],
   "source": [
    "to_list([[1, 8, 1, 0, 1, 2, 16], [1, 4, 0, 4, 15, 14, 5]])"
   ]
  },
  {
   "cell_type": "markdown",
   "id": "75962a8c",
   "metadata": {
    "cell_id": "622ee191-539d-47f8-90e4-04386b2068f3",
    "deepnote_cell_type": "markdown",
    "tags": []
   },
   "source": [
    "#### Function: memoize\n",
    "\n",
    "The function *memoize* computes a memoized version of a function f that is given as parameter. At first a dictionary named Cache is ceated that is used as a memory cache for the function *memoized*. At first *memoized* tries to retrieve the value of the given function f from the dictionary Cache and returns the value. If *memoize* can't retrieve a value the function f is called to compute the result and the result is stored in the Cache.   "
   ]
  },
  {
   "cell_type": "code",
   "execution_count": 30,
   "id": "6e06ae53",
   "metadata": {
    "cell_id": "6b50ff50-e95e-4a8a-817e-fb11cc3adf18",
    "deepnote_cell_type": "code",
    "deepnote_to_be_reexecuted": false,
    "execution_millis": 1,
    "execution_start": 1645539100717,
    "source_hash": "d494e78e",
    "tags": []
   },
   "outputs": [],
   "source": [
    "Cache = {}\n",
    "\n",
    "def memoize(f):\n",
    "    global Cache\n",
    "\n",
    "    def f_memoized(*args):\n",
    "        args = (to_tuple(args[0]),args[1],args[2])\n",
    "        if args in Cache:\n",
    "            return Cache[args]\n",
    "        \n",
    "        result = f(to_list(args[0]),args[1],args[2])\n",
    "        Cache[args] = result\n",
    "        return result\n",
    "\n",
    "    return f_memoized"
   ]
  },
  {
   "cell_type": "markdown",
   "id": "f98e7f32",
   "metadata": {
    "cell_id": "baf6a394-321d-4a9d-9abf-bbaac601c519",
    "deepnote_cell_type": "markdown",
    "tags": []
   },
   "source": [
    "The function *value* takes a *state* and a *player*. In addition, a *limit* is given to define the recursion depth, which limits the number of next states which are calculated and evaluated. Similar to the function *utility*, the function *value* returns a value from the set {-1, 0. +1}. The base case of the recursive function *value* is the case that the game is finished or if the limit has reached the value 0. In these cases, the *utility* function is called. \n",
    "\n",
    "In the other cases, the next states are computed for both players alternately until the limit is reached or the game reaches a finished state. Bacause the gains of the oppoenent are the losses of player p, the negative output of *value(n, o)* is taken when calculating the current game value to the opponent.   "
   ]
  },
  {
   "cell_type": "code",
   "execution_count": 31,
   "id": "36015fcc",
   "metadata": {
    "cell_id": "00062-15963ce2-44f0-41c7-8b49-eeb2bec9a42b",
    "deepnote_cell_type": "code",
    "deepnote_to_be_reexecuted": false,
    "execution_millis": 1,
    "execution_start": 1645543221703,
    "source_hash": "cd435cea"
   },
   "outputs": [],
   "source": [
    "@memoize\n",
    "def value(state, player_num, limit):\n",
    "    limit -= 1\n",
    "    if finished(state) or next_states(state, player_num)==[] or limit==0:\n",
    "        return utility(state, player_num)\n",
    "    other = other_player(player_num)\n",
    "    return max([-value(ns, other,limit) for ns,_ in next_states(state, player_num)])"
   ]
  },
  {
   "cell_type": "markdown",
   "id": "270844bb",
   "metadata": {},
   "source": [
    "<b style=\"background-color:yellow; color:blue\">Comments:</b> \n",
    "* How is it possible that `finished(state)` is `False` but `next_states(state, player_num)==[]`?\n",
    "* This is not good enough without the use of a heuristic.  If `limit == 0`, then instead of\n",
    "  returning the `utility`, a value computed by a heuristic should be computed.\n",
    "* You should analyze how much the program speeds up because of memoization.\n",
    "* Logistische Funktion von Verhältnis - 1."
   ]
  },
  {
   "cell_type": "code",
   "execution_count": 32,
   "id": "09d0aefe",
   "metadata": {
    "cell_id": "00063-4491526f-8e84-471f-80c5-4ff4762e4eb5",
    "deepnote_cell_type": "code",
    "deepnote_output_heights": [
     252,
     611
    ],
    "deepnote_to_be_reexecuted": false,
    "execution_millis": 426,
    "execution_start": 1645543232282,
    "source_hash": "9f13a87a"
   },
   "outputs": [
    {
     "name": "stdout",
     "output_type": "stream",
     "text": [
      "1\n"
     ]
    }
   ],
   "source": [
    "print(value([[1, 8, 1, 0, 1, 2, 16], [1, 4, 0, 4, 15, 14, 5]], 0, 3))"
   ]
  },
  {
   "cell_type": "markdown",
   "id": "c8676200",
   "metadata": {
    "cell_id": "00006-52148c2a-42a1-498f-928f-c3e9602185a0",
    "deepnote_cell_type": "markdown"
   },
   "source": [
    "# Player Class\n",
    "\n",
    "#### Attributes:\n",
    "- *player_type*\n",
    "- *number*\n",
    "- *name*\n",
    "\n",
    "#### Methods:\n",
    "\n",
    "- *\\_\\_init__(number, name)*\n",
    "- *\\_\\_str__()*\n",
    "- *_available_house(own_house)*\n",
    "- *choose_house(current_state)*\n",
    "\n",
    "The class <tt>Player</tt> is the superclass which represents a Kalah game player. In Kalah there are exactly two players which compete against each other. \n",
    "\n",
    "The attribute *player_type* is only for subclasses of the <tt>Player</tt> class. It contains a string representation of the name of the <tt>Player</tt> subclass. This makes it possible to print the specific type of a <tt>Player</tt> object. This is for example used for creating log files. \n",
    "\n",
    "The attribute *number* of a player has either the value 0 or 1 depending on the order in which the players take their turns.\n",
    "If the number of the player is 0, they start the game by having the first turn.\n",
    "Additionally, *number* represents the index of the state list which contains the player's list of house values.\n",
    "\n",
    "The attribute *name* is a string which represents the player's name in the UI or print and logging messages.\n",
    "\n",
    "### Method: __init__\n",
    "The method *\\_\\_init__(number, name)* initializes the <tt>Player</tt> object and checks if the given *number* is either 0 or 1 and if the given *name* is a string. If one of these criteria is not met, an error message is raised.\n",
    "\n",
    "### Method: __str__\n",
    "The method *\\_\\_str__()* defines the *name* of the <tt>Player</tt> object as their string representative for print messages."
   ]
  },
  {
   "cell_type": "code",
   "execution_count": 33,
   "id": "188f99f4",
   "metadata": {
    "cell_id": "00007-80dcf176-adc9-4577-a325-075cde6a4c00",
    "deepnote_cell_type": "code",
    "deepnote_to_be_reexecuted": false,
    "execution_millis": 1,
    "execution_start": 1645539100726,
    "source_hash": "2c2b0d32"
   },
   "outputs": [],
   "source": [
    "class Player:\n",
    "    \n",
    "    def __init__(self, number, name):\n",
    "        \n",
    "        if number in [0,1]:\n",
    "            self.number = number\n",
    "        else:\n",
    "            raise ValueError(\"Number of player must be 0 or 1!\")\n",
    "        if isinstance(name, str):\n",
    "            self.name = name\n",
    "        else:\n",
    "            raise ValueError(\"Name must be a string!\")\n",
    "            \n",
    "    def __str__(self):\n",
    "        return self.name"
   ]
  },
  {
   "cell_type": "markdown",
   "id": "f44b37db",
   "metadata": {
    "cell_id": "00008-a3cdebeb-230d-42ed-8a70-a40d31015d0e",
    "deepnote_cell_type": "markdown"
   },
   "source": [
    "### Method: _available_houses\n",
    "\n",
    "The private method *_available_houses(own_houses)* receives a list which represents the player's houses and their store. The method returns a list with the indizes of all houses which contain at least one seed (list indizes<b style=\"background-color:darkred; color:lightgreen\">indices</b> with a value higher than null)."
   ]
  },
  {
   "cell_type": "code",
   "execution_count": 34,
   "id": "6ff2e7c0",
   "metadata": {
    "cell_id": "00009-23dabb0f-72e5-4cae-bb76-f2e804a41eaa",
    "deepnote_cell_type": "code",
    "deepnote_to_be_reexecuted": false,
    "execution_millis": 4,
    "execution_start": 1645539100728,
    "source_hash": "bc7b5146"
   },
   "outputs": [],
   "source": [
    "def _available_houses(self, own_houses):\n",
    "    available = []\n",
    "    for i in range(len(own_houses)):\n",
    "        if own_houses[i] != 0:\n",
    "            available.append(i)\n",
    "    return available\n",
    "\n",
    "Player._available_houses = _available_houses"
   ]
  },
  {
   "cell_type": "markdown",
   "id": "a9bc16c3",
   "metadata": {},
   "source": [
    "<b style=\"background-color:yellow; color:blue\">Comments:</b>  \n",
    "The body of the function `_available_houses` can be written in one line:"
   ]
  },
  {
   "cell_type": "code",
   "execution_count": 35,
   "id": "4574a764",
   "metadata": {},
   "outputs": [],
   "source": [
    "def _available_houses(self, own_houses):\n",
    "    return [i for i, n in enumerate(own_houses) if n != 0]\n",
    "\n",
    "Player._available_houses = _available_houses"
   ]
  },
  {
   "cell_type": "markdown",
   "id": "e696d30f",
   "metadata": {
    "cell_id": "00010-3a268f04-fb70-4702-8581-12a08e44ceaf",
    "deepnote_cell_type": "markdown"
   },
   "source": [
    "### Method: choose_house\n",
    "\n",
    "The method *choose_house(current_state)* receives the current state of the Kalah board and returns the index of the chosen house from the player's house list. <s>This method differentiates the <tt>Player</tt> subclasses</s> <b style=\"background-color:darkred; color:lightgreen\">This method is used to distinguish the player subclasses</b>\n",
    "and is therefore <s>differently implemented</s> <b style=\"background-color:darkred; color:lightgreen\">implemented differently</b> in each of them. There is no basic implementation of this method in the <tt>Player</tt> class. This is why in the class <tt>Kalah_Game</tt> only subclasses of <tt>Player</tt> are accepted as players. Therefore, this class is intended as an abstract class."
   ]
  },
  {
   "cell_type": "code",
   "execution_count": 36,
   "id": "f3c20907",
   "metadata": {
    "cell_id": "00011-066523ef-8c3e-47a8-b983-7f60276a6069",
    "deepnote_cell_type": "code",
    "deepnote_to_be_reexecuted": false,
    "execution_millis": 0,
    "execution_start": 1645539100764,
    "source_hash": "98896a25"
   },
   "outputs": [],
   "source": [
    "def choose_house(self, current_state):\n",
    "    pass\n",
    "\n",
    "Player.choose_house = choose_house"
   ]
  },
  {
   "cell_type": "markdown",
   "id": "8d4cbed1",
   "metadata": {
    "cell_id": "00012-e9b53e25-7ec5-46b0-a0bd-117ddbac81d5",
    "deepnote_cell_type": "markdown"
   },
   "source": [
    "## Tests of Player Class"
   ]
  },
  {
   "cell_type": "markdown",
   "id": "8b3accd7",
   "metadata": {
    "cell_id": "00013-59078ffb-4032-40f8-a54e-2d3037ac076c",
    "deepnote_cell_type": "markdown"
   },
   "source": [
    "### 1. Player number must be 0 or 1"
   ]
  },
  {
   "cell_type": "code",
   "execution_count": 37,
   "id": "15ff6cbd",
   "metadata": {
    "cell_id": "00014-a4f2741d-ab65-495a-a187-f621c71f3941",
    "deepnote_cell_type": "code",
    "deepnote_to_be_reexecuted": false,
    "execution_millis": 6,
    "execution_start": 1645539100765,
    "source_hash": "50141332"
   },
   "outputs": [
    {
     "name": "stdout",
     "output_type": "stream",
     "text": [
      "Number of player must be 0 or 1!\n"
     ]
    }
   ],
   "source": [
    "try:\n",
    "    Player(2, \"Player1\")\n",
    "except ValueError as e:\n",
    "    print(e)"
   ]
  },
  {
   "cell_type": "markdown",
   "id": "607b5bd8",
   "metadata": {
    "cell_id": "00015-7fb50cc2-7733-4b64-85c8-ab54cbde9db2",
    "deepnote_cell_type": "markdown"
   },
   "source": [
    "### 2. Player name must be a string"
   ]
  },
  {
   "cell_type": "code",
   "execution_count": 38,
   "id": "2211b9e4",
   "metadata": {
    "cell_id": "00016-ebad97c6-77c7-4e9e-85ce-37c10608769b",
    "deepnote_cell_type": "code",
    "deepnote_to_be_reexecuted": false,
    "execution_millis": 6,
    "execution_start": 1645539100765,
    "source_hash": "ac300006"
   },
   "outputs": [
    {
     "name": "stdout",
     "output_type": "stream",
     "text": [
      "Name must be a string!\n"
     ]
    }
   ],
   "source": [
    "try:\n",
    "    Player(0, 3)\n",
    "except ValueError as e:\n",
    "    print(e)"
   ]
  },
  {
   "cell_type": "markdown",
   "id": "86cee375",
   "metadata": {
    "cell_id": "00017-718a37a1-4eb8-489a-baeb-0d7358be3ec1",
    "deepnote_cell_type": "markdown"
   },
   "source": [
    "### 3. Successful Player creation"
   ]
  },
  {
   "cell_type": "code",
   "execution_count": 39,
   "id": "26da87fa",
   "metadata": {
    "cell_id": "00018-98afb551-3360-420d-92b6-bbf1d26334f9",
    "deepnote_cell_type": "code",
    "deepnote_output_heights": [
     21
    ],
    "deepnote_to_be_reexecuted": false,
    "execution_millis": 7,
    "execution_start": 1645539100770,
    "source_hash": "cf4eee45"
   },
   "outputs": [
    {
     "data": {
      "text/plain": [
       "<__main__.Player at 0x218adcbecb0>"
      ]
     },
     "execution_count": 39,
     "metadata": {},
     "output_type": "execute_result"
    }
   ],
   "source": [
    "Player(0, \"Player1\")"
   ]
  },
  {
   "cell_type": "markdown",
   "id": "19dfc0b0",
   "metadata": {
    "cell_id": "00019-fe0ccafc-fbc2-427b-a592-68d9d216e326",
    "deepnote_cell_type": "markdown"
   },
   "source": [
    "## Human Player Class\n",
    "\n",
    "The class <tt>Human</tt> inherits from <tt>Player</tt>.\n",
    "It is used for humans playing against each other or against one of the AIs. \n",
    "\n",
    "<b style=\"background-color:yellow; color:blue\">Comments:</b>\n",
    "The parameters of all methods should be discussed."
   ]
  },
  {
   "cell_type": "code",
   "execution_count": 40,
   "id": "93818aa6",
   "metadata": {
    "cell_id": "00020-35fe8f63-685a-47b7-b765-7fd0b60fb53f",
    "deepnote_cell_type": "code",
    "deepnote_to_be_reexecuted": false,
    "execution_millis": 1,
    "execution_start": 1645539100775,
    "source_hash": "bdbb780c"
   },
   "outputs": [],
   "source": [
    "class Human(Player):\n",
    "    \n",
    "    def __init__(self, number, name):\n",
    "        self.player_type = \"Human\"\n",
    "        super().__init__(number, name)"
   ]
  },
  {
   "cell_type": "markdown",
   "id": "e910d368",
   "metadata": {
    "cell_id": "00021-cf566414-d74e-46ca-b9c7-cecf8c568fdc",
    "deepnote_cell_type": "markdown"
   },
   "source": [
    "### Method: choose_house\n",
    "The method *choose_house(current_state)* for the <tt>Human</tt> class is implemented as follows:\n",
    "\n",
    "At first the own <s>house</s><b style=\"background-color:darkred; color:lightgreen\">houses</b> are extracted from the game state and the available house <s>indizes</s><b style=\"background-color:darkred; color:lightgreen\">indices</b> are calculated using the method *_available_houses*. Afterwards the human player is asked to choose one of the available house via a input field. With limiting the player to the available house, it is easier to detect a correct input. If the player enters an <s>unvalid</s><b style=\"background-color:darkred; color:lightgreen\">invalid</b> value, they are asked to input a value again until a valid value is given. The index of the corresponding house is returned."
   ]
  },
  {
   "cell_type": "code",
   "execution_count": 41,
   "id": "2da4c591",
   "metadata": {
    "cell_id": "00022-df2b72cd-61b8-4dba-82c3-094e61c56fbb",
    "deepnote_cell_type": "code",
    "deepnote_to_be_reexecuted": false,
    "execution_millis": 6,
    "execution_start": 1645539100777,
    "source_hash": "659e93f0"
   },
   "outputs": [],
   "source": [
    "def choose_house(self, current_state):\n",
    "    own_t,store = current_state[self.number][:6],current_state[self.number][6]\n",
    "    available = self._available_houses(own_t)\n",
    "\n",
    "    i_string = \"Choose one of the available houses:\\n\"\n",
    "    for i in available:\n",
    "        i_string += f\"{gOrder[self.number][i]}, \"\n",
    "\n",
    "    choice_str = \"\"\n",
    "    letter_numbers = {gOrder[1][i]:i for i in range(6)}\n",
    "    \n",
    "    while choice_str not in [k for k in letter_numbers if letter_numbers[k] in available]:\n",
    "        choice_str = input(i_string[:-2]+\"\\n\").lower()\n",
    "\n",
    "    choice = letter_numbers[choice_str]\n",
    "    IPython.display.clear_output()\n",
    "    return choice\n",
    "    \n",
    "Human.choose_house = choose_house"
   ]
  },
  {
   "cell_type": "markdown",
   "id": "8f0bac8f",
   "metadata": {
    "cell_id": "00023-5061fc16-8fdb-4bf4-b6f8-2ec3dd7b80ad",
    "deepnote_cell_type": "markdown"
   },
   "source": [
    "### Test of Human Player Class"
   ]
  },
  {
   "cell_type": "code",
   "execution_count": 42,
   "id": "419152db",
   "metadata": {
    "cell_id": "00024-f6a38e74-2264-4792-b5d7-a09d19c5fa8a",
    "deepnote_cell_type": "code",
    "deepnote_to_be_reexecuted": false,
    "execution_millis": 0,
    "execution_start": 1645539100787,
    "source_hash": "c543ce6e"
   },
   "outputs": [],
   "source": [
    "human = Human(1,\"Hans\")"
   ]
  },
  {
   "cell_type": "code",
   "execution_count": 43,
   "id": "21bce839",
   "metadata": {
    "cell_id": "00025-f333aab2-3fb7-4eba-b9d1-e9776db8e693",
    "deepnote_cell_type": "code",
    "deepnote_to_be_reexecuted": false,
    "execution_millis": 1,
    "execution_start": 1645539100817,
    "source_hash": "5ed9cd1b"
   },
   "outputs": [],
   "source": [
    "#human.choose_house([[6,6,6,6,6,6,0], [6,0,6,6,4,6,0]])"
   ]
  },
  {
   "cell_type": "markdown",
   "id": "6e543c57",
   "metadata": {
    "cell_id": "00026-8fa58f2a-aa20-41e4-9ca7-fcaed44f3d8f",
    "deepnote_cell_type": "markdown"
   },
   "source": [
    "## Repeated Player Class\n",
    "\n",
    "The class <tt>Repeated_Player</tt> inherits from <tt>Player</tt>.\n",
    "It is used for repeating the behavior of a player from a previous game on basis of a given log file.\n",
    "\n",
    "For this reason it takes the **logged_moves** information from the logged game and saves it as *moves_to_repeat*, so that these moves can be replicated in the *choose_house* method."
   ]
  },
  {
   "cell_type": "code",
   "execution_count": 44,
   "id": "e27a39e6",
   "metadata": {
    "cell_id": "00027-bdb85e54-31ec-41fe-bdf7-6f6ada13274e",
    "deepnote_cell_type": "code",
    "deepnote_to_be_reexecuted": false,
    "execution_millis": 0,
    "execution_start": 1645539100818,
    "source_hash": "aa9ca2b9"
   },
   "outputs": [],
   "source": [
    "class Repeated_Player(Player):\n",
    "    \n",
    "    def __init__(self, number, name, logged_moves):\n",
    "        self.player_type = \"Repeated_Player\"\n",
    "        self.moves_to_repeat = logged_moves\n",
    "        super().__init__(number, name)"
   ]
  },
  {
   "cell_type": "markdown",
   "id": "b027b53e",
   "metadata": {
    "cell_id": "00028-8bfa8e52-2d15-4f8f-8266-322277a23ff6",
    "deepnote_cell_type": "markdown"
   },
   "source": [
    "### Method: choose_house\n",
    "The method *choose_house(current_state)* for the <tt>Repeated_Player</tt> class is implemented as follows:\n",
    "\n",
    "The list *moves_to_repeat* is handled as a stack in this method. This means that one after one, the moves which stand at the beginning of the list are extracted and removed from the list. In the beginning of the method this process is repeated until the current state of the game matches the state of the last removed move from the *moves_to_repeat* list. This means, that the move which the player will do next is should now be at the beginning of the list.\n",
    "\n",
    "In the next step, this move is also extracted from the list, but not removed as it could contain the current state for the next move of the player if they gain another turn. To make sure, that this move was actually done by this player in the logged game, the logged move player number is compared to the actual player number. If the numbers match, the choice from that move is returned."
   ]
  },
  {
   "cell_type": "code",
   "execution_count": 45,
   "id": "ae06bb30",
   "metadata": {
    "cell_id": "00029-f79f2556-68e8-4963-a4d1-437eac70091c",
    "deepnote_cell_type": "code",
    "deepnote_to_be_reexecuted": false,
    "execution_millis": 0,
    "execution_start": 1645539100819,
    "source_hash": "1f15bf5"
   },
   "outputs": [],
   "source": [
    "def choose_house(self, current_state):\n",
    "    \n",
    "    state = self.moves_to_repeat.pop(0)[2]\n",
    "    while state != current_state:\n",
    "        if len(self.moves_to_repeat) == 0:\n",
    "            raise ValueError(\"There is no move left to repeat!\")\n",
    "        state = self.moves_to_repeat.pop(0)[2]\n",
    "        \n",
    "    this_move = self.moves_to_repeat[0]\n",
    "    if this_move[0] not in (-1,self.number):\n",
    "        raise ValueError(\"This move was originally not played by this player!\")\n",
    "        \n",
    "    choice = this_move[1]\n",
    "        \n",
    "    return choice\n",
    "\n",
    "Repeated_Player.choose_house = choose_house"
   ]
  },
  {
   "cell_type": "markdown",
   "id": "60c02fa2",
   "metadata": {
    "cell_id": "00030-badbced2-0020-47dd-99e3-5687174e7e0b",
    "deepnote_cell_type": "markdown"
   },
   "source": [
    "## Random_AI Player Class\n",
    "\n",
    "The class <tt>Random_AI</tt> inherits from <tt>Player</tt>. It is a simple AI player implementation which chooses <s>house</s><b style=\"background-color:darkred; color:lightgreen\">the houses</b> at random.\n",
    "\n",
    "The class <tt>Random_AI</tt> has a modified *\\_\\_init__* function which has an additional argument *seed* for setting a seed for the **random** library functions. Whenever the same seed is set, the <tt>random</tt> function creates the same random numbers or chooses the same random objects from a list. Adding this argument eases the logging and debbuging of <tt>Random_AI</tt> players."
   ]
  },
  {
   "cell_type": "code",
   "execution_count": 46,
   "id": "fa0f54c3",
   "metadata": {
    "cell_id": "00031-7d3c5b0b-269f-4204-af8b-1c6eabdbb3db",
    "deepnote_cell_type": "code",
    "deepnote_to_be_reexecuted": false,
    "execution_millis": 4,
    "execution_start": 1645539100821,
    "source_hash": "96c059a4"
   },
   "outputs": [],
   "source": [
    "import random as rn\n",
    "\n",
    "class Random_AI(Player):\n",
    "    \n",
    "    def __init__(self, number, name, seed):\n",
    "        self.player_type = \"Random_AI\"\n",
    "        self.seed = seed\n",
    "        rn.seed(seed)\n",
    "        super().__init__(number, name)"
   ]
  },
  {
   "cell_type": "markdown",
   "id": "9d039bfa",
   "metadata": {
    "cell_id": "00032-ff768f24-2df3-455c-8f0b-8011fdc47066",
    "deepnote_cell_type": "markdown"
   },
   "source": [
    "### Method: choose_house\n",
    "The method *choose_house(current_state)* for the <tt>Random_AI</tt> class is implemented as follows:\n",
    "\n",
    "At first the own <s>house</s> are extracted from the game state and the available house indizes are calculated using the method *_available_houses*. From the list of available house indizes, one is chosen at random using the function **choice** from the library **random**. Afterwards, this value is returned."
   ]
  },
  {
   "cell_type": "code",
   "execution_count": 47,
   "id": "5e741cf3",
   "metadata": {
    "cell_id": "00033-ff262724-0eed-43ef-a372-5d1361e7a7ec",
    "deepnote_cell_type": "code",
    "deepnote_to_be_reexecuted": false,
    "execution_millis": 1,
    "execution_start": 1645539100825,
    "source_hash": "c96d833a"
   },
   "outputs": [],
   "source": [
    "def choose_house(self, current_state):\n",
    "    own_t,safe = current_state[self.number][:6],current_state[self.number][6]\n",
    "    available = self._available_houses(own_t)\n",
    "    choice = rn.choice(available)\n",
    "\n",
    "    return choice\n",
    "\n",
    "Random_AI.choose_house = choose_house"
   ]
  },
  {
   "cell_type": "markdown",
   "id": "407c3f15",
   "metadata": {
    "cell_id": "00034-76564f5a-9753-4b32-baac-88528e478ba9",
    "deepnote_cell_type": "markdown"
   },
   "source": [
    "### Test of Random_AI Player Class"
   ]
  },
  {
   "cell_type": "code",
   "execution_count": 48,
   "id": "3c3a81d4",
   "metadata": {
    "cell_id": "00035-1d9f6cc3-0b1d-456e-8e40-3786ebe9cca3",
    "deepnote_cell_type": "code",
    "deepnote_to_be_reexecuted": false,
    "execution_millis": 0,
    "execution_start": 1645539100832,
    "source_hash": "68533d11"
   },
   "outputs": [],
   "source": [
    "ai = Random_AI(0,\"Rando\", 1)"
   ]
  },
  {
   "cell_type": "code",
   "execution_count": 49,
   "id": "7c04348a",
   "metadata": {
    "cell_id": "00036-0bb86c25-ba78-4abe-a223-26821ce359e2",
    "deepnote_cell_type": "code",
    "deepnote_output_heights": [
     21
    ],
    "deepnote_to_be_reexecuted": false,
    "execution_millis": 11,
    "execution_start": 1645539100834,
    "source_hash": "ceb5a2ab"
   },
   "outputs": [
    {
     "data": {
      "text/plain": [
       "1"
      ]
     },
     "execution_count": 49,
     "metadata": {},
     "output_type": "execute_result"
    }
   ],
   "source": [
    "ai.choose_house([[6,6,6,6,6,6,0], [6,6,6,6,6,6,0]])"
   ]
  },
  {
   "cell_type": "markdown",
   "id": "c8aadd47",
   "metadata": {
    "cell_id": "fcf04a8a-a818-42d4-8ea0-c2f3a7455a4a",
    "deepnote_cell_type": "markdown",
    "tags": []
   },
   "source": [
    "# Minimax Player Class"
   ]
  },
  {
   "cell_type": "markdown",
   "id": "9b95861d",
   "metadata": {
    "cell_id": "00064-7ac561aa-0b28-45c9-b109-ddf0492d7828",
    "deepnote_cell_type": "markdown"
   },
   "source": [
    "The class <tt>Minimax</tt> inherits from <tt>Player</tt>. It is an AI player implementation which chooses a following state by calculating all possible next states for a defined limit depth. It then chooses the option which guarantees them a higher number of seeds in their store than their opponent. If there are several options, the choice which results in the highest number of seeds in the player's store is chosen.\n",
    "\n",
    "The class <tt>Minimax</tt> has a modified *\\_\\_init__* function which takes the additional argument *limit* which is only relevant to the method *choose_house*. There the value of *limit* defines, for how many recursion steps the function *value* should be called. This means that *limit* defines how many next game states should be calculated to form the decision of the <tt>Minimax</tt> AI.\n",
    "\n",
    "The *limit* should be chosen carefully, as higher limits increase the recursion depth and computing time exponentially. Additionally, *limit* has to be greater than 1 at all times. \n",
    "\n",
    "<b style=\"background-color:yellow; color:blue\">Comments:</b>\n",
    "Only the computing time increases exponentially.\n",
    "\n",
    "Ideally *limit* should be a number from 2 - 4 (incl.)."
   ]
  },
  {
   "cell_type": "code",
   "execution_count": 50,
   "id": "b40080da",
   "metadata": {
    "cell_id": "e9dae061-9232-42f6-82bf-c6a0a2a2ab9a",
    "deepnote_cell_type": "code",
    "deepnote_to_be_reexecuted": false,
    "execution_millis": 9,
    "execution_start": 1645542162258,
    "source_hash": "2c68491d",
    "tags": []
   },
   "outputs": [],
   "source": [
    "class Minimax(Player):\n",
    "    \n",
    "    def __init__(self, number, name, limit):\n",
    "        self.player_type = \"Minimax\"\n",
    "        self.limit = limit\n",
    "        super().__init__(number, name)"
   ]
  },
  {
   "cell_type": "markdown",
   "id": "673b637a",
   "metadata": {
    "cell_id": "ea046153-9726-436b-b20a-bf47a21188b9",
    "deepnote_cell_type": "markdown",
    "tags": []
   },
   "source": [
    "### Method: choose_house\n",
    "The method *choose_house(self,current_state)* is the core method of the <tt>Minimax</tt> algorithm. It calculates the best choices for a <tt>Minimax</tt> player, using the previously defined functions *value(state, player_num, limit)* and *next_states(state, player_num)*.\n",
    "\n",
    "First, the best possible value from {-1, 0, 1} (meaning loss, draw or win) that can be reached with the current state of the game is calculated. Following that, all next possible states are checked and only those are elected as eligible, which reach the previously calculated best possible value.\n",
    "\n",
    "Afterwards, the best choice is being made by comparing all eligible choices for the highest player's Kalah store value."
   ]
  },
  {
   "cell_type": "code",
   "execution_count": 51,
   "id": "97afa571",
   "metadata": {
    "cell_id": "6537ac49-bc9e-4f28-94d1-179fc448c345",
    "deepnote_cell_type": "code",
    "deepnote_to_be_reexecuted": false,
    "execution_millis": 1,
    "execution_start": 1645541018830,
    "source_hash": "d44fc4ac",
    "tags": []
   },
   "outputs": [],
   "source": [
    "def choose_house(self, current_state):\n",
    "    \n",
    "    NS = next_states(current_state, self.number)\n",
    "    bestVal = value(current_state, self.number,self.limit)\n",
    "    \n",
    "    BestChoices = [(choices[0],state[self.number][6]) for state,choices in NS if -value(state, other_player(self.number),self.limit-1) == bestVal]\n",
    "    \n",
    "    if len(BestChoices) == 0:\n",
    "        raise ValueError(f'No choice for Minimax found! \\nbestVal: {bestVal}\\nBestChoices: {BestChoices}\\nnext_states: {NS}')\n",
    "\n",
    "    # Find best choice, where number of seeds in own Store is maximized (out of next_states)\n",
    "    best_choice, best_store = BestChoices[0]\n",
    "    for choice, store in BestChoices:\n",
    "        if store > best_store:\n",
    "            best_choice = choice\n",
    "            best_store = store\n",
    "\n",
    "    return best_choice\n",
    "\n",
    "Minimax.choose_house = choose_house"
   ]
  },
  {
   "cell_type": "markdown",
   "id": "0820eeb5",
   "metadata": {},
   "source": [
    "<b style=\"background-color:yellow; color:blue\">Comments:</b>\n",
    "You should randomly choose one of the optimal moves."
   ]
  },
  {
   "cell_type": "code",
   "execution_count": 52,
   "id": "cb8a363f",
   "metadata": {
    "cell_id": "29af7bce-0085-41a1-91c3-16d766b0fe67",
    "deepnote_cell_type": "code",
    "deepnote_to_be_reexecuted": false,
    "execution_millis": 19,
    "execution_start": 1645540952933,
    "source_hash": "3bef931f",
    "tags": []
   },
   "outputs": [
    {
     "data": {
      "text/plain": [
       "5"
      ]
     },
     "execution_count": 52,
     "metadata": {},
     "output_type": "execute_result"
    }
   ],
   "source": [
    "Minimax(1,\"Mini\",3).choose_house([[7, 7, 6, 6, 6, 6, 0], [0, 0, 8, 8, 8, 8, 2]])"
   ]
  },
  {
   "cell_type": "markdown",
   "id": "91bfb901",
   "metadata": {
    "cell_id": "00037-0314b2eb-7c77-45db-9ccf-4aeec075b2a6",
    "deepnote_cell_type": "markdown"
   },
   "source": [
    "# Kalah_Game Class\n",
    "\n",
    "<b style=\"background-color:yellow; color:blue\">Comments:</b>\n",
    "Kalah is usually played with only 4 seeds in every house.  There should be a parameter to control this number.\n",
    "\n",
    "#### Attributes:\n",
    "- *state*\n",
    "- *players*\n",
    "- *current_player*\n",
    "- *display_mode*\n",
    "- *logged_moves*\n",
    "\n",
    "#### Methods:\n",
    "\n",
    "- *\\_\\_init__(players)*\n",
    "- *_show_state(state)*\n",
    "- *show_state()*\n",
    "- *draw_board()*\n",
    "- *_draw_seeds()*\n",
    "- *_draw_numbers()*\n",
    "- *start()*\n",
    "- *log_to_file(file_id)*\n",
    "\n",
    "The class <tt>Kalah_Game</tt> is the core of the Kalah game implementation. It contains all information on the game, including the current game state.\n",
    "\n",
    "The attribute *state* represents the state of the Kalah board which is defined by the number of seeds laying in each of the player's house and their stores. It is implemented by a nested list which contains a list for the house on each of the two players' sides. The last index of each of the lists is the store of that player. At the start of the game, where the stores are empty and there are six seeds in every house, the implemented representation of the state for example is: [[6,6,6,6,6,6,0], [6,6,6,6,6,6,0]].\n",
    "\n",
    "The attribute *players* is a list of the two players that play the game. They must be instances of a subclass of the <tt>Player</tt> class. The order in which they take turns is determined by their <tt>Player</tt> *number*: The player with the number 0 goes first.\n",
    "\n",
    "The attribute *current_player* has either the value 0 or 1. It takes track of which player's turn it currently is. If *current_player* has the value 0 for example, it is the turn of the player which stands at index 0 of the *players* list and therefore also has the <tt>Player</tt>'s class attribute *number* of value 0.\n",
    "\n",
    "The attribute *display_mode* defines which way the game is displayed in the output console. The possible values are 0, 1 and 2 and are defined as follows:\n",
    "- 0: No output is displayed. The game is only logged to the log file\n",
    "- 1: The board is only displayed using the print method *_show_state*\n",
    "- 2: The board is displayed with the function *draw_board* using **ipycanvas** for rendering\n",
    "\n",
    "The attribute *logged_moves* is a list containing a tuple for every move that is made in the game. This list is necessary for the method *log_to_file*. Each tuple has the player number of the player that have made the move at the first index, the index of the chosen house at the second index and the resulting game state as the third index. The start state is saved as the first move in the list, having -1 as the player number and -1 as the chosen house number. As Python uses references, the states are saved in this list by creating deep copies with the library **copy**. At the beginning of the game *logged_moves* looks like this:\n",
    "\n",
    "\\[(-1, -1, [[6,6,6,6,6,6,0], [6,6,6,6,6,6,0]])\\]\n",
    "\n",
    "### Method: __init__\n",
    "The method *\\_\\_init__(players)* initializes the game by setting the *state* to the initial state (seen above), initializing a board object and setting the *players* list using the received \"players\" argument. Before setting the *players* list, the received list is checked for the number of items it contains (must be exactly 2) and if the items in the list are both instances of a <tt>Player</tt> subclass (but not of the class <tt>Player</tt> itself). In error case, matching error messages are raised."
   ]
  },
  {
   "cell_type": "code",
   "execution_count": 53,
   "id": "fd058460",
   "metadata": {
    "cell_id": "00038-4fae6689-c6ee-4e40-9064-ed5a491a8ad2",
    "deepnote_cell_type": "code",
    "deepnote_to_be_reexecuted": false,
    "execution_millis": 24,
    "execution_start": 1645539100903,
    "source_hash": "7250bccb"
   },
   "outputs": [],
   "source": [
    "class Kalah_Game():\n",
    "    \n",
    "    def __init__(self, players, display_mode):\n",
    "        self.state = [[4,4,4,4,4,4,0], [4,4,4,4,4,4,0]]\n",
    "        self.turn = 0\n",
    "        \n",
    "        if len(players) != 2:\n",
    "            raise ValueError(\"There must be exactly two players!\")\n",
    "        if not ((isinstance(players[0], Player) and type(players[0]) != Player) \n",
    "            and (isinstance(players[1], Player) and type(players[1]) != Player)):\n",
    "            raise ValueError(\"Both players must be of instances of a subclass of the class Player!\")\n",
    "        if {players[0].number, players[1].number} != {0,1}:\n",
    "            raise ValueError(\"One of the players must be self.number 0 and the other one self.number 1!\")\n",
    "        \n",
    "        self.players = players\n",
    "        self.current_player = 0\n",
    "        \n",
    "        if display_mode not in range(3):\n",
    "            raise ValueError(\"The display mode must be 0, 1 or 2!\")\n",
    "        self.display_mode = display_mode\n",
    "        \n",
    "        self.logged_moves = [(-1,-1,copy.deepcopy(self.state))]"
   ]
  },
  {
   "cell_type": "markdown",
   "id": "39c24c4e",
   "metadata": {
    "cell_id": "00041-35501014-dbb5-460e-8102-6d487e6ef662",
    "deepnote_cell_type": "markdown"
   },
   "source": [
    "### Methods: _show_state and show_state\n",
    "The private method *_show_state(state)* creates a formatted string which represents the received state and prints it to the console. It can be used as an alternative to the **ipycanvas** game UI.\n",
    "\n",
    "The method *show_state()* calls the private method *_show_state(state)* with the current game state (attribute *state*)."
   ]
  },
  {
   "cell_type": "code",
   "execution_count": 54,
   "id": "b5cc34de",
   "metadata": {
    "cell_id": "00042-c88d57a9-5d31-455c-bb5a-284e6dec53ab",
    "deepnote_cell_type": "code",
    "deepnote_to_be_reexecuted": false,
    "execution_millis": 0,
    "execution_start": 1645539100928,
    "source_hash": "ab4973bc"
   },
   "outputs": [],
   "source": [
    "def _show_state(self, state):\n",
    "    s = f''\n",
    "\n",
    "    s += f'{self.players[0].name}:\\t\\t\\t'\n",
    "    for j in range(6,-1,-1):\n",
    "        s += f'{gOrder[0][j]}: {state[0][j]}  '\n",
    "    s += f'\\n'\n",
    "\n",
    "    s += f'{self.players[1].name}:\\t\\t\\t'\n",
    "    for j in range(7):\n",
    "        s += f'{gOrder[1][j]}: {state[1][j]}  '\n",
    "    s += f'\\n'\n",
    "\n",
    "    print(s)\n",
    "\n",
    "Kalah_Game._show_state = _show_state"
   ]
  },
  {
   "cell_type": "code",
   "execution_count": 55,
   "id": "7c10f09e",
   "metadata": {
    "cell_id": "00043-34db1702-e2d8-4abf-8943-ff1e975ec834",
    "deepnote_cell_type": "code",
    "deepnote_to_be_reexecuted": false,
    "execution_millis": 0,
    "execution_start": 1645539100929,
    "source_hash": "f307656f"
   },
   "outputs": [],
   "source": [
    "def show_state(self):\n",
    "    self._show_state(self.state)\n",
    "    \n",
    "Kalah_Game.show_state = show_state"
   ]
  },
  {
   "cell_type": "markdown",
   "id": "e5c74943",
   "metadata": {
    "cell_id": "00044-c89dc264-f1a7-494f-b15d-63dedf499d8b",
    "deepnote_cell_type": "markdown"
   },
   "source": [
    "### Method: draw_board\n",
    "The method *draw_board()* sets the required positional values for the methods *_draw_seeds()* and *_draw_numbers()*.\n",
    "\n",
    "It also translates the current state of the game to a dictionary so that the positional values can be related to the corresponding seed amount in the respective houses.\n",
    "\n",
    "Additionally this function creates a MultiCanvas for the display of the board. The first layer is the background and the second layer is the foreground.\n",
    "\n",
    "Afterwards this function calls the functions *_draw_seeds()* and *_draw_numbers()*.\n",
    "\n",
    "Finally the finished canvas gets displayed."
   ]
  },
  {
   "cell_type": "code",
   "execution_count": 56,
   "id": "286b4fa9",
   "metadata": {
    "cell_id": "00045-9ae47a98-0ea8-4a40-9608-5181c6065d82",
    "deepnote_cell_type": "code",
    "deepnote_to_be_reexecuted": false,
    "execution_millis": 1,
    "execution_start": 1645539100930,
    "source_hash": "25887e31"
   },
   "outputs": [],
   "source": [
    "def draw_board(self):\n",
    "    TOP_ROW_POSITION = (175,130)\n",
    "    HOUSE_OFFSETS = (90,145)\n",
    "    HOUSE_MAP={\n",
    "        'F':TOP_ROW_POSITION,\n",
    "        'E':(TOP_ROW_POSITION[0]+HOUSE_OFFSETS[0],TOP_ROW_POSITION[1]),\n",
    "        'D':(TOP_ROW_POSITION[0]+HOUSE_OFFSETS[0]*2,TOP_ROW_POSITION[1]),\n",
    "        'C':(TOP_ROW_POSITION[0]+HOUSE_OFFSETS[0]*3,TOP_ROW_POSITION[1]),\n",
    "        'B':(TOP_ROW_POSITION[0]+HOUSE_OFFSETS[0]*4,TOP_ROW_POSITION[1]),\n",
    "        'A':(TOP_ROW_POSITION[0]+HOUSE_OFFSETS[0]*5,TOP_ROW_POSITION[1]),\n",
    "        'a':(TOP_ROW_POSITION[0],TOP_ROW_POSITION[1]+HOUSE_OFFSETS[1]),\n",
    "        'b':(TOP_ROW_POSITION[0]+HOUSE_OFFSETS[0],TOP_ROW_POSITION[1]+HOUSE_OFFSETS[1]),\n",
    "        'c':(TOP_ROW_POSITION[0]+HOUSE_OFFSETS[0]*2,TOP_ROW_POSITION[1]+HOUSE_OFFSETS[1]),\n",
    "        'd':(TOP_ROW_POSITION[0]+HOUSE_OFFSETS[0]*3,TOP_ROW_POSITION[1]+HOUSE_OFFSETS[1]),\n",
    "        'e':(TOP_ROW_POSITION[0]+HOUSE_OFFSETS[0]*4,TOP_ROW_POSITION[1]+HOUSE_OFFSETS[1]),\n",
    "        'f':(TOP_ROW_POSITION[0]+HOUSE_OFFSETS[0]*5,TOP_ROW_POSITION[1]+HOUSE_OFFSETS[1]),\n",
    "    }\n",
    "    \n",
    "    canvas = MultiCanvas(2,width=800, height=400)\n",
    "    canvas[0].draw_image(Image.from_file('images/Board.png'),0,0)\n",
    "    \n",
    "    with hold_canvas(canvas):\n",
    "        self._draw_seeds(canvas[1],HOUSE_MAP)\n",
    "        self._draw_numbers(canvas[1],HOUSE_MAP)\n",
    "    display(canvas)\n",
    "\n",
    "Kalah_Game.draw_board = draw_board"
   ]
  },
  {
   "cell_type": "markdown",
   "id": "8a59613d",
   "metadata": {
    "cell_id": "00046-2ba1945a-5935-475c-869b-2b5dc99bd9ad",
    "deepnote_cell_type": "markdown"
   },
   "source": [
    "### Method: _draw_seeds\n",
    "The method *_draw_seeds()* reads the game of the state and accordingly draws seeds on the respective houses. Each seed gets drawn in a random position inside the house with an additional random rotation.\n",
    "\n",
    "To place the seeds accurately we must consider the width and height of the image of one seed. To do so we subtract the width and height from the final position chosen."
   ]
  },
  {
   "cell_type": "code",
   "execution_count": 57,
   "id": "0cdf355a",
   "metadata": {
    "cell_id": "00047-ef6d8645-ca23-413f-bc0b-4a04af788701",
    "deepnote_cell_type": "code",
    "deepnote_to_be_reexecuted": false,
    "execution_millis": 1,
    "execution_start": 1645539100936,
    "source_hash": "97b41d16"
   },
   "outputs": [],
   "source": [
    "def _draw_seeds(self,canvas,housemap):\n",
    "    HOUSE_RAD = 23\n",
    "    HOUSE_OFFSETS = (90,125)\n",
    "    seedsprites = [Image.from_file(f'images/Samen{i}.png') for i in range(1,6)]\n",
    "    seed_width = 15\n",
    "    seed_height = 15\n",
    "    \n",
    "    gamestate = self._state_to_dict()\n",
    "    for house in gamestate:\n",
    "        for seed in range(gamestate[house]):\n",
    "            seed_sprite = seedsprites[random.randrange(5)]\n",
    "            \n",
    "            if house == 'O':\n",
    "                centerX, centerY = (housemap['F'][0]-HOUSE_OFFSETS[0],random.randrange(housemap['F'][1],housemap['F'][1]+HOUSE_OFFSETS[1]))\n",
    "            elif house == 'o':\n",
    "                centerX, centerY = (housemap['F'][0]+HOUSE_OFFSETS[0]*6,random.randrange(housemap['F'][1],housemap['F'][1]+HOUSE_OFFSETS[1]))\n",
    "            else:\n",
    "                centerX, centerY = housemap[house]\n",
    "\n",
    "            r = HOUSE_RAD * math.sqrt(random.random())\n",
    "            theta = random.random() * 2 * math.pi\n",
    "            x = centerX + r * math.cos(theta)\n",
    "            y = centerY + r * math.sin(theta)\n",
    "            canvas.save()\n",
    "\n",
    "            #Rotate by random amount for variation\n",
    "            canvas.translate(x, y)\n",
    "            canvas.rotate(random.uniform(0.,math.pi))\n",
    "            canvas.translate(-x, -y)\n",
    "            canvas.draw_image(seed_sprite, x-seed_width, y-seed_height)\n",
    "            canvas.restore()\n",
    "\n",
    "Kalah_Game._draw_seeds = _draw_seeds"
   ]
  },
  {
   "cell_type": "markdown",
   "id": "58615f9a",
   "metadata": {
    "cell_id": "00048-9f6c842a-555f-425f-a71b-7e6d44a998c5",
    "deepnote_cell_type": "markdown"
   },
   "source": [
    "### Method: _draw_numbers\n",
    "The method *_draw_numbers()* reads the game of the state and accordingly draws numbers that represent the amount of seeds on the respective houses. \n",
    "\n"
   ]
  },
  {
   "cell_type": "code",
   "execution_count": 58,
   "id": "92af8f4f",
   "metadata": {
    "cell_id": "00049-54fa7903-fdfb-4a45-970f-1a34a8e8044e",
    "deepnote_cell_type": "code",
    "deepnote_to_be_reexecuted": false,
    "execution_millis": 2,
    "execution_start": 1645539100965,
    "source_hash": "5a5a88b2"
   },
   "outputs": [],
   "source": [
    "def _draw_numbers(self,canvas,housemap):\n",
    "    NUMBER_OFFSET_Y_BOT = 50\n",
    "    NUMBER_OFFSET_Y_TOP = 60\n",
    "    HOUSE_OFFSETS = (90,145)\n",
    "    housenumbermap = {\n",
    "        'F': (housemap['F'][0],housemap['F'][1]+NUMBER_OFFSET_Y_TOP),\n",
    "        'E': (housemap['E'][0],housemap['E'][1]+NUMBER_OFFSET_Y_TOP),\n",
    "        'D': (housemap['D'][0],housemap['D'][1]+NUMBER_OFFSET_Y_TOP),\n",
    "        'C': (housemap['C'][0],housemap['C'][1]+NUMBER_OFFSET_Y_TOP),\n",
    "        'B': (housemap['B'][0],housemap['B'][1]+NUMBER_OFFSET_Y_TOP),\n",
    "        'A': (housemap['A'][0],housemap['A'][1]+NUMBER_OFFSET_Y_TOP),\n",
    "        'a': (housemap['a'][0],housemap['a'][1]-NUMBER_OFFSET_Y_BOT),\n",
    "        'b': (housemap['b'][0],housemap['b'][1]-NUMBER_OFFSET_Y_BOT),\n",
    "        'c': (housemap['c'][0],housemap['c'][1]-NUMBER_OFFSET_Y_BOT),\n",
    "        'd': (housemap['d'][0],housemap['d'][1]-NUMBER_OFFSET_Y_BOT),\n",
    "        'e': (housemap['e'][0],housemap['e'][1]-NUMBER_OFFSET_Y_BOT),\n",
    "        'f': (housemap['f'][0],housemap['f'][1]-NUMBER_OFFSET_Y_BOT),\n",
    "        'O': (housemap['F'][0]-HOUSE_OFFSETS[0],housemap['F'][1]+HOUSE_OFFSETS[1]+HOUSE_OFFSETS[1]/5),\n",
    "        'o': (housemap['F'][0]+HOUSE_OFFSETS[0]*6,housemap['F'][1]+HOUSE_OFFSETS[1]+HOUSE_OFFSETS[1]/5),\n",
    "        \n",
    "    }\n",
    "    TURN_POS = (housemap['A'][0]+HOUSE_OFFSETS[0],62)\n",
    "\n",
    "    gamestate = self._state_to_dict()\n",
    "    canvas.font = '26px serif'\n",
    "    canvas.text_align    = 'center'\n",
    "\n",
    "    for key in housenumbermap:\n",
    "        canvas.fill_text(gamestate[key],housenumbermap[key][0],housenumbermap[key][1])\n",
    "\n",
    "    canvas.font = '22px serif'\n",
    "    canvas.fill_text('Turn '+str(self.turn),TURN_POS[0],TURN_POS[1])\n",
    "    \n",
    "        \n",
    "Kalah_Game._draw_numbers = _draw_numbers"
   ]
  },
  {
   "cell_type": "markdown",
   "id": "a7a7d6c0",
   "metadata": {
    "cell_id": "00054-487852a7-6d6b-4f11-abd5-859cb9775802",
    "deepnote_cell_type": "markdown"
   },
   "source": [
    "### Method: _state_to_dict\n",
    "The private method *_state_to_dict()* transforms a gamestate into a dictionary.\n",
    "\n",
    "<b style=\"background-color:yellow; color:blue\">Comments:</b>\n",
    "- You should use a consistent style for indentation.\n",
    "- This should be explained."
   ]
  },
  {
   "cell_type": "code",
   "execution_count": 59,
   "id": "80bdbfed",
   "metadata": {
    "cell_id": "00055-0ee0aec4-bef1-4040-9a1f-413223524a64",
    "deepnote_cell_type": "code",
    "deepnote_to_be_reexecuted": false,
    "execution_millis": 2,
    "execution_start": 1645539100967,
    "source_hash": "22fba113"
   },
   "outputs": [],
   "source": [
    "def _state_to_dict(self):\n",
    "        d = {}\n",
    "        for i in [0,1]:\n",
    "            for j in range(7):\n",
    "                d[gOrder[i][j]] = self.state[i][j]\n",
    "        return d\n",
    "Kalah_Game._state_to_dict = _state_to_dict"
   ]
  },
  {
   "cell_type": "markdown",
   "id": "e1abd362",
   "metadata": {
    "cell_id": "00067-a046662e-2b5d-40aa-9ecc-2cd9ae3295a3",
    "deepnote_cell_type": "markdown"
   },
   "source": [
    "### Method: start\n",
    "The method *start()* starts the Kalah game. Until the game is finished (the method *_finished()* returns True), both players take turns, starting with the player with the number 0. At the start of each turn, the current game state is shown. Next, the current player chooses one of the house with the <tt>Player</tt> method *choose_house(current_state)*. Afterwards, this choice is handed to the private method *_move(player_num, choice)* which calculates the new game state. The attribute *state* is updated with this new game state. Then it is the turn of the other player. If the game is finished, the method *utility()* calculates which of the players wins the game and the result is printed to the console."
   ]
  },
  {
   "cell_type": "code",
   "execution_count": 60,
   "id": "59d5707e",
   "metadata": {
    "cell_id": "00068-9f5d4592-df2b-4f19-9cba-424c286f88cc",
    "deepnote_cell_type": "code",
    "deepnote_to_be_reexecuted": false,
    "execution_millis": 19,
    "execution_start": 1645539100973,
    "source_hash": "bfb9db96"
   },
   "outputs": [],
   "source": [
    "def start(self):\n",
    "    while(not finished(self.state)):\n",
    "        self.turn += 1\n",
    "        if self.display_mode == 1:\n",
    "            print(\"\\nCurrent state:\")\n",
    "            self.show_state()\n",
    "            print(f\"Next is {self.players[self.current_player].name}'s turn.\")\n",
    "        elif self.display_mode == 2:\n",
    "            print(\"Current state:\")\n",
    "            self.draw_board()\n",
    "            print(f\"Next is {self.players[self.current_player].name}'s turn.\")\n",
    "            time.sleep(0.05)\n",
    "        \n",
    "        choice = self.players[self.current_player].choose_house(self.state)\n",
    "        \n",
    "        if self.display_mode != 0:\n",
    "            print(f\"{self.players[self.current_player].name} chose {gOrder[self.current_player][choice]}\")\n",
    "\n",
    "        self.state, another_turn, move_log = move(self.state, self.current_player, choice)\n",
    "        self.logged_moves.append(move_log)\n",
    "        \n",
    "        if not another_turn:\n",
    "            self.current_player = other_player(self.current_player)\n",
    "        elif another_turn and self.display_mode != 0:\n",
    "            print(f\"{self.players[self.current_player].name} gets another turn!\")\n",
    "\n",
    "    won0 = utility(self.state,0)\n",
    "    \n",
    "    if self.display_mode != 0:\n",
    "        if self.display_mode == 1:\n",
    "            print(\"\")\n",
    "            self.show_state()\n",
    "        elif self.display_mode == 2:\n",
    "            self.draw_board()\n",
    "            \n",
    "        print(\"Finished Game!\")  \n",
    "        \n",
    "        if(won0 == 1):\n",
    "            print(f\"{self.players[0]} wins!\")\n",
    "        elif(won0 == -1):\n",
    "            print(f\"{self.players[1]} wins!\")\n",
    "        else:\n",
    "            print(f\"Draw!\")\n",
    "    \n",
    "Kalah_Game.start = start"
   ]
  },
  {
   "cell_type": "markdown",
   "id": "7d007b72",
   "metadata": {
    "cell_id": "00069-1237d702-93c1-4648-9bcc-ac8e7d9141c3",
    "deepnote_cell_type": "markdown"
   },
   "source": [
    "### Method: log_to_file\n",
    "The method *log_to_file* creates a json file from all important game information, including the player subclass types and names as well as the different moves from the game and the winner(s). With the use of this method, played games can be saved and analyzed. The created log file is saved to the folder \"logs\" with the given file_id in the file name."
   ]
  },
  {
   "cell_type": "code",
   "execution_count": 61,
   "id": "3127ac60",
   "metadata": {
    "cell_id": "00070-dee533da-517b-471a-aeea-40f39bd1c383",
    "deepnote_cell_type": "code",
    "deepnote_to_be_reexecuted": false,
    "execution_millis": 19,
    "execution_start": 1645539100993,
    "source_hash": "54166617"
   },
   "outputs": [],
   "source": [
    "import json\n",
    "\n",
    "def log_to_file(self, file_id):\n",
    "    json_dict = {\n",
    "        \"players\":{\n",
    "            0:{},\n",
    "            1:{}\n",
    "        },\n",
    "        \"moves\":self.logged_moves,\n",
    "        \"winner\":[i for i in range(2) if utility(self.state,i) != -1]\n",
    "    }\n",
    "    \n",
    "    for i in range(2):\n",
    "        json_dict[\"players\"][i][\"type\"] = self.players[i].player_type\n",
    "        json_dict[\"players\"][i][\"name\"] = self.players[i].name\n",
    "        if isinstance(self.players[i], Random_AI):\n",
    "            json_dict[\"players\"][i][\"seed\"] = self.players[i].seed\n",
    "        if isinstance(self.players[i], Minimax):\n",
    "            json_dict[\"players\"][i][\"limit\"] = self.players[i].limit\n",
    "    \n",
    "    with open(f\"logs/log_{file_id}.json\", \"w\") as f:\n",
    "        f.write(json.dumps(json_dict, indent=4))\n",
    "        f.close()\n",
    "\n",
    "Kalah_Game.log_to_file = log_to_file"
   ]
  },
  {
   "cell_type": "markdown",
   "id": "6d795457",
   "metadata": {},
   "source": [
    "<b style=\"background-color:yellow; color:blue\">Comments:</b>\n",
    "I would prefer if you would create plain text files instead of *Json* files."
   ]
  },
  {
   "cell_type": "markdown",
   "id": "b9ed0c69",
   "metadata": {
    "cell_id": "00071-b8bf9c83-e2ac-4245-bc4f-51c42f26dd76",
    "deepnote_cell_type": "markdown"
   },
   "source": [
    "## Tests of Kalah_Game Class"
   ]
  },
  {
   "cell_type": "markdown",
   "id": "532b17d3",
   "metadata": {
    "cell_id": "00072-6ad04a98-5b73-474c-89e7-1006fdb8e65e",
    "deepnote_cell_type": "markdown"
   },
   "source": [
    "### 1. There must be exactly two players"
   ]
  },
  {
   "cell_type": "code",
   "execution_count": 62,
   "id": "dbc0197e",
   "metadata": {
    "cell_id": "00073-64cabd30-6ea2-4885-8bb5-d7062791ba46",
    "deepnote_cell_type": "code",
    "deepnote_to_be_reexecuted": false,
    "execution_millis": 596031601,
    "execution_start": 1645539101015,
    "source_hash": "9c60427"
   },
   "outputs": [
    {
     "name": "stdout",
     "output_type": "stream",
     "text": [
      "There must be exactly two players!\n"
     ]
    }
   ],
   "source": [
    "try:\n",
    "    game = Kalah_Game([Player(0,\"Test\")],0)\n",
    "except ValueError as e:\n",
    "    print(e)"
   ]
  },
  {
   "cell_type": "markdown",
   "id": "91163e38",
   "metadata": {
    "cell_id": "00074-9c3987e3-462e-4e5d-ae91-3f7454a2ebd4",
    "deepnote_cell_type": "markdown"
   },
   "source": [
    "### 2. Players must be instances of a Player sublass"
   ]
  },
  {
   "cell_type": "code",
   "execution_count": 63,
   "id": "9e970ba6",
   "metadata": {
    "cell_id": "00075-fe418cc2-183f-4a88-bcbb-b14b5080f242",
    "deepnote_cell_type": "code",
    "deepnote_to_be_reexecuted": false,
    "execution_millis": 596031594,
    "execution_start": 1645539101033,
    "source_hash": "a17ecd27"
   },
   "outputs": [
    {
     "name": "stdout",
     "output_type": "stream",
     "text": [
      "Both players must be of instances of a subclass of the class Player!\n"
     ]
    }
   ],
   "source": [
    "try:\n",
    "    game = Kalah_Game([Player(0,\"Test\"), Player(1,\"Test\")],0)\n",
    "except ValueError as e:\n",
    "    print(e)"
   ]
  },
  {
   "cell_type": "markdown",
   "id": "2f200b70",
   "metadata": {
    "cell_id": "00076-81c80c64-aba6-4c8f-8646-c67212a719e1",
    "deepnote_cell_type": "markdown"
   },
   "source": [
    "### 3. Player numbers must be 0 and 1"
   ]
  },
  {
   "cell_type": "code",
   "execution_count": 64,
   "id": "42067b51",
   "metadata": {
    "cell_id": "00077-b4aacdf1-8392-44ec-be71-28c8e6428476",
    "deepnote_cell_type": "code",
    "deepnote_to_be_reexecuted": false,
    "execution_millis": 596031597,
    "execution_start": 1645539101034,
    "source_hash": "c0a9334a"
   },
   "outputs": [
    {
     "name": "stdout",
     "output_type": "stream",
     "text": [
      "One of the players must be self.number 0 and the other one self.number 1!\n"
     ]
    }
   ],
   "source": [
    "try:\n",
    "    game = Kalah_Game([Human(1,\"Human\"), Random_AI(1,\"AI\",2)],0)\n",
    "except ValueError as e:\n",
    "    print(e)"
   ]
  },
  {
   "cell_type": "markdown",
   "id": "2d5ca77d",
   "metadata": {
    "cell_id": "00078-f2b4a9a8-13c7-48f4-ba74-675b17c0f056",
    "deepnote_cell_type": "markdown"
   },
   "source": [
    "### 4. Display mode must be 0, 1 or 2"
   ]
  },
  {
   "cell_type": "code",
   "execution_count": 65,
   "id": "47c48937",
   "metadata": {
    "cell_id": "00079-1ccecef2-6b13-4b49-bdeb-67c1fa7b66b9",
    "deepnote_cell_type": "code",
    "deepnote_to_be_reexecuted": false,
    "execution_millis": 1,
    "execution_start": 1645539101038,
    "scrolled": true,
    "source_hash": "cd1fe1ea"
   },
   "outputs": [
    {
     "name": "stdout",
     "output_type": "stream",
     "text": [
      "The display mode must be 0, 1 or 2!\n"
     ]
    }
   ],
   "source": [
    "try:\n",
    "    game = Kalah_Game([Human(1,\"Human\"), Random_AI(0,\"AI\",2)],3)\n",
    "except ValueError as e:\n",
    "    print(e)"
   ]
  },
  {
   "cell_type": "markdown",
   "id": "2998b442",
   "metadata": {
    "cell_id": "00080-d0676d34-9a16-42a7-8075-c818e2374e80",
    "deepnote_cell_type": "markdown"
   },
   "source": [
    "### 5. Successful Game creation with two AIs"
   ]
  },
  {
   "cell_type": "code",
   "execution_count": 66,
   "id": "6c22e86a",
   "metadata": {
    "cell_id": "00081-096b0712-f235-4ea4-ab33-020d2a5ca604",
    "deepnote_cell_type": "code",
    "deepnote_to_be_reexecuted": false,
    "execution_millis": 0,
    "execution_start": 1645539101041,
    "source_hash": "af4d0b0e"
   },
   "outputs": [],
   "source": [
    "game = Kalah_Game([Random_AI(0,\"Rando\",1), Minimax(1,\"Mini\",3)], 2)"
   ]
  },
  {
   "cell_type": "code",
   "execution_count": 67,
   "id": "2f67d752",
   "metadata": {
    "cell_id": "00083-764de83b-bf64-4c28-b28f-d17fbfc6e824",
    "deepnote_cell_type": "code",
    "deepnote_output_heights": [
     null,
     611
    ],
    "deepnote_to_be_reexecuted": false,
    "execution_millis": 1361,
    "execution_start": 1645539101080,
    "scrolled": true,
    "source_hash": "f42697fa"
   },
   "outputs": [
    {
     "name": "stdout",
     "output_type": "stream",
     "text": [
      "Current state:\n"
     ]
    },
    {
     "data": {
      "application/vnd.jupyter.widget-view+json": {
       "model_id": "b6aacdddd5b34e79bf2d74f00c579e4b",
       "version_major": 2,
       "version_minor": 0
      },
      "text/plain": [
       "MultiCanvas(height=400, width=800)"
      ]
     },
     "metadata": {},
     "output_type": "display_data"
    },
    {
     "name": "stdout",
     "output_type": "stream",
     "text": [
      "Next is Rando's turn.\n",
      "Rando chose F\n",
      "Current state:\n"
     ]
    },
    {
     "data": {
      "application/vnd.jupyter.widget-view+json": {
       "model_id": "be57469224674db5a3fc56293210e9a4",
       "version_major": 2,
       "version_minor": 0
      },
      "text/plain": [
       "MultiCanvas(height=400, width=800)"
      ]
     },
     "metadata": {},
     "output_type": "display_data"
    },
    {
     "name": "stdout",
     "output_type": "stream",
     "text": [
      "Next is Mini's turn.\n",
      "Mini chose b\n",
      "Mini gets another turn!\n",
      "Current state:\n"
     ]
    },
    {
     "data": {
      "application/vnd.jupyter.widget-view+json": {
       "model_id": "58118b34ca0d4a57b66848b2f723c5fd",
       "version_major": 2,
       "version_minor": 0
      },
      "text/plain": [
       "MultiCanvas(height=400, width=800)"
      ]
     },
     "metadata": {},
     "output_type": "display_data"
    },
    {
     "name": "stdout",
     "output_type": "stream",
     "text": [
      "Next is Mini's turn.\n",
      "Mini chose c\n",
      "Current state:\n"
     ]
    },
    {
     "data": {
      "application/vnd.jupyter.widget-view+json": {
       "model_id": "7835304330d0445dab8ba60ba8b475f2",
       "version_major": 2,
       "version_minor": 0
      },
      "text/plain": [
       "MultiCanvas(height=400, width=800)"
      ]
     },
     "metadata": {},
     "output_type": "display_data"
    },
    {
     "name": "stdout",
     "output_type": "stream",
     "text": [
      "Next is Rando's turn.\n",
      "Rando chose A\n",
      "Current state:\n"
     ]
    },
    {
     "data": {
      "application/vnd.jupyter.widget-view+json": {
       "model_id": "154de2626a6b4d66bf373058feaca964",
       "version_major": 2,
       "version_minor": 0
      },
      "text/plain": [
       "MultiCanvas(height=400, width=800)"
      ]
     },
     "metadata": {},
     "output_type": "display_data"
    },
    {
     "name": "stdout",
     "output_type": "stream",
     "text": [
      "Next is Mini's turn.\n",
      "Mini chose d\n",
      "Current state:\n"
     ]
    },
    {
     "data": {
      "application/vnd.jupyter.widget-view+json": {
       "model_id": "012762162567469d9523280723646b20",
       "version_major": 2,
       "version_minor": 0
      },
      "text/plain": [
       "MultiCanvas(height=400, width=800)"
      ]
     },
     "metadata": {},
     "output_type": "display_data"
    },
    {
     "name": "stdout",
     "output_type": "stream",
     "text": [
      "Next is Rando's turn.\n",
      "Rando chose A\n",
      "Current state:\n"
     ]
    },
    {
     "data": {
      "application/vnd.jupyter.widget-view+json": {
       "model_id": "c066703be4424a3fbd6e36e5ee16fd7d",
       "version_major": 2,
       "version_minor": 0
      },
      "text/plain": [
       "MultiCanvas(height=400, width=800)"
      ]
     },
     "metadata": {},
     "output_type": "display_data"
    },
    {
     "name": "stdout",
     "output_type": "stream",
     "text": [
      "Next is Mini's turn.\n",
      "Mini chose e\n",
      "Current state:\n"
     ]
    },
    {
     "data": {
      "application/vnd.jupyter.widget-view+json": {
       "model_id": "3b592440cb6c419d80a15cb2229cbbb1",
       "version_major": 2,
       "version_minor": 0
      },
      "text/plain": [
       "MultiCanvas(height=400, width=800)"
      ]
     },
     "metadata": {},
     "output_type": "display_data"
    },
    {
     "name": "stdout",
     "output_type": "stream",
     "text": [
      "Next is Rando's turn.\n",
      "Rando chose C\n",
      "Current state:\n"
     ]
    },
    {
     "data": {
      "application/vnd.jupyter.widget-view+json": {
       "model_id": "d218c3c0db3e4e6387ca76ce1c55139f",
       "version_major": 2,
       "version_minor": 0
      },
      "text/plain": [
       "MultiCanvas(height=400, width=800)"
      ]
     },
     "metadata": {},
     "output_type": "display_data"
    },
    {
     "name": "stdout",
     "output_type": "stream",
     "text": [
      "Next is Mini's turn.\n",
      "Mini chose c\n",
      "Current state:\n"
     ]
    },
    {
     "data": {
      "application/vnd.jupyter.widget-view+json": {
       "model_id": "bcb19314f3664452b523a3234ab23361",
       "version_major": 2,
       "version_minor": 0
      },
      "text/plain": [
       "MultiCanvas(height=400, width=800)"
      ]
     },
     "metadata": {},
     "output_type": "display_data"
    },
    {
     "name": "stdout",
     "output_type": "stream",
     "text": [
      "Next is Rando's turn.\n",
      "Rando chose D\n",
      "Current state:\n"
     ]
    },
    {
     "data": {
      "application/vnd.jupyter.widget-view+json": {
       "model_id": "1afe60c789774a96afd39e2c942964a9",
       "version_major": 2,
       "version_minor": 0
      },
      "text/plain": [
       "MultiCanvas(height=400, width=800)"
      ]
     },
     "metadata": {},
     "output_type": "display_data"
    },
    {
     "name": "stdout",
     "output_type": "stream",
     "text": [
      "Next is Mini's turn.\n",
      "Mini chose d\n",
      "Current state:\n"
     ]
    },
    {
     "data": {
      "application/vnd.jupyter.widget-view+json": {
       "model_id": "5ab1a372598a416f8ebc389c7b1668d7",
       "version_major": 2,
       "version_minor": 0
      },
      "text/plain": [
       "MultiCanvas(height=400, width=800)"
      ]
     },
     "metadata": {},
     "output_type": "display_data"
    },
    {
     "name": "stdout",
     "output_type": "stream",
     "text": [
      "Next is Rando's turn.\n",
      "Rando chose E\n",
      "Current state:\n"
     ]
    },
    {
     "data": {
      "application/vnd.jupyter.widget-view+json": {
       "model_id": "0a9e8dc1de4a4e969e9f4d492261bbc1",
       "version_major": 2,
       "version_minor": 0
      },
      "text/plain": [
       "MultiCanvas(height=400, width=800)"
      ]
     },
     "metadata": {},
     "output_type": "display_data"
    },
    {
     "name": "stdout",
     "output_type": "stream",
     "text": [
      "Next is Mini's turn.\n",
      "Mini chose f\n",
      "Current state:\n"
     ]
    },
    {
     "data": {
      "application/vnd.jupyter.widget-view+json": {
       "model_id": "b70c88060ccf4368b14c0cc2fdf88e2b",
       "version_major": 2,
       "version_minor": 0
      },
      "text/plain": [
       "MultiCanvas(height=400, width=800)"
      ]
     },
     "metadata": {},
     "output_type": "display_data"
    },
    {
     "name": "stdout",
     "output_type": "stream",
     "text": [
      "Next is Rando's turn.\n",
      "Rando chose F\n",
      "Current state:\n"
     ]
    },
    {
     "data": {
      "application/vnd.jupyter.widget-view+json": {
       "model_id": "a432d1ba291f45cdb905543f70dbe24e",
       "version_major": 2,
       "version_minor": 0
      },
      "text/plain": [
       "MultiCanvas(height=400, width=800)"
      ]
     },
     "metadata": {},
     "output_type": "display_data"
    },
    {
     "name": "stdout",
     "output_type": "stream",
     "text": [
      "Next is Mini's turn.\n",
      "Mini chose b\n",
      "Mini gets another turn!\n",
      "Current state:\n"
     ]
    },
    {
     "data": {
      "application/vnd.jupyter.widget-view+json": {
       "model_id": "51fcbfffb2994298af7e3e0dcb8807bf",
       "version_major": 2,
       "version_minor": 0
      },
      "text/plain": [
       "MultiCanvas(height=400, width=800)"
      ]
     },
     "metadata": {},
     "output_type": "display_data"
    },
    {
     "name": "stdout",
     "output_type": "stream",
     "text": [
      "Next is Mini's turn.\n",
      "Mini chose f\n",
      "Mini gets another turn!\n",
      "Current state:\n"
     ]
    },
    {
     "data": {
      "application/vnd.jupyter.widget-view+json": {
       "model_id": "029e6849e0b14b0ea8f9b31ee0e0cef8",
       "version_major": 2,
       "version_minor": 0
      },
      "text/plain": [
       "MultiCanvas(height=400, width=800)"
      ]
     },
     "metadata": {},
     "output_type": "display_data"
    },
    {
     "name": "stdout",
     "output_type": "stream",
     "text": [
      "Next is Mini's turn.\n",
      "Mini chose e\n",
      "Mini gets another turn!\n",
      "Current state:\n"
     ]
    },
    {
     "data": {
      "application/vnd.jupyter.widget-view+json": {
       "model_id": "8f22083e154d4ed2880743fa8659b2c3",
       "version_major": 2,
       "version_minor": 0
      },
      "text/plain": [
       "MultiCanvas(height=400, width=800)"
      ]
     },
     "metadata": {},
     "output_type": "display_data"
    },
    {
     "name": "stdout",
     "output_type": "stream",
     "text": [
      "Next is Mini's turn.\n",
      "Mini chose f\n",
      "Mini gets another turn!\n",
      "Current state:\n"
     ]
    },
    {
     "data": {
      "application/vnd.jupyter.widget-view+json": {
       "model_id": "1875da0ed8bb4e86bffac2b2d9fe1b02",
       "version_major": 2,
       "version_minor": 0
      },
      "text/plain": [
       "MultiCanvas(height=400, width=800)"
      ]
     },
     "metadata": {},
     "output_type": "display_data"
    },
    {
     "name": "stdout",
     "output_type": "stream",
     "text": [
      "Next is Mini's turn.\n",
      "Mini chose c\n",
      "Mini gets another turn!\n",
      "Current state:\n"
     ]
    },
    {
     "data": {
      "application/vnd.jupyter.widget-view+json": {
       "model_id": "21d3f6e5890e47ffaee32c120aace5e1",
       "version_major": 2,
       "version_minor": 0
      },
      "text/plain": [
       "MultiCanvas(height=400, width=800)"
      ]
     },
     "metadata": {},
     "output_type": "display_data"
    },
    {
     "name": "stdout",
     "output_type": "stream",
     "text": [
      "Next is Mini's turn.\n",
      "Mini chose f\n",
      "Mini gets another turn!\n",
      "Current state:\n"
     ]
    },
    {
     "data": {
      "application/vnd.jupyter.widget-view+json": {
       "model_id": "e3f9e48fbbac46b085d4945f474b5c9e",
       "version_major": 2,
       "version_minor": 0
      },
      "text/plain": [
       "MultiCanvas(height=400, width=800)"
      ]
     },
     "metadata": {},
     "output_type": "display_data"
    },
    {
     "name": "stdout",
     "output_type": "stream",
     "text": [
      "Next is Mini's turn.\n",
      "Mini chose d\n",
      "Mini gets another turn!\n",
      "Current state:\n"
     ]
    },
    {
     "data": {
      "application/vnd.jupyter.widget-view+json": {
       "model_id": "49a9135765b74b498828174ba5330208",
       "version_major": 2,
       "version_minor": 0
      },
      "text/plain": [
       "MultiCanvas(height=400, width=800)"
      ]
     },
     "metadata": {},
     "output_type": "display_data"
    },
    {
     "name": "stdout",
     "output_type": "stream",
     "text": [
      "Next is Mini's turn.\n",
      "Mini chose f\n",
      "Mini gets another turn!\n",
      "Current state:\n"
     ]
    },
    {
     "data": {
      "application/vnd.jupyter.widget-view+json": {
       "model_id": "ed1c55ce85774adb88463c5f4a0605b6",
       "version_major": 2,
       "version_minor": 0
      },
      "text/plain": [
       "MultiCanvas(height=400, width=800)"
      ]
     },
     "metadata": {},
     "output_type": "display_data"
    },
    {
     "name": "stdout",
     "output_type": "stream",
     "text": [
      "Next is Mini's turn.\n",
      "Mini chose e\n",
      "Mini gets another turn!\n",
      "Current state:\n"
     ]
    },
    {
     "data": {
      "application/vnd.jupyter.widget-view+json": {
       "model_id": "1d3924b0087e43c9a98008fe4b8ff50f",
       "version_major": 2,
       "version_minor": 0
      },
      "text/plain": [
       "MultiCanvas(height=400, width=800)"
      ]
     },
     "metadata": {},
     "output_type": "display_data"
    },
    {
     "name": "stdout",
     "output_type": "stream",
     "text": [
      "Next is Mini's turn.\n",
      "Mini chose f\n",
      "Mini gets another turn!\n",
      "Current state:\n"
     ]
    },
    {
     "data": {
      "application/vnd.jupyter.widget-view+json": {
       "model_id": "d5e29ca2252c4b73a9f5ff77cd89484e",
       "version_major": 2,
       "version_minor": 0
      },
      "text/plain": [
       "MultiCanvas(height=400, width=800)"
      ]
     },
     "metadata": {},
     "output_type": "display_data"
    },
    {
     "name": "stdout",
     "output_type": "stream",
     "text": [
      "Next is Mini's turn.\n",
      "Mini chose a\n",
      "Current state:\n"
     ]
    },
    {
     "data": {
      "application/vnd.jupyter.widget-view+json": {
       "model_id": "fa9ec4f5e0b84cd8aa1af7800b865a0c",
       "version_major": 2,
       "version_minor": 0
      },
      "text/plain": [
       "MultiCanvas(height=400, width=800)"
      ]
     },
     "metadata": {},
     "output_type": "display_data"
    },
    {
     "name": "stdout",
     "output_type": "stream",
     "text": [
      "Next is Rando's turn.\n",
      "Rando chose E\n",
      "Current state:\n"
     ]
    },
    {
     "data": {
      "application/vnd.jupyter.widget-view+json": {
       "model_id": "8e95092e2a364dac8c8ee2da356bb46e",
       "version_major": 2,
       "version_minor": 0
      },
      "text/plain": [
       "MultiCanvas(height=400, width=800)"
      ]
     },
     "metadata": {},
     "output_type": "display_data"
    },
    {
     "name": "stdout",
     "output_type": "stream",
     "text": [
      "Next is Mini's turn.\n",
      "Mini chose e\n",
      "Current state:\n"
     ]
    },
    {
     "data": {
      "application/vnd.jupyter.widget-view+json": {
       "model_id": "a75b91a2d20b4815bd64cfe0bb63c554",
       "version_major": 2,
       "version_minor": 0
      },
      "text/plain": [
       "MultiCanvas(height=400, width=800)"
      ]
     },
     "metadata": {},
     "output_type": "display_data"
    },
    {
     "name": "stdout",
     "output_type": "stream",
     "text": [
      "Next is Rando's turn.\n",
      "Rando chose D\n",
      "Current state:\n"
     ]
    },
    {
     "data": {
      "application/vnd.jupyter.widget-view+json": {
       "model_id": "636bac8b39764f8598af2666ebda5b58",
       "version_major": 2,
       "version_minor": 0
      },
      "text/plain": [
       "MultiCanvas(height=400, width=800)"
      ]
     },
     "metadata": {},
     "output_type": "display_data"
    },
    {
     "name": "stdout",
     "output_type": "stream",
     "text": [
      "Next is Mini's turn.\n",
      "Mini chose d\n",
      "Current state:\n"
     ]
    },
    {
     "data": {
      "application/vnd.jupyter.widget-view+json": {
       "model_id": "d00ac0d214ed4a42bdcaa5b34a76cd89",
       "version_major": 2,
       "version_minor": 0
      },
      "text/plain": [
       "MultiCanvas(height=400, width=800)"
      ]
     },
     "metadata": {},
     "output_type": "display_data"
    },
    {
     "name": "stdout",
     "output_type": "stream",
     "text": [
      "Next is Rando's turn.\n",
      "Rando chose C\n"
     ]
    },
    {
     "data": {
      "application/vnd.jupyter.widget-view+json": {
       "model_id": "3dc1b99ac0794b2faf8adc48d924d725",
       "version_major": 2,
       "version_minor": 0
      },
      "text/plain": [
       "MultiCanvas(height=400, width=800)"
      ]
     },
     "metadata": {},
     "output_type": "display_data"
    },
    {
     "name": "stdout",
     "output_type": "stream",
     "text": [
      "Finished Game!\n",
      "Mini wins!\n",
      "Wall time: 2.78 s\n"
     ]
    }
   ],
   "source": [
    "%%time\n",
    "game.start()"
   ]
  },
  {
   "cell_type": "code",
   "execution_count": 68,
   "id": "6e9b099d",
   "metadata": {
    "cell_id": "00084-0046bfef-03c1-44f3-82c7-e4281a9e6de4",
    "deepnote_cell_type": "code",
    "deepnote_output_heights": [
     405
    ],
    "deepnote_to_be_reexecuted": false,
    "execution_millis": 8,
    "execution_start": 1645539102441,
    "source_hash": "1ebb8803"
   },
   "outputs": [],
   "source": [
    "timestamp = str(dt.datetime.now()).replace(':','.')\n",
    "game.log_to_file(timestamp)"
   ]
  },
  {
   "cell_type": "markdown",
   "id": "dfb9e7ef",
   "metadata": {
    "cell_id": "00085-111633e0-553e-40a1-95cf-93ee96bd5983",
    "deepnote_cell_type": "markdown"
   },
   "source": [
    "## Repeat Game from Log File\n",
    "\n",
    "The function *repeat_game* takes the filename of a log file and the display mode with which the game should be repeated as the input values. It also receives the information, if included AIs should calculate their choices new or if they should just repeat the moves that are presented in the log file. The decicions of human players are always repeated based on the log file. \n",
    "\n",
    "The function detects the player types and names from the file and creates players based on this information. The player types are only relevant for AIs if **repeat_AIs** is set to False. In all other cases, the players are created from the <tt>Repeated_Player</tt> class.\n",
    "\n",
    "In the end, the game is initialized with the created players and the given display mode and then started."
   ]
  },
  {
   "cell_type": "code",
   "execution_count": 69,
   "id": "d77bac37",
   "metadata": {
    "cell_id": "00086-c8ba6d0d-bd43-412a-9354-4c7572f18afc",
    "deepnote_cell_type": "code",
    "deepnote_to_be_reexecuted": false,
    "execution_millis": 1,
    "execution_start": 1645539102502,
    "source_hash": "1ec0934"
   },
   "outputs": [],
   "source": [
    "def repeat_game(filename, repeat_AIs, display_mode):\n",
    "    json_dict = {}\n",
    "    \n",
    "    with open(\"logs/\"+filename) as f:\n",
    "        json_dict = json.load(f)\n",
    "    \n",
    "    players = []\n",
    "    for i in range(2):\n",
    "        i = str(i)\n",
    "        p_type = json_dict[\"players\"][i][\"type\"]\n",
    "        \n",
    "        if repeat_AIs:\n",
    "            players.append(Repeated_Player(int(i),json_dict[\"players\"][i][\"name\"],json_dict[\"moves\"]))\n",
    "        else:\n",
    "            if p_type == \"Human\":\n",
    "                players.append(Repeated_Player(int(i),json_dict[\"players\"][i][\"name\"],json_dict[\"moves\"]))\n",
    "            elif p_type == \"Random_AI\":\n",
    "                players.append(Random_AI(int(i),json_dict[\"players\"][i][\"name\"],json_dict[\"players\"][i][\"seed\"]))\n",
    "            elif p_type == \"Minimax\":\n",
    "                players.append(Minimax(int(i),json_dict[\"players\"][i][\"name\"],json_dict[\"players\"][i][\"limit\"]))\n",
    "            else:\n",
    "                raise ValueError(\"The given player type is unknown!\")\n",
    "    \n",
    "    game = Kalah_Game([players[0],players[1]],display_mode)\n",
    "    game.start()"
   ]
  },
  {
   "cell_type": "markdown",
   "id": "41f5ea42",
   "metadata": {
    "cell_id": "00087-5c74fd99-ea3e-498b-a41b-d7758f5c4aab",
    "deepnote_cell_type": "markdown"
   },
   "source": [
    "### Tests of Repeat Game\n",
    "#### Repeating the game of two AIs, where the decisions are repeated based on the log file (Player types: Repeated_Player)"
   ]
  },
  {
   "cell_type": "code",
   "execution_count": 70,
   "id": "4b000728",
   "metadata": {
    "cell_id": "00088-ea8efce6-9d4f-4fcc-a34b-33dac28737c8",
    "deepnote_cell_type": "code",
    "deepnote_to_be_reexecuted": false,
    "execution_millis": 24,
    "execution_start": 1645539102503,
    "source_hash": "fcfb7dda"
   },
   "outputs": [
    {
     "name": "stdout",
     "output_type": "stream",
     "text": [
      "\n",
      "Current state:\n",
      "Rando:\t\t\tO: 0  F: 4  E: 4  D: 4  C: 4  B: 4  A: 4  \n",
      "Mini:\t\t\ta: 4  b: 4  c: 4  d: 4  e: 4  f: 4  o: 0  \n",
      "\n",
      "Next is Rando's turn.\n",
      "Rando chose F\n",
      "\n",
      "Current state:\n",
      "Rando:\t\t\tO: 1  F: 0  E: 4  D: 4  C: 4  B: 4  A: 4  \n",
      "Mini:\t\t\ta: 5  b: 5  c: 5  d: 4  e: 4  f: 4  o: 0  \n",
      "\n",
      "Next is Mini's turn.\n",
      "Mini chose b\n",
      "Mini gets another turn!\n",
      "\n",
      "Current state:\n",
      "Rando:\t\t\tO: 1  F: 0  E: 4  D: 4  C: 4  B: 4  A: 4  \n",
      "Mini:\t\t\ta: 5  b: 0  c: 6  d: 5  e: 5  f: 5  o: 1  \n",
      "\n",
      "Next is Mini's turn.\n",
      "Mini chose c\n",
      "\n",
      "Current state:\n",
      "Rando:\t\t\tO: 1  F: 0  E: 4  D: 4  C: 4  B: 5  A: 5  \n",
      "Mini:\t\t\ta: 5  b: 0  c: 0  d: 6  e: 6  f: 6  o: 2  \n",
      "\n",
      "Next is Rando's turn.\n",
      "Rando chose A\n",
      "\n",
      "Current state:\n",
      "Rando:\t\t\tO: 7  F: 0  E: 5  D: 5  C: 5  B: 6  A: 0  \n",
      "Mini:\t\t\ta: 0  b: 0  c: 0  d: 6  e: 6  f: 6  o: 2  \n",
      "\n",
      "Next is Mini's turn.\n",
      "Mini chose d\n",
      "\n",
      "Current state:\n",
      "Rando:\t\t\tO: 7  F: 0  E: 5  D: 5  C: 6  B: 7  A: 1  \n",
      "Mini:\t\t\ta: 0  b: 0  c: 0  d: 0  e: 7  f: 7  o: 3  \n",
      "\n",
      "Next is Rando's turn.\n",
      "Rando chose A\n",
      "\n",
      "Current state:\n",
      "Rando:\t\t\tO: 7  F: 0  E: 5  D: 5  C: 6  B: 8  A: 0  \n",
      "Mini:\t\t\ta: 0  b: 0  c: 0  d: 0  e: 7  f: 7  o: 3  \n",
      "\n",
      "Next is Mini's turn.\n",
      "Mini chose e\n",
      "\n",
      "Current state:\n",
      "Rando:\t\t\tO: 7  F: 0  E: 6  D: 6  C: 7  B: 9  A: 1  \n",
      "Mini:\t\t\ta: 0  b: 0  c: 0  d: 0  e: 0  f: 8  o: 4  \n",
      "\n",
      "Next is Rando's turn.\n",
      "Rando chose C\n",
      "\n",
      "Current state:\n",
      "Rando:\t\t\tO: 8  F: 1  E: 7  D: 7  C: 0  B: 9  A: 1  \n",
      "Mini:\t\t\ta: 1  b: 1  c: 1  d: 0  e: 0  f: 8  o: 4  \n",
      "\n",
      "Next is Mini's turn.\n",
      "Mini chose c\n",
      "\n",
      "Current state:\n",
      "Rando:\t\t\tO: 8  F: 1  E: 7  D: 7  C: 0  B: 9  A: 1  \n",
      "Mini:\t\t\ta: 1  b: 1  c: 0  d: 0  e: 0  f: 8  o: 5  \n",
      "\n",
      "Next is Rando's turn.\n",
      "Rando chose D\n",
      "\n",
      "Current state:\n",
      "Rando:\t\t\tO: 9  F: 2  E: 8  D: 0  C: 0  B: 9  A: 1  \n",
      "Mini:\t\t\ta: 2  b: 2  c: 1  d: 1  e: 0  f: 8  o: 5  \n",
      "\n",
      "Next is Mini's turn.\n",
      "Mini chose d\n",
      "\n",
      "Current state:\n",
      "Rando:\t\t\tO: 9  F: 2  E: 8  D: 0  C: 0  B: 0  A: 1  \n",
      "Mini:\t\t\ta: 2  b: 2  c: 1  d: 0  e: 0  f: 8  o: 15  \n",
      "\n",
      "Next is Rando's turn.\n",
      "Rando chose E\n",
      "\n",
      "Current state:\n",
      "Rando:\t\t\tO: 10  F: 3  E: 0  D: 0  C: 0  B: 0  A: 1  \n",
      "Mini:\t\t\ta: 3  b: 3  c: 2  d: 1  e: 1  f: 9  o: 15  \n",
      "\n",
      "Next is Mini's turn.\n",
      "Mini chose f\n",
      "\n",
      "Current state:\n",
      "Rando:\t\t\tO: 10  F: 4  E: 1  D: 1  C: 1  B: 1  A: 2  \n",
      "Mini:\t\t\ta: 4  b: 4  c: 2  d: 1  e: 1  f: 0  o: 16  \n",
      "\n",
      "Next is Rando's turn.\n",
      "Rando chose F\n",
      "\n",
      "Current state:\n",
      "Rando:\t\t\tO: 11  F: 0  E: 1  D: 1  C: 1  B: 1  A: 2  \n",
      "Mini:\t\t\ta: 5  b: 5  c: 3  d: 1  e: 1  f: 0  o: 16  \n",
      "\n",
      "Next is Mini's turn.\n",
      "Mini chose b\n",
      "Mini gets another turn!\n",
      "\n",
      "Current state:\n",
      "Rando:\t\t\tO: 11  F: 0  E: 1  D: 1  C: 1  B: 1  A: 2  \n",
      "Mini:\t\t\ta: 5  b: 0  c: 4  d: 2  e: 2  f: 1  o: 17  \n",
      "\n",
      "Next is Mini's turn.\n",
      "Mini chose f\n",
      "Mini gets another turn!\n",
      "\n",
      "Current state:\n",
      "Rando:\t\t\tO: 11  F: 0  E: 1  D: 1  C: 1  B: 1  A: 2  \n",
      "Mini:\t\t\ta: 5  b: 0  c: 4  d: 2  e: 2  f: 0  o: 18  \n",
      "\n",
      "Next is Mini's turn.\n",
      "Mini chose e\n",
      "Mini gets another turn!\n",
      "\n",
      "Current state:\n",
      "Rando:\t\t\tO: 11  F: 0  E: 1  D: 1  C: 1  B: 1  A: 2  \n",
      "Mini:\t\t\ta: 5  b: 0  c: 4  d: 2  e: 0  f: 1  o: 19  \n",
      "\n",
      "Next is Mini's turn.\n",
      "Mini chose f\n",
      "Mini gets another turn!\n",
      "\n",
      "Current state:\n",
      "Rando:\t\t\tO: 11  F: 0  E: 1  D: 1  C: 1  B: 1  A: 2  \n",
      "Mini:\t\t\ta: 5  b: 0  c: 4  d: 2  e: 0  f: 0  o: 20  \n",
      "\n",
      "Next is Mini's turn.\n",
      "Mini chose c\n",
      "Mini gets another turn!\n",
      "\n",
      "Current state:\n",
      "Rando:\t\t\tO: 11  F: 0  E: 1  D: 1  C: 1  B: 1  A: 2  \n",
      "Mini:\t\t\ta: 5  b: 0  c: 0  d: 3  e: 1  f: 1  o: 21  \n",
      "\n",
      "Next is Mini's turn.\n",
      "Mini chose f\n",
      "Mini gets another turn!\n",
      "\n",
      "Current state:\n",
      "Rando:\t\t\tO: 11  F: 0  E: 1  D: 1  C: 1  B: 1  A: 2  \n",
      "Mini:\t\t\ta: 5  b: 0  c: 0  d: 3  e: 1  f: 0  o: 22  \n",
      "\n",
      "Next is Mini's turn.\n",
      "Mini chose d\n",
      "Mini gets another turn!\n",
      "\n",
      "Current state:\n",
      "Rando:\t\t\tO: 11  F: 0  E: 1  D: 1  C: 1  B: 1  A: 2  \n",
      "Mini:\t\t\ta: 5  b: 0  c: 0  d: 0  e: 2  f: 1  o: 23  \n",
      "\n",
      "Next is Mini's turn.\n",
      "Mini chose f\n",
      "Mini gets another turn!\n",
      "\n",
      "Current state:\n",
      "Rando:\t\t\tO: 11  F: 0  E: 1  D: 1  C: 1  B: 1  A: 2  \n",
      "Mini:\t\t\ta: 5  b: 0  c: 0  d: 0  e: 2  f: 0  o: 24  \n",
      "\n",
      "Next is Mini's turn.\n",
      "Mini chose e\n",
      "Mini gets another turn!\n",
      "\n",
      "Current state:\n",
      "Rando:\t\t\tO: 11  F: 0  E: 1  D: 1  C: 1  B: 1  A: 2  \n",
      "Mini:\t\t\ta: 5  b: 0  c: 0  d: 0  e: 0  f: 1  o: 25  \n",
      "\n",
      "Next is Mini's turn.\n",
      "Mini chose f\n",
      "Mini gets another turn!\n",
      "\n",
      "Current state:\n",
      "Rando:\t\t\tO: 11  F: 0  E: 1  D: 1  C: 1  B: 1  A: 2  \n",
      "Mini:\t\t\ta: 5  b: 0  c: 0  d: 0  e: 0  f: 0  o: 26  \n",
      "\n",
      "Next is Mini's turn.\n",
      "Mini chose a\n",
      "\n",
      "Current state:\n",
      "Rando:\t\t\tO: 11  F: 0  E: 1  D: 1  C: 1  B: 1  A: 0  \n",
      "Mini:\t\t\ta: 0  b: 1  c: 1  d: 1  e: 1  f: 0  o: 29  \n",
      "\n",
      "Next is Rando's turn.\n",
      "Rando chose E\n",
      "\n",
      "Current state:\n",
      "Rando:\t\t\tO: 12  F: 0  E: 0  D: 1  C: 1  B: 1  A: 0  \n",
      "Mini:\t\t\ta: 0  b: 1  c: 1  d: 1  e: 1  f: 0  o: 29  \n",
      "\n",
      "Next is Mini's turn.\n",
      "Mini chose e\n",
      "\n",
      "Current state:\n",
      "Rando:\t\t\tO: 12  F: 0  E: 0  D: 1  C: 1  B: 1  A: 0  \n",
      "Mini:\t\t\ta: 0  b: 1  c: 1  d: 1  e: 0  f: 0  o: 30  \n",
      "\n",
      "Next is Rando's turn.\n",
      "Rando chose D\n",
      "\n",
      "Current state:\n",
      "Rando:\t\t\tO: 14  F: 0  E: 0  D: 0  C: 1  B: 1  A: 0  \n",
      "Mini:\t\t\ta: 0  b: 0  c: 1  d: 1  e: 0  f: 0  o: 30  \n",
      "\n",
      "Next is Mini's turn.\n",
      "Mini chose d\n",
      "\n",
      "Current state:\n",
      "Rando:\t\t\tO: 14  F: 0  E: 0  D: 0  C: 1  B: 0  A: 0  \n",
      "Mini:\t\t\ta: 0  b: 0  c: 1  d: 0  e: 0  f: 0  o: 32  \n",
      "\n",
      "Next is Rando's turn.\n",
      "Rando chose C\n",
      "\n",
      "Rando:\t\t\tO: 16  F: 0  E: 0  D: 0  C: 0  B: 0  A: 0  \n",
      "Mini:\t\t\ta: 0  b: 0  c: 0  d: 0  e: 0  f: 0  o: 32  \n",
      "\n",
      "Finished Game!\n",
      "Mini wins!\n",
      "Wall time: 11 ms\n"
     ]
    }
   ],
   "source": [
    "%%time\n",
    "repeat_game(f\"log_{timestamp}.json\",True,1)"
   ]
  },
  {
   "cell_type": "markdown",
   "id": "e522ce89",
   "metadata": {
    "cell_id": "00089-58236187-dc28-41e6-957b-ac120e2e7330",
    "deepnote_cell_type": "markdown"
   },
   "source": [
    "#### Repeating the game of two AIs, where both of them calculate their decisions new (Player types: Random_AI)"
   ]
  },
  {
   "cell_type": "code",
   "execution_count": 71,
   "id": "7cb55dad",
   "metadata": {
    "cell_id": "00090-6ec181d9-e95f-4c94-be6d-ec65e3d714ec",
    "deepnote_cell_type": "code",
    "deepnote_output_heights": [
     232.40625
    ],
    "deepnote_to_be_reexecuted": false,
    "execution_millis": 76,
    "execution_start": 1645539102528,
    "source_hash": "db26d84a"
   },
   "outputs": [
    {
     "name": "stdout",
     "output_type": "stream",
     "text": [
      "\n",
      "Current state:\n",
      "Rando:\t\t\tO: 0  F: 4  E: 4  D: 4  C: 4  B: 4  A: 4  \n",
      "Mini:\t\t\ta: 4  b: 4  c: 4  d: 4  e: 4  f: 4  o: 0  \n",
      "\n",
      "Next is Rando's turn.\n",
      "Rando chose B\n",
      "\n",
      "Current state:\n",
      "Rando:\t\t\tO: 0  F: 5  E: 5  D: 5  C: 5  B: 0  A: 4  \n",
      "Mini:\t\t\ta: 4  b: 4  c: 4  d: 4  e: 4  f: 4  o: 0  \n",
      "\n",
      "Next is Mini's turn.\n",
      "Mini chose c\n",
      "Mini gets another turn!\n",
      "\n",
      "Current state:\n",
      "Rando:\t\t\tO: 0  F: 5  E: 5  D: 5  C: 5  B: 0  A: 4  \n",
      "Mini:\t\t\ta: 4  b: 4  c: 0  d: 5  e: 5  f: 5  o: 1  \n",
      "\n",
      "Next is Mini's turn.\n",
      "Mini chose d\n",
      "\n",
      "Current state:\n",
      "Rando:\t\t\tO: 0  F: 5  E: 5  D: 5  C: 5  B: 1  A: 5  \n",
      "Mini:\t\t\ta: 4  b: 4  c: 0  d: 0  e: 6  f: 6  o: 2  \n",
      "\n",
      "Next is Rando's turn.\n",
      "Rando chose E\n",
      "\n",
      "Current state:\n",
      "Rando:\t\t\tO: 1  F: 6  E: 0  D: 5  C: 5  B: 1  A: 5  \n",
      "Mini:\t\t\ta: 5  b: 5  c: 1  d: 0  e: 6  f: 6  o: 2  \n",
      "\n",
      "Next is Mini's turn.\n",
      "Mini chose c\n",
      "\n",
      "Current state:\n",
      "Rando:\t\t\tO: 1  F: 6  E: 0  D: 5  C: 0  B: 1  A: 5  \n",
      "Mini:\t\t\ta: 5  b: 5  c: 0  d: 0  e: 6  f: 6  o: 8  \n",
      "\n",
      "Next is Rando's turn.\n",
      "Rando chose A\n",
      "\n",
      "Current state:\n",
      "Rando:\t\t\tO: 1  F: 7  E: 1  D: 6  C: 1  B: 2  A: 0  \n",
      "Mini:\t\t\ta: 5  b: 5  c: 0  d: 0  e: 6  f: 6  o: 8  \n",
      "\n",
      "Next is Mini's turn.\n",
      "Mini chose b\n",
      "Mini gets another turn!\n",
      "\n",
      "Current state:\n",
      "Rando:\t\t\tO: 1  F: 7  E: 1  D: 6  C: 1  B: 2  A: 0  \n",
      "Mini:\t\t\ta: 5  b: 0  c: 1  d: 1  e: 7  f: 7  o: 9  \n",
      "\n",
      "Next is Mini's turn.\n",
      "Mini chose e\n",
      "\n",
      "Current state:\n",
      "Rando:\t\t\tO: 1  F: 7  E: 2  D: 7  C: 2  B: 3  A: 1  \n",
      "Mini:\t\t\ta: 5  b: 0  c: 1  d: 1  e: 0  f: 8  o: 10  \n",
      "\n",
      "Next is Rando's turn.\n",
      "Rando chose C\n",
      "\n",
      "Current state:\n",
      "Rando:\t\t\tO: 1  F: 7  E: 3  D: 8  C: 0  B: 3  A: 1  \n",
      "Mini:\t\t\ta: 5  b: 0  c: 1  d: 1  e: 0  f: 8  o: 10  \n",
      "\n",
      "Next is Mini's turn.\n",
      "Mini chose d\n",
      "\n",
      "Current state:\n",
      "Rando:\t\t\tO: 1  F: 7  E: 3  D: 8  C: 0  B: 0  A: 1  \n",
      "Mini:\t\t\ta: 5  b: 0  c: 1  d: 0  e: 0  f: 8  o: 14  \n",
      "\n",
      "Next is Rando's turn.\n",
      "Rando chose A\n",
      "\n",
      "Current state:\n",
      "Rando:\t\t\tO: 2  F: 7  E: 3  D: 8  C: 0  B: 0  A: 0  \n",
      "Mini:\t\t\ta: 5  b: 0  c: 1  d: 0  e: 0  f: 8  o: 14  \n",
      "\n",
      "Next is Mini's turn.\n",
      "Mini chose c\n",
      "\n",
      "Current state:\n",
      "Rando:\t\t\tO: 2  F: 7  E: 3  D: 8  C: 0  B: 0  A: 0  \n",
      "Mini:\t\t\ta: 5  b: 0  c: 0  d: 0  e: 0  f: 8  o: 15  \n",
      "\n",
      "Next is Rando's turn.\n",
      "Rando chose E\n",
      "\n",
      "Current state:\n",
      "Rando:\t\t\tO: 3  F: 8  E: 0  D: 8  C: 0  B: 0  A: 0  \n",
      "Mini:\t\t\ta: 6  b: 0  c: 0  d: 0  e: 0  f: 8  o: 15  \n",
      "\n",
      "Next is Mini's turn.\n",
      "Mini chose a\n",
      "Mini gets another turn!\n",
      "\n",
      "Current state:\n",
      "Rando:\t\t\tO: 3  F: 8  E: 0  D: 8  C: 0  B: 0  A: 0  \n",
      "Mini:\t\t\ta: 0  b: 1  c: 1  d: 1  e: 1  f: 9  o: 16  \n",
      "\n",
      "Next is Mini's turn.\n",
      "Mini chose f\n",
      "\n",
      "Current state:\n",
      "Rando:\t\t\tO: 3  F: 9  E: 1  D: 9  C: 1  B: 1  A: 1  \n",
      "Mini:\t\t\ta: 1  b: 2  c: 1  d: 1  e: 1  f: 0  o: 17  \n",
      "\n",
      "Next is Rando's turn.\n",
      "Rando chose D\n",
      "\n",
      "Current state:\n",
      "Rando:\t\t\tO: 4  F: 10  E: 2  D: 0  C: 1  B: 1  A: 1  \n",
      "Mini:\t\t\ta: 2  b: 3  c: 2  d: 2  e: 2  f: 1  o: 17  \n",
      "\n",
      "Next is Mini's turn.\n",
      "Mini chose f\n",
      "Mini gets another turn!\n",
      "\n",
      "Current state:\n",
      "Rando:\t\t\tO: 4  F: 10  E: 2  D: 0  C: 1  B: 1  A: 1  \n",
      "Mini:\t\t\ta: 2  b: 3  c: 2  d: 2  e: 2  f: 0  o: 18  \n",
      "\n",
      "Next is Mini's turn.\n",
      "Mini chose e\n",
      "Mini gets another turn!\n",
      "\n",
      "Current state:\n",
      "Rando:\t\t\tO: 4  F: 10  E: 2  D: 0  C: 1  B: 1  A: 1  \n",
      "Mini:\t\t\ta: 2  b: 3  c: 2  d: 2  e: 0  f: 1  o: 19  \n",
      "\n",
      "Next is Mini's turn.\n",
      "Mini chose f\n",
      "Mini gets another turn!\n",
      "\n",
      "Current state:\n",
      "Rando:\t\t\tO: 4  F: 10  E: 2  D: 0  C: 1  B: 1  A: 1  \n",
      "Mini:\t\t\ta: 2  b: 3  c: 2  d: 2  e: 0  f: 0  o: 20  \n",
      "\n",
      "Next is Mini's turn.\n",
      "Mini chose b\n",
      "\n",
      "Current state:\n",
      "Rando:\t\t\tO: 4  F: 10  E: 2  D: 0  C: 1  B: 0  A: 1  \n",
      "Mini:\t\t\ta: 2  b: 0  c: 3  d: 3  e: 0  f: 0  o: 22  \n",
      "\n",
      "Next is Rando's turn.\n",
      "Rando chose F\n",
      "\n",
      "Current state:\n",
      "Rando:\t\t\tO: 5  F: 0  E: 2  D: 0  C: 2  B: 1  A: 2  \n",
      "Mini:\t\t\ta: 3  b: 1  c: 4  d: 4  e: 1  f: 1  o: 22  \n",
      "\n",
      "Next is Mini's turn.\n",
      "Mini chose f\n",
      "Mini gets another turn!\n",
      "\n",
      "Current state:\n",
      "Rando:\t\t\tO: 5  F: 0  E: 2  D: 0  C: 2  B: 1  A: 2  \n",
      "Mini:\t\t\ta: 3  b: 1  c: 4  d: 4  e: 1  f: 0  o: 23  \n",
      "\n",
      "Next is Mini's turn.\n",
      "Mini chose c\n",
      "Mini gets another turn!\n",
      "\n",
      "Current state:\n",
      "Rando:\t\t\tO: 5  F: 0  E: 2  D: 0  C: 2  B: 1  A: 2  \n",
      "Mini:\t\t\ta: 3  b: 1  c: 0  d: 5  e: 2  f: 1  o: 24  \n",
      "\n",
      "Next is Mini's turn.\n",
      "Mini chose f\n",
      "Mini gets another turn!\n",
      "\n",
      "Current state:\n",
      "Rando:\t\t\tO: 5  F: 0  E: 2  D: 0  C: 2  B: 1  A: 2  \n",
      "Mini:\t\t\ta: 3  b: 1  c: 0  d: 5  e: 2  f: 0  o: 25  \n",
      "\n",
      "Next is Mini's turn.\n",
      "Mini chose e\n",
      "Mini gets another turn!\n",
      "\n",
      "Current state:\n",
      "Rando:\t\t\tO: 5  F: 0  E: 2  D: 0  C: 2  B: 1  A: 2  \n",
      "Mini:\t\t\ta: 3  b: 1  c: 0  d: 5  e: 0  f: 1  o: 26  \n",
      "\n",
      "Next is Mini's turn.\n",
      "Mini chose f\n",
      "Mini gets another turn!\n",
      "\n",
      "Current state:\n",
      "Rando:\t\t\tO: 5  F: 0  E: 2  D: 0  C: 2  B: 1  A: 2  \n",
      "Mini:\t\t\ta: 3  b: 1  c: 0  d: 5  e: 0  f: 0  o: 27  \n",
      "\n",
      "Next is Mini's turn.\n",
      "Mini chose b\n",
      "\n",
      "Current state:\n",
      "Rando:\t\t\tO: 5  F: 0  E: 2  D: 0  C: 2  B: 1  A: 2  \n",
      "Mini:\t\t\ta: 3  b: 0  c: 0  d: 5  e: 0  f: 0  o: 28  \n",
      "\n",
      "Next is Rando's turn.\n",
      "Rando chose E\n",
      "Rando gets another turn!\n",
      "\n",
      "Current state:\n",
      "Rando:\t\t\tO: 6  F: 1  E: 0  D: 0  C: 2  B: 1  A: 2  \n",
      "Mini:\t\t\ta: 3  b: 0  c: 0  d: 5  e: 0  f: 0  o: 28  \n",
      "\n",
      "Next is Rando's turn.\n",
      "Rando chose B\n",
      "\n",
      "Current state:\n",
      "Rando:\t\t\tO: 6  F: 1  E: 0  D: 0  C: 3  B: 0  A: 2  \n",
      "Mini:\t\t\ta: 3  b: 0  c: 0  d: 5  e: 0  f: 0  o: 28  \n",
      "\n",
      "Next is Mini's turn.\n",
      "Mini chose d\n",
      "\n",
      "Current state:\n",
      "Rando:\t\t\tO: 6  F: 1  E: 0  D: 0  C: 3  B: 1  A: 3  \n",
      "Mini:\t\t\ta: 3  b: 0  c: 0  d: 0  e: 1  f: 1  o: 29  \n",
      "\n",
      "Next is Rando's turn.\n",
      "Rando chose A\n",
      "\n",
      "Current state:\n",
      "Rando:\t\t\tO: 7  F: 1  E: 0  D: 0  C: 4  B: 2  A: 0  \n",
      "Mini:\t\t\ta: 3  b: 0  c: 0  d: 0  e: 1  f: 1  o: 29  \n",
      "\n",
      "Next is Mini's turn.\n",
      "Mini chose f\n",
      "Mini gets another turn!\n",
      "\n",
      "Current state:\n",
      "Rando:\t\t\tO: 7  F: 1  E: 0  D: 0  C: 4  B: 2  A: 0  \n",
      "Mini:\t\t\ta: 3  b: 0  c: 0  d: 0  e: 1  f: 0  o: 30  \n",
      "\n",
      "Next is Mini's turn.\n",
      "Mini chose a\n",
      "\n",
      "Current state:\n",
      "Rando:\t\t\tO: 7  F: 1  E: 0  D: 0  C: 0  B: 2  A: 0  \n",
      "Mini:\t\t\ta: 0  b: 1  c: 1  d: 0  e: 1  f: 0  o: 35  \n",
      "\n",
      "Next is Rando's turn.\n",
      "Rando chose F\n",
      "Rando gets another turn!\n",
      "\n",
      "Current state:\n",
      "Rando:\t\t\tO: 8  F: 0  E: 0  D: 0  C: 0  B: 2  A: 0  \n",
      "Mini:\t\t\ta: 0  b: 1  c: 1  d: 0  e: 1  f: 0  o: 35  \n",
      "\n",
      "Next is Rando's turn.\n",
      "Rando chose B\n",
      "\n",
      "Current state:\n",
      "Rando:\t\t\tO: 10  F: 0  E: 0  D: 0  C: 1  B: 0  A: 0  \n",
      "Mini:\t\t\ta: 0  b: 1  c: 0  d: 0  e: 1  f: 0  o: 35  \n",
      "\n",
      "Next is Mini's turn.\n",
      "Mini chose b\n",
      "\n",
      "Current state:\n",
      "Rando:\t\t\tO: 10  F: 0  E: 0  D: 0  C: 1  B: 0  A: 0  \n",
      "Mini:\t\t\ta: 0  b: 0  c: 0  d: 0  e: 1  f: 0  o: 36  \n",
      "\n",
      "Next is Rando's turn.\n",
      "Rando chose C\n",
      "\n",
      "Rando:\t\t\tO: 11  F: 0  E: 0  D: 0  C: 0  B: 0  A: 0  \n",
      "Mini:\t\t\ta: 0  b: 0  c: 0  d: 0  e: 1  f: 0  o: 36  \n",
      "\n",
      "Finished Game!\n",
      "Mini wins!\n",
      "Wall time: 190 ms\n"
     ]
    }
   ],
   "source": [
    "%%time\n",
    "repeat_game(f\"log_{timestamp}.json\",False,1)"
   ]
  },
  {
   "cell_type": "markdown",
   "id": "24f1f6fd",
   "metadata": {
    "cell_id": "00099-f09c29f7-e702-44fe-90ae-f717679533c4",
    "deepnote_cell_type": "markdown"
   },
   "source": [
    "## Test: Random_AI vs. Minimax"
   ]
  },
  {
   "cell_type": "markdown",
   "id": "f2ed1bb6",
   "metadata": {},
   "source": [
    "<b style=\"background-color:yellow; color:blue\">Comments:</b> I need an explanation what is going on here.  And the whole thing should be turned into a function."
   ]
  },
  {
   "cell_type": "code",
   "execution_count": null,
   "id": "99564b46",
   "metadata": {
    "cell_id": "00100-1856310e-6d3c-4710-a45a-f0f610cc78f0",
    "deepnote_cell_type": "code",
    "deepnote_to_be_reexecuted": false,
    "execution_millis": 39,
    "execution_start": 1645542040353,
    "source_hash": "64ffe975"
   },
   "outputs": [],
   "source": [
    "%%time\n",
    "\n",
    "limit = 2\n",
    "\n",
    "mini_wins = 0\n",
    "rando_wins = 0\n",
    "\n",
    "for seed in range(100):\n",
    "    game1 = Kalah_Game([Random_AI(0,\"Rando\",seed), Minimax(1,\"Mini\",limit)],0)\n",
    "    game1.start()\n",
    "    won1 = utility(game1.state, 0)\n",
    "    \n",
    "    # print(\"\")\n",
    "    # game1.show_state() \n",
    "    if(won1 == 1):\n",
    "        # print(f\"{game1.players[0]} wins!\")\n",
    "        rando_wins += 1\n",
    "    elif(won1 == -1):\n",
    "        # print(f\"{game1.players[1]} wins!\")\n",
    "        mini_wins += 1\n",
    "    else:\n",
    "        # print(f\"Draw!\")\n",
    "        pass\n",
    "        \n",
    "    ############################\n",
    "    \n",
    "    game2 = Kalah_Game([Minimax(0,\"Mini\",limit), Random_AI(1,\"Rando\",seed)],0)\n",
    "    game2.start()\n",
    "    won2 = utility(game2.state, 0)\n",
    "    \n",
    "    # print(\"\")\n",
    "    # game2.show_state() \n",
    "    if(won2 == 1):\n",
    "        # print(f\"{game2.players[0]} wins!\")\n",
    "        mini_wins += 1\n",
    "    elif(won2 == -1):\n",
    "        # print(f\"{game2.players[1]} wins!\")\n",
    "        rando_wins += 1\n",
    "    else:\n",
    "        # print(f\"Draw!\")\n",
    "        pass\n",
    "            \n",
    "print(f\"Rando won {rando_wins} times and Mini won {mini_wins} times!\")"
   ]
  },
  {
   "cell_type": "markdown",
   "id": "11e2faf3",
   "metadata": {},
   "source": [
    "## Test: Minimax vs. Minimax with seeds 2 and 3"
   ]
  },
  {
   "cell_type": "code",
   "execution_count": 72,
   "id": "82f9f421",
   "metadata": {
    "scrolled": true
   },
   "outputs": [
    {
     "name": "stdout",
     "output_type": "stream",
     "text": [
      "Mini_3 wins!\n"
     ]
    }
   ],
   "source": [
    "game = Kalah_Game([Minimax(0,\"Mini_3\",3),Minimax(1,\"Mini_2\",2)],0)\n",
    "game.start()\n",
    "won = utility(game.state, 0)\n",
    "\n",
    "if(won == 1):\n",
    "    print(f\"{game.players[0]} wins!\")\n",
    "elif(won == -1):\n",
    "    print(f\"{game.players[1]} wins!\")\n",
    "else:\n",
    "    print(f\"Draw!\")"
   ]
  },
  {
   "cell_type": "markdown",
   "id": "c8cf4a02",
   "metadata": {
    "cell_id": "00091-60bc3111-97a0-49d5-9149-c3f0e8fd3b35",
    "deepnote_cell_type": "markdown"
   },
   "source": [
    "## Play against Minimax"
   ]
  },
  {
   "cell_type": "code",
   "execution_count": 73,
   "id": "1d4621e8",
   "metadata": {
    "cell_id": "00092-25914aab-8ba4-4dd7-8cb9-fb289bb6d452",
    "deepnote_cell_type": "code",
    "deepnote_to_be_reexecuted": false,
    "execution_millis": 3,
    "execution_start": 1645541272465,
    "source_hash": "8290a717"
   },
   "outputs": [],
   "source": [
    "gameHuman = Kalah_Game([Human(0,\"Karl\"), Minimax(1,\"AI2\",4)], 2)"
   ]
  },
  {
   "cell_type": "code",
   "execution_count": 74,
   "id": "0a1984d8",
   "metadata": {
    "cell_id": "00093-af8aaf1e-d196-48bb-bcf2-5bafb6222232",
    "deepnote_cell_type": "code",
    "deepnote_output_heights": [
     null,
     520,
     null,
     null,
     null,
     null,
     611
    ],
    "deepnote_to_be_reexecuted": false,
    "execution_millis": 1,
    "execution_start": 1645541305906,
    "scrolled": false,
    "source_hash": "5682e81a"
   },
   "outputs": [
    {
     "name": "stdout",
     "output_type": "stream",
     "text": [
      "Karl chose E\n"
     ]
    },
    {
     "data": {
      "application/vnd.jupyter.widget-view+json": {
       "model_id": "20628e021955436891720197754e62da",
       "version_major": 2,
       "version_minor": 0
      },
      "text/plain": [
       "MultiCanvas(height=400, width=800)"
      ]
     },
     "metadata": {},
     "output_type": "display_data"
    },
    {
     "name": "stdout",
     "output_type": "stream",
     "text": [
      "Finished Game!\n",
      "Karl wins!\n"
     ]
    }
   ],
   "source": [
    "gameHuman.start()"
   ]
  },
  {
   "cell_type": "markdown",
   "id": "d0be8b0e",
   "metadata": {},
   "source": [
    "## <b style=\"background-color:yellow; color:blue\">Concluding Remarks</b> \n",
    "* I really like the graphical representation of the game.\n",
    "  However, this should be separated into a different notebook so that I can reuse it for my class.\n",
    "* The work should be structured into serveral notebooks.  I do not want to execute all tests when I just want to play a game.\n",
    "  I usually just press the button `Run All Above` and that runs the tests.\n",
    "* Testing should be more systematic, i.e. you should structure the code into functions and you should also discuss the results.\n",
    "* You still need to implement *Alpha-Beta-Pruning* and *[Scout](https://www.aaai.org/Papers/AAAI/1980/AAAI80-041.pdf)*. "
   ]
  },
  {
   "cell_type": "markdown",
   "id": "3485a3e0",
   "metadata": {
    "created_in_deepnote_cell": true,
    "deepnote_cell_type": "markdown",
    "tags": []
   },
   "source": [
    "<a style='text-decoration:none;line-height:16px;display:flex;color:#5B5B62;padding:10px;justify-content:end;' href='https://deepnote.com?utm_source=created-in-deepnote-cell&projectId=b91c3ea7-d814-439b-837a-72fdc90697b1' target=\"_blank\">\n",
    "<img alt='Created in deepnote.com' style='display:inline;max-height:16px;margin:0px;margin-right:7.5px;' src='data:image/svg+xml;base64,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' > </img>\n",
    "Created in <span style='font-weight:600;margin-left:4px;'>Deepnote</span></a>"
   ]
  },
  {
   "cell_type": "code",
   "execution_count": null,
   "id": "611b21e8",
   "metadata": {},
   "outputs": [],
   "source": []
  }
 ],
 "metadata": {
  "deepnote": {},
  "deepnote_execution_queue": [],
  "deepnote_notebook_id": "767f6f9f-2fd2-4e35-9e91-b22ae1451d4f",
  "kernelspec": {
   "display_name": "Python 3 (ipykernel)",
   "language": "python",
   "name": "python3"
  },
  "language_info": {
   "codemirror_mode": {
    "name": "ipython",
    "version": 3
   },
   "file_extension": ".py",
   "mimetype": "text/x-python",
   "name": "python",
   "nbconvert_exporter": "python",
   "pygments_lexer": "ipython3",
   "version": "3.10.0"
  },
  "nbdime-conflicts": {
   "local_diff": [
    {
     "diff": [
      {
       "diff": [
        {
         "key": 0,
         "op": "addrange",
         "valuelist": [
          "3.9.1"
         ]
        },
        {
         "key": 0,
         "length": 1,
         "op": "removerange"
        }
       ],
       "key": "version",
       "op": "patch"
      }
     ],
     "key": "language_info",
     "op": "patch"
    }
   ],
   "remote_diff": [
    {
     "diff": [
      {
       "diff": [
        {
         "key": 0,
         "op": "addrange",
         "valuelist": [
          "3.8.12"
         ]
        },
        {
         "key": 0,
         "length": 1,
         "op": "removerange"
        }
       ],
       "key": "version",
       "op": "patch"
      }
     ],
     "key": "language_info",
     "op": "patch"
    }
   ]
  }
 },
 "nbformat": 4,
 "nbformat_minor": 5
}
