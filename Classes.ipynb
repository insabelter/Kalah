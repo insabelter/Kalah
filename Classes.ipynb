{
 "cells": [
  {
   "cell_type": "code",
   "metadata": {
    "cell_id": "83778be5-dbbd-48b8-9522-7ba9f5847ca7",
    "deepnote_to_be_reexecuted": false,
    "source_hash": "ebe85e9f",
    "execution_start": 1644942957468,
    "execution_millis": 27,
    "deepnote_output_heights": [
     2
    ],
    "deepnote_cell_type": "code"
   },
   "source": "from ipycanvas import MultiCanvas,hold_canvas\nfrom ipywidgets import Image\nimport math\nimport random\nimport IPython.display\nimport time\nimport copy\nimport datetime as dt\nfrom IPython.core.display import HTML\nwith open('style.css', 'r') as file:\n    css = file.read()\nHTML(css)",
   "execution_count": 1,
   "outputs": [
    {
     "output_type": "execute_result",
     "execution_count": 1,
     "data": {
      "text/plain": "<IPython.core.display.HTML object>",
      "text/html": "<link href='http://fonts.googleapis.com/css?family=Alegreya+Sans:100,300,400,500,700,800,900,100italic,300italic,400italic,500italic,700italic,800italic,900italic' rel='stylesheet' type='text/css'>\n<link href='http://fonts.googleapis.com/css?family=Arvo:400,700,400italic' rel='stylesheet' type='text/css'>\n<link href='http://fonts.googleapis.com/css?family=PT+Mono' rel='stylesheet' type='text/css'>\n<link href='http://fonts.googleapis.com/css?family=Shadows+Into+Light' rel='stylesheet' type='text/css'>\n<link href='http://fonts.googleapis.com/css?family=Philosopher:400,700,400italic,700italic' rel='stylesheet' type='text/css'>\n\n<style>\n\n@font-face {\n    font-family: \"Computer Modern\";\n    src: url('http://mirrors.ctan.org/fonts/cm-unicode/fonts/otf/cmunss.otf');\n}\n\n.container { width: 100% }\n\n/* Formatting for header cells */\n.text_cell_render h1 {\n    font-family: 'Philosopher';\n    font-weight: 600;\n    font-size: 2.2em;\n    line-height: 100%;\n    color: rgb(0, 80, 120);\n    margin-bottom: 0.1em;\n    margin-top: 0.1em;\n    display: block;\n}\t\n.text_cell_render h2 {\n    font-family: 'Philosopher';\n    font-weight: 400;\n    font-size: 1.8em;\n    line-height: 100%;\n    color: rgb(0, 80, 120);\n    margin-bottom: 0.1em;\n    margin-top: 0.1em;\n    display: block;\n}\t\n\n.text_cell_render h3 {\n    font-family: 'Philosopher';\n    margin-top:12px;\n    margin-bottom: 3px;\n    font-style: italic;\n    color: rgb(0, 100, 132);\n}\n\n.text_cell_render h4 {\n    font-family: 'Philosopher', serif;\n    color: rgb(0, 100, 132);\n}\n\n.text_cell_render h5 {\n    font-family: 'Philosopher', serif;\n    margin-top:6px;\n    margin-bottom: 2px;\n    color: rgb(0, 100, 132);\n    font-style: italic;\n    display: block;\n}\n\n.text_cell_render h6 {\n    font-family: 'PT Mono', serif;\n    font-weight: 300;\n    font-size: 10pt;\n    color: grey;\n    margin-bottom: 1px;\n    margin-top: 1px;\n}\n\n.text_cell_render em {\n    font-family: 'Philosopher', serif;\n    background-color: rgb(220,235,240);\n    font-size:    110%;\n    margin-left:   2px;\n    margin-right:  2px;\n    font-weight:   100;\n    font-style: normal;\n}\n\n.text_cell_render b {\n    font-family: 'Philosopher', serif;\n    color:            rgb(255,195,195);\n    font-size:    110%;\n    margin-left:   2px;\n    margin-right:  2px;\n    font-weight:   650;\n}\n\n.text_cell_render tt {\n    background-color: rgb(235,235,235);\n    font-size:    120%;\n    margin-left:   2px;\n    margin-right:  2px;\n    font-weight:   150;\n}\n\n.Codemirror {\n    font-family: \"PT Mono\";\n    font-size: 100%;\n}\n\n</style>\n\n"
     },
     "metadata": {}
    }
   ]
  },
  {
   "cell_type": "markdown",
   "source": "# Kalah Rules\n\n### Game structure:\n<p>The playing field consists of 6 houses per side and additionally one large house per player at the edge, the so-called storage. At the beginning of the game, six seeds are placed in each house except the storage.</p>\n\n![title](images/Board.png)\n\n### Gameplay:\n<p>Alternately, a player selects a house on his side of the board. The player then places the seeds in the following houses in a counter-clockwise direction. If visited, a seed is placed in the own storage, the opponent's storage is left out. The player's turn ends if all seeds are placed.\n\nThere are some special rules, that apply if the last seed is placed in the player's storage or an empty player's house:\n1. If the last seed is placed in the own storage, it is the player's turn again. \n2. If the last seed is placed in an empty house on the player's own side of the board, this seed and all the seeds in the opposite house are placed in the player's storage. In that case, it is the opponent's turn.</p>\n\n### End of the game:\n<p>The game ends when all the houses of one player have been emptied. The opposing player then places all remaining seed in his storage.</p>\n\n### Object of the game:\n<p>The winner is the player who has more seeds in his storage at the end of the game.</p>\n\nSource: http://www.kalaha.de/kalaha.htm (9.11.2021)",
   "metadata": {
    "cell_id": "00001-18d6a173-aebe-492d-9c4a-d89c70682f66",
    "deepnote_cell_type": "markdown"
   }
  },
  {
   "cell_type": "markdown",
   "source": "# Kalah game definition\n\n### Basic definition:\n<p>We define the game G as a six-tuple as follows so that a computer is able to play Kalah.</p>\n<br>\n<center><em>G = &ltStates, s0, Players, nextStates, finished, utility></em></center>\n\nThe components have the following meanings:\n\n1. **States** is a set that contains all possible states of the game Kalah. A state of the game is represented by a list containing two lists, representing the houses of the two players. The first six values of each list represent the number of seeds in the player's houses represented by the letters **{A, B, C, D, E, F}**. The seventh and last value stands for the number of seeds in the corresponding player's storage. The start state of the game is for example:\n\n<center><em>[[6,6,6,6,6,6,0], [6,6,6,6,6,6,0]]</em></center>\n\n2. **s0 ε States** is the start state.\n3. **Players** is a list that contains the players. Kalah is a game for exactly two players, therefore this game's **Players** list only contains two elements.\n4. **nextStates** is a function which calculates a set of states that are reachable by one move from Player p in the state s. To do so, the function receives a state **s ε States** and a player **p ε Players**. The formula is given as follows:\n\n<center><em>nextStates: States x Players &rarr; 2<sup>States</sup></em></center>\n\n5. **finished** is a function that takes a state **s $\\varepsilon$ States** and checks if the game is finished, meaning that one of the players has emptied all their houses . The formula is: \n<br><br>\n<center><em>finished: States &rarr; B</em></center>\n<br>\nThe function finished is used to compute a set Terminalstates that contains all states from a finished game. This set is defined as follows: \n<br><br>\n<center><em>TerminalStates:= {s ε States | finished(s)}</em></center>\n<br>\n6. **utility** is a function that calculates the value of the game for a player. Therefore, the function takes a state **s ε TerminalStates** and a player **p ε Players**. The value that the function returns is an element from the set **{-1, 0, 1}**. The player p has lost the game when the function returns -1. If the function returns 1, the player has won the game and if the value is 0, the game ends in a draw. The formula for the function is:\n\n<center><em>utility: TerminalStates x Players &rarr; {-1, 0. 1}</em></center>\n\nsource: https://github.com/karlstroetmann/Artificial-Intelligence/blob/master/Lecture-Notes/artificial-intelligence.pdf, S.87, Abruf am 06.02.2022",
   "metadata": {
    "cell_id": "00002-64cc3c2b-13f0-4191-a76c-c4445977d712",
    "deepnote_cell_type": "markdown"
   }
  },
  {
   "cell_type": "markdown",
   "source": "# Classes\n\nThe Kalah game is implemented with the use of several classes, containing base class <tt>Kalah_Game</tt>, a <tt>Board</tt> class for displaying the UI and a <tt>Player</tt> class as well as several classes inheriting from this <tt>Player</tt> class:\n\n- <tt>Human</tt>\n- <tt>Repeated_Player</tt>\n- <tt>Random_AI</tt>\n\nThe following illustration shows a class diagram of all classes involved:\n\n<img src=\"images/Kalah_Class_Diagram.png\" alt=\"Kalah_Class_Diagram\" width=\"600\"/>\n\nThis image was created with [Creatly](https://creately.com/).",
   "metadata": {
    "cell_id": "00003-1b61c251-9262-4c52-a07b-bdc857bc4dbe",
    "deepnote_cell_type": "markdown"
   }
  },
  {
   "cell_type": "markdown",
   "source": "## Global Variables\n\nAdditionally to the classes, there is one global variable *gOrder* with the purpose to help converting the state of the game board, which is represented by a nested list, to letters. The letter representation is mainly for the UI, but also distributes to print and logging messages being easier to humanly comprehend.",
   "metadata": {
    "cell_id": "00004-d869a495-adcb-4d67-a1c8-eb2e48bb9038",
    "deepnote_cell_type": "markdown"
   }
  },
  {
   "cell_type": "code",
   "metadata": {
    "cell_id": "00005-7d50d53c-2223-4aae-804c-a5135095efa6",
    "deepnote_to_be_reexecuted": false,
    "source_hash": "5e40d2f5",
    "execution_start": 1644942957493,
    "execution_millis": 1,
    "deepnote_cell_type": "code"
   },
   "source": "gOrder = [['A','B','C','D','E','F','O'],\n         ['a','b','c','d','e','f','o']]",
   "execution_count": 2,
   "outputs": []
  },
  {
   "cell_type": "markdown",
   "source": "## Global Game Functions\n\n- *other_player(player_num)*\n- *move(state, player_num, choice)*\n- *next_states(state, player_num)*\n- *finished(state)*\n- *utility(state, player_num)*\n- *value(state, player_num)*\n\nTODO",
   "metadata": {
    "cell_id": "6101a602-8a4d-4adc-bd0d-4b735a1cbea7",
    "tags": [],
    "deepnote_cell_type": "markdown"
   }
  },
  {
   "cell_type": "markdown",
   "source": "### Function: other_player\nThe function *other_player(player_num)* returns the opponent's player number to a given player number. This means that it returns 1 for the input 0, and 0 for the input 1.",
   "metadata": {
    "cell_id": "00039-12e7bf25-9084-46d1-b529-c0928d53be7c",
    "deepnote_cell_type": "markdown"
   }
  },
  {
   "cell_type": "code",
   "metadata": {
    "cell_id": "00040-baf5d4bd-4a25-4098-b0d6-921bd14d1319",
    "deepnote_to_be_reexecuted": false,
    "source_hash": "770e4d0e",
    "execution_start": 1644942957494,
    "execution_millis": 1,
    "deepnote_cell_type": "code"
   },
   "source": "def other_player(player_num):\n    return (player_num + 1) % 2",
   "execution_count": 3,
   "outputs": []
  },
  {
   "cell_type": "markdown",
   "source": "### Function: move\nThe function *move(choice)* receives a state, the number of a player and the house index they have chosen as a result of the <tt>Player</tt> method *choose_house*. It calculates the actions of the player's turn and returns the resulting new game state.\nAdditionally, the function is used in *next_states* to calculate all possible following states from one state.\n\n##### The calculations are implemented based on the following game rules:\n\n1. The current player choses one of his house. The seeds from the chosen house are placed counterclockwise in the house of both players and in the store of the current player. The store of the opponent is left out. Then it is the turn of the opponent.\n\n\n2. If the last seed is placed in the store of the current player, they get another move.\n\n\n3. If the last seed is placed in an empty house of the current player the seed from this house and all seeds from the opposite house are place in the store of the current player. Then it's the opponent's turn.",
   "metadata": {
    "cell_id": "00050-77ac7966-e59c-4060-9293-30832f033eab",
    "deepnote_cell_type": "markdown"
   }
  },
  {
   "cell_type": "code",
   "metadata": {
    "cell_id": "00051-84307cf6-3f2c-4076-bf4a-5b2d7b66ecf9",
    "deepnote_to_be_reexecuted": false,
    "source_hash": "40382b97",
    "execution_start": 1644942957499,
    "execution_millis": 1,
    "deepnote_cell_type": "code"
   },
   "source": "def move(state, player_num, choice):\n    new_state = copy.deepcopy(state)\n\n    seeds = new_state[player_num][choice]\n    new_state[player_num][choice] = 0\n\n    c_house_player_num = player_num\n    c_house_num = choice\n\n    # Go through houses counterclockwise\n    while (seeds > 0):\n        c_house_num += 1\n\n        # Skip opponent's store\n        if(c_house_num == 6 and c_house_player_num != player_num):\n            continue\n\n        # Switch to houses of the other player\n        if(c_house_num > 6):\n            c_house_num = 0\n            c_house_player_num = other_player(c_house_player_num)\n\n        # Add seed to the currently visited house\n        new_state[c_house_player_num][c_house_num] += 1\n        seeds -= 1\n    \n    another_turn = False\n    # Check for special rules after last seed was placed in own store or own empty house:\n    if(c_house_player_num == player_num):\n\n        # Rule: Another turn if last seed is placed in own store\n        if(c_house_num == 6):\n            # Give current player another turn\n            another_turn = True\n\n        # Rule: Last seed is placed in empty house of current player\n        elif(new_state[player_num][c_house_num] == 1):                \n            # Collect all seeds to be rewarded and empty both houses\n            receivedSeeds = new_state[player_num][c_house_num]\n            receivedSeeds += new_state[other_player(player_num)][5 - c_house_num]\n            new_state[other_player(player_num)][5 - c_house_num] = 0\n            new_state[player_num][c_house_num] = 0\n            # Award all the seeds to the current player's kalah\n            new_state[player_num][6] += receivedSeeds\n            # if self.display_mode != 0:\n                # print(f'Player {self.players[player_num].name} gets a steal for {receivedSeeds} Seeds!')\n\n    move_log = tuple([player_num, choice, copy.deepcopy(new_state)])\n    \n    return new_state, another_turn, move_log",
   "execution_count": 4,
   "outputs": []
  },
  {
   "cell_type": "markdown",
   "source": "### Function: next_states\nThe function *nextStates()* is a function which calculates a set of states that are reachable by one move from Player p in the state s. To do so, the function receives a state **s ε States** and a player **p ε Players**. The formula is given as follows:\n\n<center><em>nextStates: States x Players &rarr; 2<sup>States</sup></em></center>",
   "metadata": {
    "cell_id": "00058-73ff3b34-bd55-4d10-a27a-af6ea7a395e4",
    "deepnote_cell_type": "markdown"
   }
  },
  {
   "cell_type": "code",
   "metadata": {
    "cell_id": "00059-b3c036fb-5c91-4b53-a303-ccae1336b33a",
    "deepnote_to_be_reexecuted": false,
    "source_hash": "3255d99f",
    "execution_start": 1644942957522,
    "execution_millis": 0,
    "deepnote_cell_type": "code"
   },
   "source": "def next_states(state, player_num):\n    states = []\n    for choice in range(6):\n        # Check if choice is valid (at least one seed in house)\n        if state[player_num][choice] == 0:\n            continue    \n        next_state, another_turn, _ = move(state, player_num, choice)\n\n        # Check if player has another turn\n        # If so, next_states is called recursively until the player has no other turn \n        if another_turn:\n            for s,choices in next_states(next_state, player_num):\n                states.append((s,[choice] + choices))\n        else:\n            states.append((next_state,[choice]))\n\n    return states",
   "execution_count": 5,
   "outputs": []
  },
  {
   "cell_type": "code",
   "metadata": {
    "cell_id": "00060-c82f4f90-bed5-446e-bea2-33926492147d",
    "deepnote_to_be_reexecuted": false,
    "source_hash": "2f32270",
    "execution_start": 1644942957522,
    "execution_millis": 4,
    "deepnote_output_heights": [
     98,
     117
    ],
    "deepnote_cell_type": "code"
   },
   "source": "next_states([[3, 4, 1, 2, 0, 7, 19], [5, 2, 2, 1, 2, 1, 23]],0)",
   "execution_count": 6,
   "outputs": [
    {
     "output_type": "execute_result",
     "execution_count": 6,
     "data": {
      "text/plain": "[([[0, 5, 2, 3, 0, 7, 19], [5, 2, 2, 1, 2, 1, 23]], [0]),\n ([[3, 0, 2, 3, 1, 8, 19], [5, 2, 2, 1, 2, 1, 23]], [1]),\n ([[3, 4, 0, 3, 0, 7, 19], [5, 2, 2, 1, 2, 1, 23]], [2]),\n ([[3, 4, 1, 0, 1, 8, 19], [5, 2, 2, 1, 2, 1, 23]], [3]),\n ([[3, 4, 1, 2, 0, 0, 20], [6, 3, 3, 2, 3, 2, 23]], [5])]"
     },
     "metadata": {}
    }
   ]
  },
  {
   "cell_type": "markdown",
   "source": "### Method: finished\nThe private method *finished()* checks if one of the players has no seeds in their house left and is therefore unable to take another turn. If this is the case, the method returns True, otherwise it returns False. ",
   "metadata": {
    "cell_id": "00052-d30a97d7-a30f-423b-9ff0-2b7a8b9d3c5f",
    "deepnote_cell_type": "markdown"
   }
  },
  {
   "cell_type": "code",
   "metadata": {
    "cell_id": "00053-a39f0c36-fd65-463e-bf2b-3148a7d47916",
    "deepnote_to_be_reexecuted": false,
    "source_hash": "fe285279",
    "execution_start": 1644942957523,
    "execution_millis": 1,
    "deepnote_cell_type": "code"
   },
   "source": "def finished(state):\n    sum0 = sum(state[0][:-1])\n    sum1 = sum(state[1][:-1])\n\n    if(not (sum0 == 0 or sum1 == 0)):\n        return False\n    return True",
   "execution_count": 7,
   "outputs": []
  },
  {
   "cell_type": "markdown",
   "source": "### Method: utility\nThe  method *utility(player_num)* receives the number of the current player and uses the current state to calculate the utility of the state for the player. The method compares the seeds from both stores and returns an Integer dependent on the result. If the current player has more seeds than the opponent the method returns 1. If they own less seeds than the opponent the method returns -1 and if it is a draw the number 0 is returned.     ",
   "metadata": {
    "cell_id": "00056-08bdb5a5-9aab-4114-9dc9-42156ac99995",
    "deepnote_cell_type": "markdown"
   }
  },
  {
   "cell_type": "code",
   "metadata": {
    "cell_id": "00057-c4f03208-b88b-46ab-a794-551d6210a8b9",
    "deepnote_to_be_reexecuted": false,
    "source_hash": "5acd4e7e",
    "execution_start": 1644942957525,
    "execution_millis": 4,
    "deepnote_cell_type": "code"
   },
   "source": "def utility(state, player_num):\n    playerStore = state[player_num][6]\n    opponentStore = state[other_player(player_num)][6]\n    if(playerStore > opponentStore):\n        return 1\n    elif(playerStore == opponentStore):\n        return 0\n    else:\n        return -1",
   "execution_count": 8,
   "outputs": []
  },
  {
   "cell_type": "markdown",
   "source": "### Method: value\nTODO!",
   "metadata": {
    "cell_id": "00061-24530f64-210e-4a4c-85d0-5b29ca3cc874",
    "deepnote_cell_type": "markdown"
   }
  },
  {
   "cell_type": "code",
   "source": "def to_tuple(state_list):\n    return tuple(tuple(s) for s in state_list)",
   "metadata": {
    "cell_id": "4f5ed394-fe01-4762-b519-68da15f74a76",
    "tags": [],
    "deepnote_to_be_reexecuted": false,
    "source_hash": "9d49b353",
    "execution_start": 1644942957531,
    "execution_millis": 4,
    "deepnote_output_heights": [
     21
    ],
    "deepnote_cell_type": "code"
   },
   "outputs": [],
   "execution_count": 9
  },
  {
   "cell_type": "code",
   "source": "to_tuple([[1, 8, 1, 0, 1, 2, 16], [1, 4, 0, 4, 15, 14, 5]])",
   "metadata": {
    "cell_id": "b2cfc6a0-9b0e-4fa4-9a79-1b1f687faba5",
    "tags": [],
    "deepnote_to_be_reexecuted": false,
    "source_hash": "4fd92f07",
    "execution_start": 1644942957537,
    "execution_millis": 6,
    "deepnote_output_heights": [
     21
    ],
    "deepnote_cell_type": "code"
   },
   "outputs": [
    {
     "output_type": "execute_result",
     "execution_count": 10,
     "data": {
      "text/plain": "((1, 8, 1, 0, 1, 2, 16), (1, 4, 0, 4, 15, 14, 5))"
     },
     "metadata": {}
    }
   ],
   "execution_count": 10
  },
  {
   "cell_type": "code",
   "source": "def to_list(state_tuple):\n    return list(list(s) for s in state_tuple)",
   "metadata": {
    "cell_id": "b53023c8-a7bc-452c-a3c7-341959abce8e",
    "tags": [],
    "deepnote_to_be_reexecuted": false,
    "source_hash": "d74c70c7",
    "execution_start": 1644942957542,
    "execution_millis": 2,
    "deepnote_cell_type": "code"
   },
   "outputs": [],
   "execution_count": 11
  },
  {
   "cell_type": "code",
   "source": "to_list([[1, 8, 1, 0, 1, 2, 16], [1, 4, 0, 4, 15, 14, 5]])",
   "metadata": {
    "cell_id": "110d3192-80ca-449a-a32f-62a50d48a8af",
    "tags": [],
    "deepnote_to_be_reexecuted": false,
    "source_hash": "197706ac",
    "execution_start": 1644942957546,
    "execution_millis": 3,
    "deepnote_output_heights": [
     21
    ],
    "deepnote_cell_type": "code"
   },
   "outputs": [
    {
     "output_type": "execute_result",
     "execution_count": 12,
     "data": {
      "text/plain": "[[1, 8, 1, 0, 1, 2, 16], [1, 4, 0, 4, 15, 14, 5]]"
     },
     "metadata": {}
    }
   ],
   "execution_count": 12
  },
  {
   "cell_type": "code",
   "source": "Cache = {}\n\ndef memoize(f):\n    global Cache\n\n    def f_memoized(*args):\n        args = (to_tuple(args[0]),args[1],args[2])\n        if args in Cache:\n            return Cache[args]\n        \n        result = f(to_list(args[0]),args[1],args[2])\n        Cache[args] = result\n        return result\n\n    return f_memoized",
   "metadata": {
    "cell_id": "6b50ff50-e95e-4a8a-817e-fb11cc3adf18",
    "tags": [],
    "deepnote_to_be_reexecuted": false,
    "source_hash": "d494e78e",
    "execution_start": 1644942957571,
    "execution_millis": 1,
    "deepnote_cell_type": "code"
   },
   "outputs": [],
   "execution_count": 13
  },
  {
   "cell_type": "code",
   "metadata": {
    "cell_id": "00062-15963ce2-44f0-41c7-8b49-eeb2bec9a42b",
    "deepnote_to_be_reexecuted": false,
    "source_hash": "cdfecd3e",
    "execution_start": 1644942957572,
    "execution_millis": 0,
    "deepnote_cell_type": "code"
   },
   "source": "@memoize\ndef value(state, player_num, limit):\n    if finished(state) or next_states(state, player_num) == [] or limit==0:\n        return utility(state, player_num)\n    other = other_player(player_num)\n    limit -= 1\n    return max([-value(ns, other,limit) for ns,_ in next_states(state, player_num)])",
   "execution_count": 14,
   "outputs": []
  },
  {
   "cell_type": "code",
   "metadata": {
    "cell_id": "00063-4491526f-8e84-471f-80c5-4ff4762e4eb5",
    "deepnote_to_be_reexecuted": false,
    "source_hash": "79c52b74",
    "execution_start": 1644942957573,
    "execution_millis": 0,
    "deepnote_output_heights": [
     252,
     611
    ],
    "deepnote_cell_type": "code"
   },
   "source": "#print(value([[1, 8, 1, 0, 1, 2, 16], [1, 4, 0, 4, 15, 14, 5]],0,4))",
   "execution_count": 15,
   "outputs": []
  },
  {
   "cell_type": "markdown",
   "source": "# Player Class\n\n#### Attributes:\n- *player_type*\n- *number*\n- *name*\n\n#### Methods:\n\n- *\\_\\_init__(number, name)*\n- *\\_\\_str__()*\n- *_available_house(own_house)*\n- *choose_house(current_state)*\n\nThe class <tt>Player</tt> is the superclass which represents a Kalah game player. In Kalah there are exactly two players which compete against each other. \n\nThe attribute *player_type* is only for subclasses of the <tt>Player</tt> class. It contains a string representation of the name of the <tt>Player</tt> subclass. This makes it possible to print the specific type of a <tt>Player</tt> object. This is for example used for creating log files. \n\nThe attribute *number* of a player has either the value 0 or 1 depending on the order in which the players take their turns.\nIf the number of the player is 0, they start the game by having the first turn.\nAdditionally, *number* represents the index of the state list which contains the player's list of house values.\n\nThe attribute *name* is a string which represents the player's name in the UI or print and logging messages.\n\n### Method: __init__\nThe method *\\_\\_init__(number, name)* initializes the <tt>Player</tt> object and checks if the given *number* is either 0 or 1 and if the given *name* is a string. If one of these criteria is not met, an error message is raised.\n\n### Method: __str__\nThe method *\\_\\_str__()* defines the *name* of the <tt>Player</tt> object as their string representative for print messages.",
   "metadata": {
    "cell_id": "00006-52148c2a-42a1-498f-928f-c3e9602185a0",
    "deepnote_cell_type": "markdown"
   }
  },
  {
   "cell_type": "code",
   "metadata": {
    "cell_id": "00007-80dcf176-adc9-4577-a325-075cde6a4c00",
    "deepnote_to_be_reexecuted": false,
    "source_hash": "2c2b0d32",
    "execution_start": 1644942957574,
    "execution_millis": 1,
    "deepnote_cell_type": "code"
   },
   "source": "class Player:\n    \n    def __init__(self, number, name):\n        \n        if number in [0,1]:\n            self.number = number\n        else:\n            raise ValueError(\"Number of player must be 0 or 1!\")\n        if isinstance(name, str):\n            self.name = name\n        else:\n            raise ValueError(\"Name must be a string!\")\n            \n    def __str__(self):\n        return self.name",
   "execution_count": 16,
   "outputs": []
  },
  {
   "cell_type": "markdown",
   "source": "### Method: _available_house\n\nThe private method *_available_house(own_house)* receives a list which represents the player's house and their store. The method returns a list with the indizes of all house which contain at least one seed (list indizes with a value higher than null).",
   "metadata": {
    "cell_id": "00008-a3cdebeb-230d-42ed-8a70-a40d31015d0e",
    "deepnote_cell_type": "markdown"
   }
  },
  {
   "cell_type": "code",
   "metadata": {
    "cell_id": "00009-23dabb0f-72e5-4cae-bb76-f2e804a41eaa",
    "deepnote_to_be_reexecuted": false,
    "source_hash": "a0c11d16",
    "execution_start": 1644942957575,
    "execution_millis": 2,
    "deepnote_cell_type": "code"
   },
   "source": "def _available_house(self, own_house):\n    available = []\n    for i in range(len(own_house)):\n        if own_house[i] != 0:\n            available.append(i)\n    return available\n\nPlayer._available_house = _available_house",
   "execution_count": 17,
   "outputs": []
  },
  {
   "cell_type": "markdown",
   "source": "### Method: choose_house\n\nThe method *choose_house(current_state)* receives the current state of the Kalah board and returns the index of the chosen house from the player's house list. This method differentiates the <tt>Player</tt> subclasses and is therefore differently implemented in each of them. There is no basic implementation of this method in the <tt>Player</tt> class. This is why in the class <tt>Kalah_Game</tt> only subclasses of <tt>Player</tt> are accepted as players. Therefore, this class is intended as an abstract class.",
   "metadata": {
    "cell_id": "00010-3a268f04-fb70-4702-8581-12a08e44ceaf",
    "deepnote_cell_type": "markdown"
   }
  },
  {
   "cell_type": "code",
   "metadata": {
    "cell_id": "00011-066523ef-8c3e-47a8-b983-7f60276a6069",
    "deepnote_to_be_reexecuted": false,
    "source_hash": "98896a25",
    "execution_start": 1644942957579,
    "execution_millis": 2,
    "deepnote_cell_type": "code"
   },
   "source": "def choose_house(self, current_state):\n    pass\n\nPlayer.choose_house = choose_house",
   "execution_count": 18,
   "outputs": []
  },
  {
   "cell_type": "markdown",
   "source": "## Tests of Player Class",
   "metadata": {
    "cell_id": "00012-e9b53e25-7ec5-46b0-a0bd-117ddbac81d5",
    "deepnote_cell_type": "markdown"
   }
  },
  {
   "cell_type": "markdown",
   "source": "### 1. Player number must be 0 or 1",
   "metadata": {
    "cell_id": "00013-59078ffb-4032-40f8-a54e-2d3037ac076c",
    "deepnote_cell_type": "markdown"
   }
  },
  {
   "cell_type": "code",
   "metadata": {
    "cell_id": "00014-a4f2741d-ab65-495a-a187-f621c71f3941",
    "deepnote_to_be_reexecuted": false,
    "source_hash": "50141332",
    "execution_start": 1644942957583,
    "execution_millis": 512,
    "deepnote_cell_type": "code"
   },
   "source": "try:\n    Player(2, \"Player1\")\nexcept ValueError as e:\n    print(e)",
   "execution_count": 19,
   "outputs": [
    {
     "name": "stdout",
     "text": "Number of player must be 0 or 1!\n",
     "output_type": "stream"
    }
   ]
  },
  {
   "cell_type": "markdown",
   "source": "### 2. Player name must be a string",
   "metadata": {
    "cell_id": "00015-7fb50cc2-7733-4b64-85c8-ab54cbde9db2",
    "deepnote_cell_type": "markdown"
   }
  },
  {
   "cell_type": "code",
   "metadata": {
    "cell_id": "00016-ebad97c6-77c7-4e9e-85ce-37c10608769b",
    "deepnote_to_be_reexecuted": false,
    "source_hash": "ac300006",
    "execution_start": 1644942957606,
    "execution_millis": 491,
    "deepnote_cell_type": "code"
   },
   "source": "try:\n    Player(0, 3)\nexcept ValueError as e:\n    print(e)",
   "execution_count": 20,
   "outputs": [
    {
     "name": "stdout",
     "text": "Name must be a string!\n",
     "output_type": "stream"
    }
   ]
  },
  {
   "cell_type": "markdown",
   "source": "### 3. Successful Player creation",
   "metadata": {
    "cell_id": "00017-718a37a1-4eb8-489a-baeb-0d7358be3ec1",
    "deepnote_cell_type": "markdown"
   }
  },
  {
   "cell_type": "code",
   "metadata": {
    "cell_id": "00018-98afb551-3360-420d-92b6-bbf1d26334f9",
    "deepnote_to_be_reexecuted": false,
    "source_hash": "cf4eee45",
    "execution_start": 1644942957607,
    "execution_millis": 490,
    "deepnote_output_heights": [
     21
    ],
    "deepnote_cell_type": "code"
   },
   "source": "Player(0, \"Player1\")",
   "execution_count": 21,
   "outputs": [
    {
     "output_type": "execute_result",
     "execution_count": 21,
     "data": {
      "text/plain": "<__main__.Player at 0x7f15b2dde210>"
     },
     "metadata": {}
    }
   ]
  },
  {
   "cell_type": "markdown",
   "source": "## Human Player Class\n\nThe class <tt>Human</tt> inherits from <tt>Player</tt>.\nIt is used for humans playing against each other or against one of the AIs. \n\n",
   "metadata": {
    "cell_id": "00019-fe0ccafc-fbc2-427b-a592-68d9d216e326",
    "deepnote_cell_type": "markdown"
   }
  },
  {
   "cell_type": "code",
   "metadata": {
    "cell_id": "00020-35fe8f63-685a-47b7-b765-7fd0b60fb53f",
    "deepnote_to_be_reexecuted": false,
    "source_hash": "bdbb780c",
    "execution_start": 1644942957608,
    "execution_millis": 0,
    "deepnote_cell_type": "code"
   },
   "source": "class Human(Player):\n    \n    def __init__(self, number, name):\n        self.player_type = \"Human\"\n        super().__init__(number, name)",
   "execution_count": 22,
   "outputs": []
  },
  {
   "cell_type": "markdown",
   "source": "### Method: choose_house\nThe method *choose_house(current_state)* for the <tt>Human</tt> class is implemented as follows:\n\nAt first the own house are extracted from the game state and the available house indizes are calculated using the method *_available_house*. Afterwards the human player is asked to choose one of the available house via a input field. With limiting the player to the available house, it is easier to detect a correct input. If the player enters an unvalid value, they are asked to input a value again until a valid value is given. The index of the corresponding house is returned.",
   "metadata": {
    "cell_id": "00021-cf566414-d74e-46ca-b9c7-cecf8c568fdc",
    "deepnote_cell_type": "markdown"
   }
  },
  {
   "cell_type": "code",
   "metadata": {
    "cell_id": "00022-df2b72cd-61b8-4dba-82c3-094e61c56fbb",
    "deepnote_to_be_reexecuted": false,
    "source_hash": "ac405a0",
    "execution_start": 1644942957614,
    "execution_millis": 0,
    "deepnote_cell_type": "code"
   },
   "source": "def choose_house(self, current_state):\n    own_t,store = current_state[self.number][:6],current_state[self.number][6]\n    available = self._available_house(own_t)\n\n    i_string = \"Choose one of the available houses:\\n\"\n    for i in available:\n        i_string += f\"{gOrder[self.number][i]}, \"\n\n    choice_str = \"\"\n    letter_numbers = {gOrder[1][i]:i for i in range(6)}\n    \n    while choice_str not in [k for k in letter_numbers if letter_numbers[k] in available]:\n        choice_str = input(i_string[:-2]+\"\\n\").lower()\n\n    choice = letter_numbers[choice_str]\n    IPython.display.clear_output()\n    return choice\n    \nHuman.choose_house = choose_house",
   "execution_count": 23,
   "outputs": []
  },
  {
   "cell_type": "markdown",
   "source": "### Test of Human Player Class",
   "metadata": {
    "cell_id": "00023-5061fc16-8fdb-4bf4-b6f8-2ec3dd7b80ad",
    "deepnote_cell_type": "markdown"
   }
  },
  {
   "cell_type": "code",
   "metadata": {
    "cell_id": "00024-f6a38e74-2264-4792-b5d7-a09d19c5fa8a",
    "deepnote_to_be_reexecuted": false,
    "source_hash": "c543ce6e",
    "execution_start": 1644942957615,
    "execution_millis": 1,
    "deepnote_cell_type": "code"
   },
   "source": "human = Human(1,\"Hans\")",
   "execution_count": 24,
   "outputs": []
  },
  {
   "cell_type": "code",
   "metadata": {
    "cell_id": "00025-f333aab2-3fb7-4eba-b9d1-e9776db8e693",
    "deepnote_to_be_reexecuted": false,
    "source_hash": "5ed9cd1b",
    "execution_start": 1644942957616,
    "execution_millis": 2,
    "deepnote_cell_type": "code"
   },
   "source": "#human.choose_house([[6,6,6,6,6,6,0], [6,0,6,6,4,6,0]])",
   "execution_count": 25,
   "outputs": []
  },
  {
   "cell_type": "markdown",
   "source": "## Repeated Player Class\n\nThe class <tt>Repeated_Player</tt> inherits from <tt>Player</tt>.\nIt is used for repeating the behavior of a player from a previous game on basis of a given log file.\n\nFor this reason it takes the **logged_moves** information from the logged game and saves it as *moves_to_repeat*, so that these moves can be replicated in the *choose_house* method.",
   "metadata": {
    "cell_id": "00026-8fa58f2a-aa20-41e4-9ca7-fcaed44f3d8f",
    "deepnote_cell_type": "markdown"
   }
  },
  {
   "cell_type": "code",
   "metadata": {
    "cell_id": "00027-bdb85e54-31ec-41fe-bdf7-6f6ada13274e",
    "deepnote_to_be_reexecuted": false,
    "source_hash": "aa9ca2b9",
    "execution_start": 1644942957618,
    "execution_millis": 2,
    "deepnote_cell_type": "code"
   },
   "source": "class Repeated_Player(Player):\n    \n    def __init__(self, number, name, logged_moves):\n        self.player_type = \"Repeated_Player\"\n        self.moves_to_repeat = logged_moves\n        super().__init__(number, name)",
   "execution_count": 26,
   "outputs": []
  },
  {
   "cell_type": "markdown",
   "source": "### Method: choose_house\nThe method *choose_house(current_state)* for the <tt>Repeated_Player</tt> class is implemented as follows:\n\nThe list *moves_to_repeat* is handled as a stack in this method. This means that one after one, the moves which stand at the beginning of the list are extracted and removed from the list. In the beginning of the method this process is repeated until the current state of the game matches the state of the last removed move from the *moves_to_repeat* list. This means, that the move which the player will do next is should now be at the beginning of the list.\n\nIn the next step, this move is also extracted from the list, but not removed as it could contain the current state for the next move of the player if they gain another turn. To make sure, that this move was actually done by this player in the logged game, the logged move player number is compared to the actual player number. If the numbers match, the choice from that move is returned.",
   "metadata": {
    "cell_id": "00028-8bfa8e52-2d15-4f8f-8266-322277a23ff6",
    "deepnote_cell_type": "markdown"
   }
  },
  {
   "cell_type": "code",
   "metadata": {
    "cell_id": "00029-f79f2556-68e8-4963-a4d1-437eac70091c",
    "deepnote_to_be_reexecuted": false,
    "source_hash": "1f15bf5",
    "execution_start": 1644942957624,
    "execution_millis": 2,
    "deepnote_cell_type": "code"
   },
   "source": "def choose_house(self, current_state):\n    \n    state = self.moves_to_repeat.pop(0)[2]\n    while state != current_state:\n        if len(self.moves_to_repeat) == 0:\n            raise ValueError(\"There is no move left to repeat!\")\n        state = self.moves_to_repeat.pop(0)[2]\n        \n    this_move = self.moves_to_repeat[0]\n    if this_move[0] not in (-1,self.number):\n        raise ValueError(\"This move was originally not played by this player!\")\n        \n    choice = this_move[1]\n        \n    return choice\n\nRepeated_Player.choose_house = choose_house",
   "execution_count": 27,
   "outputs": []
  },
  {
   "cell_type": "markdown",
   "source": "## Random_AI Player Class\n\nThe class <tt>Random_AI</tt> inherits from <tt>Player</tt>. It is a simple AI player implementation which chooses house at random.\n\nThe class <tt>Random_AI</tt> has a modified *\\_\\_init__* function which has an additional argument *seed* for setting a seed for the **random** library functions. Whenever the same seed is set, the <tt>random</tt> function creates the same random numbers or chooses the same random objects from a list. Adding this argument eases the logging and debbuging of <tt>Random_AI</tt> players.",
   "metadata": {
    "cell_id": "00030-badbced2-0020-47dd-99e3-5687174e7e0b",
    "deepnote_cell_type": "markdown"
   }
  },
  {
   "cell_type": "code",
   "metadata": {
    "cell_id": "00031-7d3c5b0b-269f-4204-af8b-1c6eabdbb3db",
    "deepnote_to_be_reexecuted": false,
    "source_hash": "96c059a4",
    "execution_start": 1644942957628,
    "execution_millis": 3,
    "deepnote_cell_type": "code"
   },
   "source": "import random as rn\n\nclass Random_AI(Player):\n    \n    def __init__(self, number, name, seed):\n        self.player_type = \"Random_AI\"\n        self.seed = seed\n        rn.seed(seed)\n        super().__init__(number, name)",
   "execution_count": 28,
   "outputs": []
  },
  {
   "cell_type": "markdown",
   "source": "### Method: choose_house\nThe method *choose_house(current_state)* for the <tt>Random_AI</tt> class is implemented as follows:\n\nAt first the own house are extracted from the game state and the available house indizes are calculated using the method *_available_house*. From the list of available house indizes, one is chosen at random using the function **choice** from the library **random**. Afterwards, this value is returned.",
   "metadata": {
    "cell_id": "00032-ff768f24-2df3-455c-8f0b-8011fdc47066",
    "deepnote_cell_type": "markdown"
   }
  },
  {
   "cell_type": "code",
   "metadata": {
    "cell_id": "00033-ff262724-0eed-43ef-a372-5d1361e7a7ec",
    "deepnote_to_be_reexecuted": false,
    "source_hash": "be8598cc",
    "execution_start": 1644942957654,
    "execution_millis": 4,
    "deepnote_cell_type": "code"
   },
   "source": "def choose_house(self, current_state):\n    own_t,safe = current_state[self.number][:6],current_state[self.number][6]\n    available = self._available_house(own_t)\n\n    choice = rn.choice(available)\n\n    return choice\n\nRandom_AI.choose_house = choose_house",
   "execution_count": 29,
   "outputs": []
  },
  {
   "cell_type": "markdown",
   "source": "### Test of Random_AI Player Class",
   "metadata": {
    "cell_id": "00034-76564f5a-9753-4b32-baac-88528e478ba9",
    "deepnote_cell_type": "markdown"
   }
  },
  {
   "cell_type": "code",
   "metadata": {
    "cell_id": "00035-1d9f6cc3-0b1d-456e-8e40-3786ebe9cca3",
    "deepnote_to_be_reexecuted": false,
    "source_hash": "68533d11",
    "execution_start": 1644942957679,
    "execution_millis": 1,
    "deepnote_cell_type": "code"
   },
   "source": "ai = Random_AI(0,\"Rando\", 1)",
   "execution_count": 30,
   "outputs": []
  },
  {
   "cell_type": "code",
   "metadata": {
    "cell_id": "00036-0bb86c25-ba78-4abe-a223-26821ce359e2",
    "deepnote_to_be_reexecuted": false,
    "source_hash": "ceb5a2ab",
    "execution_start": 1644942957681,
    "execution_millis": 419,
    "deepnote_output_heights": [
     21
    ],
    "deepnote_cell_type": "code"
   },
   "source": "ai.choose_house([[6,6,6,6,6,6,0], [6,6,6,6,6,6,0]])",
   "execution_count": 31,
   "outputs": [
    {
     "output_type": "execute_result",
     "execution_count": 31,
     "data": {
      "text/plain": "1"
     },
     "metadata": {}
    }
   ]
  },
  {
   "cell_type": "markdown",
   "source": "# Minmax Player Class",
   "metadata": {
    "cell_id": "fcf04a8a-a818-42d4-8ea0-c2f3a7455a4a",
    "tags": [],
    "deepnote_cell_type": "markdown"
   }
  },
  {
   "cell_type": "markdown",
   "source": "TODO: Put in Player Class and rework for that matter",
   "metadata": {
    "cell_id": "00064-7ac561aa-0b28-45c9-b109-ddf0492d7828",
    "deepnote_cell_type": "markdown"
   }
  },
  {
   "cell_type": "code",
   "source": "class Minmax(Player):\n    \n    def __init__(self, number, name, limit, seed):\n        self.player_type = \"Minmax\"\n        self.limit = limit\n        self.seed = seed\n        rn.seed(seed)\n        super().__init__(number, name)",
   "metadata": {
    "cell_id": "e9dae061-9232-42f6-82bf-c6a0a2a2ab9a",
    "tags": [],
    "deepnote_to_be_reexecuted": false,
    "source_hash": "63ffd6f3",
    "execution_start": 1644942957682,
    "execution_millis": 1,
    "deepnote_cell_type": "code"
   },
   "outputs": [],
   "execution_count": 32
  },
  {
   "cell_type": "markdown",
   "source": "### Method: choose_house\nTODO",
   "metadata": {
    "cell_id": "ea046153-9726-436b-b20a-bf47a21188b9",
    "tags": [],
    "deepnote_cell_type": "markdown"
   }
  },
  {
   "cell_type": "code",
   "source": "def choose_house(self, current_state):\n    \n    NS = next_states(current_state, self.number)\n    bestVal = value(current_state, self.number,self.limit)\n    \n    BestChoices = [choices[0] for state,choices in NS if -value(state, other_player(self.number),self.limit-1) == bestVal]\n    choice = random.choice(BestChoices)\n\n    if choice == None:\n        raise ValueError(f'No choice for Minmax found.\\nbestVal: {bestVal}\\nBestChoices: {BestChoices}\\nnext_states: {NS}')\n\n    return choice\n\nMinmax.choose_house = choose_house",
   "metadata": {
    "cell_id": "6537ac49-bc9e-4f28-94d1-179fc448c345",
    "tags": [],
    "deepnote_to_be_reexecuted": false,
    "source_hash": "84109d06",
    "execution_start": 1644942957684,
    "execution_millis": 1,
    "deepnote_cell_type": "code"
   },
   "outputs": [],
   "execution_count": 33
  },
  {
   "cell_type": "code",
   "source": "Minmax(1,\"Mini\",3,2).choose_house([[6,6,6,6,6,6,0], [6,6,6,6,6,6,0]])",
   "metadata": {
    "cell_id": "b6a3a2e3-4eca-460b-ab49-6de3416227b8",
    "tags": [],
    "deepnote_to_be_reexecuted": false,
    "source_hash": "a7874464",
    "execution_start": 1644942957711,
    "execution_millis": 390,
    "deepnote_output_heights": [
     21
    ],
    "deepnote_cell_type": "code"
   },
   "outputs": [
    {
     "output_type": "execute_result",
     "execution_count": 34,
     "data": {
      "text/plain": "0"
     },
     "metadata": {}
    }
   ],
   "execution_count": 34
  },
  {
   "cell_type": "markdown",
   "source": "# Kalah_Game Class\n\n#### Attributes:\n- *state*\n- *players*\n- *current_player*\n- *display_mode*\n- *logged_moves*\n\n#### Methods:\n\n- *\\_\\_init__(players)*\n- *_show_state(state)*\n- *show_state()*\n- *draw_board()*\n- *_draw_seeds()*\n- *_draw_numbers()*\n- *start()*\n- *log_to_file(file_id)*\n\nThe class <tt>Kalah_Game</tt> is the core of the Kalah game implementation. It contains all information on the game, including the current game state.\n\nThe attribute *state* represents the state of the Kalah board which is defined by the number of seeds laying in each of the player's house and their stores. It is implemented by a nested list which contains a list for the house on each of the two players' sides. The last index of each of the lists is the store of that player. At the start of the game, where the stores are empty and there are six seeds in every house, the implemented representation of the state for example is: [[6,6,6,6,6,6,0], [6,6,6,6,6,6,0]].\n\nThe attribute *players* is a list of the two players that play the game. They must be instances of a subclass of the <tt>Player</tt> class. The order in which they take turns is determined by their <tt>Player</tt> *number*: The player with the number 0 goes first.\n\nThe attribute *current_player* has either the value 0 or 1. It takes track of which player's turn it currently is. If *current_player* has the value 0 for example, it is the turn of the player which stands at index 0 of the *players* list and therefore also has the <tt>Player</tt>'s class attribute *number* of value 0.\n\nThe attribute *display_mode* defines which way the game is displayed in the output console. The possible values are 0, 1 and 2 and are defined as follows:\n- 0: No output is displayed. The game is only logged to the log file\n- 1: The board is only displayed using the print method *_show_state*\n- 2: The board is displayed with the function *draw_board* using **ipycanvas** for rendering\n\nThe attribute *logged_moves* is a list containing a tuple for every move that is made in the game. This list is necessary for the method *log_to_file*. Each tuple has the player number of the player that have made the move at the first index, the index of the chosen house at the second index and the resulting game state as the third index. The start state is saved as the first move in the list, having -1 as the player number and -1 as the chosen house number. As Python uses references, the states are saved in this list by creating deep copies with the library **copy**. At the beginning of the game *logged_moves* looks like this:\n\n\\[(-1, -1, [[6,6,6,6,6,6,0], [6,6,6,6,6,6,0]])\\]\n\n### Method: __init__\nThe method *\\_\\_init__(players)* initializes the game by setting the *state* to the initial state (seen above), initializing a board object and setting the *players* list using the received \"players\" argument. Before setting the *players* list, the received list is checked for the number of items it contains (must be exactly 2) and if the items in the list are both instances of a <tt>Player</tt> subclass (but not of the class <tt>Player</tt> itself). In error case, matching error messages are raised.",
   "metadata": {
    "cell_id": "00037-0314b2eb-7c77-45db-9ccf-4aeec075b2a6",
    "deepnote_cell_type": "markdown"
   }
  },
  {
   "cell_type": "code",
   "metadata": {
    "cell_id": "00038-4fae6689-c6ee-4e40-9064-ed5a491a8ad2",
    "deepnote_to_be_reexecuted": false,
    "source_hash": "7250bccb",
    "execution_start": 1644942957761,
    "execution_millis": 2,
    "deepnote_cell_type": "code"
   },
   "source": "class Kalah_Game():\n    \n    def __init__(self, players, display_mode):\n        self.state = [[6,6,6,6,6,6,0], [6,6,6,6,6,6,0]]\n        self.turn = 0\n        \n        if len(players) != 2:\n            raise ValueError(\"There must be exactly two players!\")\n        if not ((isinstance(players[0], Player) and type(players[0]) != Player) \n            and (isinstance(players[1], Player) and type(players[1]) != Player)):\n            raise ValueError(\"Both players must be of instances of a subclass of the class Player!\")\n        if {players[0].number, players[1].number} != {0,1}:\n            raise ValueError(\"One of the players must be self.number 0 and the other one self.number 1!\")\n        \n        self.players = players\n        self.current_player = 0\n        \n        if display_mode not in range(3):\n            raise ValueError(\"The display mode must be 0, 1 or 2!\")\n        self.display_mode = display_mode\n        \n        self.logged_moves = [(-1,-1,copy.deepcopy(self.state))]",
   "execution_count": 35,
   "outputs": []
  },
  {
   "cell_type": "markdown",
   "source": "### Methods: _show_state and show_state\nThe private method *_show_state(state)* creates a formatted string which represents the received state and prints it to the console. It can be used as an alternative to the **ipycanvas** game UI.\n\nThe method *show_state()* calls the private method *_show_state(state)* with the current game state (attribute *state*).",
   "metadata": {
    "cell_id": "00041-35501014-dbb5-460e-8102-6d487e6ef662",
    "deepnote_cell_type": "markdown"
   }
  },
  {
   "cell_type": "code",
   "metadata": {
    "cell_id": "00042-c88d57a9-5d31-455c-bb5a-284e6dec53ab",
    "deepnote_to_be_reexecuted": false,
    "source_hash": "ab4973bc",
    "execution_start": 1644942957767,
    "execution_millis": 2,
    "deepnote_cell_type": "code"
   },
   "source": "def _show_state(self, state):\n    s = f''\n\n    s += f'{self.players[0].name}:\\t\\t\\t'\n    for j in range(6,-1,-1):\n        s += f'{gOrder[0][j]}: {state[0][j]}  '\n    s += f'\\n'\n\n    s += f'{self.players[1].name}:\\t\\t\\t'\n    for j in range(7):\n        s += f'{gOrder[1][j]}: {state[1][j]}  '\n    s += f'\\n'\n\n    print(s)\n\nKalah_Game._show_state = _show_state",
   "execution_count": 36,
   "outputs": []
  },
  {
   "cell_type": "code",
   "metadata": {
    "cell_id": "00043-34db1702-e2d8-4abf-8943-ff1e975ec834",
    "deepnote_to_be_reexecuted": false,
    "source_hash": "f307656f",
    "execution_start": 1644942957772,
    "execution_millis": 2,
    "deepnote_cell_type": "code"
   },
   "source": "def show_state(self):\n    self._show_state(self.state)\n    \nKalah_Game.show_state = show_state",
   "execution_count": 37,
   "outputs": []
  },
  {
   "cell_type": "markdown",
   "source": "### Method: draw_board\nThe method *draw_board()* sets the required positional values for the methods *_draw_seeds()* and *_draw_numbers()*.\n\nIt also translates the current state of the game to a dictionary so that the positional values can be related to the corresponding seed amount in the respective houses.\n\nAdditionally this function creates a MultiCanvas for the display of the board. The first layer is the background and the second layer is the foreground.\n\nAfterwards this function calls the functions *_draw_seeds()* and *_draw_numbers()*.\n\nFinally the finished canvas gets displayed.",
   "metadata": {
    "cell_id": "00044-c89dc264-f1a7-494f-b15d-63dedf499d8b",
    "deepnote_cell_type": "markdown"
   }
  },
  {
   "cell_type": "code",
   "metadata": {
    "cell_id": "00045-9ae47a98-0ea8-4a40-9608-5181c6065d82",
    "deepnote_to_be_reexecuted": false,
    "source_hash": "25887e31",
    "execution_start": 1644942957780,
    "execution_millis": 4,
    "deepnote_cell_type": "code"
   },
   "source": "def draw_board(self):\n    TOP_ROW_POSITION = (175,130)\n    HOUSE_OFFSETS = (90,145)\n    HOUSE_MAP={\n        'F':TOP_ROW_POSITION,\n        'E':(TOP_ROW_POSITION[0]+HOUSE_OFFSETS[0],TOP_ROW_POSITION[1]),\n        'D':(TOP_ROW_POSITION[0]+HOUSE_OFFSETS[0]*2,TOP_ROW_POSITION[1]),\n        'C':(TOP_ROW_POSITION[0]+HOUSE_OFFSETS[0]*3,TOP_ROW_POSITION[1]),\n        'B':(TOP_ROW_POSITION[0]+HOUSE_OFFSETS[0]*4,TOP_ROW_POSITION[1]),\n        'A':(TOP_ROW_POSITION[0]+HOUSE_OFFSETS[0]*5,TOP_ROW_POSITION[1]),\n        'a':(TOP_ROW_POSITION[0],TOP_ROW_POSITION[1]+HOUSE_OFFSETS[1]),\n        'b':(TOP_ROW_POSITION[0]+HOUSE_OFFSETS[0],TOP_ROW_POSITION[1]+HOUSE_OFFSETS[1]),\n        'c':(TOP_ROW_POSITION[0]+HOUSE_OFFSETS[0]*2,TOP_ROW_POSITION[1]+HOUSE_OFFSETS[1]),\n        'd':(TOP_ROW_POSITION[0]+HOUSE_OFFSETS[0]*3,TOP_ROW_POSITION[1]+HOUSE_OFFSETS[1]),\n        'e':(TOP_ROW_POSITION[0]+HOUSE_OFFSETS[0]*4,TOP_ROW_POSITION[1]+HOUSE_OFFSETS[1]),\n        'f':(TOP_ROW_POSITION[0]+HOUSE_OFFSETS[0]*5,TOP_ROW_POSITION[1]+HOUSE_OFFSETS[1]),\n    }\n    \n    canvas = MultiCanvas(2,width=800, height=400)\n    canvas[0].draw_image(Image.from_file('images/Board.png'),0,0)\n    \n    with hold_canvas(canvas):\n        self._draw_seeds(canvas[1],HOUSE_MAP)\n        self._draw_numbers(canvas[1],HOUSE_MAP)\n    display(canvas)\n\nKalah_Game.draw_board = draw_board",
   "execution_count": 38,
   "outputs": []
  },
  {
   "cell_type": "markdown",
   "source": "### Method: _draw_seeds\nThe method *_draw_seeds()* reads the game of the state and accordingly draws seeds on the respective houses. Each seed gets drawn in a random position inside the house with an additional random rotation.\n\nTo place the seeds accurately we must consider the width and height of the image of one seed. To do so we subtract the width and height from the final position chosen.",
   "metadata": {
    "cell_id": "00046-2ba1945a-5935-475c-869b-2b5dc99bd9ad",
    "deepnote_cell_type": "markdown"
   }
  },
  {
   "cell_type": "code",
   "metadata": {
    "cell_id": "00047-ef6d8645-ca23-413f-bc0b-4a04af788701",
    "deepnote_to_be_reexecuted": false,
    "source_hash": "97b41d16",
    "execution_start": 1644942957790,
    "execution_millis": 1,
    "deepnote_cell_type": "code"
   },
   "source": "def _draw_seeds(self,canvas,housemap):\n    HOUSE_RAD = 23\n    HOUSE_OFFSETS = (90,125)\n    seedsprites = [Image.from_file(f'images/Samen{i}.png') for i in range(1,6)]\n    seed_width = 15\n    seed_height = 15\n    \n    gamestate = self._state_to_dict()\n    for house in gamestate:\n        for seed in range(gamestate[house]):\n            seed_sprite = seedsprites[random.randrange(5)]\n            \n            if house == 'O':\n                centerX, centerY = (housemap['F'][0]-HOUSE_OFFSETS[0],random.randrange(housemap['F'][1],housemap['F'][1]+HOUSE_OFFSETS[1]))\n            elif house == 'o':\n                centerX, centerY = (housemap['F'][0]+HOUSE_OFFSETS[0]*6,random.randrange(housemap['F'][1],housemap['F'][1]+HOUSE_OFFSETS[1]))\n            else:\n                centerX, centerY = housemap[house]\n\n            r = HOUSE_RAD * math.sqrt(random.random())\n            theta = random.random() * 2 * math.pi\n            x = centerX + r * math.cos(theta)\n            y = centerY + r * math.sin(theta)\n            canvas.save()\n\n            #Rotate by random amount for variation\n            canvas.translate(x, y)\n            canvas.rotate(random.uniform(0.,math.pi))\n            canvas.translate(-x, -y)\n            canvas.draw_image(seed_sprite, x-seed_width, y-seed_height)\n            canvas.restore()\n\nKalah_Game._draw_seeds = _draw_seeds",
   "execution_count": 39,
   "outputs": []
  },
  {
   "cell_type": "markdown",
   "source": "### Method: _draw_numbers\nThe method *_draw_numbers()* reads the game of the state and accordingly draws numbers that represent the amount of seeds on the respective houses. \n\n",
   "metadata": {
    "cell_id": "00048-9f6c842a-555f-425f-a71b-7e6d44a998c5",
    "deepnote_cell_type": "markdown"
   }
  },
  {
   "cell_type": "code",
   "metadata": {
    "cell_id": "00049-54fa7903-fdfb-4a45-970f-1a34a8e8044e",
    "deepnote_to_be_reexecuted": false,
    "source_hash": "5a5a88b2",
    "execution_start": 1644942957801,
    "execution_millis": 3,
    "deepnote_cell_type": "code"
   },
   "source": "def _draw_numbers(self,canvas,housemap):\n    NUMBER_OFFSET_Y_BOT = 50\n    NUMBER_OFFSET_Y_TOP = 60\n    HOUSE_OFFSETS = (90,145)\n    housenumbermap = {\n        'F': (housemap['F'][0],housemap['F'][1]+NUMBER_OFFSET_Y_TOP),\n        'E': (housemap['E'][0],housemap['E'][1]+NUMBER_OFFSET_Y_TOP),\n        'D': (housemap['D'][0],housemap['D'][1]+NUMBER_OFFSET_Y_TOP),\n        'C': (housemap['C'][0],housemap['C'][1]+NUMBER_OFFSET_Y_TOP),\n        'B': (housemap['B'][0],housemap['B'][1]+NUMBER_OFFSET_Y_TOP),\n        'A': (housemap['A'][0],housemap['A'][1]+NUMBER_OFFSET_Y_TOP),\n        'a': (housemap['a'][0],housemap['a'][1]-NUMBER_OFFSET_Y_BOT),\n        'b': (housemap['b'][0],housemap['b'][1]-NUMBER_OFFSET_Y_BOT),\n        'c': (housemap['c'][0],housemap['c'][1]-NUMBER_OFFSET_Y_BOT),\n        'd': (housemap['d'][0],housemap['d'][1]-NUMBER_OFFSET_Y_BOT),\n        'e': (housemap['e'][0],housemap['e'][1]-NUMBER_OFFSET_Y_BOT),\n        'f': (housemap['f'][0],housemap['f'][1]-NUMBER_OFFSET_Y_BOT),\n        'O': (housemap['F'][0]-HOUSE_OFFSETS[0],housemap['F'][1]+HOUSE_OFFSETS[1]+HOUSE_OFFSETS[1]/5),\n        'o': (housemap['F'][0]+HOUSE_OFFSETS[0]*6,housemap['F'][1]+HOUSE_OFFSETS[1]+HOUSE_OFFSETS[1]/5),\n        \n    }\n    TURN_POS = (housemap['A'][0]+HOUSE_OFFSETS[0],62)\n\n    gamestate = self._state_to_dict()\n    canvas.font = '26px serif'\n    canvas.text_align    = 'center'\n\n    for key in housenumbermap:\n        canvas.fill_text(gamestate[key],housenumbermap[key][0],housenumbermap[key][1])\n\n    canvas.font = '22px serif'\n    canvas.fill_text('Turn '+str(self.turn),TURN_POS[0],TURN_POS[1])\n    \n        \nKalah_Game._draw_numbers = _draw_numbers",
   "execution_count": 40,
   "outputs": []
  },
  {
   "cell_type": "markdown",
   "source": "### Method: _state_to_dict\nThe private method *_state_to_dict()* transforms a gamestate into a dictionary.",
   "metadata": {
    "cell_id": "00054-487852a7-6d6b-4f11-abd5-859cb9775802",
    "deepnote_cell_type": "markdown"
   }
  },
  {
   "cell_type": "code",
   "metadata": {
    "cell_id": "00055-0ee0aec4-bef1-4040-9a1f-413223524a64",
    "deepnote_to_be_reexecuted": false,
    "source_hash": "22fba113",
    "execution_start": 1644942957806,
    "execution_millis": 2,
    "deepnote_cell_type": "code"
   },
   "source": "def _state_to_dict(self):\n        d = {}\n        for i in [0,1]:\n            for j in range(7):\n                d[gOrder[i][j]] = self.state[i][j]\n        return d\nKalah_Game._state_to_dict = _state_to_dict",
   "execution_count": 41,
   "outputs": []
  },
  {
   "cell_type": "markdown",
   "source": "### Method: start\nThe method *start()* starts the Kalah game. Until the game is finished (the method *_finished()* returns True), both players take turns, starting with the player with the number 0. At the start of each turn, the current game state is shown. Next, the current player chooses one of the house with the <tt>Player</tt> method *choose_house(current_state)*. Afterwards, this choice is handed to the private method *_move(player_num, choice)* which calculates the new game state. The attribute *state* is updated with this new game state. Then it is the turn of the other player. If the game is finished, the method *utility()* calculates which of the players wins the game and the result is printed to the console.",
   "metadata": {
    "cell_id": "00067-a046662e-2b5d-40aa-9ecc-2cd9ae3295a3",
    "deepnote_cell_type": "markdown"
   }
  },
  {
   "cell_type": "code",
   "metadata": {
    "cell_id": "00068-9f5d4592-df2b-4f19-9cba-424c286f88cc",
    "deepnote_to_be_reexecuted": false,
    "source_hash": "bfb9db96",
    "execution_start": 1644942957827,
    "execution_millis": 1,
    "deepnote_cell_type": "code"
   },
   "source": "def start(self):\n    while(not finished(self.state)):\n        self.turn += 1\n        if self.display_mode == 1:\n            print(\"\\nCurrent state:\")\n            self.show_state()\n            print(f\"Next is {self.players[self.current_player].name}'s turn.\")\n        elif self.display_mode == 2:\n            print(\"Current state:\")\n            self.draw_board()\n            print(f\"Next is {self.players[self.current_player].name}'s turn.\")\n            time.sleep(0.05)\n        \n        choice = self.players[self.current_player].choose_house(self.state)\n        \n        if self.display_mode != 0:\n            print(f\"{self.players[self.current_player].name} chose {gOrder[self.current_player][choice]}\")\n\n        self.state, another_turn, move_log = move(self.state, self.current_player, choice)\n        self.logged_moves.append(move_log)\n        \n        if not another_turn:\n            self.current_player = other_player(self.current_player)\n        elif another_turn and self.display_mode != 0:\n            print(f\"{self.players[self.current_player].name} gets another turn!\")\n\n    won0 = utility(self.state,0)\n    \n    if self.display_mode != 0:\n        if self.display_mode == 1:\n            print(\"\")\n            self.show_state()\n        elif self.display_mode == 2:\n            self.draw_board()\n            \n        print(\"Finished Game!\")  \n        \n        if(won0 == 1):\n            print(f\"{self.players[0]} wins!\")\n        elif(won0 == -1):\n            print(f\"{self.players[1]} wins!\")\n        else:\n            print(f\"Draw!\")\n    \nKalah_Game.start = start",
   "execution_count": 42,
   "outputs": []
  },
  {
   "cell_type": "markdown",
   "source": "### Method: log_to_file\nThe method *log_to_file* creates a json file from all important game information, including the player subclass types and names as well as the different moves from the game and the winner(s). With the use of this method, played games can be saved and analyzed. The created log file is saved to the folder \"logs\" with the given file_id in the file name.",
   "metadata": {
    "cell_id": "00069-1237d702-93c1-4648-9bcc-ac8e7d9141c3",
    "deepnote_cell_type": "markdown"
   }
  },
  {
   "cell_type": "code",
   "metadata": {
    "cell_id": "00070-dee533da-517b-471a-aeea-40f39bd1c383",
    "deepnote_to_be_reexecuted": false,
    "source_hash": "54166617",
    "execution_start": 1644942957829,
    "execution_millis": 1,
    "deepnote_cell_type": "code"
   },
   "source": "import json\n\ndef log_to_file(self, file_id):\n    json_dict = {\n        \"players\":{\n            0:{},\n            1:{}\n        },\n        \"moves\":self.logged_moves,\n        \"winner\":[i for i in range(2) if utility(self.state,i) != -1]\n    }\n    \n    for i in range(2):\n        json_dict[\"players\"][i][\"type\"] = self.players[i].player_type\n        json_dict[\"players\"][i][\"name\"] = self.players[i].name\n        if isinstance(self.players[i], Random_AI):\n            json_dict[\"players\"][i][\"seed\"] = self.players[i].seed\n        if isinstance(self.players[i], Minmax):\n            json_dict[\"players\"][i][\"seed\"] = self.players[i].seed\n            json_dict[\"players\"][i][\"limit\"] = self.players[i].limit\n    \n    with open(f\"logs/log_{file_id}.json\", \"w\") as f:\n        f.write(json.dumps(json_dict, indent=4))\n        f.close()\n\nKalah_Game.log_to_file = log_to_file",
   "execution_count": 43,
   "outputs": []
  },
  {
   "cell_type": "markdown",
   "source": "## Tests of Kalah_Game Class",
   "metadata": {
    "cell_id": "00071-b8bf9c83-e2ac-4245-bc4f-51c42f26dd76",
    "deepnote_cell_type": "markdown"
   }
  },
  {
   "cell_type": "markdown",
   "source": "### 1. There must be exactly two players",
   "metadata": {
    "cell_id": "00072-6ad04a98-5b73-474c-89e7-1006fdb8e65e",
    "deepnote_cell_type": "markdown"
   }
  },
  {
   "cell_type": "code",
   "metadata": {
    "cell_id": "00073-64cabd30-6ea2-4885-8bb5-d7062791ba46",
    "deepnote_to_be_reexecuted": false,
    "source_hash": "9c60427",
    "execution_start": 1644942957831,
    "execution_millis": 274,
    "deepnote_cell_type": "code"
   },
   "source": "try:\n    game = Kalah_Game([Player(0,\"Test\")],0)\nexcept ValueError as e:\n    print(e)",
   "execution_count": 44,
   "outputs": [
    {
     "name": "stdout",
     "text": "There must be exactly two players!\n",
     "output_type": "stream"
    }
   ]
  },
  {
   "cell_type": "markdown",
   "source": "### 2. Players must be instances of a Player sublass",
   "metadata": {
    "cell_id": "00074-9c3987e3-462e-4e5d-ae91-3f7454a2ebd4",
    "deepnote_cell_type": "markdown"
   }
  },
  {
   "cell_type": "code",
   "metadata": {
    "cell_id": "00075-fe418cc2-183f-4a88-bcbb-b14b5080f242",
    "deepnote_to_be_reexecuted": false,
    "source_hash": "a17ecd27",
    "execution_start": 1644942957835,
    "execution_millis": 271,
    "deepnote_cell_type": "code"
   },
   "source": "try:\n    game = Kalah_Game([Player(0,\"Test\"), Player(1,\"Test\")],0)\nexcept ValueError as e:\n    print(e)",
   "execution_count": 45,
   "outputs": [
    {
     "name": "stdout",
     "text": "Both players must be of instances of a subclass of the class Player!\n",
     "output_type": "stream"
    }
   ]
  },
  {
   "cell_type": "markdown",
   "source": "### 3. Player numbers must be 0 and 1",
   "metadata": {
    "cell_id": "00076-81c80c64-aba6-4c8f-8646-c67212a719e1",
    "deepnote_cell_type": "markdown"
   }
  },
  {
   "cell_type": "code",
   "metadata": {
    "cell_id": "00077-b4aacdf1-8392-44ec-be71-28c8e6428476",
    "deepnote_to_be_reexecuted": false,
    "source_hash": "c0a9334a",
    "execution_start": 1644942957872,
    "execution_millis": 235,
    "deepnote_cell_type": "code"
   },
   "source": "try:\n    game = Kalah_Game([Human(1,\"Human\"), Random_AI(1,\"AI\",2)],0)\nexcept ValueError as e:\n    print(e)",
   "execution_count": 46,
   "outputs": [
    {
     "name": "stdout",
     "text": "One of the players must be self.number 0 and the other one self.number 1!\n",
     "output_type": "stream"
    }
   ]
  },
  {
   "cell_type": "markdown",
   "source": "### 4. Display mode must be 0, 1 or 2",
   "metadata": {
    "cell_id": "00078-f2b4a9a8-13c7-48f4-ba74-675b17c0f056",
    "deepnote_cell_type": "markdown"
   }
  },
  {
   "cell_type": "code",
   "metadata": {
    "scrolled": true,
    "cell_id": "00079-1ccecef2-6b13-4b49-bdeb-67c1fa7b66b9",
    "deepnote_to_be_reexecuted": false,
    "source_hash": "cd1fe1ea",
    "execution_start": 1644942957874,
    "execution_millis": 234,
    "deepnote_cell_type": "code"
   },
   "source": "try:\n    game = Kalah_Game([Human(1,\"Human\"), Random_AI(0,\"AI\",2)],3)\nexcept ValueError as e:\n    print(e)",
   "execution_count": 47,
   "outputs": [
    {
     "name": "stdout",
     "text": "The display mode must be 0, 1 or 2!\n",
     "output_type": "stream"
    }
   ]
  },
  {
   "cell_type": "markdown",
   "source": "### 5. Successful Game creation with two AIs",
   "metadata": {
    "cell_id": "00080-d0676d34-9a16-42a7-8075-c818e2374e80",
    "deepnote_cell_type": "markdown"
   }
  },
  {
   "cell_type": "code",
   "metadata": {
    "cell_id": "00081-096b0712-f235-4ea4-ab33-020d2a5ca604",
    "deepnote_to_be_reexecuted": false,
    "source_hash": "af4d0b0e",
    "execution_start": 1644943024008,
    "execution_millis": 1,
    "deepnote_cell_type": "code"
   },
   "source": "game = Kalah_Game([Random_AI(0,\"Rando\",1), Minmax(1,\"Mini\",3,2)],1)",
   "execution_count": 61,
   "outputs": []
  },
  {
   "cell_type": "code",
   "metadata": {
    "cell_id": "00082-11979a2d-2ce0-4883-97dd-877241937452",
    "deepnote_to_be_reexecuted": false,
    "source_hash": "214570f1",
    "execution_start": 1644943025869,
    "execution_millis": 2,
    "deepnote_cell_type": "code"
   },
   "source": "game.show_state()",
   "execution_count": 63,
   "outputs": [
    {
     "name": "stdout",
     "text": "Rando:\t\t\tO: 0  F: 6  E: 6  D: 6  C: 6  B: 6  A: 6  \nMini:\t\t\ta: 6  b: 6  c: 6  d: 6  e: 6  f: 6  o: 0  \n\n",
     "output_type": "stream"
    }
   ]
  },
  {
   "cell_type": "code",
   "metadata": {
    "cell_id": "00083-764de83b-bf64-4c28-b28f-d17fbfc6e824",
    "deepnote_to_be_reexecuted": false,
    "source_hash": "f42697fa",
    "execution_start": 1644943026694,
    "execution_millis": 24,
    "deepnote_output_heights": [
     null,
     611
    ],
    "deepnote_cell_type": "code"
   },
   "source": "%%time\ngame.start()",
   "execution_count": 64,
   "outputs": [
    {
     "name": "stdout",
     "text": "\nCurrent state:\nRando:\t\t\tO: 0  F: 6  E: 6  D: 6  C: 6  B: 6  A: 6  \nMini:\t\t\ta: 6  b: 6  c: 6  d: 6  e: 6  f: 6  o: 0  \n\nNext is Rando's turn.\nRando chose A\nRando gets another turn!\n\nCurrent state:\nRando:\t\t\tO: 1  F: 7  E: 7  D: 7  C: 7  B: 7  A: 0  \nMini:\t\t\ta: 6  b: 6  c: 6  d: 6  e: 6  f: 6  o: 0  \n\nNext is Rando's turn.\nRando chose B\n\nCurrent state:\nRando:\t\t\tO: 2  F: 8  E: 8  D: 8  C: 8  B: 0  A: 0  \nMini:\t\t\ta: 7  b: 7  c: 6  d: 6  e: 6  f: 6  o: 0  \n\nNext is Mini's turn.\nMini chose a\n\nCurrent state:\nRando:\t\t\tO: 2  F: 8  E: 8  D: 8  C: 8  B: 0  A: 1  \nMini:\t\t\ta: 0  b: 8  c: 7  d: 7  e: 7  f: 7  o: 1  \n\nNext is Rando's turn.\nRando chose D\n\nCurrent state:\nRando:\t\t\tO: 3  F: 9  E: 9  D: 0  C: 8  B: 0  A: 1  \nMini:\t\t\ta: 1  b: 9  c: 8  d: 8  e: 8  f: 7  o: 1  \n\nNext is Mini's turn.\nMini chose b\n\nCurrent state:\nRando:\t\t\tO: 3  F: 9  E: 9  D: 1  C: 9  B: 1  A: 2  \nMini:\t\t\ta: 1  b: 0  c: 9  d: 9  e: 9  f: 8  o: 2  \n\nNext is Rando's turn.\nRando chose F\n\nCurrent state:\nRando:\t\t\tO: 4  F: 0  E: 9  D: 1  C: 9  B: 2  A: 3  \nMini:\t\t\ta: 2  b: 1  c: 10  d: 10  e: 10  f: 9  o: 2  \n\nNext is Mini's turn.\nMini chose f\n\nCurrent state:\nRando:\t\t\tO: 4  F: 1  E: 10  D: 2  C: 10  B: 3  A: 4  \nMini:\t\t\ta: 3  b: 2  c: 10  d: 10  e: 10  f: 0  o: 3  \n\nNext is Rando's turn.\nRando chose C\n\nCurrent state:\nRando:\t\t\tO: 5  F: 2  E: 11  D: 3  C: 0  B: 3  A: 4  \nMini:\t\t\ta: 4  b: 3  c: 11  d: 11  e: 11  f: 1  o: 3  \n\nNext is Mini's turn.\nMini chose f\nMini gets another turn!\n\nCurrent state:\nRando:\t\t\tO: 5  F: 2  E: 11  D: 3  C: 0  B: 3  A: 4  \nMini:\t\t\ta: 4  b: 3  c: 11  d: 11  e: 11  f: 0  o: 4  \n\nNext is Mini's turn.\nMini chose e\n\nCurrent state:\nRando:\t\t\tO: 5  F: 3  E: 12  D: 4  C: 1  B: 4  A: 5  \nMini:\t\t\ta: 5  b: 4  c: 12  d: 11  e: 0  f: 1  o: 5  \n\nNext is Rando's turn.\nRando chose B\n\nCurrent state:\nRando:\t\t\tO: 5  F: 4  E: 13  D: 5  C: 2  B: 0  A: 5  \nMini:\t\t\ta: 5  b: 4  c: 12  d: 11  e: 0  f: 1  o: 5  \n\nNext is Mini's turn.\nMini chose f\nMini gets another turn!\n\nCurrent state:\nRando:\t\t\tO: 5  F: 4  E: 13  D: 5  C: 2  B: 0  A: 5  \nMini:\t\t\ta: 5  b: 4  c: 12  d: 11  e: 0  f: 0  o: 6  \n\nNext is Mini's turn.\nMini chose a\n\nCurrent state:\nRando:\t\t\tO: 5  F: 4  E: 13  D: 5  C: 2  B: 0  A: 0  \nMini:\t\t\ta: 0  b: 5  c: 13  d: 12  e: 1  f: 0  o: 12  \n\nNext is Rando's turn.\nRando chose D\n\nCurrent state:\nRando:\t\t\tO: 6  F: 5  E: 14  D: 0  C: 2  B: 0  A: 0  \nMini:\t\t\ta: 1  b: 6  c: 13  d: 12  e: 1  f: 0  o: 12  \n\nNext is Mini's turn.\nMini chose b\n\nCurrent state:\nRando:\t\t\tO: 6  F: 5  E: 14  D: 0  C: 2  B: 0  A: 1  \nMini:\t\t\ta: 1  b: 0  c: 14  d: 13  e: 2  f: 1  o: 13  \n\nNext is Rando's turn.\nRando chose F\n\nCurrent state:\nRando:\t\t\tO: 7  F: 0  E: 14  D: 0  C: 2  B: 0  A: 1  \nMini:\t\t\ta: 2  b: 1  c: 15  d: 14  e: 2  f: 1  o: 13  \n\nNext is Mini's turn.\nMini chose f\nMini gets another turn!\n\nCurrent state:\nRando:\t\t\tO: 7  F: 0  E: 14  D: 0  C: 2  B: 0  A: 1  \nMini:\t\t\ta: 2  b: 1  c: 15  d: 14  e: 2  f: 0  o: 14  \n\nNext is Mini's turn.\nMini chose e\nMini gets another turn!\n\nCurrent state:\nRando:\t\t\tO: 7  F: 0  E: 14  D: 0  C: 2  B: 0  A: 1  \nMini:\t\t\ta: 2  b: 1  c: 15  d: 14  e: 0  f: 1  o: 15  \n\nNext is Mini's turn.\nMini chose c\n\nCurrent state:\nRando:\t\t\tO: 7  F: 1  E: 15  D: 1  C: 3  B: 1  A: 2  \nMini:\t\t\ta: 3  b: 2  c: 1  d: 16  e: 2  f: 2  o: 16  \n\nNext is Rando's turn.\nRando chose E\nRando gets another turn!\n\nCurrent state:\nRando:\t\t\tO: 9  F: 3  E: 1  D: 2  C: 4  B: 2  A: 3  \nMini:\t\t\ta: 4  b: 3  c: 2  d: 17  e: 3  f: 3  o: 16  \n\nNext is Rando's turn.\nRando chose D\n\nCurrent state:\nRando:\t\t\tO: 9  F: 4  E: 2  D: 0  C: 4  B: 2  A: 3  \nMini:\t\t\ta: 4  b: 3  c: 2  d: 17  e: 3  f: 3  o: 16  \n\nNext is Mini's turn.\nMini chose e\n\nCurrent state:\nRando:\t\t\tO: 9  F: 4  E: 2  D: 0  C: 4  B: 2  A: 4  \nMini:\t\t\ta: 4  b: 3  c: 2  d: 17  e: 0  f: 4  o: 17  \n\nNext is Rando's turn.\nRando chose C\nRando gets another turn!\n\nCurrent state:\nRando:\t\t\tO: 10  F: 5  E: 3  D: 1  C: 0  B: 2  A: 4  \nMini:\t\t\ta: 4  b: 3  c: 2  d: 17  e: 0  f: 4  o: 17  \n\nNext is Rando's turn.\nRando chose A\n\nCurrent state:\nRando:\t\t\tO: 10  F: 5  E: 4  D: 2  C: 1  B: 3  A: 0  \nMini:\t\t\ta: 4  b: 3  c: 2  d: 17  e: 0  f: 4  o: 17  \n\nNext is Mini's turn.\nMini chose a\n\nCurrent state:\nRando:\t\t\tO: 10  F: 5  E: 4  D: 2  C: 1  B: 0  A: 0  \nMini:\t\t\ta: 0  b: 4  c: 3  d: 18  e: 0  f: 4  o: 21  \n\nNext is Rando's turn.\nRando chose E\n\nCurrent state:\nRando:\t\t\tO: 11  F: 6  E: 0  D: 2  C: 1  B: 0  A: 0  \nMini:\t\t\ta: 1  b: 5  c: 3  d: 18  e: 0  f: 4  o: 21  \n\nNext is Mini's turn.\nMini chose b\nMini gets another turn!\n\nCurrent state:\nRando:\t\t\tO: 11  F: 6  E: 0  D: 2  C: 1  B: 0  A: 0  \nMini:\t\t\ta: 1  b: 0  c: 4  d: 19  e: 1  f: 5  o: 22  \n\nNext is Mini's turn.\nMini chose c\nMini gets another turn!\n\nCurrent state:\nRando:\t\t\tO: 11  F: 6  E: 0  D: 2  C: 1  B: 0  A: 0  \nMini:\t\t\ta: 1  b: 0  c: 0  d: 20  e: 2  f: 6  o: 23  \n\nNext is Mini's turn.\nMini chose e\nMini gets another turn!\n\nCurrent state:\nRando:\t\t\tO: 11  F: 6  E: 0  D: 2  C: 1  B: 0  A: 0  \nMini:\t\t\ta: 1  b: 0  c: 0  d: 20  e: 0  f: 7  o: 24  \n\nNext is Mini's turn.\nMini chose d\n\nCurrent state:\nRando:\t\t\tO: 11  F: 7  E: 1  D: 4  C: 3  B: 2  A: 2  \nMini:\t\t\ta: 2  b: 1  c: 1  d: 1  e: 2  f: 9  o: 26  \n\nNext is Rando's turn.\nRando chose E\n\nCurrent state:\nRando:\t\t\tO: 11  F: 8  E: 0  D: 4  C: 3  B: 2  A: 2  \nMini:\t\t\ta: 2  b: 1  c: 1  d: 1  e: 2  f: 9  o: 26  \n\nNext is Mini's turn.\nMini chose c\n\nCurrent state:\nRando:\t\t\tO: 11  F: 8  E: 0  D: 4  C: 3  B: 2  A: 2  \nMini:\t\t\ta: 2  b: 1  c: 0  d: 2  e: 2  f: 9  o: 26  \n\nNext is Rando's turn.\nRando chose F\n\nCurrent state:\nRando:\t\t\tO: 12  F: 0  E: 0  D: 4  C: 3  B: 2  A: 3  \nMini:\t\t\ta: 3  b: 2  c: 1  d: 3  e: 3  f: 10  o: 26  \n\nNext is Mini's turn.\nMini chose c\n\nCurrent state:\nRando:\t\t\tO: 12  F: 0  E: 0  D: 4  C: 3  B: 2  A: 3  \nMini:\t\t\ta: 3  b: 2  c: 0  d: 4  e: 3  f: 10  o: 26  \n\nNext is Rando's turn.\nRando chose B\n\nCurrent state:\nRando:\t\t\tO: 12  F: 0  E: 0  D: 5  C: 4  B: 0  A: 3  \nMini:\t\t\ta: 3  b: 2  c: 0  d: 4  e: 3  f: 10  o: 26  \n\nNext is Mini's turn.\nMini chose b\n\nCurrent state:\nRando:\t\t\tO: 12  F: 0  E: 0  D: 5  C: 4  B: 0  A: 3  \nMini:\t\t\ta: 3  b: 0  c: 1  d: 5  e: 3  f: 10  o: 26  \n\nNext is Rando's turn.\nRando chose A\n\nCurrent state:\nRando:\t\t\tO: 12  F: 0  E: 0  D: 6  C: 5  B: 1  A: 0  \nMini:\t\t\ta: 3  b: 0  c: 1  d: 5  e: 3  f: 10  o: 26  \n\nNext is Mini's turn.\nMini chose c\n\nCurrent state:\nRando:\t\t\tO: 12  F: 0  E: 0  D: 6  C: 5  B: 1  A: 0  \nMini:\t\t\ta: 3  b: 0  c: 0  d: 6  e: 3  f: 10  o: 26  \n\nNext is Rando's turn.\nRando chose C\n\nCurrent state:\nRando:\t\t\tO: 13  F: 1  E: 1  D: 7  C: 0  B: 1  A: 0  \nMini:\t\t\ta: 4  b: 0  c: 0  d: 6  e: 3  f: 10  o: 26  \n\nNext is Mini's turn.\nMini chose d\n\nCurrent state:\nRando:\t\t\tO: 13  F: 1  E: 1  D: 7  C: 1  B: 2  A: 1  \nMini:\t\t\ta: 4  b: 0  c: 0  d: 0  e: 4  f: 11  o: 27  \n\nNext is Rando's turn.\nRando chose B\n\nCurrent state:\nRando:\t\t\tO: 13  F: 1  E: 1  D: 8  C: 2  B: 0  A: 1  \nMini:\t\t\ta: 4  b: 0  c: 0  d: 0  e: 4  f: 11  o: 27  \n\nNext is Mini's turn.\nMini chose f\n\nCurrent state:\nRando:\t\t\tO: 13  F: 2  E: 2  D: 9  C: 0  B: 1  A: 2  \nMini:\t\t\ta: 5  b: 1  c: 1  d: 0  e: 4  f: 0  o: 32  \n\nNext is Rando's turn.\nRando chose F\n\nCurrent state:\nRando:\t\t\tO: 14  F: 0  E: 2  D: 9  C: 0  B: 1  A: 2  \nMini:\t\t\ta: 6  b: 1  c: 1  d: 0  e: 4  f: 0  o: 32  \n\nNext is Mini's turn.\nMini chose a\nMini gets another turn!\n\nCurrent state:\nRando:\t\t\tO: 14  F: 0  E: 2  D: 9  C: 0  B: 1  A: 2  \nMini:\t\t\ta: 0  b: 2  c: 2  d: 1  e: 5  f: 1  o: 33  \n\nNext is Mini's turn.\nMini chose d\n\nCurrent state:\nRando:\t\t\tO: 14  F: 0  E: 2  D: 9  C: 0  B: 1  A: 2  \nMini:\t\t\ta: 0  b: 2  c: 2  d: 0  e: 6  f: 1  o: 33  \n\nNext is Rando's turn.\nRando chose E\nRando gets another turn!\n\nCurrent state:\nRando:\t\t\tO: 15  F: 1  E: 0  D: 9  C: 0  B: 1  A: 2  \nMini:\t\t\ta: 0  b: 2  c: 2  d: 0  e: 6  f: 1  o: 33  \n\nNext is Rando's turn.\nRando chose F\nRando gets another turn!\n\nCurrent state:\nRando:\t\t\tO: 16  F: 0  E: 0  D: 9  C: 0  B: 1  A: 2  \nMini:\t\t\ta: 0  b: 2  c: 2  d: 0  e: 6  f: 1  o: 33  \n\nNext is Rando's turn.\nRando chose D\n\nCurrent state:\nRando:\t\t\tO: 17  F: 1  E: 1  D: 0  C: 0  B: 1  A: 2  \nMini:\t\t\ta: 1  b: 3  c: 3  d: 1  e: 7  f: 2  o: 33  \n\nNext is Mini's turn.\nMini chose e\n\nCurrent state:\nRando:\t\t\tO: 17  F: 1  E: 2  D: 1  C: 1  B: 2  A: 3  \nMini:\t\t\ta: 1  b: 3  c: 3  d: 1  e: 0  f: 3  o: 34  \n\nNext is Rando's turn.\nRando chose C\n\nCurrent state:\nRando:\t\t\tO: 17  F: 1  E: 2  D: 2  C: 0  B: 2  A: 3  \nMini:\t\t\ta: 1  b: 3  c: 3  d: 1  e: 0  f: 3  o: 34  \n\nNext is Mini's turn.\nMini chose f\n\nCurrent state:\nRando:\t\t\tO: 17  F: 1  E: 2  D: 2  C: 0  B: 3  A: 4  \nMini:\t\t\ta: 1  b: 3  c: 3  d: 1  e: 0  f: 0  o: 35  \n\nNext is Rando's turn.\nRando chose D\n\nCurrent state:\nRando:\t\t\tO: 17  F: 2  E: 3  D: 0  C: 0  B: 3  A: 4  \nMini:\t\t\ta: 1  b: 3  c: 3  d: 1  e: 0  f: 0  o: 35  \n\nNext is Mini's turn.\nMini chose c\n\nCurrent state:\nRando:\t\t\tO: 17  F: 2  E: 3  D: 0  C: 0  B: 3  A: 0  \nMini:\t\t\ta: 1  b: 3  c: 0  d: 2  e: 1  f: 0  o: 40  \n\nNext is Rando's turn.\nRando chose E\n\nCurrent state:\nRando:\t\t\tO: 18  F: 3  E: 0  D: 0  C: 0  B: 3  A: 0  \nMini:\t\t\ta: 2  b: 3  c: 0  d: 2  e: 1  f: 0  o: 40  \n\nNext is Mini's turn.\nMini chose b\n\nCurrent state:\nRando:\t\t\tO: 18  F: 3  E: 0  D: 0  C: 0  B: 3  A: 0  \nMini:\t\t\ta: 2  b: 0  c: 1  d: 3  e: 2  f: 0  o: 40  \n\nNext is Rando's turn.\nRando chose F\n\nCurrent state:\nRando:\t\t\tO: 19  F: 0  E: 0  D: 0  C: 0  B: 3  A: 0  \nMini:\t\t\ta: 3  b: 1  c: 1  d: 3  e: 2  f: 0  o: 40  \n\nNext is Mini's turn.\nMini chose e\nMini gets another turn!\n\nCurrent state:\nRando:\t\t\tO: 19  F: 0  E: 0  D: 0  C: 0  B: 3  A: 0  \nMini:\t\t\ta: 3  b: 1  c: 1  d: 3  e: 0  f: 1  o: 41  \n\nNext is Mini's turn.\nMini chose f\nMini gets another turn!\n\nCurrent state:\nRando:\t\t\tO: 19  F: 0  E: 0  D: 0  C: 0  B: 3  A: 0  \nMini:\t\t\ta: 3  b: 1  c: 1  d: 3  e: 0  f: 0  o: 42  \n\nNext is Mini's turn.\nMini chose d\nMini gets another turn!\n\nCurrent state:\nRando:\t\t\tO: 19  F: 0  E: 0  D: 0  C: 0  B: 3  A: 0  \nMini:\t\t\ta: 3  b: 1  c: 1  d: 0  e: 1  f: 1  o: 43  \n\nNext is Mini's turn.\nMini chose e\n\nCurrent state:\nRando:\t\t\tO: 19  F: 0  E: 0  D: 0  C: 0  B: 3  A: 0  \nMini:\t\t\ta: 3  b: 1  c: 1  d: 0  e: 0  f: 2  o: 43  \n\nNext is Rando's turn.\nRando chose B\n\nCurrent state:\nRando:\t\t\tO: 21  F: 0  E: 0  D: 1  C: 1  B: 0  A: 0  \nMini:\t\t\ta: 3  b: 0  c: 1  d: 0  e: 0  f: 2  o: 43  \n\nNext is Mini's turn.\nMini chose c\n\nCurrent state:\nRando:\t\t\tO: 21  F: 0  E: 0  D: 1  C: 0  B: 0  A: 0  \nMini:\t\t\ta: 3  b: 0  c: 0  d: 0  e: 0  f: 2  o: 45  \n\nNext is Rando's turn.\nRando chose D\n\nRando:\t\t\tO: 22  F: 0  E: 0  D: 0  C: 0  B: 0  A: 0  \nMini:\t\t\ta: 3  b: 0  c: 0  d: 0  e: 0  f: 2  o: 45  \n\nFinished Game!\nMini wins!\nCPU times: user 32 ms, sys: 5.44 ms, total: 37.4 ms\nWall time: 32.5 ms\n",
     "output_type": "stream"
    }
   ]
  },
  {
   "cell_type": "code",
   "metadata": {
    "cell_id": "00084-0046bfef-03c1-44f3-82c7-e4281a9e6de4",
    "deepnote_to_be_reexecuted": false,
    "source_hash": "1ebb8803",
    "execution_start": 1644942963173,
    "execution_millis": 3,
    "deepnote_output_heights": [
     405
    ],
    "deepnote_cell_type": "code"
   },
   "source": "timestamp = str(dt.datetime.now()).replace(':','.')\ngame.log_to_file(timestamp)",
   "execution_count": 51,
   "outputs": []
  },
  {
   "cell_type": "markdown",
   "source": "## Repeat Game from Log File\n\nThe function *repeat_game* takes the filename of a log file and the display mode with which the game should be repeated as the input values. It also receives the information, if included AIs should calculate their choices new or if they should just repeat the moves that are presented in the log file. The decicions of human players are always repeated based on the log file. \n\nThe function detects the player types and names from the file and creates players based on this information. The player types are only relevant for AIs if **repeat_AIs** is set to False. In all other cases, the players are created from the <tt>Repeated_Player</tt> class.\n\nIn the end, the game is initialized with the created players and the given display mode and then started.",
   "metadata": {
    "cell_id": "00085-111633e0-553e-40a1-95cf-93ee96bd5983",
    "deepnote_cell_type": "markdown"
   }
  },
  {
   "cell_type": "code",
   "metadata": {
    "cell_id": "00086-c8ba6d0d-bd43-412a-9354-4c7572f18afc",
    "deepnote_to_be_reexecuted": false,
    "source_hash": "1ec0934",
    "execution_start": 1644942963226,
    "execution_millis": 1,
    "deepnote_cell_type": "code"
   },
   "source": "def repeat_game(filename, repeat_AIs, display_mode):\n    json_dict = {}\n    \n    with open(\"logs/\"+filename) as f:\n        json_dict = json.load(f)\n    \n    players = []\n    for i in range(2):\n        i = str(i)\n        p_type = json_dict[\"players\"][i][\"type\"]\n        \n        if repeat_AIs:\n            players.append(Repeated_Player(int(i),json_dict[\"players\"][i][\"name\"],json_dict[\"moves\"]))\n        else:\n            if p_type == \"Human\":\n                players.append(Repeated_Player(int(i),json_dict[\"players\"][i][\"name\"],json_dict[\"moves\"]))\n            elif p_type == \"Random_AI\":\n                players.append(Random_AI(int(i),json_dict[\"players\"][i][\"name\"],json_dict[\"players\"][i][\"seed\"]))\n            elif p_type == \"Minmax\":\n                players.append(Minmax(int(i),json_dict[\"players\"][i][\"name\"],json_dict[\"players\"][i][\"limit\"],json_dict[\"players\"][i][\"seed\"]))\n            else:\n                raise ValueError(\"The given player type is unknown!\")\n    \n    game = Kalah_Game([players[0],players[1]],display_mode)\n    game.start()",
   "execution_count": 52,
   "outputs": []
  },
  {
   "cell_type": "markdown",
   "source": "### Tests of Repeat Game\n#### Repeating the game of two AIs, where the decisions are repeated based on the log file (Player types: Repeated_Player)",
   "metadata": {
    "cell_id": "00087-5c74fd99-ea3e-498b-a41b-d7758f5c4aab",
    "deepnote_cell_type": "markdown"
   }
  },
  {
   "cell_type": "code",
   "metadata": {
    "cell_id": "00088-ea8efce6-9d4f-4fcc-a34b-33dac28737c8",
    "deepnote_to_be_reexecuted": false,
    "source_hash": "fcfb7dda",
    "execution_start": 1644942963227,
    "execution_millis": 5,
    "deepnote_cell_type": "code"
   },
   "source": "%%time\nrepeat_game(f\"log_{timestamp}.json\",True,1)",
   "execution_count": 53,
   "outputs": [
    {
     "name": "stdout",
     "text": "\nCurrent state:\nRando:\t\t\tO: 0  F: 6  E: 6  D: 6  C: 6  B: 6  A: 6  \nMini:\t\t\ta: 6  b: 6  c: 6  d: 6  e: 6  f: 6  o: 0  \n\nNext is Rando's turn.\nRando chose A\nRando gets another turn!\n\nCurrent state:\nRando:\t\t\tO: 1  F: 7  E: 7  D: 7  C: 7  B: 7  A: 0  \nMini:\t\t\ta: 6  b: 6  c: 6  d: 6  e: 6  f: 6  o: 0  \n\nNext is Rando's turn.\nRando chose B\n\nCurrent state:\nRando:\t\t\tO: 2  F: 8  E: 8  D: 8  C: 8  B: 0  A: 0  \nMini:\t\t\ta: 7  b: 7  c: 6  d: 6  e: 6  f: 6  o: 0  \n\nNext is Mini's turn.\nMini chose a\n\nCurrent state:\nRando:\t\t\tO: 2  F: 8  E: 8  D: 8  C: 8  B: 0  A: 1  \nMini:\t\t\ta: 0  b: 8  c: 7  d: 7  e: 7  f: 7  o: 1  \n\nNext is Rando's turn.\nRando chose D\n\nCurrent state:\nRando:\t\t\tO: 3  F: 9  E: 9  D: 0  C: 8  B: 0  A: 1  \nMini:\t\t\ta: 1  b: 9  c: 8  d: 8  e: 8  f: 7  o: 1  \n\nNext is Mini's turn.\nMini chose b\n\nCurrent state:\nRando:\t\t\tO: 3  F: 9  E: 9  D: 1  C: 9  B: 1  A: 2  \nMini:\t\t\ta: 1  b: 0  c: 9  d: 9  e: 9  f: 8  o: 2  \n\nNext is Rando's turn.\nRando chose F\n\nCurrent state:\nRando:\t\t\tO: 4  F: 0  E: 9  D: 1  C: 9  B: 2  A: 3  \nMini:\t\t\ta: 2  b: 1  c: 10  d: 10  e: 10  f: 9  o: 2  \n\nNext is Mini's turn.\nMini chose f\n\nCurrent state:\nRando:\t\t\tO: 4  F: 1  E: 10  D: 2  C: 10  B: 3  A: 4  \nMini:\t\t\ta: 3  b: 2  c: 10  d: 10  e: 10  f: 0  o: 3  \n\nNext is Rando's turn.\nRando chose C\n\nCurrent state:\nRando:\t\t\tO: 5  F: 2  E: 11  D: 3  C: 0  B: 3  A: 4  \nMini:\t\t\ta: 4  b: 3  c: 11  d: 11  e: 11  f: 1  o: 3  \n\nNext is Mini's turn.\nMini chose f\nMini gets another turn!\n\nCurrent state:\nRando:\t\t\tO: 5  F: 2  E: 11  D: 3  C: 0  B: 3  A: 4  \nMini:\t\t\ta: 4  b: 3  c: 11  d: 11  e: 11  f: 0  o: 4  \n\nNext is Mini's turn.\nMini chose e\n\nCurrent state:\nRando:\t\t\tO: 5  F: 3  E: 12  D: 4  C: 1  B: 4  A: 5  \nMini:\t\t\ta: 5  b: 4  c: 12  d: 11  e: 0  f: 1  o: 5  \n\nNext is Rando's turn.\nRando chose B\n\nCurrent state:\nRando:\t\t\tO: 5  F: 4  E: 13  D: 5  C: 2  B: 0  A: 5  \nMini:\t\t\ta: 5  b: 4  c: 12  d: 11  e: 0  f: 1  o: 5  \n\nNext is Mini's turn.\nMini chose f\nMini gets another turn!\n\nCurrent state:\nRando:\t\t\tO: 5  F: 4  E: 13  D: 5  C: 2  B: 0  A: 5  \nMini:\t\t\ta: 5  b: 4  c: 12  d: 11  e: 0  f: 0  o: 6  \n\nNext is Mini's turn.\nMini chose a\n\nCurrent state:\nRando:\t\t\tO: 5  F: 4  E: 13  D: 5  C: 2  B: 0  A: 0  \nMini:\t\t\ta: 0  b: 5  c: 13  d: 12  e: 1  f: 0  o: 12  \n\nNext is Rando's turn.\nRando chose D\n\nCurrent state:\nRando:\t\t\tO: 6  F: 5  E: 14  D: 0  C: 2  B: 0  A: 0  \nMini:\t\t\ta: 1  b: 6  c: 13  d: 12  e: 1  f: 0  o: 12  \n\nNext is Mini's turn.\nMini chose b\n\nCurrent state:\nRando:\t\t\tO: 6  F: 5  E: 14  D: 0  C: 2  B: 0  A: 1  \nMini:\t\t\ta: 1  b: 0  c: 14  d: 13  e: 2  f: 1  o: 13  \n\nNext is Rando's turn.\nRando chose F\n\nCurrent state:\nRando:\t\t\tO: 7  F: 0  E: 14  D: 0  C: 2  B: 0  A: 1  \nMini:\t\t\ta: 2  b: 1  c: 15  d: 14  e: 2  f: 1  o: 13  \n\nNext is Mini's turn.\nMini chose f\nMini gets another turn!\n\nCurrent state:\nRando:\t\t\tO: 7  F: 0  E: 14  D: 0  C: 2  B: 0  A: 1  \nMini:\t\t\ta: 2  b: 1  c: 15  d: 14  e: 2  f: 0  o: 14  \n\nNext is Mini's turn.\nMini chose e\nMini gets another turn!\n\nCurrent state:\nRando:\t\t\tO: 7  F: 0  E: 14  D: 0  C: 2  B: 0  A: 1  \nMini:\t\t\ta: 2  b: 1  c: 15  d: 14  e: 0  f: 1  o: 15  \n\nNext is Mini's turn.\nMini chose c\n\nCurrent state:\nRando:\t\t\tO: 7  F: 1  E: 15  D: 1  C: 3  B: 1  A: 2  \nMini:\t\t\ta: 3  b: 2  c: 1  d: 16  e: 2  f: 2  o: 16  \n\nNext is Rando's turn.\nRando chose E\nRando gets another turn!\n\nCurrent state:\nRando:\t\t\tO: 9  F: 3  E: 1  D: 2  C: 4  B: 2  A: 3  \nMini:\t\t\ta: 4  b: 3  c: 2  d: 17  e: 3  f: 3  o: 16  \n\nNext is Rando's turn.\nRando chose D\n\nCurrent state:\nRando:\t\t\tO: 9  F: 4  E: 2  D: 0  C: 4  B: 2  A: 3  \nMini:\t\t\ta: 4  b: 3  c: 2  d: 17  e: 3  f: 3  o: 16  \n\nNext is Mini's turn.\nMini chose e\n\nCurrent state:\nRando:\t\t\tO: 9  F: 4  E: 2  D: 0  C: 4  B: 2  A: 4  \nMini:\t\t\ta: 4  b: 3  c: 2  d: 17  e: 0  f: 4  o: 17  \n\nNext is Rando's turn.\nRando chose C\nRando gets another turn!\n\nCurrent state:\nRando:\t\t\tO: 10  F: 5  E: 3  D: 1  C: 0  B: 2  A: 4  \nMini:\t\t\ta: 4  b: 3  c: 2  d: 17  e: 0  f: 4  o: 17  \n\nNext is Rando's turn.\nRando chose A\n\nCurrent state:\nRando:\t\t\tO: 10  F: 5  E: 4  D: 2  C: 1  B: 3  A: 0  \nMini:\t\t\ta: 4  b: 3  c: 2  d: 17  e: 0  f: 4  o: 17  \n\nNext is Mini's turn.\nMini chose a\n\nCurrent state:\nRando:\t\t\tO: 10  F: 5  E: 4  D: 2  C: 1  B: 0  A: 0  \nMini:\t\t\ta: 0  b: 4  c: 3  d: 18  e: 0  f: 4  o: 21  \n\nNext is Rando's turn.\nRando chose E\n\nCurrent state:\nRando:\t\t\tO: 11  F: 6  E: 0  D: 2  C: 1  B: 0  A: 0  \nMini:\t\t\ta: 1  b: 5  c: 3  d: 18  e: 0  f: 4  o: 21  \n\nNext is Mini's turn.\nMini chose b\nMini gets another turn!\n\nCurrent state:\nRando:\t\t\tO: 11  F: 6  E: 0  D: 2  C: 1  B: 0  A: 0  \nMini:\t\t\ta: 1  b: 0  c: 4  d: 19  e: 1  f: 5  o: 22  \n\nNext is Mini's turn.\nMini chose c\nMini gets another turn!\n\nCurrent state:\nRando:\t\t\tO: 11  F: 6  E: 0  D: 2  C: 1  B: 0  A: 0  \nMini:\t\t\ta: 1  b: 0  c: 0  d: 20  e: 2  f: 6  o: 23  \n\nNext is Mini's turn.\nMini chose e\nMini gets another turn!\n\nCurrent state:\nRando:\t\t\tO: 11  F: 6  E: 0  D: 2  C: 1  B: 0  A: 0  \nMini:\t\t\ta: 1  b: 0  c: 0  d: 20  e: 0  f: 7  o: 24  \n\nNext is Mini's turn.\nMini chose d\n\nCurrent state:\nRando:\t\t\tO: 11  F: 7  E: 1  D: 4  C: 3  B: 2  A: 2  \nMini:\t\t\ta: 2  b: 1  c: 1  d: 1  e: 2  f: 9  o: 26  \n\nNext is Rando's turn.\nRando chose E\n\nCurrent state:\nRando:\t\t\tO: 11  F: 8  E: 0  D: 4  C: 3  B: 2  A: 2  \nMini:\t\t\ta: 2  b: 1  c: 1  d: 1  e: 2  f: 9  o: 26  \n\nNext is Mini's turn.\nMini chose c\n\nCurrent state:\nRando:\t\t\tO: 11  F: 8  E: 0  D: 4  C: 3  B: 2  A: 2  \nMini:\t\t\ta: 2  b: 1  c: 0  d: 2  e: 2  f: 9  o: 26  \n\nNext is Rando's turn.\nRando chose F\n\nCurrent state:\nRando:\t\t\tO: 12  F: 0  E: 0  D: 4  C: 3  B: 2  A: 3  \nMini:\t\t\ta: 3  b: 2  c: 1  d: 3  e: 3  f: 10  o: 26  \n\nNext is Mini's turn.\nMini chose c\n\nCurrent state:\nRando:\t\t\tO: 12  F: 0  E: 0  D: 4  C: 3  B: 2  A: 3  \nMini:\t\t\ta: 3  b: 2  c: 0  d: 4  e: 3  f: 10  o: 26  \n\nNext is Rando's turn.\nRando chose B\n\nCurrent state:\nRando:\t\t\tO: 12  F: 0  E: 0  D: 5  C: 4  B: 0  A: 3  \nMini:\t\t\ta: 3  b: 2  c: 0  d: 4  e: 3  f: 10  o: 26  \n\nNext is Mini's turn.\nMini chose b\n\nCurrent state:\nRando:\t\t\tO: 12  F: 0  E: 0  D: 5  C: 4  B: 0  A: 3  \nMini:\t\t\ta: 3  b: 0  c: 1  d: 5  e: 3  f: 10  o: 26  \n\nNext is Rando's turn.\nRando chose A\n\nCurrent state:\nRando:\t\t\tO: 12  F: 0  E: 0  D: 6  C: 5  B: 1  A: 0  \nMini:\t\t\ta: 3  b: 0  c: 1  d: 5  e: 3  f: 10  o: 26  \n\nNext is Mini's turn.\nMini chose c\n\nCurrent state:\nRando:\t\t\tO: 12  F: 0  E: 0  D: 6  C: 5  B: 1  A: 0  \nMini:\t\t\ta: 3  b: 0  c: 0  d: 6  e: 3  f: 10  o: 26  \n\nNext is Rando's turn.\nRando chose C\n\nCurrent state:\nRando:\t\t\tO: 13  F: 1  E: 1  D: 7  C: 0  B: 1  A: 0  \nMini:\t\t\ta: 4  b: 0  c: 0  d: 6  e: 3  f: 10  o: 26  \n\nNext is Mini's turn.\nMini chose d\n\nCurrent state:\nRando:\t\t\tO: 13  F: 1  E: 1  D: 7  C: 1  B: 2  A: 1  \nMini:\t\t\ta: 4  b: 0  c: 0  d: 0  e: 4  f: 11  o: 27  \n\nNext is Rando's turn.\nRando chose B\n\nCurrent state:\nRando:\t\t\tO: 13  F: 1  E: 1  D: 8  C: 2  B: 0  A: 1  \nMini:\t\t\ta: 4  b: 0  c: 0  d: 0  e: 4  f: 11  o: 27  \n\nNext is Mini's turn.\nMini chose f\n\nCurrent state:\nRando:\t\t\tO: 13  F: 2  E: 2  D: 9  C: 0  B: 1  A: 2  \nMini:\t\t\ta: 5  b: 1  c: 1  d: 0  e: 4  f: 0  o: 32  \n\nNext is Rando's turn.\nRando chose F\n\nCurrent state:\nRando:\t\t\tO: 14  F: 0  E: 2  D: 9  C: 0  B: 1  A: 2  \nMini:\t\t\ta: 6  b: 1  c: 1  d: 0  e: 4  f: 0  o: 32  \n\nNext is Mini's turn.\nMini chose a\nMini gets another turn!\n\nCurrent state:\nRando:\t\t\tO: 14  F: 0  E: 2  D: 9  C: 0  B: 1  A: 2  \nMini:\t\t\ta: 0  b: 2  c: 2  d: 1  e: 5  f: 1  o: 33  \n\nNext is Mini's turn.\nMini chose d\n\nCurrent state:\nRando:\t\t\tO: 14  F: 0  E: 2  D: 9  C: 0  B: 1  A: 2  \nMini:\t\t\ta: 0  b: 2  c: 2  d: 0  e: 6  f: 1  o: 33  \n\nNext is Rando's turn.\nRando chose E\nRando gets another turn!\n\nCurrent state:\nRando:\t\t\tO: 15  F: 1  E: 0  D: 9  C: 0  B: 1  A: 2  \nMini:\t\t\ta: 0  b: 2  c: 2  d: 0  e: 6  f: 1  o: 33  \n\nNext is Rando's turn.\nRando chose F\nRando gets another turn!\n\nCurrent state:\nRando:\t\t\tO: 16  F: 0  E: 0  D: 9  C: 0  B: 1  A: 2  \nMini:\t\t\ta: 0  b: 2  c: 2  d: 0  e: 6  f: 1  o: 33  \n\nNext is Rando's turn.\nRando chose D\n\nCurrent state:\nRando:\t\t\tO: 17  F: 1  E: 1  D: 0  C: 0  B: 1  A: 2  \nMini:\t\t\ta: 1  b: 3  c: 3  d: 1  e: 7  f: 2  o: 33  \n\nNext is Mini's turn.\nMini chose e\n\nCurrent state:\nRando:\t\t\tO: 17  F: 1  E: 2  D: 1  C: 1  B: 2  A: 3  \nMini:\t\t\ta: 1  b: 3  c: 3  d: 1  e: 0  f: 3  o: 34  \n\nNext is Rando's turn.\nRando chose C\n\nCurrent state:\nRando:\t\t\tO: 17  F: 1  E: 2  D: 2  C: 0  B: 2  A: 3  \nMini:\t\t\ta: 1  b: 3  c: 3  d: 1  e: 0  f: 3  o: 34  \n\nNext is Mini's turn.\nMini chose f\n\nCurrent state:\nRando:\t\t\tO: 17  F: 1  E: 2  D: 2  C: 0  B: 3  A: 4  \nMini:\t\t\ta: 1  b: 3  c: 3  d: 1  e: 0  f: 0  o: 35  \n\nNext is Rando's turn.\nRando chose D\n\nCurrent state:\nRando:\t\t\tO: 17  F: 2  E: 3  D: 0  C: 0  B: 3  A: 4  \nMini:\t\t\ta: 1  b: 3  c: 3  d: 1  e: 0  f: 0  o: 35  \n\nNext is Mini's turn.\nMini chose c\n\nCurrent state:\nRando:\t\t\tO: 17  F: 2  E: 3  D: 0  C: 0  B: 3  A: 0  \nMini:\t\t\ta: 1  b: 3  c: 0  d: 2  e: 1  f: 0  o: 40  \n\nNext is Rando's turn.\nRando chose E\n\nCurrent state:\nRando:\t\t\tO: 18  F: 3  E: 0  D: 0  C: 0  B: 3  A: 0  \nMini:\t\t\ta: 2  b: 3  c: 0  d: 2  e: 1  f: 0  o: 40  \n\nNext is Mini's turn.\nMini chose b\n\nCurrent state:\nRando:\t\t\tO: 18  F: 3  E: 0  D: 0  C: 0  B: 3  A: 0  \nMini:\t\t\ta: 2  b: 0  c: 1  d: 3  e: 2  f: 0  o: 40  \n\nNext is Rando's turn.\nRando chose F\n\nCurrent state:\nRando:\t\t\tO: 19  F: 0  E: 0  D: 0  C: 0  B: 3  A: 0  \nMini:\t\t\ta: 3  b: 1  c: 1  d: 3  e: 2  f: 0  o: 40  \n\nNext is Mini's turn.\nMini chose e\nMini gets another turn!\n\nCurrent state:\nRando:\t\t\tO: 19  F: 0  E: 0  D: 0  C: 0  B: 3  A: 0  \nMini:\t\t\ta: 3  b: 1  c: 1  d: 3  e: 0  f: 1  o: 41  \n\nNext is Mini's turn.\nMini chose f\nMini gets another turn!\n\nCurrent state:\nRando:\t\t\tO: 19  F: 0  E: 0  D: 0  C: 0  B: 3  A: 0  \nMini:\t\t\ta: 3  b: 1  c: 1  d: 3  e: 0  f: 0  o: 42  \n\nNext is Mini's turn.\nMini chose d\nMini gets another turn!\n\nCurrent state:\nRando:\t\t\tO: 19  F: 0  E: 0  D: 0  C: 0  B: 3  A: 0  \nMini:\t\t\ta: 3  b: 1  c: 1  d: 0  e: 1  f: 1  o: 43  \n\nNext is Mini's turn.\nMini chose e\n\nCurrent state:\nRando:\t\t\tO: 19  F: 0  E: 0  D: 0  C: 0  B: 3  A: 0  \nMini:\t\t\ta: 3  b: 1  c: 1  d: 0  e: 0  f: 2  o: 43  \n\nNext is Rando's turn.\nRando chose B\n\nCurrent state:\nRando:\t\t\tO: 21  F: 0  E: 0  D: 1  C: 1  B: 0  A: 0  \nMini:\t\t\ta: 3  b: 0  c: 1  d: 0  e: 0  f: 2  o: 43  \n\nNext is Mini's turn.\nMini chose c\n\nCurrent state:\nRando:\t\t\tO: 21  F: 0  E: 0  D: 1  C: 0  B: 0  A: 0  \nMini:\t\t\ta: 3  b: 0  c: 0  d: 0  e: 0  f: 2  o: 45  \n\nNext is Rando's turn.\nRando chose D\n\nRando:\t\t\tO: 22  F: 0  E: 0  D: 0  C: 0  B: 0  A: 0  \nMini:\t\t\ta: 3  b: 0  c: 0  d: 0  e: 0  f: 2  o: 45  \n\nFinished Game!\nMini wins!\nCPU times: user 33 ms, sys: 8.06 ms, total: 41 ms\nWall time: 31.9 ms\n",
     "output_type": "stream"
    }
   ]
  },
  {
   "cell_type": "markdown",
   "source": "#### Repeating the game of two AIs, where both of them calculate their decisions new (Player types: Random_AI)",
   "metadata": {
    "cell_id": "00089-58236187-dc28-41e6-957b-ac120e2e7330",
    "deepnote_cell_type": "markdown"
   }
  },
  {
   "cell_type": "code",
   "metadata": {
    "cell_id": "00090-6ec181d9-e95f-4c94-be6d-ec65e3d714ec",
    "deepnote_to_be_reexecuted": false,
    "source_hash": "db26d84a",
    "execution_start": 1644942963235,
    "execution_millis": 45,
    "deepnote_output_heights": [
     232.40625
    ],
    "deepnote_cell_type": "code"
   },
   "source": "%%time\nrepeat_game(f\"log_{timestamp}.json\",False,1)",
   "execution_count": 54,
   "outputs": [
    {
     "name": "stdout",
     "text": "\nCurrent state:\nRando:\t\t\tO: 0  F: 6  E: 6  D: 6  C: 6  B: 6  A: 6  \nMini:\t\t\ta: 6  b: 6  c: 6  d: 6  e: 6  f: 6  o: 0  \n\nNext is Rando's turn.\nRando chose A\nRando gets another turn!\n\nCurrent state:\nRando:\t\t\tO: 1  F: 7  E: 7  D: 7  C: 7  B: 7  A: 0  \nMini:\t\t\ta: 6  b: 6  c: 6  d: 6  e: 6  f: 6  o: 0  \n\nNext is Rando's turn.\nRando chose B\n\nCurrent state:\nRando:\t\t\tO: 2  F: 8  E: 8  D: 8  C: 8  B: 0  A: 0  \nMini:\t\t\ta: 7  b: 7  c: 6  d: 6  e: 6  f: 6  o: 0  \n\nNext is Mini's turn.\nMini chose a\n\nCurrent state:\nRando:\t\t\tO: 2  F: 8  E: 8  D: 8  C: 8  B: 0  A: 1  \nMini:\t\t\ta: 0  b: 8  c: 7  d: 7  e: 7  f: 7  o: 1  \n\nNext is Rando's turn.\nRando chose D\n\nCurrent state:\nRando:\t\t\tO: 3  F: 9  E: 9  D: 0  C: 8  B: 0  A: 1  \nMini:\t\t\ta: 1  b: 9  c: 8  d: 8  e: 8  f: 7  o: 1  \n\nNext is Mini's turn.\nMini chose b\n\nCurrent state:\nRando:\t\t\tO: 3  F: 9  E: 9  D: 1  C: 9  B: 1  A: 2  \nMini:\t\t\ta: 1  b: 0  c: 9  d: 9  e: 9  f: 8  o: 2  \n\nNext is Rando's turn.\nRando chose F\n\nCurrent state:\nRando:\t\t\tO: 4  F: 0  E: 9  D: 1  C: 9  B: 2  A: 3  \nMini:\t\t\ta: 2  b: 1  c: 10  d: 10  e: 10  f: 9  o: 2  \n\nNext is Mini's turn.\nMini chose f\n\nCurrent state:\nRando:\t\t\tO: 4  F: 1  E: 10  D: 2  C: 10  B: 3  A: 4  \nMini:\t\t\ta: 3  b: 2  c: 10  d: 10  e: 10  f: 0  o: 3  \n\nNext is Rando's turn.\nRando chose C\n\nCurrent state:\nRando:\t\t\tO: 5  F: 2  E: 11  D: 3  C: 0  B: 3  A: 4  \nMini:\t\t\ta: 4  b: 3  c: 11  d: 11  e: 11  f: 1  o: 3  \n\nNext is Mini's turn.\nMini chose f\nMini gets another turn!\n\nCurrent state:\nRando:\t\t\tO: 5  F: 2  E: 11  D: 3  C: 0  B: 3  A: 4  \nMini:\t\t\ta: 4  b: 3  c: 11  d: 11  e: 11  f: 0  o: 4  \n\nNext is Mini's turn.\nMini chose e\n\nCurrent state:\nRando:\t\t\tO: 5  F: 3  E: 12  D: 4  C: 1  B: 4  A: 5  \nMini:\t\t\ta: 5  b: 4  c: 12  d: 11  e: 0  f: 1  o: 5  \n\nNext is Rando's turn.\nRando chose B\n\nCurrent state:\nRando:\t\t\tO: 5  F: 4  E: 13  D: 5  C: 2  B: 0  A: 5  \nMini:\t\t\ta: 5  b: 4  c: 12  d: 11  e: 0  f: 1  o: 5  \n\nNext is Mini's turn.\nMini chose f\nMini gets another turn!\n\nCurrent state:\nRando:\t\t\tO: 5  F: 4  E: 13  D: 5  C: 2  B: 0  A: 5  \nMini:\t\t\ta: 5  b: 4  c: 12  d: 11  e: 0  f: 0  o: 6  \n\nNext is Mini's turn.\nMini chose a\n\nCurrent state:\nRando:\t\t\tO: 5  F: 4  E: 13  D: 5  C: 2  B: 0  A: 0  \nMini:\t\t\ta: 0  b: 5  c: 13  d: 12  e: 1  f: 0  o: 12  \n\nNext is Rando's turn.\nRando chose D\n\nCurrent state:\nRando:\t\t\tO: 6  F: 5  E: 14  D: 0  C: 2  B: 0  A: 0  \nMini:\t\t\ta: 1  b: 6  c: 13  d: 12  e: 1  f: 0  o: 12  \n\nNext is Mini's turn.\nMini chose b\n\nCurrent state:\nRando:\t\t\tO: 6  F: 5  E: 14  D: 0  C: 2  B: 0  A: 1  \nMini:\t\t\ta: 1  b: 0  c: 14  d: 13  e: 2  f: 1  o: 13  \n\nNext is Rando's turn.\nRando chose F\n\nCurrent state:\nRando:\t\t\tO: 7  F: 0  E: 14  D: 0  C: 2  B: 0  A: 1  \nMini:\t\t\ta: 2  b: 1  c: 15  d: 14  e: 2  f: 1  o: 13  \n\nNext is Mini's turn.\nMini chose f\nMini gets another turn!\n\nCurrent state:\nRando:\t\t\tO: 7  F: 0  E: 14  D: 0  C: 2  B: 0  A: 1  \nMini:\t\t\ta: 2  b: 1  c: 15  d: 14  e: 2  f: 0  o: 14  \n\nNext is Mini's turn.\nMini chose e\nMini gets another turn!\n\nCurrent state:\nRando:\t\t\tO: 7  F: 0  E: 14  D: 0  C: 2  B: 0  A: 1  \nMini:\t\t\ta: 2  b: 1  c: 15  d: 14  e: 0  f: 1  o: 15  \n\nNext is Mini's turn.\nMini chose c\n\nCurrent state:\nRando:\t\t\tO: 7  F: 1  E: 15  D: 1  C: 3  B: 1  A: 2  \nMini:\t\t\ta: 3  b: 2  c: 1  d: 16  e: 2  f: 2  o: 16  \n\nNext is Rando's turn.\nRando chose E\nRando gets another turn!\n\nCurrent state:\nRando:\t\t\tO: 9  F: 3  E: 1  D: 2  C: 4  B: 2  A: 3  \nMini:\t\t\ta: 4  b: 3  c: 2  d: 17  e: 3  f: 3  o: 16  \n\nNext is Rando's turn.\nRando chose D\n\nCurrent state:\nRando:\t\t\tO: 9  F: 4  E: 2  D: 0  C: 4  B: 2  A: 3  \nMini:\t\t\ta: 4  b: 3  c: 2  d: 17  e: 3  f: 3  o: 16  \n\nNext is Mini's turn.\nMini chose e\n\nCurrent state:\nRando:\t\t\tO: 9  F: 4  E: 2  D: 0  C: 4  B: 2  A: 4  \nMini:\t\t\ta: 4  b: 3  c: 2  d: 17  e: 0  f: 4  o: 17  \n\nNext is Rando's turn.\nRando chose C\nRando gets another turn!\n\nCurrent state:\nRando:\t\t\tO: 10  F: 5  E: 3  D: 1  C: 0  B: 2  A: 4  \nMini:\t\t\ta: 4  b: 3  c: 2  d: 17  e: 0  f: 4  o: 17  \n\nNext is Rando's turn.\nRando chose A\n\nCurrent state:\nRando:\t\t\tO: 10  F: 5  E: 4  D: 2  C: 1  B: 3  A: 0  \nMini:\t\t\ta: 4  b: 3  c: 2  d: 17  e: 0  f: 4  o: 17  \n\nNext is Mini's turn.\nMini chose a\n\nCurrent state:\nRando:\t\t\tO: 10  F: 5  E: 4  D: 2  C: 1  B: 0  A: 0  \nMini:\t\t\ta: 0  b: 4  c: 3  d: 18  e: 0  f: 4  o: 21  \n\nNext is Rando's turn.\nRando chose E\n\nCurrent state:\nRando:\t\t\tO: 11  F: 6  E: 0  D: 2  C: 1  B: 0  A: 0  \nMini:\t\t\ta: 1  b: 5  c: 3  d: 18  e: 0  f: 4  o: 21  \n\nNext is Mini's turn.\nMini chose b\nMini gets another turn!\n\nCurrent state:\nRando:\t\t\tO: 11  F: 6  E: 0  D: 2  C: 1  B: 0  A: 0  \nMini:\t\t\ta: 1  b: 0  c: 4  d: 19  e: 1  f: 5  o: 22  \n\nNext is Mini's turn.\nMini chose c\nMini gets another turn!\n\nCurrent state:\nRando:\t\t\tO: 11  F: 6  E: 0  D: 2  C: 1  B: 0  A: 0  \nMini:\t\t\ta: 1  b: 0  c: 0  d: 20  e: 2  f: 6  o: 23  \n\nNext is Mini's turn.\nMini chose e\nMini gets another turn!\n\nCurrent state:\nRando:\t\t\tO: 11  F: 6  E: 0  D: 2  C: 1  B: 0  A: 0  \nMini:\t\t\ta: 1  b: 0  c: 0  d: 20  e: 0  f: 7  o: 24  \n\nNext is Mini's turn.\nMini chose d\n\nCurrent state:\nRando:\t\t\tO: 11  F: 7  E: 1  D: 4  C: 3  B: 2  A: 2  \nMini:\t\t\ta: 2  b: 1  c: 1  d: 1  e: 2  f: 9  o: 26  \n\nNext is Rando's turn.\nRando chose E\n\nCurrent state:\nRando:\t\t\tO: 11  F: 8  E: 0  D: 4  C: 3  B: 2  A: 2  \nMini:\t\t\ta: 2  b: 1  c: 1  d: 1  e: 2  f: 9  o: 26  \n\nNext is Mini's turn.\nMini chose c\n\nCurrent state:\nRando:\t\t\tO: 11  F: 8  E: 0  D: 4  C: 3  B: 2  A: 2  \nMini:\t\t\ta: 2  b: 1  c: 0  d: 2  e: 2  f: 9  o: 26  \n\nNext is Rando's turn.\nRando chose F\n\nCurrent state:\nRando:\t\t\tO: 12  F: 0  E: 0  D: 4  C: 3  B: 2  A: 3  \nMini:\t\t\ta: 3  b: 2  c: 1  d: 3  e: 3  f: 10  o: 26  \n\nNext is Mini's turn.\nMini chose c\n\nCurrent state:\nRando:\t\t\tO: 12  F: 0  E: 0  D: 4  C: 3  B: 2  A: 3  \nMini:\t\t\ta: 3  b: 2  c: 0  d: 4  e: 3  f: 10  o: 26  \n\nNext is Rando's turn.\nRando chose B\n\nCurrent state:\nRando:\t\t\tO: 12  F: 0  E: 0  D: 5  C: 4  B: 0  A: 3  \nMini:\t\t\ta: 3  b: 2  c: 0  d: 4  e: 3  f: 10  o: 26  \n\nNext is Mini's turn.\nMini chose b\n\nCurrent state:\nRando:\t\t\tO: 12  F: 0  E: 0  D: 5  C: 4  B: 0  A: 3  \nMini:\t\t\ta: 3  b: 0  c: 1  d: 5  e: 3  f: 10  o: 26  \n\nNext is Rando's turn.\nRando chose A\n\nCurrent state:\nRando:\t\t\tO: 12  F: 0  E: 0  D: 6  C: 5  B: 1  A: 0  \nMini:\t\t\ta: 3  b: 0  c: 1  d: 5  e: 3  f: 10  o: 26  \n\nNext is Mini's turn.\nMini chose c\n\nCurrent state:\nRando:\t\t\tO: 12  F: 0  E: 0  D: 6  C: 5  B: 1  A: 0  \nMini:\t\t\ta: 3  b: 0  c: 0  d: 6  e: 3  f: 10  o: 26  \n\nNext is Rando's turn.\nRando chose C\n\nCurrent state:\nRando:\t\t\tO: 13  F: 1  E: 1  D: 7  C: 0  B: 1  A: 0  \nMini:\t\t\ta: 4  b: 0  c: 0  d: 6  e: 3  f: 10  o: 26  \n\nNext is Mini's turn.\nMini chose d\n\nCurrent state:\nRando:\t\t\tO: 13  F: 1  E: 1  D: 7  C: 1  B: 2  A: 1  \nMini:\t\t\ta: 4  b: 0  c: 0  d: 0  e: 4  f: 11  o: 27  \n\nNext is Rando's turn.\nRando chose B\n\nCurrent state:\nRando:\t\t\tO: 13  F: 1  E: 1  D: 8  C: 2  B: 0  A: 1  \nMini:\t\t\ta: 4  b: 0  c: 0  d: 0  e: 4  f: 11  o: 27  \n\nNext is Mini's turn.\nMini chose f\n\nCurrent state:\nRando:\t\t\tO: 13  F: 2  E: 2  D: 9  C: 0  B: 1  A: 2  \nMini:\t\t\ta: 5  b: 1  c: 1  d: 0  e: 4  f: 0  o: 32  \n\nNext is Rando's turn.\nRando chose F\n\nCurrent state:\nRando:\t\t\tO: 14  F: 0  E: 2  D: 9  C: 0  B: 1  A: 2  \nMini:\t\t\ta: 6  b: 1  c: 1  d: 0  e: 4  f: 0  o: 32  \n\nNext is Mini's turn.\nMini chose a\nMini gets another turn!\n\nCurrent state:\nRando:\t\t\tO: 14  F: 0  E: 2  D: 9  C: 0  B: 1  A: 2  \nMini:\t\t\ta: 0  b: 2  c: 2  d: 1  e: 5  f: 1  o: 33  \n\nNext is Mini's turn.\nMini chose d\n\nCurrent state:\nRando:\t\t\tO: 14  F: 0  E: 2  D: 9  C: 0  B: 1  A: 2  \nMini:\t\t\ta: 0  b: 2  c: 2  d: 0  e: 6  f: 1  o: 33  \n\nNext is Rando's turn.\nRando chose E\nRando gets another turn!\n\nCurrent state:\nRando:\t\t\tO: 15  F: 1  E: 0  D: 9  C: 0  B: 1  A: 2  \nMini:\t\t\ta: 0  b: 2  c: 2  d: 0  e: 6  f: 1  o: 33  \n\nNext is Rando's turn.\nRando chose F\nRando gets another turn!\n\nCurrent state:\nRando:\t\t\tO: 16  F: 0  E: 0  D: 9  C: 0  B: 1  A: 2  \nMini:\t\t\ta: 0  b: 2  c: 2  d: 0  e: 6  f: 1  o: 33  \n\nNext is Rando's turn.\nRando chose D\n\nCurrent state:\nRando:\t\t\tO: 17  F: 1  E: 1  D: 0  C: 0  B: 1  A: 2  \nMini:\t\t\ta: 1  b: 3  c: 3  d: 1  e: 7  f: 2  o: 33  \n\nNext is Mini's turn.\nMini chose e\n\nCurrent state:\nRando:\t\t\tO: 17  F: 1  E: 2  D: 1  C: 1  B: 2  A: 3  \nMini:\t\t\ta: 1  b: 3  c: 3  d: 1  e: 0  f: 3  o: 34  \n\nNext is Rando's turn.\nRando chose C\n\nCurrent state:\nRando:\t\t\tO: 17  F: 1  E: 2  D: 2  C: 0  B: 2  A: 3  \nMini:\t\t\ta: 1  b: 3  c: 3  d: 1  e: 0  f: 3  o: 34  \n\nNext is Mini's turn.\nMini chose f\n\nCurrent state:\nRando:\t\t\tO: 17  F: 1  E: 2  D: 2  C: 0  B: 3  A: 4  \nMini:\t\t\ta: 1  b: 3  c: 3  d: 1  e: 0  f: 0  o: 35  \n\nNext is Rando's turn.\nRando chose D\n\nCurrent state:\nRando:\t\t\tO: 17  F: 2  E: 3  D: 0  C: 0  B: 3  A: 4  \nMini:\t\t\ta: 1  b: 3  c: 3  d: 1  e: 0  f: 0  o: 35  \n\nNext is Mini's turn.\nMini chose c\n\nCurrent state:\nRando:\t\t\tO: 17  F: 2  E: 3  D: 0  C: 0  B: 3  A: 0  \nMini:\t\t\ta: 1  b: 3  c: 0  d: 2  e: 1  f: 0  o: 40  \n\nNext is Rando's turn.\nRando chose E\n\nCurrent state:\nRando:\t\t\tO: 18  F: 3  E: 0  D: 0  C: 0  B: 3  A: 0  \nMini:\t\t\ta: 2  b: 3  c: 0  d: 2  e: 1  f: 0  o: 40  \n\nNext is Mini's turn.\nMini chose b\n\nCurrent state:\nRando:\t\t\tO: 18  F: 3  E: 0  D: 0  C: 0  B: 3  A: 0  \nMini:\t\t\ta: 2  b: 0  c: 1  d: 3  e: 2  f: 0  o: 40  \n\nNext is Rando's turn.\nRando chose F\n\nCurrent state:\nRando:\t\t\tO: 19  F: 0  E: 0  D: 0  C: 0  B: 3  A: 0  \nMini:\t\t\ta: 3  b: 1  c: 1  d: 3  e: 2  f: 0  o: 40  \n\nNext is Mini's turn.\nMini chose e\nMini gets another turn!\n\nCurrent state:\nRando:\t\t\tO: 19  F: 0  E: 0  D: 0  C: 0  B: 3  A: 0  \nMini:\t\t\ta: 3  b: 1  c: 1  d: 3  e: 0  f: 1  o: 41  \n\nNext is Mini's turn.\nMini chose f\nMini gets another turn!\n\nCurrent state:\nRando:\t\t\tO: 19  F: 0  E: 0  D: 0  C: 0  B: 3  A: 0  \nMini:\t\t\ta: 3  b: 1  c: 1  d: 3  e: 0  f: 0  o: 42  \n\nNext is Mini's turn.\nMini chose d\nMini gets another turn!\n\nCurrent state:\nRando:\t\t\tO: 19  F: 0  E: 0  D: 0  C: 0  B: 3  A: 0  \nMini:\t\t\ta: 3  b: 1  c: 1  d: 0  e: 1  f: 1  o: 43  \n\nNext is Mini's turn.\nMini chose e\n\nCurrent state:\nRando:\t\t\tO: 19  F: 0  E: 0  D: 0  C: 0  B: 3  A: 0  \nMini:\t\t\ta: 3  b: 1  c: 1  d: 0  e: 0  f: 2  o: 43  \n\nNext is Rando's turn.\nRando chose B\n\nCurrent state:\nRando:\t\t\tO: 21  F: 0  E: 0  D: 1  C: 1  B: 0  A: 0  \nMini:\t\t\ta: 3  b: 0  c: 1  d: 0  e: 0  f: 2  o: 43  \n\nNext is Mini's turn.\nMini chose c\n\nCurrent state:\nRando:\t\t\tO: 21  F: 0  E: 0  D: 1  C: 0  B: 0  A: 0  \nMini:\t\t\ta: 3  b: 0  c: 0  d: 0  e: 0  f: 2  o: 45  \n\nNext is Rando's turn.\nRando chose D\n\nRando:\t\t\tO: 22  F: 0  E: 0  D: 0  C: 0  B: 0  A: 0  \nMini:\t\t\ta: 3  b: 0  c: 0  d: 0  e: 0  f: 2  o: 45  \n\nFinished Game!\nMini wins!\nCPU times: user 45.9 ms, sys: 4.23 ms, total: 50.2 ms\nWall time: 38.8 ms\n",
     "output_type": "stream"
    }
   ]
  },
  {
   "cell_type": "markdown",
   "source": "## Play against Random AI",
   "metadata": {
    "cell_id": "00091-60bc3111-97a0-49d5-9149-c3f0e8fd3b35",
    "deepnote_cell_type": "markdown"
   }
  },
  {
   "cell_type": "code",
   "metadata": {
    "cell_id": "00092-25914aab-8ba4-4dd7-8cb9-fb289bb6d452",
    "deepnote_to_be_reexecuted": false,
    "source_hash": "910cfcf4",
    "execution_start": 1644942963283,
    "execution_millis": 1,
    "deepnote_cell_type": "code"
   },
   "source": "gameHuman = Kalah_Game([Random_AI(0,\"AI2\",1), Human(1,\"Karl\")],2)",
   "execution_count": 55,
   "outputs": []
  },
  {
   "cell_type": "code",
   "metadata": {
    "cell_id": "00093-af8aaf1e-d196-48bb-bcf2-5bafb6222232",
    "deepnote_to_be_reexecuted": false,
    "source_hash": "5682e81a",
    "execution_start": 1644942963285,
    "execution_millis": 6,
    "deepnote_output_heights": [
     null,
     520,
     null,
     null,
     null,
     null,
     611
    ],
    "deepnote_cell_type": "code"
   },
   "source": "# gameHuman.start()",
   "execution_count": 56,
   "outputs": []
  },
  {
   "cell_type": "markdown",
   "source": "<a style='text-decoration:none;line-height:16px;display:flex;color:#5B5B62;padding:10px;justify-content:end;' href='https://deepnote.com?utm_source=created-in-deepnote-cell&projectId=b91c3ea7-d814-439b-837a-72fdc90697b1' target=\"_blank\">\n<img alt='Created in deepnote.com' style='display:inline;max-height:16px;margin:0px;margin-right:7.5px;' src='data:image/svg+xml;base64,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' > </img>\nCreated in <span style='font-weight:600;margin-left:4px;'>Deepnote</span></a>",
   "metadata": {
    "tags": [],
    "created_in_deepnote_cell": true,
    "deepnote_cell_type": "markdown"
   }
  }
 ],
 "nbformat": 4,
 "nbformat_minor": 5,
 "metadata": {
  "kernelspec": {
   "display_name": "Python 3 (ipykernel)",
   "language": "python",
   "name": "python3"
  },
  "language_info": {
   "codemirror_mode": {
    "name": "ipython",
    "version": 3
   },
   "file_extension": ".py",
   "mimetype": "text/x-python",
   "name": "python",
   "nbconvert_exporter": "python",
   "pygments_lexer": "ipython3",
   "version": "3.8.12"
  },
  "nbdime-conflicts": {
   "local_diff": [
    {
     "diff": [
      {
       "diff": [
        {
         "key": 0,
         "op": "addrange",
         "valuelist": [
          "3.9.1"
         ]
        },
        {
         "key": 0,
         "length": 1,
         "op": "removerange"
        }
       ],
       "key": "version",
       "op": "patch"
      }
     ],
     "key": "language_info",
     "op": "patch"
    }
   ],
   "remote_diff": [
    {
     "diff": [
      {
       "diff": [
        {
         "key": 0,
         "op": "addrange",
         "valuelist": [
          "3.8.12"
         ]
        },
        {
         "key": 0,
         "length": 1,
         "op": "removerange"
        }
       ],
       "key": "version",
       "op": "patch"
      }
     ],
     "key": "language_info",
     "op": "patch"
    }
   ]
  },
  "deepnote_notebook_id": "767f6f9f-2fd2-4e35-9e91-b22ae1451d4f",
  "deepnote": {},
  "deepnote_execution_queue": []
 }
}