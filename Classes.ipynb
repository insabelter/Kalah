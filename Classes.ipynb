{
 "cells": [
  {
   "cell_type": "code",
   "source": "#!pip install ipycanvas==0.11.0",
   "metadata": {
    "cell_id": "5f41a1ca-14e8-41da-b9ba-9efe0f41f70d",
    "tags": [],
    "deepnote_to_be_reexecuted": false,
    "source_hash": "d6c7382d",
    "execution_start": 1646848906950,
    "execution_millis": 47,
    "deepnote_cell_type": "code",
    "deepnote_cell_height": 81
   },
   "outputs": [],
   "execution_count": 1
  },
  {
   "cell_type": "code",
   "metadata": {
    "cell_id": "83778be5-dbbd-48b8-9522-7ba9f5847ca7",
    "deepnote_to_be_reexecuted": false,
    "execution_millis": 47,
    "execution_start": 1646848906998,
    "source_hash": "ebe85e9f",
    "deepnote_cell_type": "code",
    "deepnote_cell_height": 297,
    "deepnote_output_heights": [
     2
    ]
   },
   "source": "from ipycanvas import MultiCanvas,hold_canvas\nfrom ipywidgets import Image\nimport math\nimport random\nimport IPython.display\nimport time\nimport copy\nimport datetime as dt\nfrom IPython.core.display import HTML\nwith open('style.css', 'r') as file:\n    css = file.read()\nHTML(css)",
   "execution_count": 2,
   "outputs": [
    {
     "output_type": "execute_result",
     "execution_count": 2,
     "data": {
      "text/plain": "<IPython.core.display.HTML object>",
      "text/html": "<link href='http://fonts.googleapis.com/css?family=Alegreya+Sans:100,300,400,500,700,800,900,100italic,300italic,400italic,500italic,700italic,800italic,900italic' rel='stylesheet' type='text/css'>\n<link href='http://fonts.googleapis.com/css?family=Arvo:400,700,400italic' rel='stylesheet' type='text/css'>\n<link href='http://fonts.googleapis.com/css?family=PT+Mono' rel='stylesheet' type='text/css'>\n<link href='http://fonts.googleapis.com/css?family=Shadows+Into+Light' rel='stylesheet' type='text/css'>\n<link href='http://fonts.googleapis.com/css?family=Philosopher:400,700,400italic,700italic' rel='stylesheet' type='text/css'>\n\n<style>\n\n@font-face {\n    font-family: \"Computer Modern\";\n    src: url('http://mirrors.ctan.org/fonts/cm-unicode/fonts/otf/cmunss.otf');\n}\n\n.container { width: 100% }\n\n/* Formatting for header cells */\n.text_cell_render h1 {\n    font-family: 'Philosopher';\n    font-weight: 600;\n    font-size: 2.2em;\n    line-height: 100%;\n    color: rgb(0, 80, 120);\n    margin-bottom: 0.1em;\n    margin-top: 0.1em;\n    display: block;\n}\t\n.text_cell_render h2 {\n    font-family: 'Philosopher';\n    font-weight: 400;\n    font-size: 1.8em;\n    line-height: 100%;\n    color: rgb(0, 80, 120);\n    margin-bottom: 0.1em;\n    margin-top: 0.1em;\n    display: block;\n}\t\n\n.text_cell_render h3 {\n    font-family: 'Philosopher';\n    margin-top:12px;\n    margin-bottom: 3px;\n    font-style: italic;\n    color: rgb(0, 100, 132);\n}\n\n.text_cell_render h4 {\n    font-family: 'Philosopher', serif;\n    color: rgb(0, 100, 132);\n}\n\n.text_cell_render h5 {\n    font-family: 'Philosopher', serif;\n    margin-top:6px;\n    margin-bottom: 2px;\n    color: rgb(0, 100, 132);\n    font-style: italic;\n    display: block;\n}\n\n.text_cell_render h6 {\n    font-family: 'PT Mono', serif;\n    font-weight: 300;\n    font-size: 10pt;\n    color: grey;\n    margin-bottom: 1px;\n    margin-top: 1px;\n}\n\n.text_cell_render em {\n    font-family: 'Philosopher', serif;\n    background-color: rgb(220,235,240);\n    font-size:    110%;\n    margin-left:   2px;\n    margin-right:  2px;\n    font-weight:   100;\n    font-style: normal;\n}\n\n.text_cell_render b {\n    font-family: 'Philosopher', serif;\n    color:            rgb(255,195,195);\n    font-size:    110%;\n    margin-left:   2px;\n    margin-right:  2px;\n    font-weight:   650;\n}\n\n.text_cell_render tt {\n    background-color: rgb(235,235,235);\n    font-size:    120%;\n    margin-left:   2px;\n    margin-right:  2px;\n    font-weight:   150;\n}\n\n.Codemirror {\n    font-family: \"PT Mono\";\n    font-size: 100%;\n}\n\n</style>\n\n"
     },
     "metadata": {}
    }
   ]
  },
  {
   "cell_type": "markdown",
   "source": "# Kalah Rules\n\n### Game structure:\n<p>The playing field consists of six houses per side and additionally one large house per player at the edge, the so-called storage. At the beginning of the game, four seeds are placed in each house except the storage.</p>\n\n![title](images/Board.png)\n\n### Gameplay:\n<p>Alternately, a player selects a house on his side of the board. The player then places the seeds in the following houses in a counter-clockwise direction. If visited, a seed is placed in the own storage, the opponent's storage is left out. The player's turn ends if all seeds are placed.\n\nThere are some special rules, that apply if the last seed is placed in the player's storage or an empty player's house:\n1. If the last seed is placed in the own storage, it is the player's turn again. \n2. If the last seed is placed in an empty house on the player's own side of the board, this seed and all the seeds in the opposite house are placed in the player's storage. This can only occur if the opposite house contains atleast one seed.</p>\n\n### End of the game:\n<p>The game ends when all the houses of one player have been emptied. The opposing player then places all remaining seed in his storage.</p>\n\n### Object of the game:\n<p>The winner is the player who has more seeds in his storage at the end of the game.</p>\n\nSource: http://gambiter.com/mancala/Kalah.html (09.03.2022), http://www.iggamecenter.com/info/en/kalah.html (09.03.2022)",
   "metadata": {
    "cell_id": "00001-18d6a173-aebe-492d-9c4a-d89c70682f66",
    "deepnote_cell_type": "markdown",
    "deepnote_cell_height": 1108.5333251953125
   }
  },
  {
   "cell_type": "markdown",
   "source": "# Kalah game definition\n\n### Basic definition:\n<p>We define the game G as a six-tuple as follows so that a computer is able to play Kalah.</p>\n<br>\n<center><em>G = &ltStates, s0, Players, nextStates, finished, utility></em></center>\n\nThe components have the following meanings:\n\n1. **States** is a set that contains all possible states of the game Kalah. A state of the game is represented by a list containing two lists, representing the houses of the two players. The first six values of each list represent the number of seeds in the player's houses represented by the letters **{A, B, C, D, E, F}**. The seventh and last value stands for the number of seeds in the corresponding player's storage. The start state of the game is for example:\n\n<center><em>[[6,6,6,6,6,6,0], [6,6,6,6,6,6,0]]</em></center>\n\n2. **s0 $\\in$ States** is the start state.\n\n3. **Players** is a list that contains the players. Kalah is a game for exactly two players, therefore this game's **Players** list only contains two elements.\n4. **nextStates** is a function which calculates a set of states that are reachable by one move from Player p in the state s. To do so, the function receives a state **s $\\in$ States** and a player **p $\\in$ Players**. The formula is given as follows:\n\n<center><em>nextStates: States $\\times$ Players &rarr; 2<sup>States</sup></em></center>\n\n5. **finished** is a function that takes a state **s $\\in$ States** and checks if the game is finished, meaning that one of the players has emptied all their houses. The formula is: \n<br><br>\n<center><em>finished: States &rarr; $\\mathbb{B}$</em></center>\n<br>\nThe function finished is used to compute a set TerminalStates that contains all states from a finished game. This set is defined as follows: \n<br><br>\n<center><em>TerminalStates:= {s $\\in$ States | finished(s)}</em></center>\n<br>\n6. **utility** is a function that calculates the value of the game for a player. Therefore, the function takes a state **s $\\in$ TerminalStates** and a player **p $\\in$ Players**. The value that the function returns is an element from the set **{-1, 0, 1}**. The player p has lost the game when the function returns -1. If the function returns 1, the player has won the game and if the value is 0, the game ends in a draw. The formula for the function is:\n\n<center><em>utility: TerminalStates $\\times$ Players &rarr; {-1, 0. 1}</em></center>\n\nsource: https://github.com/karlstroetmann/Artificial-Intelligence/blob/master/Lecture-Notes/artificial-intelligence.pdf, S.87, Abruf am 06.02.2022",
   "metadata": {
    "cell_id": "00002-64cc3c2b-13f0-4191-a76c-c4445977d712",
    "deepnote_cell_type": "markdown",
    "deepnote_cell_height": 1582.5333251953125
   }
  },
  {
   "cell_type": "markdown",
   "source": "# Classes\n\nThe Kalah game is implemented with the use of several classes, containing base class <tt>Kalah_Game</tt>, a <tt>Board</tt> class for displaying the UI and a <tt>Player</tt> class as well as several classes inheriting from this <tt>Player</tt> class:\n\n- <tt>Human</tt>\n- <tt>Repeated_Player</tt>\n- <tt>Random_AI</tt>",
   "metadata": {
    "cell_id": "00003-1b61c251-9262-4c52-a07b-bdc857bc4dbe",
    "deepnote_cell_type": "markdown",
    "deepnote_cell_height": 251.5
   }
  },
  {
   "cell_type": "markdown",
   "source": "## Global Variables\n\nAdditionally to the classes, there is one global variable *gOrder* with the purpose to help converting the state of the game board, which is represented by a nested list, to letters. The letter representation is mainly for the UI, but also distributes to print and logging messages being easier to humanly comprehend.",
   "metadata": {
    "cell_id": "00004-d869a495-adcb-4d67-a1c8-eb2e48bb9038",
    "deepnote_cell_type": "markdown",
    "deepnote_cell_height": 153.1666717529297
   }
  },
  {
   "cell_type": "code",
   "metadata": {
    "cell_id": "00005-7d50d53c-2223-4aae-804c-a5135095efa6",
    "deepnote_to_be_reexecuted": false,
    "execution_millis": 1,
    "execution_start": 1646848907040,
    "source_hash": "5e40d2f5",
    "deepnote_cell_type": "code",
    "deepnote_cell_height": 99
   },
   "source": "gOrder = [['A','B','C','D','E','F','O'],\n         ['a','b','c','d','e','f','o']]",
   "execution_count": 3,
   "outputs": []
  },
  {
   "cell_type": "markdown",
   "source": "## Global Game Functions\n\n- *other_player(player_num)*\n- *move(state, player_num, choice)*\n- *next_states(state, player_num)*\n- *finished(state)*\n- *utility(state, player_num)*\n- *value(state, player_num)*\n\nTODO",
   "metadata": {
    "cell_id": "6101a602-8a4d-4adc-bd0d-4b735a1cbea7",
    "tags": [],
    "deepnote_cell_type": "markdown",
    "deepnote_cell_height": 274.79998779296875
   }
  },
  {
   "cell_type": "markdown",
   "source": "### Function: other_player\nThe function *other_player(player_num)* returns the opponent's player number to a given player number. This means that it returns 1 for the input 0, and 0 for the input 1.",
   "metadata": {
    "cell_id": "00039-12e7bf25-9084-46d1-b529-c0928d53be7c",
    "deepnote_cell_type": "markdown",
    "deepnote_cell_height": 122.76666259765625
   }
  },
  {
   "cell_type": "code",
   "metadata": {
    "cell_id": "00040-baf5d4bd-4a25-4098-b0d6-921bd14d1319",
    "deepnote_to_be_reexecuted": false,
    "execution_millis": 28670,
    "execution_start": 1646848907043,
    "source_hash": "770e4d0e",
    "deepnote_cell_type": "code",
    "deepnote_cell_height": 99
   },
   "source": "def other_player(player_num):\n    return (player_num + 1) % 2",
   "execution_count": 4,
   "outputs": []
  },
  {
   "cell_type": "markdown",
   "source": "### Function move\r\nThe function *move* calculates the resulting state after a player choses a house in their turn.\r\nAdditionally, the function is used in *next_states* to calculate all possible following states from one state.\r\n\r\n##### The calculations are implemented based on the following game rules:\r\n\r\n1. The current player choses one of his houses. The seeds from the chosen house are placed counterclockwise in the houses of both players and in the store of the current player. The store of the opponent is left out. Then it is the turn of the opponent.\r\n\r\n2. If the last seed is placed in the store of the current player, they get another move.\r\n\r\n3. If the last seed is placed in an empty house of the current player the seed from this house and all seeds from the opposite house are place in the store of the current player. Then it's the opponent's turn.\r\n\r\nTo implement the function *move*, there are several auxiliary function used:\r\n- *place_seeds*\r\n- *check_another_turn*\r\n- *steal_if_possible*\r\n<br>\r\n\r\n#### Auxiliary Function: place_seeds\r\nThe auxiliary function *place_seeds* is used in the function *move* to place the seeds from the chosen house according to the first game rule.\r\n\r\nTo do so, the function takes the current game state, the seed number of the chosen player house and the number of that house (choice). While placing the seeds, the state of the game is updated with every seed. In the end, the end state after placing all seeds is returned together with the player and house numbers of the last house in which a seed has been placed.",
   "metadata": {
    "cell_id": "2f0f52f3-7c76-449c-9b5c-86d5e114dd92",
    "tags": [],
    "deepnote_cell_type": "markdown",
    "deepnote_cell_height": 657.63330078125
   }
  },
  {
   "cell_type": "code",
   "source": "def place_seeds(state, seeds, player_num, choice):\r\n    placing_house_num = choice\r\n    placing_player_num = player_num\r\n    # Go through houses counterclockwise\r\n    while seeds > 0:\r\n        placing_house_num += 1\r\n        # Skip opponent's store\r\n        if placing_house_num == 6 and placing_player_num != player_num:\r\n            continue\r\n        # Switch to houses of the other player\r\n        if(placing_house_num > 6):\r\n            placing_house_num = 0\r\n            placing_player_num = other_player(placing_player_num)\r\n        # Add seed to the currently visited house\r\n        state[placing_player_num][placing_house_num] += 1\r\n        seeds -= 1\r\n    return state, placing_player_num, placing_house_num",
   "metadata": {
    "cell_id": "d8533e38-bcb4-48fb-9bcf-4e3f6b3c925c",
    "tags": [],
    "deepnote_to_be_reexecuted": false,
    "source_hash": "b7ec842c",
    "execution_start": 1646848907051,
    "execution_millis": 28671,
    "deepnote_cell_type": "code",
    "deepnote_cell_height": 369
   },
   "outputs": [],
   "execution_count": 5
  },
  {
   "cell_type": "markdown",
   "source": "#### Auxiliary Function: check_another_turn\r\n\r\nThe auxiliary function *check_another_turn* checks after all seeds where placed if the current player should get another turn according to the second game rule. This is the case whenever the last seed of the player was placed in their own store.\r\n\r\nThe function receives the resulting game state after *place_seeds* was executed as well as the player and house numbers of the last house in which a seed has been placed. It returns True if the current player gets another turn and False otherwise.\r\n",
   "metadata": {
    "cell_id": "678560c2-22a9-41ec-9fb6-8726a27c3647",
    "tags": [],
    "deepnote_cell_type": "markdown",
    "deepnote_cell_height": 214.38333129882812
   }
  },
  {
   "cell_type": "code",
   "source": "def check_another_turn(state, player_num, last_player_num, last_house_num):\r\n    return last_player_num == player_num and last_house_num == 6 and not finished(state)",
   "metadata": {
    "cell_id": "9f27fff8-3e78-45ec-ac98-b5e800ed0e50",
    "tags": [],
    "deepnote_to_be_reexecuted": false,
    "source_hash": "9d63a35b",
    "execution_start": 1646848907054,
    "execution_millis": 28666,
    "deepnote_cell_type": "code",
    "deepnote_cell_height": 99
   },
   "outputs": [],
   "execution_count": 6
  },
  {
   "cell_type": "markdown",
   "source": "#### Auxiliary Function: steal_if_possible\r\nThe auxiliary function *steal_if_possible* checks after all seeds where placed if the current player can steal any seeds from their opponent according to the third game rule. This is the case whenever the last seed of the player was placed in an own empty house and the opponent has any seeds in the opposite house. In this case the own last seed together with the opposite seeds of the opponent are placed in the current player's store.\r\n\r\nThe function receives the resulting game state after place_seeds was executed as well as the player and house numbers of the last house in which a seed has been placed. *steal_if_possible* checks if any seeds can be stolen and updates the game state in that case. In the end, the possibly updated game state is returned.",
   "metadata": {
    "cell_id": "9110fd64-0382-45e6-a18a-a8f3783ff3ae",
    "tags": [],
    "deepnote_cell_type": "markdown",
    "deepnote_cell_height": 236.8000030517578
   }
  },
  {
   "cell_type": "code",
   "source": "def steal_if_possible(state, player_num, last_player_num, last_house_num):\r\n    last_house_seeds = state[player_num][last_house_num]\r\n    other_player_num = other_player(player_num)\r\n    opponent_house_num = 5-last_house_num\r\n    last_house_opponent_seeds = state[other_player_num][opponent_house_num]\r\n    if last_house_seeds == 1 and last_house_opponent_seeds != 0:                \r\n        # Collect all seeds to be rewarded and empty both houses\r\n        received_seeds = last_house_seeds + last_house_opponent_seeds\r\n        state[other_player_num][opponent_house_num] = 0\r\n        state[player_num][last_house_num] = 0\r\n        # Award all the seeds to the current player's store\r\n        state[player_num][6] += received_seeds\r\n    return state",
   "metadata": {
    "cell_id": "4bff61b6-74aa-452c-a37a-dca0f61b8206",
    "tags": [],
    "deepnote_to_be_reexecuted": false,
    "source_hash": "b62c4f71",
    "execution_start": 1646848907056,
    "execution_millis": 24,
    "deepnote_cell_type": "code",
    "deepnote_cell_height": 297
   },
   "outputs": [],
   "execution_count": 7
  },
  {
   "cell_type": "markdown",
   "source": "#### Function move:\r\n\r\nThe function move uses all auxiliary functions described above to calculate the resulting game state from the current player's house choice. Therefore it is given the current game state, the number of the player which performs the move and the house number which that player has chosen.\r\n\r\nAt first, the function creates a copy of the state so that no changes are directly applied to the state variable in the game class. Next, the number of seeds in the chosen house are saved and the house is emptied. Afterwards, *place_seeds* is used to place the seeds counterclockwise in the houses and *steal_if_possible* is called to perform any steals afterwards if required. In the end, *another_turn* calculates if the current player should receive another turn and this information is returned from the function *move* together with the resulting new game state.",
   "metadata": {
    "cell_id": "12458659-eee9-46a7-b762-d4cce35a0a2c",
    "tags": [],
    "deepnote_cell_type": "markdown",
    "deepnote_cell_height": 259.20001220703125
   }
  },
  {
   "cell_type": "code",
   "metadata": {
    "cell_id": "00051-84307cf6-3f2c-4076-bf4a-5b2d7b66ecf9",
    "deepnote_to_be_reexecuted": false,
    "execution_millis": 0,
    "execution_start": 1646848907155,
    "source_hash": "a29106d5",
    "deepnote_cell_type": "code",
    "deepnote_cell_height": 225
   },
   "source": "def move(state, player_num, choice):\n    new_state = copy.deepcopy(state)\n    seeds = new_state[player_num][choice]\n    new_state[player_num][choice] = 0\n    # Place all seeds and check for special rules\n    new_state, last_player_num, last_house_num = place_seeds(new_state, seeds, player_num, choice)\n    steal_if_possible(new_state, player_num, last_player_num, last_house_num)\n    another_turn = check_another_turn(new_state, player_num, last_player_num, last_house_num)\n    return new_state, another_turn",
   "execution_count": 8,
   "outputs": []
  },
  {
   "cell_type": "markdown",
   "source": "### Function: finished\nThe private function *finished()* checks if one of the players has no seeds in their house left and is therefore unable to take another turn. If this is the case, the function returns True, otherwise it returns False. ",
   "metadata": {
    "cell_id": "00052-d30a97d7-a30f-423b-9ff0-2b7a8b9d3c5f",
    "deepnote_cell_type": "markdown",
    "deepnote_cell_height": 122.80000305175781
   }
  },
  {
   "cell_type": "code",
   "metadata": {
    "cell_id": "00053-a39f0c36-fd65-463e-bf2b-3148a7d47916",
    "deepnote_to_be_reexecuted": false,
    "execution_millis": 1,
    "execution_start": 1646848907155,
    "source_hash": "8267f8c5",
    "deepnote_cell_type": "code",
    "deepnote_cell_height": 225
   },
   "source": "def finished(state):\n    for side in state:\n        fin = True\n        for house in side[:-1]:\n            if house != 0:\n                fin = False\n        if fin:\n            return True\n    return False",
   "execution_count": 9,
   "outputs": []
  },
  {
   "cell_type": "code",
   "source": "finished([[0,0,5,0,0,0,12],[0,4,0,0,0,0,15]])",
   "metadata": {
    "cell_id": "e7852365-eff2-4dee-9af1-6eca56e77c8f",
    "tags": [],
    "deepnote_to_be_reexecuted": false,
    "source_hash": "a4d16717",
    "execution_start": 1646848907156,
    "execution_millis": 19,
    "deepnote_cell_type": "code",
    "deepnote_cell_height": 118,
    "deepnote_output_heights": [
     21
    ]
   },
   "outputs": [
    {
     "output_type": "execute_result",
     "execution_count": 10,
     "data": {
      "text/plain": "False"
     },
     "metadata": {}
    }
   ],
   "execution_count": 10
  },
  {
   "cell_type": "markdown",
   "source": "### Function: next_states\nThe function *next_States()* is a function which calculates a list of states that are reachable by one turn from Player p in the state s. To do so, the function receives a state **state $\\in$ States** and a player **player_num $\\in$ Players**. The formula is given as follows:\n\n<center><em>nextStates: States $\\times$ Players &rarr; States $\\times$ Choices</em></center>\n\n<b style=\"background-color:yellow; color:blue\">TODO:</b>  Mathematische Schreibweise einer Liste?",
   "metadata": {
    "cell_id": "00058-73ff3b34-bd55-4d10-a27a-af6ea7a395e4",
    "deepnote_cell_type": "markdown",
    "deepnote_cell_height": 203.98333740234375
   }
  },
  {
   "cell_type": "code",
   "metadata": {
    "cell_id": "00059-b3c036fb-5c91-4b53-a303-ccae1336b33a",
    "deepnote_to_be_reexecuted": false,
    "execution_millis": 1,
    "execution_start": 1646848907157,
    "source_hash": "26c11742",
    "deepnote_cell_type": "code",
    "deepnote_cell_height": 369
   },
   "source": "def next_states(state, player_num):\n    states = []\n    for choice in range(6):\n        # Check if choice is valid (at least one seed in house)\n        if state[player_num][choice] == 0:\n            continue   \n        next_state, another_turn = move(state, player_num, choice)\n\n        # Check if player has another turn\n        # If so, next_states is called recursively until the player has no other turn \n        if another_turn:\n            for s,choices in next_states(next_state, player_num):\n                states.append((s,[choice] + choices))\n        else:\n            states.append((next_state,[choice]))\n\n    return states",
   "execution_count": 11,
   "outputs": []
  },
  {
   "cell_type": "markdown",
   "source": "<b style=\"background-color:yellow; color:blue\">Comment:</b> \nUnit tests like the test below should use `assert`.",
   "metadata": {
    "cell_id": "00018-bbeea223-53f2-4d0b-b55c-f7607f1e532a",
    "deepnote_cell_type": "markdown",
    "deepnote_cell_height": 52.399993896484375
   }
  },
  {
   "cell_type": "code",
   "metadata": {
    "cell_id": "00060-c82f4f90-bed5-446e-bea2-33926492147d",
    "deepnote_to_be_reexecuted": false,
    "execution_millis": 18,
    "execution_start": 1646848907158,
    "source_hash": "6d1e87cf",
    "deepnote_cell_type": "code",
    "deepnote_cell_height": 118,
    "deepnote_output_heights": [
     21,
     21
    ]
   },
   "source": "next_states([[0, 0, 0, 0, 0, 1, 43], [0, 2, 0, 1, 2, 1, 22]],0)",
   "execution_count": 12,
   "outputs": [
    {
     "output_type": "execute_result",
     "execution_count": 12,
     "data": {
      "text/plain": "[([[0, 0, 0, 0, 0, 0, 44], [0, 2, 0, 1, 2, 1, 22]], [5])]"
     },
     "metadata": {}
    }
   ]
  },
  {
   "cell_type": "markdown",
   "source": "### Function: utility\nThe  function *utility(player_num)* receives the number of the current player and uses the current state to calculate the utility of the state for that player. The function compares the seeds from both stores and returns an Integer dependent on the result. If the current player has more seeds than the opponent the function returns 1. If they own less seeds than the opponent the function returns -1 and if it is a draw the number 0 is returned.     ",
   "metadata": {
    "cell_id": "00056-08bdb5a5-9aab-4114-9dc9-42156ac99995",
    "deepnote_cell_type": "markdown",
    "deepnote_cell_height": 167.5833282470703
   }
  },
  {
   "cell_type": "code",
   "metadata": {
    "cell_id": "00057-c4f03208-b88b-46ab-a794-551d6210a8b9",
    "deepnote_to_be_reexecuted": false,
    "execution_millis": 0,
    "execution_start": 1646848907159,
    "source_hash": "7a86d264",
    "deepnote_cell_type": "code",
    "deepnote_cell_height": 225
   },
   "source": "def utility(state, player_num):\n    playerStore = sum(state[player_num])\n    opponentStore = sum(state[other_player(player_num)])\n    if(playerStore > opponentStore):\n        return 1\n    elif(playerStore == opponentStore):\n        return 0\n    else:\n        return -1",
   "execution_count": 13,
   "outputs": []
  },
  {
   "cell_type": "markdown",
   "source": "### Function: value\n",
   "metadata": {
    "cell_id": "00061-24530f64-210e-4a4c-85d0-5b29ca3cc874",
    "deepnote_cell_type": "markdown",
    "deepnote_cell_height": 62
   }
  },
  {
   "cell_type": "markdown",
   "source": "#### Auxiliary functions for the method value\n\nThe method *to_tuple* takes a list of the two lists that represent a game state. The function converts the list to a tuple of tuples and returns it.\n\nThe method *to_list* does that procedure vice versa.",
   "metadata": {
    "cell_id": "5affe1dd-24ec-4de4-a0dc-fefbb7c7571b",
    "tags": [],
    "deepnote_cell_type": "markdown",
    "deepnote_cell_height": 147.1666717529297
   }
  },
  {
   "cell_type": "code",
   "metadata": {
    "cell_id": "4f5ed394-fe01-4762-b519-68da15f74a76",
    "deepnote_to_be_reexecuted": false,
    "execution_millis": 28694,
    "execution_start": 1646848907160,
    "source_hash": "9d49b353",
    "tags": [],
    "deepnote_cell_type": "code",
    "deepnote_cell_height": 99
   },
   "source": "def to_tuple(state_list):\n    return tuple(tuple(s) for s in state_list)",
   "execution_count": 14,
   "outputs": []
  },
  {
   "cell_type": "code",
   "metadata": {
    "cell_id": "b2cfc6a0-9b0e-4fa4-9a79-1b1f687faba5",
    "deepnote_to_be_reexecuted": false,
    "execution_millis": 28694,
    "execution_start": 1646848907161,
    "source_hash": "4fd92f07",
    "tags": [],
    "deepnote_cell_type": "code",
    "deepnote_cell_height": 118,
    "deepnote_output_heights": [
     21
    ]
   },
   "source": "to_tuple([[1, 8, 1, 0, 1, 2, 16], [1, 4, 0, 4, 15, 14, 5]])",
   "execution_count": 15,
   "outputs": [
    {
     "output_type": "execute_result",
     "execution_count": 15,
     "data": {
      "text/plain": "((1, 8, 1, 0, 1, 2, 16), (1, 4, 0, 4, 15, 14, 5))"
     },
     "metadata": {}
    }
   ]
  },
  {
   "cell_type": "code",
   "metadata": {
    "cell_id": "b53023c8-a7bc-452c-a3c7-341959abce8e",
    "deepnote_to_be_reexecuted": false,
    "execution_millis": 14,
    "execution_start": 1646848907162,
    "source_hash": "d74c70c7",
    "tags": [],
    "deepnote_cell_type": "code",
    "deepnote_cell_height": 99
   },
   "source": "def to_list(state_tuple):\n    return list(list(s) for s in state_tuple)",
   "execution_count": 16,
   "outputs": []
  },
  {
   "cell_type": "code",
   "metadata": {
    "cell_id": "110d3192-80ca-449a-a32f-62a50d48a8af",
    "deepnote_to_be_reexecuted": false,
    "execution_millis": 28689,
    "execution_start": 1646848907163,
    "source_hash": "197706ac",
    "tags": [],
    "deepnote_cell_type": "code",
    "deepnote_cell_height": 118,
    "deepnote_output_heights": [
     21
    ]
   },
   "source": "to_list([[1, 8, 1, 0, 1, 2, 16], [1, 4, 0, 4, 15, 14, 5]])",
   "execution_count": 17,
   "outputs": [
    {
     "output_type": "execute_result",
     "execution_count": 17,
     "data": {
      "text/plain": "[[1, 8, 1, 0, 1, 2, 16], [1, 4, 0, 4, 15, 14, 5]]"
     },
     "metadata": {}
    }
   ]
  },
  {
   "cell_type": "markdown",
   "source": "#### Function: memoize\n\nThe function *memoize* computes a memoized version of a function f that is given as parameter. At first a dictionary named Cache is created that is used as a memory cache for the function *memoized*. At first *memoized* tries to retrieve the value of the given function f from the dictionary Cache and returns the value. If *memoize* can't retrieve a value the function f is called to compute the result and the result is stored in the Cache.   ",
   "metadata": {
    "cell_id": "622ee191-539d-47f8-90e4-04386b2068f3",
    "tags": [],
    "deepnote_cell_type": "markdown",
    "deepnote_cell_height": 155.5833282470703
   }
  },
  {
   "cell_type": "code",
   "metadata": {
    "cell_id": "6b50ff50-e95e-4a8a-817e-fb11cc3adf18",
    "deepnote_to_be_reexecuted": false,
    "execution_millis": 5,
    "execution_start": 1646848907171,
    "source_hash": "d494e78e",
    "tags": [],
    "deepnote_cell_type": "code",
    "deepnote_cell_height": 333
   },
   "source": "Cache = {}\n\ndef memoize(f):\n    global Cache\n\n    def f_memoized(*args):\n        args = (to_tuple(args[0]),args[1],args[2])\n        if args in Cache:\n            return Cache[args]\n        \n        result = f(to_list(args[0]),args[1],args[2])\n        Cache[args] = result\n        return result\n\n    return f_memoized",
   "execution_count": 18,
   "outputs": []
  },
  {
   "cell_type": "markdown",
   "source": "The function *value* takes a *state* and a *player*. In addition, a *limit* is given to define the recursion depth, which limits the number of next states which are calculated and evaluated. Similar to the function *utility*, the function *value* returns a value from the set {-1, 0, +1}. The base case of the recursive function *value* is the case that the game is finished or if the limit has reached the value 0. In these cases, the *utility* function is called. \n\nIn the other cases, the next states are computed for both players alternately until the limit is reached or the game reaches a finished state. Because the gains of the opponent are the losses of player p, the negative output of *value(n, o)* is taken when calculating the current game value to the opponent.   ",
   "metadata": {
    "cell_id": "baf6a394-321d-4a9d-9abf-bbaac601c519",
    "tags": [],
    "deepnote_cell_type": "markdown",
    "deepnote_cell_height": 200.81666564941406
   }
  },
  {
   "cell_type": "code",
   "metadata": {
    "cell_id": "00062-15963ce2-44f0-41c7-8b49-eeb2bec9a42b",
    "deepnote_to_be_reexecuted": false,
    "execution_millis": 28643,
    "execution_start": 1646848907172,
    "source_hash": "ee017450",
    "deepnote_cell_type": "code",
    "deepnote_cell_height": 189
   },
   "source": "@memoize\ndef value(state, player_num, limit):\n    limit -= 1\n    if finished(state) or limit==0:\n        return utility(state, player_num)\n    other = other_player(player_num)\n    return max([-value(ns, other,limit) for ns,_ in next_states(state, player_num)])",
   "execution_count": 19,
   "outputs": []
  },
  {
   "cell_type": "markdown",
   "source": "<b style=\"background-color:yellow; color:blue\">Comments:</b> \n* This is not good enough without the use of a heuristic.  If `limit == 0`, then instead of\n  returning the `utility`, a value computed by a heuristic should be computed.\n* You should analyze how much the program speeds up because of memoization.\n* Logistische Funktion von Verhältnis - 1.",
   "metadata": {
    "cell_id": "00033-b3e0cfd0-2480-4053-8580-ff9b42b7b2ea",
    "deepnote_cell_type": "markdown",
    "deepnote_cell_height": 180.9499969482422
   }
  },
  {
   "cell_type": "code",
   "metadata": {
    "cell_id": "00063-4491526f-8e84-471f-80c5-4ff4762e4eb5",
    "deepnote_to_be_reexecuted": false,
    "execution_millis": 28650,
    "execution_start": 1646848907172,
    "source_hash": "1234e1ad",
    "deepnote_cell_type": "code",
    "deepnote_cell_height": 112.19999694824219,
    "deepnote_output_heights": [
     611
    ]
   },
   "source": "print(value([[1, 8, 1, 0, 1, 2, 16], [1, 4, 0, 4, 15, 14, 5]], 0, 3))",
   "execution_count": 20,
   "outputs": [
    {
     "name": "stdout",
     "text": "1\n",
     "output_type": "stream"
    }
   ]
  },
  {
   "cell_type": "markdown",
   "source": "# Player Class\n\n#### Attributes:\n- *player_type*\n- *number*\n- *name*\n\n#### Methods:\n\n- *\\_\\_init__(number, name)*\n- *\\_\\_str__()*\n- *_available_house(own_house)*\n- *choose_house(current_state)*\n\nThe class <tt>Player</tt> is the superclass which represents a Kalah game player. In Kalah there are exactly two players which compete against each other. \n\nThe attribute *player_type* is only for subclasses of the <tt>Player</tt> class. It contains a string representation of the name of the <tt>Player</tt> subclass. This makes it possible to print the specific type of a <tt>Player</tt> object. This is for example used for creating log files. \n\nThe attribute *number* of a player has either the value 0 or 1 depending on the order in which the players take their turns.\nIf the number of the player is 0, they start the game by having the first turn.\nAdditionally, *number* represents the index of the state list which contains the player's list of house values.\n\nThe attribute *name* is a string which represents the player's name in the UI or print and logging messages.\n\n### Method: __init__\nThe method *\\_\\_init__(number, name)* initializes the <tt>Player</tt> object and checks if the given *number* is either 0 or 1 and if the given *name* is a string. If one of these criteria is not met, an error message is raised.\n\n### Method: __str__\nThe method *\\_\\_str__()* defines the *name* of the <tt>Player</tt> object as their string representative for print messages.",
   "metadata": {
    "cell_id": "00006-52148c2a-42a1-498f-928f-c3e9602185a0",
    "deepnote_cell_type": "markdown",
    "deepnote_cell_height": 816.566650390625
   }
  },
  {
   "cell_type": "code",
   "metadata": {
    "cell_id": "00007-80dcf176-adc9-4577-a325-075cde6a4c00",
    "deepnote_to_be_reexecuted": false,
    "execution_millis": 1309806447,
    "execution_start": 1646848907173,
    "source_hash": "2c2b0d32",
    "deepnote_cell_type": "code",
    "deepnote_cell_height": 333
   },
   "source": "class Player:\n    \n    def __init__(self, number, name):\n        \n        if number in [0,1]:\n            self.number = number\n        else:\n            raise ValueError(\"Number of player must be 0 or 1!\")\n        if isinstance(name, str):\n            self.name = name\n        else:\n            raise ValueError(\"Name must be a string!\")\n            \n    def __str__(self):\n        return self.name",
   "execution_count": 21,
   "outputs": []
  },
  {
   "cell_type": "markdown",
   "source": "### Method: _available_houses\n\nThe private method *_available_houses(own_houses)* receives a list which represents the player's houses and their store. The method returns a list with the indices of all houses which contain at least one seed (list indices with a value higher than null).",
   "metadata": {
    "cell_id": "00008-a3cdebeb-230d-42ed-8a70-a40d31015d0e",
    "deepnote_cell_type": "markdown",
    "deepnote_cell_height": 145.1666717529297
   }
  },
  {
   "cell_type": "code",
   "metadata": {
    "cell_id": "00009-23dabb0f-72e5-4cae-bb76-f2e804a41eaa",
    "deepnote_to_be_reexecuted": false,
    "execution_millis": 7,
    "execution_start": 1646848907180,
    "source_hash": "bc7b5146",
    "deepnote_cell_type": "code",
    "deepnote_cell_height": 207
   },
   "source": "def _available_houses(self, own_houses):\n    available = []\n    for i in range(len(own_houses)):\n        if own_houses[i] != 0:\n            available.append(i)\n    return available\n\nPlayer._available_houses = _available_houses",
   "execution_count": 22,
   "outputs": []
  },
  {
   "cell_type": "markdown",
   "source": "<b style=\"background-color:yellow; color:blue\">Comments:</b>  \nThe body of the function `_available_houses` can be written in one line:",
   "metadata": {
    "cell_id": "00039-77f99319-7312-44cf-ba31-3737721d80d6",
    "deepnote_cell_type": "markdown",
    "deepnote_cell_height": 74.80000305175781
   }
  },
  {
   "cell_type": "code",
   "metadata": {
    "cell_id": "00040-aeb42e82-c7f3-456a-bf2e-3ebae959350d",
    "deepnote_to_be_reexecuted": false,
    "source_hash": "9ef325f0",
    "execution_start": 1646848907183,
    "deepnote_cell_type": "code",
    "deepnote_cell_height": 135
   },
   "source": "def _available_houses(self, own_houses):\n    return [i for i, n in enumerate(own_houses) if n != 0]\n\nPlayer._available_houses = _available_houses",
   "execution_count": 23,
   "outputs": []
  },
  {
   "cell_type": "markdown",
   "source": "### Method: choose_house\n\nThe method *choose_house(current_state)* receives the current state of the Kalah board and returns the index of the chosen house from the player's house list. This method is used to distinguish the player subclasses and is therefore implemented differently in each of them. There is no basic implementation of this method in the <tt>Player</tt> class. This is why in the class <tt>Kalah_Game</tt> only subclasses of <tt>Player</tt> are accepted as players. Therefore, this class is intended as an abstract class.",
   "metadata": {
    "cell_id": "00010-3a268f04-fb70-4702-8581-12a08e44ceaf",
    "deepnote_cell_type": "markdown",
    "deepnote_cell_height": 190
   }
  },
  {
   "cell_type": "code",
   "metadata": {
    "cell_id": "00011-066523ef-8c3e-47a8-b983-7f60276a6069",
    "deepnote_to_be_reexecuted": false,
    "execution_millis": 1309806420,
    "execution_start": 1646848907184,
    "source_hash": "98896a25",
    "deepnote_cell_type": "code",
    "deepnote_cell_height": 135
   },
   "source": "def choose_house(self, current_state):\n    pass\n\nPlayer.choose_house = choose_house",
   "execution_count": 24,
   "outputs": []
  },
  {
   "cell_type": "markdown",
   "source": "## Tests of Player Class",
   "metadata": {
    "cell_id": "00012-e9b53e25-7ec5-46b0-a0bd-117ddbac81d5",
    "deepnote_cell_type": "markdown",
    "deepnote_cell_height": 70
   }
  },
  {
   "cell_type": "markdown",
   "source": "### 1. Player number must be 0 or 1",
   "metadata": {
    "cell_id": "00013-59078ffb-4032-40f8-a54e-2d3037ac076c",
    "deepnote_cell_type": "markdown",
    "deepnote_cell_height": 62
   }
  },
  {
   "cell_type": "code",
   "metadata": {
    "cell_id": "00014-a4f2741d-ab65-495a-a187-f621c71f3941",
    "deepnote_to_be_reexecuted": false,
    "execution_millis": 1309806419,
    "execution_start": 1646848907204,
    "source_hash": "50141332",
    "deepnote_cell_type": "code",
    "deepnote_cell_height": 166.1999969482422
   },
   "source": "try:\n    Player(2, \"Player1\")\nexcept ValueError as e:\n    print(e)",
   "execution_count": 25,
   "outputs": [
    {
     "name": "stdout",
     "text": "Number of player must be 0 or 1!\n",
     "output_type": "stream"
    }
   ]
  },
  {
   "cell_type": "markdown",
   "source": "### 2. Player name must be a string",
   "metadata": {
    "cell_id": "00015-7fb50cc2-7733-4b64-85c8-ab54cbde9db2",
    "deepnote_cell_type": "markdown",
    "deepnote_cell_height": 62
   }
  },
  {
   "cell_type": "code",
   "metadata": {
    "cell_id": "00016-ebad97c6-77c7-4e9e-85ce-37c10608769b",
    "deepnote_to_be_reexecuted": false,
    "execution_millis": 1309806439,
    "execution_start": 1646848907204,
    "source_hash": "ac300006",
    "deepnote_cell_type": "code",
    "deepnote_cell_height": 166.1999969482422
   },
   "source": "try:\n    Player(0, 3)\nexcept ValueError as e:\n    print(e)",
   "execution_count": 26,
   "outputs": [
    {
     "name": "stdout",
     "text": "Name must be a string!\n",
     "output_type": "stream"
    }
   ]
  },
  {
   "cell_type": "markdown",
   "source": "### 3. Successful Player creation",
   "metadata": {
    "cell_id": "00017-718a37a1-4eb8-489a-baeb-0d7358be3ec1",
    "deepnote_cell_type": "markdown",
    "deepnote_cell_height": 62
   }
  },
  {
   "cell_type": "code",
   "metadata": {
    "cell_id": "00018-98afb551-3360-420d-92b6-bbf1d26334f9",
    "deepnote_to_be_reexecuted": false,
    "execution_millis": 18,
    "execution_start": 1646848907210,
    "source_hash": "cf4eee45",
    "deepnote_cell_type": "code",
    "deepnote_cell_height": 118,
    "deepnote_output_heights": [
     21
    ]
   },
   "source": "Player(0, \"Player1\")",
   "execution_count": 27,
   "outputs": [
    {
     "output_type": "execute_result",
     "execution_count": 27,
     "data": {
      "text/plain": "<__main__.Player at 0x7f5df24abad0>"
     },
     "metadata": {}
    }
   ]
  },
  {
   "cell_type": "markdown",
   "source": "## Human Player Class\n\nThe class <tt>Human</tt> inherits from <tt>Player</tt>.\nIt is used for humans playing against each other or against one of the AIs. \n\n### Method: __init__\nThe method *\\_\\_init__(number, name)* initializes the <tt>Human Player</tt> object and checks if the given *number* is either 0 or 1 and if the given *name* is a string. If one of these criteria is not met, an error message is raised. Additionally the variable player_type is set to identify the Object.\n",
   "metadata": {
    "cell_id": "00019-fe0ccafc-fbc2-427b-a592-68d9d216e326",
    "deepnote_cell_type": "markdown",
    "deepnote_cell_height": 237.56666564941406
   }
  },
  {
   "cell_type": "code",
   "metadata": {
    "cell_id": "00020-35fe8f63-685a-47b7-b765-7fd0b60fb53f",
    "deepnote_to_be_reexecuted": false,
    "execution_millis": 0,
    "execution_start": 1646848907234,
    "source_hash": "bdbb780c",
    "deepnote_cell_type": "code",
    "deepnote_cell_height": 153
   },
   "source": "class Human(Player):\n    \n    def __init__(self, number, name):\n        self.player_type = \"Human\"\n        super().__init__(number, name)",
   "execution_count": 28,
   "outputs": []
  },
  {
   "cell_type": "markdown",
   "source": "### Method: choose_house\nThe method *choose_house(current_state)* for the <tt>Human</tt> class is implemented as follows:\n\nAt first the own houses are extracted from the game state and the available house indices are calculated using the method *_available_houses*. Afterwards the human player is asked to choose one of the available houses via an input field. If the player enters an invalid value, they are asked to input a value again until a valid value is given. The index of the corresponding house is returned.",
   "metadata": {
    "cell_id": "00021-cf566414-d74e-46ca-b9c7-cecf8c568fdc",
    "deepnote_cell_type": "markdown",
    "deepnote_cell_height": 203.98333740234375
   }
  },
  {
   "cell_type": "code",
   "metadata": {
    "cell_id": "00022-df2b72cd-61b8-4dba-82c3-094e61c56fbb",
    "deepnote_to_be_reexecuted": false,
    "execution_millis": 7,
    "execution_start": 1646848907235,
    "source_hash": "659e93f0",
    "deepnote_cell_type": "code",
    "deepnote_cell_height": 405
   },
   "source": "def choose_house(self, current_state):\n    own_t,store = current_state[self.number][:6],current_state[self.number][6]\n    available = self._available_houses(own_t)\n\n    i_string = \"Choose one of the available houses:\\n\"\n    for i in available:\n        i_string += f\"{gOrder[self.number][i]}, \"\n\n    choice_str = \"\"\n    letter_numbers = {gOrder[1][i]:i for i in range(6)}\n    \n    while choice_str not in [k for k in letter_numbers if letter_numbers[k] in available]:\n        choice_str = input(i_string[:-2]+\"\\n\").lower()\n\n    choice = letter_numbers[choice_str]\n    IPython.display.clear_output()\n    return choice\n    \nHuman.choose_house = choose_house",
   "execution_count": 29,
   "outputs": []
  },
  {
   "cell_type": "markdown",
   "source": "### Test of Human Player Class",
   "metadata": {
    "cell_id": "00023-5061fc16-8fdb-4bf4-b6f8-2ec3dd7b80ad",
    "deepnote_cell_type": "markdown",
    "deepnote_cell_height": 62
   }
  },
  {
   "cell_type": "code",
   "metadata": {
    "cell_id": "00024-f6a38e74-2264-4792-b5d7-a09d19c5fa8a",
    "deepnote_to_be_reexecuted": false,
    "execution_millis": 9,
    "execution_start": 1646848907242,
    "source_hash": "c543ce6e",
    "deepnote_cell_type": "code",
    "deepnote_cell_height": 81
   },
   "source": "human = Human(1,\"Hans\")",
   "execution_count": 30,
   "outputs": []
  },
  {
   "cell_type": "code",
   "metadata": {
    "cell_id": "00025-f333aab2-3fb7-4eba-b9d1-e9776db8e693",
    "deepnote_to_be_reexecuted": false,
    "execution_millis": 0,
    "execution_start": 1646848907251,
    "source_hash": "5ed9cd1b",
    "deepnote_cell_type": "code",
    "deepnote_cell_height": 81
   },
   "source": "#human.choose_house([[6,6,6,6,6,6,0], [6,0,6,6,4,6,0]])",
   "execution_count": 31,
   "outputs": []
  },
  {
   "cell_type": "markdown",
   "source": "## Repeated Player Class\n\nThe class <tt>Repeated_Player</tt> inherits from <tt>Player</tt>.\nIt is used for repeating the behavior of a player from a previous game on basis of a given log file.\n\n### Method: __init__\nThe method *\\_\\_init__(number, name, logged_moves)* initializes the <tt>Repeated Player</tt> object and checks if the given *number* is either 0 or 1 and if the given *name* is a string. If one of these criteria is not met, an error message is raised. Additionally the variable player_type is set to identify the Object.\n\nFurthermore the functions recieves a list of moves **logged_moves**, which is used to later on replay the game at a different time.",
   "metadata": {
    "cell_id": "00026-8fa58f2a-aa20-41e4-9ca7-fcaed44f3d8f",
    "deepnote_cell_type": "markdown",
    "deepnote_cell_height": 318.7833251953125
   }
  },
  {
   "cell_type": "code",
   "metadata": {
    "cell_id": "00027-bdb85e54-31ec-41fe-bdf7-6f6ada13274e",
    "deepnote_to_be_reexecuted": false,
    "execution_millis": 0,
    "execution_start": 1646848907258,
    "source_hash": "aa9ca2b9",
    "deepnote_cell_type": "code",
    "deepnote_cell_height": 171
   },
   "source": "class Repeated_Player(Player):\n    \n    def __init__(self, number, name, logged_moves):\n        self.player_type = \"Repeated_Player\"\n        self.moves_to_repeat = logged_moves\n        super().__init__(number, name)",
   "execution_count": 32,
   "outputs": []
  },
  {
   "cell_type": "markdown",
   "source": "### Method: choose_house\nThe method *choose_house(current_state)* for the <tt>Repeated_Player</tt> class is implemented as follows:\n\nThe list *moves_to_repeat* is handled as a stack in this method. This means that one after one, the moves which stand at the beginning of the list are extracted and removed from the list. In the beginning of the method this process is repeated until the current state of the game matches the state of the last removed move from the *moves_to_repeat* list. This means, that the move which the player will do next is should now be at the beginning of the list.\n\nIn the next step, this move is also extracted from the list, but not removed as it could contain the current state for the next move of the player if they gain another turn. To make sure, that this move was actually done by this player in the logged game, the logged move player number is compared to the actual player number. If the numbers match, the choice from that move is returned.",
   "metadata": {
    "cell_id": "00028-8bfa8e52-2d15-4f8f-8266-322277a23ff6",
    "deepnote_cell_type": "markdown",
    "deepnote_cell_height": 307.6166687011719
   }
  },
  {
   "cell_type": "code",
   "metadata": {
    "cell_id": "00029-f79f2556-68e8-4963-a4d1-437eac70091c",
    "deepnote_to_be_reexecuted": false,
    "execution_millis": 1,
    "execution_start": 1646848907261,
    "source_hash": "1f15bf5",
    "deepnote_cell_type": "code",
    "deepnote_cell_height": 369
   },
   "source": "def choose_house(self, current_state):\n    \n    state = self.moves_to_repeat.pop(0)[2]\n    while state != current_state:\n        if len(self.moves_to_repeat) == 0:\n            raise ValueError(\"There is no move left to repeat!\")\n        state = self.moves_to_repeat.pop(0)[2]\n        \n    this_move = self.moves_to_repeat[0]\n    if this_move[0] not in (-1,self.number):\n        raise ValueError(\"This move was originally not played by this player!\")\n        \n    choice = this_move[1]\n        \n    return choice\n\nRepeated_Player.choose_house = choose_house",
   "execution_count": 33,
   "outputs": []
  },
  {
   "cell_type": "markdown",
   "source": "## Random_AI Player Class\n\nThe class <tt>Random_AI</tt> inherits from <tt>Player</tt>. It is a simple AI player implementation which chooses the houses at random.\n\n### Method: __init__\nThe method *\\_\\_init__(number, name,seed)* initializes the <tt>Random_AI Player</tt> object and checks if the given *number* is either 0 or 1 and if the given *name* is a string. If one of these criteria is not met, an error message is raised. Additionally the variable player_type is set to identify the Object.\n\nFurthermore this function recieves an Integer **seed** which is used to set the seed for the random number calculations provided by the **random** library.",
   "metadata": {
    "cell_id": "00030-badbced2-0020-47dd-99e3-5687174e7e0b",
    "deepnote_cell_type": "markdown",
    "deepnote_cell_height": 296.3833312988281
   }
  },
  {
   "cell_type": "code",
   "metadata": {
    "cell_id": "00031-7d3c5b0b-269f-4204-af8b-1c6eabdbb3db",
    "deepnote_to_be_reexecuted": false,
    "execution_millis": 1,
    "execution_start": 1646848907267,
    "source_hash": "96c059a4",
    "deepnote_cell_type": "code",
    "deepnote_cell_height": 225
   },
   "source": "import random as rn\n\nclass Random_AI(Player):\n    \n    def __init__(self, number, name, seed):\n        self.player_type = \"Random_AI\"\n        self.seed = seed\n        rn.seed(seed)\n        super().__init__(number, name)",
   "execution_count": 34,
   "outputs": []
  },
  {
   "cell_type": "markdown",
   "source": "### Method: choose_house\nThe method *choose_house(current_state)* for the <tt>Random_AI</tt> class is implemented as follows:\n\nAt first the own <s>house</s> are extracted from the game state and the available house indizes are calculated using the method *_available_houses*. From the list of available house indizes, one is chosen at random using the function **choice** from the library **random**. Afterwards, this value is returned.",
   "metadata": {
    "cell_id": "00032-ff768f24-2df3-455c-8f0b-8011fdc47066",
    "deepnote_cell_type": "markdown",
    "deepnote_cell_height": 181.5833282470703
   }
  },
  {
   "cell_type": "code",
   "metadata": {
    "cell_id": "00033-ff262724-0eed-43ef-a372-5d1361e7a7ec",
    "deepnote_to_be_reexecuted": false,
    "execution_millis": 0,
    "execution_start": 1646848907274,
    "source_hash": "c96d833a",
    "deepnote_cell_type": "code",
    "deepnote_cell_height": 207
   },
   "source": "def choose_house(self, current_state):\n    own_t,safe = current_state[self.number][:6],current_state[self.number][6]\n    available = self._available_houses(own_t)\n    choice = rn.choice(available)\n\n    return choice\n\nRandom_AI.choose_house = choose_house",
   "execution_count": 35,
   "outputs": []
  },
  {
   "cell_type": "markdown",
   "source": "### Test of Random_AI Player Class",
   "metadata": {
    "cell_id": "00034-76564f5a-9753-4b32-baac-88528e478ba9",
    "deepnote_cell_type": "markdown",
    "deepnote_cell_height": 62
   }
  },
  {
   "cell_type": "code",
   "metadata": {
    "cell_id": "00035-1d9f6cc3-0b1d-456e-8e40-3786ebe9cca3",
    "deepnote_to_be_reexecuted": false,
    "execution_millis": 0,
    "execution_start": 1646848907276,
    "source_hash": "68533d11",
    "deepnote_cell_type": "code",
    "deepnote_cell_height": 81
   },
   "source": "ai = Random_AI(0,\"Rando\", 1)",
   "execution_count": 36,
   "outputs": []
  },
  {
   "cell_type": "code",
   "metadata": {
    "cell_id": "00036-0bb86c25-ba78-4abe-a223-26821ce359e2",
    "deepnote_to_be_reexecuted": false,
    "execution_millis": 2,
    "execution_start": 1646848907278,
    "source_hash": "ceb5a2ab",
    "deepnote_cell_type": "code",
    "deepnote_cell_height": 118,
    "deepnote_output_heights": [
     21
    ]
   },
   "source": "ai.choose_house([[6,6,6,6,6,6,0], [6,6,6,6,6,6,0]])",
   "execution_count": 37,
   "outputs": [
    {
     "output_type": "execute_result",
     "execution_count": 37,
     "data": {
      "text/plain": "1"
     },
     "metadata": {}
    }
   ]
  },
  {
   "cell_type": "markdown",
   "source": "# Minimax Player Class",
   "metadata": {
    "cell_id": "fcf04a8a-a818-42d4-8ea0-c2f3a7455a4a",
    "tags": [],
    "deepnote_cell_type": "markdown",
    "deepnote_cell_height": 82
   }
  },
  {
   "cell_type": "markdown",
   "source": "The class <tt>Minimax</tt> inherits from <tt>Player</tt>. It is an AI player implementation which chooses a following state by calculating all possible next states for a defined limit depth. It then chooses the option which guarantees them a higher number of seeds in their store than their opponent. If there are several options, the choice which results in the highest number of seeds in the player's store is chosen.\n\nThe class <tt>Minimax</tt> has a modified *\\_\\_init__* function which takes the additional argument *limit* which is only relevant to the method *choose_house*. There the value of *limit* defines, for how many recursion steps the function *value* should be called. This means that *limit* defines how many next game states should be calculated to form the decision of the <tt>Minimax</tt> AI.\n\nThe *limit* should be chosen carefully, as higher limits increase the recursion depth linearly and the computing time exponentially. Additionally, *limit* has to be greater than 1 at all times. \n\nIdeally *limit* should be a number from 2 - 4 (incl.).",
   "metadata": {
    "cell_id": "00064-7ac561aa-0b28-45c9-b109-ddf0492d7828",
    "deepnote_cell_type": "markdown",
    "deepnote_cell_height": 296.01666259765625
   }
  },
  {
   "cell_type": "code",
   "metadata": {
    "cell_id": "e9dae061-9232-42f6-82bf-c6a0a2a2ab9a",
    "deepnote_to_be_reexecuted": false,
    "execution_millis": 4,
    "execution_start": 1646848907293,
    "source_hash": "92157be8",
    "tags": [],
    "deepnote_cell_type": "code",
    "deepnote_cell_height": 171
   },
   "source": "class Minimax(Player):\n    \n    def __init__(self, number, name, limit):\n        self.player_type = \"Minimax\"\n        self.limit = limit\n        super().__init__(number, name)",
   "execution_count": 38,
   "outputs": []
  },
  {
   "cell_type": "markdown",
   "source": "### Method: choose_house\nThe method *choose_house(self,current_state)* is the core method of the <tt>Minimax</tt> algorithm. It calculates the best choices for a <tt>Minimax</tt> player, using the previously defined functions *value(state, player_num, limit)* and *next_states(state, player_num)*.\n\nFirst, the best possible value from {-1, 0, 1} (meaning loss, draw or win) that can be reached with the current state of the game is calculated. Following that, all next possible states are checked and only those are elected as eligible, which reach the previously calculated best possible value.\n\nAfterwards, the best choice is being made by comparing all eligible choices for the highest player's Kalah store value.",
   "metadata": {
    "cell_id": "ea046153-9726-436b-b20a-bf47a21188b9",
    "tags": [],
    "deepnote_cell_type": "markdown",
    "deepnote_cell_height": 262.79998779296875
   }
  },
  {
   "cell_type": "code",
   "metadata": {
    "cell_id": "6537ac49-bc9e-4f28-94d1-179fc448c345",
    "deepnote_to_be_reexecuted": false,
    "execution_millis": 1307888464,
    "execution_start": 1646848907300,
    "source_hash": "dcf6b3bb",
    "tags": [],
    "deepnote_cell_type": "code",
    "deepnote_cell_height": 423
   },
   "source": "def choose_house(self, current_state):\n    \n    NS = next_states(current_state, self.number)\n    bestVal = value(current_state, self.number,self.limit)\n    \n    BestChoices = [(choices[0],state[self.number][6]) for state,choices in NS if -value(state, other_player(self.number),self.limit-1) == bestVal]\n    \n    if len(BestChoices) == 0:\n        raise ValueError(f'No choice for Minimax found! \\nbestVal: {bestVal}\\nBestChoices: {BestChoices}\\nnext_states: {NS}')\n\n    # Find best choice, where number of seeds in own Store is maximized (out of next_states)\n    best_choice, best_store = BestChoices[0]\n    for choice, store in BestChoices:\n        if store > best_store:\n            best_choice = choice\n            best_store = store\n\n    return best_choice\n\nMinimax.choose_house = choose_house",
   "execution_count": 39,
   "outputs": []
  },
  {
   "cell_type": "markdown",
   "source": "<b style=\"background-color:yellow; color:blue\">Comments:</b>\nYou should randomly choose one of the optimal moves.",
   "metadata": {
    "cell_id": "00073-2108fffc-b81b-4ef8-a530-d51bd5dccd66",
    "deepnote_cell_type": "markdown",
    "deepnote_cell_height": 54.94999694824219
   }
  },
  {
   "cell_type": "code",
   "metadata": {
    "cell_id": "29af7bce-0085-41a1-91c3-16d766b0fe67",
    "deepnote_to_be_reexecuted": false,
    "execution_millis": 1307954372,
    "execution_start": 1646848907306,
    "source_hash": "7b4a604f",
    "tags": [],
    "deepnote_cell_type": "code",
    "deepnote_cell_height": 118,
    "deepnote_output_heights": [
     21,
     21
    ]
   },
   "source": "Minimax(1,\"Mini\",3).choose_house([[7, 7, 6, 6, 6, 6, 0], [0, 0, 8, 8, 8, 8, 2]])",
   "execution_count": 40,
   "outputs": [
    {
     "output_type": "execute_result",
     "execution_count": 40,
     "data": {
      "text/plain": "5"
     },
     "metadata": {}
    }
   ]
  },
  {
   "cell_type": "markdown",
   "source": "# Kalah_Game Class\n\n<b style=\"background-color:yellow; color:blue\">Comments:</b>\nKalah is usually played with only 4 seeds in every house.  There should be a parameter to control this number.\n\n#### Attributes:\n- *state*\n- *players*\n- *current_player*\n- *display_mode*\n- *logged_moves*\n\n#### Methods:\n\n- *\\_\\_init__(players)*\n- *_show_state(state)*\n- *show_state()*\n- *draw_board()*\n- *_draw_seeds()*\n- *_draw_numbers()*\n- *start()*\n- *log_to_file(file_id)*\n\nThe class <tt>Kalah_Game</tt> is the core of the Kalah game implementation. It contains all information on the game, including the current game state.\n\nThe attribute *state* represents the state of the Kalah board which is defined by the number of seeds laying in each of the player's house and their stores. It is implemented by a nested list which contains a list for the house on each of the two players' sides. The last index of each of the lists is the store of that player. At the start of the game, where the stores are empty and there are six seeds in every house, the implemented representation of the state for example is: [[6,6,6,6,6,6,0], [6,6,6,6,6,6,0]].\n\nThe attribute *players* is a list of the two players that play the game. They must be instances of a subclass of the <tt>Player</tt> class. The order in which they take turns is determined by their <tt>Player</tt> *number*: The player with the number 0 goes first.\n\nThe attribute *current_player* has either the value 0 or 1. It takes track of which player's turn it currently is. If *current_player* has the value 0 for example, it is the turn of the player which stands at index 0 of the *players* list and therefore also has the <tt>Player</tt>'s class attribute *number* of value 0.\n\nThe attribute *display_mode* defines which way the game is displayed in the output console. The possible values are 0, 1 and 2 and are defined as follows:\n- 0: No output is displayed. The game is only logged to the log file\n- 1: The board is only displayed using the print method *_show_state*\n- 2: The board is displayed with the function *draw_board* using **ipycanvas** for rendering\n\nThe attribute *logged_moves* is a list containing a tuple for every move that is made in the game. This list is necessary for the method *log_to_file*. Each tuple has the player number of the player that have made the move at the first index, the index of the chosen house at the second index and the resulting game state as the third index. The start state is saved as the first move in the list, having -1 as the player number and -1 as the chosen house number. As Python uses references, the states are saved in this list by creating deep copies with the library **copy**. At the beginning of the game *logged_moves* looks like this:\n\n\\[(-1, -1, [[6,6,6,6,6,6,0], [6,6,6,6,6,6,0]])\\]\n\n### Method: __init__\nThe method *\\_\\_init__(players)* initializes the game by setting the *state* to the initial state (seen above), initializing a board object and setting the *players* list using the received \"players\" argument. Before setting the *players* list, the received list is checked for the number of items it contains (must be exactly 2) and if the items in the list are both instances of a <tt>Player</tt> subclass (but not of the class <tt>Player</tt> itself). In error case, matching error messages are raised.",
   "metadata": {
    "cell_id": "00037-0314b2eb-7c77-45db-9ccf-4aeec075b2a6",
    "deepnote_cell_type": "markdown",
    "deepnote_cell_height": 1357.9000244140625
   }
  },
  {
   "cell_type": "code",
   "metadata": {
    "cell_id": "00038-4fae6689-c6ee-4e40-9064-ed5a491a8ad2",
    "deepnote_to_be_reexecuted": false,
    "execution_millis": 6,
    "execution_start": 1646848907308,
    "source_hash": "9012328a",
    "deepnote_cell_type": "code",
    "deepnote_cell_height": 459
   },
   "source": "class Kalah_Game():\n    \n    def __init__(self, players, display_mode):\n        self.state = [[4,4,4,4,4,4,0], [4,4,4,4,4,4,0]]\n        self.turn = 0\n        \n        if len(players) != 2:\n            raise ValueError(\"There must be exactly two players!\")\n        if not ((isinstance(players[0], Player) and type(players[0]) != Player) \n            and (isinstance(players[1], Player) and type(players[1]) != Player)):\n            raise ValueError(\"Both players must be of instances of a subclass of the class Player!\")\n        if {players[0].number, players[1].number} != {0,1}:\n            raise ValueError(\"One of the players must be self.number 0 and the other one self.number 1!\")\n        \n        self.players = players\n        self.current_player = 0\n        \n        if display_mode not in range(3):\n            raise ValueError(\"The display mode must be 0, 1 or 2!\")\n        self.display_mode = display_mode\n        \n        self.logged_moves = [(-1,-1,copy.deepcopy(self.state))]",
   "execution_count": 41,
   "outputs": []
  },
  {
   "cell_type": "markdown",
   "source": "### Methods: _show_state and show_state\nThe private method *_show_state(state)* creates a formatted string which represents the received state and prints it to the console. It can be used as an alternative to the **ipycanvas** game UI.\n\nThe method *show_state()* calls the private method *_show_state(state)* with the current game state (attribute *state*).",
   "metadata": {
    "cell_id": "00041-35501014-dbb5-460e-8102-6d487e6ef662",
    "deepnote_cell_type": "markdown",
    "deepnote_cell_height": 159.1666717529297
   }
  },
  {
   "cell_type": "code",
   "metadata": {
    "cell_id": "00042-c88d57a9-5d31-455c-bb5a-284e6dec53ab",
    "deepnote_to_be_reexecuted": false,
    "execution_millis": 1309806388,
    "execution_start": 1646848907317,
    "source_hash": "ab4973bc",
    "deepnote_cell_type": "code",
    "deepnote_cell_height": 351
   },
   "source": "def _show_state(self, state):\n    s = f''\n\n    s += f'{self.players[0].name}:\\t\\t\\t'\n    for j in range(6,-1,-1):\n        s += f'{gOrder[0][j]}: {state[0][j]}  '\n    s += f'\\n'\n\n    s += f'{self.players[1].name}:\\t\\t\\t'\n    for j in range(7):\n        s += f'{gOrder[1][j]}: {state[1][j]}  '\n    s += f'\\n'\n\n    print(s)\n\nKalah_Game._show_state = _show_state",
   "execution_count": 42,
   "outputs": []
  },
  {
   "cell_type": "code",
   "metadata": {
    "cell_id": "00043-34db1702-e2d8-4abf-8943-ff1e975ec834",
    "deepnote_to_be_reexecuted": false,
    "execution_millis": 1309806400,
    "execution_start": 1646848907329,
    "source_hash": "f307656f",
    "deepnote_cell_type": "code",
    "deepnote_cell_height": 135
   },
   "source": "def show_state(self):\n    self._show_state(self.state)\n    \nKalah_Game.show_state = show_state",
   "execution_count": 43,
   "outputs": []
  },
  {
   "cell_type": "markdown",
   "source": "### Method: draw_board\nThe method *draw_board()* sets the required positional values for the methods *_draw_seeds()* and *_draw_numbers()*.\n\nIt also translates the current state of the game to a dictionary so that the positional values can be related to the corresponding seed amount in the respective houses.\n\nAdditionally this function creates a MultiCanvas for the display of the board. The first layer is the background and the second layer is the foreground.\n\nAfterwards this function calls the functions *_draw_seeds()* and *_draw_numbers()*.\n\nFinally the finished canvas gets displayed.",
   "metadata": {
    "cell_id": "00044-c89dc264-f1a7-494f-b15d-63dedf499d8b",
    "deepnote_cell_type": "markdown",
    "deepnote_cell_height": 290.7833251953125
   }
  },
  {
   "cell_type": "code",
   "metadata": {
    "cell_id": "00045-9ae47a98-0ea8-4a40-9608-5181c6065d82",
    "deepnote_to_be_reexecuted": false,
    "execution_millis": 2,
    "execution_start": 1646848907354,
    "source_hash": "25887e31",
    "deepnote_cell_type": "code",
    "deepnote_cell_height": 549
   },
   "source": "def draw_board(self):\n    TOP_ROW_POSITION = (175,130)\n    HOUSE_OFFSETS = (90,145)\n    HOUSE_MAP={\n        'F':TOP_ROW_POSITION,\n        'E':(TOP_ROW_POSITION[0]+HOUSE_OFFSETS[0],TOP_ROW_POSITION[1]),\n        'D':(TOP_ROW_POSITION[0]+HOUSE_OFFSETS[0]*2,TOP_ROW_POSITION[1]),\n        'C':(TOP_ROW_POSITION[0]+HOUSE_OFFSETS[0]*3,TOP_ROW_POSITION[1]),\n        'B':(TOP_ROW_POSITION[0]+HOUSE_OFFSETS[0]*4,TOP_ROW_POSITION[1]),\n        'A':(TOP_ROW_POSITION[0]+HOUSE_OFFSETS[0]*5,TOP_ROW_POSITION[1]),\n        'a':(TOP_ROW_POSITION[0],TOP_ROW_POSITION[1]+HOUSE_OFFSETS[1]),\n        'b':(TOP_ROW_POSITION[0]+HOUSE_OFFSETS[0],TOP_ROW_POSITION[1]+HOUSE_OFFSETS[1]),\n        'c':(TOP_ROW_POSITION[0]+HOUSE_OFFSETS[0]*2,TOP_ROW_POSITION[1]+HOUSE_OFFSETS[1]),\n        'd':(TOP_ROW_POSITION[0]+HOUSE_OFFSETS[0]*3,TOP_ROW_POSITION[1]+HOUSE_OFFSETS[1]),\n        'e':(TOP_ROW_POSITION[0]+HOUSE_OFFSETS[0]*4,TOP_ROW_POSITION[1]+HOUSE_OFFSETS[1]),\n        'f':(TOP_ROW_POSITION[0]+HOUSE_OFFSETS[0]*5,TOP_ROW_POSITION[1]+HOUSE_OFFSETS[1]),\n    }\n    \n    canvas = MultiCanvas(2,width=800, height=400)\n    canvas[0].draw_image(Image.from_file('images/Board.png'),0,0)\n    \n    with hold_canvas(canvas):\n        self._draw_seeds(canvas[1],HOUSE_MAP)\n        self._draw_numbers(canvas[1],HOUSE_MAP)\n    display(canvas)\n\nKalah_Game.draw_board = draw_board",
   "execution_count": 44,
   "outputs": []
  },
  {
   "cell_type": "markdown",
   "source": "### Method: _draw_seeds\nThe method *_draw_seeds()* reads the game of the state and accordingly draws seeds on the respective houses. Each seed gets drawn in a random position inside the house with an additional random rotation.\n\nTo place the seeds accurately we must consider the width and height of the image of one seed. To do so we subtract the width and height from the final position chosen.",
   "metadata": {
    "cell_id": "00046-2ba1945a-5935-475c-869b-2b5dc99bd9ad",
    "deepnote_cell_type": "markdown",
    "deepnote_cell_height": 181.5833282470703
   }
  },
  {
   "cell_type": "code",
   "metadata": {
    "cell_id": "00047-ef6d8645-ca23-413f-bc0b-4a04af788701",
    "deepnote_to_be_reexecuted": false,
    "execution_millis": 2,
    "execution_start": 1646848907363,
    "source_hash": "97b41d16",
    "deepnote_cell_type": "code",
    "deepnote_cell_height": 657
   },
   "source": "def _draw_seeds(self,canvas,housemap):\n    HOUSE_RAD = 23\n    HOUSE_OFFSETS = (90,125)\n    seedsprites = [Image.from_file(f'images/Samen{i}.png') for i in range(1,6)]\n    seed_width = 15\n    seed_height = 15\n    \n    gamestate = self._state_to_dict()\n    for house in gamestate:\n        for seed in range(gamestate[house]):\n            seed_sprite = seedsprites[random.randrange(5)]\n            \n            if house == 'O':\n                centerX, centerY = (housemap['F'][0]-HOUSE_OFFSETS[0],random.randrange(housemap['F'][1],housemap['F'][1]+HOUSE_OFFSETS[1]))\n            elif house == 'o':\n                centerX, centerY = (housemap['F'][0]+HOUSE_OFFSETS[0]*6,random.randrange(housemap['F'][1],housemap['F'][1]+HOUSE_OFFSETS[1]))\n            else:\n                centerX, centerY = housemap[house]\n\n            r = HOUSE_RAD * math.sqrt(random.random())\n            theta = random.random() * 2 * math.pi\n            x = centerX + r * math.cos(theta)\n            y = centerY + r * math.sin(theta)\n            canvas.save()\n\n            #Rotate by random amount for variation\n            canvas.translate(x, y)\n            canvas.rotate(random.uniform(0.,math.pi))\n            canvas.translate(-x, -y)\n            canvas.draw_image(seed_sprite, x-seed_width, y-seed_height)\n            canvas.restore()\n\nKalah_Game._draw_seeds = _draw_seeds",
   "execution_count": 45,
   "outputs": []
  },
  {
   "cell_type": "markdown",
   "source": "### Method: _draw_numbers\nThe method *_draw_numbers()* reads the game of the state and accordingly draws numbers that represent the amount of seeds on the respective houses. \n\n",
   "metadata": {
    "cell_id": "00048-9f6c842a-555f-425f-a71b-7e6d44a998c5",
    "deepnote_cell_type": "markdown",
    "deepnote_cell_height": 122.76666259765625
   }
  },
  {
   "cell_type": "code",
   "metadata": {
    "cell_id": "00049-54fa7903-fdfb-4a45-970f-1a34a8e8044e",
    "deepnote_to_be_reexecuted": false,
    "execution_millis": 6,
    "execution_start": 1646848907372,
    "source_hash": "5a5a88b2",
    "deepnote_cell_type": "code",
    "deepnote_cell_height": 693
   },
   "source": "def _draw_numbers(self,canvas,housemap):\n    NUMBER_OFFSET_Y_BOT = 50\n    NUMBER_OFFSET_Y_TOP = 60\n    HOUSE_OFFSETS = (90,145)\n    housenumbermap = {\n        'F': (housemap['F'][0],housemap['F'][1]+NUMBER_OFFSET_Y_TOP),\n        'E': (housemap['E'][0],housemap['E'][1]+NUMBER_OFFSET_Y_TOP),\n        'D': (housemap['D'][0],housemap['D'][1]+NUMBER_OFFSET_Y_TOP),\n        'C': (housemap['C'][0],housemap['C'][1]+NUMBER_OFFSET_Y_TOP),\n        'B': (housemap['B'][0],housemap['B'][1]+NUMBER_OFFSET_Y_TOP),\n        'A': (housemap['A'][0],housemap['A'][1]+NUMBER_OFFSET_Y_TOP),\n        'a': (housemap['a'][0],housemap['a'][1]-NUMBER_OFFSET_Y_BOT),\n        'b': (housemap['b'][0],housemap['b'][1]-NUMBER_OFFSET_Y_BOT),\n        'c': (housemap['c'][0],housemap['c'][1]-NUMBER_OFFSET_Y_BOT),\n        'd': (housemap['d'][0],housemap['d'][1]-NUMBER_OFFSET_Y_BOT),\n        'e': (housemap['e'][0],housemap['e'][1]-NUMBER_OFFSET_Y_BOT),\n        'f': (housemap['f'][0],housemap['f'][1]-NUMBER_OFFSET_Y_BOT),\n        'O': (housemap['F'][0]-HOUSE_OFFSETS[0],housemap['F'][1]+HOUSE_OFFSETS[1]+HOUSE_OFFSETS[1]/5),\n        'o': (housemap['F'][0]+HOUSE_OFFSETS[0]*6,housemap['F'][1]+HOUSE_OFFSETS[1]+HOUSE_OFFSETS[1]/5),\n        \n    }\n    TURN_POS = (housemap['A'][0]+HOUSE_OFFSETS[0],62)\n\n    gamestate = self._state_to_dict()\n    canvas.font = '26px serif'\n    canvas.text_align    = 'center'\n\n    for key in housenumbermap:\n        canvas.fill_text(gamestate[key],housenumbermap[key][0],housenumbermap[key][1])\n\n    canvas.font = '22px serif'\n    canvas.fill_text('Turn '+str(self.turn),TURN_POS[0],TURN_POS[1])\n    \n        \nKalah_Game._draw_numbers = _draw_numbers",
   "execution_count": 46,
   "outputs": []
  },
  {
   "cell_type": "markdown",
   "source": "### Method: _state_to_dict\nThe private method *_state_to_dict()* transforms a gamestate into a dictionary. This method is mainly used for drawing the current state of the game. Therefore, to properly put the number of seeds and their houses in relation, the state of the game is translated into a dictionary.",
   "metadata": {
    "cell_id": "00054-487852a7-6d6b-4f11-abd5-859cb9775802",
    "deepnote_cell_type": "markdown",
    "deepnote_cell_height": 145.1666717529297
   }
  },
  {
   "cell_type": "code",
   "metadata": {
    "cell_id": "00055-0ee0aec4-bef1-4040-9a1f-413223524a64",
    "deepnote_to_be_reexecuted": false,
    "execution_millis": 0,
    "execution_start": 1646848907383,
    "source_hash": "22fba113",
    "deepnote_cell_type": "code",
    "deepnote_cell_height": 189
   },
   "source": "def _state_to_dict(self):\n        d = {}\n        for i in [0,1]:\n            for j in range(7):\n                d[gOrder[i][j]] = self.state[i][j]\n        return d\nKalah_Game._state_to_dict = _state_to_dict",
   "execution_count": 47,
   "outputs": []
  },
  {
   "cell_type": "markdown",
   "source": "### Method: start\nThe method *start()* starts the Kalah game. Until the game is finished (the method *_finished()* returns True), both players take turns, starting with the player with the number 0. At the start of each turn, the current game state is shown. Next, the current player chooses one of the house with the <tt>Player</tt> method *choose_house(current_state)*. Afterwards, this choice is handed to the private method *_move(player_num, choice)* which calculates the new game state. The attribute *state* is updated with this new game state. Then it is the turn of the other player. If the game is finished, the method *utility()* calculates which of the players wins the game and the result is printed to the console.",
   "metadata": {
    "cell_id": "00067-a046662e-2b5d-40aa-9ecc-2cd9ae3295a3",
    "deepnote_cell_type": "markdown",
    "deepnote_cell_height": 212.39999389648438
   }
  },
  {
   "cell_type": "code",
   "metadata": {
    "cell_id": "00068-9f5d4592-df2b-4f19-9cba-424c286f88cc",
    "deepnote_to_be_reexecuted": false,
    "execution_millis": 1,
    "execution_start": 1646848907397,
    "source_hash": "ff7b49b8",
    "deepnote_cell_type": "code",
    "deepnote_cell_height": 909
   },
   "source": "def start(self):\n    while(not finished(self.state)):\n        self.turn += 1\n        if self.display_mode == 1:\n            print(\"\\nCurrent state:\")\n            self.show_state()\n            print(f\"Next is {self.players[self.current_player].name}'s turn.\")\n        elif self.display_mode == 2:\n            print(\"Current state:\")\n            self.draw_board()\n            print(f\"Next is {self.players[self.current_player].name}'s turn.\")\n            time.sleep(0.05)\n        \n        choice = self.players[self.current_player].choose_house(self.state)\n        \n        if self.display_mode != 0:\n            print(f\"{self.players[self.current_player].name} chose {gOrder[self.current_player][choice]}\")\n\n        self.state, another_turn = move(self.state, self.current_player, choice)\n        # create move log\n        move_log = tuple([self.current_player, choice, copy.deepcopy(self.state)])\n        self.logged_moves.append(move_log)\n        \n        if not another_turn:\n            self.current_player = other_player(self.current_player)\n        elif another_turn and self.display_mode != 0:\n            print(f\"{self.players[self.current_player].name} gets another turn!\")\n\n    won0 = utility(self.state,0)\n    \n    if self.display_mode != 0:\n        if self.display_mode == 1:\n            print(\"\")\n            self.show_state()\n        elif self.display_mode == 2:\n            self.draw_board()\n            \n        print(\"Finished Game!\")  \n        \n        if(won0 == 1):\n            print(f\"{self.players[0]} wins!\")\n        elif(won0 == -1):\n            print(f\"{self.players[1]} wins!\")\n        else:\n            print(f\"Draw!\")\n    \nKalah_Game.start = start",
   "execution_count": 48,
   "outputs": []
  },
  {
   "cell_type": "markdown",
   "source": "### Method: log_to_file\nThe method *log_to_file* creates a json file from all important game information, including the player subclass types and names as well as the different moves from the game and the winner(s). With the use of this method, played games can be saved and analyzed. The created log file is saved to the folder \"logs\" with the given file_id in the file name.",
   "metadata": {
    "cell_id": "00069-1237d702-93c1-4648-9bcc-ac8e7d9141c3",
    "deepnote_cell_type": "markdown",
    "deepnote_cell_height": 145.1666717529297
   }
  },
  {
   "cell_type": "code",
   "metadata": {
    "cell_id": "00070-dee533da-517b-471a-aeea-40f39bd1c383",
    "deepnote_to_be_reexecuted": false,
    "execution_millis": 2,
    "execution_start": 1646848907407,
    "source_hash": "803f051d",
    "deepnote_cell_type": "code",
    "deepnote_cell_height": 513
   },
   "source": "import json\n\ndef log_to_file(self, file_id):\n    json_dict = {\n        \"players\":{\n            0:{},\n            1:{}\n        },\n        \"moves\":self.logged_moves,\n        \"winner\":[i for i in range(2) if utility(self.state,i) != -1]\n    }\n    \n    for i in range(2):\n        json_dict[\"players\"][i][\"type\"] = self.players[i].player_type\n        json_dict[\"players\"][i][\"name\"] = self.players[i].name\n        if isinstance(self.players[i], Random_AI):\n            json_dict[\"players\"][i][\"seed\"] = self.players[i].seed\n        if isinstance(self.players[i], Minimax):\n            json_dict[\"players\"][i][\"limit\"] = self.players[i].limit\n    \n    with open(f\"logs/log_{file_id}.json\", \"w\") as f:\n        f.write(json.dumps(json_dict, indent=4))\n        f.close()\n\nKalah_Game.log_to_file = log_to_file",
   "execution_count": 49,
   "outputs": []
  },
  {
   "cell_type": "markdown",
   "source": "<b style=\"background-color:yellow; color:blue\">Comments:</b>\nI would prefer if you would create plain text files instead of *Json* files.",
   "metadata": {
    "cell_id": "00092-bdd55ddc-f49c-40d0-9f2f-4473cbaa60bf",
    "deepnote_cell_type": "markdown",
    "deepnote_cell_height": 54.94999694824219
   }
  },
  {
   "cell_type": "markdown",
   "source": "## Tests of Kalah_Game Class",
   "metadata": {
    "cell_id": "00071-b8bf9c83-e2ac-4245-bc4f-51c42f26dd76",
    "deepnote_cell_type": "markdown",
    "deepnote_cell_height": 70
   }
  },
  {
   "cell_type": "markdown",
   "source": "### 1. There must be exactly two players",
   "metadata": {
    "cell_id": "00072-6ad04a98-5b73-474c-89e7-1006fdb8e65e",
    "deepnote_cell_type": "markdown",
    "deepnote_cell_height": 62
   }
  },
  {
   "cell_type": "code",
   "metadata": {
    "cell_id": "00073-64cabd30-6ea2-4885-8bb5-d7062791ba46",
    "deepnote_to_be_reexecuted": false,
    "execution_millis": 9,
    "execution_start": 1646848907409,
    "source_hash": "9c60427",
    "deepnote_cell_type": "code",
    "deepnote_cell_height": 166.1999969482422
   },
   "source": "try:\n    game = Kalah_Game([Player(0,\"Test\")],0)\nexcept ValueError as e:\n    print(e)",
   "execution_count": 50,
   "outputs": [
    {
     "name": "stdout",
     "text": "There must be exactly two players!\n",
     "output_type": "stream"
    }
   ]
  },
  {
   "cell_type": "markdown",
   "source": "### 2. Players must be instances of a Player sublass",
   "metadata": {
    "cell_id": "00074-9c3987e3-462e-4e5d-ae91-3f7454a2ebd4",
    "deepnote_cell_type": "markdown",
    "deepnote_cell_height": 62
   }
  },
  {
   "cell_type": "code",
   "metadata": {
    "cell_id": "00075-fe418cc2-183f-4a88-bcbb-b14b5080f242",
    "deepnote_to_be_reexecuted": false,
    "execution_millis": 0,
    "execution_start": 1646848907419,
    "source_hash": "a17ecd27",
    "deepnote_cell_type": "code",
    "deepnote_cell_height": 166.1999969482422
   },
   "source": "try:\n    game = Kalah_Game([Player(0,\"Test\"), Player(1,\"Test\")],0)\nexcept ValueError as e:\n    print(e)",
   "execution_count": 51,
   "outputs": [
    {
     "name": "stdout",
     "text": "Both players must be of instances of a subclass of the class Player!\n",
     "output_type": "stream"
    }
   ]
  },
  {
   "cell_type": "markdown",
   "source": "### 3. Player numbers must be 0 and 1",
   "metadata": {
    "cell_id": "00076-81c80c64-aba6-4c8f-8646-c67212a719e1",
    "deepnote_cell_type": "markdown",
    "deepnote_cell_height": 62
   }
  },
  {
   "cell_type": "code",
   "metadata": {
    "cell_id": "00077-b4aacdf1-8392-44ec-be71-28c8e6428476",
    "deepnote_to_be_reexecuted": false,
    "execution_millis": 4,
    "execution_start": 1646848907429,
    "source_hash": "c0a9334a",
    "deepnote_cell_type": "code",
    "deepnote_cell_height": 166.1999969482422
   },
   "source": "try:\n    game = Kalah_Game([Human(1,\"Human\"), Random_AI(1,\"AI\",2)],0)\nexcept ValueError as e:\n    print(e)",
   "execution_count": 52,
   "outputs": [
    {
     "name": "stdout",
     "text": "One of the players must be self.number 0 and the other one self.number 1!\n",
     "output_type": "stream"
    }
   ]
  },
  {
   "cell_type": "markdown",
   "source": "### 4. Display mode must be 0, 1 or 2",
   "metadata": {
    "cell_id": "00078-f2b4a9a8-13c7-48f4-ba74-675b17c0f056",
    "deepnote_cell_type": "markdown",
    "deepnote_cell_height": 62
   }
  },
  {
   "cell_type": "code",
   "metadata": {
    "cell_id": "00079-1ccecef2-6b13-4b49-bdeb-67c1fa7b66b9",
    "deepnote_to_be_reexecuted": false,
    "execution_millis": 1309806391,
    "execution_start": 1646848907447,
    "scrolled": true,
    "source_hash": "cd1fe1ea",
    "deepnote_cell_type": "code",
    "deepnote_cell_height": 166.1999969482422
   },
   "source": "try:\n    game = Kalah_Game([Human(1,\"Human\"), Random_AI(0,\"AI\",2)],3)\nexcept ValueError as e:\n    print(e)",
   "execution_count": 53,
   "outputs": [
    {
     "name": "stdout",
     "text": "The display mode must be 0, 1 or 2!\n",
     "output_type": "stream"
    }
   ]
  },
  {
   "cell_type": "markdown",
   "source": "### 5. Successful Game creation with two AIs",
   "metadata": {
    "cell_id": "00080-d0676d34-9a16-42a7-8075-c818e2374e80",
    "deepnote_cell_type": "markdown",
    "deepnote_cell_height": 62
   }
  },
  {
   "cell_type": "code",
   "metadata": {
    "cell_id": "00081-096b0712-f235-4ea4-ab33-020d2a5ca604",
    "deepnote_to_be_reexecuted": false,
    "execution_millis": 1309806404,
    "execution_start": 1646848907456,
    "source_hash": "2bf80aca",
    "deepnote_cell_type": "code",
    "deepnote_cell_height": 81
   },
   "source": "game = Kalah_Game([Random_AI(0,\"Rando\",1), Minimax(1,\"Mini\",3)], 2)",
   "execution_count": 54,
   "outputs": []
  },
  {
   "cell_type": "code",
   "metadata": {
    "cell_id": "00083-764de83b-bf64-4c28-b28f-d17fbfc6e824",
    "deepnote_to_be_reexecuted": false,
    "execution_millis": 2869,
    "execution_start": 1646848907460,
    "scrolled": true,
    "source_hash": "f42697fa",
    "deepnote_cell_type": "code",
    "deepnote_cell_height": 2898.800048828125
   },
   "source": "%%time\ngame.start()",
   "execution_count": 55,
   "outputs": [
    {
     "name": "stdout",
     "text": "Current state:\n",
     "output_type": "stream"
    },
    {
     "data": {
      "text/plain": "MultiCanvas(height=400, width=800)",
      "application/vnd.jupyter.widget-view+json": {
       "version_major": 2,
       "version_minor": 0,
       "model_id": "6b8dd2871b4f47daa0785b1e3c419653"
      }
     },
     "metadata": {},
     "output_type": "display_data"
    },
    {
     "name": "stdout",
     "text": "Next is Rando's turn.\nRando chose F\nCurrent state:\n",
     "output_type": "stream"
    },
    {
     "data": {
      "text/plain": "MultiCanvas(height=400, width=800)",
      "application/vnd.jupyter.widget-view+json": {
       "version_major": 2,
       "version_minor": 0,
       "model_id": "694eac9151be490182fd2ceb7ed968a2"
      }
     },
     "metadata": {},
     "output_type": "display_data"
    },
    {
     "name": "stdout",
     "text": "Next is Mini's turn.\nMini chose b\nMini gets another turn!\nCurrent state:\n",
     "output_type": "stream"
    },
    {
     "data": {
      "text/plain": "MultiCanvas(height=400, width=800)",
      "application/vnd.jupyter.widget-view+json": {
       "version_major": 2,
       "version_minor": 0,
       "model_id": "cbb3806dd79d4f34b172bdd045030896"
      }
     },
     "metadata": {},
     "output_type": "display_data"
    },
    {
     "name": "stdout",
     "text": "Next is Mini's turn.\nMini chose a\nCurrent state:\n",
     "output_type": "stream"
    },
    {
     "data": {
      "text/plain": "MultiCanvas(height=400, width=800)",
      "application/vnd.jupyter.widget-view+json": {
       "version_major": 2,
       "version_minor": 0,
       "model_id": "79976f505431431a97717f3eca074d2d"
      }
     },
     "metadata": {},
     "output_type": "display_data"
    },
    {
     "name": "stdout",
     "text": "Next is Rando's turn.\nRando chose D\nCurrent state:\n",
     "output_type": "stream"
    },
    {
     "data": {
      "text/plain": "MultiCanvas(height=400, width=800)",
      "application/vnd.jupyter.widget-view+json": {
       "version_major": 2,
       "version_minor": 0,
       "model_id": "6d10092dbaec4924a7163567f1f6ee5b"
      }
     },
     "metadata": {},
     "output_type": "display_data"
    },
    {
     "name": "stdout",
     "text": "Next is Mini's turn.\nMini chose c\nCurrent state:\n",
     "output_type": "stream"
    },
    {
     "data": {
      "text/plain": "MultiCanvas(height=400, width=800)",
      "application/vnd.jupyter.widget-view+json": {
       "version_major": 2,
       "version_minor": 0,
       "model_id": "c403545f1c9f4977a6263dc1150f7619"
      }
     },
     "metadata": {},
     "output_type": "display_data"
    },
    {
     "name": "stdout",
     "text": "Next is Rando's turn.\nRando chose F\nRando gets another turn!\nCurrent state:\n",
     "output_type": "stream"
    },
    {
     "data": {
      "text/plain": "MultiCanvas(height=400, width=800)",
      "application/vnd.jupyter.widget-view+json": {
       "version_major": 2,
       "version_minor": 0,
       "model_id": "2667cd5e8f9340b1b4b3ea420392572a"
      }
     },
     "metadata": {},
     "output_type": "display_data"
    },
    {
     "name": "stdout",
     "text": "Next is Rando's turn.\nRando chose C\nCurrent state:\n",
     "output_type": "stream"
    },
    {
     "data": {
      "text/plain": "MultiCanvas(height=400, width=800)",
      "application/vnd.jupyter.widget-view+json": {
       "version_major": 2,
       "version_minor": 0,
       "model_id": "e62da22e23df4b9eaba956a616db62e0"
      }
     },
     "metadata": {},
     "output_type": "display_data"
    },
    {
     "name": "stdout",
     "text": "Next is Mini's turn.\nMini chose a\nCurrent state:\n",
     "output_type": "stream"
    },
    {
     "data": {
      "text/plain": "MultiCanvas(height=400, width=800)",
      "application/vnd.jupyter.widget-view+json": {
       "version_major": 2,
       "version_minor": 0,
       "model_id": "ee87142ce47540e3bd22faee7f5bfafa"
      }
     },
     "metadata": {},
     "output_type": "display_data"
    },
    {
     "name": "stdout",
     "text": "Next is Rando's turn.\nRando chose E\nCurrent state:\n",
     "output_type": "stream"
    },
    {
     "data": {
      "text/plain": "MultiCanvas(height=400, width=800)",
      "application/vnd.jupyter.widget-view+json": {
       "version_major": 2,
       "version_minor": 0,
       "model_id": "27a56dc8ee534edb9e33aea5dcc97d98"
      }
     },
     "metadata": {},
     "output_type": "display_data"
    },
    {
     "name": "stdout",
     "text": "Next is Mini's turn.\nMini chose a\nCurrent state:\n",
     "output_type": "stream"
    },
    {
     "data": {
      "text/plain": "MultiCanvas(height=400, width=800)",
      "application/vnd.jupyter.widget-view+json": {
       "version_major": 2,
       "version_minor": 0,
       "model_id": "ff015ee7b7b446068bcfc1162fe5943f"
      }
     },
     "metadata": {},
     "output_type": "display_data"
    },
    {
     "name": "stdout",
     "text": "Next is Rando's turn.\nRando chose A\nCurrent state:\n",
     "output_type": "stream"
    },
    {
     "data": {
      "text/plain": "MultiCanvas(height=400, width=800)",
      "application/vnd.jupyter.widget-view+json": {
       "version_major": 2,
       "version_minor": 0,
       "model_id": "205b0ccbc1be4271b43ac3492a559793"
      }
     },
     "metadata": {},
     "output_type": "display_data"
    },
    {
     "name": "stdout",
     "text": "Next is Mini's turn.\nMini chose b\nCurrent state:\n",
     "output_type": "stream"
    },
    {
     "data": {
      "text/plain": "MultiCanvas(height=400, width=800)",
      "application/vnd.jupyter.widget-view+json": {
       "version_major": 2,
       "version_minor": 0,
       "model_id": "d1ffe56517744ea085cceab7fbad64b4"
      }
     },
     "metadata": {},
     "output_type": "display_data"
    },
    {
     "name": "stdout",
     "text": "Next is Rando's turn.\nRando chose B\nCurrent state:\n",
     "output_type": "stream"
    },
    {
     "data": {
      "text/plain": "MultiCanvas(height=400, width=800)",
      "application/vnd.jupyter.widget-view+json": {
       "version_major": 2,
       "version_minor": 0,
       "model_id": "819569f86f4b4d33b5bfb042b146fcc0"
      }
     },
     "metadata": {},
     "output_type": "display_data"
    },
    {
     "name": "stdout",
     "text": "Next is Mini's turn.\nMini chose a\nCurrent state:\n",
     "output_type": "stream"
    },
    {
     "data": {
      "text/plain": "MultiCanvas(height=400, width=800)",
      "application/vnd.jupyter.widget-view+json": {
       "version_major": 2,
       "version_minor": 0,
       "model_id": "64d2fb70f59b41c69445bb3022fc1714"
      }
     },
     "metadata": {},
     "output_type": "display_data"
    },
    {
     "name": "stdout",
     "text": "Next is Rando's turn.\nRando chose D\nCurrent state:\n",
     "output_type": "stream"
    },
    {
     "data": {
      "text/plain": "MultiCanvas(height=400, width=800)",
      "application/vnd.jupyter.widget-view+json": {
       "version_major": 2,
       "version_minor": 0,
       "model_id": "800830cd13744166a709a1f8caebf279"
      }
     },
     "metadata": {},
     "output_type": "display_data"
    },
    {
     "name": "stdout",
     "text": "Next is Mini's turn.\nMini chose f\nCurrent state:\n",
     "output_type": "stream"
    },
    {
     "data": {
      "text/plain": "MultiCanvas(height=400, width=800)",
      "application/vnd.jupyter.widget-view+json": {
       "version_major": 2,
       "version_minor": 0,
       "model_id": "f13cc4a755e0497fbc6f41690bb510ba"
      }
     },
     "metadata": {},
     "output_type": "display_data"
    },
    {
     "name": "stdout",
     "text": "Next is Rando's turn.\nRando chose C\nCurrent state:\nIOPub message rate exceeded.\nThe notebook server will temporarily stop sending output\nto the client in order to avoid crashing it.\nTo change this limit, set the config variable\n`--NotebookApp.iopub_msg_rate_limit`.\n\nCurrent values:\nNotebookApp.iopub_msg_rate_limit=50.0 (msgs/sec)\nNotebookApp.rate_limit_window=3.0 (secs)\n\n",
     "output_type": "stream"
    }
   ]
  },
  {
   "cell_type": "code",
   "metadata": {
    "cell_id": "00084-0046bfef-03c1-44f3-82c7-e4281a9e6de4",
    "deepnote_to_be_reexecuted": false,
    "execution_millis": 1309807895,
    "execution_start": 1646848910364,
    "source_hash": "1ebb8803",
    "deepnote_cell_type": "code",
    "deepnote_cell_height": 99
   },
   "source": "timestamp = str(dt.datetime.now()).replace(':','.')\ngame.log_to_file(timestamp)",
   "execution_count": 56,
   "outputs": []
  },
  {
   "cell_type": "markdown",
   "source": "## Repeat Game from Log File\n\nThe function *repeat_game* takes the filename of a log file and the display mode with which the game should be repeated as the input values. It also receives the information, if included AIs should calculate their choices new or if they should just repeat the moves that are presented in the log file. The decicions of human players are always repeated based on the log file. \n\nThe function detects the player types and names from the file and creates players based on this information. The player types are only relevant for AIs if **repeat_AIs** is set to False. In all other cases, the players are created from the <tt>Repeated_Player</tt> class.\n\nIn the end, the game is initialized with the created players and the given display mode and then started.",
   "metadata": {
    "cell_id": "00085-111633e0-553e-40a1-95cf-93ee96bd5983",
    "deepnote_cell_type": "markdown",
    "deepnote_cell_height": 293.183349609375
   }
  },
  {
   "cell_type": "code",
   "metadata": {
    "cell_id": "00086-c8ba6d0d-bd43-412a-9354-4c7572f18afc",
    "deepnote_to_be_reexecuted": false,
    "execution_millis": 1309807842,
    "execution_start": 1646848910365,
    "source_hash": "477b8d00",
    "deepnote_cell_type": "code",
    "deepnote_cell_height": 513
   },
   "source": "def repeat_game(filename, repeat_AIs, display_mode):\n    json_dict = {}\n    \n    with open(\"logs/\"+filename) as f:\n        json_dict = json.load(f)\n    \n    players = []\n    for i in range(2):\n        i = str(i)\n        p_type = json_dict[\"players\"][i][\"type\"]\n        \n        if repeat_AIs:\n            players.append(Repeated_Player(int(i),json_dict[\"players\"][i][\"name\"],json_dict[\"moves\"]))\n        else:\n            if p_type == \"Human\":\n                players.append(Repeated_Player(int(i),json_dict[\"players\"][i][\"name\"],json_dict[\"moves\"]))\n            elif p_type == \"Random_AI\":\n                players.append(Random_AI(int(i),json_dict[\"players\"][i][\"name\"],json_dict[\"players\"][i][\"seed\"]))\n            elif p_type == \"Minimax\":\n                players.append(Minimax(int(i),json_dict[\"players\"][i][\"name\"],json_dict[\"players\"][i][\"limit\"]))\n            else:\n                raise ValueError(\"The given player type is unknown!\")\n    \n    game = Kalah_Game([players[0],players[1]],display_mode)\n    game.start()",
   "execution_count": 57,
   "outputs": []
  },
  {
   "cell_type": "markdown",
   "source": "### Tests of Repeat Game\n#### Repeating the game of two AIs, where the decisions are repeated based on the log file (Player types: Repeated_Player)",
   "metadata": {
    "cell_id": "00087-5c74fd99-ea3e-498b-a41b-d7758f5c4aab",
    "deepnote_cell_type": "markdown",
    "deepnote_cell_height": 125.91667175292969
   }
  },
  {
   "cell_type": "code",
   "metadata": {
    "cell_id": "00088-ea8efce6-9d4f-4fcc-a34b-33dac28737c8",
    "deepnote_to_be_reexecuted": false,
    "execution_millis": 18,
    "execution_start": 1646848910366,
    "source_hash": "fcfb7dda",
    "deepnote_cell_type": "code",
    "deepnote_cell_height": 719
   },
   "source": "%%time\nrepeat_game(f\"log_{timestamp}.json\",True,1)",
   "execution_count": 58,
   "outputs": [
    {
     "name": "stdout",
     "text": "\nCurrent state:\nRando:\t\t\tO: 0  F: 4  E: 4  D: 4  C: 4  B: 4  A: 4  \nMini:\t\t\ta: 4  b: 4  c: 4  d: 4  e: 4  f: 4  o: 0  \n\nNext is Rando's turn.\nRando chose F\n\nCurrent state:\nRando:\t\t\tO: 1  F: 0  E: 4  D: 4  C: 4  B: 4  A: 4  \nMini:\t\t\ta: 5  b: 5  c: 5  d: 4  e: 4  f: 4  o: 0  \n\nNext is Mini's turn.\nMini chose b\nMini gets another turn!\n\nCurrent state:\nRando:\t\t\tO: 0  F: 0  E: 4  D: 4  C: 4  B: 4  A: 4  \nMini:\t\t\ta: 5  b: 0  c: 6  d: 5  e: 5  f: 5  o: 2  \n\nNext is Mini's turn.\nMini chose a\n\nCurrent state:\nRando:\t\t\tO: 0  F: 0  E: 4  D: 4  C: 4  B: 4  A: 4  \nMini:\t\t\ta: 0  b: 1  c: 7  d: 6  e: 6  f: 6  o: 2  \n\nNext is Rando's turn.\nRando chose D\n\nCurrent state:\nRando:\t\t\tO: 1  F: 1  E: 5  D: 0  C: 4  B: 4  A: 4  \nMini:\t\t\ta: 1  b: 1  c: 7  d: 6  e: 6  f: 6  o: 2  \n\nNext is Mini's turn.\nMini chose c\n\nCurrent state:\nRando:\t\t\tO: 1  F: 1  E: 5  D: 0  C: 5  B: 5  A: 5  \nMini:\t\t\ta: 1  b: 1  c: 0  d: 7  e: 7  f: 7  o: 3  \n\nNext is Rando's turn.\nRando chose F\nRando gets another turn!\n\nCurrent state:\nRando:\t\t\tO: 2  F: 0  E: 5  D: 0  C: 5  B: 5  A: 5  \nMini:\t\t\ta: 1  b: 1  c: 0  d: 7  e: 7  f: 7  o: 3  \n\nNext is Rando's turn.\nRando chose C\n\nCurrent state:\nRando:\t\t\tO: 3  F: 1  E: 6  D: 1  C: 0  B: 5  A: 5  \nMini:\t\t\ta: 2  b: 1  c: 0  d: 7  e: 7  f: 7  o: 3  \n\nNext is Mini's turn.\nMini chose a\n\nCurrent state:\nRando:\t\t\tO: 3  F: 1  E: 6  D: 0  C: 0  B: 5  A: 5  \nMini:\t\t\ta: 0  b: 2  c: 0  d: 7  e: 7  f: 7  o: 5  \n\nNext is Rando's turn.\nRando chose E\n\nCurrent state:\nRando:\t\t\tO: 4  F: 2  E: 0  D: 0  C: 0  B: 5  A: 5  \nMini:\t\t\ta: 1  b: 3  c: 1  d: 8  e: 7  f: 7  o: 5  \n\nNext is Mini's turn.\nMini chose a\n\nCurrent state:\nRando:\t\t\tO: 4  F: 2  E: 0  D: 0  C: 0  B: 5  A: 5  \nMini:\t\t\ta: 0  b: 4  c: 1  d: 8  e: 7  f: 7  o: 5  \n\nNext is Rando's turn.\nRando chose A\n\nCurrent state:\nRando:\t\t\tO: 4  F: 3  E: 1  D: 1  C: 1  B: 6  A: 0  \nMini:\t\t\ta: 0  b: 4  c: 1  d: 8  e: 7  f: 7  o: 5  \n\nNext is Mini's turn.\nMini chose b\n\nCurrent state:\nRando:\t\t\tO: 4  F: 3  E: 1  D: 1  C: 1  B: 6  A: 0  \nMini:\t\t\ta: 0  b: 0  c: 2  d: 9  e: 8  f: 8  o: 5  \n\nNext is Rando's turn.\nRando chose B\n\nCurrent state:\nRando:\t\t\tO: 5  F: 4  E: 2  D: 2  C: 2  B: 0  A: 0  \nMini:\t\t\ta: 1  b: 0  c: 2  d: 9  e: 8  f: 8  o: 5  \n\nNext is Mini's turn.\nMini chose a\n\nCurrent state:\nRando:\t\t\tO: 5  F: 4  E: 0  D: 2  C: 2  B: 0  A: 0  \nMini:\t\t\ta: 0  b: 0  c: 2  d: 9  e: 8  f: 8  o: 8  \n\nNext is Rando's turn.\nRando chose D\n\nCurrent state:\nRando:\t\t\tO: 5  F: 5  E: 1  D: 0  C: 2  B: 0  A: 0  \nMini:\t\t\ta: 0  b: 0  c: 2  d: 9  e: 8  f: 8  o: 8  \n\nNext is Mini's turn.\nMini chose f\n\nCurrent state:\nRando:\t\t\tO: 5  F: 0  E: 2  D: 1  C: 3  B: 1  A: 1  \nMini:\t\t\ta: 0  b: 0  c: 2  d: 9  e: 8  f: 0  o: 16  \n\nNext is Rando's turn.\nRando chose C\n\nCurrent state:\nRando:\t\t\tO: 5  F: 1  E: 3  D: 2  C: 0  B: 1  A: 1  \nMini:\t\t\ta: 0  b: 0  c: 2  d: 9  e: 8  f: 0  o: 16  \n\nNext is Mini's turn.\nMini chose d\n\nCurrent state:\nRando:\t\t\tO: 5  F: 2  E: 4  D: 3  C: 1  B: 2  A: 0  \nMini:\t\t\ta: 0  b: 0  c: 2  d: 0  e: 9  f: 0  o: 20  \n\nNext is Rando's turn.\nRando chose C\n\nCurrent state:\nRando:\t\t\tO: 5  F: 2  E: 4  D: 4  C: 0  B: 2  A: 0  \nMini:\t\t\ta: 0  b: 0  c: 2  d: 0  e: 9  f: 0  o: 20  \n\nNext is Mini's turn.\nMini chose e\n\nCurrent state:\nRando:\t\t\tO: 5  F: 0  E: 5  D: 5  C: 1  B: 3  A: 1  \nMini:\t\t\ta: 0  b: 0  c: 2  d: 0  e: 0  f: 1  o: 25  \n\nNext is Rando's turn.\nRando chose C\n\nCurrent state:\nRando:\t\t\tO: 5  F: 0  E: 5  D: 6  C: 0  B: 3  A: 1  \nMini:\t\t\ta: 0  b: 0  c: 2  d: 0  e: 0  f: 1  o: 25  \n\nNext is Mini's turn.\nMini chose f\nMini gets another turn!\n\nCurrent state:\nRando:\t\t\tO: 5  F: 0  E: 5  D: 6  C: 0  B: 3  A: 1  \nMini:\t\t\ta: 0  b: 0  c: 2  d: 0  e: 0  f: 0  o: 26  \n\nNext is Mini's turn.\nMini chose c\n\nCurrent state:\nRando:\t\t\tO: 5  F: 0  E: 5  D: 6  C: 0  B: 0  A: 1  \nMini:\t\t\ta: 0  b: 0  c: 0  d: 1  e: 0  f: 0  o: 30  \n\nNext is Rando's turn.\nRando chose D\n\nCurrent state:\nRando:\t\t\tO: 6  F: 1  E: 6  D: 0  C: 0  B: 0  A: 1  \nMini:\t\t\ta: 1  b: 1  c: 1  d: 1  e: 0  f: 0  o: 30  \n\nNext is Mini's turn.\nMini chose a\n\nCurrent state:\nRando:\t\t\tO: 6  F: 1  E: 6  D: 0  C: 0  B: 0  A: 1  \nMini:\t\t\ta: 0  b: 2  c: 1  d: 1  e: 0  f: 0  o: 30  \n\nNext is Rando's turn.\nRando chose E\n\nCurrent state:\nRando:\t\t\tO: 7  F: 2  E: 0  D: 0  C: 0  B: 0  A: 1  \nMini:\t\t\ta: 1  b: 3  c: 2  d: 2  e: 0  f: 0  o: 30  \n\nNext is Mini's turn.\nMini chose d\n\nCurrent state:\nRando:\t\t\tO: 7  F: 2  E: 0  D: 0  C: 0  B: 0  A: 0  \nMini:\t\t\ta: 1  b: 3  c: 2  d: 0  e: 1  f: 0  o: 32  \n\nNext is Rando's turn.\nRando chose F\n\nRando:\t\t\tO: 8  F: 0  E: 0  D: 0  C: 0  B: 0  A: 0  \nMini:\t\t\ta: 2  b: 3  c: 2  d: 0  e: 1  f: 0  o: 32  \n\nFinished Game!\nMini wins!\nCPU times: user 14.8 ms, sys: 3.88 ms, total: 18.7 ms\nWall time: 18.2 ms\n",
     "output_type": "stream"
    }
   ]
  },
  {
   "cell_type": "markdown",
   "source": "#### Repeating the game of two AIs, where both of them calculate their decisions new (Player types: Random_AI)",
   "metadata": {
    "cell_id": "00089-58236187-dc28-41e6-957b-ac120e2e7330",
    "deepnote_cell_type": "markdown",
    "deepnote_cell_height": 77.93333435058594
   }
  },
  {
   "cell_type": "code",
   "metadata": {
    "cell_id": "00090-6ec181d9-e95f-4c94-be6d-ec65e3d714ec",
    "deepnote_to_be_reexecuted": false,
    "execution_millis": 20,
    "execution_start": 1646848910386,
    "source_hash": "db26d84a",
    "deepnote_cell_type": "code",
    "deepnote_cell_height": 719
   },
   "source": "%%time\nrepeat_game(f\"log_{timestamp}.json\",False,1)",
   "execution_count": 59,
   "outputs": [
    {
     "name": "stdout",
     "text": "\nCurrent state:\nRando:\t\t\tO: 0  F: 4  E: 4  D: 4  C: 4  B: 4  A: 4  \nMini:\t\t\ta: 4  b: 4  c: 4  d: 4  e: 4  f: 4  o: 0  \n\nNext is Rando's turn.\nRando chose B\n\nCurrent state:\nRando:\t\t\tO: 0  F: 5  E: 5  D: 5  C: 5  B: 0  A: 4  \nMini:\t\t\ta: 4  b: 4  c: 4  d: 4  e: 4  f: 4  o: 0  \n\nNext is Mini's turn.\nMini chose c\nMini gets another turn!\n\nCurrent state:\nRando:\t\t\tO: 0  F: 5  E: 5  D: 5  C: 5  B: 0  A: 4  \nMini:\t\t\ta: 4  b: 4  c: 0  d: 5  e: 5  f: 5  o: 1  \n\nNext is Mini's turn.\nMini chose a\n\nCurrent state:\nRando:\t\t\tO: 0  F: 5  E: 5  D: 5  C: 5  B: 0  A: 4  \nMini:\t\t\ta: 0  b: 5  c: 1  d: 6  e: 6  f: 5  o: 1  \n\nNext is Rando's turn.\nRando chose F\n\nCurrent state:\nRando:\t\t\tO: 1  F: 0  E: 5  D: 5  C: 5  B: 0  A: 4  \nMini:\t\t\ta: 1  b: 6  c: 2  d: 7  e: 6  f: 5  o: 1  \n\nNext is Mini's turn.\nMini chose b\n\nCurrent state:\nRando:\t\t\tO: 1  F: 0  E: 5  D: 5  C: 5  B: 0  A: 5  \nMini:\t\t\ta: 1  b: 0  c: 3  d: 8  e: 7  f: 6  o: 2  \n\nNext is Rando's turn.\nRando chose A\n\nCurrent state:\nRando:\t\t\tO: 3  F: 0  E: 6  D: 6  C: 6  B: 1  A: 0  \nMini:\t\t\ta: 0  b: 0  c: 3  d: 8  e: 7  f: 6  o: 2  \n\nNext is Mini's turn.\nMini chose d\n\nCurrent state:\nRando:\t\t\tO: 3  F: 0  E: 7  D: 7  C: 7  B: 2  A: 1  \nMini:\t\t\ta: 0  b: 0  c: 3  d: 0  e: 8  f: 7  o: 3  \n\nNext is Rando's turn.\nRando chose C\n\nCurrent state:\nRando:\t\t\tO: 4  F: 1  E: 8  D: 8  C: 0  B: 2  A: 1  \nMini:\t\t\ta: 1  b: 1  c: 4  d: 0  e: 8  f: 7  o: 3  \n\nNext is Mini's turn.\nMini chose c\nMini gets another turn!\n\nCurrent state:\nRando:\t\t\tO: 4  F: 1  E: 8  D: 8  C: 0  B: 2  A: 1  \nMini:\t\t\ta: 1  b: 1  c: 0  d: 1  e: 9  f: 8  o: 4  \n\nNext is Mini's turn.\nMini chose b\n\nCurrent state:\nRando:\t\t\tO: 4  F: 1  E: 8  D: 0  C: 0  B: 2  A: 1  \nMini:\t\t\ta: 1  b: 0  c: 0  d: 1  e: 9  f: 8  o: 13  \n\nNext is Rando's turn.\nRando chose A\n\nCurrent state:\nRando:\t\t\tO: 4  F: 1  E: 8  D: 0  C: 0  B: 3  A: 0  \nMini:\t\t\ta: 1  b: 0  c: 0  d: 1  e: 9  f: 8  o: 13  \n\nNext is Mini's turn.\nMini chose a\n\nCurrent state:\nRando:\t\t\tO: 4  F: 1  E: 0  D: 0  C: 0  B: 3  A: 0  \nMini:\t\t\ta: 0  b: 0  c: 0  d: 1  e: 9  f: 8  o: 22  \n\nNext is Rando's turn.\nRando chose F\nRando gets another turn!\n\nCurrent state:\nRando:\t\t\tO: 5  F: 0  E: 0  D: 0  C: 0  B: 3  A: 0  \nMini:\t\t\ta: 0  b: 0  c: 0  d: 1  e: 9  f: 8  o: 22  \n\nNext is Rando's turn.\nRando chose B\n\nCurrent state:\nRando:\t\t\tO: 5  F: 0  E: 1  D: 1  C: 1  B: 0  A: 0  \nMini:\t\t\ta: 0  b: 0  c: 0  d: 1  e: 9  f: 8  o: 22  \n\nNext is Mini's turn.\nMini chose e\n\nCurrent state:\nRando:\t\t\tO: 5  F: 0  E: 2  D: 2  C: 2  B: 1  A: 1  \nMini:\t\t\ta: 0  b: 0  c: 0  d: 1  e: 0  f: 9  o: 25  \n\nNext is Rando's turn.\nRando chose D\n\nCurrent state:\nRando:\t\t\tO: 5  F: 1  E: 3  D: 0  C: 2  B: 1  A: 1  \nMini:\t\t\ta: 0  b: 0  c: 0  d: 1  e: 0  f: 9  o: 25  \n\nNext is Mini's turn.\nMini chose f\n\nCurrent state:\nRando:\t\t\tO: 5  F: 2  E: 0  D: 1  C: 3  B: 2  A: 2  \nMini:\t\t\ta: 1  b: 0  c: 0  d: 1  e: 0  f: 0  o: 31  \n\nNext is Rando's turn.\nRando chose D\n\nCurrent state:\nRando:\t\t\tO: 5  F: 2  E: 1  D: 0  C: 3  B: 2  A: 2  \nMini:\t\t\ta: 1  b: 0  c: 0  d: 1  e: 0  f: 0  o: 31  \n\nNext is Mini's turn.\nMini chose d\n\nCurrent state:\nRando:\t\t\tO: 5  F: 2  E: 1  D: 0  C: 3  B: 0  A: 2  \nMini:\t\t\ta: 1  b: 0  c: 0  d: 0  e: 0  f: 0  o: 34  \n\nNext is Rando's turn.\nRando chose C\n\nCurrent state:\nRando:\t\t\tO: 5  F: 3  E: 2  D: 1  C: 0  B: 0  A: 2  \nMini:\t\t\ta: 1  b: 0  c: 0  d: 0  e: 0  f: 0  o: 34  \n\nNext is Mini's turn.\nMini chose a\n\nRando:\t\t\tO: 5  F: 3  E: 0  D: 1  C: 0  B: 0  A: 2  \nMini:\t\t\ta: 0  b: 0  c: 0  d: 0  e: 0  f: 0  o: 37  \n\nFinished Game!\nMini wins!\nCPU times: user 25.6 ms, sys: 4.87 ms, total: 30.5 ms\nWall time: 26.8 ms\n",
     "output_type": "stream"
    }
   ]
  },
  {
   "cell_type": "markdown",
   "source": "## Test: Random_AI vs. Minimax\r\n\r\nThe function **(name)** is mainly used to play a multitude of Kalah games in a row. Therefore a Human Player should not be used for this function. The resulting stats of wins and losses are then printed.",
   "metadata": {
    "cell_id": "00099-f09c29f7-e702-44fe-90ae-f717679533c4",
    "deepnote_cell_type": "markdown",
    "deepnote_cell_height": 130.8000030517578
   }
  },
  {
   "cell_type": "markdown",
   "source": "<b style=\"background-color:yellow; color:blue\">Comments:</b> I need an explanation what is going on here.  And the whole thing should be turned into a function.",
   "metadata": {
    "cell_id": "00113-35f652c9-2e12-4d22-a2e9-e03e4b6a3c44",
    "deepnote_cell_type": "markdown",
    "deepnote_cell_height": 52.399993896484375
   }
  },
  {
   "cell_type": "code",
   "metadata": {
    "cell_id": "00100-1856310e-6d3c-4710-a45a-f0f610cc78f0",
    "deepnote_to_be_reexecuted": false,
    "execution_millis": 1264,
    "execution_start": 1646848910423,
    "source_hash": "eb206cc2",
    "deepnote_cell_type": "code",
    "deepnote_cell_height": 908.5999755859375
   },
   "source": "%%time\n\nlimit = 2\n\nmini_wins = 0\nrando_wins = 0\n\nfor seed in range(100):\n    game1 = Kalah_Game([Random_AI(0,\"Rando\",seed), Minimax(1,\"Mini\",limit)],0)\n    game1.start()\n    won1 = utility(game1.state, 0)\n    \n    # print(\"\")\n    # game1.show_state() \n    if(won1 == 1):\n        # print(f\"{game1.players[0]} wins!\")\n        rando_wins += 1\n    elif(won1 == -1):\n        # print(f\"{game1.players[1]} wins!\")\n        mini_wins += 1\n    else:\n        # print(f\"Draw!\")\n        pass\n        \n    ############################\n    \n    game2 = Kalah_Game([Minimax(0,\"Mini\",limit), Random_AI(1,\"Rando\",seed)],0)\n    game2.start()\n    won2 = utility(game2.state, 0)\n    \n    # print(\"\")\n    # game2.show_state() \n    if(won2 == 1):\n        # print(f\"{game2.players[0]} wins!\")\n        mini_wins += 1\n    elif(won2 == -1):\n        # print(f\"{game2.players[1]} wins!\")\n        rando_wins += 1\n    else:\n        # print(f\"Draw!\")\n        pass\n            \nprint(f\"Rando won {rando_wins} times and Mini won {mini_wins} times!\")",
   "execution_count": 60,
   "outputs": [
    {
     "name": "stdout",
     "text": "Rando won 12 times and Mini won 187 times!\nCPU times: user 1.04 s, sys: 5.71 ms, total: 1.05 s\nWall time: 1.05 s\n",
     "output_type": "stream"
    }
   ]
  },
  {
   "cell_type": "markdown",
   "source": "## Test: Minimax vs. Minimax with seeds 2 and 3",
   "metadata": {
    "cell_id": "00115-26cb58df-3ecd-4559-b79c-4a4d5e332924",
    "deepnote_cell_type": "markdown",
    "deepnote_cell_height": 70
   }
  },
  {
   "cell_type": "code",
   "metadata": {
    "scrolled": true,
    "cell_id": "00116-11f37088-7788-4341-8d14-ea5174ce978b",
    "deepnote_to_be_reexecuted": false,
    "source_hash": "286eb6e3",
    "execution_start": 1646848911472,
    "execution_millis": 215,
    "deepnote_cell_type": "code",
    "deepnote_cell_height": 274.20001220703125
   },
   "source": "game = Kalah_Game([Minimax(0,\"Mini_3\",3),Minimax(1,\"Mini_2\",2)],0)\ngame.start()\nwon = utility(game.state, 0)\n\nif(won == 1):\n    print(f\"{game.players[0]} wins!\")\nelif(won == -1):\n    print(f\"{game.players[1]} wins!\")\nelse:\n    print(f\"Draw!\")",
   "execution_count": 61,
   "outputs": [
    {
     "name": "stdout",
     "text": "Mini_2 wins!\n",
     "output_type": "stream"
    }
   ]
  },
  {
   "cell_type": "markdown",
   "source": "## Play against Minimax",
   "metadata": {
    "cell_id": "00091-60bc3111-97a0-49d5-9149-c3f0e8fd3b35",
    "deepnote_cell_type": "markdown",
    "deepnote_cell_height": 70
   }
  },
  {
   "cell_type": "code",
   "metadata": {
    "cell_id": "00092-25914aab-8ba4-4dd7-8cb9-fb289bb6d452",
    "deepnote_to_be_reexecuted": false,
    "execution_millis": 2,
    "execution_start": 1646848911478,
    "source_hash": "6a7418a",
    "deepnote_cell_type": "code",
    "deepnote_cell_height": 81
   },
   "source": "gameHuman = Kalah_Game([Human(0,\"Karl\"), Minimax(1,\"AI2\",4)], 2)",
   "execution_count": 62,
   "outputs": []
  },
  {
   "cell_type": "code",
   "metadata": {
    "cell_id": "00093-af8aaf1e-d196-48bb-bcf2-5bafb6222232",
    "deepnote_to_be_reexecuted": false,
    "execution_millis": 0,
    "execution_start": 1646848943392,
    "scrolled": false,
    "source_hash": "5682e81a",
    "deepnote_cell_type": "code",
    "deepnote_cell_height": 298.6000061035156
   },
   "source": "# gameHuman.start()",
   "execution_count": 64,
   "outputs": []
  },
  {
   "cell_type": "markdown",
   "source": "## <b style=\"background-color:yellow; color:blue\">Concluding Remarks</b> \n* I really like the graphical representation of the game.\n  However, this should be separated into a different notebook so that I can reuse it for my class.\n* The work should be structured into serveral notebooks.  I do not want to execute all tests when I just want to play a game.\n  I usually just press the button `Run All Above` and that runs the tests.\n* Testing should be more systematic, i.e. you should structure the code into functions and you should also discuss the results.\n* You still need to implement *Alpha-Beta-Pruning* and *[Scout](https://www.aaai.org/Papers/AAAI/1980/AAAI80-041.pdf)*. ",
   "metadata": {
    "cell_id": "00120-60d2e1a8-65bc-41fa-a6b6-e0f612e41eb3",
    "deepnote_cell_type": "markdown",
    "deepnote_cell_height": 265.7833251953125
   }
  },
  {
   "cell_type": "code",
   "metadata": {
    "cell_id": "00121-2b596374-7ccf-4b7f-a99b-db649c68b9e2",
    "deepnote_to_be_reexecuted": true,
    "source_hash": "b623e53d",
    "deepnote_cell_type": "code",
    "deepnote_cell_height": 81
   },
   "source": "",
   "execution_count": null,
   "outputs": []
  },
  {
   "cell_type": "markdown",
   "source": "<a style='text-decoration:none;line-height:16px;display:flex;color:#5B5B62;padding:10px;justify-content:end;' href='https://deepnote.com?utm_source=created-in-deepnote-cell&projectId=b91c3ea7-d814-439b-837a-72fdc90697b1' target=\"_blank\">\n<img alt='Created in deepnote.com' style='display:inline;max-height:16px;margin:0px;margin-right:7.5px;' src='data:image/svg+xml;base64,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' > </img>\nCreated in <span style='font-weight:600;margin-left:4px;'>Deepnote</span></a>",
   "metadata": {
    "tags": [],
    "created_in_deepnote_cell": true,
    "deepnote_cell_type": "markdown"
   }
  }
 ],
 "nbformat": 4,
 "nbformat_minor": 5,
 "metadata": {
  "deepnote": {},
  "deepnote_execution_queue": [],
  "deepnote_notebook_id": "767f6f9f-2fd2-4e35-9e91-b22ae1451d4f",
  "kernelspec": {
   "display_name": "Python 3 (ipykernel)",
   "language": "python",
   "name": "python3"
  },
  "language_info": {
   "codemirror_mode": {
    "name": "ipython",
    "version": 3
   },
   "file_extension": ".py",
   "mimetype": "text/x-python",
   "name": "python",
   "nbconvert_exporter": "python",
   "pygments_lexer": "ipython3",
   "version": "3.10.0"
  },
  "nbdime-conflicts": {
   "local_diff": [
    {
     "diff": [
      {
       "diff": [
        {
         "key": 0,
         "op": "addrange",
         "valuelist": [
          "3.9.1"
         ]
        },
        {
         "key": 0,
         "length": 1,
         "op": "removerange"
        }
       ],
       "key": "version",
       "op": "patch"
      }
     ],
     "key": "language_info",
     "op": "patch"
    }
   ],
   "remote_diff": [
    {
     "diff": [
      {
       "diff": [
        {
         "key": 0,
         "op": "addrange",
         "valuelist": [
          "3.8.12"
         ]
        },
        {
         "key": 0,
         "length": 1,
         "op": "removerange"
        }
       ],
       "key": "version",
       "op": "patch"
      }
     ],
     "key": "language_info",
     "op": "patch"
    }
   ]
  }
 }
}