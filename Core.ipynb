{
 "cells": [
  {
   "cell_type": "code",
   "metadata": {
    "cell_id": "83778be5-dbbd-48b8-9522-7ba9f5847ca7",
    "deepnote_to_be_reexecuted": false,
    "execution_millis": 646,
    "execution_start": 1654330288923,
    "source_hash": "678d49f7",
    "deepnote_cell_type": "code",
    "deepnote_cell_height": 278.75,
    "deepnote_output_heights": [
     2
    ]
   },
   "source": "import math\nimport random\nimport time\nimport copy\nimport heapq\nimport operator\nimport datetime as dt\nfrom IPython.core.display import HTML\nwith open('style.css', 'r') as file:\n    css = file.read()\nHTML(css)",
   "execution_count": 49,
   "outputs": [
    {
     "output_type": "execute_result",
     "execution_count": 49,
     "data": {
      "text/plain": "<IPython.core.display.HTML object>",
      "text/html": "<link href='http://fonts.googleapis.com/css?family=Alegreya+Sans:100,300,400,500,700,800,900,100italic,300italic,400italic,500italic,700italic,800italic,900italic' rel='stylesheet' type='text/css'>\n<link href='http://fonts.googleapis.com/css?family=Arvo:400,700,400italic' rel='stylesheet' type='text/css'>\n<link href='http://fonts.googleapis.com/css?family=PT+Mono' rel='stylesheet' type='text/css'>\n<link href='http://fonts.googleapis.com/css?family=Shadows+Into+Light' rel='stylesheet' type='text/css'>\n<link href='http://fonts.googleapis.com/css?family=Philosopher:400,700,400italic,700italic' rel='stylesheet' type='text/css'>\n\n<style>\n\n@font-face {\n    font-family: \"Computer Modern\";\n    src: url('http://mirrors.ctan.org/fonts/cm-unicode/fonts/otf/cmunss.otf');\n}\n\n.container { width: 100% }\n\n/* Formatting for header cells */\n.text_cell_render h1 {\n    font-family: 'Philosopher';\n    font-weight: 600;\n    font-size: 2.2em;\n    line-height: 100%;\n    color: rgb(0, 80, 120);\n    margin-bottom: 0.1em;\n    margin-top: 0.1em;\n    display: block;\n}\t\n.text_cell_render h2 {\n    font-family: 'Philosopher';\n    font-weight: 400;\n    font-size: 1.8em;\n    line-height: 100%;\n    color: rgb(0, 80, 120);\n    margin-bottom: 0.1em;\n    margin-top: 0.1em;\n    display: block;\n}\t\n\n.text_cell_render h3 {\n    font-family: 'Philosopher';\n    margin-top:12px;\n    margin-bottom: 3px;\n    font-style: italic;\n    color: rgb(0, 100, 132);\n}\n\n.text_cell_render h4 {\n    font-family: 'Philosopher', serif;\n    color: rgb(0, 100, 132);\n}\n\n.text_cell_render h5 {\n    font-family: 'Philosopher', serif;\n    margin-top:6px;\n    margin-bottom: 2px;\n    color: rgb(0, 100, 132);\n    font-style: italic;\n    display: block;\n}\n\n.text_cell_render h6 {\n    font-family: 'PT Mono', serif;\n    font-weight: 300;\n    font-size: 10pt;\n    color: grey;\n    margin-bottom: 1px;\n    margin-top: 1px;\n}\n\n.text_cell_render em {\n    font-family: 'Philosopher', serif;\n    background-color: rgb(220,235,240);\n    font-size:    110%;\n    margin-left:   2px;\n    margin-right:  2px;\n    font-weight:   100;\n    font-style: normal;\n}\n\n.text_cell_render b {\n    font-family: 'Philosopher', serif;\n    color:            rgb(255,195,195);\n    font-size:    110%;\n    margin-left:   2px;\n    margin-right:  2px;\n    font-weight:   650;\n}\n\n.text_cell_render tt {\n    background-color: rgb(235,235,235);\n    font-size:    120%;\n    margin-left:   2px;\n    margin-right:  2px;\n    font-weight:   150;\n}\n\n.Codemirror {\n    font-family: \"PT Mono\";\n    font-size: 100%;\n}\n\n</style>\n\n"
     },
     "metadata": {}
    }
   ]
  },
  {
   "cell_type": "markdown",
   "source": "# Kalah Rules\n\n### Game Structure:\n<p>The playing field consists of six houses per side and additionally one large house per player at the edge, the so-called storage. At the beginning of the game, four seeds are placed in each house except the storage.</p>\n\n![title](images/Board.png)\n\n### Gameplay:\n<p>Alternately, a player selects a house on his side of the board. The player then places the seeds in the following houses in a counter-clockwise direction. If visited, a seed is placed in the own storage, the opponent's storage is left out. The player's turn ends if all seeds are placed.\n\nThere are some special rules, that apply if the last seed is placed in the player's storage or an empty player's house:\n1. If the last seed is placed in the own storage, it is the player's turn again. \n2. If the last seed is placed in an empty house on the player's own side of the board, this seed and all the seeds in the opposite house are placed in the player's storage. This can only occur if the opposite house contains atleast one seed.</p>\n\n### End of the game:\n<p>The game ends when all the houses of one player have been emptied. The opposing player then places all remaining seed in his storage.</p>\n\n### Object of the game:\n<p>The winner is the player who has more seeds in his storage at the end of the game.</p>\n\nSource: http://gambiter.com/mancala/Kalah.html (09.03.2022), http://www.iggamecenter.com/info/en/kalah.html (09.03.2022)",
   "metadata": {
    "cell_id": "00001-18d6a173-aebe-492d-9c4a-d89c70682f66",
    "deepnote_cell_type": "markdown",
    "deepnote_cell_height": 1041.2333984375
   }
  },
  {
   "cell_type": "markdown",
   "source": "# Kalah game definition\n\n### Basic definition:\n<p>We define the game G as a six-tuple as follows so that a computer is able to play Kalah.</p>\n\n$$G = \\lt States, s0, Players, nextStates, finished, utility\\gt$$\n\nThe components have the following meanings:\n\n1. **States** is a set that contains all possible states of the game Kalah. A state of the game is represented by a list containing two lists, representing the houses of the two players. The first six values of each list represent the number of seeds in the player's houses represented by the letters **{A, B, C, D, E, F}**. The seventh and last value stands for the number of seeds in the corresponding player's storage. The start state of the game is for example:\n\n$$[[4,4,4,4,4,4,0], [4,4,4,4,4,4,0]]$$\n\n2. **s0 $\\in$ States** is the start state.\n\n3. **Players** is a list that contains the players. Kalah is a game for exactly two players, therefore this game's **Players** list only contains two elements.\n4. **nextStates** is a function which calculates a set of states that are reachable by one move from Player p in the state s. To do so, the function receives a state **s $\\in$ States** and a player **p $\\in$ Players**. The signature is given as follows:\n\n$$nextStates: States \\times Players \\rightarrow 2^{States}$$\n\n5. **finished** is a function that takes a state **s $\\in$ States** and checks if the game is finished, meaning that one of the players has emptied all their houses. The signature is: \n<br><br>\n$$finished: States \\rightarrow \\mathbb{B}$$\n<br>\nThe function finished is used to compute a set TerminalStates that contains all states from a finished game. This set is defined as follows: \n<br><br>\n$$TerminalStates:= \\{s \\in States | finished(s)\\}$$\n<br>\n6. **utility** is a function that calculates the value of the game for a player. Therefore, the function takes a state **s $\\in$ TerminalStates** and a player **p $\\in$ Players**. The value that the function returns is an element from the set **{-1, 0, 1}**. The player p has lost the game when the function returns -1. If the function returns 1, the player has won the game and if the value is 0, the game ends in a draw. The signature for the function is:\n\n$$utility: TerminalStates \\times Players \\rightarrow \\{-1, 0. 1\\}$$\n\nsource: https://github.com/karlstroetmann/Artificial-Intelligence/blob/master/Lecture-Notes/artificial-intelligence.pdf, S.87, Abruf am 06.02.2022",
   "metadata": {
    "cell_id": "00002-64cc3c2b-13f0-4191-a76c-c4445977d712",
    "deepnote_cell_type": "markdown",
    "deepnote_cell_height": 837.8333129882812
   }
  },
  {
   "cell_type": "markdown",
   "source": "# Project Structure\n\nThis notebook implements the core of the Kalah game project as it holds all relevant definitions and classes. \n\nFirst, the **global variables** are defined. These are used by several of the classes but not changed by them. The global variables contain the number of seeds which each player has at the beginning of the game as this number could vary from the standard value four to change the game difficulty. Other global variables are the start state of the game and a variable to help matching a state to the letter representation of the game board.\n\nIn the next section, the **global functions** are defined. These functions contain the basic game mechanics, for example how one move is made or which states can be reached from a specific game state. Additionally, they help calculating the current value of the game for one of the players and can determine if the game is finished. These global functions are not contained in the game class as they are not only used during the game, but also by the different AI player classes to analyze the game state and calculate their next moves. \n\nAfter all of the global definitions are done, the different classes are defined, starting with the different <tt>Player</tt> classes and finishing with the <tt>Game</tt> class.\n\nAll of the specific **<tt>Player</tt> classes** are subclasses from the class <tt>Player</tt>. With this implementation it is very easy to have any combination of player types in the game as they all function the same way. The core mechanic of each <tt>Player</tt> type is defined by the method `choose_house`. This method determines how this type of player chooses their next house when it is their turn. The <tt>Player</tt> classes included in this project are a <tt>Human Player</tt> class where a human decides based on a UI which house they choose next, and four different AI player classes to play against: <tt>Random_AI Player</tt>, <tt>Minimax Player</tt>, <tt>AlphaBeta Player</tt> and <tt>Scout Player</tt>. Additionally, there is a log system applied in the project with which games can be saved to a file and replayed. For this reason there is also a <tt>Repeated Player</tt> class.\n\nThe last class which is defined in this core notebook is the **<tt>Kalah_Game</tt> class**. An object of this class configures and runs one game. The configurations include the players which are given at initialization as well as a display mode which determines whether the status of the game should be printed to the console, visualized using the Visualization notebook or if it should not be shown at all, for example if two AIs compete against each other. In addition, the <tt>Kalah_Game</tt> class handles the file logging if required.",
   "metadata": {
    "cell_id": "00003-1b61c251-9262-4c52-a07b-bdc857bc4dbe",
    "deepnote_cell_type": "markdown",
    "deepnote_cell_height": 597.0333251953125
   }
  },
  {
   "cell_type": "markdown",
   "source": "# Global Definitions\n\n## Global Variables\n\nAdditionally to the classes, there are three global variables:\n- `gSeedStartNumber`\n- `gStartState`\n- `gOrder`\n- `gCounts`\n\nThe global variable `gSeedStartNumber` defines the number of seeds in every house at the start of the game. By the use of this variable it is possible to play the game in different difficulties. The standard value is four seeds per house.\n\nThe global variable `gStartState` generates the start state of the game from the variable `gSeedStartNumber`. As explained above, this results in the start state for the value four being:\n\n$$[[4,4,4,4,4,4,0], [4,4,4,4,4,4,0]]$$\n\nThe global variable `gOrder` has the purpose to help converting the state of the game board, which is represented by a nested list, to letters. The letter representation is mainly for the UI, but also distributes to print and logging messages being easier to humanly comprehend.\n\nThe global variable `gCounts` is used to count the number of node inspections the different AI's perform.",
   "metadata": {
    "cell_id": "00004-d869a495-adcb-4d67-a1c8-eb2e48bb9038",
    "deepnote_cell_type": "markdown",
    "deepnote_cell_height": 538.0333251953125
   }
  },
  {
   "cell_type": "code",
   "metadata": {
    "cell_id": "74169c8214d240dca5cf78484e4a594e",
    "deepnote_to_be_reexecuted": false,
    "execution_millis": 0,
    "execution_start": 1654329611774,
    "source_hash": "8dfa01dc",
    "tags": [],
    "deepnote_cell_type": "code",
    "deepnote_cell_height": 80.83332824707031
   },
   "source": "gSeedStartNumber = 4",
   "execution_count": 2,
   "outputs": []
  },
  {
   "cell_type": "code",
   "metadata": {
    "cell_id": "eff2ee88ea2a466cb9be4a5e6494fc61",
    "deepnote_to_be_reexecuted": false,
    "execution_millis": 5,
    "execution_start": 1654329611775,
    "source_hash": "84a6c5f3",
    "tags": [],
    "deepnote_cell_type": "code",
    "deepnote_cell_height": 135.75,
    "deepnote_output_heights": [
     21
    ]
   },
   "source": "gStartState = [[gSeedStartNumber for _ in range(6)]+[0] for _ in range(2)]\ngStartState",
   "execution_count": 3,
   "outputs": [
    {
     "output_type": "execute_result",
     "execution_count": 3,
     "data": {
      "text/plain": "[[4, 4, 4, 4, 4, 4, 0], [4, 4, 4, 4, 4, 4, 0]]"
     },
     "metadata": {}
    }
   ]
  },
  {
   "cell_type": "code",
   "metadata": {
    "cell_id": "00005-7d50d53c-2223-4aae-804c-a5135095efa6",
    "deepnote_to_be_reexecuted": false,
    "execution_millis": 1,
    "execution_start": 1654329611782,
    "source_hash": "5e40d2f5",
    "deepnote_cell_type": "code",
    "deepnote_cell_height": 98.83332824707031
   },
   "source": "gOrder = [['A','B','C','D','E','F','O'],\n         ['a','b','c','d','e','f','o']]",
   "execution_count": 4,
   "outputs": []
  },
  {
   "cell_type": "code",
   "metadata": {
    "cell_id": "784cfa20d6ef4a2ebc45b9b755f924e6",
    "tags": [],
    "deepnote_to_be_reexecuted": false,
    "source_hash": "dc379e91",
    "execution_start": 1654329611783,
    "execution_millis": 6,
    "deepnote_cell_type": "code",
    "deepnote_cell_height": 80.83332824707031
   },
   "source": "gCounts = 0",
   "execution_count": 5,
   "outputs": []
  },
  {
   "cell_type": "markdown",
   "source": "#### Auxiliary functions for tuples and lists\n\nThe function `to_tuple` takes a list of the two lists that represent a game state. The function converts the list to a tuple of tuples and returns it.\n\nThe function `to_list` reverses that procedure.",
   "metadata": {
    "cell_id": "5affe1dd-24ec-4de4-a0dc-fefbb7c7571b",
    "tags": [],
    "deepnote_cell_type": "markdown",
    "deepnote_cell_height": 124.63333129882812
   }
  },
  {
   "cell_type": "code",
   "metadata": {
    "cell_id": "4f5ed394-fe01-4762-b519-68da15f74a76",
    "deepnote_to_be_reexecuted": false,
    "execution_millis": 4,
    "execution_start": 1654329611789,
    "source_hash": "9d49b353",
    "tags": [],
    "deepnote_cell_type": "code",
    "deepnote_cell_height": 98.83332824707031
   },
   "source": "def to_tuple(state_list):\n    return tuple(tuple(s) for s in state_list)",
   "execution_count": 6,
   "outputs": []
  },
  {
   "cell_type": "code",
   "metadata": {
    "cell_id": "b53023c8-a7bc-452c-a3c7-341959abce8e",
    "deepnote_to_be_reexecuted": false,
    "execution_millis": 4,
    "execution_start": 1654329611795,
    "source_hash": "d74c70c7",
    "tags": [],
    "deepnote_cell_type": "code",
    "deepnote_cell_height": 98.83332824707031
   },
   "source": "def to_list(state_tuple):\n    return list(list(s) for s in state_tuple)",
   "execution_count": 7,
   "outputs": []
  },
  {
   "cell_type": "markdown",
   "source": "## Global Game Functions\n\n- `other_player`\n- `move`\n    - `place_seeds`\n    - `check_another_turn`\n    - `steal_if_possible`\n- `next_states`\n- `finished`\n- `heuristic`\n- `utility`\n- `value`",
   "metadata": {
    "cell_id": "6101a602-8a4d-4adc-bd0d-4b735a1cbea7",
    "tags": [],
    "deepnote_cell_type": "markdown",
    "deepnote_cell_height": 361.83331298828125
   }
  },
  {
   "cell_type": "markdown",
   "source": "### Function: other_player\nThe function *other_player(player_num)* returns the opponent's player number to a given player number. This means that it returns 1 for the input 0, and 0 for the input 1.",
   "metadata": {
    "cell_id": "00039-12e7bf25-9084-46d1-b529-c0928d53be7c",
    "deepnote_cell_type": "markdown",
    "deepnote_cell_height": 122.63333129882812
   }
  },
  {
   "cell_type": "code",
   "metadata": {
    "cell_id": "00040-baf5d4bd-4a25-4098-b0d6-921bd14d1319",
    "deepnote_to_be_reexecuted": false,
    "execution_millis": 4,
    "execution_start": 1654329611800,
    "source_hash": "e5978022",
    "deepnote_cell_type": "code",
    "deepnote_cell_height": 98.83332824707031
   },
   "source": "def other_player(player_num):\n    return 1 - player_num ",
   "execution_count": 8,
   "outputs": []
  },
  {
   "cell_type": "markdown",
   "source": "### Function: setSeedNumber\nThe function `setSeedNumber(number)` is used to set the globale variables `gSeedStartNumber` and `gStartState` for the given number of starting seeds.\n",
   "metadata": {
    "cell_id": "7c3daf6ba6e849bc91a4a05ece2c5dea",
    "tags": [],
    "deepnote_cell_type": "markdown",
    "deepnote_cell_height": 100.23333740234375
   }
  },
  {
   "cell_type": "code",
   "metadata": {
    "cell_id": "00051b69458041749e95b7332267b5a0",
    "tags": [],
    "deepnote_to_be_reexecuted": false,
    "source_hash": "c3dc1fdf",
    "execution_start": 1654329611809,
    "execution_millis": 0,
    "deepnote_cell_type": "code",
    "deepnote_cell_height": 152.8333282470703
   },
   "source": "def setSeedNumber(number):\n    global gSeedStartNumber\n    gSeedStartNumber = number\n    global gStartState\n    gStartState = [[gSeedStartNumber for _ in range(6)]+[0] for _ in range(2)]",
   "execution_count": 9,
   "outputs": []
  },
  {
   "cell_type": "markdown",
   "source": "### Function move\nThe function `move` calculates the resulting state after a player chooses a house in their turn and whether they get another move.\nAdditionally, the function is used in `next_states` to calculate all possible following states from one state.\n\n##### The calculations are implemented based on the following game rules:\n\n1. The current player chooses one of his houses. The seeds from the chosen house are placed counterclockwise in the houses of both players and in the store of the current player. The store of the opponent is left out. Then, if no special rule applies, it is the turn of the opponent.\n\n2. If the last seed is placed in the store of the current player, they get another move.\n\n3. This rule applies if the last seed is placed in an empty house of the current player and the opposite house is not empty. If these conditions are met, the seed from this house and all seeds from the opposite house are placed in the store of the current player. Then it's the opponent's turn.\n\nTo implement the function `move`, several auxiliary functions are used:\n- `place_seeds`\n- `check_another_turn`\n- `steal_if_possible`\n<br>\n\n#### Auxiliary Function: place_seeds\nThe auxiliary function `place_seeds` is used in the function `move` to place the seeds from the chosen house according to the first game rule.\n\nTo do so, the function takes the current game state, the seed number of the chosen player house and the number of that house (choice). While placing the seeds, the state of the game is updated with every seed. Finally, after having placed all seeds, the new state is returned together with the player and house numbers of the last house in which a seed has been placed.",
   "metadata": {
    "cell_id": "2f0f52f3-7c76-449c-9b5c-86d5e114dd92",
    "tags": [],
    "deepnote_cell_type": "markdown",
    "deepnote_cell_height": 590.2333374023438
   }
  },
  {
   "cell_type": "code",
   "metadata": {
    "cell_id": "d8533e38-bcb4-48fb-9bcf-4e3f6b3c925c",
    "deepnote_to_be_reexecuted": false,
    "execution_millis": 0,
    "execution_start": 1654329611829,
    "source_hash": "ff997e69",
    "tags": [],
    "deepnote_cell_type": "code",
    "deepnote_cell_height": 368.83331298828125
   },
   "source": "def place_seeds(state, seeds, player_num, choice):\n    placing_house_num = choice\n    placing_player_num = player_num\n    # Go through houses counterclockwise\n    while seeds > 0:\n        placing_house_num += 1\n        # Skip opponent's store\n        if placing_house_num == 6 and placing_player_num != player_num:\n            continue\n        # Switch to houses of the other player\n        if placing_house_num > 6:\n            placing_house_num = 0\n            placing_player_num = other_player(placing_player_num)\n        # Add seed to the currently visited house\n        state[placing_player_num][placing_house_num] += 1\n        seeds -= 1\n    return state, placing_player_num, placing_house_num",
   "execution_count": 10,
   "outputs": []
  },
  {
   "cell_type": "markdown",
   "source": "#### Auxiliary Function: check_another_turn\n\nThe auxiliary function  `check_another_turn` checks if the current player should get another turn according to the second game rule. This is the case whenever the last seed of the player was placed in their own store.\n\nThe function receives the resulting game state after `place_seeds` was executed as well as the player and house numbers of the last house in which a seed has been placed. It returns True if the current player gets another turn and False otherwise.\n",
   "metadata": {
    "cell_id": "678560c2-22a9-41ec-9fb6-8726a27c3647",
    "tags": [],
    "deepnote_cell_type": "markdown",
    "deepnote_cell_height": 169.43333435058594
   }
  },
  {
   "cell_type": "code",
   "metadata": {
    "cell_id": "9f27fff8-3e78-45ec-ac98-b5e800ed0e50",
    "deepnote_to_be_reexecuted": false,
    "execution_millis": 0,
    "execution_start": 1654329611830,
    "source_hash": "d8acd804",
    "tags": [],
    "deepnote_cell_type": "code",
    "deepnote_cell_height": 98.83332824707031
   },
   "source": "def check_another_turn(state, player_num, last_player_num, last_house_num):\n    return last_player_num == player_num and last_house_num == 6 and not finished(state)",
   "execution_count": 11,
   "outputs": []
  },
  {
   "cell_type": "markdown",
   "source": "#### Auxiliary Function: steal_if_possible\nThe auxiliary function `steal_if_possible` checks if the current player can steal any seeds from their opponent according to the third game rule. This is the case whenever the last seed of the player was placed in an own empty house and the opponent has any seeds in the opposite house. In this case the own last seed together with the seeds of the opposite house are placed in the current player's store.\n\nThe function receives the resulting game state after `place_seeds` was executed as well as the player and house numbers of the last house in which a seed has been placed. Finally, the (potentially) new state is returned.",
   "metadata": {
    "cell_id": "9110fd64-0382-45e6-a18a-a8f3783ff3ae",
    "tags": [],
    "deepnote_cell_type": "markdown",
    "deepnote_cell_height": 191.8333282470703
   }
  },
  {
   "cell_type": "code",
   "metadata": {
    "cell_id": "4bff61b6-74aa-452c-a37a-dca0f61b8206",
    "deepnote_to_be_reexecuted": false,
    "execution_millis": 1,
    "execution_start": 1654329611830,
    "source_hash": "b5b4722",
    "tags": [],
    "deepnote_cell_type": "code",
    "deepnote_cell_height": 350.83331298828125
   },
   "source": "def steal_if_possible(state, player_num, last_player_num, last_house_num):\n    state = copy.deepcopy(state)\n    if last_house_num == 6 or player_num != last_player_num:\n        return state\n    last_house_seeds = state[player_num][last_house_num]\n    other_player_num = other_player(player_num)\n    opponent_house_num = 5-last_house_num\n    last_house_opponent_seeds = state[other_player_num][opponent_house_num]\n    if last_house_seeds == 1 and last_house_opponent_seeds != 0:                \n        # Collect all seeds to be rewarded and empty both houses\n        received_seeds = last_house_seeds + last_house_opponent_seeds\n        state[other_player_num][opponent_house_num] = 0\n        state[player_num][last_house_num] = 0\n        # Award all the seeds to the current player's store\n        state[player_num][6] += received_seeds\n    return state",
   "execution_count": 12,
   "outputs": []
  },
  {
   "cell_type": "markdown",
   "source": "#### Function move:\n\nThe function `move` uses all auxiliary functions described above to calculate the resulting game state from the current player's house choice. Therefore it is given the current game state, the number of the player who performs the move and the corresponding house number choice.\n\nAt first, the function creates a copy of the state so that no changes are directly applied to the state variable in the game class. Next, the number of seeds in the chosen house are saved and the house is emptied. Afterwards, `place_seeds` is used to place the seeds counterclockwise in the houses and `steal_if_possible` is called to perform any steals afterwards, if required. Finally, `another_turn` calculates if the current player should receive another turn and this information is returned together with the resulting new game state.",
   "metadata": {
    "cell_id": "12458659-eee9-46a7-b762-d4cce35a0a2c",
    "tags": [],
    "deepnote_cell_type": "markdown",
    "deepnote_cell_height": 214.23333740234375
   }
  },
  {
   "cell_type": "code",
   "metadata": {
    "cell_id": "00051-84307cf6-3f2c-4076-bf4a-5b2d7b66ecf9",
    "deepnote_to_be_reexecuted": false,
    "execution_millis": 1,
    "execution_start": 1654329611834,
    "source_hash": "479d46eb",
    "deepnote_cell_type": "code",
    "deepnote_cell_height": 260.83331298828125
   },
   "source": "def move(state, player_num, choice):\n    if choice not in range(6):\n        raise ValueError(\"The choice must be 0, 1, 2, 3, 4 or 5!\")\n    new_state = copy.deepcopy(state)\n    seeds = new_state[player_num][choice]\n    new_state[player_num][choice] = 0\n    # Place all seeds and check for special rules\n    new_state, last_player_num, last_house_num = place_seeds(new_state, seeds, player_num, choice)\n    new_state = steal_if_possible(new_state, player_num, last_player_num, last_house_num)\n    another_turn = check_another_turn(new_state, player_num, last_player_num, last_house_num)\n    return new_state, another_turn",
   "execution_count": 13,
   "outputs": []
  },
  {
   "cell_type": "markdown",
   "source": "### Function: next_states\n\nThe function `next_states` computes all reachable states resulting from the `state` and the player with the number `player_num`. A reachable state is a state, that can be reached during a single turn. We consider a turn to still be the same turn, even if the special rule for an extra turn applies.\n\nTo find the reachable states the function executes a `move` for each selectable house. A selectable house contains at least one seed. If the player gets another turn `next_states` is called recursively resulting state until the player does not get another turn. Afterwards all new states are saved in a list and returned. Additionally the choices required to reach each state are returned in the same list aswell.",
   "metadata": {
    "cell_id": "00058-73ff3b34-bd55-4d10-a27a-af6ea7a395e4",
    "deepnote_cell_type": "markdown",
    "deepnote_cell_height": 203.8333282470703
   }
  },
  {
   "cell_type": "code",
   "metadata": {
    "cell_id": "00059-b3c036fb-5c91-4b53-a303-ccae1336b33a",
    "deepnote_to_be_reexecuted": false,
    "execution_millis": 4,
    "execution_start": 1654329611839,
    "source_hash": "26c11742",
    "deepnote_cell_type": "code",
    "deepnote_cell_height": 368.83331298828125
   },
   "source": "def next_states(state, player_num):\n    states = []\n    for choice in range(6):\n        # Check if choice is valid (at least one seed in house)\n        if state[player_num][choice] == 0:\n            continue   \n        next_state, another_turn = move(state, player_num, choice)\n\n        # Check if player has another turn\n        # If so, next_states is called recursively until the player has no other turn \n        if another_turn:\n            for s,choices in next_states(next_state, player_num):\n                states.append((s,[choice] + choices))\n        else:\n            states.append((next_state,[choice]))\n\n    return states",
   "execution_count": 14,
   "outputs": []
  },
  {
   "cell_type": "markdown",
   "source": "### Function: finished\nThe function `finished` checks if one of the players has no seeds in their house left and is therefore unable to take another turn. If this is the case, the function returns True, otherwise it returns False. ",
   "metadata": {
    "cell_id": "00052-d30a97d7-a30f-423b-9ff0-2b7a8b9d3c5f",
    "deepnote_cell_type": "markdown",
    "deepnote_cell_height": 122.63333129882812
   }
  },
  {
   "cell_type": "code",
   "metadata": {
    "cell_id": "00053-a39f0c36-fd65-463e-bf2b-3148a7d47916",
    "deepnote_to_be_reexecuted": false,
    "execution_millis": 1,
    "execution_start": 1654329611848,
    "source_hash": "8267f8c5",
    "deepnote_cell_type": "code",
    "deepnote_cell_height": 224.8333282470703
   },
   "source": "def finished(state):\n    for side in state:\n        fin = True\n        for house in side[:-1]:\n            if house != 0:\n                fin = False\n        if fin:\n            return True\n    return False",
   "execution_count": 15,
   "outputs": []
  },
  {
   "cell_type": "markdown",
   "source": "### Function: heuristic\n\nThe function `heuristic` calculates a floating number between -1.0 and 1.0 based on the value of the current game state for the current player. Therefore it recieves the current player's `player_num` and the current `state`.\n\nThere are many possible solutions to defining a heuristic. In this case, the following function is defined as the heuristic of the game:\n\n$$h_v = \\dfrac{(playerStore - opponentStore)}{(totalSeedNum - playerStore - opponentStore)}$$\n\nTo improve the accuracy of this value and limit it to a maximum of 1 and a minimum of -1 we calculate the maximum possible value for the heuristic:\n\n$$h_{max} = \\dfrac{totalSeedNum-2}{2} $$\n\nThis is correct since with a higher `playerStore` the numerator rises and the denominator becomes lower. Furthermore the function is not called if there are no seeds on either player's side, hence 2 seeds have to be substracted to account for one seed being left on both sides respectively.\n<br>Since $$h_{max} \\ge 0 $$<br> we need to add 1 so the denominator can not become 0. Therefore this function is defined as:\n\n$$h(state) = \\dfrac{h_v}{h_{max}+1}$$\n\nThis heuristic is based on the number of seeds contained in the player's stores in relation to the seeds that are left on the board and therefore still available. By using this relation, the heuristic appreciates that the value of a single seed increases in the course of the game because there are less seeds left to obtain. \n\nAn improved heuristic could also include the seeds that are in the player's houses or give special points for empty houses as they offer opportunities to steal seeds from the opponent. \n*This would make the heuristic significally more complex though.*\n\nIt is noteworthy, that the equation $$totalSeeds - playerStore - opponentStore$$\n\ncan never be 0 since the only possible scenario for that to happen is when no seeds are available on the board anymore. But if that happens this function never gets called because the function finished(state) holds true in this case.",
   "metadata": {
    "cell_id": "9331feee3dde4ba8985d393a5d6922ef",
    "tags": [],
    "deepnote_cell_type": "markdown",
    "deepnote_cell_height": 666.11669921875
   }
  },
  {
   "cell_type": "code",
   "metadata": {
    "cell_id": "32692b08eb8949d8be6cc97a5249b4dc",
    "tags": [],
    "deepnote_to_be_reexecuted": false,
    "source_hash": "40f264d7",
    "execution_start": 1654329611852,
    "execution_millis": 0,
    "deepnote_cell_type": "code",
    "deepnote_cell_height": 188.8333282470703
   },
   "source": "def heuristic(state, player_num):\n    playerStore = state[player_num][-1]\n    opponentStore = state[other_player(player_num)][-1]\n    totalSeedNum = 6*2*gSeedStartNumber\n    maximum = (totalSeedNum - 2) / 2\n    \n    return ((playerStore-opponentStore)/(totalSeedNum-playerStore-opponentStore))/(maximum + 1)",
   "execution_count": 16,
   "outputs": []
  },
  {
   "cell_type": "markdown",
   "source": "### Function: utility\nThe  function `utility` receives the number of the current player `player_num` and uses the current `state` to calculate the utility of that `state` for that player. The recieved `state` is always part of the abstract set `TerminalStates`, that was defined in the definition of the game.\n\nThe function `utility` compares the total seeds from both players (their respective stores and the remaining seeds from their houses). If the current player has more seeds than the opponent, this function returns 1. If they have less seeds than the opponent, the function returns -1. If both players have an equal amount of seeds the game is considered a draw and the number 0 is returned.     ",
   "metadata": {
    "cell_id": "00056-08bdb5a5-9aab-4114-9dc9-42156ac99995",
    "deepnote_cell_type": "markdown",
    "deepnote_cell_height": 203.8333282470703
   }
  },
  {
   "cell_type": "code",
   "metadata": {
    "cell_id": "00057-c4f03208-b88b-46ab-a794-551d6210a8b9",
    "deepnote_to_be_reexecuted": false,
    "execution_millis": 1,
    "execution_start": 1654329611890,
    "source_hash": "c684c3b3",
    "deepnote_cell_type": "code",
    "deepnote_cell_height": 224.8333282470703
   },
   "source": "def utility(state, player_num):\n    playerScore = sum(state[player_num])\n    opponentScore = sum(state[other_player(player_num)])\n    if playerScore > opponentScore:\n        return 1\n    elif playerScore == opponentScore:\n        return 0\n    else:\n        return -1",
   "execution_count": 17,
   "outputs": []
  },
  {
   "cell_type": "markdown",
   "source": "### Function: value\n",
   "metadata": {
    "cell_id": "00061-24530f64-210e-4a4c-85d0-5b29ca3cc874",
    "deepnote_cell_type": "markdown",
    "deepnote_cell_height": 61.83332824707031
   }
  },
  {
   "cell_type": "markdown",
   "source": "#### Function: memoize\n\nThe function `memoize` computes a memoized version of a function `f` that is given as a parameter. At first a dictionary named `Cache` is defined that is used as a memory cache for the function `memoized`. Everytime the function `f` gets called, this function checks whether a call with the given arguments has occured at least once before. It does so by checking the dictionary `Cache` for the given parameters.\n\nIf the check holds true, then the assigned value in the dictionary is returned and the function `f` does not execute.\n\nIf the check fails, the function `f` gets executed and a new entry is added to the dictionary, containing the given parameters and the newly computed return value.",
   "metadata": {
    "cell_id": "622ee191-539d-47f8-90e4-04386b2068f3",
    "tags": [],
    "deepnote_cell_type": "markdown",
    "deepnote_cell_height": 205.8333282470703
   }
  },
  {
   "cell_type": "code",
   "metadata": {
    "cell_id": "6b50ff50-e95e-4a8a-817e-fb11cc3adf18",
    "deepnote_to_be_reexecuted": false,
    "execution_millis": 0,
    "execution_start": 1654329611892,
    "source_hash": "d494e78e",
    "tags": [],
    "deepnote_cell_type": "code",
    "deepnote_cell_height": 332.83331298828125
   },
   "source": "Cache = {}\n\ndef memoize(f):\n    global Cache\n\n    def f_memoized(*args):\n        args = (to_tuple(args[0]),args[1],args[2])\n        if args in Cache:\n            return Cache[args]\n        \n        result = f(to_list(args[0]),args[1],args[2])\n        Cache[args] = result\n        return result\n\n    return f_memoized",
   "execution_count": 18,
   "outputs": []
  },
  {
   "cell_type": "markdown",
   "source": "The recursive function `value` takes a `state` and a `player_num`. In addition, a `limit` is given to define the recursion depth. This function has two base cases:\n\n1. If the given `state` is part of the abstract set `TerminalStates` and therefore a finished state. When this happens, the function  `utility` is called. \n2. If the given `limit` is 0 and therefore the maximum recursion limit has been reached. When this happens, the function `heuristic` gets called.\n\nIn both scenarios the global variable `gCounts` is increased by 1.\n\nIn every other case the function calls itself once for every state computed by the function `next_states`, whilst changing the `player_num` to the opponent's number. This continues until one of the base cases is reached.",
   "metadata": {
    "cell_id": "baf6a394-321d-4a9d-9abf-bbaac601c519",
    "tags": [],
    "deepnote_cell_type": "markdown",
    "deepnote_cell_height": 209.23333740234375
   }
  },
  {
   "cell_type": "code",
   "metadata": {
    "cell_id": "00062-15963ce2-44f0-41c7-8b49-eeb2bec9a42b",
    "deepnote_to_be_reexecuted": false,
    "execution_millis": 0,
    "execution_start": 1654329611893,
    "source_hash": "1f6bad1e",
    "deepnote_cell_type": "code",
    "deepnote_cell_height": 296.83331298828125
   },
   "source": "@memoize\ndef value(state, player_num, limit):\n    global gCounts\n\n    if finished(state):\n        gCounts += 1\n        return utility(state, player_num)\n    if limit == 0:\n        gCounts += 1\n        return heuristic(state, player_num)\n    \n    other = other_player(player_num)\n    return max([-value(ns, other, limit-1) for ns,_ in next_states(state, player_num)])",
   "execution_count": 19,
   "outputs": []
  },
  {
   "cell_type": "markdown",
   "source": "# Player Class\n\n#### Attributes:\n- `player_type`\n- `number`\n- `name`\n\n#### Methods:\n\n- `__init__`\n- `__str__`\n- `_available_house`\n- `choose_house`\n\nThe class <tt>Player</tt> is the abstract superclass that represents a Kalah game player. Since Kalah is a two-player zero-sum game, it consists of two players playing against each other.\n\nThe attribute `player_type` is only used in subclasses of the <tt>Player</tt> class. It contains a string representation of the name of the <tt>Player</tt> subclass. This makes it possible to print the specific type of a <tt>Player</tt> object. This is for example used in the process of creating log files. \n\nThe attribute `number` of a player has either the value 0 or 1 depending on the order in which the players take their turns. \nIf the `number` of the player is 0, they start the game by having the first turn.\nAdditionally, `number` represents the index of the `state` list which contains the player's list of house values.\nThe `number` is initially set to 0, to prevent faulty assignments of numbers during the initialization of the game. When the game gets initialized the second player automatically recieves the number 1.\n\nThe attribute `name` is a string that represents the player's name in the UI or print and logging messages.\n\n### Method: __init__\nThe method `__init__` initializes the <tt>Player</tt> object and checks if the given `name` is a string. If one of these criteria is not met, an error message is raised.\n\n### Method: __str__\nThe method `__str__` returns the `name` of the <tt>Player</tt> object for print messages.",
   "metadata": {
    "cell_id": "00006-52148c2a-42a1-498f-928f-c3e9602185a0",
    "deepnote_cell_type": "markdown",
    "deepnote_cell_height": 796.2833251953125
   }
  },
  {
   "cell_type": "code",
   "metadata": {
    "cell_id": "00007-80dcf176-adc9-4577-a325-075cde6a4c00",
    "deepnote_to_be_reexecuted": false,
    "execution_millis": 1,
    "execution_start": 1654329611894,
    "source_hash": "a86d313e",
    "deepnote_cell_type": "code",
    "deepnote_cell_height": 242.8333282470703
   },
   "source": "class Player:\n    def __init__(self, name):\n        self.number = 0\n        if isinstance(name, str):\n            self.name = name\n        else:\n            raise ValueError(\"Name must be a string!\")\n            \n    def __str__(self):\n        return self.name",
   "execution_count": 20,
   "outputs": []
  },
  {
   "cell_type": "markdown",
   "source": "### Method: _available_houses\n\nThe private method `_available_houses` receives a list which represents the player's houses and their store. The method returns a list with the indices of all houses that contain at least one seed (list indices with a value higher than zero).",
   "metadata": {
    "cell_id": "00008-a3cdebeb-230d-42ed-8a70-a40d31015d0e",
    "deepnote_cell_type": "markdown",
    "deepnote_cell_height": 122.63333129882812
   }
  },
  {
   "cell_type": "code",
   "metadata": {
    "cell_id": "00040-aeb42e82-c7f3-456a-bf2e-3ebae959350d",
    "deepnote_to_be_reexecuted": false,
    "execution_millis": 6,
    "execution_start": 1654329611895,
    "source_hash": "9ef325f0",
    "deepnote_cell_type": "code",
    "deepnote_cell_height": 134.8333282470703
   },
   "source": "def _available_houses(self, own_houses):\n    return [i for i, n in enumerate(own_houses) if n != 0]\n\nPlayer._available_houses = _available_houses",
   "execution_count": 21,
   "outputs": []
  },
  {
   "cell_type": "markdown",
   "source": "### Method: choose_house\n\nThe abstract method `choose_house` receives the current state of the Kalah board and returns the index of the chosen house from the player's house list. This method is used to distinguish the player subclasses and is therefore implemented differently in each of them. There is no basic implementation of this method in the <tt>Player</tt> class.",
   "metadata": {
    "cell_id": "00010-3a268f04-fb70-4702-8581-12a08e44ceaf",
    "deepnote_cell_type": "markdown",
    "deepnote_cell_height": 145.48333740234375
   }
  },
  {
   "cell_type": "code",
   "metadata": {
    "cell_id": "00011-066523ef-8c3e-47a8-b983-7f60276a6069",
    "deepnote_to_be_reexecuted": false,
    "execution_millis": 0,
    "execution_start": 1654329611930,
    "source_hash": "98896a25",
    "deepnote_cell_type": "code",
    "deepnote_cell_height": 134.8333282470703
   },
   "source": "def choose_house(self, current_state):\n    pass\n\nPlayer.choose_house = choose_house",
   "execution_count": 22,
   "outputs": []
  },
  {
   "cell_type": "markdown",
   "source": "## Human Player Class\n\nThe class <tt>Human</tt> inherits from <tt>Player</tt>.\nIt is used for humans playing against each other or against one of the AIs. \n\n### Method: __init__\nThe method `__init__` initializes the <tt>Human Player</tt> object calls the `__init__` function of the superclass `Player`. Additionally the variable `player_type` is set to identify the Object.\n",
   "metadata": {
    "cell_id": "00019-fe0ccafc-fbc2-427b-a592-68d9d216e326",
    "deepnote_cell_type": "markdown",
    "deepnote_cell_height": 215.93333435058594
   }
  },
  {
   "cell_type": "code",
   "metadata": {
    "cell_id": "00020-35fe8f63-685a-47b7-b765-7fd0b60fb53f",
    "deepnote_to_be_reexecuted": false,
    "execution_millis": 0,
    "execution_start": 1654329611930,
    "source_hash": "9b621107",
    "deepnote_cell_type": "code",
    "deepnote_cell_height": 152.8333282470703
   },
   "source": "class Human(Player):\n    \n    def __init__(self, name):\n        self.player_type = \"Human\"\n        super().__init__(name)",
   "execution_count": 23,
   "outputs": []
  },
  {
   "cell_type": "markdown",
   "source": "### Method: choose_house\nThe method `choose_house` for the <tt>Human</tt> class is implemented as follows:\n\nAt first the own houses are extracted from the game state and the available house indices are calculated using the method `_available_houses`. Afterwards the human player is asked to choose one of the available houses via an input field. If the player enters an invalid value, they are asked to input another value until a valid value is given. The index of the chosen house is returned.",
   "metadata": {
    "cell_id": "00021-cf566414-d74e-46ca-b9c7-cecf8c568fdc",
    "deepnote_cell_type": "markdown",
    "deepnote_cell_height": 181.88333129882812
   }
  },
  {
   "cell_type": "code",
   "metadata": {
    "cell_id": "00022-df2b72cd-61b8-4dba-82c3-094e61c56fbb",
    "deepnote_to_be_reexecuted": false,
    "execution_millis": 0,
    "execution_start": 1654329611931,
    "source_hash": "b31709cf",
    "deepnote_cell_type": "code",
    "deepnote_cell_height": 440.83331298828125
   },
   "source": "def choose_house(self, current_state):\n    own_t,store = current_state[self.number][:6],current_state[self.number][6]\n    available = self._available_houses(own_t)\n\n    i_string = \"Choose one of the available houses:\\n\"\n    for i in available:\n        i_string += f\"{gOrder[self.number][i]}, \"\n\n    choice_str = \"\"\n    letter_numbers = {gOrder[1][i]:i for i in range(6)}\n    choice_str = input(i_string[:-2]+\"\\n\").lower()\n\n    while choice_str not in [k for k in letter_numbers if letter_numbers[k] in available]:\n        print(\"Invalid Input!\")\n        choice_str = input(i_string[:-2]+\"\\n\").lower()\n\n    choice = letter_numbers[choice_str]\n    IPython.display.clear_output()\n    return choice\n    \nHuman.choose_house = choose_house",
   "execution_count": 24,
   "outputs": []
  },
  {
   "cell_type": "markdown",
   "source": "## Repeated Player Class\n\nThe class <tt>Repeated_Player</tt> inherits from <tt>Player</tt>.\nIt is used for repeating the behavior of a player from a previous game on basis of a given log file.\n\n### Method: __init__\nThe method `__init__` initializes the <tt>Repeated Player</tt> object and calls the `__init__` function of the superclass `Player`. Additionally the variable `player_type` is set to identify the Object.\n\nFurthermore the functions recieves a list of moves `logged_moves`, which is used to later on to replay the game at a different time.",
   "metadata": {
    "cell_id": "00026-8fa58f2a-aa20-41e4-9ca7-fcaed44f3d8f",
    "deepnote_cell_type": "markdown",
    "deepnote_cell_height": 252.3333282470703
   }
  },
  {
   "cell_type": "code",
   "metadata": {
    "cell_id": "00027-bdb85e54-31ec-41fe-bdf7-6f6ada13274e",
    "deepnote_to_be_reexecuted": false,
    "execution_millis": 1,
    "execution_start": 1654329611932,
    "source_hash": "7b0cf51d",
    "deepnote_cell_type": "code",
    "deepnote_cell_height": 170.8333282470703
   },
   "source": "class Repeated_Player(Player):\n    \n    def __init__(self, name, logged_moves):\n        self.player_type = \"Repeated_Player\"\n        self.moves_to_repeat = logged_moves\n        super().__init__(name)",
   "execution_count": 25,
   "outputs": []
  },
  {
   "cell_type": "markdown",
   "source": "### Method: choose_house\nThe method `choose_house` for the <tt>Repeated_Player</tt> class is implemented as follows:\n\nThe list `moves_to_repeat` is handled as a stack in this method. This means that the moves at the beginning of the list are extracted one by one. This process is repeated until the current state of the game matches the state of the last removed move from the `moves_to_repeat` list. The player's next move should now be at the beginning of the list.\n\nIn the next step, this move is also extracted from the list, but not removed as it could contain the current state for the next move of the player if they gain another turn. To make sure, that this move was actually done by this player in the logged game, the logged move player number is compared to the actual player number. If the numbers match, the choice from that move is returned.",
   "metadata": {
    "cell_id": "00028-8bfa8e52-2d15-4f8f-8266-322277a23ff6",
    "deepnote_cell_type": "markdown",
    "deepnote_cell_height": 263.08331298828125
   }
  },
  {
   "cell_type": "code",
   "metadata": {
    "cell_id": "00029-f79f2556-68e8-4963-a4d1-437eac70091c",
    "deepnote_to_be_reexecuted": false,
    "execution_millis": 2,
    "execution_start": 1654329611940,
    "source_hash": "1f15bf5",
    "deepnote_cell_type": "code",
    "deepnote_cell_height": 368.83331298828125
   },
   "source": "def choose_house(self, current_state):\n    \n    state = self.moves_to_repeat.pop(0)[2]\n    while state != current_state:\n        if len(self.moves_to_repeat) == 0:\n            raise ValueError(\"There is no move left to repeat!\")\n        state = self.moves_to_repeat.pop(0)[2]\n        \n    this_move = self.moves_to_repeat[0]\n    if this_move[0] not in (-1,self.number):\n        raise ValueError(\"This move was originally not played by this player!\")\n        \n    choice = this_move[1]\n        \n    return choice\n\nRepeated_Player.choose_house = choose_house",
   "execution_count": 26,
   "outputs": []
  },
  {
   "cell_type": "markdown",
   "source": "## Random_AI Player Class\n\nThe class <tt>Random_AI</tt> inherits from <tt>Player</tt>. It is a simple AI player implementation which chooses the houses at random.\n\n### Method: __init__\nThe method `__init__` initializes the <tt>Random_AI Player</tt> object and calls the `__init__` function of the superclass `Player`. Additionally the variable `player_type` is set to identify the Object.\n\nFurthermore this function recieves an Integer `seed` which is used to set the seed for the random number calculations provided by the `random` library.",
   "metadata": {
    "cell_id": "00030-badbced2-0020-47dd-99e3-5687174e7e0b",
    "deepnote_cell_type": "markdown",
    "deepnote_cell_height": 252.3333282470703
   }
  },
  {
   "cell_type": "code",
   "metadata": {
    "cell_id": "00031-7d3c5b0b-269f-4204-af8b-1c6eabdbb3db",
    "deepnote_to_be_reexecuted": false,
    "execution_millis": 2,
    "execution_start": 1654329611951,
    "source_hash": "fed2d468",
    "deepnote_cell_type": "code",
    "deepnote_cell_height": 224.8333282470703
   },
   "source": "import random as rn\n\nclass Random_AI(Player):\n    \n    def __init__(self, name, seed=0):\n        self.player_type = \"Random_AI\"\n        self.seed = seed\n        rn.seed(seed)\n        super().__init__(name)",
   "execution_count": 27,
   "outputs": []
  },
  {
   "cell_type": "markdown",
   "source": "### Method: choose_house\nThe method `choose_house` for the <tt>Random_AI</tt> class is implemented as follows:\n\nAt first, the own houses are extracted from the game state and the indices of the available houses are calculated using the method *_available_houses*. From this list, one is chosen at random using the function `choice` from the library `random`. Afterwards, this value is returned.",
   "metadata": {
    "cell_id": "00032-ff768f24-2df3-455c-8f0b-8011fdc47066",
    "deepnote_cell_type": "markdown",
    "deepnote_cell_height": 159.48333740234375
   }
  },
  {
   "cell_type": "code",
   "metadata": {
    "cell_id": "00033-ff262724-0eed-43ef-a372-5d1361e7a7ec",
    "deepnote_to_be_reexecuted": false,
    "execution_millis": 7,
    "execution_start": 1654329611958,
    "source_hash": "c96d833a",
    "deepnote_cell_type": "code",
    "deepnote_cell_height": 206.8333282470703
   },
   "source": "def choose_house(self, current_state):\n    own_t,safe = current_state[self.number][:6],current_state[self.number][6]\n    available = self._available_houses(own_t)\n    choice = rn.choice(available)\n\n    return choice\n\nRandom_AI.choose_house = choose_house",
   "execution_count": 28,
   "outputs": []
  },
  {
   "cell_type": "markdown",
   "source": "# Minimax Player Class",
   "metadata": {
    "cell_id": "fcf04a8a-a818-42d4-8ea0-c2f3a7455a4a",
    "tags": [],
    "deepnote_cell_type": "markdown",
    "deepnote_cell_height": 81.83332824707031
   }
  },
  {
   "cell_type": "markdown",
   "source": "The class <tt>Minimax</tt> inherits from <tt>Player</tt>. It is an AI player implementation that chooses a following state by calculating all possible next states for a defined limit depth. It then chooses the option that is valued highest, by the function `value`. In the scenario the multiple options share the highest value, one of those options is picked at random.\n\nThe class <tt>Minimax</tt> has a modified `__init__` function that takes the additional argument `limit` which is only relevant to the method `choose_house`. There, the value of `limit` defines for how many recursion steps the function `value` should be called. This means, that `limit` defines how many next game states should be calculated to form the decision of the <tt>Minimax</tt> AI.\n\nThe `limit` should be chosen carefully, as higher limits increase the recursion depth linearly and the computing time exponentially. Additionally, `limit` has to be greater than 1 at all times. \n\nIdeally `limit` should be a number from 2 - 4 (incl.) for the <tt>Minimax</tt> AI.",
   "metadata": {
    "cell_id": "00064-7ac561aa-0b28-45c9-b109-ddf0492d7828",
    "deepnote_cell_type": "markdown",
    "deepnote_cell_height": 275.23333740234375
   }
  },
  {
   "cell_type": "code",
   "metadata": {
    "cell_id": "e9dae061-9232-42f6-82bf-c6a0a2a2ab9a",
    "deepnote_to_be_reexecuted": false,
    "execution_millis": 4,
    "execution_start": 1654329611968,
    "source_hash": "d02a53d8",
    "tags": [],
    "deepnote_cell_type": "code",
    "deepnote_cell_height": 206.8333282470703
   },
   "source": "class Minimax(Player):\n    \n    def __init__(self, name, limit, seed=0):\n        self.player_type = \"Minimax\"\n        self.limit = limit\n        self.seed = seed\n        rn.seed(seed)\n        super().__init__(name)",
   "execution_count": 29,
   "outputs": []
  },
  {
   "cell_type": "markdown",
   "source": "### Method: choose_house\n\nThe method `choose_house` is the core method of the <tt>Minimax</tt> algorithm. It calculates the best choices for a <tt>Minimax</tt> player, using the previously defined functions *value(state, player_num, limit)* and *next_states(state, player_num)*.\n\nFirst, the best possible value between -1 and 1 (-1 meaning loss, 1 meaning win) that can be reached with the current state of the game is calculated. Following that, all next possible states are checked and only those are elected as eligible, which reach the previously calculated best possible value.\n\nAfterwards, the best choice is being made by comparing all eligible choices for the highest player's Kalah store value.",
   "metadata": {
    "cell_id": "ea046153-9726-436b-b20a-bf47a21188b9",
    "tags": [],
    "owner_user_id": "239986da-4d54-40b6-a333-38b7fc4b6fc0",
    "deepnote_cell_type": "markdown",
    "deepnote_cell_height": 432.2833251953125
   }
  },
  {
   "cell_type": "code",
   "metadata": {
    "cell_id": "6537ac49-bc9e-4f28-94d1-179fc448c345",
    "deepnote_to_be_reexecuted": false,
    "execution_millis": 7,
    "execution_start": 1654329611974,
    "source_hash": "e63d397f",
    "tags": [],
    "deepnote_cell_type": "code",
    "deepnote_cell_height": 350.83331298828125
   },
   "source": "def choose_house(self, current_state):\n    \n    NS = next_states(current_state, self.number)\n    bestVal = value(current_state, self.number,self.limit)\n\n    BestChoices = [choices[0] for state,choices in NS if -value(state, other_player(self.number),self.limit-1) == bestVal]\n    \n    if len(BestChoices) == 0:\n        raise ValueError(f'No choice for Minimax found! \\nbestVal: {bestVal}\\nBestChoices: {BestChoices}\\nnext_states: {NS}')\n\n    # Find best choice, where number of seeds in own Store is maximized (out of next_states)\n    best_choice = rn.choice(BestChoices)\n\n    return best_choice\n\nMinimax.choose_house = choose_house",
   "execution_count": 30,
   "outputs": []
  },
  {
   "cell_type": "markdown",
   "source": "# AlphaBeta Player Class",
   "metadata": {
    "cell_id": "00058-ffc305ce-cccc-4315-93cb-0c34969d99c5",
    "tags": [],
    "deepnote_cell_type": "markdown",
    "deepnote_cell_height": 81.83332824707031
   }
  },
  {
   "cell_type": "markdown",
   "source": "The class <tt>AlphaBeta</tt> inherits from <tt>Player</tt>. It is an AI player implementation which chooses a following state by calculating all possible next states for a defined limit depth. It then chooses the option which guarantees them a higher number of seeds in their store than their opponent. If there are several options, the choice which results in the highest number of seeds in the player's store is chosen.",
   "metadata": {
    "cell_id": "00059-74f581a6-401f-46cf-bba7-98c2e9c24ca5",
    "deepnote_cell_type": "markdown",
    "deepnote_cell_height": 97.48333740234375
   }
  },
  {
   "cell_type": "code",
   "metadata": {
    "cell_id": "00060-c215b791-4684-48d9-b12f-d263202f0fdb",
    "deepnote_to_be_reexecuted": false,
    "execution_millis": 4,
    "execution_start": 1654329611982,
    "source_hash": "322edff9",
    "tags": [],
    "deepnote_cell_type": "code",
    "deepnote_cell_height": 206.8333282470703
   },
   "source": "class AlphaBeta(Player):\n    \n    def __init__(self, name, limit, seed=0):\n        self.player_type = \"AlphaBeta\"\n        self.limit = limit\n        self.seed = seed\n        rn.seed(seed)\n        super().__init__(name)",
   "execution_count": 31,
   "outputs": []
  },
  {
   "cell_type": "markdown",
   "source": "### AlphaBeta algorithm: \n\nAlphaBeta is an optimization technique for the Minimax algorithm. A disadvantage of the Minimax algorithm is that it checks all the nodes, which takes a long time. With the AlphaBeta algorithm the correct Minimax decision can be found with less node inspections due to the possibility of pruning branches of the game tree. The AphaBeta algorithm ignores nodes that don't have an impact on finding the best move.  \nThe algorithm takes two additional arguments $\\alpha$ and $\\beta$. These values are used as lower and upper boundaries for the value of a state. $\\alpha$ is the highest value for the maximizing function that has been found, and $\\beta$ is the lowest value for the minimizing function that has been found. When the condition $\\beta$<=$\\alpha$ is met, the adjacent nodes don't need to be evaluated.\n\nThe AlphaBeta algorithm consists of the functions *evaluate*, *maxValue* and *minValue* which are explained in the following section. The implementation of the AlphaBeta algorithm is depth limited because it would take far to long to calculate every game path to it's terminal state. It also uses progressive deepening and move ordering which are explained in more detail in the following.",
   "metadata": {
    "cell_id": "3910a9b3375b4c37bb2f5b9986c94951",
    "tags": [],
    "deepnote_cell_type": "markdown",
    "deepnote_cell_height": 293.433349609375
   }
  },
  {
   "cell_type": "markdown",
   "source": "### Function: evaluate\nThe function *evaluate* takes seven arguments:\n- *state* is the state of the game,\n- *player_num* is either 0 or 1 depending on whose perspective is being evaluated\n- *playing_player* is either 0 or 1 depending on whose turn it currently is\n- *limit* is an integer to define the recursion depth limit\n- *f* is a function which is either the function *minValue* or *maxValue*\n- *alpha* is the lower bound\n- *beta* is the upper bound\n\n\nThe main purpose of evaluate is to implement a better version of Memoization for the Alpha-Beta-Search.\n\nIf *evaluate* recieves a state s, that is not already in the cache it calls the function f with all the other parameters left.The function *evaluate* uses a global variable gCache which is used to save the results of *evaluate*. The cache is implemented as a dictionary with the states, player_num, playing_player and the limit as keys. The stored values are pairs of a flag $\\in$ {$\\geq$, =, $\\leq$} and a variable v which is the result of the function *evaluate*.  \n\nIf the tuple of the given state s, the player_num, the playing_player and the limit is already defined in gCache, the function *evaluate* uses the stored flag and value v as follows:\n\n1. If the flag shows that the value is exact, v can be returned:<br><br>\n    $$gCache[s] = ('=', v) \\implies evaluate(s, player\\_num, playing\\_player, limit, f, \\alpha, \\beta) = v$$<br><br>\n\n2. If the flag shows that the value is an upper bound the procedure works as follows:\n    \n    A. the value is less or equal than $\\alpha$. The true value of the state is less or equal than $\\alpha$ and can be returned:<br>\n    <br>$$gCache[s] = ('\\leq', v) \\land v \\leq \\alpha \\implies evaluate(s, player\\_num, playing\\_player, limit, f, \\alpha, \\beta) = v$$<br>\n    \n    B. the value is between $\\alpha$ and $\\beta$. The true value of the state is less or equal than v. The interval [$\\alpha$,$\\beta$] is transformed to [$\\alpha$,v]:<br>\n    <br>$$gCache[s] = ('\\leq', v) \\land \\alpha < v < \\beta \\implies evaluate(s, player\\_num, playing\\_player, limit, f, \\alpha, \\beta) = f(s, player\\_num, playing\\_player, limit, \\alpha, v)$$<br>\n    \n    C. the value is bigger or equal than $\\beta$. The value doesn't help and so the the interval is left at [$\\alpha$,$\\beta$]:<br>\n    <br>$$gCache[s] = ('\\leq', v) \\land v \\geq \\beta \\implies evaluate(s, player\\_num, playing\\_player, limit, f, \\alpha, \\beta) = f(s, player\\_num, playing\\_player, limit, \\alpha, \\beta)$$<br>  \n<br>\n\n3. If the flag shows that the value is a lower bound the procedure works as follows:\n    \n    A. the value is greater or equal than $\\beta$. The true value of the state is bigger or equal than $\\beta$ and can be returned:<br>\n    <br>$$gCache[s] = ('\\geq', v) \\land v \\geq \\beta \\implies evaluate(s, player\\_num, playing\\_player, limit, f, \\alpha, \\beta) = v$$<br>\n    \n    B. the value is between $\\alpha$ and $\\beta$. The true value of the state is bigger or equal than v. The interval [$\\alpha$,$\\beta$] is transformed to [v,$\\beta$]:<br>\n    <br>$$gCache[s] = ('\\geq', v) \\land \\alpha < v < \\beta \\implies evaluate(s, player\\_num, playing\\_player, limit, f, \\alpha, \\beta) = f(s, player\\_num, playing\\_player, limit, v, \\beta)$$<br>\n    \n    C. the value is less or equal than $\\alpha$. The value doesn't help and so the the interval is left at [$\\alpha$,$\\beta$]:<br>\n    <br>$$gCache[s] = ('\\geq', v) \\land v \\leq \\alpha \\implies evaluate(s, player\\_num, playing\\_player, limit, f, \\alpha, \\beta) = f(s, player\\_num, playing\\_player, limit, \\alpha, \\beta)$$<br>\n\n",
   "metadata": {
    "cell_id": "bc624f2e823f46d89c2eca09cac21575",
    "tags": [],
    "deepnote_cell_type": "markdown",
    "deepnote_cell_height": 1157.433349609375
   }
  },
  {
   "cell_type": "code",
   "metadata": {
    "cell_id": "f8d391a8f291471ea9a7bd8505ee871a",
    "tags": [],
    "deepnote_to_be_reexecuted": false,
    "source_hash": "a52c6579",
    "execution_start": 1654329611990,
    "execution_millis": 11,
    "deepnote_cell_type": "code",
    "deepnote_cell_height": 692.8333129882812
   },
   "source": "gCache = {}\ndef evaluate(state, player_num, playing_player, limit, f, alpha=-1, beta=1):\n    \n    global gCache\n    state_tuple = to_tuple(state)\n    if (state_tuple, player_num, playing_player, limit) in gCache:\n        flag, v = gCache[(state_tuple, player_num, playing_player, limit)]\n        if flag == '=':\n            return v\n        if flag == '≤':\n            if v <= alpha:\n                return v\n            elif v < beta: # alpha < v\n                w = f(state, player_num, playing_player, limit, alpha, v)\n                store_cache(state_tuple, player_num, playing_player, limit, alpha, v, w)\n                return w\n            else: # beta <= v\n                w = f(state, player_num, playing_player, limit, alpha, beta)\n                store_cache(state_tuple, player_num, playing_player, limit, alpha, beta, w)\n                return w\n        if flag == '≥':\n            if beta <= v:\n                return v\n            elif alpha < v: # v < beta\n                w = f(state, player_num, playing_player, limit, v, beta)\n                store_cache(state_tuple, player_num, playing_player, limit, v, beta, w)\n                return w\n            else: # v <= alpha\n                w = f(state, player_num, playing_player, limit, alpha, beta)\n                store_cache(state_tuple, player_num, playing_player, limit, alpha, beta, w)\n                return w\n    else: # no value stored in gCache for state_tuple\n        v = f(state, player_num, playing_player, limit, alpha, beta)\n        store_cache(state_tuple, player_num, playing_player, limit, alpha, beta, v)\n        return v",
   "execution_count": 32,
   "outputs": []
  },
  {
   "cell_type": "markdown",
   "source": "### Function: store_cache\nThe function *store_cache* is an auxiliary function that takes all parameters from evaluate and stores them in the global Cache which is part of the Memoization process.",
   "metadata": {
    "cell_id": "e44e5fe658854fa09eae225c14dcf645",
    "tags": [],
    "deepnote_cell_type": "markdown",
    "deepnote_cell_height": 122.63333129882812
   }
  },
  {
   "cell_type": "code",
   "metadata": {
    "cell_id": "5e9cbe8bc9a44fab8ea0b92b2774ef27",
    "tags": [],
    "deepnote_to_be_reexecuted": false,
    "source_hash": "d2aad1f0",
    "execution_start": 1654329612001,
    "execution_millis": 0,
    "deepnote_cell_type": "code",
    "deepnote_cell_height": 206.8333282470703
   },
   "source": "def store_cache(state, player_num, playing_player, limit, alpha, beta, v):\n    global gCache\n    if   v <= alpha:\n        gCache[(state, player_num, playing_player, limit)] = ('≤', v)\n    elif v <  beta: # alpha < v\n        gCache[(state, player_num, playing_player, limit)] = ('=', v)\n    else: # beta <= v\n        gCache[(state, player_num, playing_player, limit)] = ('≥', v)",
   "execution_count": 33,
   "outputs": []
  },
  {
   "cell_type": "markdown",
   "source": "### Functions: maxValue and minValue\nThe functions *maxValue* and *minValue* take six arguments:\n- *state* is the state of the game,\n- *player_num* is either 0 or 1 depending on whose perspective is being evaluated\n- *playing_player* is either 0 or 1 depending on whose turn it currently is\n- *limit* is an integer to define the recursion depth limit\n- *alpha* is the lower bound (further referred to as $\\alpha$)\n- *beta* is the upper bound (further referred to as $\\beta$)\n\nWhen the game reaches a finished state the utility is returned. If the limits reaches 0 the heurisitc is returned. Then the states following the current state are iterated. The evaluate function is called for each state. Depending on max- or minValue the value resulting from evaluate is compared to $\\alpha$ or $\\beta$. If value falls below alpha or exceeds beta the value is returned. Otherwise the maximum of $\\alpha$ and value or the minimum of $\\beta$ and value is returned.      ",
   "metadata": {
    "cell_id": "e5d2be19602246eaad058b3ab81a86a9",
    "tags": [],
    "deepnote_cell_type": "markdown",
    "deepnote_cell_height": 344.83331298828125
   }
  },
  {
   "cell_type": "markdown",
   "source": "The functions *minValue* and *maxValue* have three actions but the first two actions are similar for both functions:\n\n1. When the given state s is a terminal state or the depth limit is zero, the Minimax value function is called to calculate the utility (if s $\\in$ TerminalStates) or heuristic (if limit is zero) of s: <br>\n\n    $$finished(s) \\lor (limit = 0) \\implies minValue(state, player\\_num, playing\\_player, limit, \\alpha, \\beta) = value(s, playing\\_player,  limit)$$\n\n    The same signature is true for *maxValue*.\n<br>\n\n2. The following states are stored in a heap to perform move ordering. This means that the successor states are sorted based on the existing information in gCache. If a tuple of a successor state and the fitting player_num, playing_player and limit is already in the cache this gives information on the value of this successor state. This information is used to sort the successor states in the PrioQueue **NS_PrioQueue** with using the flag and the cached values as the ordering of the queue. If a successor state is not cached already, the tuple ('=', 0) is used as a default. By using this method, the successor states which are most likely to bring the most value for the current player are evaluated first. This could prevent further unnessecary evaluations of worse successor states. Move ordering only works because of the progressive deepening which is performed by the function pd_evaluate which is explained further in the next section.\n<br>\n  \n3. As long as there are successor states in **NS_PrioQueue** left, the next successor state ns is extracted from **NS_PrioQueue** and the value v as result of calling *evaluate* with ns and *minValue* (in case of *maxValue*) or *maxValue* (in case of *minValue*) is calculated. Then the following rules apply:\n\n    **A. In case of *maxValue*:** <br>\n    $$ (\\exists ns \\in NS\\_PrioQueue: v \\ge \\beta) \\implies maxValue(s, player\\_num, playing\\_player, limit, \\alpha, \\beta) = v $$<br>\n    $$ (\\forall ns \\in NS\\_PrioQueue: v \\lt \\beta) \\implies maxValue(s, player\\_num, playing\\_player, limit, \\alpha, \\beta) = \\alpha $$\n    Between each iteration, $\\alpha$ is updated to the higher value of the previous $\\alpha$ and the new v.\n\n    **B. In case of *minValue*:** <br>\n    $$ (\\exists ns \\in NS\\_PrioQueue: v \\le \\alpha) \\implies maxValue(s, player\\_num, playing\\_player, limit, \\alpha, \\beta) = v $$<br>\n    $$ (\\forall ns \\in NS\\_PrioQueue: v \\gt \\alpha) \\implies maxValue(s, player\\_num, playing\\_player, limit, \\alpha, \\beta) = \\beta $$\n    <br> Between each iteration, $\\beta$ is updated to the lower value of the previous $\\beta$ and the new v.\n",
   "metadata": {
    "cell_id": "624da8d348784bf5b5d6a1b9473b38b8",
    "tags": [],
    "deepnote_cell_type": "markdown",
    "deepnote_cell_height": 663.0333251953125
   }
  },
  {
   "cell_type": "code",
   "metadata": {
    "cell_id": "537b1b25999f44f6b5413699d94239e9",
    "tags": [],
    "deepnote_to_be_reexecuted": false,
    "source_hash": "d9bc9298",
    "execution_start": 1654329612006,
    "execution_millis": 7,
    "deepnote_cell_type": "code",
    "deepnote_cell_height": 332.83331298828125
   },
   "source": "def maxValue(state, player_num, playing_player, limit, alpha, beta):\n    if finished(state) or limit==0:\n        return value(state,playing_player,limit)\n    \n    NS_PrioQueue = []\n    for ns,_ in next_states(state, player_num):\n        heapq.heappush(NS_PrioQueue, (-gCache.get((to_tuple(ns),other_player(player_num),playing_player,limit-2),('=',0))[1], ns))\n\n    while NS_PrioQueue != []:\n        _, ns = heapq.heappop(NS_PrioQueue)\n        v = evaluate(ns, other_player(player_num), playing_player, limit-1, minValue, alpha, beta)\n        if v >= beta:\n            return v\n        alpha = max(alpha, v)\n    return alpha",
   "execution_count": 34,
   "outputs": []
  },
  {
   "cell_type": "code",
   "metadata": {
    "cell_id": "2d4c0fe150e5455382d8dcbceef3ac55",
    "tags": [],
    "deepnote_to_be_reexecuted": false,
    "source_hash": "281d3f45",
    "execution_start": 1654329612045,
    "execution_millis": 1,
    "deepnote_cell_type": "code",
    "deepnote_cell_height": 332.83331298828125
   },
   "source": "def minValue(state, player_num, playing_player, limit, alpha, beta):\n    if finished(state) or limit==0:\n        return value(state,playing_player,limit)\n    \n    NS_PrioQueue = []\n    for ns,_ in next_states(state, player_num):\n        heapq.heappush(NS_PrioQueue, (-gCache.get((to_tuple(ns),other_player(player_num),playing_player,limit-2),('=',0))[1], ns))\n\n    while NS_PrioQueue != []:\n        _, ns = heapq.heappop(NS_PrioQueue)\n        v = evaluate(ns, other_player(player_num), playing_player, limit-1, maxValue, alpha, beta)\n        if v <= alpha:\n            return v\n        beta = min(beta, v)\n    return beta",
   "execution_count": 35,
   "outputs": []
  },
  {
   "cell_type": "markdown",
   "source": "### Function: pd_evaluate\n\nThe function *pd_evaluate* is responsible for performing the progressive deepening of the AlphaBeta algorithm. The main idea behind progressive deepening is to not only evaluate the value of a state in the given limit, but to iteratively increase the limit and evaluate the value for each of these iterations. At first sight this seems to meen a huge increase of node inspections and total calculations. This should not be the case though, because of the memoization due to the function *evaluate* and the cache *gCache*. Instead, the node inspections can be decreased because the evaluation of each limit can use the results from the previous limit calculations by pre-sorting the successor states (performing move ordering) as explained previously.",
   "metadata": {
    "cell_id": "92d2da2764ca46989761a71aab533618",
    "tags": [],
    "deepnote_cell_type": "markdown",
    "deepnote_cell_height": 189.8333282470703
   }
  },
  {
   "cell_type": "code",
   "source": "def pd_evaluate(state, player_num, playing_player, limit, f, alpha=-1, beta=1):\n    global gCache\n    for l in range(limit+1):\n        value = evaluate(state, player_num, playing_player, l, f, alpha, beta)\n        if value in [-1, 1]:\n             return value\n    return value",
   "metadata": {
    "cell_id": "3197a5f4a4ba429f8be410177556db20",
    "tags": [],
    "deepnote_cell_type": "code",
    "deepnote_cell_height": 174
   },
   "outputs": [],
   "execution_count": null
  },
  {
   "cell_type": "markdown",
   "source": "### Method: choose_house\nThe method *choose_house(current_state)* functions similarly to the other AI Player Classes.\n\nFor AlphaBeta the only difference is that the function *evaluate* is called to determine the values of a state and therefore make a decision based on that.\n",
   "metadata": {
    "cell_id": "00061-a1b26093-6325-4291-91c4-334e295bd2d1",
    "tags": [],
    "deepnote_cell_type": "markdown",
    "deepnote_cell_height": 136.63333129882812
   }
  },
  {
   "cell_type": "code",
   "metadata": {
    "cell_id": "00066-561390ca-ae97-4cf2-a5c8-157a558916e8",
    "deepnote_to_be_reexecuted": false,
    "execution_millis": 0,
    "execution_start": 1654329612046,
    "source_hash": "58e3523d",
    "tags": [],
    "deepnote_cell_type": "code",
    "deepnote_cell_height": 368.83331298828125
   },
   "source": "def choose_house(self, current_state):\n    \n    NS = next_states(current_state, self.number)\n\n    bestVal =  pd_evaluate(current_state, self.number, self.number, self.limit, maxValue, -1, 1)\n\n    BestChoices = [choices[0] for next_state,choices in NS if pd_evaluate(next_state, other_player(self.number), self.number, self.limit-1, minValue, -1, 1) == bestVal]\n\n    if len(BestChoices) == 0:\n        raise ValueError(f'No choice for AlphaBeta found! \\nbestVal: {bestVal}\\nBestChoices: {BestChoices}\\nnext_states: {NS}')#\n\n    # Find best choice, where number of seeds in own Store is maximized (out of next_states)\n    best_choice = rn.choice(BestChoices)\n\n    return best_choice\n\nAlphaBeta.choose_house = choose_house",
   "execution_count": 36,
   "outputs": []
  },
  {
   "cell_type": "markdown",
   "source": "# Scout Player Class",
   "metadata": {
    "cell_id": "964b782c01d049d582a36d9a1fb8268d",
    "tags": [],
    "deepnote_cell_type": "markdown",
    "deepnote_cell_height": 81.83332824707031
   }
  },
  {
   "cell_type": "markdown",
   "source": "The class <tt>Scout</tt> inherits from <tt>Player</tt>. It is an implementation of an AI Player that makes game decisions based on the [Scout algorithm](https://www.aaai.org/Papers/AAAI/1980/AAAI80-041.pdf). Scout calculates the best possible outcome for the Player and makes the best decision regarding the current state of the game.\n\nThe Scout algorithm consists of the core function EVAL and the auxiliary function TEST which are explained in more detail in the following section. Like the AlphaBeta implementation, the implementation of the Scout algorithm is depth limited because it would take far to long to calculate every game path to it's terminal state.",
   "metadata": {
    "cell_id": "ae1b16e680c343b29772be71aa726fc1",
    "deepnote_cell_type": "markdown",
    "deepnote_cell_height": 156.28334045410156
   }
  },
  {
   "cell_type": "code",
   "metadata": {
    "cell_id": "3d0f385a7d6b45b799ea65a5d8eafe80",
    "tags": [],
    "deepnote_to_be_reexecuted": false,
    "source_hash": "48c9c3da",
    "execution_start": 1654329612047,
    "execution_millis": 0,
    "deepnote_cell_type": "code",
    "deepnote_cell_height": 206.8333282470703
   },
   "source": "class Scout(Player):\n    \n    def __init__(self, name, limit, seed=0):\n        self.player_type = \"Scout\"\n        self.limit = limit\n        self.seed = seed\n        rn.seed(seed)\n        super().__init__(name)",
   "execution_count": 37,
   "outputs": []
  },
  {
   "cell_type": "markdown",
   "source": "### Function: TEST\nThe function *TEST(state, v, player_num, playing_player, limit, op)* takes six arguments:\n- *state* is the state of the game,\n- *v* is the given reference value,\n- *player_num* is either 0 or 1 depending on whose perspective is being evaluated\n- *playing_player* is either 0 or 1 depending on whose turn it currently is\n- *limit* is an integer to define the recursion depth limit\n- *op* is a function used to compare the value *v* with the computed value of the given *state*\n    - op can either be a *greaterThan* comparison or a *greaterOrEquals* comparison\n\nTEST is an auxiliary function for the main Scout algorithm function EVAL. TEST has the purpose to check if the given state satisfies the inequality **value(state) > v** (or ≥, depending on the given mathmatical operator function *op*) for a defined recursion depth *limit*. As a result, TEST returns either **True** or **False**. \n\nTEST is a recursive function which works as follows:\n\n1. If *state* $\\in$ TerminalStates or the maximal recursion depth is reached, **value(state)** is calculated and the inequality **op(value(state), v)** is evaluated.<br><br>\n\n2. Otherwise, the list of successor states **NS** from *state* is calculated with the function *next_states*. Afterwards, the function TEST checks, whether the state value should be maximized or minized in this invocation.<br></br>\n\n    **A. player_num = playing_player**: <br>\n    The value should be maximized. TEST iterates through **NS** so that the following rules apply:<br>\n        \n    $$ \\exists s_{n} \\in NS: TEST(s_{n}, v, other\\_player(player\\_num), playing\\_player, limit-1, op)) $$<br>$$ \\implies TEST(state, v, player\\_num, playing\\_player, limit, op) := True $$ **(I.)**\n    \n    $$ (\\forall s_{n} \\in NS: \\neg TEST(s_{n}, v, other_player(player_num), playing_player, limit-1, op)) $$<br>$$ \\implies TEST(state, v, player_num, playing_player, limit, op) := False $$ **(II.)**\n\n\n    **B. $\\neg$ (player_num = playing_player)**: <br>\n    The value should be minimized. TEST iterates through **NS** so that the following rules apply:<br>\n\n    $$ \\exists s_{n} \\in NS: \\neg TEST(s_{n}, v, other\\_player(player\\_num), playing\\_player, limit-1, op)) $$<br>$$ \\implies TEST(state, v, player\\_num, playing\\_player, limit, op) := False $$ **(I.)**\n    \n    $$ (\\forall s_{n} \\in NS: TEST(s_{n}, v, other_player(player_num), playing_player, limit-1, op)) $$<br>$$ \\implies TEST(state, v, player_num, playing_player, limit, op) := True $$ **(II.)**\n  \nIt is very important to note that regarding the signatures **A. I.** and **B. I.** only the first successor state for which the revursive call of TEST returns the in the condition specified needed result is relevant. If the condition is fulfilled, the iteration through the list **NS** can be stopped early which means that the number of node inspections is reduced at this point. The advantage from this reduction is especially high if progressive deepening is used for the Scout algorithm as the successor states are presorted in the **NS** list.",
   "metadata": {
    "cell_id": "1b54abe6aa2d48728fb9ebf1ff871735",
    "tags": [],
    "deepnote_cell_type": "markdown",
    "deepnote_cell_height": 969.63330078125
   }
  },
  {
   "cell_type": "markdown",
   "source": "#### Function: memoize_test\nThe function *memoize_test* is an implementation of memoization for the function *TEST*.\nTherefore function calls are cached and when the same call is made more than once, the already cached value is returned instead of computing the same result again.",
   "metadata": {
    "cell_id": "100d51f2cbc14b9e8794903b5fbde9f6",
    "tags": [],
    "deepnote_cell_type": "markdown",
    "deepnote_cell_height": 110.63333129882812
   }
  },
  {
   "cell_type": "code",
   "metadata": {
    "cell_id": "784d1fdb86a74393887a441b60e7029c",
    "tags": [],
    "deepnote_to_be_reexecuted": false,
    "source_hash": "b4dc1460",
    "execution_start": 1654329612052,
    "execution_millis": 0,
    "deepnote_cell_type": "code",
    "deepnote_cell_height": 332.83331298828125
   },
   "source": "Cache_test = {}\n\ndef memoize_test(f):\n    global Cache_test\n\n    def f_memoized(*args):\n        args = (to_tuple(args[0]),args[1],args[2],args[3],args[4],args[5])\n        if args in Cache_test:\n            return Cache_test[args]\n        \n        result = f(to_list(args[0]),args[1],args[2],args[3],args[4],args[5])\n        Cache_test[args] = result\n        return result\n\n    return f_memoized",
   "execution_count": 38,
   "outputs": []
  },
  {
   "cell_type": "code",
   "metadata": {
    "cell_id": "f2584d0348024d56a005ff8cfe217f77",
    "tags": [],
    "deepnote_to_be_reexecuted": false,
    "source_hash": "b3990224",
    "execution_start": 1654329612062,
    "execution_millis": 0,
    "deepnote_cell_type": "code",
    "deepnote_cell_height": 386.83331298828125
   },
   "source": "def TEST(state, v, player_num, playing_player, limit, op):\n   \n    # Base Case\n    if finished(state) or limit == 0:\n        return op(value(state, playing_player, limit), v)\n\n    ns = next_states(state,player_num)\n    # if player_num == playing_player then the value of the state should be maximized\n    if player_num == playing_player:\n        for next_state,_ in ns:\n            if TEST(next_state, v, other_player(player_num), playing_player, limit-1, op):\n                return True\n        return False\n    else:\n        for next_state,_ in ns:\n            if not TEST(next_state, v, other_player(player_num), playing_player, limit-1, op):\n                return False\n        return True",
   "execution_count": 39,
   "outputs": []
  },
  {
   "cell_type": "markdown",
   "source": "### Function: EVAL\nThe function *EVAL(state, player_num, playing_player, limit)* takes four arguments:\n- *state* is the state of the game,\n- *player_num* is either 0 or 1 depending on whose perspective is being evaluated\n- *playing_player* is either 0 or 1 depending on whose turn it currently is\n- *limit* is an integer to define the recursion depth limit\n\nThe function EVAL is the core function of the Scout algorithm. Similar to the Minimax *value* function and the AlphaBeta *evaluate* function, EVAL calculates the best possible value for *playing_player* recursively in the game state *state* and returns it. The function is depth limited by *limit* and therefore the value is only calculated based on states which are desirable in *limit* steps. \n\nThe main advantage of EVAL in comparison to Minimax is that not all successor states are necessarily evaluated but the first successor. For all following successor states, EVAL uses the function TEST to determine if it is worth evaluating this successor node in more detail. This way, many node inspections are left out, especially when the successor states are pre-sorted due to progressive deepening. \n\nEVAL is a recursive function which works as follows:\n\n1. If *state* $\\in$ TerminalStates or the maximal recursion depth is reached, **value(state)** is calculated and returned.<br><br>\n\n2. Otherwise, the list of successor states **NS** from *state* is calculated using the function *next_states*. Afterwards, the first successor from the list is extracted and evaluated by recursevly calling the EVAL function. This value is set as the initial **best_val**.<br><br>\n\n3. In the next step, the EVAL function iterates the list **NS** to possibly improve the value of **best_val** further. Therefore, the following rules are applied:\n\n    For $s_{n} \\in$ **NS** with $n \\in$ {1, ..., k}, k being the number of states in **NS**, holds:\n    \n    $$ ((player\\_num = playing\\_player) \\land TEST(s_{n}, best\\_val, opponent, playing\\_player, limit-1, \\gt)) $$ <br>\n    $$ \\implies best\\_val := EVAL(s_{n}, other\\_player(player\\_num), playing\\_player, limit-1) $$\n    \n    $$ (\\neg (player\\_num = playing\\_player) \\land \\neg TEST(s_{n}, best\\_val, opponent, playing\\_player, limit-1, \\ge)) $$ <br>\n    $$ \\implies best\\_val := EVAL(s_{n}, other\\_player(player\\_num), playing\\_player, limit-1) $$\n    <br><br>\n4. After iterating all states from **NS**, EVAL returns the resulting best value **best_val**.\n\nEventhough in the Scout algorithm some states need to be visited more than one time as they might be inspected by EVAL and TEST, an exact mathematical analysis from the [research paper](https://www.aaai.org/Papers/AAAI/1980/AAAI80-041.pdf) from Judea Pearl shows that Scout still is optimal in it's branching factor, which makes it very efficient as can is demonstrated in the notebook 'AIComparisons'.\n",
   "metadata": {
    "cell_id": "fd79ca0f5e4b41a3a4050539b0276c5f",
    "tags": [],
    "owner_user_id": "f69dee13-5c5e-4b97-89fa-71f96690ed33",
    "deepnote_cell_type": "markdown",
    "deepnote_cell_height": 849.0333251953125
   }
  },
  {
   "cell_type": "markdown",
   "source": "#### Function: memoize_eval\nThe function *memoize_eval* is an implementation of memoization for the function *EVAL*. Therefore function calls are cached and when the same call is made more than once, the already cached value is returned instead of computing the same result again.",
   "metadata": {
    "cell_id": "ad854e77217347e099d359de768d1246",
    "tags": [],
    "deepnote_cell_type": "markdown",
    "deepnote_cell_height": 110.63333129882812
   }
  },
  {
   "cell_type": "code",
   "metadata": {
    "cell_id": "4743a284701f43c3b909c4005b0bbf24",
    "tags": [],
    "deepnote_to_be_reexecuted": false,
    "source_hash": "763c74b1",
    "execution_start": 1654329612068,
    "execution_millis": 8,
    "deepnote_cell_type": "code",
    "deepnote_cell_height": 332.83331298828125
   },
   "source": "Cache_eval = {}\n\ndef memoize_eval(f):\n    global Cache_eval\n\n    def f_memoized(*args):\n        args = (to_tuple(args[0]),args[1],args[2],args[3])\n        if args in Cache_eval:\n            return Cache_eval[args]\n        \n        result = f(to_list(args[0]),args[1],args[2],args[3])\n        Cache_eval[args] = result\n        return result\n\n    return f_memoized",
   "execution_count": 41,
   "outputs": []
  },
  {
   "cell_type": "code",
   "metadata": {
    "cell_id": "53afb4ffdc4649f68705816d27809f07",
    "tags": [],
    "deepnote_to_be_reexecuted": false,
    "source_hash": "9b20b197",
    "execution_start": 1654329612095,
    "execution_millis": 0,
    "deepnote_cell_type": "code",
    "deepnote_cell_height": 728.8333129882812
   },
   "source": "@memoize_eval\ndef EVAL(state, player_num, playing_player, limit):\n  \n    # Base Case\n    if finished(state) or limit == 0:\n        return value(state, playing_player, limit)\n\n    ns = next_states(state,player_num)\n    NS_PrioQueue = []\n\n    factor = 1\n    if player_num == playing_player:\n        factor = -1\n\n    for s,_ in ns:\n        heapq.heappush(NS_PrioQueue, (factor * Cache_eval.get((to_tuple(s),other_player(player_num),playing_player,limit-2), 0), s))\n\n    _,S_1 = heapq.heappop(NS_PrioQueue)\n    opponent = other_player(player_num)\n    best_val = EVAL(S_1, opponent, playing_player, limit-1)\n\n    while NS_PrioQueue != []:\n        _,S_k = heapq.heappop(NS_PrioQueue)\n        if player_num == playing_player:\n            if TEST(S_k, best_val, opponent, playing_player, limit-1, operator.gt):\n                new_best_val = EVAL(S_k, opponent, playing_player, limit-1)\n                if new_best_val <= best_val:\n                    raise Exception(\"TEST with > not working properly\")\n                best_val = new_best_val\n        else:\n            if not TEST(S_k, best_val, opponent, playing_player, limit-1, operator.ge):\n                new_best_val = EVAL(S_k, opponent, playing_player, limit-1)\n                if new_best_val >= best_val:\n                    raise Exception(\"TEST with >= not working properly\")\n                best_val = new_best_val\n    \n    return best_val",
   "execution_count": 42,
   "outputs": []
  },
  {
   "cell_type": "markdown",
   "source": "### Function: PD_EVAL\n\nTODO!",
   "metadata": {
    "cell_id": "26175ad2263e4ebd9ad6dcb2612975c5",
    "tags": [],
    "deepnote_cell_type": "markdown",
    "deepnote_cell_height": 100.23333740234375
   }
  },
  {
   "cell_type": "code",
   "source": "def PD_EVAL(state, player_num, playing_player, limit):\n    for l in range(limit+1):\n        value = EVAL(state, player_num, playing_player, l)\n        if value in [-1, 1]:\n             return value\n    return value",
   "metadata": {
    "cell_id": "2b337415ead642ea8244d31802e994d4",
    "tags": [],
    "deepnote_cell_type": "code",
    "deepnote_cell_height": 156
   },
   "outputs": [],
   "execution_count": null
  },
  {
   "cell_type": "markdown",
   "source": "### Method: choose_house\nThe method *choose_house(current_state)* functions similarly to the other AI Player Classes.\n\nFor AlphaBeta the only difference is that the function *EVAL* is called to determine the values of a state and therefore make a decision based on that.\n",
   "metadata": {
    "cell_id": "93144a23ff4843f893d50698cd995a6c",
    "tags": [],
    "deepnote_cell_type": "markdown",
    "deepnote_cell_height": 136.63333129882812
   }
  },
  {
   "cell_type": "code",
   "metadata": {
    "cell_id": "c24a44425b134bcaaf9f244535e806d6",
    "deepnote_to_be_reexecuted": false,
    "source_hash": "e72e1ff1",
    "tags": [],
    "allow_embed": false,
    "execution_start": 1654329612095,
    "execution_millis": 7,
    "deepnote_cell_type": "code",
    "deepnote_cell_height": 404.83331298828125
   },
   "source": "def choose_house(self, current_state):\n    \n    NS = next_states(current_state, self.number)\n\n    bestVal =  PD_EVAL(current_state, self.number, self.number, self.limit)\n\n    BestChoices = [choices[0] for next_state,choices in NS if PD_EVAL(next_state, other_player(self.number), self.number, self.limit-1) == bestVal]\n\n    if len(BestChoices) == 0:\n        raise ValueError(f'No choice for Scout found! \\nbestVal: {bestVal}\\nBestChoices: {BestChoices}\\nnext_states: {NS}')#\n\n    # Find best choice, where number of seeds in own Store is maximized (out of next_states)\n    best_choice = rn.choice(BestChoices)\n\n    return best_choice\n\nScout.choose_house = choose_house\n\n",
   "execution_count": 43,
   "outputs": []
  },
  {
   "cell_type": "markdown",
   "source": "# Kalah_Game Class\n\n#### Attributes:\n- *state*\n- *players*\n- *current_player*\n- *display_mode*\n- *logged_moves*\n\n#### Methods:\n\n- *\\_\\_init__(players)*\n- *_show_state(state)*\n- *show_state()*\n- *start()*\n- *log_to_file(file_id)*\n\nThe class <tt>Kalah_Game</tt> is the core of the Kalah game implementation. It contains all information on the game, including the current game state.\n\nThe attribute *state* represents the state of the Kalah board which is defined by the number of seeds laying in each of the player's house and their stores. It is implemented by a nested list which contains a list for the house on each of the two players' sides. The last index of each of the lists is the store of that player. At the start of the game, where the stores are empty and there are six seeds in every house, the implemented representation of the state for example is: [[4,4,4,4,4,4,0], [4,4,4,4,4,4,0]].\n\nThe attribute *players* is a list of the two players that play the game. They must be instances of a subclass of the <tt>Player</tt> class. The order in which they take turns is determined by their <tt>Player</tt> *number*: The player with the number 0 goes first.\n\nThe attribute *current_player* has either the value 0 or 1. It takes track of which player's turn it currently is. If *current_player* has the value 0 for example, it is the turn of the player which stands at index 0 of the *players* list and therefore also has the <tt>Player</tt>'s class attribute *number* of value 0.\n\nThe attribute *display_mode* defines which way the game is displayed in the output console. The possible values are 0, 1 and 2 and are defined as follows:\n- 0: No output is displayed. The game is only logged to the log file\n- 1: The board is only displayed using the print method *_show_state*\n- 2: The board is displayed with the function *draw_board* using **ipycanvas** for rendering\n\nThe attribute *logged_moves* is a list containing a tuple for every move that is made in the game. This list is necessary for the method *log_to_file*. Each tuple has the player number of the player that have made the move at the first index, the index of the chosen house at the second index and the resulting game state as the third index. The start state is saved as the first move in the list, having -1 as the player number and -1 as the chosen house number. As Python uses references, the states are saved in this list by creating deep copies with the library **copy**. At the beginning of the game *logged_moves* looks like this:\n\n\\[(-1, -1, [[4,4,4,4,4,4,0], [4,4,4,4,4,4,0]])\\]\n\n### Method: __init__\nThe method *\\_\\_init__(players)* initializes the game by setting the *state* to the initial state (seen above), initializing a board object and setting the *players* list using the received \"players\" argument. Before setting the *players* list, the received list is checked for the number of items it contains (must be exactly 2) and if the items in the list are both instances of a <tt>Player</tt> subclass (but not of the class <tt>Player</tt> itself). In error case, matching error messages are raised.",
   "metadata": {
    "cell_id": "00037-0314b2eb-7c77-45db-9ccf-4aeec075b2a6",
    "deepnote_cell_type": "markdown",
    "deepnote_cell_height": 1090.4833984375
   }
  },
  {
   "cell_type": "code",
   "metadata": {
    "cell_id": "00038-4fae6689-c6ee-4e40-9064-ed5a491a8ad2",
    "deepnote_to_be_reexecuted": false,
    "execution_millis": 8,
    "execution_start": 1654329612103,
    "source_hash": "c59b268",
    "deepnote_cell_type": "code",
    "deepnote_cell_height": 476.83331298828125
   },
   "source": "class Kalah_Game():\n    \n    def __init__(self, players, display_mode):\n        self.state = copy.deepcopy(gStartState)\n        self.turn = 0\n        \n        if len(players) != 2:\n            raise ValueError(\"There must be exactly two players!\")\n        if not ((isinstance(players[0], Player) and type(players[0]) != Player) \n            and (isinstance(players[1], Player) and type(players[1]) != Player)):\n            raise ValueError(\"Both players must be of instances of a subclass of the class Player!\")\n        \n        players[0].number = 0\n        players[1].number = 1\n        \n        self.players = players\n        self.current_player = 0\n        \n        if display_mode not in range(3):\n            raise ValueError(\"The display mode must be 0, 1 or 2!\")\n        self.display_mode = display_mode\n        \n        self.logged_moves = [(-1,-1,copy.deepcopy(self.state))]",
   "execution_count": 44,
   "outputs": []
  },
  {
   "cell_type": "markdown",
   "source": "### Methods: show_state\nThe private method *show_state(state)* creates a formatted string which represents the received state and prints it to the console. It can be used as an alternative to the **ipycanvas** game UI.",
   "metadata": {
    "cell_id": "00041-35501014-dbb5-460e-8102-6d487e6ef662",
    "deepnote_cell_type": "markdown",
    "deepnote_cell_height": 122.63333129882812
   }
  },
  {
   "cell_type": "code",
   "metadata": {
    "cell_id": "00043-34db1702-e2d8-4abf-8943-ff1e975ec834",
    "deepnote_to_be_reexecuted": false,
    "execution_millis": 10,
    "execution_start": 1654329612111,
    "source_hash": "dda31fa8",
    "deepnote_cell_type": "code",
    "deepnote_cell_height": 350.83331298828125
   },
   "source": "def show_state(self):\n    s = f''\n\n    s += f'{self.players[0].name}:\\t\\t\\t'\n    for j in range(6,-1,-1):\n        s += f'{gOrder[0][j]}: {self.state[0][j]}  '\n    s += f'\\n'\n\n    s += f'{self.players[1].name}:\\t\\t\\t\\t'\n    for j in range(7):\n        s += f'{gOrder[1][j]}: {self.state[1][j]}  '\n    s += f'\\n'\n\n    print(s)\n    \nKalah_Game.show_state = show_state",
   "execution_count": 45,
   "outputs": []
  },
  {
   "cell_type": "markdown",
   "source": "### Method: start\nThe method *start()* starts the Kalah game. Until the game is finished (the method *_finished()* returns True), both players take turns, starting with the player with the number 0. At the start of each turn, the current game state is shown. Next, the current player chooses one of the house with the <tt>Player</tt> method *choose_house(current_state)*. Afterwards, this choice is handed to the private method *_move(player_num, choice)* which calculates the new game state. The attribute *state* is updated with this new game state. Then it is the turn of the other player. If the game is finished, the method *utility()* calculates which of the players wins the game and the result is printed to the console.",
   "metadata": {
    "cell_id": "00067-a046662e-2b5d-40aa-9ecc-2cd9ae3295a3",
    "deepnote_cell_type": "markdown",
    "deepnote_cell_height": 190.28334045410156
   }
  },
  {
   "cell_type": "code",
   "metadata": {
    "cell_id": "00068-9f5d4592-df2b-4f19-9cba-424c286f88cc",
    "deepnote_to_be_reexecuted": false,
    "execution_millis": 14,
    "execution_start": 1654329612121,
    "source_hash": "dac68585",
    "deepnote_cell_type": "code",
    "deepnote_cell_height": 908.8333129882812
   },
   "source": "def start(self):\n    while(not finished(self.state)):\n        self.turn += 1\n        if self.display_mode == 1:\n            print(\"\\nCurrent state:\")\n            self.show_state()\n            print(f\"Next is {self.players[self.current_player].name}'s turn.\")\n        elif self.display_mode == 2:\n            print(\"Current state:\")\n            draw_board(self.state,self.turn)\n            print(f\"Next is {self.players[self.current_player].name}'s turn.\")\n            time.sleep(0.05)\n        \n        choice = self.players[self.current_player].choose_house(self.state)\n        \n        if self.display_mode != 0:\n            print(f\"{self.players[self.current_player].name} chose {gOrder[self.current_player][choice]}\")\n\n        self.state, another_turn = move(self.state, self.current_player, choice)\n        # create move log\n        move_log = tuple([self.current_player, choice, copy.deepcopy(self.state)])\n        self.logged_moves.append(move_log)\n        \n        if not another_turn:\n            self.current_player = other_player(self.current_player)\n        elif another_turn and self.display_mode != 0:\n            print(f\"{self.players[self.current_player].name} gets another turn!\")\n\n    won0 = utility(self.state,0)\n    \n    if self.display_mode != 0:\n        if self.display_mode == 1:\n            print(\"\")\n            self.show_state()\n        elif self.display_mode == 2:\n            draw_board(self.state,self.turn)\n            \n        print(\"Finished Game!\")  \n        \n        if won0 == 1:\n            print(f\"{self.players[0]} wins with {sum(self.state[0])} to {sum(self.state[1])} points!\")\n        elif won0 == -1:\n            print(f\"{self.players[1]} wins with {sum(self.state[1])} to {sum(self.state[0])} points!\")\n        else:\n            print(f\"Draw!\")\n    \nKalah_Game.start = start",
   "execution_count": 46,
   "outputs": []
  },
  {
   "cell_type": "markdown",
   "source": "### Method: log_to_file\nThe method *log_to_file* creates a json file from all important game information, including the player subclass types and names as well as the different moves from the game and the winner(s). With the use of this method, played games can be saved and analyzed. The created log file is saved to the folder \"logs\" with the given file_id in the file name.",
   "metadata": {
    "cell_id": "00069-1237d702-93c1-4648-9bcc-ac8e7d9141c3",
    "deepnote_cell_type": "markdown",
    "deepnote_cell_height": 145.03334045410156
   }
  },
  {
   "cell_type": "code",
   "metadata": {
    "cell_id": "00070-dee533da-517b-471a-aeea-40f39bd1c383",
    "deepnote_to_be_reexecuted": false,
    "execution_millis": 7,
    "execution_start": 1654329612136,
    "source_hash": "803f051d",
    "deepnote_cell_type": "code",
    "deepnote_cell_height": 512.8333129882812
   },
   "source": "import json\n\ndef log_to_file(self, file_id):\n    json_dict = {\n        \"players\":{\n            0:{},\n            1:{}\n        },\n        \"moves\":self.logged_moves,\n        \"winner\":[i for i in range(2) if utility(self.state,i) != -1]\n    }\n    \n    for i in range(2):\n        json_dict[\"players\"][i][\"type\"] = self.players[i].player_type\n        json_dict[\"players\"][i][\"name\"] = self.players[i].name\n        if isinstance(self.players[i], Random_AI):\n            json_dict[\"players\"][i][\"seed\"] = self.players[i].seed\n        if isinstance(self.players[i], Minimax):\n            json_dict[\"players\"][i][\"limit\"] = self.players[i].limit\n    \n    with open(f\"logs/log_{file_id}.json\", \"w\") as f:\n        f.write(json.dumps(json_dict, indent=4))\n        f.close()\n\nKalah_Game.log_to_file = log_to_file",
   "execution_count": 47,
   "outputs": []
  },
  {
   "cell_type": "markdown",
   "source": "## Repeat Game from Log File\n\nThe function *repeat_game* takes the filename of a log file and the display mode with which the game should be repeated as the input values. It also receives the information, if included AIs should calculate their choices new or if they should just repeat the moves that are presented in the log file. The decicions of human players are always repeated based on the log file. \n\nThe function detects the player types and names from the file and creates players based on this information. The player types are only relevant for AIs if **repeat_AIs** is set to False. In all other cases, the players are created from the <tt>Repeated_Player</tt> class.\n\nIn the end, the game is initialized with the created players and the given display mode and then started.",
   "metadata": {
    "cell_id": "00085-111633e0-553e-40a1-95cf-93ee96bd5983",
    "deepnote_cell_type": "markdown",
    "deepnote_cell_height": 248.68333435058594
   }
  },
  {
   "cell_type": "code",
   "metadata": {
    "cell_id": "00086-c8ba6d0d-bd43-412a-9354-4c7572f18afc",
    "deepnote_to_be_reexecuted": false,
    "execution_millis": 0,
    "execution_start": 1654329612144,
    "source_hash": "30e0dfa0",
    "deepnote_cell_type": "code",
    "deepnote_cell_height": 512.8333129882812
   },
   "source": "def repeat_game(filename, repeat_AIs, display_mode):\n    json_dict = {}\n    \n    with open(\"logs/\"+filename) as f:\n        json_dict = json.load(f)\n    \n    players = []\n    for i in range(2):\n        i = str(i)\n        p_type = json_dict[\"players\"][i][\"type\"]\n        \n        if repeat_AIs:\n            players.append(Repeated_Player(json_dict[\"players\"][i][\"name\"],json_dict[\"moves\"]))\n        else:\n            if p_type == \"Human\":\n                players.append(Repeated_Player(json_dict[\"players\"][i][\"name\"],json_dict[\"moves\"]))\n            elif p_type == \"Random_AI\":\n                players.append(Random_AI(json_dict[\"players\"][i][\"name\"],json_dict[\"players\"][i][\"seed\"]))\n            elif p_type == \"Minimax\":\n                players.append(Minimax(json_dict[\"players\"][i][\"name\"],json_dict[\"players\"][i][\"limit\"]))\n            else:\n                raise ValueError(\"The given player type is unknown!\")\n    \n    game = Kalah_Game([players[0],players[1]],display_mode)\n    game.start()",
   "execution_count": 48,
   "outputs": []
  },
  {
   "cell_type": "markdown",
   "source": "<a style='text-decoration:none;line-height:16px;display:flex;color:#5B5B62;padding:10px;justify-content:end;' href='https://deepnote.com?utm_source=created-in-deepnote-cell&projectId=b91c3ea7-d814-439b-837a-72fdc90697b1' target=\"_blank\">\n<img alt='Created in deepnote.com' style='display:inline;max-height:16px;margin:0px;margin-right:7.5px;' src='data:image/svg+xml;base64,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' > </img>\nCreated in <span style='font-weight:600;margin-left:4px;'>Deepnote</span></a>",
   "metadata": {
    "tags": [],
    "created_in_deepnote_cell": true,
    "deepnote_cell_type": "markdown"
   }
  }
 ],
 "nbformat": 4,
 "nbformat_minor": 5,
 "metadata": {
  "deepnote": {},
  "deepnote_execution_queue": [],
  "deepnote_notebook_id": "767f6f9f-2fd2-4e35-9e91-b22ae1451d4f",
  "kernelspec": {
   "display_name": "Python 3",
   "language": "python",
   "name": "python3"
  },
  "language_info": {
   "codemirror_mode": {
    "name": "ipython",
    "version": 3
   },
   "file_extension": ".py",
   "mimetype": "text/x-python",
   "name": "python",
   "nbconvert_exporter": "python",
   "pygments_lexer": "ipython3",
   "version": "3.7.4"
  },
  "nbdime-conflicts": {
   "local_diff": [
    {
     "diff": [
      {
       "diff": [
        {
         "key": 0,
         "op": "addrange",
         "valuelist": [
          "3.9.1"
         ]
        },
        {
         "key": 0,
         "length": 1,
         "op": "removerange"
        }
       ],
       "key": "version",
       "op": "patch"
      }
     ],
     "key": "language_info",
     "op": "patch"
    }
   ],
   "remote_diff": [
    {
     "diff": [
      {
       "diff": [
        {
         "key": 0,
         "op": "addrange",
         "valuelist": [
          "3.8.12"
         ]
        },
        {
         "key": 0,
         "length": 1,
         "op": "removerange"
        }
       ],
       "key": "version",
       "op": "patch"
      }
     ],
     "key": "language_info",
     "op": "patch"
    }
   ]
  }
 }
}