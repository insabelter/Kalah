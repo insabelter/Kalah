{
 "cells": [
  {
   "cell_type": "code",
   "metadata": {
    "cell_id": "83778be5-dbbd-48b8-9522-7ba9f5847ca7",
    "deepnote_to_be_reexecuted": false,
    "execution_millis": 14360176,
    "execution_start": 1651152885170,
    "source_hash": "510cfb77",
    "deepnote_cell_type": "code",
    "deepnote_cell_height": 243,
    "deepnote_output_heights": [
     2
    ]
   },
   "source": "import math\nimport random\nimport time\nimport copy\nimport datetime as dt\nfrom IPython.core.display import HTML\nwith open('style.css', 'r') as file:\n    css = file.read()\nHTML(css)",
   "execution_count": 1,
   "outputs": [
    {
     "output_type": "execute_result",
     "execution_count": 1,
     "data": {
      "text/plain": "<IPython.core.display.HTML object>",
      "text/html": "<link href='http://fonts.googleapis.com/css?family=Alegreya+Sans:100,300,400,500,700,800,900,100italic,300italic,400italic,500italic,700italic,800italic,900italic' rel='stylesheet' type='text/css'>\n<link href='http://fonts.googleapis.com/css?family=Arvo:400,700,400italic' rel='stylesheet' type='text/css'>\n<link href='http://fonts.googleapis.com/css?family=PT+Mono' rel='stylesheet' type='text/css'>\n<link href='http://fonts.googleapis.com/css?family=Shadows+Into+Light' rel='stylesheet' type='text/css'>\n<link href='http://fonts.googleapis.com/css?family=Philosopher:400,700,400italic,700italic' rel='stylesheet' type='text/css'>\n\n<style>\n\n@font-face {\n    font-family: \"Computer Modern\";\n    src: url('http://mirrors.ctan.org/fonts/cm-unicode/fonts/otf/cmunss.otf');\n}\n\n.container { width: 100% }\n\n/* Formatting for header cells */\n.text_cell_render h1 {\n    font-family: 'Philosopher';\n    font-weight: 600;\n    font-size: 2.2em;\n    line-height: 100%;\n    color: rgb(0, 80, 120);\n    margin-bottom: 0.1em;\n    margin-top: 0.1em;\n    display: block;\n}\t\n.text_cell_render h2 {\n    font-family: 'Philosopher';\n    font-weight: 400;\n    font-size: 1.8em;\n    line-height: 100%;\n    color: rgb(0, 80, 120);\n    margin-bottom: 0.1em;\n    margin-top: 0.1em;\n    display: block;\n}\t\n\n.text_cell_render h3 {\n    font-family: 'Philosopher';\n    margin-top:12px;\n    margin-bottom: 3px;\n    font-style: italic;\n    color: rgb(0, 100, 132);\n}\n\n.text_cell_render h4 {\n    font-family: 'Philosopher', serif;\n    color: rgb(0, 100, 132);\n}\n\n.text_cell_render h5 {\n    font-family: 'Philosopher', serif;\n    margin-top:6px;\n    margin-bottom: 2px;\n    color: rgb(0, 100, 132);\n    font-style: italic;\n    display: block;\n}\n\n.text_cell_render h6 {\n    font-family: 'PT Mono', serif;\n    font-weight: 300;\n    font-size: 10pt;\n    color: grey;\n    margin-bottom: 1px;\n    margin-top: 1px;\n}\n\n.text_cell_render em {\n    font-family: 'Philosopher', serif;\n    background-color: rgb(220,235,240);\n    font-size:    110%;\n    margin-left:   2px;\n    margin-right:  2px;\n    font-weight:   100;\n    font-style: normal;\n}\n\n.text_cell_render b {\n    font-family: 'Philosopher', serif;\n    color:            rgb(255,195,195);\n    font-size:    110%;\n    margin-left:   2px;\n    margin-right:  2px;\n    font-weight:   650;\n}\n\n.text_cell_render tt {\n    background-color: rgb(235,235,235);\n    font-size:    120%;\n    margin-left:   2px;\n    margin-right:  2px;\n    font-weight:   150;\n}\n\n.Codemirror {\n    font-family: \"PT Mono\";\n    font-size: 100%;\n}\n\n</style>\n\n"
     },
     "metadata": {}
    }
   ]
  },
  {
   "cell_type": "markdown",
   "source": "# Kalah Rules\n\n### Game structure:\n<p>The playing field consists of six houses per side and additionally one large house per player at the edge, the so-called storage. At the beginning of the game, four seeds are placed in each house except the storage.</p>\n\n![title](images/Board.png)\n\n### Gameplay:\n<p>Alternately, a player selects a house on his side of the board. The player then places the seeds in the following houses in a counter-clockwise direction. If visited, a seed is placed in the own storage, the opponent's storage is left out. The player's turn ends if all seeds are placed.\n\nThere are some special rules, that apply if the last seed is placed in the player's storage or an empty player's house:\n1. If the last seed is placed in the own storage, it is the player's turn again. \n2. If the last seed is placed in an empty house on the player's own side of the board, this seed and all the seeds in the opposite house are placed in the player's storage. This can only occur if the opposite house contains atleast one seed.</p>\n\n### End of the game:\n<p>The game ends when all the houses of one player have been emptied. The opposing player then places all remaining seed in his storage.</p>\n\n### Object of the game:\n<p>The winner is the player who has more seeds in his storage at the end of the game.</p>\n\nSource: http://gambiter.com/mancala/Kalah.html (09.03.2022), http://www.iggamecenter.com/info/en/kalah.html (09.03.2022)",
   "metadata": {
    "cell_id": "00001-18d6a173-aebe-492d-9c4a-d89c70682f66",
    "deepnote_cell_type": "markdown",
    "deepnote_cell_height": 686.078125
   }
  },
  {
   "cell_type": "markdown",
   "source": "# Kalah game definition\n\n### Basic definition:\n<p>We define the game G as a six-tuple as follows so that a computer is able to play Kalah.</p>\n<br>\n<center><em>G = &ltStates, s0, Players, nextStates, finished, utility></em></center>\n\nThe components have the following meanings:\n\n1. **States** is a set that contains all possible states of the game Kalah. A state of the game is represented by a list containing two lists, representing the houses of the two players. The first six values of each list represent the number of seeds in the player's houses represented by the letters **{A, B, C, D, E, F}**. The seventh and last value stands for the number of seeds in the corresponding player's storage. The start state of the game is for example:\n\n<center><em>[[4,4,4,4,4,4,0], [4,4,4,4,4,4,0]]</em></center>\n\n2. **s0 $\\in$ States** is the start state.\n\n3. **Players** is a list that contains the players. Kalah is a game for exactly two players, therefore this game's **Players** list only contains two elements.\n4. **nextStates** is a function which calculates a set of states that are reachable by one move from Player p in the state s. To do so, the function receives a state **s $\\in$ States** and a player **p $\\in$ Players**. The formula is given as follows:\n\n<center><em>nextStates: States $\\times$ Players &rarr; 2<sup>States</sup></em></center>\n\n5. **finished** is a function that takes a state **s $\\in$ States** and checks if the game is finished, meaning that one of the players has emptied all their houses. The formula is: \n<br><br>\n<center><em>finished: States &rarr; $\\mathbb{B}$</em></center>\n<br>\nThe function finished is used to compute a set TerminalStates that contains all states from a finished game. This set is defined as follows: \n<br><br>\n<center><em>TerminalStates:= {s $\\in$ States | finished(s)}</em></center>\n<br>\n6. **utility** is a function that calculates the value of the game for a player. Therefore, the function takes a state **s $\\in$ TerminalStates** and a player **p $\\in$ Players**. The value that the function returns is an element from the set **{-1, 0, 1}**. The player p has lost the game when the function returns -1. If the function returns 1, the player has won the game and if the value is 0, the game ends in a draw. The formula for the function is:\n\n<center><em>utility: TerminalStates $\\times$ Players &rarr; {-1, 0. 1}</em></center>\n\nsource: https://github.com/karlstroetmann/Artificial-Intelligence/blob/master/Lecture-Notes/artificial-intelligence.pdf, S.87, Abruf am 06.02.2022",
   "metadata": {
    "cell_id": "00002-64cc3c2b-13f0-4191-a76c-c4445977d712",
    "deepnote_cell_type": "markdown",
    "deepnote_cell_height": 980.890625
   }
  },
  {
   "cell_type": "markdown",
   "source": "# Project Structure\n\n<b style=\"background-color:yellow; color:blue\">TODO:</b>\n\nDescribe that there are global variables, global functions and classes.\nWhy is the project structured this way?",
   "metadata": {
    "cell_id": "00003-1b61c251-9262-4c52-a07b-bdc857bc4dbe",
    "deepnote_cell_type": "markdown",
    "deepnote_cell_height": 156.78125
   }
  },
  {
   "cell_type": "markdown",
   "source": "## Global Variables\n\nAdditionally to the classes, there are three global variables:\n- *gOrder*\n- *gSeedStartNumber*\n- *gStartState*\n\nThe global variable *gOrder* has the purpose to help converting the state of the game board, which is represented by a nested list, to letters. The letter representation is mainly for the UI, but also distributes to print and logging messages being easier to humanly comprehend.\n\nThe global variable *gSeedStartNumber* defines the number of seeds in every house at the start of the game. By the use of this variable it is possible to play the game in different difficulties. The standard value is four seeds per house.\n\nThe global variable *gStartState* generates the start state of the game from the variable *gSeedStartNumber*. As explained above, this results in the start state for the value four being:\n<em>[[4,4,4,4,4,4,0], [4,4,4,4,4,4,0]]</em>\n",
   "metadata": {
    "cell_id": "00004-d869a495-adcb-4d67-a1c8-eb2e48bb9038",
    "deepnote_cell_type": "markdown",
    "deepnote_cell_height": 394.296875
   }
  },
  {
   "cell_type": "code",
   "metadata": {
    "cell_id": "74169c8214d240dca5cf78484e4a594e",
    "deepnote_to_be_reexecuted": false,
    "execution_millis": 14360073,
    "execution_start": 1651152885175,
    "source_hash": "8dfa01dc",
    "tags": [],
    "deepnote_cell_type": "code",
    "deepnote_cell_height": 81
   },
   "source": "gSeedStartNumber = 4",
   "execution_count": 2,
   "outputs": []
  },
  {
   "cell_type": "code",
   "metadata": {
    "cell_id": "eff2ee88ea2a466cb9be4a5e6494fc61",
    "deepnote_to_be_reexecuted": false,
    "execution_millis": 14360099,
    "execution_start": 1651152885190,
    "source_hash": "66fbd27",
    "tags": [],
    "deepnote_cell_type": "code",
    "deepnote_cell_height": 136.1875,
    "deepnote_output_heights": [
     21.1875
    ]
   },
   "source": "gStartState = [[gSeedStartNumber for i in range(6)]+[0] for i in range(2)]\ngStartState",
   "execution_count": 3,
   "outputs": [
    {
     "output_type": "execute_result",
     "execution_count": 3,
     "data": {
      "text/plain": "[[4, 4, 4, 4, 4, 4, 0], [4, 4, 4, 4, 4, 4, 0]]"
     },
     "metadata": {}
    }
   ]
  },
  {
   "cell_type": "code",
   "metadata": {
    "cell_id": "00005-7d50d53c-2223-4aae-804c-a5135095efa6",
    "deepnote_to_be_reexecuted": false,
    "execution_millis": 14360105,
    "execution_start": 1651152885204,
    "source_hash": "5e40d2f5",
    "deepnote_cell_type": "code",
    "deepnote_cell_height": 99
   },
   "source": "gOrder = [['A','B','C','D','E','F','O'],\n         ['a','b','c','d','e','f','o']]",
   "execution_count": 4,
   "outputs": []
  },
  {
   "cell_type": "markdown",
   "source": "## Global Game Functions\n\n- *other_player(player_num)*\n- *move(state, player_num, choice)*\n- *next_states(state, player_num)*\n- *finished(state)*\n- *utility(state, player_num)*\n- *value(state, player_num)*",
   "metadata": {
    "cell_id": "6101a602-8a4d-4adc-bd0d-4b735a1cbea7",
    "tags": [],
    "deepnote_cell_type": "markdown",
    "deepnote_cell_height": 249.34375
   }
  },
  {
   "cell_type": "markdown",
   "source": "### Function: other_player\nThe function *other_player(player_num)* returns the opponent's player number to a given player number. This means that it returns 1 for the input 0, and 0 for the input 1.",
   "metadata": {
    "cell_id": "00039-12e7bf25-9084-46d1-b529-c0928d53be7c",
    "deepnote_cell_type": "markdown",
    "deepnote_cell_height": 122.78125
   }
  },
  {
   "cell_type": "code",
   "metadata": {
    "cell_id": "00040-baf5d4bd-4a25-4098-b0d6-921bd14d1319",
    "deepnote_to_be_reexecuted": false,
    "execution_millis": 14360089,
    "execution_start": 1651152885266,
    "source_hash": "770e4d0e",
    "deepnote_cell_type": "code",
    "deepnote_cell_height": 99
   },
   "source": "def other_player(player_num):\n    return (player_num + 1) % 2",
   "execution_count": 5,
   "outputs": []
  },
  {
   "cell_type": "markdown",
   "source": "### Function move\nThe function *move* calculates the resulting state after a player choses a house in their turn and if they get another move.\nAdditionally, the function is used in *next_states* to calculate all possible following states from one state.\n\n##### The calculations are implemented based on the following game rules:\n\n1. The current player choses one of his houses. The seeds from the chosen house are placed counterclockwise in the houses of both players and in the store of the current player. The store of the opponent is left out. Then it is the turn of the opponent.\n\n2. If the last seed is placed in the store of the current player, they get another move.\n\n3. If the last seed is placed in an empty house of the current player the seed from this house and all seeds from the opposite house are place in the store of the current player. Then it's the opponent's turn.\n\nTo implement the function *move*, there are several auxiliary function used:\n- *place_seeds*\n- *check_another_turn*\n- *steal_if_possible*\n<br>\n\n#### Auxiliary Function: place_seeds\nThe auxiliary function *place_seeds* is used in the function *move* to place the seeds from the chosen house according to the first game rule.\n\nTo do so, the function takes the current game state, the seed number of the chosen player house and the number of that house (choice). While placing the seeds, the state of the game is updated with every seed. In the end, the end state after placing all seeds is returned together with the player and house numbers of the last house in which a seed has been placed.",
   "metadata": {
    "cell_id": "2f0f52f3-7c76-449c-9b5c-86d5e114dd92",
    "tags": [],
    "deepnote_cell_type": "markdown",
    "deepnote_cell_height": 612.640625
   }
  },
  {
   "cell_type": "code",
   "metadata": {
    "cell_id": "d8533e38-bcb4-48fb-9bcf-4e3f6b3c925c",
    "deepnote_to_be_reexecuted": false,
    "execution_millis": 14360089,
    "execution_start": 1651152885267,
    "source_hash": "458248c2",
    "tags": [],
    "deepnote_cell_type": "code",
    "deepnote_cell_height": 369
   },
   "source": "def place_seeds(state, seeds, player_num, choice):\n    placing_house_num = choice\n    placing_player_num = player_num\n    # Go through houses counterclockwise\n    while seeds > 0:\n        placing_house_num += 1\n        # Skip opponent's store\n        if placing_house_num == 6 and placing_player_num != player_num:\n            continue\n        # Switch to houses of the other player\n        if(placing_house_num > 6):\n            placing_house_num = 0\n            placing_player_num = other_player(placing_player_num)\n        # Add seed to the currently visited house\n        state[placing_player_num][placing_house_num] += 1\n        seeds -= 1\n    return state, placing_player_num, placing_house_num",
   "execution_count": 6,
   "outputs": []
  },
  {
   "cell_type": "markdown",
   "source": "#### Auxiliary Function: check_another_turn\n\nThe auxiliary function *check_another_turn* checks after all seeds where placed if the current player should get another turn according to the second game rule. This is the case whenever the last seed of the player was placed in their own store.\n\nThe function receives the resulting game state after *place_seeds* was executed as well as the player and house numbers of the last house in which a seed has been placed. It returns True if the current player gets another turn and False otherwise.\n",
   "metadata": {
    "cell_id": "678560c2-22a9-41ec-9fb6-8726a27c3647",
    "tags": [],
    "deepnote_cell_type": "markdown",
    "deepnote_cell_height": 169.5625
   }
  },
  {
   "cell_type": "code",
   "metadata": {
    "cell_id": "9f27fff8-3e78-45ec-ac98-b5e800ed0e50",
    "deepnote_to_be_reexecuted": false,
    "execution_millis": 14360044,
    "execution_start": 1651152885268,
    "source_hash": "d8acd804",
    "tags": [],
    "deepnote_cell_type": "code",
    "deepnote_cell_height": 99
   },
   "source": "def check_another_turn(state, player_num, last_player_num, last_house_num):\n    return last_player_num == player_num and last_house_num == 6 and not finished(state)",
   "execution_count": 7,
   "outputs": []
  },
  {
   "cell_type": "markdown",
   "source": "#### Auxiliary Function: steal_if_possible\nThe auxiliary function *steal_if_possible* checks after all seeds where placed if the current player can steal any seeds from their opponent according to the third game rule. This is the case whenever the last seed of the player was placed in an own empty house and the opponent has any seeds in the opposite house. In this case the own last seed together with the opposite seeds of the opponent are placed in the current player's store.\n\nThe function receives the resulting game state after place_seeds was executed as well as the player and house numbers of the last house in which a seed has been placed. *steal_if_possible* checks if any seeds can be stolen and updates the game state in that case. In the end, the possibly updated game state is returned.",
   "metadata": {
    "cell_id": "9110fd64-0382-45e6-a18a-a8f3783ff3ae",
    "tags": [],
    "deepnote_cell_type": "markdown",
    "deepnote_cell_height": 432.734375
   }
  },
  {
   "cell_type": "code",
   "metadata": {
    "cell_id": "4bff61b6-74aa-452c-a37a-dca0f61b8206",
    "deepnote_to_be_reexecuted": false,
    "execution_millis": 8661,
    "execution_start": 1651152885298,
    "source_hash": "b5b4722",
    "tags": [],
    "owner_user_id": "f69dee13-5c5e-4b97-89fa-71f96690ed33",
    "deepnote_cell_type": "code",
    "deepnote_cell_height": 351
   },
   "source": "def steal_if_possible(state, player_num, last_player_num, last_house_num):\n    state = copy.deepcopy(state)\n    if last_house_num == 6 or player_num != last_player_num:\n        return state\n    last_house_seeds = state[player_num][last_house_num]\n    other_player_num = other_player(player_num)\n    opponent_house_num = 5-last_house_num\n    last_house_opponent_seeds = state[other_player_num][opponent_house_num]\n    if last_house_seeds == 1 and last_house_opponent_seeds != 0:                \n        # Collect all seeds to be rewarded and empty both houses\n        received_seeds = last_house_seeds + last_house_opponent_seeds\n        state[other_player_num][opponent_house_num] = 0\n        state[player_num][last_house_num] = 0\n        # Award all the seeds to the current player's store\n        state[player_num][6] += received_seeds\n    return state",
   "execution_count": 8,
   "outputs": []
  },
  {
   "cell_type": "markdown",
   "source": "#### Function move:\n\nThe function move uses all auxiliary functions described above to calculate the resulting game state from the current player's house choice. Therefore it is given the current game state, the number of the player which performs the move and the house number which that player has chosen.\n\nAt first, the function creates a copy of the state so that no changes are directly applied to the state variable in the game class. Next, the number of seeds in the chosen house are saved and the house is emptied. Afterwards, *place_seeds* is used to place the seeds counterclockwise in the houses and *steal_if_possible* is called to perform any steals afterwards if required. In the end, *another_turn* calculates if the current player should receive another turn and this information is returned from the function *move* together with the resulting new game state.",
   "metadata": {
    "cell_id": "12458659-eee9-46a7-b762-d4cce35a0a2c",
    "tags": [],
    "deepnote_cell_type": "markdown",
    "deepnote_cell_height": 259.125
   }
  },
  {
   "cell_type": "code",
   "metadata": {
    "cell_id": "00051-84307cf6-3f2c-4076-bf4a-5b2d7b66ecf9",
    "deepnote_to_be_reexecuted": false,
    "execution_millis": 14360095,
    "execution_start": 1651152885299,
    "source_hash": "479d46eb",
    "deepnote_cell_type": "code",
    "deepnote_cell_height": 261
   },
   "source": "def move(state, player_num, choice):\n    if choice not in range(6):\n        raise ValueError(\"The choice must be 0, 1, 2, 3, 4 or 5!\")\n    new_state = copy.deepcopy(state)\n    seeds = new_state[player_num][choice]\n    new_state[player_num][choice] = 0\n    # Place all seeds and check for special rules\n    new_state, last_player_num, last_house_num = place_seeds(new_state, seeds, player_num, choice)\n    new_state = steal_if_possible(new_state, player_num, last_player_num, last_house_num)\n    another_turn = check_another_turn(new_state, player_num, last_player_num, last_house_num)\n    return new_state, another_turn",
   "execution_count": 9,
   "outputs": []
  },
  {
   "cell_type": "markdown",
   "source": "### Function: next_states\n\nThe function  next_states computes all reachable states resulting from the current player and state. that player has chosen. Therefore it is given the current game state and the number of the player who is doing the next move.\n\nTo find the reachable states the function executes a move for each possible house (that contains at least one seed). If the player gets another turn the next_states function is executed again for the resulting state until the player has finished. Then all the new states are saved in a list and returned.  ",
   "metadata": {
    "cell_id": "00058-73ff3b34-bd55-4d10-a27a-af6ea7a395e4",
    "deepnote_cell_type": "markdown",
    "deepnote_cell_height": 203.953125
   }
  },
  {
   "cell_type": "code",
   "metadata": {
    "cell_id": "00059-b3c036fb-5c91-4b53-a303-ccae1336b33a",
    "deepnote_to_be_reexecuted": false,
    "execution_millis": 14360095,
    "execution_start": 1651152885299,
    "source_hash": "26c11742",
    "deepnote_cell_type": "code",
    "deepnote_cell_height": 369
   },
   "source": "def next_states(state, player_num):\n    states = []\n    for choice in range(6):\n        # Check if choice is valid (at least one seed in house)\n        if state[player_num][choice] == 0:\n            continue   \n        next_state, another_turn = move(state, player_num, choice)\n\n        # Check if player has another turn\n        # If so, next_states is called recursively until the player has no other turn \n        if another_turn:\n            for s,choices in next_states(next_state, player_num):\n                states.append((s,[choice] + choices))\n        else:\n            states.append((next_state,[choice]))\n\n    return states",
   "execution_count": 10,
   "outputs": []
  },
  {
   "cell_type": "markdown",
   "source": "### Function: finished\nThe private function *finished()* checks if one of the players has no seeds in their house left and is therefore unable to take another turn. If this is the case, the function returns True, otherwise it returns False. ",
   "metadata": {
    "cell_id": "00052-d30a97d7-a30f-423b-9ff0-2b7a8b9d3c5f",
    "deepnote_cell_type": "markdown",
    "deepnote_cell_height": 122.78125
   }
  },
  {
   "cell_type": "code",
   "metadata": {
    "cell_id": "00053-a39f0c36-fd65-463e-bf2b-3148a7d47916",
    "deepnote_to_be_reexecuted": false,
    "execution_millis": 14360088,
    "execution_start": 1651152885323,
    "source_hash": "8267f8c5",
    "deepnote_cell_type": "code",
    "deepnote_cell_height": 225
   },
   "source": "def finished(state):\n    for side in state:\n        fin = True\n        for house in side[:-1]:\n            if house != 0:\n                fin = False\n        if fin:\n            return True\n    return False",
   "execution_count": 11,
   "outputs": []
  },
  {
   "cell_type": "markdown",
   "source": "### Function: utility\nThe  function *utility(player_num)* receives the number of the current player and uses the current state to calculate the utility of the state for that player. The function compares the seeds from both stores and returns an Integer dependent on the result. If the current player has more seeds than the opponent the function returns 1. If they own less seeds than the opponent the function returns -1 and if it is a draw the number 0 is returned.     ",
   "metadata": {
    "cell_id": "00056-08bdb5a5-9aab-4114-9dc9-42156ac99995",
    "deepnote_cell_type": "markdown",
    "deepnote_cell_height": 167.5625
   }
  },
  {
   "cell_type": "code",
   "source": "def heuristic(state, player_num):\n    playerStore = state[player_num][-1]\n    opponentStore = state[other_player(player_num)][-1]\n    totalSeedNum = 6*2*gSeedStartNumber\n    return min((playerStore-opponentStore)/(totalSeedNum/2+1), 1)",
   "metadata": {
    "cell_id": "32692b08eb8949d8be6cc97a5249b4dc",
    "tags": [],
    "deepnote_to_be_reexecuted": false,
    "source_hash": "47f258b7",
    "execution_start": 1651154656686,
    "execution_millis": 0,
    "deepnote_cell_type": "code",
    "deepnote_cell_height": 153
   },
   "outputs": [],
   "execution_count": 40
  },
  {
   "cell_type": "code",
   "metadata": {
    "cell_id": "00057-c4f03208-b88b-46ab-a794-551d6210a8b9",
    "deepnote_to_be_reexecuted": false,
    "execution_millis": 9949838,
    "execution_start": 1651152885344,
    "source_hash": "923fe415",
    "deepnote_cell_type": "code",
    "deepnote_cell_height": 261
   },
   "source": "def utility(state, player_num):\n    if not finished(state):\n        return heuristic(state, player_num)\n    playerStore = sum(state[player_num])\n    opponentStore = sum(state[other_player(player_num)])\n    if(playerStore > opponentStore):\n        return 1\n    elif(playerStore == opponentStore):\n        return 0\n    else:\n        return -1",
   "execution_count": 13,
   "outputs": []
  },
  {
   "cell_type": "markdown",
   "source": "### Function: value\n",
   "metadata": {
    "cell_id": "00061-24530f64-210e-4a4c-85d0-5b29ca3cc874",
    "deepnote_cell_type": "markdown",
    "deepnote_cell_height": 62
   }
  },
  {
   "cell_type": "markdown",
   "source": "#### Auxiliary functions for the method value\n\nThe method *to_tuple* takes a list of the two lists that represent a game state. The function converts the list to a tuple of tuples and returns it.\n\nThe method *to_list* does that procedure vice versa.",
   "metadata": {
    "cell_id": "5affe1dd-24ec-4de4-a0dc-fefbb7c7571b",
    "tags": [],
    "deepnote_cell_type": "markdown",
    "deepnote_cell_height": 147.171875
   }
  },
  {
   "cell_type": "code",
   "metadata": {
    "cell_id": "4f5ed394-fe01-4762-b519-68da15f74a76",
    "deepnote_to_be_reexecuted": false,
    "execution_millis": 14360111,
    "execution_start": 1651152885365,
    "source_hash": "9d49b353",
    "tags": [],
    "owner_user_id": "7c84efd6-9dfe-4698-8d7f-9a6307a4d527",
    "deepnote_cell_type": "code",
    "deepnote_cell_height": 99
   },
   "source": "def to_tuple(state_list):\n    return tuple(tuple(s) for s in state_list)",
   "execution_count": 14,
   "outputs": []
  },
  {
   "cell_type": "code",
   "metadata": {
    "cell_id": "b53023c8-a7bc-452c-a3c7-341959abce8e",
    "deepnote_to_be_reexecuted": false,
    "execution_millis": 14360104,
    "execution_start": 1651152885381,
    "source_hash": "d74c70c7",
    "tags": [],
    "deepnote_cell_type": "code",
    "deepnote_cell_height": 99
   },
   "source": "def to_list(state_tuple):\n    return list(list(s) for s in state_tuple)",
   "execution_count": 15,
   "outputs": []
  },
  {
   "cell_type": "markdown",
   "source": "#### Function: memoize\n\nThe function *memoize* computes a memoized version of a function f that is given as parameter. At first a dictionary named Cache is created that is used as a memory cache for the function *memoized*. At first *memoized* tries to retrieve the value of the given function f from the dictionary Cache and returns the value. If *memoize* can't retrieve a value the function f is called to compute the result and the result is stored in the Cache.   ",
   "metadata": {
    "cell_id": "622ee191-539d-47f8-90e4-04386b2068f3",
    "tags": [],
    "deepnote_cell_type": "markdown",
    "deepnote_cell_height": 155.5625
   }
  },
  {
   "cell_type": "code",
   "metadata": {
    "cell_id": "6b50ff50-e95e-4a8a-817e-fb11cc3adf18",
    "deepnote_to_be_reexecuted": false,
    "execution_millis": 14360107,
    "execution_start": 1651152885400,
    "source_hash": "d494e78e",
    "tags": [],
    "deepnote_cell_type": "code",
    "deepnote_cell_height": 333
   },
   "source": "Cache = {}\n\ndef memoize(f):\n    global Cache\n\n    def f_memoized(*args):\n        args = (to_tuple(args[0]),args[1],args[2])\n        if args in Cache:\n            return Cache[args]\n        \n        result = f(to_list(args[0]),args[1],args[2])\n        Cache[args] = result\n        return result\n\n    return f_memoized",
   "execution_count": 16,
   "outputs": []
  },
  {
   "cell_type": "markdown",
   "source": "The function *value* takes a *state* and a *player*. In addition, a *limit* is given to define the recursion depth, which limits the number of next states which are calculated and evaluated. Similar to the function *utility*, the function *value* returns a value from the set {-1, 0, +1}. The base case of the recursive function *value* is the case that the game is finished or if the limit has reached the value 0. In these cases, the *utility* function is called. \n\nIn the other cases, the next states are computed for both players alternately until the limit is reached or the game reaches a finished state. Because the gains of the opponent are the losses of player p, the negative output of *value(n, o)* is taken when calculating the current game value to the opponent.   ",
   "metadata": {
    "cell_id": "baf6a394-321d-4a9d-9abf-bbaac601c519",
    "tags": [],
    "deepnote_cell_type": "markdown",
    "deepnote_cell_height": 200.734375
   }
  },
  {
   "cell_type": "code",
   "metadata": {
    "cell_id": "00062-15963ce2-44f0-41c7-8b49-eeb2bec9a42b",
    "deepnote_to_be_reexecuted": false,
    "execution_millis": 6884463,
    "execution_start": 1651152885410,
    "source_hash": "c2db97a",
    "deepnote_cell_type": "code",
    "deepnote_cell_height": 171
   },
   "source": "@memoize\ndef value(state, player_num, limit):\n    if finished(state) or limit==0:\n        return utility(state, player_num)\n    other = other_player(player_num)\n    return max([-value(ns, other, limit-1) for ns,_ in next_states(state, player_num)])",
   "execution_count": 17,
   "outputs": []
  },
  {
   "cell_type": "markdown",
   "source": "<b style=\"background-color:yellow; color:blue\">Comments:</b> \n* This is not good enough without the use of a heuristic.  If `limit == 0`, then instead of\n  returning the `utility`, a value computed by a heuristic should be computed.\n* You should analyze how much the program speeds up because of memoization.\n* Logistische Funktion von Verhältnis - 1.\n* limit -=1 muss ans Ende, oder?",
   "metadata": {
    "cell_id": "00033-b3e0cfd0-2480-4053-8580-ff9b42b7b2ea",
    "deepnote_cell_type": "markdown",
    "deepnote_cell_height": 201.34375
   }
  },
  {
   "cell_type": "markdown",
   "source": "# Player Class\n\n#### Attributes:\n- *player_type*\n- *number*\n- *name*\n\n#### Methods:\n\n- *\\_\\_init__(number, name)*\n- *\\_\\_str__()*\n- *_available_house(own_house)*\n- *choose_house(current_state)*\n\nThe class <tt>Player</tt> is the superclass which represents a Kalah game player. In Kalah there are exactly two players which compete against each other. \n\nThe attribute *player_type* is only for subclasses of the <tt>Player</tt> class. It contains a string representation of the name of the <tt>Player</tt> subclass. This makes it possible to print the specific type of a <tt>Player</tt> object. This is for example used for creating log files. \n\nThe attribute *number* of a player has either the value 0 or 1 depending on the order in which the players take their turns.\nIf the number of the player is 0, they start the game by having the first turn.\nAdditionally, *number* represents the index of the state list which contains the player's list of house values.\n\nThe attribute *name* is a string which represents the player's name in the UI or print and logging messages.\n\n### Method: __init__\nThe method *\\_\\_init__(number, name)* initializes the <tt>Player</tt> object and checks if the given *number* is either 0 or 1 and if the given *name* is a string. If one of these criteria is not met, an error message is raised.\n\n### Method: __str__\nThe method *\\_\\_str__()* defines the *name* of the <tt>Player</tt> object as their string representative for print messages.",
   "metadata": {
    "cell_id": "00006-52148c2a-42a1-498f-928f-c3e9602185a0",
    "deepnote_cell_type": "markdown",
    "deepnote_cell_height": 799.03125
   }
  },
  {
   "cell_type": "code",
   "metadata": {
    "cell_id": "00007-80dcf176-adc9-4577-a325-075cde6a4c00",
    "deepnote_to_be_reexecuted": false,
    "execution_millis": 14360049,
    "execution_start": 1651152885421,
    "source_hash": "2c2b0d32",
    "deepnote_cell_type": "code",
    "deepnote_cell_height": 333
   },
   "source": "class Player:\n    \n    def __init__(self, number, name):\n        \n        if number in [0,1]:\n            self.number = number\n        else:\n            raise ValueError(\"Number of player must be 0 or 1!\")\n        if isinstance(name, str):\n            self.name = name\n        else:\n            raise ValueError(\"Name must be a string!\")\n            \n    def __str__(self):\n        return self.name",
   "execution_count": 18,
   "outputs": []
  },
  {
   "cell_type": "markdown",
   "source": "### Method: _available_houses\n\nThe private method *_available_houses(own_houses)* receives a list which represents the player's houses and their store. The method returns a list with the indices of all houses which contain at least one seed (list indices with a value higher than null).",
   "metadata": {
    "cell_id": "00008-a3cdebeb-230d-42ed-8a70-a40d31015d0e",
    "deepnote_cell_type": "markdown",
    "deepnote_cell_height": 122.78125
   }
  },
  {
   "cell_type": "code",
   "metadata": {
    "cell_id": "00040-aeb42e82-c7f3-456a-bf2e-3ebae959350d",
    "deepnote_to_be_reexecuted": false,
    "execution_millis": 14360056,
    "execution_start": 1651152885433,
    "source_hash": "9ef325f0",
    "deepnote_cell_type": "code",
    "deepnote_cell_height": 135
   },
   "source": "def _available_houses(self, own_houses):\n    return [i for i, n in enumerate(own_houses) if n != 0]\n\nPlayer._available_houses = _available_houses",
   "execution_count": 19,
   "outputs": []
  },
  {
   "cell_type": "markdown",
   "source": "### Method: choose_house\n\nThe method *choose_house(current_state)* receives the current state of the Kalah board and returns the index of the chosen house from the player's house list. This method is used to distinguish the player subclasses and is therefore implemented differently in each of them. There is no basic implementation of this method in the <tt>Player</tt> class. This is why in the class <tt>Kalah_Game</tt> only subclasses of <tt>Player</tt> are accepted as players. Therefore, this class is intended as an abstract class.",
   "metadata": {
    "cell_id": "00010-3a268f04-fb70-4702-8581-12a08e44ceaf",
    "deepnote_cell_type": "markdown",
    "deepnote_cell_height": 169.5625
   }
  },
  {
   "cell_type": "code",
   "metadata": {
    "cell_id": "00011-066523ef-8c3e-47a8-b983-7f60276a6069",
    "deepnote_to_be_reexecuted": false,
    "execution_millis": 14360074,
    "execution_start": 1651152885483,
    "source_hash": "98896a25",
    "deepnote_cell_type": "code",
    "deepnote_cell_height": 135
   },
   "source": "def choose_house(self, current_state):\n    pass\n\nPlayer.choose_house = choose_house",
   "execution_count": 20,
   "outputs": []
  },
  {
   "cell_type": "markdown",
   "source": "## Human Player Class\n\nThe class <tt>Human</tt> inherits from <tt>Player</tt>.\nIt is used for humans playing against each other or against one of the AIs. \n\n### Method: __init__\nThe method *\\_\\_init__(number, name)* initializes the <tt>Human Player</tt> object and checks if the given *number* is either 0 or 1 and if the given *name* is a string. If one of these criteria is not met, an error message is raised. Additionally the variable player_type is set to identify the Object.\n",
   "metadata": {
    "cell_id": "00019-fe0ccafc-fbc2-427b-a592-68d9d216e326",
    "deepnote_cell_type": "markdown",
    "deepnote_cell_height": 239.5625
   }
  },
  {
   "cell_type": "code",
   "metadata": {
    "cell_id": "00020-35fe8f63-685a-47b7-b765-7fd0b60fb53f",
    "deepnote_to_be_reexecuted": false,
    "execution_millis": 14360078,
    "execution_start": 1651152885484,
    "source_hash": "bdbb780c",
    "deepnote_cell_type": "code",
    "deepnote_cell_height": 153
   },
   "source": "class Human(Player):\n    \n    def __init__(self, number, name):\n        self.player_type = \"Human\"\n        super().__init__(number, name)",
   "execution_count": 21,
   "outputs": []
  },
  {
   "cell_type": "markdown",
   "source": "### Method: choose_house\nThe method *choose_house(current_state)* for the <tt>Human</tt> class is implemented as follows:\n\nAt first the own houses are extracted from the game state and the available house indices are calculated using the method *_available_houses*. Afterwards the human player is asked to choose one of the available houses via an input field. If the player enters an invalid value, they are asked to input a value again until a valid value is given. The index of the corresponding house is returned.",
   "metadata": {
    "cell_id": "00021-cf566414-d74e-46ca-b9c7-cecf8c568fdc",
    "deepnote_cell_type": "markdown",
    "deepnote_cell_height": 204.953125
   }
  },
  {
   "cell_type": "code",
   "metadata": {
    "cell_id": "00022-df2b72cd-61b8-4dba-82c3-094e61c56fbb",
    "deepnote_to_be_reexecuted": false,
    "execution_millis": 14360086,
    "execution_start": 1651152885486,
    "source_hash": "659e93f0",
    "deepnote_cell_type": "code",
    "deepnote_cell_height": 405
   },
   "source": "def choose_house(self, current_state):\n    own_t,store = current_state[self.number][:6],current_state[self.number][6]\n    available = self._available_houses(own_t)\n\n    i_string = \"Choose one of the available houses:\\n\"\n    for i in available:\n        i_string += f\"{gOrder[self.number][i]}, \"\n\n    choice_str = \"\"\n    letter_numbers = {gOrder[1][i]:i for i in range(6)}\n    \n    while choice_str not in [k for k in letter_numbers if letter_numbers[k] in available]:\n        choice_str = input(i_string[:-2]+\"\\n\").lower()\n\n    choice = letter_numbers[choice_str]\n    IPython.display.clear_output()\n    return choice\n    \nHuman.choose_house = choose_house",
   "execution_count": 22,
   "outputs": []
  },
  {
   "cell_type": "markdown",
   "source": "## Repeated Player Class\n\nThe class <tt>Repeated_Player</tt> inherits from <tt>Player</tt>.\nIt is used for repeating the behavior of a player from a previous game on basis of a given log file.\n\n### Method: __init__\nThe method *\\_\\_init__(number, name, logged_moves)* initializes the <tt>Repeated Player</tt> object and checks if the given *number* is either 0 or 1 and if the given *name* is a string. If one of these criteria is not met, an error message is raised. Additionally the variable player_type is set to identify the Object.\n\nFurthermore the functions recieves a list of moves **logged_moves**, which is used to later on replay the game at a different time.",
   "metadata": {
    "cell_id": "00026-8fa58f2a-aa20-41e4-9ca7-fcaed44f3d8f",
    "deepnote_cell_type": "markdown",
    "deepnote_cell_height": 298.34375
   }
  },
  {
   "cell_type": "code",
   "metadata": {
    "cell_id": "00027-bdb85e54-31ec-41fe-bdf7-6f6ada13274e",
    "deepnote_to_be_reexecuted": false,
    "execution_millis": 14360103,
    "execution_start": 1651152885498,
    "source_hash": "aa9ca2b9",
    "deepnote_cell_type": "code",
    "deepnote_cell_height": 171
   },
   "source": "class Repeated_Player(Player):\n    \n    def __init__(self, number, name, logged_moves):\n        self.player_type = \"Repeated_Player\"\n        self.moves_to_repeat = logged_moves\n        super().__init__(number, name)",
   "execution_count": 23,
   "outputs": []
  },
  {
   "cell_type": "markdown",
   "source": "### Method: choose_house\nThe method *choose_house(current_state)* for the <tt>Repeated_Player</tt> class is implemented as follows:\n\nThe list *moves_to_repeat* is handled as a stack in this method. This means that one after one, the moves which stand at the beginning of the list are extracted and removed from the list. In the beginning of the method this process is repeated until the current state of the game matches the state of the last removed move from the *moves_to_repeat* list. This means, that the move which the player will do next is should now be at the beginning of the list.\n\nIn the next step, this move is also extracted from the list, but not removed as it could contain the current state for the next move of the player if they gain another turn. To make sure, that this move was actually done by this player in the logged game, the logged move player number is compared to the actual player number. If the numbers match, the choice from that move is returned.",
   "metadata": {
    "cell_id": "00028-8bfa8e52-2d15-4f8f-8266-322277a23ff6",
    "deepnote_cell_type": "markdown",
    "deepnote_cell_height": 286.125
   }
  },
  {
   "cell_type": "code",
   "metadata": {
    "cell_id": "00029-f79f2556-68e8-4963-a4d1-437eac70091c",
    "deepnote_to_be_reexecuted": false,
    "execution_millis": 14360109,
    "execution_start": 1651152885502,
    "source_hash": "1f15bf5",
    "deepnote_cell_type": "code",
    "deepnote_cell_height": 369
   },
   "source": "def choose_house(self, current_state):\n    \n    state = self.moves_to_repeat.pop(0)[2]\n    while state != current_state:\n        if len(self.moves_to_repeat) == 0:\n            raise ValueError(\"There is no move left to repeat!\")\n        state = self.moves_to_repeat.pop(0)[2]\n        \n    this_move = self.moves_to_repeat[0]\n    if this_move[0] not in (-1,self.number):\n        raise ValueError(\"This move was originally not played by this player!\")\n        \n    choice = this_move[1]\n        \n    return choice\n\nRepeated_Player.choose_house = choose_house",
   "execution_count": 24,
   "outputs": []
  },
  {
   "cell_type": "markdown",
   "source": "## Random_AI Player Class\n\nThe class <tt>Random_AI</tt> inherits from <tt>Player</tt>. It is a simple AI player implementation which chooses the houses at random.\n\n### Method: __init__\nThe method *\\_\\_init__(number, name,seed)* initializes the <tt>Random_AI Player</tt> object and checks if the given *number* is either 0 or 1 and if the given *name* is a string. If one of these criteria is not met, an error message is raised. Additionally the variable player_type is set to identify the Object.\n\nFurthermore this function recieves an Integer **seed** which is used to set the seed for the random number calculations provided by the **random** library.",
   "metadata": {
    "cell_id": "00030-badbced2-0020-47dd-99e3-5687174e7e0b",
    "deepnote_cell_type": "markdown",
    "deepnote_cell_height": 298.34375
   }
  },
  {
   "cell_type": "code",
   "metadata": {
    "cell_id": "00031-7d3c5b0b-269f-4204-af8b-1c6eabdbb3db",
    "deepnote_to_be_reexecuted": false,
    "execution_millis": 14360030,
    "execution_start": 1651152885528,
    "source_hash": "96c059a4",
    "deepnote_cell_type": "code",
    "deepnote_cell_height": 225
   },
   "source": "import random as rn\n\nclass Random_AI(Player):\n    \n    def __init__(self, number, name, seed):\n        self.player_type = \"Random_AI\"\n        self.seed = seed\n        rn.seed(seed)\n        super().__init__(number, name)",
   "execution_count": 25,
   "outputs": []
  },
  {
   "cell_type": "markdown",
   "source": "### Method: choose_house\nThe method *choose_house(current_state)* for the <tt>Random_AI</tt> class is implemented as follows:\n\nAt first, the own houses are extracted from the game state and the indices of the available houses are calculated using the method *_available_houses*. From this list, one is chosen at random using the function **choice** from the library **random**. Afterwards, this value is returned.",
   "metadata": {
    "cell_id": "00032-ff768f24-2df3-455c-8f0b-8011fdc47066",
    "deepnote_cell_type": "markdown",
    "deepnote_cell_height": 182.5625
   }
  },
  {
   "cell_type": "code",
   "metadata": {
    "cell_id": "00033-ff262724-0eed-43ef-a372-5d1361e7a7ec",
    "deepnote_to_be_reexecuted": false,
    "execution_millis": 14360046,
    "execution_start": 1651152885550,
    "source_hash": "c96d833a",
    "deepnote_cell_type": "code",
    "deepnote_cell_height": 207
   },
   "source": "def choose_house(self, current_state):\n    own_t,safe = current_state[self.number][:6],current_state[self.number][6]\n    available = self._available_houses(own_t)\n    choice = rn.choice(available)\n\n    return choice\n\nRandom_AI.choose_house = choose_house",
   "execution_count": 26,
   "outputs": []
  },
  {
   "cell_type": "markdown",
   "source": "# Minimax Player Class",
   "metadata": {
    "cell_id": "fcf04a8a-a818-42d4-8ea0-c2f3a7455a4a",
    "tags": [],
    "deepnote_cell_type": "markdown",
    "deepnote_cell_height": 82
   }
  },
  {
   "cell_type": "markdown",
   "source": "The class <tt>Minimax</tt> inherits from <tt>Player</tt>. It is an AI player implementation which chooses a following state by calculating all possible next states for a defined limit depth. It then chooses the option which guarantees them a higher number of seeds in their store than their opponent. If there are several options, the choice which results in the highest number of seeds in the player's store is chosen.\n\nThe class <tt>Minimax</tt> has a modified *\\_\\_init__* function which takes the additional argument *limit* which is only relevant to the method *choose_house*. There the value of *limit* defines, for how many recursion steps the function *value* should be called. This means that *limit* defines how many next game states should be calculated to form the decision of the <tt>Minimax</tt> AI.\n\nThe *limit* should be chosen carefully, as higher limits increase the recursion depth linearly and the computing time exponentially. Additionally, *limit* has to be greater than 1 at all times. \n\nIdeally *limit* should be a number from 2 - 4 (incl.).",
   "metadata": {
    "cell_id": "00064-7ac561aa-0b28-45c9-b109-ddf0492d7828",
    "deepnote_cell_type": "markdown",
    "deepnote_cell_height": 298.90625
   }
  },
  {
   "cell_type": "code",
   "metadata": {
    "cell_id": "e9dae061-9232-42f6-82bf-c6a0a2a2ab9a",
    "deepnote_to_be_reexecuted": false,
    "execution_millis": 0,
    "execution_start": 1651155770711,
    "source_hash": "44176920",
    "tags": [],
    "deepnote_cell_type": "code",
    "deepnote_cell_height": 207
   },
   "source": "class Minimax(Player):\n    \n    def __init__(self, number, name, limit, seed=0):\n        self.player_type = \"Minimax\"\n        self.limit = limit\n        self.seed = seed\n        rn.seed(seed)\n        super().__init__(number, name)",
   "execution_count": 42,
   "outputs": []
  },
  {
   "cell_type": "markdown",
   "source": "### Method: choose_house\nThe method *choose_house(self,current_state)* is the core method of the <tt>Minimax</tt> algorithm. It calculates the best choices for a <tt>Minimax</tt> player, using the previously defined functions *value(state, player_num, limit)* and *next_states(state, player_num)*.\n\nFirst, the best possible value from {-1, 0, 1} (meaning loss, draw or win) that can be reached with the current state of the game is calculated. Following that, all next possible states are checked and only those are elected as eligible, which reach the previously calculated best possible value.\n\nAfterwards, the best choice is being made by comparing all eligible choices for the highest player's Kalah store value.",
   "metadata": {
    "cell_id": "ea046153-9726-436b-b20a-bf47a21188b9",
    "tags": [],
    "deepnote_cell_type": "markdown",
    "deepnote_cell_height": 242.34375
   }
  },
  {
   "cell_type": "code",
   "metadata": {
    "cell_id": "6537ac49-bc9e-4f28-94d1-179fc448c345",
    "deepnote_to_be_reexecuted": false,
    "execution_millis": 10183080,
    "execution_start": 1651152885582,
    "source_hash": "c4e2a54a",
    "tags": [],
    "deepnote_cell_type": "code",
    "deepnote_cell_height": 351
   },
   "source": "def choose_house(self, current_state):\n    \n    NS = next_states(current_state, self.number)\n    bestVal = value(current_state, self.number,self.limit)\n\n    BestChoices = [choices[0] for state,choices in NS if -value(state, other_player(self.number),self.limit-1) == bestVal]\n    \n    if len(BestChoices) == 0:\n        raise ValueError(f'No choice for Minimax found! \\nbestVal: {bestVal}\\nBestChoices: {BestChoices}\\nnext_states: {NS}')\n\n    # Find best choice, where number of seeds in own Store is maximized (out of next_states)\n    best_choice = rn.choice(BestChoices)\n\n    return best_choice\n\nMinimax.choose_house = choose_house",
   "execution_count": 28,
   "outputs": []
  },
  {
   "cell_type": "markdown",
   "source": "# AlphaBeta Player Class",
   "metadata": {
    "cell_id": "00058-ffc305ce-cccc-4315-93cb-0c34969d99c5",
    "tags": [],
    "deepnote_cell_type": "markdown",
    "deepnote_cell_height": 82
   }
  },
  {
   "cell_type": "markdown",
   "source": "The class <tt>AlphaBeta</tt> inherits from <tt>Player</tt>. It is an AI player implementation which chooses a following state by calculating all possible next states for a defined limit depth. It then chooses the option which guarantees them a higher number of seeds in their store than their opponent. If there are several options, the choice which results in the highest number of seeds in the player's store is chosen.",
   "metadata": {
    "cell_id": "00059-74f581a6-401f-46cf-bba7-98c2e9c24ca5",
    "deepnote_cell_type": "markdown",
    "deepnote_cell_height": 120.5625
   }
  },
  {
   "cell_type": "code",
   "metadata": {
    "cell_id": "00060-c215b791-4684-48d9-b12f-d263202f0fdb",
    "deepnote_to_be_reexecuted": false,
    "execution_millis": 14360090,
    "execution_start": 1651152885583,
    "source_hash": "2ab3efb0",
    "tags": [],
    "deepnote_cell_type": "code",
    "deepnote_cell_height": 171
   },
   "source": "class AlphaBeta(Player):\n    \n    def __init__(self, number, name, limit):\n        self.player_type = \"AlphaBeta\"\n        self.limit = limit\n        super().__init__(number, name)",
   "execution_count": 29,
   "outputs": []
  },
  {
   "cell_type": "markdown",
   "source": "### Method: choose_house\nThe method *choose_house(self,current_state)* is the core method of the <tt>Minimax</tt> algorithm. It calculates the best choices for a <tt>Minimax</tt> player, using the previously defined functions *value(state, player_num, limit)* and *next_states(state, player_num)*.\n\nFirst, the best possible value from {-1, 0, 1} (meaning loss, draw or win) that can be reached with the current state of the game is calculated. Following that, all next possible states are checked and only those are elected as eligible, which reach the previously calculated best possible value.\n\nAfterwards, the best choice is being made by comparing all eligible choices for the highest player's Kalah store value.",
   "metadata": {
    "cell_id": "00061-a1b26093-6325-4291-91c4-334e295bd2d1",
    "tags": [],
    "deepnote_cell_type": "markdown",
    "deepnote_cell_height": 242.34375
   }
  },
  {
   "cell_type": "code",
   "metadata": {
    "cell_id": "00062-9c6dd496-5c57-4113-b5c1-757628c1eb24",
    "deepnote_to_be_reexecuted": false,
    "source_hash": "e1de8fe5",
    "execution_start": 1651152885591,
    "execution_millis": 14360088,
    "deepnote_cell_type": "code",
    "deepnote_cell_height": 243
   },
   "source": "def alphaBeta(State, player, alpha, beta):\n    if finished(State):\n        return utility(State, player)\n    val = alpha\n    for ns in next_states(State, player):\n        val = max(val, -value(ns, other(player), -beta, -alpha))\n        if val >= beta:\n            return val\n        alpha = max(val, alpha)\n    return val",
   "execution_count": 30,
   "outputs": []
  },
  {
   "outputs": [],
   "execution_count": 31,
   "cell_type": "markdown",
   "metadata": {
    "cell_id": "00063-ad6f5462-b1fa-4aca-9402-924f7bbf4598",
    "deepnote_to_be_reexecuted": false,
    "source_hash": "df874739",
    "execution_start": 1651138525405,
    "execution_millis": 1,
    "deepnote_cell_type": "markdown",
    "deepnote_cell_height": 97.171875
   },
   "source": "def value(State, player, alpha=-1, beta=1):\n    global Cache\n    if State in Cache:\n        val, a, b = Cache[State]\n        if a <= alpha and beta <= b:\n            return val\n        else:\n            alpha = min(alpha, a)\n            beta = max(beta , b)\n            val = alphaBeta(State, player, alpha, beta)\n            Cache[State] = val, alpha, beta\n            return val\n    else:\n        val = alphaBeta(State, player, alpha, beta)\n        Cache[State] = val, alpha, beta\n        return val"
  },
  {
   "cell_type": "code",
   "metadata": {
    "cell_id": "00064-36cf82fa-a477-4d89-b6e5-619c84882c25",
    "deepnote_to_be_reexecuted": false,
    "source_hash": "81cf5d59",
    "execution_start": 1651152885604,
    "execution_millis": 14268330,
    "deepnote_cell_type": "code",
    "deepnote_cell_height": 81
   },
   "source": "#def heuristic(State, player):",
   "execution_count": 31,
   "outputs": []
  },
  {
   "cell_type": "code",
   "metadata": {
    "cell_id": "00065-7f14fd15-a320-4296-90f2-3c80faadc48a",
    "deepnote_to_be_reexecuted": false,
    "source_hash": "407356a6",
    "execution_start": 1651152885610,
    "execution_millis": 14344833,
    "deepnote_cell_type": "code",
    "deepnote_cell_height": 297
   },
   "source": "def alphaBeta(State, player, limit, heuristic, alpha=-1, beta=1):\n    if finished(State):\n        return utility(State, player)\n    if limit == 0:\n        return heuristic(State, player)\n    val = alpha\n    for ns in next_states(State, player):\n        val_ns = value(ns, other(player), limit-1, heuristic, -beta, -alpha)\n        val = max(val, -val_ns)\n        if val >= beta:\n            return val\n        alpha = max(val, alpha)\n    return val",
   "execution_count": 32,
   "outputs": []
  },
  {
   "cell_type": "code",
   "metadata": {
    "cell_id": "00066-561390ca-ae97-4cf2-a5c8-157a558916e8",
    "deepnote_to_be_reexecuted": false,
    "execution_millis": 14342019,
    "execution_start": 1651152885612,
    "source_hash": "6768a402",
    "tags": [],
    "deepnote_cell_type": "code",
    "deepnote_cell_height": 351
   },
   "source": "#def choose_house(self, current_state):\n#   \n#  NS = next_states(current_state, self.number)\n# bestVal = value(current_state, self.number,self.limit)\n#\n#    BestChoices = [choices[0] for state,choices in NS if -value(state, other_player(self.number),self.limit-1) == bestVal]\n#    \n#    if len(BestChoices) == 0:\n#        raise ValueError(f'No choice for Minimax found! \\nbestVal: {bestVal}\\nBestChoices: {BestChoices}\\nnext_states: {NS}')#\n#\n    # Find best choice, where number of seeds in own Store is maximized (out of next_states)\n#    best_choice = rn.choice(BestChoices)\n#\n#    return best_choice\n\n#Minimax.choose_house = choose_house",
   "execution_count": 33,
   "outputs": []
  },
  {
   "cell_type": "markdown",
   "source": "# Kalah_Game Class\n\n#### Attributes:\n- *state*\n- *players*\n- *current_player*\n- *display_mode*\n- *logged_moves*\n\n#### Methods:\n\n- *\\_\\_init__(players)*\n- *_show_state(state)*\n- *show_state()*\n- *start()*\n- *log_to_file(file_id)*\n\nThe class <tt>Kalah_Game</tt> is the core of the Kalah game implementation. It contains all information on the game, including the current game state.\n\nThe attribute *state* represents the state of the Kalah board which is defined by the number of seeds laying in each of the player's house and their stores. It is implemented by a nested list which contains a list for the house on each of the two players' sides. The last index of each of the lists is the store of that player. At the start of the game, where the stores are empty and there are six seeds in every house, the implemented representation of the state for example is: [[4,4,4,4,4,4,0], [4,4,4,4,4,4,0]].\n\nThe attribute *players* is a list of the two players that play the game. They must be instances of a subclass of the <tt>Player</tt> class. The order in which they take turns is determined by their <tt>Player</tt> *number*: The player with the number 0 goes first.\n\nThe attribute *current_player* has either the value 0 or 1. It takes track of which player's turn it currently is. If *current_player* has the value 0 for example, it is the turn of the player which stands at index 0 of the *players* list and therefore also has the <tt>Player</tt>'s class attribute *number* of value 0.\n\nThe attribute *display_mode* defines which way the game is displayed in the output console. The possible values are 0, 1 and 2 and are defined as follows:\n- 0: No output is displayed. The game is only logged to the log file\n- 1: The board is only displayed using the print method *_show_state*\n- 2: The board is displayed with the function *draw_board* using **ipycanvas** for rendering\n\nThe attribute *logged_moves* is a list containing a tuple for every move that is made in the game. This list is necessary for the method *log_to_file*. Each tuple has the player number of the player that have made the move at the first index, the index of the chosen house at the second index and the resulting game state as the third index. The start state is saved as the first move in the list, having -1 as the player number and -1 as the chosen house number. As Python uses references, the states are saved in this list by creating deep copies with the library **copy**. At the beginning of the game *logged_moves* looks like this:\n\n\\[(-1, -1, [[4,4,4,4,4,4,0], [4,4,4,4,4,4,0]])\\]\n\n### Method: __init__\nThe method *\\_\\_init__(players)* initializes the game by setting the *state* to the initial state (seen above), initializing a board object and setting the *players* list using the received \"players\" argument. Before setting the *players* list, the received list is checked for the number of items it contains (must be exactly 2) and if the items in the list are both instances of a <tt>Player</tt> subclass (but not of the class <tt>Player</tt> itself). In error case, matching error messages are raised.",
   "metadata": {
    "cell_id": "00037-0314b2eb-7c77-45db-9ccf-4aeec075b2a6",
    "deepnote_cell_type": "markdown",
    "deepnote_cell_height": 1206.0625
   }
  },
  {
   "cell_type": "code",
   "metadata": {
    "cell_id": "00038-4fae6689-c6ee-4e40-9064-ed5a491a8ad2",
    "deepnote_to_be_reexecuted": false,
    "execution_millis": 175278230,
    "execution_start": 1651152885652,
    "source_hash": "b6aa131",
    "deepnote_cell_type": "code",
    "deepnote_cell_height": 459
   },
   "source": "class Kalah_Game():\n    \n    def __init__(self, players, display_mode):\n        self.state = copy.deepcopy(gStartState)\n        self.turn = 0\n        \n        if len(players) != 2:\n            raise ValueError(\"There must be exactly two players!\")\n        if not ((isinstance(players[0], Player) and type(players[0]) != Player) \n            and (isinstance(players[1], Player) and type(players[1]) != Player)):\n            raise ValueError(\"Both players must be of instances of a subclass of the class Player!\")\n        if {players[0].number, players[1].number} != {0,1}:\n            raise ValueError(\"One of the players must be self.number 0 and the other one self.number 1!\")\n        \n        self.players = players\n        self.current_player = 0\n        \n        if display_mode not in range(3):\n            raise ValueError(\"The display mode must be 0, 1 or 2!\")\n        self.display_mode = display_mode\n        \n        self.logged_moves = [(-1,-1,copy.deepcopy(self.state))]",
   "execution_count": 34,
   "outputs": []
  },
  {
   "cell_type": "markdown",
   "source": "### Methods: _show_state and show_state\nThe private method *_show_state(state)* creates a formatted string which represents the received state and prints it to the console. It can be used as an alternative to the **ipycanvas** game UI.\n\nThe method *show_state()* calls the private method *_show_state(state)* with the current game state (attribute *state*).",
   "metadata": {
    "cell_id": "00041-35501014-dbb5-460e-8102-6d487e6ef662",
    "deepnote_cell_type": "markdown",
    "deepnote_cell_height": 159.171875
   }
  },
  {
   "cell_type": "code",
   "metadata": {
    "cell_id": "00042-c88d57a9-5d31-455c-bb5a-284e6dec53ab",
    "deepnote_to_be_reexecuted": false,
    "execution_millis": 175278248,
    "execution_start": 1651152885653,
    "source_hash": "f885803c",
    "deepnote_cell_type": "code",
    "deepnote_cell_height": 351
   },
   "source": "def _show_state(self, state):\n    s = f''\n\n    s += f'{self.players[0].name}:\\t\\t\\t'\n    for j in range(6,-1,-1):\n        s += f'{gOrder[0][j]}: {state[0][j]}  '\n    s += f'\\n'\n\n    s += f'{self.players[1].name}:\\t\\t\\t\\t'\n    for j in range(7):\n        s += f'{gOrder[1][j]}: {state[1][j]}  '\n    s += f'\\n'\n\n    print(s)\n\nKalah_Game._show_state = _show_state",
   "execution_count": 35,
   "outputs": []
  },
  {
   "cell_type": "code",
   "metadata": {
    "cell_id": "00043-34db1702-e2d8-4abf-8943-ff1e975ec834",
    "deepnote_to_be_reexecuted": false,
    "execution_millis": 175278262,
    "execution_start": 1651152885655,
    "source_hash": "f307656f",
    "deepnote_cell_type": "code",
    "deepnote_cell_height": 135
   },
   "source": "def show_state(self):\n    self._show_state(self.state)\n    \nKalah_Game.show_state = show_state",
   "execution_count": 36,
   "outputs": []
  },
  {
   "cell_type": "markdown",
   "source": "### Method: start\nThe method *start()* starts the Kalah game. Until the game is finished (the method *_finished()* returns True), both players take turns, starting with the player with the number 0. At the start of each turn, the current game state is shown. Next, the current player chooses one of the house with the <tt>Player</tt> method *choose_house(current_state)*. Afterwards, this choice is handed to the private method *_move(player_num, choice)* which calculates the new game state. The attribute *state* is updated with this new game state. Then it is the turn of the other player. If the game is finished, the method *utility()* calculates which of the players wins the game and the result is printed to the console.",
   "metadata": {
    "cell_id": "00067-a046662e-2b5d-40aa-9ecc-2cd9ae3295a3",
    "deepnote_cell_type": "markdown",
    "deepnote_cell_height": 213.34375
   }
  },
  {
   "cell_type": "code",
   "metadata": {
    "cell_id": "00068-9f5d4592-df2b-4f19-9cba-424c286f88cc",
    "deepnote_to_be_reexecuted": false,
    "execution_millis": 175278206,
    "execution_start": 1651152885657,
    "source_hash": "265e3118",
    "deepnote_cell_type": "code",
    "deepnote_cell_height": 909
   },
   "source": "def start(self):\n    while(not finished(self.state)):\n        self.turn += 1\n        if self.display_mode == 1:\n            print(\"\\nCurrent state:\")\n            self.show_state()\n            print(f\"Next is {self.players[self.current_player].name}'s turn.\")\n        elif self.display_mode == 2:\n            print(\"Current state:\")\n            draw_board(self.state,self.turn)\n            print(f\"Next is {self.players[self.current_player].name}'s turn.\")\n            time.sleep(0.05)\n        \n        choice = self.players[self.current_player].choose_house(self.state)\n        \n        if self.display_mode != 0:\n            print(f\"{self.players[self.current_player].name} chose {gOrder[self.current_player][choice]}\")\n\n        self.state, another_turn = move(self.state, self.current_player, choice)\n        # create move log\n        move_log = tuple([self.current_player, choice, copy.deepcopy(self.state)])\n        self.logged_moves.append(move_log)\n        \n        if not another_turn:\n            self.current_player = other_player(self.current_player)\n        elif another_turn and self.display_mode != 0:\n            print(f\"{self.players[self.current_player].name} gets another turn!\")\n\n    won0 = utility(self.state,0)\n    \n    if self.display_mode != 0:\n        if self.display_mode == 1:\n            print(\"\")\n            self.show_state()\n        elif self.display_mode == 2:\n            draw_board(self.state,self.turn)\n            \n        print(\"Finished Game!\")  \n        \n        if(won0 == 1):\n            print(f\"{self.players[0]} wins!\")\n        elif(won0 == -1):\n            print(f\"{self.players[1]} wins!\")\n        else:\n            print(f\"Draw!\")\n    \nKalah_Game.start = start",
   "execution_count": 37,
   "outputs": []
  },
  {
   "cell_type": "markdown",
   "source": "### Method: log_to_file\nThe method *log_to_file* creates a json file from all important game information, including the player subclass types and names as well as the different moves from the game and the winner(s). With the use of this method, played games can be saved and analyzed. The created log file is saved to the folder \"logs\" with the given file_id in the file name.",
   "metadata": {
    "cell_id": "00069-1237d702-93c1-4648-9bcc-ac8e7d9141c3",
    "deepnote_cell_type": "markdown",
    "deepnote_cell_height": 145.171875
   }
  },
  {
   "cell_type": "code",
   "metadata": {
    "cell_id": "00070-dee533da-517b-471a-aeea-40f39bd1c383",
    "deepnote_to_be_reexecuted": false,
    "execution_millis": 175278191,
    "execution_start": 1651152885659,
    "source_hash": "803f051d",
    "deepnote_cell_type": "code",
    "deepnote_cell_height": 513
   },
   "source": "import json\n\ndef log_to_file(self, file_id):\n    json_dict = {\n        \"players\":{\n            0:{},\n            1:{}\n        },\n        \"moves\":self.logged_moves,\n        \"winner\":[i for i in range(2) if utility(self.state,i) != -1]\n    }\n    \n    for i in range(2):\n        json_dict[\"players\"][i][\"type\"] = self.players[i].player_type\n        json_dict[\"players\"][i][\"name\"] = self.players[i].name\n        if isinstance(self.players[i], Random_AI):\n            json_dict[\"players\"][i][\"seed\"] = self.players[i].seed\n        if isinstance(self.players[i], Minimax):\n            json_dict[\"players\"][i][\"limit\"] = self.players[i].limit\n    \n    with open(f\"logs/log_{file_id}.json\", \"w\") as f:\n        f.write(json.dumps(json_dict, indent=4))\n        f.close()\n\nKalah_Game.log_to_file = log_to_file",
   "execution_count": 38,
   "outputs": []
  },
  {
   "cell_type": "markdown",
   "source": "<b style=\"background-color:yellow; color:blue\">Comments:</b>\nI would prefer if you would create plain text files instead of *Json* files.",
   "metadata": {
    "cell_id": "00092-bdd55ddc-f49c-40d0-9f2f-4473cbaa60bf",
    "deepnote_cell_type": "markdown",
    "deepnote_cell_height": 52.390625
   }
  },
  {
   "cell_type": "markdown",
   "source": "## Repeat Game from Log File\n\nThe function *repeat_game* takes the filename of a log file and the display mode with which the game should be repeated as the input values. It also receives the information, if included AIs should calculate their choices new or if they should just repeat the moves that are presented in the log file. The decicions of human players are always repeated based on the log file. \n\nThe function detects the player types and names from the file and creates players based on this information. The player types are only relevant for AIs if **repeat_AIs** is set to False. In all other cases, the players are created from the <tt>Repeated_Player</tt> class.\n\nIn the end, the game is initialized with the created players and the given display mode and then started.",
   "metadata": {
    "cell_id": "00085-111633e0-553e-40a1-95cf-93ee96bd5983",
    "deepnote_cell_type": "markdown",
    "deepnote_cell_height": 249.34375
   }
  },
  {
   "cell_type": "code",
   "metadata": {
    "cell_id": "00086-c8ba6d0d-bd43-412a-9354-4c7572f18afc",
    "deepnote_to_be_reexecuted": false,
    "execution_millis": 175278214,
    "execution_start": 1651152885713,
    "source_hash": "477b8d00",
    "deepnote_cell_type": "code",
    "deepnote_cell_height": 513
   },
   "source": "def repeat_game(filename, repeat_AIs, display_mode):\n    json_dict = {}\n    \n    with open(\"logs/\"+filename) as f:\n        json_dict = json.load(f)\n    \n    players = []\n    for i in range(2):\n        i = str(i)\n        p_type = json_dict[\"players\"][i][\"type\"]\n        \n        if repeat_AIs:\n            players.append(Repeated_Player(int(i),json_dict[\"players\"][i][\"name\"],json_dict[\"moves\"]))\n        else:\n            if p_type == \"Human\":\n                players.append(Repeated_Player(int(i),json_dict[\"players\"][i][\"name\"],json_dict[\"moves\"]))\n            elif p_type == \"Random_AI\":\n                players.append(Random_AI(int(i),json_dict[\"players\"][i][\"name\"],json_dict[\"players\"][i][\"seed\"]))\n            elif p_type == \"Minimax\":\n                players.append(Minimax(int(i),json_dict[\"players\"][i][\"name\"],json_dict[\"players\"][i][\"limit\"]))\n            else:\n                raise ValueError(\"The given player type is unknown!\")\n    \n    game = Kalah_Game([players[0],players[1]],display_mode)\n    game.start()",
   "execution_count": 39,
   "outputs": []
  },
  {
   "cell_type": "markdown",
   "source": "## <b style=\"background-color:yellow; color:blue\">Concluding Remarks</b> \n\n* Testing should be more systematic, i.e. you should structure the code into functions and you should also discuss the results.\n* You still need to implement *Alpha-Beta-Pruning* and *[Scout](https://www.aaai.org/Papers/AAAI/1980/AAAI80-041.pdf)*. ",
   "metadata": {
    "cell_id": "00120-60d2e1a8-65bc-41fa-a6b6-e0f612e41eb3",
    "deepnote_cell_type": "markdown",
    "deepnote_cell_height": 147.78125
   }
  },
  {
   "cell_type": "markdown",
   "source": "<a style='text-decoration:none;line-height:16px;display:flex;color:#5B5B62;padding:10px;justify-content:end;' href='https://deepnote.com?utm_source=created-in-deepnote-cell&projectId=b91c3ea7-d814-439b-837a-72fdc90697b1' target=\"_blank\">\n<img alt='Created in deepnote.com' style='display:inline;max-height:16px;margin:0px;margin-right:7.5px;' src='data:image/svg+xml;base64,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' > </img>\nCreated in <span style='font-weight:600;margin-left:4px;'>Deepnote</span></a>",
   "metadata": {
    "tags": [],
    "created_in_deepnote_cell": true,
    "deepnote_cell_type": "markdown"
   }
  }
 ],
 "nbformat": 4,
 "nbformat_minor": 5,
 "metadata": {
  "deepnote": {},
  "deepnote_execution_queue": [],
  "deepnote_notebook_id": "767f6f9f-2fd2-4e35-9e91-b22ae1451d4f",
  "kernelspec": {
   "display_name": "Python 3",
   "language": "python",
   "name": "python3"
  },
  "language_info": {
   "codemirror_mode": {
    "name": "ipython",
    "version": 3
   },
   "file_extension": ".py",
   "mimetype": "text/x-python",
   "name": "python",
   "nbconvert_exporter": "python",
   "pygments_lexer": "ipython3",
   "version": "3.7.4"
  },
  "nbdime-conflicts": {
   "local_diff": [
    {
     "diff": [
      {
       "diff": [
        {
         "key": 0,
         "op": "addrange",
         "valuelist": [
          "3.9.1"
         ]
        },
        {
         "key": 0,
         "length": 1,
         "op": "removerange"
        }
       ],
       "key": "version",
       "op": "patch"
      }
     ],
     "key": "language_info",
     "op": "patch"
    }
   ],
   "remote_diff": [
    {
     "diff": [
      {
       "diff": [
        {
         "key": 0,
         "op": "addrange",
         "valuelist": [
          "3.8.12"
         ]
        },
        {
         "key": 0,
         "length": 1,
         "op": "removerange"
        }
       ],
       "key": "version",
       "op": "patch"
      }
     ],
     "key": "language_info",
     "op": "patch"
    }
   ]
  }
 }
}