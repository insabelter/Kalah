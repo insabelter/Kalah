{
 "cells": [
  {
   "cell_type": "markdown",
   "source": "# Visualization\nThe following notebook includes everything necessary to display the Kalah Game visually.\n\n<p style=\"background-color:yellow\">NOTE: If you want to use this elsewhere you will need the images in the images folder of this directory</p>",
   "metadata": {
    "cell_id": "078a0af1e8154dd8a6c4333ce2d3a6fb",
    "tags": [],
    "deepnote_cell_type": "markdown",
    "deepnote_cell_height": 156.78125
   }
  },
  {
   "cell_type": "code",
   "metadata": {
    "cell_id": "378f4277656d4888ae2947720ad8564a",
    "tags": [],
    "deepnote_to_be_reexecuted": false,
    "source_hash": "bd64205b",
    "execution_start": 1650977945224,
    "execution_millis": 67,
    "deepnote_cell_type": "code",
    "deepnote_cell_height": 216.1875
   },
   "source": "from ipycanvas import MultiCanvas,hold_canvas\nfrom ipywidgets import Image\nimport math\nimport random\nimport IPython.display",
   "execution_count": null,
   "outputs": [
    {
     "output_type": "error",
     "ename": "NameError",
     "evalue": "name 'HTML' is not defined",
     "traceback": [
      "\u001b[0;31m---------------------------------------------------------------------------\u001b[0m",
      "\u001b[0;31mNameError\u001b[0m                                 Traceback (most recent call last)",
      "\u001b[0;32m<ipython-input-1-9cbe10391b1a>\u001b[0m in \u001b[0;36m<module>\u001b[0;34m\u001b[0m\n\u001b[1;32m      6\u001b[0m \u001b[0;32mwith\u001b[0m \u001b[0mopen\u001b[0m\u001b[0;34m(\u001b[0m\u001b[0;34m'style.css'\u001b[0m\u001b[0;34m,\u001b[0m \u001b[0;34m'r'\u001b[0m\u001b[0;34m)\u001b[0m \u001b[0;32mas\u001b[0m \u001b[0mfile\u001b[0m\u001b[0;34m:\u001b[0m\u001b[0;34m\u001b[0m\u001b[0;34m\u001b[0m\u001b[0m\n\u001b[1;32m      7\u001b[0m     \u001b[0mcss\u001b[0m \u001b[0;34m=\u001b[0m \u001b[0mfile\u001b[0m\u001b[0;34m.\u001b[0m\u001b[0mread\u001b[0m\u001b[0;34m(\u001b[0m\u001b[0;34m)\u001b[0m\u001b[0;34m\u001b[0m\u001b[0;34m\u001b[0m\u001b[0m\n\u001b[0;32m----> 8\u001b[0;31m \u001b[0mHTML\u001b[0m\u001b[0;34m(\u001b[0m\u001b[0mcss\u001b[0m\u001b[0;34m)\u001b[0m\u001b[0;34m\u001b[0m\u001b[0;34m\u001b[0m\u001b[0m\n\u001b[0m",
      "\u001b[0;31mNameError\u001b[0m: name 'HTML' is not defined"
     ]
    }
   ]
  },
  {
   "cell_type": "markdown",
   "source": "### function: _state_to_dict\nThe function `_state_to_dict` is used to translate the current gamestate into a dictionary, that holds the house as key and the corresponding amount of seeds as value.\n\nThis is needed to be able to use the dictionary housemap which correlates the houses to their pixel positions.",
   "metadata": {
    "cell_id": "51f05367925f4f2e8e909e31032bc20e",
    "tags": [],
    "deepnote_cell_type": "markdown",
    "deepnote_cell_height": 159.171875
   }
  },
  {
   "cell_type": "code",
   "metadata": {
    "cell_id": "316daeb0d4f9449f8ca9dc22d67545dc",
    "tags": [],
    "deepnote_to_be_reexecuted": false,
    "source_hash": "f258579d",
    "execution_start": 1650978001519,
    "execution_millis": 6,
    "owner_user_id": "7c84efd6-9dfe-4698-8d7f-9a6307a4d527",
    "deepnote_cell_type": "code",
    "deepnote_cell_height": 189
   },
   "source": "def _state_to_dict(state):\n        dictionary = {}\n        order = [['A','B','C','D','E','F','O'],['a','b','c','d','e','f','o']]\n        for player in [0,1]:\n            for house in range(7):\n                dictionary[order[player][house]] = state[player][house]\n        return dictionary",
   "execution_count": null,
   "outputs": []
  },
  {
   "cell_type": "markdown",
   "source": "### Function: _draw_seeds\nThe function `_draw_seeds` reads the `state` of the game` and accordingly draws seeds on the respective houses. Each seed gets drawn in a random position inside the house with an additional random rotation.\n\nTo place the seeds accurately we must consider the width and height of the image of one seed. To do so we subtract the width and height from the final position chosen.",
   "metadata": {
    "cell_id": "1bd21e70bca6411d87458b3017b3583b",
    "tags": [],
    "deepnote_cell_type": "markdown",
    "deepnote_cell_height": 181.5625
   }
  },
  {
   "cell_type": "code",
   "metadata": {
    "tags": [],
    "cell_id": "00004-8362c380-ff99-44b8-b9ae-b07e0b16d415",
    "deepnote_to_be_reexecuted": false,
    "source_hash": "edd8112",
    "execution_start": 1650977776353,
    "execution_millis": 71,
    "deepnote_cell_type": "code",
    "deepnote_cell_height": 603
   },
   "source": "def _draw_seeds(gamestate,canvas,housemap):\n    HOUSE_RAD = 23\n    HOUSE_OFFSETS = (90,125)\n    seedsprites = [Image.from_file(f'images/Samen{i}.png') for i in range(1,6)]\n    seed_width = 15\n    seed_height = 15\n\n    for house in gamestate:\n        for seed in range(gamestate[house]):\n            seed_sprite = seedsprites[random.randrange(5)]\n            \n            if house == 'O':\n                centerX, centerY = (housemap['F'][0]-HOUSE_OFFSETS[0],random.randrange(housemap['F'][1],housemap['F'][1]+HOUSE_OFFSETS[1]))\n            elif house == 'o':\n                centerX, centerY = (housemap['F'][0]+HOUSE_OFFSETS[0]*6,random.randrange(housemap['F'][1],housemap['F'][1]+HOUSE_OFFSETS[1]))\n            else:\n                centerX, centerY = housemap[house]\n\n            r = HOUSE_RAD * math.sqrt(random.random())\n            theta = random.random() * 2 * math.pi\n            x = centerX + r * math.cos(theta)\n            y = centerY + r * math.sin(theta)\n            canvas.save()\n\n            #Rotate by random amount for variation\n            canvas.translate(x, y)\n            canvas.rotate(random.uniform(0.,math.pi))\n            canvas.translate(-x, -y)\n            canvas.draw_image(seed_sprite, x-seed_width, y-seed_height)\n            canvas.restore()",
   "execution_count": null,
   "outputs": []
  },
  {
   "cell_type": "markdown",
   "source": "### Function: _draw_numbers\nThe function `_draw_numbers` reads the `state` of the game and accordingly draws numbers that represent the amount of seeds on the respective houses. ",
   "metadata": {
    "cell_id": "531af4965bf64a749622590c619fca4b",
    "tags": [],
    "deepnote_cell_type": "markdown",
    "deepnote_cell_height": 100.390625
   }
  },
  {
   "cell_type": "code",
   "metadata": {
    "cell_id": "2f5175f073ec46088bf0436b46b4e845",
    "tags": [],
    "deepnote_to_be_reexecuted": false,
    "source_hash": "49495b38",
    "execution_start": 1650977776424,
    "execution_millis": 2,
    "deepnote_cell_type": "code",
    "deepnote_cell_height": 621
   },
   "source": "def _draw_numbers(gamestate,canvas,housemap,turn):\n    NUMBER_OFFSET_Y_BOT = 50\n    NUMBER_OFFSET_Y_TOP = 60\n    HOUSE_OFFSETS = (90,145)\n    housenumbermap = {\n        'F': (housemap['F'][0],housemap['F'][1]+NUMBER_OFFSET_Y_TOP),\n        'E': (housemap['E'][0],housemap['E'][1]+NUMBER_OFFSET_Y_TOP),\n        'D': (housemap['D'][0],housemap['D'][1]+NUMBER_OFFSET_Y_TOP),\n        'C': (housemap['C'][0],housemap['C'][1]+NUMBER_OFFSET_Y_TOP),\n        'B': (housemap['B'][0],housemap['B'][1]+NUMBER_OFFSET_Y_TOP),\n        'A': (housemap['A'][0],housemap['A'][1]+NUMBER_OFFSET_Y_TOP),\n        'a': (housemap['a'][0],housemap['a'][1]-NUMBER_OFFSET_Y_BOT),\n        'b': (housemap['b'][0],housemap['b'][1]-NUMBER_OFFSET_Y_BOT),\n        'c': (housemap['c'][0],housemap['c'][1]-NUMBER_OFFSET_Y_BOT),\n        'd': (housemap['d'][0],housemap['d'][1]-NUMBER_OFFSET_Y_BOT),\n        'e': (housemap['e'][0],housemap['e'][1]-NUMBER_OFFSET_Y_BOT),\n        'f': (housemap['f'][0],housemap['f'][1]-NUMBER_OFFSET_Y_BOT),\n        'O': (housemap['F'][0]-HOUSE_OFFSETS[0],housemap['F'][1]+HOUSE_OFFSETS[1]+HOUSE_OFFSETS[1]/5),\n        'o': (housemap['F'][0]+HOUSE_OFFSETS[0]*6,housemap['F'][1]+HOUSE_OFFSETS[1]+HOUSE_OFFSETS[1]/5),\n        \n    }\n    TURN_POS = (housemap['A'][0]+HOUSE_OFFSETS[0],62)\n\n    canvas.font = '26px serif'\n    canvas.text_align    = 'center'\n\n    for key in housenumbermap:\n        canvas.fill_text(gamestate[key],housenumbermap[key][0],housenumbermap[key][1])\n\n    canvas.font = '22px serif'\n    canvas.fill_text('Turn '+str(turn),TURN_POS[0],TURN_POS[1]) # TODO",
   "execution_count": null,
   "outputs": []
  },
  {
   "cell_type": "markdown",
   "source": "### Function: draw_board\nThe function `draw_board` sets the required positional values for the functions `_draw_seeds` and `_draw_numbers`.\n\nIt also translates the current state of the game to a dictionary so that the positional values can be related to the corresponding seed amount in the respective houses.\n\nAdditionally this function creates a MultiCanvas for the display of the board. The first layer is the background and the second layer is the foreground.\n\nAfterwards this function calls the functions `_draw_seed` and `_draw_numbers`.\n\nFinally the finished canvas gets displayed.",
   "metadata": {
    "cell_id": "f07a30d1cb93402cbe585f8c83a7a58b",
    "tags": [],
    "deepnote_cell_type": "markdown",
    "deepnote_cell_height": 268.34375
   }
  },
  {
   "cell_type": "code",
   "metadata": {
    "tags": [],
    "deepnote_to_be_reexecuted": false,
    "source_hash": "fc7ee43a",
    "execution_start": 1650977864518,
    "execution_millis": 0,
    "cell_id": "00001-c37a47ea-91ff-4250-87a3-5c6c4df7d015",
    "deepnote_cell_type": "code",
    "deepnote_cell_height": 531
   },
   "source": "def draw_board(state, turn='?'):\n    TOP_ROW_POSITION = (175,130)\n    HOUSE_OFFSETS = (90,145)\n    HOUSE_MAP={\n        'F':TOP_ROW_POSITION,\n        'E':(TOP_ROW_POSITION[0]+HOUSE_OFFSETS[0],TOP_ROW_POSITION[1]),\n        'D':(TOP_ROW_POSITION[0]+HOUSE_OFFSETS[0]*2,TOP_ROW_POSITION[1]),\n        'C':(TOP_ROW_POSITION[0]+HOUSE_OFFSETS[0]*3,TOP_ROW_POSITION[1]),\n        'B':(TOP_ROW_POSITION[0]+HOUSE_OFFSETS[0]*4,TOP_ROW_POSITION[1]),\n        'A':(TOP_ROW_POSITION[0]+HOUSE_OFFSETS[0]*5,TOP_ROW_POSITION[1]),\n        'a':(TOP_ROW_POSITION[0],TOP_ROW_POSITION[1]+HOUSE_OFFSETS[1]),\n        'b':(TOP_ROW_POSITION[0]+HOUSE_OFFSETS[0],TOP_ROW_POSITION[1]+HOUSE_OFFSETS[1]),\n        'c':(TOP_ROW_POSITION[0]+HOUSE_OFFSETS[0]*2,TOP_ROW_POSITION[1]+HOUSE_OFFSETS[1]),\n        'd':(TOP_ROW_POSITION[0]+HOUSE_OFFSETS[0]*3,TOP_ROW_POSITION[1]+HOUSE_OFFSETS[1]),\n        'e':(TOP_ROW_POSITION[0]+HOUSE_OFFSETS[0]*4,TOP_ROW_POSITION[1]+HOUSE_OFFSETS[1]),\n        'f':(TOP_ROW_POSITION[0]+HOUSE_OFFSETS[0]*5,TOP_ROW_POSITION[1]+HOUSE_OFFSETS[1]),\n    }\n    \n    canvas = MultiCanvas(2,width=800, height=400)\n    canvas[0].draw_image(Image.from_file('images/Board.png'),0,0)\n    gamestate = _state_to_dict(state)\n    \n    with hold_canvas(canvas):\n        _draw_seeds(gamestate,canvas[1],HOUSE_MAP)\n        _draw_numbers(gamestate,canvas[1],HOUSE_MAP,turn)\n    display(canvas)",
   "execution_count": null,
   "outputs": []
  },
  {
   "cell_type": "markdown",
   "source": "<a style='text-decoration:none;line-height:16px;display:flex;color:#5B5B62;padding:10px;justify-content:end;' href='https://deepnote.com?utm_source=created-in-deepnote-cell&projectId=b91c3ea7-d814-439b-837a-72fdc90697b1' target=\"_blank\">\n<img alt='Created in deepnote.com' style='display:inline;max-height:16px;margin:0px;margin-right:7.5px;' src='data:image/svg+xml;base64,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' > </img>\nCreated in <span style='font-weight:600;margin-left:4px;'>Deepnote</span></a>",
   "metadata": {
    "tags": [],
    "created_in_deepnote_cell": true,
    "deepnote_cell_type": "markdown"
   }
  }
 ],
 "nbformat": 4,
 "nbformat_minor": 2,
 "metadata": {
  "kernelspec": {
   "display_name": "Python 3",
   "language": "python",
   "name": "python3"
  },
  "language_info": {
   "codemirror_mode": {
    "name": "ipython",
    "version": 3
   },
   "file_extension": ".py",
   "mimetype": "text/x-python",
   "name": "python",
   "nbconvert_exporter": "python",
   "pygments_lexer": "ipython3",
   "version": "3.7.4"
  },
  "deepnote_notebook_id": "36cb040d-b85d-462e-b85c-1433579c063a",
  "deepnote": {},
  "deepnote_execution_queue": []
 }
}