{
 "cells": [
  {
   "cell_type": "markdown",
   "source": "# Memoization\nMemoization is a technique to speed up function calls of a certain complex function, by storing past inputs and corresponding outputs in a dictionary. If an input to the function was once recieved before, the execution of the actual function can be skipped and instead the output stored in the dictionary will be returned.\n\nThis chapter aims to compare the speed of the AIs with and without memoization.",
   "metadata": {
    "cell_id": "ac5ecff0-84af-4d20-a8a8-6869ee8659c0",
    "owner_user_id": "239986da-4d54-40b6-a333-38b7fc4b6fc0",
    "deepnote_cell_type": "markdown",
    "deepnote_cell_height": 201.5625
   }
  },
  {
   "cell_type": "markdown",
   "source": "## Setup\nTo be able to run the AIs first the Core notebook has to be executed.\n\nSince the Core notebook already currently uses memoization in the value function we have to redefine it later.",
   "metadata": {
    "cell_id": "00001-92f527a4-1f99-49be-b673-43a5a1889911",
    "deepnote_cell_type": "markdown",
    "deepnote_cell_height": 144.78125
   }
  },
  {
   "cell_type": "code",
   "metadata": {
    "cell_id": "00002-83f97d67-fc28-4a4c-8039-08bde13d345f",
    "owner_user_id": "7c84efd6-9dfe-4698-8d7f-9a6307a4d527",
    "deepnote_cell_type": "code",
    "deepnote_cell_height": 84
   },
   "source": "%run Core.ipynb\n%run Visualization.ipynb",
   "execution_count": null,
   "outputs": []
  },
  {
   "cell_type": "code",
   "metadata": {
    "cell_id": "00003-650d77bc-8362-4ec2-be98-bb64455cdd5b",
    "deepnote_cell_type": "code",
    "deepnote_cell_height": 156
   },
   "source": "def value(state, player_num, limit):\n    limit -= 1\n    if finished(state) or limit==0:\n        return utility(state, player_num)\n    other = other_player(player_num)\n    return max([-value(ns, other,limit) for ns,_ in next_states(state, player_num)])",
   "execution_count": null,
   "outputs": []
  },
  {
   "cell_type": "markdown",
   "source": "## Tests without Memoization\nThe following testruns are done without using memoization",
   "metadata": {
    "cell_id": "00004-cb1a293c-1905-41d0-b975-46bd3ea13f15",
    "deepnote_cell_type": "markdown",
    "deepnote_cell_height": 108.390625
   }
  },
  {
   "cell_type": "code",
   "metadata": {
    "cell_id": "00005-8ebb7d9f-a46b-47e4-932d-f927ce0b5391",
    "deepnote_cell_type": "code",
    "deepnote_cell_height": 148.1875
   },
   "source": "%%time\ngame = Kalah_Game([Random_AI(0,\"Random\",333), Minimax(1,\"Minimax\",4)], 0)\ngame.start()",
   "execution_count": null,
   "outputs": [
    {
     "name": "stdout",
     "output_type": "stream",
     "text": "Wall time: 493 ms\n"
    }
   ]
  },
  {
   "cell_type": "code",
   "metadata": {
    "cell_id": "00006-e66d7fca-a06f-454d-a37f-bce5e02c59b8",
    "deepnote_cell_type": "code",
    "deepnote_cell_height": 148.1875
   },
   "source": "%%time\ngame = Kalah_Game([Random_AI(0,\"Random\",222), Minimax(1,\"Minimax\",4)], 0)\ngame.start()",
   "execution_count": null,
   "outputs": [
    {
     "name": "stdout",
     "output_type": "stream",
     "text": "Wall time: 216 ms\n"
    }
   ]
  },
  {
   "cell_type": "code",
   "metadata": {
    "cell_id": "00007-356fec25-fc90-4514-8e7c-70a522c4e44d",
    "deepnote_cell_type": "code",
    "deepnote_cell_height": 148.1875
   },
   "source": "%%time\ngame = Kalah_Game([Random_AI(0,\"Random\",111), Minimax(1,\"Minimax\",4)], 0)\ngame.start()",
   "execution_count": null,
   "outputs": [
    {
     "name": "stdout",
     "output_type": "stream",
     "text": "Wall time: 406 ms\n"
    }
   ]
  },
  {
   "cell_type": "markdown",
   "source": "## Tests with Memoization\nThe following testruns are done with using memoization",
   "metadata": {
    "cell_id": "00008-bd494c64-e60f-4457-abee-394832963ce1",
    "deepnote_cell_type": "markdown",
    "deepnote_cell_height": 108.390625
   }
  },
  {
   "cell_type": "code",
   "metadata": {
    "cell_id": "00009-4270ea81-b902-4b6d-be94-838b046511cf",
    "deepnote_cell_type": "code",
    "deepnote_cell_height": 174
   },
   "source": "@memoize\ndef value(state, player_num, limit):\n    limit -= 1\n    if finished(state) or limit==0:\n        return utility(state, player_num)\n    other = other_player(player_num)\n    return max([-value(ns, other,limit) for ns,_ in next_states(state, player_num)])",
   "execution_count": null,
   "outputs": []
  },
  {
   "cell_type": "code",
   "metadata": {
    "cell_id": "00010-461365be-75aa-4e72-a990-3816bcfa7170",
    "deepnote_cell_type": "code",
    "deepnote_cell_height": 166.1875
   },
   "source": "%%time\nCache = {}\ngame = Kalah_Game([Random_AI(0,\"Random\",333), Minimax(1,\"Minimax\",4)], 0)\ngame.start()",
   "execution_count": null,
   "outputs": [
    {
     "name": "stdout",
     "output_type": "stream",
     "text": "Wall time: 316 ms\n"
    }
   ]
  },
  {
   "cell_type": "code",
   "metadata": {
    "cell_id": "00011-92be0660-59a1-42bb-b57d-3fb42bab71dc",
    "deepnote_cell_type": "code",
    "deepnote_cell_height": 166.1875
   },
   "source": "%%time\nCache = {}\ngame = Kalah_Game([Random_AI(0,\"Random\",222), Minimax(1,\"Minimax\",4)], 0)\ngame.start()",
   "execution_count": null,
   "outputs": [
    {
     "name": "stdout",
     "output_type": "stream",
     "text": "Wall time: 161 ms\n"
    }
   ]
  },
  {
   "cell_type": "code",
   "metadata": {
    "cell_id": "00012-214f6afc-20b4-457d-b554-39e983dfac5f",
    "deepnote_cell_type": "code",
    "deepnote_cell_height": 166.1875
   },
   "source": "%%time\nCache = {}\ngame = Kalah_Game([Random_AI(0,\"Random\",111), Minimax(1,\"Minimax\",4)], 0)\ngame.start()",
   "execution_count": null,
   "outputs": [
    {
     "name": "stdout",
     "output_type": "stream",
     "text": "Wall time: 165 ms\n"
    }
   ]
  },
  {
   "cell_type": "markdown",
   "source": "### Result\nThe game took about ~250 ms to calculate",
   "metadata": {
    "cell_id": "00013-4937985c-2602-4f95-816c-350eb12c919f",
    "deepnote_cell_type": "markdown",
    "deepnote_cell_height": 100.390625
   }
  },
  {
   "cell_type": "markdown",
   "source": "## Conclusion\nRunning the same game with the same seeds causes a good time save on each of the three examples when using memoization.",
   "metadata": {
    "cell_id": "00014-52525cc5-4680-48ef-b672-e1f1e4932afb",
    "deepnote_cell_type": "markdown",
    "deepnote_cell_height": 108.390625
   }
  },
  {
   "cell_type": "markdown",
   "source": "<a style='text-decoration:none;line-height:16px;display:flex;color:#5B5B62;padding:10px;justify-content:end;' href='https://deepnote.com?utm_source=created-in-deepnote-cell&projectId=b91c3ea7-d814-439b-837a-72fdc90697b1' target=\"_blank\">\n<img alt='Created in deepnote.com' style='display:inline;max-height:16px;margin:0px;margin-right:7.5px;' src='data:image/svg+xml;base64,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' > </img>\nCreated in <span style='font-weight:600;margin-left:4px;'>Deepnote</span></a>",
   "metadata": {
    "tags": [],
    "created_in_deepnote_cell": true,
    "deepnote_cell_type": "markdown"
   }
  }
 ],
 "nbformat": 4,
 "nbformat_minor": 2,
 "metadata": {
  "kernelspec": {
   "display_name": "Python 3",
   "language": "python",
   "name": "python3"
  },
  "language_info": {
   "codemirror_mode": {
    "name": "ipython",
    "version": 3
   },
   "file_extension": ".py",
   "mimetype": "text/x-python",
   "name": "python",
   "nbconvert_exporter": "python",
   "pygments_lexer": "ipython3",
   "version": "3.7.4"
  },
  "deepnote_notebook_id": "72dea6e4-1de6-4472-bbe6-d59769849fbd",
  "deepnote": {},
  "deepnote_execution_queue": []
 }
}