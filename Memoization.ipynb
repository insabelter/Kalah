{
 "cells": [
  {
   "cell_type": "markdown",
   "metadata": {},
   "source": [
    "# Memoization\n",
    "Memoization is a technique to speed up function calls of a certain complex function, by storing past inputs and corresponding outputs in a dictionary. If an input to the function was once recieved before, the execution of the actual function can be skipped and instead the output stored in the dictionary will be returned.\n",
    "\n",
    "This chapter aims to compare the speed of the AIs with and without memoization."
   ]
  },
  {
   "cell_type": "markdown",
   "metadata": {},
   "source": [
    "## Setup\n",
    "To be able to run the AIs first the Core notebook has to be run.\n",
    "\n",
    "Since the Core notebook already currently uses memoization in the value function we have to redefine it later."
   ]
  },
  {
   "cell_type": "code",
   "execution_count": 60,
   "metadata": {},
   "outputs": [],
   "source": [
    "%run Classes.ipynb\n",
    "%run Visualization.ipynb"
   ]
  },
  {
   "cell_type": "code",
   "execution_count": 61,
   "metadata": {},
   "outputs": [],
   "source": [
    "def value(state, player_num, limit):\n",
    "    limit -= 1\n",
    "    if finished(state) or limit==0:\n",
    "        return utility(state, player_num)\n",
    "    other = other_player(player_num)\n",
    "    return max([-value(ns, other,limit) for ns,_ in next_states(state, player_num)])"
   ]
  },
  {
   "cell_type": "markdown",
   "metadata": {},
   "source": [
    "## Tests without Memoization\n",
    "The following testruns are done without using memoization"
   ]
  },
  {
   "cell_type": "code",
   "execution_count": 67,
   "metadata": {},
   "outputs": [
    {
     "name": "stdout",
     "output_type": "stream",
     "text": [
      "Wall time: 493 ms\n"
     ]
    }
   ],
   "source": [
    "%%time\n",
    "game = Kalah_Game([Random_AI(0,\"Random\",333), Minimax(1,\"Minimax\",4)], 0)\n",
    "game.start()"
   ]
  },
  {
   "cell_type": "code",
   "execution_count": 68,
   "metadata": {},
   "outputs": [
    {
     "name": "stdout",
     "output_type": "stream",
     "text": [
      "Wall time: 216 ms\n"
     ]
    }
   ],
   "source": [
    "%%time\n",
    "game = Kalah_Game([Random_AI(0,\"Random\",222), Minimax(1,\"Minimax\",4)], 0)\n",
    "game.start()"
   ]
  },
  {
   "cell_type": "code",
   "execution_count": 69,
   "metadata": {},
   "outputs": [
    {
     "name": "stdout",
     "output_type": "stream",
     "text": [
      "Wall time: 406 ms\n"
     ]
    }
   ],
   "source": [
    "%%time\n",
    "game = Kalah_Game([Random_AI(0,\"Random\",111), Minimax(1,\"Minimax\",4)], 0)\n",
    "game.start()"
   ]
  },
  {
   "cell_type": "markdown",
   "metadata": {},
   "source": [
    "## Tests with Memoization\n",
    "The following testruns are done with using memoization"
   ]
  },
  {
   "cell_type": "code",
   "execution_count": 73,
   "metadata": {},
   "outputs": [],
   "source": [
    "@memoize\n",
    "def value(state, player_num, limit):\n",
    "    limit -= 1\n",
    "    if finished(state) or limit==0:\n",
    "        return utility(state, player_num)\n",
    "    other = other_player(player_num)\n",
    "    return max([-value(ns, other,limit) for ns,_ in next_states(state, player_num)])"
   ]
  },
  {
   "cell_type": "code",
   "execution_count": 74,
   "metadata": {},
   "outputs": [
    {
     "name": "stdout",
     "output_type": "stream",
     "text": [
      "Wall time: 316 ms\n"
     ]
    }
   ],
   "source": [
    "%%time\n",
    "Cache = {}\n",
    "game = Kalah_Game([Random_AI(0,\"Random\",333), Minimax(1,\"Minimax\",4)], 0)\n",
    "game.start()"
   ]
  },
  {
   "cell_type": "code",
   "execution_count": 75,
   "metadata": {},
   "outputs": [
    {
     "name": "stdout",
     "output_type": "stream",
     "text": [
      "Wall time: 161 ms\n"
     ]
    }
   ],
   "source": [
    "%%time\n",
    "Cache = {}\n",
    "game = Kalah_Game([Random_AI(0,\"Random\",222), Minimax(1,\"Minimax\",4)], 0)\n",
    "game.start()"
   ]
  },
  {
   "cell_type": "code",
   "execution_count": 76,
   "metadata": {},
   "outputs": [
    {
     "name": "stdout",
     "output_type": "stream",
     "text": [
      "Wall time: 165 ms\n"
     ]
    }
   ],
   "source": [
    "%%time\n",
    "Cache = {}\n",
    "game = Kalah_Game([Random_AI(0,\"Random\",111), Minimax(1,\"Minimax\",4)], 0)\n",
    "game.start()"
   ]
  },
  {
   "cell_type": "markdown",
   "metadata": {},
   "source": [
    "### Result\n",
    "The game took about ~250 ms to calculate"
   ]
  },
  {
   "cell_type": "markdown",
   "metadata": {},
   "source": [
    "## Conclusion\n",
    "Running the same game with the same seeds causes a good time save on each of the three examples when using memoization."
   ]
  }
 ],
 "metadata": {
  "kernelspec": {
   "display_name": "Python 3",
   "language": "python",
   "name": "python3"
  },
  "language_info": {
   "codemirror_mode": {
    "name": "ipython",
    "version": 3
   },
   "file_extension": ".py",
   "mimetype": "text/x-python",
   "name": "python",
   "nbconvert_exporter": "python",
   "pygments_lexer": "ipython3",
   "version": "3.7.4"
  }
 },
 "nbformat": 4,
 "nbformat_minor": 2
}
