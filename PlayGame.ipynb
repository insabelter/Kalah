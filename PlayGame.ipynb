{
 "cells": [
  {
   "cell_type": "markdown",
   "metadata": {
    "cell_id": "603a133b486546edb23ff3d2f3da3fed",
    "deepnote_cell_height": 156.78125,
    "deepnote_cell_type": "markdown",
    "tags": []
   },
   "source": [
    "# Playing the game\n",
    "\n",
    "This notebook is for playing the game."
   ]
  },
  {
   "cell_type": "code",
   "execution_count": null,
   "metadata": {
    "cell_id": "870c411ac16146bb90f3d9ca6905ea90",
    "deepnote_cell_height": 81,
    "deepnote_cell_type": "code",
    "deepnote_output_heights": [
     78.75,
     607
    ],
    "deepnote_to_be_reexecuted": false,
    "execution_millis": 156,
    "execution_start": 1651474373916,
    "source_hash": "6bd84484",
    "tags": []
   },
   "outputs": [],
   "source": [
    "%run Core.ipynb\n",
    "%run Visualization.ipynb"
   ]
  },
  {
   "cell_type": "markdown",
   "metadata": {
    "cell_id": "68f0edd4bd7b4059b8530326e52c04c0",
    "deepnote_cell_height": 70,
    "deepnote_cell_type": "markdown",
    "tags": []
   },
   "source": [
    "## Human vs. Minimax"
   ]
  },
  {
   "cell_type": "code",
   "execution_count": null,
   "metadata": {
    "cell_id": "976cccda683246f8b788596f7c6bc1ba",
    "deepnote_cell_height": 348.375,
    "deepnote_cell_type": "code",
    "deepnote_to_be_reexecuted": false,
    "execution_millis": 167342,
    "execution_start": 1651474777910,
    "source_hash": "1d06da41",
    "tags": []
   },
   "outputs": [],
   "source": [
    "game = Kalah_Game([Minimax(1,\"Mini\",4),Human(\"Karl\")],2)"
   ]
  },
  {
   "cell_type": "code",
   "execution_count": null,
   "metadata": {},
   "outputs": [],
   "source": [
    "game.start()"
   ]
  }
 ],
 "metadata": {
  "deepnote": {},
  "deepnote_execution_queue": [],
  "deepnote_notebook_id": "1c75c9b8-b0de-4186-968a-2f0ad623c796",
  "kernelspec": {
   "display_name": "Python 3",
   "language": "python",
   "name": "python3"
  },
  "language_info": {
   "codemirror_mode": {
    "name": "ipython",
    "version": 3
   },
   "file_extension": ".py",
   "mimetype": "text/x-python",
   "name": "python",
   "nbconvert_exporter": "python",
   "pygments_lexer": "ipython3",
   "version": "3.7.4"
  }
 },
 "nbformat": 4,
 "nbformat_minor": 2
}
