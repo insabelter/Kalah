{
 "cells": [
  {
   "cell_type": "markdown",
   "source": "# UnitTests\n\nThis notebook is used for testing the functions from the notebook \"Core\".",
   "metadata": {
    "cell_id": "fa3129e4-867e-4e55-9ce9-10502287d90a",
    "deepnote_cell_type": "markdown",
    "deepnote_cell_height": 120.390625
   }
  },
  {
   "cell_type": "code",
   "metadata": {
    "cell_id": "b757e62a-ba19-41fd-aa26-d9ec3fc97ce2",
    "deepnote_to_be_reexecuted": false,
    "execution_millis": 428,
    "execution_start": 1654347826316,
    "source_hash": "6bd84484",
    "tags": [],
    "deepnote_cell_type": "code",
    "deepnote_cell_height": 81
   },
   "source": "%run Core.ipynb",
   "execution_count": 1,
   "outputs": []
  },
  {
   "cell_type": "markdown",
   "source": "## Tests of global game functions",
   "metadata": {
    "cell_id": "d2934c819a044a8bb171b8d588cc78ea",
    "deepnote_to_be_reexecuted": false,
    "execution_millis": 0,
    "execution_start": 1650975968544,
    "source_hash": "f44517b3",
    "tags": [],
    "deepnote_cell_type": "markdown",
    "deepnote_cell_height": 70
   }
  },
  {
   "cell_type": "markdown",
   "source": "### Function: other_player\nWe expect this function to return a 0 when it receives a 1 and to return a 1 when it receives a 0.",
   "metadata": {
    "cell_id": "b34c48ad776b446d8d2a4f8c75eb41d3",
    "tags": [],
    "deepnote_cell_type": "markdown",
    "deepnote_cell_height": 100.390625
   }
  },
  {
   "cell_type": "code",
   "metadata": {
    "cell_id": "5677f9f6eaa244ebb54719c48428207a",
    "deepnote_to_be_reexecuted": false,
    "execution_millis": 42,
    "execution_start": 1654347826746,
    "source_hash": "57367ac4",
    "tags": [],
    "deepnote_cell_type": "code",
    "deepnote_cell_height": 99
   },
   "source": "assert other_player(0) == 1\nassert other_player(1) == 0 ",
   "execution_count": 2,
   "outputs": []
  },
  {
   "cell_type": "markdown",
   "source": "### Function: move\nThis function causes changes on the board depending on the choices made by the players.\n\nGiven a `state`, a `player_num` and a `choice` number we expect this function return the new state after the player with the given player number chose the hole with the given `choice` number.\n\nAdditionally this function returns true if the player with the given `player_num` gets another turn throught the rules of Kalah. Else it returns False.",
   "metadata": {
    "cell_id": "6ce6b495f0bf4bf4ad21c8d33fd5b81b",
    "tags": [],
    "deepnote_cell_type": "markdown",
    "deepnote_cell_height": 195.5625
   }
  },
  {
   "cell_type": "code",
   "metadata": {
    "cell_id": "5d4ec374a70d4a7d9cc719826a86ceb1",
    "deepnote_to_be_reexecuted": false,
    "execution_millis": 1,
    "execution_start": 1654347826788,
    "source_hash": "156d6377",
    "tags": [],
    "deepnote_cell_type": "code",
    "deepnote_cell_height": 99
   },
   "source": "# Player 0, chooses house 4, shouldnt get an additional turn\nassert move(gStartState, 0, 4) == ([[4, 4, 4, 4, 0, 5, 1], [5, 5, 4, 4, 4, 4, 0]], False)",
   "execution_count": 3,
   "outputs": []
  },
  {
   "cell_type": "code",
   "metadata": {
    "cell_id": "5440e9f2bc0b48b888132db68c173bf5",
    "deepnote_to_be_reexecuted": false,
    "execution_millis": 4,
    "execution_start": 1654347826790,
    "source_hash": "3df92674",
    "tags": [],
    "deepnote_cell_type": "code",
    "deepnote_cell_height": 99
   },
   "source": "# Player 0, chooses house 2, should get an additional turn\nassert move(gStartState, 0, 2) == ([[4, 4, 0, 5, 5, 5, 1], [4, 4, 4, 4, 4, 4, 0]], True)",
   "execution_count": 4,
   "outputs": []
  },
  {
   "cell_type": "markdown",
   "source": "### Function: next_states\nnext_states receives a `state` and a `player_num`. It returns all states that are reachable in one turn. This also includes states reachable through the extra turn rule. Additionally the choices to reach a specific state are tracked as well.\n\nIn this tests a penultimate state is given that only allows one move. The result is a terminal state where player 1 put the seed from the sixth house in his Kalah.",
   "metadata": {
    "cell_id": "852f402fcb57461db5fc6f9d26d917ab",
    "tags": [],
    "deepnote_cell_type": "markdown",
    "deepnote_cell_height": 159.171875
   }
  },
  {
   "cell_type": "code",
   "metadata": {
    "cell_id": "f0db7b2776914e4aa81113c715623fc5",
    "deepnote_to_be_reexecuted": false,
    "execution_millis": 2,
    "execution_start": 1654347826796,
    "source_hash": "78920294",
    "tags": [],
    "deepnote_cell_type": "code",
    "deepnote_cell_height": 81
   },
   "source": "assert next_states([[0, 0, 0, 0, 0, 1, 43], [0, 2, 0, 1, 2, 1, 22]],0) == [([[0, 0, 0, 0, 0, 0, 44], [0, 2, 0, 1, 2, 1, 22]], [5])]",
   "execution_count": 5,
   "outputs": []
  },
  {
   "cell_type": "markdown",
   "source": "The following test checks if all reachable states from the start state are returned. ",
   "metadata": {
    "cell_id": "c05e950abb7d4fa1910ea0fff2679423",
    "tags": [],
    "deepnote_cell_type": "markdown",
    "deepnote_cell_height": 52.390625
   }
  },
  {
   "cell_type": "code",
   "metadata": {
    "cell_id": "6b73d86b0f36498db15707609b836253",
    "tags": [],
    "deepnote_to_be_reexecuted": false,
    "source_hash": "7e9b7fe1",
    "execution_start": 1654347826819,
    "execution_millis": 0,
    "deepnote_cell_type": "code",
    "deepnote_cell_height": 99
   },
   "source": "# There are 10 states reachable from the start state\nassert len(next_states(gStartState,0)) == 10",
   "execution_count": 6,
   "outputs": []
  },
  {
   "cell_type": "markdown",
   "source": "### Function: finished\nThe finished function checks if a given `state` is part of the abstract set `TerminalStates` for the game and returns a boolean value. The game is finished when all houses from one player are empty. Both possible cases are checked in this test.",
   "metadata": {
    "cell_id": "c3f61a4bd9184f1ab3636ec411d78543",
    "tags": [],
    "deepnote_cell_type": "markdown",
    "deepnote_cell_height": 122.78125
   }
  },
  {
   "cell_type": "code",
   "metadata": {
    "cell_id": "8a1e2d6c649d4e64abe24ad941ce548b",
    "deepnote_to_be_reexecuted": false,
    "execution_millis": 0,
    "execution_start": 1654347826820,
    "source_hash": "c11741ea",
    "tags": [],
    "deepnote_cell_type": "code",
    "deepnote_cell_height": 99
   },
   "source": "assert finished([[0,0,5,0,0,0,12],[0,4,0,0,0,0,15]]) == False\nassert finished([[0,0,0,0,1,1,18],[0,0,0,0,0,0,28]]) == True",
   "execution_count": 7,
   "outputs": []
  },
  {
   "cell_type": "markdown",
   "source": "### Function: utility\nThis function takes a state, that is in the abstract set `TerminalStates` and a `player_num`. If the `state` shows the player who belongs to the player number has won, then this function returns 1. If that same player lost the game, then this function returns -1. Otherwise if the game ended in a tie, then this function returns 0.\n\nThe following three assertions test each possible outcome.",
   "metadata": {
    "cell_id": "d480b9612b1c42e98de35079dd67943c",
    "tags": [],
    "deepnote_cell_type": "markdown",
    "deepnote_cell_height": 159.171875
   }
  },
  {
   "cell_type": "code",
   "metadata": {
    "cell_id": "cf71a1a3be014019aea0c3b07f6afe3a",
    "deepnote_to_be_reexecuted": false,
    "execution_millis": 1,
    "execution_start": 1654347826821,
    "source_hash": "95ff7127",
    "tags": [],
    "deepnote_cell_type": "code",
    "deepnote_cell_height": 135
   },
   "source": "assert utility([[0, 0, 0, 0, 1, 1, 18], [0, 0, 0, 0, 0, 0, 28]],1) == 1\nassert utility([[0, 0, 0, 0, 0, 0, 36], [0, 0, 0, 0, 0, 0, 36]],0) == 0\nassert utility([[0, 0, 0, 0, 1, 1, 18], [0, 0, 0, 0, 0, 0, 28]],0) == -1\nassert utility([[0, 0, 0, 0, 1, 1, 18], [0, 0, 0, 0, 0, 0, 28]],0) in {-1,0,1}",
   "execution_count": 8,
   "outputs": []
  },
  {
   "cell_type": "markdown",
   "source": "### to_tuple\nThis function transforms a list of lists into a tuple of tuples.",
   "metadata": {
    "cell_id": "48f6d40ee29049f6bddb43b84c3f26c3",
    "tags": [],
    "deepnote_cell_type": "markdown",
    "deepnote_cell_height": 100.390625
   }
  },
  {
   "cell_type": "code",
   "metadata": {
    "cell_id": "2f604527c63d485cbfdda819a9c8c03f",
    "deepnote_to_be_reexecuted": false,
    "execution_millis": 1,
    "execution_start": 1654347826823,
    "source_hash": "2425f298",
    "tags": [],
    "deepnote_cell_type": "code",
    "deepnote_cell_height": 81
   },
   "source": "assert to_tuple([[1, 8], [1, 4]]) == ((1, 8), (1, 4))",
   "execution_count": 9,
   "outputs": []
  },
  {
   "cell_type": "markdown",
   "source": "### to_list\nThis function transforms a tuple of tuples into a list of lists",
   "metadata": {
    "cell_id": "9f682141f63f4945bcb34525a34374f4",
    "tags": [],
    "deepnote_cell_type": "markdown",
    "deepnote_cell_height": 100.390625
   }
  },
  {
   "cell_type": "code",
   "metadata": {
    "cell_id": "6154db2da55140c4af88c7ade04dab9e",
    "deepnote_to_be_reexecuted": false,
    "execution_millis": 1,
    "execution_start": 1654347826878,
    "source_hash": "1eb8215",
    "tags": [],
    "deepnote_cell_type": "code",
    "deepnote_cell_height": 81
   },
   "source": "assert to_list(((1, 8), (1, 4))) == [[1, 8], [1, 4]]",
   "execution_count": 10,
   "outputs": []
  },
  {
   "cell_type": "markdown",
   "source": "### heuristic \n\nThis function evaluates the heuristic of a given `state` for the player with the given `player_num`.\nIn the following test the influence of the available seeds is shown. In both states the stores have a difference of 3 seeds. In the second state the amount of available seeds is lower than in the first state. Therefore the heuristic for the second state should be higher.",
   "metadata": {
    "cell_id": "f70471b930204689b97c62060b423033",
    "tags": [],
    "deepnote_cell_type": "markdown",
    "deepnote_cell_height": 145.171875
   }
  },
  {
   "cell_type": "code",
   "metadata": {
    "cell_id": "54b01fd9760d4c7195acb1e15179cef0",
    "tags": [],
    "deepnote_to_be_reexecuted": false,
    "source_hash": "a4d9c419",
    "execution_start": 1654347826906,
    "execution_millis": 0,
    "deepnote_cell_type": "code",
    "deepnote_cell_height": 81
   },
   "source": "assert heuristic([[4,4,4,1,4,1,6], [4,4,4,4,4,1,3]], 0) < heuristic([[4,4,4,1,1,1,9], [4,1,4,4,4,1,6]], 0)",
   "execution_count": 11,
   "outputs": []
  },
  {
   "cell_type": "markdown",
   "source": "### value\nThis function evaluates the value of a given `state` for the player with the given `player_num`. Additionally a `limit` is being taken by the function to limit the recursion depth. ",
   "metadata": {
    "cell_id": "67a7b28952854c8cbc0e857aa17f2860",
    "tags": [],
    "deepnote_cell_type": "markdown",
    "deepnote_cell_height": 122.78125
   }
  },
  {
   "cell_type": "code",
   "metadata": {
    "cell_id": "eca8aab9c9dc4eef9cea8add04d8d300",
    "tags": [],
    "deepnote_to_be_reexecuted": false,
    "source_hash": "8b073790",
    "execution_start": 1654347826906,
    "execution_millis": 1,
    "deepnote_cell_type": "code",
    "deepnote_cell_height": 81
   },
   "source": "assert value([[0,0,0,0,0,0,21], [3,0,0,2,0,3,15]], 0, 2) == -1",
   "execution_count": 12,
   "outputs": []
  },
  {
   "cell_type": "code",
   "metadata": {
    "cell_id": "8eb603d65cca480ba8b508539aef7d45",
    "tags": [],
    "deepnote_to_be_reexecuted": false,
    "source_hash": "d2f84180",
    "execution_start": 1654347826907,
    "execution_millis": 0,
    "deepnote_cell_type": "code",
    "deepnote_cell_height": 99
   },
   "source": "\nassert value([[0,0,0,0,0,0,21], [3,0,0,2,0,3,15]], 0, 2) == utility([[0,0,0,0,0,0,21], [3,0,0,2,0,3,15]], 0)",
   "execution_count": 13,
   "outputs": []
  },
  {
   "cell_type": "code",
   "metadata": {
    "cell_id": "da9c9bf1be9646fba98505d4bdb0ea89",
    "deepnote_to_be_reexecuted": false,
    "execution_millis": 4,
    "execution_start": 1654347826908,
    "source_hash": "84cf57a",
    "tags": [],
    "deepnote_cell_type": "code",
    "deepnote_cell_height": 81
   },
   "source": "assert value(gStartState, 0, 0) == 0",
   "execution_count": 14,
   "outputs": []
  },
  {
   "cell_type": "code",
   "metadata": {
    "cell_id": "b1ade3655fd944708e28122ebf267f1d",
    "tags": [],
    "deepnote_to_be_reexecuted": false,
    "source_hash": "b1c4392d",
    "execution_start": 1654347826913,
    "execution_millis": 0,
    "deepnote_cell_type": "code",
    "deepnote_cell_height": 81
   },
   "source": "assert heuristic(gStartState, 0) == 0",
   "execution_count": 15,
   "outputs": []
  },
  {
   "cell_type": "markdown",
   "source": "## Tests of Player Class",
   "metadata": {
    "cell_id": "802ed9b2-2e18-400d-b802-ec4470c9be96",
    "tags": [],
    "deepnote_cell_type": "markdown",
    "deepnote_cell_height": 70
   }
  },
  {
   "cell_type": "markdown",
   "source": "### 1. Player name must be a string",
   "metadata": {
    "cell_id": "620e2c31-605b-4c29-9a9a-b0cc89b5c816",
    "tags": [],
    "deepnote_cell_type": "markdown",
    "deepnote_cell_height": 62
   }
  },
  {
   "cell_type": "code",
   "metadata": {
    "cell_id": "9fdde0cd-4699-4275-84d0-f650a22c0e40",
    "deepnote_to_be_reexecuted": false,
    "execution_millis": 4,
    "execution_start": 1654347826922,
    "source_hash": "54e28590",
    "tags": [],
    "deepnote_cell_type": "code",
    "deepnote_cell_height": 166.1875
   },
   "source": "try:\n    Player(3)\nexcept ValueError as e:\n    print(e)",
   "execution_count": 16,
   "outputs": [
    {
     "name": "stdout",
     "text": "Name must be a string!\n",
     "output_type": "stream"
    }
   ]
  },
  {
   "cell_type": "markdown",
   "source": "### 2. Successful Player creation",
   "metadata": {
    "cell_id": "66140f91-2464-409d-9844-c76d9d68d00a",
    "tags": [],
    "deepnote_cell_type": "markdown",
    "deepnote_cell_height": 62
   }
  },
  {
   "cell_type": "code",
   "metadata": {
    "cell_id": "ce926aec-132a-4487-8e45-33cffe234ca2",
    "deepnote_to_be_reexecuted": false,
    "execution_millis": 5,
    "execution_start": 1654347826924,
    "source_hash": "bce8bd29",
    "tags": [],
    "deepnote_cell_type": "code",
    "deepnote_cell_height": 118.1875,
    "deepnote_output_heights": [
     21.1875
    ]
   },
   "source": "Player(\"Player1\")",
   "execution_count": 17,
   "outputs": [
    {
     "output_type": "execute_result",
     "execution_count": 17,
     "data": {
      "text/plain": "<__main__.Player at 0x7fbb7bf98350>"
     },
     "metadata": {}
    }
   ]
  },
  {
   "cell_type": "markdown",
   "source": "### Test of Random_AI Player Class",
   "metadata": {
    "cell_id": "ca9d91f6-82ec-4a19-ad42-ab8fe3eb6bf2",
    "tags": [],
    "deepnote_cell_type": "markdown",
    "deepnote_cell_height": 62
   }
  },
  {
   "cell_type": "code",
   "metadata": {
    "cell_id": "39ed7357-3283-4318-8c33-60378f95bfc4",
    "deepnote_to_be_reexecuted": false,
    "execution_millis": 3,
    "execution_start": 1654347826982,
    "source_hash": "3ab2a3b0",
    "tags": [],
    "deepnote_cell_type": "code",
    "deepnote_cell_height": 81
   },
   "source": "ai = Random_AI(\"Rando\", 1)",
   "execution_count": 18,
   "outputs": []
  },
  {
   "cell_type": "code",
   "metadata": {
    "cell_id": "5592fb44-6510-42a9-8aa4-f8c8e08caed4",
    "deepnote_to_be_reexecuted": false,
    "execution_millis": 5,
    "execution_start": 1654347826986,
    "source_hash": "93789c19",
    "tags": [],
    "deepnote_cell_type": "code",
    "deepnote_cell_height": 81
   },
   "source": "assert ai.choose_house(gStartState) == 1",
   "execution_count": 19,
   "outputs": []
  },
  {
   "cell_type": "markdown",
   "source": "The `choose_house` function returns a randomly chosen house. With the seed 1 the result is always 1.",
   "metadata": {
    "cell_id": "00043-fcf5be71-f6db-4722-a99d-14383cb7fc7a",
    "deepnote_cell_type": "markdown",
    "deepnote_cell_height": 52.390625
   }
  },
  {
   "cell_type": "markdown",
   "source": "### Test of Minimax Player Class",
   "metadata": {
    "cell_id": "7af0768e-858f-43cd-bb16-34afd8a4bab9",
    "tags": [],
    "deepnote_cell_type": "markdown",
    "deepnote_cell_height": 62
   }
  },
  {
   "cell_type": "code",
   "metadata": {
    "cell_id": "fc83914d-7e50-4362-8f15-9890ff84ac5f",
    "deepnote_to_be_reexecuted": false,
    "execution_millis": 1,
    "execution_start": 1654347874372,
    "source_hash": "e6d5fd35",
    "tags": [],
    "deepnote_cell_type": "code",
    "deepnote_cell_height": 81
   },
   "source": "assert Minimax(\"Minimax\",4).choose_house(gStartState) == 5",
   "execution_count": 29,
   "outputs": []
  },
  {
   "cell_type": "markdown",
   "source": "### Test of AlphaBeta Player Class",
   "metadata": {
    "cell_id": "76caa8ba11e64a538eb5810e7ef83547",
    "tags": [],
    "deepnote_cell_type": "markdown",
    "deepnote_cell_height": 62
   }
  },
  {
   "cell_type": "code",
   "source": "assert AlphaBeta(\"AlphaBeta\",4).choose_house(gStartState) == 5",
   "metadata": {
    "cell_id": "404f27d1cda14e5283dc6b84a37605ff",
    "tags": [],
    "deepnote_to_be_reexecuted": false,
    "source_hash": "16599a75",
    "execution_start": 1654347875531,
    "execution_millis": 413,
    "deepnote_cell_type": "code",
    "deepnote_cell_height": 81
   },
   "outputs": [],
   "execution_count": 30
  },
  {
   "cell_type": "markdown",
   "source": "### Test of Scout Player Class",
   "metadata": {
    "cell_id": "ea2019a29880460eaf417737abc115a8",
    "tags": [],
    "deepnote_cell_type": "markdown",
    "deepnote_cell_height": 62
   }
  },
  {
   "cell_type": "code",
   "source": "assert Scout(\"Scout\",4).choose_house(gStartState) == 5",
   "metadata": {
    "cell_id": "3c664652f4fb4bbdb3c5ba3c1aec6565",
    "tags": [],
    "deepnote_to_be_reexecuted": false,
    "source_hash": "b2e41751",
    "execution_start": 1654347891826,
    "execution_millis": 468,
    "owner_user_id": "f69dee13-5c5e-4b97-89fa-71f96690ed33",
    "deepnote_cell_type": "code",
    "deepnote_cell_height": 81
   },
   "outputs": [],
   "execution_count": 31
  },
  {
   "cell_type": "markdown",
   "source": "## Tests of Kalah_Game Class",
   "metadata": {
    "cell_id": "29b73475-9122-48fd-8a6f-d6e7174b0c39",
    "tags": [],
    "deepnote_cell_type": "markdown",
    "deepnote_cell_height": 70
   }
  },
  {
   "cell_type": "markdown",
   "source": "The four following tests make sure that the initialization of the game class works correctly. At first the players are checked. The players need to be exactly two with the indices 0 and 1 and they need to be instances of the Player subclass. This is checked with the first three tests. The results are the error messages because the incorrect cases are tested. ",
   "metadata": {
    "cell_id": "00050-18a3e5e9-93ae-4bb8-a88f-1c354542b8c6",
    "tags": [],
    "deepnote_cell_type": "markdown",
    "deepnote_cell_height": 97.171875
   }
  },
  {
   "cell_type": "markdown",
   "source": "### 1. There must be exactly two players",
   "metadata": {
    "cell_id": "90e2ba1b-956b-494e-9c3d-d038526c45ea",
    "tags": [],
    "deepnote_cell_type": "markdown",
    "deepnote_cell_height": 62
   }
  },
  {
   "cell_type": "code",
   "metadata": {
    "cell_id": "3f773e00-1bcf-4800-b67c-35779e37c3d8",
    "tags": [],
    "deepnote_to_be_reexecuted": false,
    "source_hash": "393c40da",
    "execution_start": 1654347827537,
    "execution_millis": 43,
    "owner_user_id": "239986da-4d54-40b6-a333-38b7fc4b6fc0",
    "deepnote_cell_type": "code",
    "deepnote_cell_height": 166.1875
   },
   "source": "try:\n    game = Kalah_Game([Player(\"Test\")],0)\nexcept ValueError as e:\n    print(e)",
   "execution_count": 21,
   "outputs": [
    {
     "name": "stdout",
     "text": "There must be exactly two players!\n",
     "output_type": "stream"
    }
   ]
  },
  {
   "cell_type": "markdown",
   "source": "### 2. Players must be instances of a Player sublass",
   "metadata": {
    "cell_id": "00019-cd2aa7f3-dd66-4654-bcfb-f84053f653b2",
    "tags": [],
    "deepnote_cell_type": "markdown",
    "deepnote_cell_height": 62
   }
  },
  {
   "cell_type": "code",
   "metadata": {
    "cell_id": "9775da90-dc80-4087-bad9-20dcd3688ee5",
    "tags": [],
    "deepnote_to_be_reexecuted": false,
    "source_hash": "eb1c65b",
    "execution_start": 1654347827614,
    "execution_millis": 4,
    "deepnote_cell_type": "code",
    "deepnote_cell_height": 166.1875
   },
   "source": "try:\n    game = Kalah_Game([Player(\"Test\"), Player(\"Test\")],0)\nexcept ValueError as e:\n    print(e)",
   "execution_count": 22,
   "outputs": [
    {
     "name": "stdout",
     "text": "Both players must be of instances of a subclass of the class Player!\n",
     "output_type": "stream"
    }
   ]
  },
  {
   "cell_type": "markdown",
   "source": "### 3. Display mode must be 0, 1 or 2",
   "metadata": {
    "cell_id": "44bf0339-add2-4a8e-8b10-ae908adc30f5",
    "tags": [],
    "deepnote_cell_type": "markdown",
    "deepnote_cell_height": 62
   }
  },
  {
   "cell_type": "code",
   "metadata": {
    "cell_id": "fcb9111f-e805-4e75-88af-8bbd73a5617d",
    "tags": [],
    "deepnote_to_be_reexecuted": false,
    "source_hash": "39452bc",
    "execution_start": 1654347827615,
    "execution_millis": 3,
    "deepnote_cell_type": "code",
    "deepnote_cell_height": 166.1875
   },
   "source": "try:\n    game = Kalah_Game([Human(\"Human\"), Random_AI(\"AI\",2)],3)\nexcept ValueError as e:\n    print(e)",
   "execution_count": 23,
   "outputs": [
    {
     "name": "stdout",
     "text": "The display mode must be 0, 1 or 2!\n",
     "output_type": "stream"
    }
   ]
  },
  {
   "cell_type": "markdown",
   "source": "When the Kalah Game is created the number 0, 1 or 2 has to be provided as a parameter for the display mode. With 0 there is no output, number 1 creates a textual output and number 2 draws the board. Similar to the three tests before the incorrectcase with number 3 as input is checked which causes the error message.",
   "metadata": {
    "cell_id": "00059-7078c809-d352-4512-816b-a27fc3a5e579",
    "tags": [],
    "deepnote_cell_type": "markdown",
    "deepnote_cell_height": 97.171875
   }
  },
  {
   "cell_type": "markdown",
   "source": "### 4. Successful Game creation with two AIs",
   "metadata": {
    "cell_id": "59f51523-9192-474c-8e1e-2e93f9be0d4c",
    "tags": [],
    "deepnote_cell_type": "markdown",
    "deepnote_cell_height": 62
   }
  },
  {
   "cell_type": "markdown",
   "source": "Within this test a new game is initialized and played. The random AI and the Minimax AI are playing against each other:",
   "metadata": {
    "cell_id": "00061-442781a3-013f-4974-b5a0-6bdfb4fac5ff",
    "deepnote_cell_type": "markdown",
    "deepnote_cell_height": 52.390625
   }
  },
  {
   "cell_type": "code",
   "metadata": {
    "cell_id": "173410ec-18d3-4971-97fb-978834830cc6",
    "tags": [],
    "deepnote_to_be_reexecuted": false,
    "source_hash": "4ba87d19",
    "execution_start": 1654347827616,
    "execution_millis": 0,
    "deepnote_cell_type": "code",
    "deepnote_cell_height": 81
   },
   "source": "game = Kalah_Game([Random_AI(\"Rando\",1), Minimax(\"Mini\",4)], 1)",
   "execution_count": 24,
   "outputs": []
  },
  {
   "cell_type": "code",
   "metadata": {
    "cell_id": "ee7b8a06-dfb2-407a-bc6e-605c4da68e43",
    "scrolled": false,
    "tags": [],
    "deepnote_to_be_reexecuted": false,
    "source_hash": "f42697fa",
    "execution_start": 1654347827644,
    "execution_millis": 3445,
    "deepnote_cell_type": "code",
    "deepnote_cell_height": 719
   },
   "source": "%%time\ngame.start()",
   "execution_count": 25,
   "outputs": [
    {
     "name": "stdout",
     "text": "\nCurrent state:\nRando:\t\t\tO: 0  F: 4  E: 4  D: 4  C: 4  B: 4  A: 4  \nMini:\t\t\t\ta: 4  b: 4  c: 4  d: 4  e: 4  f: 4  o: 0  \n\nNext is Rando's turn.\nRando chose D\n\nCurrent state:\nRando:\t\t\tO: 1  F: 5  E: 5  D: 0  C: 4  B: 4  A: 4  \nMini:\t\t\t\ta: 5  b: 4  c: 4  d: 4  e: 4  f: 4  o: 0  \n\nNext is Mini's turn.\nMini chose f\n\nCurrent state:\nRando:\t\t\tO: 1  F: 5  E: 5  D: 0  C: 5  B: 5  A: 5  \nMini:\t\t\t\ta: 5  b: 4  c: 4  d: 4  e: 4  f: 0  o: 1  \n\nNext is Rando's turn.\nRando chose A\n\nCurrent state:\nRando:\t\t\tO: 1  F: 6  E: 6  D: 1  C: 6  B: 6  A: 0  \nMini:\t\t\t\ta: 5  b: 4  c: 4  d: 4  e: 4  f: 0  o: 1  \n\nNext is Mini's turn.\nMini chose d\n\nCurrent state:\nRando:\t\t\tO: 1  F: 6  E: 6  D: 1  C: 6  B: 6  A: 1  \nMini:\t\t\t\ta: 5  b: 4  c: 4  d: 0  e: 5  f: 1  o: 2  \n\nNext is Rando's turn.\nRando chose E\n\nCurrent state:\nRando:\t\t\tO: 2  F: 7  E: 0  D: 1  C: 6  B: 6  A: 1  \nMini:\t\t\t\ta: 6  b: 5  c: 5  d: 1  e: 5  f: 1  o: 2  \n\nNext is Mini's turn.\nMini chose f\nMini gets another turn!\n\nCurrent state:\nRando:\t\t\tO: 2  F: 7  E: 0  D: 1  C: 6  B: 6  A: 1  \nMini:\t\t\t\ta: 6  b: 5  c: 5  d: 1  e: 5  f: 0  o: 3  \n\nNext is Mini's turn.\nMini chose b\nMini gets another turn!\n\nCurrent state:\nRando:\t\t\tO: 2  F: 7  E: 0  D: 1  C: 6  B: 6  A: 1  \nMini:\t\t\t\ta: 6  b: 0  c: 6  d: 2  e: 6  f: 1  o: 4  \n\nNext is Mini's turn.\nMini chose f\nMini gets another turn!\n\nCurrent state:\nRando:\t\t\tO: 2  F: 7  E: 0  D: 1  C: 6  B: 6  A: 1  \nMini:\t\t\t\ta: 6  b: 0  c: 6  d: 2  e: 6  f: 0  o: 5  \n\nNext is Mini's turn.\nMini chose a\nMini gets another turn!\n\nCurrent state:\nRando:\t\t\tO: 2  F: 7  E: 0  D: 1  C: 6  B: 6  A: 1  \nMini:\t\t\t\ta: 0  b: 1  c: 7  d: 3  e: 7  f: 1  o: 6  \n\nNext is Mini's turn.\nMini chose f\nMini gets another turn!\n\nCurrent state:\nRando:\t\t\tO: 2  F: 7  E: 0  D: 1  C: 6  B: 6  A: 1  \nMini:\t\t\t\ta: 0  b: 1  c: 7  d: 3  e: 7  f: 0  o: 7  \n\nNext is Mini's turn.\nMini chose d\nMini gets another turn!\n\nCurrent state:\nRando:\t\t\tO: 2  F: 7  E: 0  D: 1  C: 6  B: 6  A: 1  \nMini:\t\t\t\ta: 0  b: 1  c: 7  d: 0  e: 8  f: 1  o: 8  \n\nNext is Mini's turn.\nMini chose f\nMini gets another turn!\n\nCurrent state:\nRando:\t\t\tO: 2  F: 7  E: 0  D: 1  C: 6  B: 6  A: 1  \nMini:\t\t\t\ta: 0  b: 1  c: 7  d: 0  e: 8  f: 0  o: 9  \n\nNext is Mini's turn.\nMini chose e\n\nCurrent state:\nRando:\t\t\tO: 2  F: 8  E: 1  D: 2  C: 7  B: 7  A: 2  \nMini:\t\t\t\ta: 0  b: 1  c: 7  d: 0  e: 0  f: 1  o: 10  \n\nNext is Rando's turn.\nRando chose B\n\nCurrent state:\nRando:\t\t\tO: 3  F: 9  E: 2  D: 3  C: 8  B: 0  A: 2  \nMini:\t\t\t\ta: 1  b: 2  c: 7  d: 0  e: 0  f: 1  o: 10  \n\nNext is Mini's turn.\nMini chose f\nMini gets another turn!\n\nCurrent state:\nRando:\t\t\tO: 3  F: 9  E: 2  D: 3  C: 8  B: 0  A: 2  \nMini:\t\t\t\ta: 1  b: 2  c: 7  d: 0  e: 0  f: 0  o: 11  \n\nNext is Mini's turn.\nMini chose b\n\nCurrent state:\nRando:\t\t\tO: 3  F: 9  E: 2  D: 3  C: 0  B: 0  A: 2  \nMini:\t\t\t\ta: 1  b: 0  c: 8  d: 0  e: 0  f: 0  o: 20  \n\nNext is Rando's turn.\nRando chose D\nRando gets another turn!\n\nCurrent state:\nRando:\t\t\tO: 4  F: 10  E: 3  D: 0  C: 0  B: 0  A: 2  \nMini:\t\t\t\ta: 1  b: 0  c: 8  d: 0  e: 0  f: 0  o: 20  \n\nNext is Rando's turn.\nRando chose E\n\nCurrent state:\nRando:\t\t\tO: 5  F: 11  E: 0  D: 0  C: 0  B: 0  A: 2  \nMini:\t\t\t\ta: 2  b: 0  c: 8  d: 0  e: 0  f: 0  o: 20  \n\nNext is Mini's turn.\nMini chose c\n\nCurrent state:\nRando:\t\t\tO: 5  F: 11  E: 0  D: 1  C: 1  B: 1  A: 3  \nMini:\t\t\t\ta: 2  b: 0  c: 0  d: 1  e: 1  f: 1  o: 21  \n\nNext is Rando's turn.\nRando chose A\n\nCurrent state:\nRando:\t\t\tO: 5  F: 11  E: 0  D: 2  C: 2  B: 2  A: 0  \nMini:\t\t\t\ta: 2  b: 0  c: 0  d: 1  e: 1  f: 1  o: 21  \n\nNext is Mini's turn.\nMini chose f\nMini gets another turn!\n\nCurrent state:\nRando:\t\t\tO: 5  F: 11  E: 0  D: 2  C: 2  B: 2  A: 0  \nMini:\t\t\t\ta: 2  b: 0  c: 0  d: 1  e: 1  f: 0  o: 22  \n\nNext is Mini's turn.\nMini chose a\n\nCurrent state:\nRando:\t\t\tO: 5  F: 11  E: 0  D: 0  C: 2  B: 2  A: 0  \nMini:\t\t\t\ta: 0  b: 1  c: 0  d: 1  e: 1  f: 0  o: 25  \n\nNext is Rando's turn.\nRando chose F\n\nCurrent state:\nRando:\t\t\tO: 8  F: 0  E: 0  D: 0  C: 3  B: 3  A: 1  \nMini:\t\t\t\ta: 1  b: 2  c: 0  d: 2  e: 2  f: 1  o: 25  \n\nNext is Mini's turn.\nMini chose b\n\nCurrent state:\nRando:\t\t\tO: 8  F: 0  E: 0  D: 0  C: 3  B: 3  A: 1  \nMini:\t\t\t\ta: 1  b: 0  c: 1  d: 3  e: 2  f: 1  o: 25  \n\nNext is Rando's turn.\nRando chose B\n\nCurrent state:\nRando:\t\t\tO: 8  F: 0  E: 1  D: 1  C: 4  B: 0  A: 1  \nMini:\t\t\t\ta: 1  b: 0  c: 1  d: 3  e: 2  f: 1  o: 25  \n\nNext is Mini's turn.\nMini chose f\nMini gets another turn!\n\nCurrent state:\nRando:\t\t\tO: 8  F: 0  E: 1  D: 1  C: 4  B: 0  A: 1  \nMini:\t\t\t\ta: 1  b: 0  c: 1  d: 3  e: 2  f: 0  o: 26  \n\nNext is Mini's turn.\nMini chose e\nMini gets another turn!\n\nCurrent state:\nRando:\t\t\tO: 8  F: 0  E: 1  D: 1  C: 4  B: 0  A: 1  \nMini:\t\t\t\ta: 1  b: 0  c: 1  d: 3  e: 0  f: 1  o: 27  \n\nNext is Mini's turn.\nMini chose f\nMini gets another turn!\n\nCurrent state:\nRando:\t\t\tO: 8  F: 0  E: 1  D: 1  C: 4  B: 0  A: 1  \nMini:\t\t\t\ta: 1  b: 0  c: 1  d: 3  e: 0  f: 0  o: 28  \n\nNext is Mini's turn.\nMini chose d\nMini gets another turn!\n\nCurrent state:\nRando:\t\t\tO: 8  F: 0  E: 1  D: 1  C: 4  B: 0  A: 1  \nMini:\t\t\t\ta: 1  b: 0  c: 1  d: 0  e: 1  f: 1  o: 29  \n\nNext is Mini's turn.\nMini chose f\nMini gets another turn!\n\nCurrent state:\nRando:\t\t\tO: 8  F: 0  E: 1  D: 1  C: 4  B: 0  A: 1  \nMini:\t\t\t\ta: 1  b: 0  c: 1  d: 0  e: 1  f: 0  o: 30  \n\nNext is Mini's turn.\nMini chose c\n\nCurrent state:\nRando:\t\t\tO: 8  F: 0  E: 1  D: 1  C: 0  B: 0  A: 1  \nMini:\t\t\t\ta: 1  b: 0  c: 0  d: 0  e: 1  f: 0  o: 35  \n\nNext is Rando's turn.\nRando chose A\n\nCurrent state:\nRando:\t\t\tO: 10  F: 0  E: 1  D: 1  C: 0  B: 0  A: 0  \nMini:\t\t\t\ta: 1  b: 0  c: 0  d: 0  e: 0  f: 0  o: 35  \n\nNext is Mini's turn.\nMini chose a\n\nRando:\t\t\tO: 10  F: 0  E: 0  D: 1  C: 0  B: 0  A: 0  \nMini:\t\t\t\ta: 0  b: 0  c: 0  d: 0  e: 0  f: 0  o: 37  \n\nFinished Game!\nMini wins with 37 to 11 points!\nCPU times: user 2.59 s, sys: 12.2 ms, total: 2.6 s\nWall time: 3.45 s\n",
     "output_type": "stream"
    }
   ]
  },
  {
   "cell_type": "markdown",
   "source": "The Minimax AI wins which is the desired outcome because the decisions from the Minimax AI should be thought-out in contrast to the random decisions from the random AI.",
   "metadata": {
    "cell_id": "00064-93e63ddc-1c7f-4907-9fc3-6f3210f56986",
    "deepnote_cell_type": "markdown",
    "deepnote_cell_height": 74.78125
   }
  },
  {
   "cell_type": "code",
   "metadata": {
    "cell_id": "5125f641-0038-46b0-a045-cc5411c46cbc",
    "tags": [],
    "deepnote_to_be_reexecuted": false,
    "source_hash": "1ebb8803",
    "execution_start": 1654347831086,
    "execution_millis": 5,
    "deepnote_cell_type": "code",
    "deepnote_cell_height": 99
   },
   "source": "timestamp = str(dt.datetime.now()).replace(':','.')\ngame.log_to_file(timestamp)",
   "execution_count": 26,
   "outputs": []
  },
  {
   "cell_type": "markdown",
   "source": "### Tests of Repeat Game",
   "metadata": {
    "cell_id": "46af8d46-0a0b-46f6-b89c-01eb041a63df",
    "tags": [],
    "deepnote_cell_type": "markdown",
    "deepnote_cell_height": 62
   }
  },
  {
   "cell_type": "markdown",
   "source": "The function `repeat_game` takes a logfile as input and shows the game with the chosen display mode. The boolean parameter determines if the decisions from the logfile should be repeated or if they should be computed again which leads to a different gameplay.",
   "metadata": {
    "cell_id": "00067-a1338599-b01f-49ef-8ab6-9d337d28eb6d",
    "deepnote_cell_type": "markdown",
    "deepnote_cell_height": 74.78125
   }
  },
  {
   "cell_type": "code",
   "metadata": {
    "cell_id": "38ce819b-6096-4eaf-85ad-26a5d1eb5978",
    "tags": [],
    "deepnote_to_be_reexecuted": false,
    "source_hash": "fcfb7dda",
    "execution_start": 1654347831097,
    "execution_millis": 33,
    "deepnote_cell_type": "code",
    "deepnote_cell_height": 719
   },
   "source": "%%time\nrepeat_game(f\"log_{timestamp}.json\",True,1)",
   "execution_count": 27,
   "outputs": [
    {
     "name": "stdout",
     "text": "\nCurrent state:\nRando:\t\t\tO: 0  F: 4  E: 4  D: 4  C: 4  B: 4  A: 4  \nMini:\t\t\t\ta: 4  b: 4  c: 4  d: 4  e: 4  f: 4  o: 0  \n\nNext is Rando's turn.\nRando chose D\n\nCurrent state:\nRando:\t\t\tO: 1  F: 5  E: 5  D: 0  C: 4  B: 4  A: 4  \nMini:\t\t\t\ta: 5  b: 4  c: 4  d: 4  e: 4  f: 4  o: 0  \n\nNext is Mini's turn.\nMini chose f\n\nCurrent state:\nRando:\t\t\tO: 1  F: 5  E: 5  D: 0  C: 5  B: 5  A: 5  \nMini:\t\t\t\ta: 5  b: 4  c: 4  d: 4  e: 4  f: 0  o: 1  \n\nNext is Rando's turn.\nRando chose A\n\nCurrent state:\nRando:\t\t\tO: 1  F: 6  E: 6  D: 1  C: 6  B: 6  A: 0  \nMini:\t\t\t\ta: 5  b: 4  c: 4  d: 4  e: 4  f: 0  o: 1  \n\nNext is Mini's turn.\nMini chose d\n\nCurrent state:\nRando:\t\t\tO: 1  F: 6  E: 6  D: 1  C: 6  B: 6  A: 1  \nMini:\t\t\t\ta: 5  b: 4  c: 4  d: 0  e: 5  f: 1  o: 2  \n\nNext is Rando's turn.\nRando chose E\n\nCurrent state:\nRando:\t\t\tO: 2  F: 7  E: 0  D: 1  C: 6  B: 6  A: 1  \nMini:\t\t\t\ta: 6  b: 5  c: 5  d: 1  e: 5  f: 1  o: 2  \n\nNext is Mini's turn.\nMini chose f\nMini gets another turn!\n\nCurrent state:\nRando:\t\t\tO: 2  F: 7  E: 0  D: 1  C: 6  B: 6  A: 1  \nMini:\t\t\t\ta: 6  b: 5  c: 5  d: 1  e: 5  f: 0  o: 3  \n\nNext is Mini's turn.\nMini chose b\nMini gets another turn!\n\nCurrent state:\nRando:\t\t\tO: 2  F: 7  E: 0  D: 1  C: 6  B: 6  A: 1  \nMini:\t\t\t\ta: 6  b: 0  c: 6  d: 2  e: 6  f: 1  o: 4  \n\nNext is Mini's turn.\nMini chose f\nMini gets another turn!\n\nCurrent state:\nRando:\t\t\tO: 2  F: 7  E: 0  D: 1  C: 6  B: 6  A: 1  \nMini:\t\t\t\ta: 6  b: 0  c: 6  d: 2  e: 6  f: 0  o: 5  \n\nNext is Mini's turn.\nMini chose a\nMini gets another turn!\n\nCurrent state:\nRando:\t\t\tO: 2  F: 7  E: 0  D: 1  C: 6  B: 6  A: 1  \nMini:\t\t\t\ta: 0  b: 1  c: 7  d: 3  e: 7  f: 1  o: 6  \n\nNext is Mini's turn.\nMini chose f\nMini gets another turn!\n\nCurrent state:\nRando:\t\t\tO: 2  F: 7  E: 0  D: 1  C: 6  B: 6  A: 1  \nMini:\t\t\t\ta: 0  b: 1  c: 7  d: 3  e: 7  f: 0  o: 7  \n\nNext is Mini's turn.\nMini chose d\nMini gets another turn!\n\nCurrent state:\nRando:\t\t\tO: 2  F: 7  E: 0  D: 1  C: 6  B: 6  A: 1  \nMini:\t\t\t\ta: 0  b: 1  c: 7  d: 0  e: 8  f: 1  o: 8  \n\nNext is Mini's turn.\nMini chose f\nMini gets another turn!\n\nCurrent state:\nRando:\t\t\tO: 2  F: 7  E: 0  D: 1  C: 6  B: 6  A: 1  \nMini:\t\t\t\ta: 0  b: 1  c: 7  d: 0  e: 8  f: 0  o: 9  \n\nNext is Mini's turn.\nMini chose e\n\nCurrent state:\nRando:\t\t\tO: 2  F: 8  E: 1  D: 2  C: 7  B: 7  A: 2  \nMini:\t\t\t\ta: 0  b: 1  c: 7  d: 0  e: 0  f: 1  o: 10  \n\nNext is Rando's turn.\nRando chose B\n\nCurrent state:\nRando:\t\t\tO: 3  F: 9  E: 2  D: 3  C: 8  B: 0  A: 2  \nMini:\t\t\t\ta: 1  b: 2  c: 7  d: 0  e: 0  f: 1  o: 10  \n\nNext is Mini's turn.\nMini chose f\nMini gets another turn!\n\nCurrent state:\nRando:\t\t\tO: 3  F: 9  E: 2  D: 3  C: 8  B: 0  A: 2  \nMini:\t\t\t\ta: 1  b: 2  c: 7  d: 0  e: 0  f: 0  o: 11  \n\nNext is Mini's turn.\nMini chose b\n\nCurrent state:\nRando:\t\t\tO: 3  F: 9  E: 2  D: 3  C: 0  B: 0  A: 2  \nMini:\t\t\t\ta: 1  b: 0  c: 8  d: 0  e: 0  f: 0  o: 20  \n\nNext is Rando's turn.\nRando chose D\nRando gets another turn!\n\nCurrent state:\nRando:\t\t\tO: 4  F: 10  E: 3  D: 0  C: 0  B: 0  A: 2  \nMini:\t\t\t\ta: 1  b: 0  c: 8  d: 0  e: 0  f: 0  o: 20  \n\nNext is Rando's turn.\nRando chose E\n\nCurrent state:\nRando:\t\t\tO: 5  F: 11  E: 0  D: 0  C: 0  B: 0  A: 2  \nMini:\t\t\t\ta: 2  b: 0  c: 8  d: 0  e: 0  f: 0  o: 20  \n\nNext is Mini's turn.\nMini chose c\n\nCurrent state:\nRando:\t\t\tO: 5  F: 11  E: 0  D: 1  C: 1  B: 1  A: 3  \nMini:\t\t\t\ta: 2  b: 0  c: 0  d: 1  e: 1  f: 1  o: 21  \n\nNext is Rando's turn.\nRando chose A\n\nCurrent state:\nRando:\t\t\tO: 5  F: 11  E: 0  D: 2  C: 2  B: 2  A: 0  \nMini:\t\t\t\ta: 2  b: 0  c: 0  d: 1  e: 1  f: 1  o: 21  \n\nNext is Mini's turn.\nMini chose f\nMini gets another turn!\n\nCurrent state:\nRando:\t\t\tO: 5  F: 11  E: 0  D: 2  C: 2  B: 2  A: 0  \nMini:\t\t\t\ta: 2  b: 0  c: 0  d: 1  e: 1  f: 0  o: 22  \n\nNext is Mini's turn.\nMini chose a\n\nCurrent state:\nRando:\t\t\tO: 5  F: 11  E: 0  D: 0  C: 2  B: 2  A: 0  \nMini:\t\t\t\ta: 0  b: 1  c: 0  d: 1  e: 1  f: 0  o: 25  \n\nNext is Rando's turn.\nRando chose F\n\nCurrent state:\nRando:\t\t\tO: 8  F: 0  E: 0  D: 0  C: 3  B: 3  A: 1  \nMini:\t\t\t\ta: 1  b: 2  c: 0  d: 2  e: 2  f: 1  o: 25  \n\nNext is Mini's turn.\nMini chose b\n\nCurrent state:\nRando:\t\t\tO: 8  F: 0  E: 0  D: 0  C: 3  B: 3  A: 1  \nMini:\t\t\t\ta: 1  b: 0  c: 1  d: 3  e: 2  f: 1  o: 25  \n\nNext is Rando's turn.\nRando chose B\n\nCurrent state:\nRando:\t\t\tO: 8  F: 0  E: 1  D: 1  C: 4  B: 0  A: 1  \nMini:\t\t\t\ta: 1  b: 0  c: 1  d: 3  e: 2  f: 1  o: 25  \n\nNext is Mini's turn.\nMini chose f\nMini gets another turn!\n\nCurrent state:\nRando:\t\t\tO: 8  F: 0  E: 1  D: 1  C: 4  B: 0  A: 1  \nMini:\t\t\t\ta: 1  b: 0  c: 1  d: 3  e: 2  f: 0  o: 26  \n\nNext is Mini's turn.\nMini chose e\nMini gets another turn!\n\nCurrent state:\nRando:\t\t\tO: 8  F: 0  E: 1  D: 1  C: 4  B: 0  A: 1  \nMini:\t\t\t\ta: 1  b: 0  c: 1  d: 3  e: 0  f: 1  o: 27  \n\nNext is Mini's turn.\nMini chose f\nMini gets another turn!\n\nCurrent state:\nRando:\t\t\tO: 8  F: 0  E: 1  D: 1  C: 4  B: 0  A: 1  \nMini:\t\t\t\ta: 1  b: 0  c: 1  d: 3  e: 0  f: 0  o: 28  \n\nNext is Mini's turn.\nMini chose d\nMini gets another turn!\n\nCurrent state:\nRando:\t\t\tO: 8  F: 0  E: 1  D: 1  C: 4  B: 0  A: 1  \nMini:\t\t\t\ta: 1  b: 0  c: 1  d: 0  e: 1  f: 1  o: 29  \n\nNext is Mini's turn.\nMini chose f\nMini gets another turn!\n\nCurrent state:\nRando:\t\t\tO: 8  F: 0  E: 1  D: 1  C: 4  B: 0  A: 1  \nMini:\t\t\t\ta: 1  b: 0  c: 1  d: 0  e: 1  f: 0  o: 30  \n\nNext is Mini's turn.\nMini chose c\n\nCurrent state:\nRando:\t\t\tO: 8  F: 0  E: 1  D: 1  C: 0  B: 0  A: 1  \nMini:\t\t\t\ta: 1  b: 0  c: 0  d: 0  e: 1  f: 0  o: 35  \n\nNext is Rando's turn.\nRando chose A\n\nCurrent state:\nRando:\t\t\tO: 10  F: 0  E: 1  D: 1  C: 0  B: 0  A: 0  \nMini:\t\t\t\ta: 1  b: 0  c: 0  d: 0  e: 0  f: 0  o: 35  \n\nNext is Mini's turn.\nMini chose a\n\nRando:\t\t\tO: 10  F: 0  E: 0  D: 1  C: 0  B: 0  A: 0  \nMini:\t\t\t\ta: 0  b: 0  c: 0  d: 0  e: 0  f: 0  o: 37  \n\nFinished Game!\nMini wins with 37 to 11 points!\nCPU times: user 9.36 ms, sys: 122 µs, total: 9.48 ms\nWall time: 7.44 ms\n",
     "output_type": "stream"
    }
   ]
  },
  {
   "cell_type": "markdown",
   "source": "Repeating the game of two AIs, where the decisions are repeated based on the log file.\n",
   "metadata": {
    "cell_id": "00069-981ca420-6217-4581-8af3-787ee55056ad",
    "deepnote_cell_type": "markdown",
    "deepnote_cell_height": 52.390625
   }
  },
  {
   "cell_type": "code",
   "metadata": {
    "cell_id": "cb91697d-e8a1-46df-a0de-f9d00cfab266",
    "tags": [],
    "deepnote_to_be_reexecuted": false,
    "source_hash": "db26d84a",
    "execution_start": 1654347831129,
    "execution_millis": 88,
    "deepnote_cell_type": "code",
    "deepnote_cell_height": 719
   },
   "source": "%%time\nrepeat_game(f\"log_{timestamp}.json\",False,1)",
   "execution_count": 28,
   "outputs": [
    {
     "name": "stdout",
     "text": "\nCurrent state:\nRando:\t\t\tO: 0  F: 4  E: 4  D: 4  C: 4  B: 4  A: 4  \nMini:\t\t\t\ta: 4  b: 4  c: 4  d: 4  e: 4  f: 4  o: 0  \n\nNext is Rando's turn.\nRando chose D\n\nCurrent state:\nRando:\t\t\tO: 1  F: 5  E: 5  D: 0  C: 4  B: 4  A: 4  \nMini:\t\t\t\ta: 5  b: 4  c: 4  d: 4  e: 4  f: 4  o: 0  \n\nNext is Mini's turn.\nMini chose f\n\nCurrent state:\nRando:\t\t\tO: 1  F: 5  E: 5  D: 0  C: 5  B: 5  A: 5  \nMini:\t\t\t\ta: 5  b: 4  c: 4  d: 4  e: 4  f: 0  o: 1  \n\nNext is Rando's turn.\nRando chose A\n\nCurrent state:\nRando:\t\t\tO: 1  F: 6  E: 6  D: 1  C: 6  B: 6  A: 0  \nMini:\t\t\t\ta: 5  b: 4  c: 4  d: 4  e: 4  f: 0  o: 1  \n\nNext is Mini's turn.\nMini chose d\n\nCurrent state:\nRando:\t\t\tO: 1  F: 6  E: 6  D: 1  C: 6  B: 6  A: 1  \nMini:\t\t\t\ta: 5  b: 4  c: 4  d: 0  e: 5  f: 1  o: 2  \n\nNext is Rando's turn.\nRando chose E\n\nCurrent state:\nRando:\t\t\tO: 2  F: 7  E: 0  D: 1  C: 6  B: 6  A: 1  \nMini:\t\t\t\ta: 6  b: 5  c: 5  d: 1  e: 5  f: 1  o: 2  \n\nNext is Mini's turn.\nMini chose f\nMini gets another turn!\n\nCurrent state:\nRando:\t\t\tO: 2  F: 7  E: 0  D: 1  C: 6  B: 6  A: 1  \nMini:\t\t\t\ta: 6  b: 5  c: 5  d: 1  e: 5  f: 0  o: 3  \n\nNext is Mini's turn.\nMini chose b\nMini gets another turn!\n\nCurrent state:\nRando:\t\t\tO: 2  F: 7  E: 0  D: 1  C: 6  B: 6  A: 1  \nMini:\t\t\t\ta: 6  b: 0  c: 6  d: 2  e: 6  f: 1  o: 4  \n\nNext is Mini's turn.\nMini chose f\nMini gets another turn!\n\nCurrent state:\nRando:\t\t\tO: 2  F: 7  E: 0  D: 1  C: 6  B: 6  A: 1  \nMini:\t\t\t\ta: 6  b: 0  c: 6  d: 2  e: 6  f: 0  o: 5  \n\nNext is Mini's turn.\nMini chose a\nMini gets another turn!\n\nCurrent state:\nRando:\t\t\tO: 2  F: 7  E: 0  D: 1  C: 6  B: 6  A: 1  \nMini:\t\t\t\ta: 0  b: 1  c: 7  d: 3  e: 7  f: 1  o: 6  \n\nNext is Mini's turn.\nMini chose f\nMini gets another turn!\n\nCurrent state:\nRando:\t\t\tO: 2  F: 7  E: 0  D: 1  C: 6  B: 6  A: 1  \nMini:\t\t\t\ta: 0  b: 1  c: 7  d: 3  e: 7  f: 0  o: 7  \n\nNext is Mini's turn.\nMini chose d\nMini gets another turn!\n\nCurrent state:\nRando:\t\t\tO: 2  F: 7  E: 0  D: 1  C: 6  B: 6  A: 1  \nMini:\t\t\t\ta: 0  b: 1  c: 7  d: 0  e: 8  f: 1  o: 8  \n\nNext is Mini's turn.\nMini chose f\nMini gets another turn!\n\nCurrent state:\nRando:\t\t\tO: 2  F: 7  E: 0  D: 1  C: 6  B: 6  A: 1  \nMini:\t\t\t\ta: 0  b: 1  c: 7  d: 0  e: 8  f: 0  o: 9  \n\nNext is Mini's turn.\nMini chose e\n\nCurrent state:\nRando:\t\t\tO: 2  F: 8  E: 1  D: 2  C: 7  B: 7  A: 2  \nMini:\t\t\t\ta: 0  b: 1  c: 7  d: 0  e: 0  f: 1  o: 10  \n\nNext is Rando's turn.\nRando chose B\n\nCurrent state:\nRando:\t\t\tO: 3  F: 9  E: 2  D: 3  C: 8  B: 0  A: 2  \nMini:\t\t\t\ta: 1  b: 2  c: 7  d: 0  e: 0  f: 1  o: 10  \n\nNext is Mini's turn.\nMini chose f\nMini gets another turn!\n\nCurrent state:\nRando:\t\t\tO: 3  F: 9  E: 2  D: 3  C: 8  B: 0  A: 2  \nMini:\t\t\t\ta: 1  b: 2  c: 7  d: 0  e: 0  f: 0  o: 11  \n\nNext is Mini's turn.\nMini chose b\n\nCurrent state:\nRando:\t\t\tO: 3  F: 9  E: 2  D: 3  C: 0  B: 0  A: 2  \nMini:\t\t\t\ta: 1  b: 0  c: 8  d: 0  e: 0  f: 0  o: 20  \n\nNext is Rando's turn.\nRando chose D\nRando gets another turn!\n\nCurrent state:\nRando:\t\t\tO: 4  F: 10  E: 3  D: 0  C: 0  B: 0  A: 2  \nMini:\t\t\t\ta: 1  b: 0  c: 8  d: 0  e: 0  f: 0  o: 20  \n\nNext is Rando's turn.\nRando chose E\n\nCurrent state:\nRando:\t\t\tO: 5  F: 11  E: 0  D: 0  C: 0  B: 0  A: 2  \nMini:\t\t\t\ta: 2  b: 0  c: 8  d: 0  e: 0  f: 0  o: 20  \n\nNext is Mini's turn.\nMini chose c\n\nCurrent state:\nRando:\t\t\tO: 5  F: 11  E: 0  D: 1  C: 1  B: 1  A: 3  \nMini:\t\t\t\ta: 2  b: 0  c: 0  d: 1  e: 1  f: 1  o: 21  \n\nNext is Rando's turn.\nRando chose A\n\nCurrent state:\nRando:\t\t\tO: 5  F: 11  E: 0  D: 2  C: 2  B: 2  A: 0  \nMini:\t\t\t\ta: 2  b: 0  c: 0  d: 1  e: 1  f: 1  o: 21  \n\nNext is Mini's turn.\nMini chose f\nMini gets another turn!\n\nCurrent state:\nRando:\t\t\tO: 5  F: 11  E: 0  D: 2  C: 2  B: 2  A: 0  \nMini:\t\t\t\ta: 2  b: 0  c: 0  d: 1  e: 1  f: 0  o: 22  \n\nNext is Mini's turn.\nMini chose a\n\nCurrent state:\nRando:\t\t\tO: 5  F: 11  E: 0  D: 0  C: 2  B: 2  A: 0  \nMini:\t\t\t\ta: 0  b: 1  c: 0  d: 1  e: 1  f: 0  o: 25  \n\nNext is Rando's turn.\nRando chose F\n\nCurrent state:\nRando:\t\t\tO: 8  F: 0  E: 0  D: 0  C: 3  B: 3  A: 1  \nMini:\t\t\t\ta: 1  b: 2  c: 0  d: 2  e: 2  f: 1  o: 25  \n\nNext is Mini's turn.\nMini chose b\n\nCurrent state:\nRando:\t\t\tO: 8  F: 0  E: 0  D: 0  C: 3  B: 3  A: 1  \nMini:\t\t\t\ta: 1  b: 0  c: 1  d: 3  e: 2  f: 1  o: 25  \n\nNext is Rando's turn.\nRando chose B\n\nCurrent state:\nRando:\t\t\tO: 8  F: 0  E: 1  D: 1  C: 4  B: 0  A: 1  \nMini:\t\t\t\ta: 1  b: 0  c: 1  d: 3  e: 2  f: 1  o: 25  \n\nNext is Mini's turn.\nMini chose f\nMini gets another turn!\n\nCurrent state:\nRando:\t\t\tO: 8  F: 0  E: 1  D: 1  C: 4  B: 0  A: 1  \nMini:\t\t\t\ta: 1  b: 0  c: 1  d: 3  e: 2  f: 0  o: 26  \n\nNext is Mini's turn.\nMini chose e\nMini gets another turn!\n\nCurrent state:\nRando:\t\t\tO: 8  F: 0  E: 1  D: 1  C: 4  B: 0  A: 1  \nMini:\t\t\t\ta: 1  b: 0  c: 1  d: 3  e: 0  f: 1  o: 27  \n\nNext is Mini's turn.\nMini chose f\nMini gets another turn!\n\nCurrent state:\nRando:\t\t\tO: 8  F: 0  E: 1  D: 1  C: 4  B: 0  A: 1  \nMini:\t\t\t\ta: 1  b: 0  c: 1  d: 3  e: 0  f: 0  o: 28  \n\nNext is Mini's turn.\nMini chose d\nMini gets another turn!\n\nCurrent state:\nRando:\t\t\tO: 8  F: 0  E: 1  D: 1  C: 4  B: 0  A: 1  \nMini:\t\t\t\ta: 1  b: 0  c: 1  d: 0  e: 1  f: 1  o: 29  \n\nNext is Mini's turn.\nMini chose f\nMini gets another turn!\n\nCurrent state:\nRando:\t\t\tO: 8  F: 0  E: 1  D: 1  C: 4  B: 0  A: 1  \nMini:\t\t\t\ta: 1  b: 0  c: 1  d: 0  e: 1  f: 0  o: 30  \n\nNext is Mini's turn.\nMini chose c\n\nCurrent state:\nRando:\t\t\tO: 8  F: 0  E: 1  D: 1  C: 0  B: 0  A: 1  \nMini:\t\t\t\ta: 1  b: 0  c: 0  d: 0  e: 1  f: 0  o: 35  \n\nNext is Rando's turn.\nRando chose A\n\nCurrent state:\nRando:\t\t\tO: 10  F: 0  E: 1  D: 1  C: 0  B: 0  A: 0  \nMini:\t\t\t\ta: 1  b: 0  c: 0  d: 0  e: 0  f: 0  o: 35  \n\nNext is Mini's turn.\nMini chose a\n\nRando:\t\t\tO: 10  F: 0  E: 0  D: 1  C: 0  B: 0  A: 0  \nMini:\t\t\t\ta: 0  b: 0  c: 0  d: 0  e: 0  f: 0  o: 37  \n\nFinished Game!\nMini wins with 37 to 11 points!\nCPU times: user 39.2 ms, sys: 16.2 ms, total: 55.4 ms\nWall time: 83.1 ms\n",
     "output_type": "stream"
    }
   ]
  },
  {
   "cell_type": "markdown",
   "source": "Repeating the game of two AIs, where both of them calculate their decisions new.",
   "metadata": {
    "cell_id": "bd7a8d9f-d537-44f0-901c-20618c2f037b",
    "tags": [],
    "deepnote_cell_type": "markdown",
    "deepnote_cell_height": 52.390625
   }
  },
  {
   "cell_type": "markdown",
   "source": "",
   "metadata": {
    "cell_id": "58b0dbc800c4480ea66516d42e26c90a",
    "tags": [],
    "deepnote_cell_type": "markdown",
    "deepnote_cell_height": 46
   }
  },
  {
   "cell_type": "markdown",
   "source": "<a style='text-decoration:none;line-height:16px;display:flex;color:#5B5B62;padding:10px;justify-content:end;' href='https://deepnote.com?utm_source=created-in-deepnote-cell&projectId=b91c3ea7-d814-439b-837a-72fdc90697b1' target=\"_blank\">\n<img alt='Created in deepnote.com' style='display:inline;max-height:16px;margin:0px;margin-right:7.5px;' src='data:image/svg+xml;base64,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' > </img>\nCreated in <span style='font-weight:600;margin-left:4px;'>Deepnote</span></a>",
   "metadata": {
    "tags": [],
    "created_in_deepnote_cell": true,
    "deepnote_cell_type": "markdown"
   }
  }
 ],
 "nbformat": 4,
 "nbformat_minor": 2,
 "metadata": {
  "deepnote": {},
  "deepnote_execution_queue": [],
  "deepnote_notebook_id": "14354731-2ca2-41c5-970e-e7a0cfba5e9c",
  "kernelspec": {
   "display_name": "Python 3",
   "language": "python",
   "name": "python3"
  },
  "language_info": {
   "codemirror_mode": {
    "name": "ipython",
    "version": 3
   },
   "file_extension": ".py",
   "mimetype": "text/x-python",
   "name": "python",
   "nbconvert_exporter": "python",
   "pygments_lexer": "ipython3",
   "version": "3.7.4"
  }
 }
}