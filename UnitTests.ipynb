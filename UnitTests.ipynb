{
 "cells": [
  {
   "cell_type": "markdown",
   "source": "# UnitTests\n\nThis notebook is used for testing the functions from the notebook \"Classes\".\n\n<b style=\"background-color:yellow; color:blue\">TODO:</b>\nComment each test and discuss the results",
   "metadata": {
    "cell_id": "fa3129e4-867e-4e55-9ce9-10502287d90a",
    "deepnote_cell_type": "markdown",
    "deepnote_cell_height": 156.78125
   }
  },
  {
   "cell_type": "code",
   "metadata": {
    "cell_id": "b757e62a-ba19-41fd-aa26-d9ec3fc97ce2",
    "deepnote_to_be_reexecuted": false,
    "execution_millis": 440,
    "execution_start": 1651502529350,
    "source_hash": "de66e3ae",
    "tags": [],
    "deepnote_cell_type": "code",
    "deepnote_cell_height": 99
   },
   "source": "%run Core.ipynb\n#%run Visualization.ipynb",
   "execution_count": 1,
   "outputs": []
  },
  {
   "cell_type": "markdown",
   "source": "## Tests of global game functions",
   "metadata": {
    "cell_id": "d2934c819a044a8bb171b8d588cc78ea",
    "deepnote_to_be_reexecuted": false,
    "execution_millis": 0,
    "execution_start": 1650975968544,
    "source_hash": "f44517b3",
    "tags": [],
    "deepnote_cell_type": "markdown",
    "deepnote_cell_height": 70
   }
  },
  {
   "cell_type": "markdown",
   "source": "### other_player",
   "metadata": {
    "cell_id": "b34c48ad776b446d8d2a4f8c75eb41d3",
    "tags": [],
    "deepnote_cell_type": "markdown",
    "deepnote_cell_height": 62
   }
  },
  {
   "cell_type": "code",
   "metadata": {
    "cell_id": "5677f9f6eaa244ebb54719c48428207a",
    "deepnote_to_be_reexecuted": false,
    "execution_millis": 6,
    "execution_start": 1651502531705,
    "source_hash": "e82b6487",
    "tags": [],
    "deepnote_cell_type": "code",
    "deepnote_cell_height": 81
   },
   "source": "assert other_player(0) == 1",
   "execution_count": 2,
   "outputs": []
  },
  {
   "cell_type": "markdown",
   "source": "The other_player function changes the current player with the help of modulo. As expected the result for other_player(0) is the opponent with the number 1.",
   "metadata": {
    "cell_id": "cd4b7ad4ea794324939c2bd2c85c4f67",
    "tags": [],
    "deepnote_cell_type": "markdown",
    "deepnote_cell_height": 74.78125
   }
  },
  {
   "cell_type": "markdown",
   "source": "### move",
   "metadata": {
    "cell_id": "6ce6b495f0bf4bf4ad21c8d33fd5b81b",
    "tags": [],
    "deepnote_cell_type": "markdown",
    "deepnote_cell_height": 62
   }
  },
  {
   "cell_type": "code",
   "metadata": {
    "cell_id": "5d4ec374a70d4a7d9cc719826a86ceb1",
    "deepnote_to_be_reexecuted": false,
    "execution_millis": 4,
    "execution_start": 1651502533911,
    "source_hash": "fb6bb429",
    "tags": [],
    "deepnote_cell_type": "code",
    "deepnote_cell_height": 81
   },
   "source": "assert move(gStartState, 0, 4) == ([[4, 4, 4, 4, 0, 5, 1], [5, 5, 4, 4, 4, 4, 0]], False)",
   "execution_count": 3,
   "outputs": []
  },
  {
   "cell_type": "code",
   "metadata": {
    "cell_id": "5440e9f2bc0b48b888132db68c173bf5",
    "deepnote_to_be_reexecuted": false,
    "execution_millis": 4,
    "execution_start": 1651502534014,
    "source_hash": "65e88e68",
    "tags": [],
    "deepnote_cell_type": "code",
    "deepnote_cell_height": 81
   },
   "source": "assert move(gStartState, 0, 2) == ([[4, 4, 0, 5, 5, 5, 1], [4, 4, 4, 4, 4, 4, 0]], True)",
   "execution_count": 4,
   "outputs": []
  },
  {
   "cell_type": "markdown",
   "source": "The move function returns True if the player gets another turn. If it is the opponents turn move returns False. In a game with four seeds in the start state the player gets another turn when he chooses the house with the index 2.  ",
   "metadata": {
    "cell_id": "ff6fe64de11842758e5c6e637fa97022",
    "tags": [],
    "deepnote_cell_type": "markdown",
    "deepnote_cell_height": 74.78125
   }
  },
  {
   "cell_type": "markdown",
   "source": "### next_states",
   "metadata": {
    "cell_id": "852f402fcb57461db5fc6f9d26d917ab",
    "tags": [],
    "deepnote_cell_type": "markdown",
    "deepnote_cell_height": 62
   }
  },
  {
   "cell_type": "code",
   "metadata": {
    "cell_id": "f0db7b2776914e4aa81113c715623fc5",
    "deepnote_to_be_reexecuted": false,
    "execution_millis": 1,
    "execution_start": 1651502536711,
    "source_hash": "78920294",
    "tags": [],
    "deepnote_cell_type": "code",
    "deepnote_cell_height": 81
   },
   "source": "assert next_states([[0, 0, 0, 0, 0, 1, 43], [0, 2, 0, 1, 2, 1, 22]],0) == [([[0, 0, 0, 0, 0, 0, 44], [0, 2, 0, 1, 2, 1, 22]], [5])]",
   "execution_count": 5,
   "outputs": []
  },
  {
   "cell_type": "markdown",
   "source": "The next_states function returns a list that contains all reachable states from the state and the player which are provided as parameters. The result contains the seeds in both halfs and the chosen house which leaded to that state. In this tests a penultimate state is given that only allows one move. The result is a terminal state where player 1 put the seed from the sixth house in his Kalah.",
   "metadata": {
    "cell_id": "00012-712abcbd-32d8-4269-aab0-15805462a53e",
    "tags": [],
    "deepnote_cell_type": "markdown",
    "deepnote_cell_height": 119.5625
   }
  },
  {
   "cell_type": "markdown",
   "source": "### finished",
   "metadata": {
    "cell_id": "c3f61a4bd9184f1ab3636ec411d78543",
    "tags": [],
    "deepnote_cell_type": "markdown",
    "deepnote_cell_height": 62
   }
  },
  {
   "cell_type": "code",
   "metadata": {
    "cell_id": "8a1e2d6c649d4e64abe24ad941ce548b",
    "deepnote_to_be_reexecuted": false,
    "execution_millis": 3,
    "execution_start": 1651502537853,
    "source_hash": "8d2ad286",
    "tags": [],
    "deepnote_cell_type": "code",
    "deepnote_cell_height": 81
   },
   "source": "assert finished([[0,0,5,0,0,0,12],[0,4,0,0,0,0,15]]) == False",
   "execution_count": 6,
   "outputs": []
  },
  {
   "cell_type": "code",
   "metadata": {
    "allow_embed": false,
    "cell_id": "e62caf175bcf4fe0a4e863b20af53b68",
    "deepnote_to_be_reexecuted": false,
    "execution_millis": 3,
    "execution_start": 1651502539347,
    "source_hash": "2a958d4a",
    "tags": [],
    "deepnote_cell_type": "code",
    "deepnote_cell_height": 81
   },
   "source": "assert finished([[0, 0, 0, 0, 1, 1, 18], [0, 0, 0, 0, 0, 0, 28]]) == True",
   "execution_count": 7,
   "outputs": []
  },
  {
   "cell_type": "markdown",
   "source": "The finished function checks if a given state is a terminal state for the game and returns a boolean value. The game is finished when all houses from one player are empty. Both possible cases are checked in this test",
   "metadata": {
    "cell_id": "00016-bc2f8d7d-2911-4c87-bbd2-9682182ace77",
    "tags": [],
    "deepnote_cell_type": "markdown",
    "deepnote_cell_height": 74.78125
   }
  },
  {
   "cell_type": "markdown",
   "source": "### utility",
   "metadata": {
    "cell_id": "d480b9612b1c42e98de35079dd67943c",
    "tags": [],
    "deepnote_cell_type": "markdown",
    "deepnote_cell_height": 62
   }
  },
  {
   "cell_type": "code",
   "metadata": {
    "cell_id": "cf71a1a3be014019aea0c3b07f6afe3a",
    "deepnote_to_be_reexecuted": false,
    "execution_millis": 0,
    "execution_start": 1651502540532,
    "source_hash": "c621789a",
    "tags": [],
    "deepnote_cell_type": "code",
    "deepnote_cell_height": 81
   },
   "source": "assert utility([[0, 0, 0, 0, 1, 1, 18], [0, 0, 0, 0, 0, 0, 28]],1) == 1",
   "execution_count": 8,
   "outputs": []
  },
  {
   "cell_type": "code",
   "metadata": {
    "allow_embed": false,
    "cell_id": "af507218d8b1421c80c81c0782e15f93",
    "deepnote_to_be_reexecuted": false,
    "execution_millis": 0,
    "execution_start": 1651502540634,
    "source_hash": "6189dfcf",
    "tags": [],
    "deepnote_cell_type": "code",
    "deepnote_cell_height": 81
   },
   "source": "assert utility([[0, 0, 0, 0, 1, 1, 18], [0, 0, 0, 0, 0, 0, 28]],0) == -1",
   "execution_count": 9,
   "outputs": []
  },
  {
   "cell_type": "markdown",
   "source": "The function utility takes a terminal state and a player and return -1, 0 or 1 depending on the outcome for the given player. In the first test the second player has more seeds in his Kalah and the second player with index 1 is handed over. In that case the player wins so the result 1 is correct. The second test takes the same state but the first player and in that case -1 is the correct result because the player is losing.",
   "metadata": {
    "cell_id": "00020-7f685f01-98ff-4287-b462-57cac7826b59",
    "tags": [],
    "deepnote_cell_type": "markdown",
    "deepnote_cell_height": 119.5625
   }
  },
  {
   "cell_type": "markdown",
   "source": "### to_tuple",
   "metadata": {
    "cell_id": "48f6d40ee29049f6bddb43b84c3f26c3",
    "tags": [],
    "deepnote_cell_type": "markdown",
    "deepnote_cell_height": 62
   }
  },
  {
   "cell_type": "code",
   "metadata": {
    "cell_id": "2f604527c63d485cbfdda819a9c8c03f",
    "deepnote_to_be_reexecuted": false,
    "execution_millis": 1,
    "execution_start": 1651502542453,
    "source_hash": "a69f9b38",
    "tags": [],
    "deepnote_cell_type": "code",
    "deepnote_cell_height": 81
   },
   "source": "assert to_tuple([[1, 8, 1, 0, 1, 2, 16], [1, 4, 0, 4, 15, 14, 5]]) == ((1, 8, 1, 0, 1, 2, 16), (1, 4, 0, 4, 15, 14, 5))",
   "execution_count": 10,
   "outputs": []
  },
  {
   "cell_type": "markdown",
   "source": "The function to_tuple has the purpose to turn a list into a tuple. ",
   "metadata": {
    "cell_id": "00023-ce663ee1-ff45-4711-bf3d-a37a8204d503",
    "tags": [],
    "deepnote_cell_type": "markdown",
    "deepnote_cell_height": 52.390625
   }
  },
  {
   "cell_type": "markdown",
   "source": "### to_list",
   "metadata": {
    "cell_id": "9f682141f63f4945bcb34525a34374f4",
    "tags": [],
    "deepnote_cell_type": "markdown",
    "deepnote_cell_height": 62
   }
  },
  {
   "cell_type": "code",
   "metadata": {
    "cell_id": "6154db2da55140c4af88c7ade04dab9e",
    "deepnote_to_be_reexecuted": false,
    "execution_millis": 1,
    "execution_start": 1651502542575,
    "source_hash": "e4712384",
    "tags": [],
    "deepnote_cell_type": "code",
    "deepnote_cell_height": 81
   },
   "source": "assert to_list([[1, 8, 1, 0, 1, 2, 16], [1, 4, 0, 4, 15, 14, 5]]) == [[1, 8, 1, 0, 1, 2, 16], [1, 4, 0, 4, 15, 14, 5]]",
   "execution_count": 11,
   "outputs": []
  },
  {
   "cell_type": "markdown",
   "source": "The function to_list has the purpose to turn a tuple into a list. ",
   "metadata": {
    "cell_id": "00026-4502cd58-089b-4635-8607-65d9ceba5b44",
    "tags": [],
    "deepnote_cell_type": "markdown",
    "deepnote_cell_height": 52.390625
   }
  },
  {
   "cell_type": "markdown",
   "source": "### value",
   "metadata": {
    "cell_id": "67a7b28952854c8cbc0e857aa17f2860",
    "tags": [],
    "deepnote_cell_type": "markdown",
    "deepnote_cell_height": 62
   }
  },
  {
   "cell_type": "code",
   "metadata": {
    "cell_id": "da9c9bf1be9646fba98505d4bdb0ea89",
    "deepnote_to_be_reexecuted": false,
    "execution_millis": 6,
    "execution_start": 1651502569684,
    "source_hash": "7c742217",
    "tags": [],
    "deepnote_cell_type": "code",
    "deepnote_cell_height": 81,
    "deepnote_output_heights": [
     21.1875
    ]
   },
   "source": "assert value([[1, 8, 1, 0, 1, 2, 16], [1, 4, 0, 4, 15, 14, 5]], 0, 3) == 0.36",
   "execution_count": 14,
   "outputs": []
  },
  {
   "cell_type": "markdown",
   "source": "<b style=\"background-color:yellow; color:blue\">value nach Bearbeitung mit Heuristik betrachten</b> \nThe function utility",
   "metadata": {
    "cell_id": "00029-e9912874-077d-4c54-92b6-8f9dcc04116f",
    "tags": [],
    "deepnote_cell_type": "markdown",
    "deepnote_cell_height": 52.390625
   }
  },
  {
   "cell_type": "markdown",
   "source": "## Tests of Player Class",
   "metadata": {
    "cell_id": "802ed9b2-2e18-400d-b802-ec4470c9be96",
    "tags": [],
    "deepnote_cell_type": "markdown",
    "deepnote_cell_height": 70
   }
  },
  {
   "cell_type": "markdown",
   "source": "### 1. Player name must be a string",
   "metadata": {
    "cell_id": "620e2c31-605b-4c29-9a9a-b0cc89b5c816",
    "tags": [],
    "deepnote_cell_type": "markdown",
    "deepnote_cell_height": 62
   }
  },
  {
   "cell_type": "code",
   "metadata": {
    "cell_id": "9fdde0cd-4699-4275-84d0-f650a22c0e40",
    "deepnote_to_be_reexecuted": false,
    "execution_millis": 41,
    "execution_start": 1651502591229,
    "source_hash": "54e28590",
    "tags": [],
    "deepnote_cell_type": "code",
    "deepnote_cell_height": 166.1875
   },
   "source": "try:\n    Player(3)\nexcept ValueError as e:\n    print(e)",
   "execution_count": 17,
   "outputs": [
    {
     "name": "stdout",
     "text": "Name must be a string!\n",
     "output_type": "stream"
    }
   ]
  },
  {
   "cell_type": "markdown",
   "source": "### 2. Successful Player creation",
   "metadata": {
    "cell_id": "66140f91-2464-409d-9844-c76d9d68d00a",
    "tags": [],
    "deepnote_cell_type": "markdown",
    "deepnote_cell_height": 62
   }
  },
  {
   "cell_type": "code",
   "metadata": {
    "cell_id": "ce926aec-132a-4487-8e45-33cffe234ca2",
    "deepnote_to_be_reexecuted": false,
    "execution_millis": 11,
    "execution_start": 1651502605971,
    "source_hash": "bce8bd29",
    "tags": [],
    "deepnote_cell_type": "code",
    "deepnote_cell_height": 118.1875,
    "deepnote_output_heights": [
     21.1875
    ]
   },
   "source": "Player(\"Player1\")",
   "execution_count": 19,
   "outputs": [
    {
     "output_type": "execute_result",
     "execution_count": 19,
     "data": {
      "text/plain": "<__main__.Player at 0x7fdccb2f5390>"
     },
     "metadata": {}
    }
   ]
  },
  {
   "cell_type": "markdown",
   "source": "### Test of Human Player Class",
   "metadata": {
    "cell_id": "e71e6e0f-fb02-42e5-a3c5-f40f8a57a72e",
    "tags": [],
    "deepnote_cell_type": "markdown",
    "deepnote_cell_height": 62
   }
  },
  {
   "cell_type": "code",
   "metadata": {
    "cell_id": "e962bef4-7f4c-40bb-a01b-7cf99362cbf8",
    "deepnote_to_be_reexecuted": false,
    "execution_millis": 4,
    "execution_start": 1651502611253,
    "source_hash": "5c46b63d",
    "tags": [],
    "deepnote_cell_type": "code",
    "deepnote_cell_height": 81
   },
   "source": "human = Human(\"Hans\")",
   "execution_count": 20,
   "outputs": []
  },
  {
   "cell_type": "markdown",
   "source": "<b style=\"background-color:yellow; color:blue\">TODO:</b> choose house testen!",
   "metadata": {
    "cell_id": "7127e4d4-bc9e-44a0-8762-4883555c1f83",
    "deepnote_to_be_reexecuted": false,
    "execution_millis": 2,
    "execution_start": 1650980873591,
    "source_hash": "193c4c43",
    "tags": [],
    "deepnote_cell_type": "markdown",
    "deepnote_cell_height": 52.390625
   }
  },
  {
   "cell_type": "markdown",
   "source": "### Test of Random_AI Player Class",
   "metadata": {
    "cell_id": "ca9d91f6-82ec-4a19-ad42-ab8fe3eb6bf2",
    "tags": [],
    "deepnote_cell_type": "markdown",
    "deepnote_cell_height": 62
   }
  },
  {
   "cell_type": "code",
   "metadata": {
    "cell_id": "39ed7357-3283-4318-8c33-60378f95bfc4",
    "deepnote_to_be_reexecuted": false,
    "execution_millis": 7,
    "execution_start": 1651502620286,
    "source_hash": "3ab2a3b0",
    "tags": [],
    "deepnote_cell_type": "code",
    "deepnote_cell_height": 81
   },
   "source": "ai = Random_AI(\"Rando\", 1)",
   "execution_count": 21,
   "outputs": []
  },
  {
   "cell_type": "code",
   "metadata": {
    "cell_id": "5592fb44-6510-42a9-8aa4-f8c8e08caed4",
    "deepnote_to_be_reexecuted": false,
    "execution_millis": 1,
    "execution_start": 1651502622035,
    "source_hash": "93789c19",
    "tags": [],
    "deepnote_cell_type": "code",
    "deepnote_cell_height": 81
   },
   "source": "assert ai.choose_house(gStartState) == 1",
   "execution_count": 22,
   "outputs": []
  },
  {
   "cell_type": "markdown",
   "source": "The choose_house function returns a randomly chosen house. With the seed 1 the result is always 1.",
   "metadata": {
    "cell_id": "00043-fcf5be71-f6db-4722-a99d-14383cb7fc7a",
    "deepnote_cell_type": "markdown",
    "deepnote_cell_height": 52.390625
   }
  },
  {
   "cell_type": "markdown",
   "source": "",
   "metadata": {
    "cell_id": "e4158e42c1b44394b13d7260fe61e7bb",
    "tags": [],
    "deepnote_cell_type": "markdown",
    "deepnote_cell_height": 46
   }
  },
  {
   "cell_type": "markdown",
   "source": "### Test of Minimax Player Class",
   "metadata": {
    "cell_id": "7af0768e-858f-43cd-bb16-34afd8a4bab9",
    "tags": [],
    "deepnote_cell_type": "markdown",
    "deepnote_cell_height": 62
   }
  },
  {
   "cell_type": "code",
   "metadata": {
    "cell_id": "fc83914d-7e50-4362-8f15-9890ff84ac5f",
    "deepnote_to_be_reexecuted": false,
    "execution_millis": 0,
    "execution_start": 1651502648767,
    "source_hash": "551629d3",
    "tags": [],
    "deepnote_cell_type": "code",
    "deepnote_cell_height": 81,
    "deepnote_output_heights": [
     21.1875
    ]
   },
   "source": "assert Minimax(\"Mini\",4).choose_house(gStartState) == 5",
   "execution_count": 27,
   "outputs": []
  },
  {
   "cell_type": "code",
   "metadata": {
    "cell_id": "00047-719e2729-65ac-4d64-9c9c-24d3c97991c5",
    "deepnote_to_be_reexecuted": false,
    "source_hash": "fb230dde",
    "execution_start": 1651151139052,
    "execution_millis": 89052,
    "deepnote_cell_type": "code",
    "deepnote_cell_height": 648.5
   },
   "source": "i=1\nwhile i < 7:\n    print(f\"limit: {i}\")\n    print(Minimax(\"Mini\",i).choose_house(gStartState))\n    i = i+1",
   "execution_count": null,
   "outputs": [
    {
     "name": "stdout",
     "text": "limit: 1\nbestVal: 0.041666666666666664\n[2, 2, 2]\n2\nlimit: 2\nbestVal: 0.0\n[2, 2]\n2\nlimit: 3\nbestVal: 0.0625\n[5]\n5\nlimit: 4\nbestVal: 0.020833333333333332\n[2, 5]\n2\nlimit: 5\nbestVal: 0.125\n[5]\n5\nlimit: 6\nbestVal: 0.08333333333333333\n[5]\n5\n",
     "output_type": "stream"
    }
   ]
  },
  {
   "cell_type": "markdown",
   "source": "This test checks if the choose_house function from the Minimax class finds the best choice for a state. The test uses the start state where the best choice is the third house (with index 2) because the plaer gets another turn which leads to more seeds in the kalah.",
   "metadata": {
    "cell_id": "00048-a720853d-8954-4962-ac26-f5bae590b4fc",
    "tags": [],
    "owner_user_id": "7c84efd6-9dfe-4698-8d7f-9a6307a4d527",
    "deepnote_cell_type": "markdown",
    "deepnote_cell_height": 97.171875
   }
  },
  {
   "cell_type": "markdown",
   "source": "## Tests of Kalah_Game Class",
   "metadata": {
    "cell_id": "29b73475-9122-48fd-8a6f-d6e7174b0c39",
    "tags": [],
    "deepnote_cell_type": "markdown",
    "deepnote_cell_height": 70
   }
  },
  {
   "cell_type": "markdown",
   "source": "The four following tests make sure that the initialization of the game class works correctly. At first the players are checked. The players need to be exactly two with the indices 0 and 1 and they need to be instances of the Player subclass. this is tested with the first three tests. The results are the error messages because the incorrect cases are tested. ",
   "metadata": {
    "cell_id": "00050-18a3e5e9-93ae-4bb8-a88f-1c354542b8c6",
    "tags": [],
    "deepnote_cell_type": "markdown",
    "deepnote_cell_height": 97.171875
   }
  },
  {
   "cell_type": "markdown",
   "source": "### 1. There must be exactly two players",
   "metadata": {
    "cell_id": "90e2ba1b-956b-494e-9c3d-d038526c45ea",
    "tags": [],
    "deepnote_cell_type": "markdown",
    "deepnote_cell_height": 62
   }
  },
  {
   "cell_type": "code",
   "metadata": {
    "cell_id": "3f773e00-1bcf-4800-b67c-35779e37c3d8",
    "tags": [],
    "deepnote_to_be_reexecuted": false,
    "source_hash": "393c40da",
    "execution_start": 1651502666745,
    "execution_millis": 7,
    "deepnote_cell_type": "code",
    "deepnote_cell_height": 166.1875
   },
   "source": "try:\n    game = Kalah_Game([Player(\"Test\")],0)\nexcept ValueError as e:\n    print(e)",
   "execution_count": 28,
   "outputs": [
    {
     "name": "stdout",
     "text": "There must be exactly two players!\n",
     "output_type": "stream"
    }
   ]
  },
  {
   "cell_type": "markdown",
   "source": "### 2. Players must be instances of a Player sublass",
   "metadata": {
    "cell_id": "00019-cd2aa7f3-dd66-4654-bcfb-f84053f653b2",
    "tags": [],
    "deepnote_cell_type": "markdown",
    "deepnote_cell_height": 62
   }
  },
  {
   "cell_type": "code",
   "metadata": {
    "cell_id": "9775da90-dc80-4087-bad9-20dcd3688ee5",
    "tags": [],
    "deepnote_to_be_reexecuted": false,
    "source_hash": "eb1c65b",
    "execution_start": 1651502673904,
    "execution_millis": 0,
    "deepnote_cell_type": "code",
    "deepnote_cell_height": 166.1875
   },
   "source": "try:\n    game = Kalah_Game([Player(\"Test\"), Player(\"Test\")],0)\nexcept ValueError as e:\n    print(e)",
   "execution_count": 29,
   "outputs": [
    {
     "name": "stdout",
     "text": "Both players must be of instances of a subclass of the class Player!\n",
     "output_type": "stream"
    }
   ]
  },
  {
   "cell_type": "markdown",
   "source": "### 3. Display mode must be 0, 1 or 2",
   "metadata": {
    "cell_id": "44bf0339-add2-4a8e-8b10-ae908adc30f5",
    "tags": [],
    "deepnote_cell_type": "markdown",
    "deepnote_cell_height": 62
   }
  },
  {
   "cell_type": "code",
   "metadata": {
    "cell_id": "fcb9111f-e805-4e75-88af-8bbd73a5617d",
    "tags": [],
    "deepnote_to_be_reexecuted": false,
    "source_hash": "39452bc",
    "execution_start": 1651502690423,
    "execution_millis": 506,
    "deepnote_cell_type": "code",
    "deepnote_cell_height": 166.1875
   },
   "source": "try:\n    game = Kalah_Game([Human(\"Human\"), Random_AI(\"AI\",2)],3)\nexcept ValueError as e:\n    print(e)",
   "execution_count": 30,
   "outputs": [
    {
     "name": "stdout",
     "text": "The display mode must be 0, 1 or 2!\n",
     "output_type": "stream"
    }
   ]
  },
  {
   "cell_type": "markdown",
   "source": "When the Kalah Game is created the number 0, 1 or 2 has to be provided as a parameter for the display mode. With 0 there is no output, number 1 creates a textual output and number 2 draws the board. Similar to the three tests before the incorrectcase with number 3 as input is checked which causes the error message.",
   "metadata": {
    "cell_id": "00059-7078c809-d352-4512-816b-a27fc3a5e579",
    "tags": [],
    "deepnote_cell_type": "markdown",
    "deepnote_cell_height": 97.171875
   }
  },
  {
   "cell_type": "markdown",
   "source": "### 4. Successful Game creation with two AIs",
   "metadata": {
    "cell_id": "59f51523-9192-474c-8e1e-2e93f9be0d4c",
    "tags": [],
    "deepnote_cell_type": "markdown",
    "deepnote_cell_height": 62
   }
  },
  {
   "cell_type": "markdown",
   "source": "Within this test a new game is initialized and played. The random AI and the Minimax AI are playing against each other:",
   "metadata": {
    "cell_id": "00061-442781a3-013f-4974-b5a0-6bdfb4fac5ff",
    "deepnote_cell_type": "markdown",
    "deepnote_cell_height": 52.390625
   }
  },
  {
   "cell_type": "code",
   "metadata": {
    "cell_id": "173410ec-18d3-4971-97fb-978834830cc6",
    "tags": [],
    "deepnote_to_be_reexecuted": false,
    "source_hash": "474a042f",
    "execution_start": 1651502701048,
    "execution_millis": 6,
    "deepnote_cell_type": "code",
    "deepnote_cell_height": 81
   },
   "source": "game = Kalah_Game([Random_AI(\"Rando\",1), Minimax(\"Mini\",5)], 1)",
   "execution_count": 31,
   "outputs": []
  },
  {
   "cell_type": "code",
   "metadata": {
    "cell_id": "ee7b8a06-dfb2-407a-bc6e-605c4da68e43",
    "scrolled": false,
    "tags": [],
    "deepnote_to_be_reexecuted": true,
    "source_hash": "f42697fa",
    "execution_start": 1651141325921,
    "execution_millis": 4212,
    "owner_user_id": "f69dee13-5c5e-4b97-89fa-71f96690ed33",
    "deepnote_cell_type": "code",
    "deepnote_cell_height": 719
   },
   "source": "%%time\ngame.start()",
   "execution_count": null,
   "outputs": [
    {
     "name": "stdout",
     "text": "\nCurrent state:\nRando:\t\t\tO: 0  F: 4  E: 4  D: 4  C: 4  B: 4  A: 4  \nMini:\t\t\ta: 4  b: 4  c: 4  d: 4  e: 4  f: 4  o: 0  \n\nNext is Rando's turn.\nRando chose B\n\nCurrent state:\nRando:\t\t\tO: 0  F: 5  E: 5  D: 5  C: 5  B: 0  A: 4  \nMini:\t\t\ta: 4  b: 4  c: 4  d: 4  e: 4  f: 4  o: 0  \n\nNext is Mini's turn.\nMini chose c\nMini gets another turn!\n\nCurrent state:\nRando:\t\t\tO: 0  F: 5  E: 5  D: 5  C: 5  B: 0  A: 4  \nMini:\t\t\ta: 4  b: 4  c: 0  d: 5  e: 5  f: 5  o: 1  \n\nNext is Mini's turn.\nMini chose b\n\nCurrent state:\nRando:\t\t\tO: 0  F: 5  E: 5  D: 5  C: 5  B: 0  A: 4  \nMini:\t\t\ta: 4  b: 0  c: 1  d: 6  e: 6  f: 6  o: 1  \n\nNext is Rando's turn.\nRando chose A\n\nCurrent state:\nRando:\t\t\tO: 0  F: 5  E: 6  D: 6  C: 6  B: 1  A: 0  \nMini:\t\t\ta: 4  b: 0  c: 1  d: 6  e: 6  f: 6  o: 1  \n\nNext is Mini's turn.\nMini chose e\n\nCurrent state:\nRando:\t\t\tO: 0  F: 5  E: 6  D: 7  C: 7  B: 2  A: 1  \nMini:\t\t\ta: 4  b: 0  c: 1  d: 6  e: 0  f: 7  o: 2  \n\nNext is Rando's turn.\nRando chose D\n\nCurrent state:\nRando:\t\t\tO: 1  F: 6  E: 7  D: 0  C: 7  B: 2  A: 1  \nMini:\t\t\ta: 5  b: 1  c: 2  d: 7  e: 0  f: 7  o: 2  \n\nNext is Mini's turn.\nMini chose c\n\nCurrent state:\nRando:\t\t\tO: 1  F: 6  E: 7  D: 0  C: 7  B: 0  A: 1  \nMini:\t\t\ta: 5  b: 1  c: 0  d: 8  e: 0  f: 7  o: 5  \n\nNext is Rando's turn.\nRando chose F\n\nCurrent state:\nRando:\t\t\tO: 2  F: 0  E: 7  D: 0  C: 7  B: 0  A: 1  \nMini:\t\t\ta: 6  b: 2  c: 1  d: 9  e: 1  f: 7  o: 5  \n\nNext is Mini's turn.\nMini chose a\nMini gets another turn!\n\nCurrent state:\nRando:\t\t\tO: 2  F: 0  E: 7  D: 0  C: 7  B: 0  A: 1  \nMini:\t\t\ta: 0  b: 3  c: 2  d: 10  e: 2  f: 8  o: 6  \n\nNext is Mini's turn.\nMini chose b\n\nCurrent state:\nRando:\t\t\tO: 2  F: 0  E: 7  D: 0  C: 7  B: 0  A: 1  \nMini:\t\t\ta: 0  b: 0  c: 3  d: 11  e: 3  f: 8  o: 6  \n\nNext is Rando's turn.\nRando chose C\n\nCurrent state:\nRando:\t\t\tO: 3  F: 1  E: 8  D: 1  C: 0  B: 0  A: 1  \nMini:\t\t\ta: 1  b: 1  c: 4  d: 11  e: 3  f: 8  o: 6  \n\nNext is Mini's turn.\nMini chose a\n\nCurrent state:\nRando:\t\t\tO: 3  F: 1  E: 8  D: 1  C: 0  B: 0  A: 1  \nMini:\t\t\ta: 0  b: 2  c: 4  d: 11  e: 3  f: 8  o: 6  \n\nNext is Rando's turn.\nRando chose F\nRando gets another turn!\n\nCurrent state:\nRando:\t\t\tO: 4  F: 0  E: 8  D: 1  C: 0  B: 0  A: 1  \nMini:\t\t\ta: 0  b: 2  c: 4  d: 11  e: 3  f: 8  o: 6  \n\nNext is Rando's turn.\nRando chose D\n\nCurrent state:\nRando:\t\t\tO: 4  F: 0  E: 9  D: 0  C: 0  B: 0  A: 1  \nMini:\t\t\ta: 0  b: 2  c: 4  d: 11  e: 3  f: 8  o: 6  \n\nNext is Mini's turn.\nMini chose d\n\nCurrent state:\nRando:\t\t\tO: 4  F: 1  E: 10  D: 1  C: 1  B: 1  A: 2  \nMini:\t\t\ta: 1  b: 3  c: 4  d: 0  e: 4  f: 9  o: 7  \n\nNext is Rando's turn.\nRando chose A\n\nCurrent state:\nRando:\t\t\tO: 4  F: 1  E: 10  D: 1  C: 2  B: 2  A: 0  \nMini:\t\t\ta: 1  b: 3  c: 4  d: 0  e: 4  f: 9  o: 7  \n\nNext is Mini's turn.\nMini chose e\n\nCurrent state:\nRando:\t\t\tO: 4  F: 1  E: 10  D: 1  C: 2  B: 3  A: 1  \nMini:\t\t\ta: 1  b: 3  c: 4  d: 0  e: 0  f: 10  o: 8  \n\nNext is Rando's turn.\nRando chose D\n\nCurrent state:\nRando:\t\t\tO: 4  F: 1  E: 11  D: 0  C: 2  B: 3  A: 1  \nMini:\t\t\ta: 1  b: 3  c: 4  d: 0  e: 0  f: 10  o: 8  \n\nNext is Mini's turn.\nMini chose c\nMini gets another turn!\n\nCurrent state:\nRando:\t\t\tO: 4  F: 1  E: 11  D: 0  C: 2  B: 3  A: 1  \nMini:\t\t\ta: 1  b: 3  c: 0  d: 1  e: 1  f: 11  o: 9  \n\nNext is Mini's turn.\nMini chose b\n\nCurrent state:\nRando:\t\t\tO: 4  F: 1  E: 11  D: 0  C: 2  B: 3  A: 1  \nMini:\t\t\ta: 1  b: 0  c: 1  d: 2  e: 2  f: 11  o: 9  \n\nNext is Rando's turn.\nRando chose F\nRando gets another turn!\n\nCurrent state:\nRando:\t\t\tO: 5  F: 0  E: 11  D: 0  C: 2  B: 3  A: 1  \nMini:\t\t\ta: 1  b: 0  c: 1  d: 2  e: 2  f: 11  o: 9  \n\nNext is Rando's turn.\nRando chose A\n\nCurrent state:\nRando:\t\t\tO: 5  F: 0  E: 11  D: 0  C: 2  B: 4  A: 0  \nMini:\t\t\ta: 1  b: 0  c: 1  d: 2  e: 2  f: 11  o: 9  \n\nNext is Mini's turn.\nMini chose d\n\nCurrent state:\nRando:\t\t\tO: 5  F: 0  E: 11  D: 0  C: 2  B: 4  A: 0  \nMini:\t\t\ta: 1  b: 0  c: 1  d: 0  e: 3  f: 12  o: 9  \n\nNext is Rando's turn.\nRando chose B\n\nCurrent state:\nRando:\t\t\tO: 7  F: 0  E: 12  D: 1  C: 3  B: 0  A: 0  \nMini:\t\t\ta: 0  b: 0  c: 1  d: 0  e: 3  f: 12  o: 9  \n\nNext is Mini's turn.\nMini chose c\n\nCurrent state:\nRando:\t\t\tO: 7  F: 0  E: 12  D: 1  C: 0  B: 0  A: 0  \nMini:\t\t\ta: 0  b: 0  c: 0  d: 0  e: 3  f: 12  o: 13  \n\nNext is Rando's turn.\nRando chose D\n\nCurrent state:\nRando:\t\t\tO: 7  F: 0  E: 13  D: 0  C: 0  B: 0  A: 0  \nMini:\t\t\ta: 0  b: 0  c: 0  d: 0  e: 3  f: 12  o: 13  \n\nNext is Mini's turn.\nMini chose f\n\nCurrent state:\nRando:\t\t\tO: 7  F: 1  E: 14  D: 1  C: 1  B: 1  A: 1  \nMini:\t\t\ta: 1  b: 1  c: 1  d: 1  e: 4  f: 0  o: 14  \n\nNext is Rando's turn.\nRando chose D\n\nCurrent state:\nRando:\t\t\tO: 7  F: 1  E: 15  D: 0  C: 1  B: 1  A: 1  \nMini:\t\t\ta: 1  b: 1  c: 1  d: 1  e: 4  f: 0  o: 14  \n\nNext is Mini's turn.\nMini chose e\n\nCurrent state:\nRando:\t\t\tO: 7  F: 1  E: 0  D: 0  C: 1  B: 2  A: 2  \nMini:\t\t\ta: 1  b: 0  c: 1  d: 1  e: 0  f: 1  o: 31  \n\nNext is Rando's turn.\nRando chose B\n\nCurrent state:\nRando:\t\t\tO: 9  F: 1  E: 0  D: 0  C: 2  B: 0  A: 2  \nMini:\t\t\ta: 1  b: 0  c: 0  d: 1  e: 0  f: 1  o: 31  \n\nNext is Mini's turn.\nMini chose f\nMini gets another turn!\n\nCurrent state:\nRando:\t\t\tO: 9  F: 1  E: 0  D: 0  C: 2  B: 0  A: 2  \nMini:\t\t\ta: 1  b: 0  c: 0  d: 1  e: 0  f: 0  o: 32  \n\nNext is Mini's turn.\nMini chose a\n\nCurrent state:\nRando:\t\t\tO: 9  F: 1  E: 0  D: 0  C: 2  B: 0  A: 2  \nMini:\t\t\ta: 0  b: 1  c: 0  d: 1  e: 0  f: 0  o: 32  \n\nNext is Rando's turn.\nRando chose F\nRando gets another turn!\n\nCurrent state:\nRando:\t\t\tO: 10  F: 0  E: 0  D: 0  C: 2  B: 0  A: 2  \nMini:\t\t\ta: 0  b: 1  c: 0  d: 1  e: 0  f: 0  o: 32  \n\nNext is Rando's turn.\nRando chose A\n\nCurrent state:\nRando:\t\t\tO: 10  F: 0  E: 0  D: 0  C: 3  B: 1  A: 0  \nMini:\t\t\ta: 0  b: 1  c: 0  d: 1  e: 0  f: 0  o: 32  \n\nNext is Mini's turn.\nMini chose d\n\nCurrent state:\nRando:\t\t\tO: 10  F: 0  E: 0  D: 0  C: 3  B: 0  A: 0  \nMini:\t\t\ta: 0  b: 1  c: 0  d: 0  e: 0  f: 0  o: 34  \n\nNext is Rando's turn.\nRando chose C\n\nCurrent state:\nRando:\t\t\tO: 10  F: 1  E: 1  D: 1  C: 0  B: 0  A: 0  \nMini:\t\t\ta: 0  b: 1  c: 0  d: 0  e: 0  f: 0  o: 34  \n\nNext is Mini's turn.\nMini chose b\n\nRando:\t\t\tO: 10  F: 1  E: 1  D: 0  C: 0  B: 0  A: 0  \nMini:\t\t\ta: 0  b: 0  c: 0  d: 0  e: 0  f: 0  o: 36  \n\nFinished Game!\nMini wins!\nCPU times: user 4.23 s, sys: 16.1 ms, total: 4.24 s\nWall time: 4.24 s\n",
     "output_type": "stream"
    }
   ]
  },
  {
   "cell_type": "markdown",
   "source": "The Minimax AI wins which is the desired outcome because the decisions from the Minimax AI should be thought-out in contrast to the random decisions from the random AI.",
   "metadata": {
    "cell_id": "00064-93e63ddc-1c7f-4907-9fc3-6f3210f56986",
    "deepnote_cell_type": "markdown",
    "deepnote_cell_height": 74.78125
   }
  },
  {
   "cell_type": "code",
   "metadata": {
    "cell_id": "5125f641-0038-46b0-a045-cc5411c46cbc",
    "tags": [],
    "deepnote_to_be_reexecuted": true,
    "source_hash": "1ebb8803",
    "execution_start": 1651141330136,
    "execution_millis": 32,
    "deepnote_cell_type": "code",
    "deepnote_cell_height": 99
   },
   "source": "timestamp = str(dt.datetime.now()).replace(':','.')\ngame.log_to_file(timestamp)",
   "execution_count": null,
   "outputs": []
  },
  {
   "cell_type": "markdown",
   "source": "### Tests of Repeat Game",
   "metadata": {
    "cell_id": "46af8d46-0a0b-46f6-b89c-01eb041a63df",
    "tags": [],
    "deepnote_cell_type": "markdown",
    "deepnote_cell_height": 62
   }
  },
  {
   "cell_type": "markdown",
   "source": "The function repeat_game takes a logfile as input and shows the game with the chosen display mode. The boolean parameter determines if the decisions from the logfile should be repeated or if they should be computed again which leads to a different gameplay.",
   "metadata": {
    "cell_id": "00067-a1338599-b01f-49ef-8ab6-9d337d28eb6d",
    "deepnote_cell_type": "markdown",
    "deepnote_cell_height": 97.171875
   }
  },
  {
   "cell_type": "code",
   "metadata": {
    "cell_id": "38ce819b-6096-4eaf-85ad-26a5d1eb5978",
    "tags": [],
    "deepnote_to_be_reexecuted": true,
    "source_hash": "fcfb7dda",
    "execution_start": 1651141330171,
    "execution_millis": 64,
    "deepnote_cell_type": "code",
    "deepnote_cell_height": 719
   },
   "source": "%%time\nrepeat_game(f\"log_{timestamp}.json\",True,1)",
   "execution_count": null,
   "outputs": [
    {
     "name": "stdout",
     "text": "\nCurrent state:\nRando:\t\t\tO: 0  F: 4  E: 4  D: 4  C: 4  B: 4  A: 4  \nMini:\t\t\ta: 4  b: 4  c: 4  d: 4  e: 4  f: 4  o: 0  \n\nNext is Rando's turn.\nRando chose B\n\nCurrent state:\nRando:\t\t\tO: 0  F: 5  E: 5  D: 5  C: 5  B: 0  A: 4  \nMini:\t\t\ta: 4  b: 4  c: 4  d: 4  e: 4  f: 4  o: 0  \n\nNext is Mini's turn.\nMini chose c\nMini gets another turn!\n\nCurrent state:\nRando:\t\t\tO: 0  F: 5  E: 5  D: 5  C: 5  B: 0  A: 4  \nMini:\t\t\ta: 4  b: 4  c: 0  d: 5  e: 5  f: 5  o: 1  \n\nNext is Mini's turn.\nMini chose b\n\nCurrent state:\nRando:\t\t\tO: 0  F: 5  E: 5  D: 5  C: 5  B: 0  A: 4  \nMini:\t\t\ta: 4  b: 0  c: 1  d: 6  e: 6  f: 6  o: 1  \n\nNext is Rando's turn.\nRando chose A\n\nCurrent state:\nRando:\t\t\tO: 0  F: 5  E: 6  D: 6  C: 6  B: 1  A: 0  \nMini:\t\t\ta: 4  b: 0  c: 1  d: 6  e: 6  f: 6  o: 1  \n\nNext is Mini's turn.\nMini chose e\n\nCurrent state:\nRando:\t\t\tO: 0  F: 5  E: 6  D: 7  C: 7  B: 2  A: 1  \nMini:\t\t\ta: 4  b: 0  c: 1  d: 6  e: 0  f: 7  o: 2  \n\nNext is Rando's turn.\nRando chose D\n\nCurrent state:\nRando:\t\t\tO: 1  F: 6  E: 7  D: 0  C: 7  B: 2  A: 1  \nMini:\t\t\ta: 5  b: 1  c: 2  d: 7  e: 0  f: 7  o: 2  \n\nNext is Mini's turn.\nMini chose c\n\nCurrent state:\nRando:\t\t\tO: 1  F: 6  E: 7  D: 0  C: 7  B: 0  A: 1  \nMini:\t\t\ta: 5  b: 1  c: 0  d: 8  e: 0  f: 7  o: 5  \n\nNext is Rando's turn.\nRando chose F\n\nCurrent state:\nRando:\t\t\tO: 2  F: 0  E: 7  D: 0  C: 7  B: 0  A: 1  \nMini:\t\t\ta: 6  b: 2  c: 1  d: 9  e: 1  f: 7  o: 5  \n\nNext is Mini's turn.\nMini chose a\nMini gets another turn!\n\nCurrent state:\nRando:\t\t\tO: 2  F: 0  E: 7  D: 0  C: 7  B: 0  A: 1  \nMini:\t\t\ta: 0  b: 3  c: 2  d: 10  e: 2  f: 8  o: 6  \n\nNext is Mini's turn.\nMini chose b\n\nCurrent state:\nRando:\t\t\tO: 2  F: 0  E: 7  D: 0  C: 7  B: 0  A: 1  \nMini:\t\t\ta: 0  b: 0  c: 3  d: 11  e: 3  f: 8  o: 6  \n\nNext is Rando's turn.\nRando chose C\n\nCurrent state:\nRando:\t\t\tO: 3  F: 1  E: 8  D: 1  C: 0  B: 0  A: 1  \nMini:\t\t\ta: 1  b: 1  c: 4  d: 11  e: 3  f: 8  o: 6  \n\nNext is Mini's turn.\nMini chose a\n\nCurrent state:\nRando:\t\t\tO: 3  F: 1  E: 8  D: 1  C: 0  B: 0  A: 1  \nMini:\t\t\ta: 0  b: 2  c: 4  d: 11  e: 3  f: 8  o: 6  \n\nNext is Rando's turn.\nRando chose F\nRando gets another turn!\n\nCurrent state:\nRando:\t\t\tO: 4  F: 0  E: 8  D: 1  C: 0  B: 0  A: 1  \nMini:\t\t\ta: 0  b: 2  c: 4  d: 11  e: 3  f: 8  o: 6  \n\nNext is Rando's turn.\nRando chose D\n\nCurrent state:\nRando:\t\t\tO: 4  F: 0  E: 9  D: 0  C: 0  B: 0  A: 1  \nMini:\t\t\ta: 0  b: 2  c: 4  d: 11  e: 3  f: 8  o: 6  \n\nNext is Mini's turn.\nMini chose d\n\nCurrent state:\nRando:\t\t\tO: 4  F: 1  E: 10  D: 1  C: 1  B: 1  A: 2  \nMini:\t\t\ta: 1  b: 3  c: 4  d: 0  e: 4  f: 9  o: 7  \n\nNext is Rando's turn.\nRando chose A\n\nCurrent state:\nRando:\t\t\tO: 4  F: 1  E: 10  D: 1  C: 2  B: 2  A: 0  \nMini:\t\t\ta: 1  b: 3  c: 4  d: 0  e: 4  f: 9  o: 7  \n\nNext is Mini's turn.\nMini chose e\n\nCurrent state:\nRando:\t\t\tO: 4  F: 1  E: 10  D: 1  C: 2  B: 3  A: 1  \nMini:\t\t\ta: 1  b: 3  c: 4  d: 0  e: 0  f: 10  o: 8  \n\nNext is Rando's turn.\nRando chose D\n\nCurrent state:\nRando:\t\t\tO: 4  F: 1  E: 11  D: 0  C: 2  B: 3  A: 1  \nMini:\t\t\ta: 1  b: 3  c: 4  d: 0  e: 0  f: 10  o: 8  \n\nNext is Mini's turn.\nMini chose c\nMini gets another turn!\n\nCurrent state:\nRando:\t\t\tO: 4  F: 1  E: 11  D: 0  C: 2  B: 3  A: 1  \nMini:\t\t\ta: 1  b: 3  c: 0  d: 1  e: 1  f: 11  o: 9  \n\nNext is Mini's turn.\nMini chose b\n\nCurrent state:\nRando:\t\t\tO: 4  F: 1  E: 11  D: 0  C: 2  B: 3  A: 1  \nMini:\t\t\ta: 1  b: 0  c: 1  d: 2  e: 2  f: 11  o: 9  \n\nNext is Rando's turn.\nRando chose F\nRando gets another turn!\n\nCurrent state:\nRando:\t\t\tO: 5  F: 0  E: 11  D: 0  C: 2  B: 3  A: 1  \nMini:\t\t\ta: 1  b: 0  c: 1  d: 2  e: 2  f: 11  o: 9  \n\nNext is Rando's turn.\nRando chose A\n\nCurrent state:\nRando:\t\t\tO: 5  F: 0  E: 11  D: 0  C: 2  B: 4  A: 0  \nMini:\t\t\ta: 1  b: 0  c: 1  d: 2  e: 2  f: 11  o: 9  \n\nNext is Mini's turn.\nMini chose d\n\nCurrent state:\nRando:\t\t\tO: 5  F: 0  E: 11  D: 0  C: 2  B: 4  A: 0  \nMini:\t\t\ta: 1  b: 0  c: 1  d: 0  e: 3  f: 12  o: 9  \n\nNext is Rando's turn.\nRando chose B\n\nCurrent state:\nRando:\t\t\tO: 7  F: 0  E: 12  D: 1  C: 3  B: 0  A: 0  \nMini:\t\t\ta: 0  b: 0  c: 1  d: 0  e: 3  f: 12  o: 9  \n\nNext is Mini's turn.\nMini chose c\n\nCurrent state:\nRando:\t\t\tO: 7  F: 0  E: 12  D: 1  C: 0  B: 0  A: 0  \nMini:\t\t\ta: 0  b: 0  c: 0  d: 0  e: 3  f: 12  o: 13  \n\nNext is Rando's turn.\nRando chose D\n\nCurrent state:\nRando:\t\t\tO: 7  F: 0  E: 13  D: 0  C: 0  B: 0  A: 0  \nMini:\t\t\ta: 0  b: 0  c: 0  d: 0  e: 3  f: 12  o: 13  \n\nNext is Mini's turn.\nMini chose f\n\nCurrent state:\nRando:\t\t\tO: 7  F: 1  E: 14  D: 1  C: 1  B: 1  A: 1  \nMini:\t\t\ta: 1  b: 1  c: 1  d: 1  e: 4  f: 0  o: 14  \n\nNext is Rando's turn.\nRando chose D\n\nCurrent state:\nRando:\t\t\tO: 7  F: 1  E: 15  D: 0  C: 1  B: 1  A: 1  \nMini:\t\t\ta: 1  b: 1  c: 1  d: 1  e: 4  f: 0  o: 14  \n\nNext is Mini's turn.\nMini chose e\n\nCurrent state:\nRando:\t\t\tO: 7  F: 1  E: 0  D: 0  C: 1  B: 2  A: 2  \nMini:\t\t\ta: 1  b: 0  c: 1  d: 1  e: 0  f: 1  o: 31  \n\nNext is Rando's turn.\nRando chose B\n\nCurrent state:\nRando:\t\t\tO: 9  F: 1  E: 0  D: 0  C: 2  B: 0  A: 2  \nMini:\t\t\ta: 1  b: 0  c: 0  d: 1  e: 0  f: 1  o: 31  \n\nNext is Mini's turn.\nMini chose f\nMini gets another turn!\n\nCurrent state:\nRando:\t\t\tO: 9  F: 1  E: 0  D: 0  C: 2  B: 0  A: 2  \nMini:\t\t\ta: 1  b: 0  c: 0  d: 1  e: 0  f: 0  o: 32  \n\nNext is Mini's turn.\nMini chose a\n\nCurrent state:\nRando:\t\t\tO: 9  F: 1  E: 0  D: 0  C: 2  B: 0  A: 2  \nMini:\t\t\ta: 0  b: 1  c: 0  d: 1  e: 0  f: 0  o: 32  \n\nNext is Rando's turn.\nRando chose F\nRando gets another turn!\n\nCurrent state:\nRando:\t\t\tO: 10  F: 0  E: 0  D: 0  C: 2  B: 0  A: 2  \nMini:\t\t\ta: 0  b: 1  c: 0  d: 1  e: 0  f: 0  o: 32  \n\nNext is Rando's turn.\nRando chose A\n\nCurrent state:\nRando:\t\t\tO: 10  F: 0  E: 0  D: 0  C: 3  B: 1  A: 0  \nMini:\t\t\ta: 0  b: 1  c: 0  d: 1  e: 0  f: 0  o: 32  \n\nNext is Mini's turn.\nMini chose d\n\nCurrent state:\nRando:\t\t\tO: 10  F: 0  E: 0  D: 0  C: 3  B: 0  A: 0  \nMini:\t\t\ta: 0  b: 1  c: 0  d: 0  e: 0  f: 0  o: 34  \n\nNext is Rando's turn.\nRando chose C\n\nCurrent state:\nRando:\t\t\tO: 10  F: 1  E: 1  D: 1  C: 0  B: 0  A: 0  \nMini:\t\t\ta: 0  b: 1  c: 0  d: 0  e: 0  f: 0  o: 34  \n\nNext is Mini's turn.\nMini chose b\n\nRando:\t\t\tO: 10  F: 1  E: 1  D: 0  C: 0  B: 0  A: 0  \nMini:\t\t\ta: 0  b: 0  c: 0  d: 0  e: 0  f: 0  o: 36  \n\nFinished Game!\nMini wins!\nCPU times: user 24 ms, sys: 32 µs, total: 24 ms\nWall time: 18.6 ms\n",
     "output_type": "stream"
    }
   ]
  },
  {
   "cell_type": "markdown",
   "source": "Repeating the game of two AIs, where the decisions are repeated based on the log file (Player types: Repeated_Player)",
   "metadata": {
    "cell_id": "00069-981ca420-6217-4581-8af3-787ee55056ad",
    "deepnote_cell_type": "markdown",
    "deepnote_cell_height": 52.390625
   }
  },
  {
   "cell_type": "code",
   "metadata": {
    "cell_id": "cb91697d-e8a1-46df-a0de-f9d00cfab266",
    "tags": [],
    "deepnote_to_be_reexecuted": true,
    "source_hash": "db26d84a",
    "execution_start": 1651141330219,
    "execution_millis": 53,
    "deepnote_cell_type": "code",
    "deepnote_cell_height": 719
   },
   "source": "%%time\nrepeat_game(f\"log_{timestamp}.json\",False,1)",
   "execution_count": null,
   "outputs": [
    {
     "name": "stdout",
     "text": "\nCurrent state:\nRando:\t\t\tO: 0  F: 4  E: 4  D: 4  C: 4  B: 4  A: 4  \nMini:\t\t\ta: 4  b: 4  c: 4  d: 4  e: 4  f: 4  o: 0  \n\nNext is Rando's turn.\nRando chose B\n\nCurrent state:\nRando:\t\t\tO: 0  F: 5  E: 5  D: 5  C: 5  B: 0  A: 4  \nMini:\t\t\ta: 4  b: 4  c: 4  d: 4  e: 4  f: 4  o: 0  \n\nNext is Mini's turn.\nMini chose c\nMini gets another turn!\n\nCurrent state:\nRando:\t\t\tO: 0  F: 5  E: 5  D: 5  C: 5  B: 0  A: 4  \nMini:\t\t\ta: 4  b: 4  c: 0  d: 5  e: 5  f: 5  o: 1  \n\nNext is Mini's turn.\nMini chose b\n\nCurrent state:\nRando:\t\t\tO: 0  F: 5  E: 5  D: 5  C: 5  B: 0  A: 4  \nMini:\t\t\ta: 4  b: 0  c: 1  d: 6  e: 6  f: 6  o: 1  \n\nNext is Rando's turn.\nRando chose A\n\nCurrent state:\nRando:\t\t\tO: 0  F: 5  E: 6  D: 6  C: 6  B: 1  A: 0  \nMini:\t\t\ta: 4  b: 0  c: 1  d: 6  e: 6  f: 6  o: 1  \n\nNext is Mini's turn.\nMini chose e\n\nCurrent state:\nRando:\t\t\tO: 0  F: 5  E: 6  D: 7  C: 7  B: 2  A: 1  \nMini:\t\t\ta: 4  b: 0  c: 1  d: 6  e: 0  f: 7  o: 2  \n\nNext is Rando's turn.\nRando chose D\n\nCurrent state:\nRando:\t\t\tO: 1  F: 6  E: 7  D: 0  C: 7  B: 2  A: 1  \nMini:\t\t\ta: 5  b: 1  c: 2  d: 7  e: 0  f: 7  o: 2  \n\nNext is Mini's turn.\nMini chose c\n\nCurrent state:\nRando:\t\t\tO: 1  F: 6  E: 7  D: 0  C: 7  B: 0  A: 1  \nMini:\t\t\ta: 5  b: 1  c: 0  d: 8  e: 0  f: 7  o: 5  \n\nNext is Rando's turn.\nRando chose F\n\nCurrent state:\nRando:\t\t\tO: 2  F: 0  E: 7  D: 0  C: 7  B: 0  A: 1  \nMini:\t\t\ta: 6  b: 2  c: 1  d: 9  e: 1  f: 7  o: 5  \n\nNext is Mini's turn.\nMini chose a\nMini gets another turn!\n\nCurrent state:\nRando:\t\t\tO: 2  F: 0  E: 7  D: 0  C: 7  B: 0  A: 1  \nMini:\t\t\ta: 0  b: 3  c: 2  d: 10  e: 2  f: 8  o: 6  \n\nNext is Mini's turn.\nMini chose b\n\nCurrent state:\nRando:\t\t\tO: 2  F: 0  E: 7  D: 0  C: 7  B: 0  A: 1  \nMini:\t\t\ta: 0  b: 0  c: 3  d: 11  e: 3  f: 8  o: 6  \n\nNext is Rando's turn.\nRando chose C\n\nCurrent state:\nRando:\t\t\tO: 3  F: 1  E: 8  D: 1  C: 0  B: 0  A: 1  \nMini:\t\t\ta: 1  b: 1  c: 4  d: 11  e: 3  f: 8  o: 6  \n\nNext is Mini's turn.\nMini chose a\n\nCurrent state:\nRando:\t\t\tO: 3  F: 1  E: 8  D: 1  C: 0  B: 0  A: 1  \nMini:\t\t\ta: 0  b: 2  c: 4  d: 11  e: 3  f: 8  o: 6  \n\nNext is Rando's turn.\nRando chose F\nRando gets another turn!\n\nCurrent state:\nRando:\t\t\tO: 4  F: 0  E: 8  D: 1  C: 0  B: 0  A: 1  \nMini:\t\t\ta: 0  b: 2  c: 4  d: 11  e: 3  f: 8  o: 6  \n\nNext is Rando's turn.\nRando chose D\n\nCurrent state:\nRando:\t\t\tO: 4  F: 0  E: 9  D: 0  C: 0  B: 0  A: 1  \nMini:\t\t\ta: 0  b: 2  c: 4  d: 11  e: 3  f: 8  o: 6  \n\nNext is Mini's turn.\nMini chose d\n\nCurrent state:\nRando:\t\t\tO: 4  F: 1  E: 10  D: 1  C: 1  B: 1  A: 2  \nMini:\t\t\ta: 1  b: 3  c: 4  d: 0  e: 4  f: 9  o: 7  \n\nNext is Rando's turn.\nRando chose A\n\nCurrent state:\nRando:\t\t\tO: 4  F: 1  E: 10  D: 1  C: 2  B: 2  A: 0  \nMini:\t\t\ta: 1  b: 3  c: 4  d: 0  e: 4  f: 9  o: 7  \n\nNext is Mini's turn.\nMini chose e\n\nCurrent state:\nRando:\t\t\tO: 4  F: 1  E: 10  D: 1  C: 2  B: 3  A: 1  \nMini:\t\t\ta: 1  b: 3  c: 4  d: 0  e: 0  f: 10  o: 8  \n\nNext is Rando's turn.\nRando chose D\n\nCurrent state:\nRando:\t\t\tO: 4  F: 1  E: 11  D: 0  C: 2  B: 3  A: 1  \nMini:\t\t\ta: 1  b: 3  c: 4  d: 0  e: 0  f: 10  o: 8  \n\nNext is Mini's turn.\nMini chose c\nMini gets another turn!\n\nCurrent state:\nRando:\t\t\tO: 4  F: 1  E: 11  D: 0  C: 2  B: 3  A: 1  \nMini:\t\t\ta: 1  b: 3  c: 0  d: 1  e: 1  f: 11  o: 9  \n\nNext is Mini's turn.\nMini chose b\n\nCurrent state:\nRando:\t\t\tO: 4  F: 1  E: 11  D: 0  C: 2  B: 3  A: 1  \nMini:\t\t\ta: 1  b: 0  c: 1  d: 2  e: 2  f: 11  o: 9  \n\nNext is Rando's turn.\nRando chose F\nRando gets another turn!\n\nCurrent state:\nRando:\t\t\tO: 5  F: 0  E: 11  D: 0  C: 2  B: 3  A: 1  \nMini:\t\t\ta: 1  b: 0  c: 1  d: 2  e: 2  f: 11  o: 9  \n\nNext is Rando's turn.\nRando chose A\n\nCurrent state:\nRando:\t\t\tO: 5  F: 0  E: 11  D: 0  C: 2  B: 4  A: 0  \nMini:\t\t\ta: 1  b: 0  c: 1  d: 2  e: 2  f: 11  o: 9  \n\nNext is Mini's turn.\nMini chose d\n\nCurrent state:\nRando:\t\t\tO: 5  F: 0  E: 11  D: 0  C: 2  B: 4  A: 0  \nMini:\t\t\ta: 1  b: 0  c: 1  d: 0  e: 3  f: 12  o: 9  \n\nNext is Rando's turn.\nRando chose B\n\nCurrent state:\nRando:\t\t\tO: 7  F: 0  E: 12  D: 1  C: 3  B: 0  A: 0  \nMini:\t\t\ta: 0  b: 0  c: 1  d: 0  e: 3  f: 12  o: 9  \n\nNext is Mini's turn.\nMini chose c\n\nCurrent state:\nRando:\t\t\tO: 7  F: 0  E: 12  D: 1  C: 0  B: 0  A: 0  \nMini:\t\t\ta: 0  b: 0  c: 0  d: 0  e: 3  f: 12  o: 13  \n\nNext is Rando's turn.\nRando chose D\n\nCurrent state:\nRando:\t\t\tO: 7  F: 0  E: 13  D: 0  C: 0  B: 0  A: 0  \nMini:\t\t\ta: 0  b: 0  c: 0  d: 0  e: 3  f: 12  o: 13  \n\nNext is Mini's turn.\nMini chose f\n\nCurrent state:\nRando:\t\t\tO: 7  F: 1  E: 14  D: 1  C: 1  B: 1  A: 1  \nMini:\t\t\ta: 1  b: 1  c: 1  d: 1  e: 4  f: 0  o: 14  \n\nNext is Rando's turn.\nRando chose D\n\nCurrent state:\nRando:\t\t\tO: 7  F: 1  E: 15  D: 0  C: 1  B: 1  A: 1  \nMini:\t\t\ta: 1  b: 1  c: 1  d: 1  e: 4  f: 0  o: 14  \n\nNext is Mini's turn.\nMini chose e\n\nCurrent state:\nRando:\t\t\tO: 7  F: 1  E: 0  D: 0  C: 1  B: 2  A: 2  \nMini:\t\t\ta: 1  b: 0  c: 1  d: 1  e: 0  f: 1  o: 31  \n\nNext is Rando's turn.\nRando chose B\n\nCurrent state:\nRando:\t\t\tO: 9  F: 1  E: 0  D: 0  C: 2  B: 0  A: 2  \nMini:\t\t\ta: 1  b: 0  c: 0  d: 1  e: 0  f: 1  o: 31  \n\nNext is Mini's turn.\nMini chose f\nMini gets another turn!\n\nCurrent state:\nRando:\t\t\tO: 9  F: 1  E: 0  D: 0  C: 2  B: 0  A: 2  \nMini:\t\t\ta: 1  b: 0  c: 0  d: 1  e: 0  f: 0  o: 32  \n\nNext is Mini's turn.\nMini chose a\n\nCurrent state:\nRando:\t\t\tO: 9  F: 1  E: 0  D: 0  C: 2  B: 0  A: 2  \nMini:\t\t\ta: 0  b: 1  c: 0  d: 1  e: 0  f: 0  o: 32  \n\nNext is Rando's turn.\nRando chose F\nRando gets another turn!\n\nCurrent state:\nRando:\t\t\tO: 10  F: 0  E: 0  D: 0  C: 2  B: 0  A: 2  \nMini:\t\t\ta: 0  b: 1  c: 0  d: 1  e: 0  f: 0  o: 32  \n\nNext is Rando's turn.\nRando chose A\n\nCurrent state:\nRando:\t\t\tO: 10  F: 0  E: 0  D: 0  C: 3  B: 1  A: 0  \nMini:\t\t\ta: 0  b: 1  c: 0  d: 1  e: 0  f: 0  o: 32  \n\nNext is Mini's turn.\nMini chose d\n\nCurrent state:\nRando:\t\t\tO: 10  F: 0  E: 0  D: 0  C: 3  B: 0  A: 0  \nMini:\t\t\ta: 0  b: 1  c: 0  d: 0  e: 0  f: 0  o: 34  \n\nNext is Rando's turn.\nRando chose C\n\nCurrent state:\nRando:\t\t\tO: 10  F: 1  E: 1  D: 1  C: 0  B: 0  A: 0  \nMini:\t\t\ta: 0  b: 1  c: 0  d: 0  e: 0  f: 0  o: 34  \n\nNext is Mini's turn.\nMini chose b\n\nRando:\t\t\tO: 10  F: 1  E: 1  D: 0  C: 0  B: 0  A: 0  \nMini:\t\t\ta: 0  b: 0  c: 0  d: 0  e: 0  f: 0  o: 36  \n\nFinished Game!\nMini wins!\nCPU times: user 15.9 ms, sys: 25 µs, total: 16 ms\nWall time: 12.9 ms\n",
     "output_type": "stream"
    }
   ]
  },
  {
   "cell_type": "markdown",
   "source": "Repeating the game of two AIs, where both of them calculate their decisions new (Player types: Random_AI)",
   "metadata": {
    "cell_id": "bd7a8d9f-d537-44f0-901c-20618c2f037b",
    "tags": [],
    "deepnote_cell_type": "markdown",
    "deepnote_cell_height": 52.390625
   }
  },
  {
   "cell_type": "markdown",
   "source": "<a style='text-decoration:none;line-height:16px;display:flex;color:#5B5B62;padding:10px;justify-content:end;' href='https://deepnote.com?utm_source=created-in-deepnote-cell&projectId=b91c3ea7-d814-439b-837a-72fdc90697b1' target=\"_blank\">\n<img alt='Created in deepnote.com' style='display:inline;max-height:16px;margin:0px;margin-right:7.5px;' src='data:image/svg+xml;base64,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' > </img>\nCreated in <span style='font-weight:600;margin-left:4px;'>Deepnote</span></a>",
   "metadata": {
    "tags": [],
    "created_in_deepnote_cell": true,
    "deepnote_cell_type": "markdown"
   }
  }
 ],
 "nbformat": 4,
 "nbformat_minor": 2,
 "metadata": {
  "deepnote": {},
  "deepnote_execution_queue": [],
  "deepnote_notebook_id": "14354731-2ca2-41c5-970e-e7a0cfba5e9c",
  "kernelspec": {
   "display_name": "Python 3",
   "language": "python",
   "name": "python3"
  },
  "language_info": {
   "codemirror_mode": {
    "name": "ipython",
    "version": 3
   },
   "file_extension": ".py",
   "mimetype": "text/x-python",
   "name": "python",
   "nbconvert_exporter": "python",
   "pygments_lexer": "ipython3",
   "version": "3.7.4"
  }
 }
}