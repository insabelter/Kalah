{
 "cells": [
  {
   "cell_type": "markdown",
   "metadata": {
    "cell_id": "fa3129e4-867e-4e55-9ce9-10502287d90a",
    "deepnote_cell_height": 156.90625,
    "deepnote_cell_type": "markdown"
   },
   "source": [
    "# UnitTests\n",
    "\n",
    "This notebook is used for testing the functions from the notebook \"Classes\".\n",
    "\n",
    "<b style=\"background-color:yellow; color:blue\">TODO:</b>\n",
    "Comment each test and discuss the results"
   ]
  },
  {
   "cell_type": "code",
   "execution_count": 1,
   "metadata": {
    "cell_id": "b757e62a-ba19-41fd-aa26-d9ec3fc97ce2",
    "deepnote_cell_height": 111.4375,
    "deepnote_cell_type": "code",
    "deepnote_to_be_reexecuted": false,
    "execution_millis": 234,
    "execution_start": 1650977247280,
    "source_hash": "a9451e71",
    "tags": []
   },
   "outputs": [],
   "source": [
    "%run Classes.ipynb\n",
    "%run Visualization.ipynb"
   ]
  },
  {
   "cell_type": "markdown",
   "metadata": {
    "cell_id": "d2934c819a044a8bb171b8d588cc78ea",
    "deepnote_cell_height": 70.171875,
    "deepnote_cell_type": "markdown",
    "deepnote_to_be_reexecuted": false,
    "execution_millis": 0,
    "execution_start": 1650975968544,
    "source_hash": "f44517b3",
    "tags": []
   },
   "source": [
    "## Tests of global game functions"
   ]
  },
  {
   "cell_type": "markdown",
   "metadata": {
    "cell_id": "b34c48ad776b446d8d2a4f8c75eb41d3",
    "deepnote_cell_height": 62.15625,
    "deepnote_cell_type": "markdown",
    "tags": []
   },
   "source": [
    "### other_player"
   ]
  },
  {
   "cell_type": "code",
   "execution_count": 2,
   "metadata": {
    "cell_id": "5677f9f6eaa244ebb54719c48428207a",
    "deepnote_cell_height": 81.15625,
    "deepnote_cell_type": "code",
    "deepnote_to_be_reexecuted": false,
    "execution_millis": 8,
    "execution_start": 1650976123601,
    "source_hash": "e82b6487",
    "tags": []
   },
   "outputs": [],
   "source": [
    "assert other_player(0) == 1"
   ]
  },
  {
   "cell_type": "markdown",
   "metadata": {
    "cell_id": "cd4b7ad4ea794324939c2bd2c85c4f67",
    "deepnote_cell_height": 74.921875,
    "deepnote_cell_type": "markdown",
    "tags": []
   },
   "source": [
    "The other_player function changes the current player with the help of modulo. As expected the result for other_player(0) is the opponent with the number 1."
   ]
  },
  {
   "cell_type": "markdown",
   "metadata": {
    "cell_id": "6ce6b495f0bf4bf4ad21c8d33fd5b81b",
    "deepnote_cell_height": 62.15625,
    "deepnote_cell_type": "markdown",
    "tags": []
   },
   "source": [
    "### move"
   ]
  },
  {
   "cell_type": "code",
   "execution_count": 3,
   "metadata": {
    "cell_id": "5d4ec374a70d4a7d9cc719826a86ceb1",
    "deepnote_cell_height": 81.15625,
    "deepnote_cell_type": "code",
    "deepnote_to_be_reexecuted": false,
    "execution_millis": 1,
    "execution_start": 1650976819696,
    "source_hash": "fb6bb429",
    "tags": []
   },
   "outputs": [],
   "source": [
    "assert move(gStartState, 0, 4) == ([[4, 4, 4, 4, 0, 5, 1], [5, 5, 4, 4, 4, 4, 0]], False)"
   ]
  },
  {
   "cell_type": "code",
   "execution_count": 4,
   "metadata": {
    "cell_id": "5440e9f2bc0b48b888132db68c173bf5",
    "deepnote_cell_height": 81.15625,
    "deepnote_cell_type": "code",
    "deepnote_to_be_reexecuted": false,
    "execution_millis": 1,
    "execution_start": 1650977293591,
    "source_hash": "65e88e68",
    "tags": []
   },
   "outputs": [],
   "source": [
    "assert move(gStartState, 0, 2) == ([[4, 4, 0, 5, 5, 5, 1], [4, 4, 4, 4, 4, 4, 0]], True)"
   ]
  },
  {
   "cell_type": "markdown",
   "metadata": {
    "cell_id": "ff6fe64de11842758e5c6e637fa97022",
    "deepnote_cell_height": 74.921875,
    "deepnote_cell_type": "markdown",
    "tags": []
   },
   "source": [
    "The move function returns True if the player gets another turn. If it is the opponents turn move returns False. In a game with four seeds in the start state the player gets another turn when he chooses the house with the index 2.  "
   ]
  },
  {
   "cell_type": "markdown",
   "metadata": {
    "cell_id": "852f402fcb57461db5fc6f9d26d917ab",
    "deepnote_cell_height": 62.15625,
    "deepnote_cell_type": "markdown",
    "tags": []
   },
   "source": [
    "### next_states"
   ]
  },
  {
   "cell_type": "code",
   "execution_count": 5,
   "metadata": {
    "cell_id": "f0db7b2776914e4aa81113c715623fc5",
    "deepnote_cell_height": 81.15625,
    "deepnote_cell_type": "code",
    "deepnote_to_be_reexecuted": false,
    "execution_millis": 5,
    "execution_start": 1650977529586,
    "source_hash": "78920294",
    "tags": []
   },
   "outputs": [],
   "source": [
    "assert next_states([[0, 0, 0, 0, 0, 1, 43], [0, 2, 0, 1, 2, 1, 22]],0) == [([[0, 0, 0, 0, 0, 0, 44], [0, 2, 0, 1, 2, 1, 22]], [5])]"
   ]
  },
  {
   "cell_type": "markdown",
   "metadata": {
    "cell_id": "ff6fe64de11842758e5c6e637fa97022",
    "deepnote_cell_height": 74.921875,
    "deepnote_cell_type": "markdown",
    "tags": []
   },
   "source": [
    "The next_states function returns a list that contains all reachable states from the state and the player which are provided as parameters. The result contains the seeds in both halfs and the chosen house which leaded to that state. In this tests a penultimate state is given that only allows one move. The result is a terminal state where player 1 put the seed from the sixth house in his Kalah."
   ]
  },
  {
   "cell_type": "markdown",
   "metadata": {
    "cell_id": "c3f61a4bd9184f1ab3636ec411d78543",
    "deepnote_cell_height": 62.15625,
    "deepnote_cell_type": "markdown",
    "tags": []
   },
   "source": [
    "### finished"
   ]
  },
  {
   "cell_type": "code",
   "execution_count": 6,
   "metadata": {
    "cell_id": "8a1e2d6c649d4e64abe24ad941ce548b",
    "deepnote_cell_height": 81.15625,
    "deepnote_cell_type": "code",
    "deepnote_to_be_reexecuted": false,
    "execution_millis": 4,
    "execution_start": 1650977562852,
    "source_hash": "8d2ad286",
    "tags": []
   },
   "outputs": [],
   "source": [
    "assert finished([[0,0,5,0,0,0,12],[0,4,0,0,0,0,15]]) == False"
   ]
  },
  {
   "cell_type": "code",
   "execution_count": 7,
   "metadata": {
    "allow_embed": false,
    "cell_id": "e62caf175bcf4fe0a4e863b20af53b68",
    "deepnote_cell_height": 81.15625,
    "deepnote_cell_type": "code",
    "deepnote_to_be_reexecuted": false,
    "execution_millis": 4,
    "execution_start": 1650978348740,
    "source_hash": "2a958d4a",
    "tags": []
   },
   "outputs": [],
   "source": [
    "assert finished([[0, 0, 0, 0, 1, 1, 18], [0, 0, 0, 0, 0, 0, 28]]) == True"
   ]
  },
  {
   "cell_type": "markdown",
   "metadata": {
    "cell_id": "ff6fe64de11842758e5c6e637fa97022",
    "deepnote_cell_height": 74.921875,
    "deepnote_cell_type": "markdown",
    "tags": []
   },
   "source": [
    "The finished function checks if a given state is a terminal state for the game and returns a boolean value. The game is finished when all houses from one player are empty. Both possible cases are checked in this test"
   ]
  },
  {
   "cell_type": "markdown",
   "metadata": {
    "cell_id": "d480b9612b1c42e98de35079dd67943c",
    "deepnote_cell_height": 62.15625,
    "deepnote_cell_type": "markdown",
    "tags": []
   },
   "source": [
    "### utility"
   ]
  },
  {
   "cell_type": "code",
   "execution_count": 8,
   "metadata": {
    "cell_id": "cf71a1a3be014019aea0c3b07f6afe3a",
    "deepnote_cell_height": 81.15625,
    "deepnote_cell_type": "code",
    "deepnote_to_be_reexecuted": false,
    "execution_millis": 2,
    "execution_start": 1650978411296,
    "source_hash": "c621789a",
    "tags": []
   },
   "outputs": [],
   "source": [
    "assert utility([[0, 0, 0, 0, 1, 1, 18], [0, 0, 0, 0, 0, 0, 28]],1) == 1"
   ]
  },
  {
   "cell_type": "code",
   "execution_count": 9,
   "metadata": {
    "allow_embed": false,
    "cell_id": "af507218d8b1421c80c81c0782e15f93",
    "deepnote_cell_height": 81.15625,
    "deepnote_cell_type": "code",
    "deepnote_to_be_reexecuted": false,
    "execution_millis": 6,
    "execution_start": 1650978447432,
    "source_hash": "6189dfcf",
    "tags": []
   },
   "outputs": [],
   "source": [
    "assert utility([[0, 0, 0, 0, 1, 1, 18], [0, 0, 0, 0, 0, 0, 28]],0) == -1"
   ]
  },
  {
   "cell_type": "markdown",
   "metadata": {
    "cell_id": "ff6fe64de11842758e5c6e637fa97022",
    "deepnote_cell_height": 74.921875,
    "deepnote_cell_type": "markdown",
    "tags": []
   },
   "source": [
    "The function utility takes a terminal state and a player and return -1, 0 or 1 depending on the outcome for the given player. In the first test the second player has more seeds in his Kalah and the second player with index 1 is handed over. In that case the player wins so the result 1 is correct. The second test takes the same state but the first player and in that case -1 is the correct result because the player is losing."
   ]
  },
  {
   "cell_type": "markdown",
   "metadata": {
    "cell_id": "48f6d40ee29049f6bddb43b84c3f26c3",
    "deepnote_cell_height": 62.15625,
    "deepnote_cell_type": "markdown",
    "tags": []
   },
   "source": [
    "### to_tuple"
   ]
  },
  {
   "cell_type": "code",
   "execution_count": 10,
   "metadata": {
    "cell_id": "2f604527c63d485cbfdda819a9c8c03f",
    "deepnote_cell_height": 81.15625,
    "deepnote_cell_type": "code",
    "deepnote_to_be_reexecuted": false,
    "execution_millis": 1,
    "execution_start": 1650979330080,
    "source_hash": "a69f9b38",
    "tags": []
   },
   "outputs": [],
   "source": [
    "assert to_tuple([[1, 8, 1, 0, 1, 2, 16], [1, 4, 0, 4, 15, 14, 5]]) == ((1, 8, 1, 0, 1, 2, 16), (1, 4, 0, 4, 15, 14, 5))"
   ]
  },
  {
   "cell_type": "markdown",
   "metadata": {
    "cell_id": "ff6fe64de11842758e5c6e637fa97022",
    "deepnote_cell_height": 74.921875,
    "deepnote_cell_type": "markdown",
    "tags": []
   },
   "source": [
    "The function to_tuple has the purpose to turn a list into a tuple. "
   ]
  },
  {
   "cell_type": "markdown",
   "metadata": {
    "cell_id": "9f682141f63f4945bcb34525a34374f4",
    "deepnote_cell_height": 62.15625,
    "deepnote_cell_type": "markdown",
    "tags": []
   },
   "source": [
    "### to_list"
   ]
  },
  {
   "cell_type": "code",
   "execution_count": 11,
   "metadata": {
    "cell_id": "6154db2da55140c4af88c7ade04dab9e",
    "deepnote_cell_height": 81.15625,
    "deepnote_cell_type": "code",
    "deepnote_to_be_reexecuted": false,
    "execution_millis": 0,
    "execution_start": 1650979358325,
    "source_hash": "e4712384",
    "tags": []
   },
   "outputs": [],
   "source": [
    "assert to_list([[1, 8, 1, 0, 1, 2, 16], [1, 4, 0, 4, 15, 14, 5]]) == [[1, 8, 1, 0, 1, 2, 16], [1, 4, 0, 4, 15, 14, 5]]"
   ]
  },
  {
   "cell_type": "markdown",
   "metadata": {
    "cell_id": "ff6fe64de11842758e5c6e637fa97022",
    "deepnote_cell_height": 74.921875,
    "deepnote_cell_type": "markdown",
    "tags": []
   },
   "source": [
    "The function to_list has the purpose to turn a tuple into a list. "
   ]
  },
  {
   "cell_type": "markdown",
   "metadata": {
    "cell_id": "67a7b28952854c8cbc0e857aa17f2860",
    "deepnote_cell_height": 62.15625,
    "deepnote_cell_type": "markdown",
    "tags": []
   },
   "source": [
    "### value"
   ]
  },
  {
   "cell_type": "code",
   "execution_count": 12,
   "metadata": {
    "cell_id": "da9c9bf1be9646fba98505d4bdb0ea89",
    "deepnote_cell_height": 81.15625,
    "deepnote_cell_type": "code",
    "deepnote_to_be_reexecuted": false,
    "execution_millis": 0,
    "execution_start": 1650981286211,
    "owner_user_id": "f69dee13-5c5e-4b97-89fa-71f96690ed33",
    "source_hash": "39c3e13d",
    "tags": []
   },
   "outputs": [],
   "source": [
    "assert value([[1, 8, 1, 0, 1, 2, 16], [1, 4, 0, 4, 15, 14, 5]], 0, 3) == 1"
   ]
  },
  {
   "cell_type": "markdown",
   "metadata": {
    "cell_id": "ff6fe64de11842758e5c6e637fa97022",
    "deepnote_cell_height": 74.921875,
    "deepnote_cell_type": "markdown",
    "tags": []
   },
   "source": [
    "<b style=\"background-color:yellow; color:blue\">value nach Bearbeitung mit Heuristik betrachten</b> \n",
    "The function utility"
   ]
  },
  {
   "cell_type": "markdown",
   "metadata": {
    "cell_id": "802ed9b2-2e18-400d-b802-ec4470c9be96",
    "deepnote_cell_height": 70.171875,
    "deepnote_cell_type": "markdown",
    "tags": []
   },
   "source": [
    "## Tests of Player Class"
   ]
  },
  {
   "cell_type": "markdown",
   "metadata": {
    "cell_id": "70c7c929-377d-42cd-a88b-b5aa24c6ced7",
    "deepnote_cell_height": 62.15625,
    "deepnote_cell_type": "markdown",
    "tags": []
   },
   "source": [
    "### 1. Player number must be 0 or 1"
   ]
  },
  {
   "cell_type": "code",
   "execution_count": 13,
   "metadata": {
    "cell_id": "d24b69da-8615-487c-810e-164499661daf",
    "deepnote_cell_height": 165.4375,
    "deepnote_cell_type": "code",
    "deepnote_to_be_reexecuted": false,
    "execution_millis": 2,
    "execution_start": 1650975136058,
    "source_hash": "50141332",
    "tags": []
   },
   "outputs": [
    {
     "name": "stdout",
     "output_type": "stream",
     "text": [
      "Number of player must be 0 or 1!\n"
     ]
    }
   ],
   "source": [
    "try:\n",
    "    Player(2, \"Player1\")\n",
    "except ValueError as e:\n",
    "    print(e)"
   ]
  },
  {
   "cell_type": "markdown",
   "metadata": {
    "cell_id": "620e2c31-605b-4c29-9a9a-b0cc89b5c816",
    "deepnote_cell_height": 62.15625,
    "deepnote_cell_type": "markdown",
    "tags": []
   },
   "source": [
    "### 2. Player name must be a string"
   ]
  },
  {
   "cell_type": "code",
   "execution_count": 14,
   "metadata": {
    "cell_id": "9fdde0cd-4699-4275-84d0-f650a22c0e40",
    "deepnote_cell_height": 165.4375,
    "deepnote_cell_type": "code",
    "deepnote_to_be_reexecuted": false,
    "execution_millis": 28,
    "execution_start": 1650975141421,
    "source_hash": "ac300006",
    "tags": []
   },
   "outputs": [
    {
     "name": "stdout",
     "output_type": "stream",
     "text": [
      "Name must be a string!\n"
     ]
    }
   ],
   "source": [
    "try:\n",
    "    Player(0, 3)\n",
    "except ValueError as e:\n",
    "    print(e)"
   ]
  },
  {
   "cell_type": "markdown",
   "metadata": {
    "cell_id": "66140f91-2464-409d-9844-c76d9d68d00a",
    "deepnote_cell_height": 62.15625,
    "deepnote_cell_type": "markdown",
    "tags": []
   },
   "source": [
    "### 3. Successful Player creation"
   ]
  },
  {
   "cell_type": "code",
   "execution_count": 15,
   "metadata": {
    "cell_id": "ce926aec-132a-4487-8e45-33cffe234ca2",
    "deepnote_cell_height": 118.4375,
    "deepnote_cell_type": "code",
    "deepnote_output_heights": [
     21.171875
    ],
    "deepnote_to_be_reexecuted": false,
    "execution_millis": 22,
    "execution_start": 1650975142508,
    "source_hash": "cf4eee45",
    "tags": []
   },
   "outputs": [
    {
     "data": {
      "text/plain": [
       "<__main__.Player at 0x2373bfbe048>"
      ]
     },
     "execution_count": 15,
     "metadata": {},
     "output_type": "execute_result"
    }
   ],
   "source": [
    "Player(0, \"Player1\")"
   ]
  },
  {
   "cell_type": "markdown",
   "metadata": {
    "cell_id": "e71e6e0f-fb02-42e5-a3c5-f40f8a57a72e",
    "deepnote_cell_height": 62.15625,
    "deepnote_cell_type": "markdown",
    "tags": []
   },
   "source": [
    "### Test of Human Player Class"
   ]
  },
  {
   "cell_type": "code",
   "execution_count": 16,
   "metadata": {
    "cell_id": "e962bef4-7f4c-40bb-a01b-7cf99362cbf8",
    "deepnote_cell_height": 81.15625,
    "deepnote_cell_type": "code",
    "deepnote_to_be_reexecuted": false,
    "execution_millis": 18,
    "execution_start": 1650975146953,
    "source_hash": "c543ce6e",
    "tags": []
   },
   "outputs": [],
   "source": [
    "human = Human(1,\"Hans\")"
   ]
  },
  {
   "cell_type": "markdown",
   "metadata": {
    "cell_id": "7127e4d4-bc9e-44a0-8762-4883555c1f83",
    "deepnote_cell_height": 52.546875,
    "deepnote_cell_type": "markdown",
    "deepnote_to_be_reexecuted": false,
    "execution_millis": 2,
    "execution_start": 1650980873591,
    "source_hash": "193c4c43",
    "tags": []
   },
   "source": [
    "<b style=\"background-color:yellow; color:blue\">TODO:</b> choose house testen!"
   ]
  },
  {
   "cell_type": "markdown",
   "metadata": {
    "cell_id": "ca9d91f6-82ec-4a19-ad42-ab8fe3eb6bf2",
    "deepnote_cell_height": 62.15625,
    "deepnote_cell_type": "markdown",
    "tags": []
   },
   "source": [
    "### Test of Random_AI Player Class"
   ]
  },
  {
   "cell_type": "code",
   "execution_count": 17,
   "metadata": {
    "cell_id": "39ed7357-3283-4318-8c33-60378f95bfc4",
    "deepnote_cell_height": 81.15625,
    "deepnote_cell_type": "code",
    "deepnote_to_be_reexecuted": false,
    "execution_millis": 11,
    "execution_start": 1650978571135,
    "source_hash": "68533d11",
    "tags": []
   },
   "outputs": [],
   "source": [
    "ai = Random_AI(0,\"Rando\", 1)"
   ]
  },
  {
   "cell_type": "code",
   "execution_count": 18,
   "metadata": {
    "cell_id": "5592fb44-6510-42a9-8aa4-f8c8e08caed4",
    "deepnote_cell_height": 81.15625,
    "deepnote_cell_type": "code",
    "deepnote_output_heights": [
     117.09375
    ],
    "deepnote_to_be_reexecuted": false,
    "execution_millis": 0,
    "execution_start": 1650978571476,
    "source_hash": "6e8ecac2",
    "tags": []
   },
   "outputs": [],
   "source": [
    "assert ai.choose_house(gStartState) == 1"
   ]
  },
  {
   "cell_type": "markdown",
   "metadata": {},
   "source": [
    "The choose_house function returns a randomly chosen house. With the seed 1 the result is always 1."
   ]
  },
  {
   "cell_type": "markdown",
   "metadata": {
    "cell_id": "e4158e42c1b44394b13d7260fe61e7bb",
    "deepnote_cell_height": 46.1875,
    "deepnote_cell_type": "markdown",
    "tags": []
   },
   "source": []
  },
  {
   "cell_type": "markdown",
   "metadata": {
    "cell_id": "7af0768e-858f-43cd-bb16-34afd8a4bab9",
    "deepnote_cell_height": 62.15625,
    "deepnote_cell_type": "markdown",
    "tags": []
   },
   "source": [
    "### Test of Minimax Player Class"
   ]
  },
  {
   "cell_type": "code",
   "execution_count": 19,
   "metadata": {
    "cell_id": "fc83914d-7e50-4362-8f15-9890ff84ac5f",
    "deepnote_cell_height": 81.15625,
    "deepnote_cell_type": "code",
    "deepnote_output_heights": [
     21.171875
    ],
    "deepnote_to_be_reexecuted": false,
    "execution_millis": 0,
    "execution_start": 1650978773749,
    "source_hash": "5d9e941f",
    "tags": []
   },
   "outputs": [],
   "source": [
    "assert Minimax(1,\"Mini\",4).choose_house(gStartState) == 2"
   ]
  },
  {
   "cell_type": "code",
   "execution_count": null,
   "metadata": {},
   "outputs": [],
   "source": []
  },
  {
   "cell_type": "markdown",
   "metadata": {
    "cell_id": "ff6fe64de11842758e5c6e637fa97022",
    "deepnote_cell_height": 74.921875,
    "deepnote_cell_type": "markdown",
    "tags": []
   },
   "source": [
    "This test checks if the choose_house function from the Minimax class finds the best choice for a state. The test uses the start state where the best choice is the third house (with index 2) because the plaer gets another turn which leads to more seeds in the kalah."
   ]
  },
  {
   "cell_type": "markdown",
   "metadata": {
    "cell_id": "29b73475-9122-48fd-8a6f-d6e7174b0c39",
    "deepnote_cell_height": 70.171875,
    "deepnote_cell_type": "markdown",
    "tags": []
   },
   "source": [
    "## Tests of Kalah_Game Class"
   ]
  },
  {
   "cell_type": "markdown",
   "metadata": {
    "cell_id": "ff6fe64de11842758e5c6e637fa97022",
    "deepnote_cell_height": 74.921875,
    "deepnote_cell_type": "markdown",
    "tags": []
   },
   "source": [
    "The four following tests make sure that the initialization of the game class works correctly. At first the players are checked. The players need to be exactly two with the indices 0 and 1 and they need to be instances of the Player subclass. this is tested with the first three tests. The results are the error messages because the incorrect cases are tested. "
   ]
  },
  {
   "cell_type": "markdown",
   "metadata": {
    "cell_id": "90e2ba1b-956b-494e-9c3d-d038526c45ea",
    "deepnote_cell_height": 62.15625,
    "deepnote_cell_type": "markdown",
    "tags": []
   },
   "source": [
    "### 1. There must be exactly two players"
   ]
  },
  {
   "cell_type": "code",
   "execution_count": 20,
   "metadata": {
    "cell_id": "3f773e00-1bcf-4800-b67c-35779e37c3d8",
    "deepnote_cell_height": 120.171875,
    "deepnote_cell_type": "code",
    "tags": []
   },
   "outputs": [
    {
     "name": "stdout",
     "output_type": "stream",
     "text": [
      "There must be exactly two players!\n"
     ]
    }
   ],
   "source": [
    "try:\n",
    "    game = Kalah_Game([Player(0,\"Test\")],0)\n",
    "except ValueError as e:\n",
    "    print(e)"
   ]
  },
  {
   "cell_type": "markdown",
   "metadata": {
    "cell_id": "00019-cd2aa7f3-dd66-4654-bcfb-f84053f653b2",
    "deepnote_cell_height": 62.15625,
    "deepnote_cell_type": "markdown",
    "tags": []
   },
   "source": [
    "### 2. Players must be instances of a Player sublass"
   ]
  },
  {
   "cell_type": "code",
   "execution_count": 21,
   "metadata": {
    "cell_id": "9775da90-dc80-4087-bad9-20dcd3688ee5",
    "deepnote_cell_height": 120.171875,
    "deepnote_cell_type": "code",
    "tags": []
   },
   "outputs": [
    {
     "name": "stdout",
     "output_type": "stream",
     "text": [
      "Both players must be of instances of a subclass of the class Player!\n"
     ]
    }
   ],
   "source": [
    "try:\n",
    "    game = Kalah_Game([Player(0,\"Test\"), Player(1,\"Test\")],0)\n",
    "except ValueError as e:\n",
    "    print(e)"
   ]
  },
  {
   "cell_type": "markdown",
   "metadata": {
    "cell_id": "5e35de19-dad2-4782-987a-c8ad716b3d27",
    "deepnote_cell_height": 62.15625,
    "deepnote_cell_type": "markdown",
    "tags": []
   },
   "source": [
    "### 3. Player numbers must be 0 and 1"
   ]
  },
  {
   "cell_type": "code",
   "execution_count": 22,
   "metadata": {
    "cell_id": "be806c51-8bcb-41f6-b155-3758412dc805",
    "deepnote_cell_height": 120.171875,
    "deepnote_cell_type": "code",
    "tags": []
   },
   "outputs": [
    {
     "name": "stdout",
     "output_type": "stream",
     "text": [
      "One of the players must be self.number 0 and the other one self.number 1!\n"
     ]
    }
   ],
   "source": [
    "try:\n",
    "    game = Kalah_Game([Human(1,\"Human\"), Random_AI(1,\"AI\",2)],0)\n",
    "except ValueError as e:\n",
    "    print(e)"
   ]
  },
  {
   "cell_type": "markdown",
   "metadata": {
    "cell_id": "44bf0339-add2-4a8e-8b10-ae908adc30f5",
    "deepnote_cell_height": 62.15625,
    "deepnote_cell_type": "markdown",
    "tags": []
   },
   "source": [
    "### 4. Display mode must be 0, 1 or 2"
   ]
  },
  {
   "cell_type": "code",
   "execution_count": 23,
   "metadata": {
    "cell_id": "fcb9111f-e805-4e75-88af-8bbd73a5617d",
    "deepnote_cell_height": 120.171875,
    "deepnote_cell_type": "code",
    "tags": []
   },
   "outputs": [
    {
     "name": "stdout",
     "output_type": "stream",
     "text": [
      "The display mode must be 0, 1 or 2!\n"
     ]
    }
   ],
   "source": [
    "try:\n",
    "    game = Kalah_Game([Human(1,\"Human\"), Random_AI(0,\"AI\",2)],3)\n",
    "except ValueError as e:\n",
    "    print(e)"
   ]
  },
  {
   "cell_type": "markdown",
   "metadata": {
    "cell_id": "ff6fe64de11842758e5c6e637fa97022",
    "deepnote_cell_height": 74.921875,
    "deepnote_cell_type": "markdown",
    "tags": []
   },
   "source": [
    "When the Kalah Game is created the number 0, 1 or 2 has to be provided as a parameter for the display mode. With 0 there is no output, number 1 creates a textual output and number 2 draws the board. Similar to the three tests before the incorrectcase with number 3 as input is checked which causes the error message."
   ]
  },
  {
   "cell_type": "markdown",
   "metadata": {
    "cell_id": "59f51523-9192-474c-8e1e-2e93f9be0d4c",
    "deepnote_cell_height": 62.15625,
    "deepnote_cell_type": "markdown",
    "tags": []
   },
   "source": [
    "### 5. Successful Game creation with two AIs"
   ]
  },
  {
   "cell_type": "markdown",
   "metadata": {},
   "source": [
    "Within this test a new game is initialized and played. The random AI and the Minimax AI are playing against each other:"
   ]
  },
  {
   "cell_type": "code",
   "execution_count": 24,
   "metadata": {
    "cell_id": "173410ec-18d3-4971-97fb-978834830cc6",
    "deepnote_cell_height": 66.15625,
    "deepnote_cell_type": "code",
    "tags": []
   },
   "outputs": [],
   "source": [
    "game = Kalah_Game([Random_AI(0,\"Rando\",1), Minimax(1,\"Mini\",3)], 2)"
   ]
  },
  {
   "cell_type": "code",
   "execution_count": 25,
   "metadata": {
    "cell_id": "ee7b8a06-dfb2-407a-bc6e-605c4da68e43",
    "deepnote_cell_height": 84.15625,
    "deepnote_cell_type": "code",
    "scrolled": false,
    "tags": []
   },
   "outputs": [
    {
     "name": "stdout",
     "output_type": "stream",
     "text": [
      "Current state:\n"
     ]
    },
    {
     "data": {
      "application/vnd.jupyter.widget-view+json": {
       "model_id": "a08440d8f1d841458ca439c3b5d734a6",
       "version_major": 2,
       "version_minor": 0
      },
      "text/plain": [
       "MultiCanvas(height=400, width=800)"
      ]
     },
     "metadata": {},
     "output_type": "display_data"
    },
    {
     "name": "stdout",
     "output_type": "stream",
     "text": [
      "Next is Rando's turn.\n",
      "Rando chose F\n",
      "Current state:\n"
     ]
    },
    {
     "data": {
      "application/vnd.jupyter.widget-view+json": {
       "model_id": "20bc2a6486334199b7725941aa2c2abb",
       "version_major": 2,
       "version_minor": 0
      },
      "text/plain": [
       "MultiCanvas(height=400, width=800)"
      ]
     },
     "metadata": {},
     "output_type": "display_data"
    },
    {
     "name": "stdout",
     "output_type": "stream",
     "text": [
      "Next is Mini's turn.\n",
      "Mini chose b\n",
      "Mini gets another turn!\n",
      "Current state:\n"
     ]
    },
    {
     "data": {
      "application/vnd.jupyter.widget-view+json": {
       "model_id": "5a50fde886094621b6dc64a476d17a9c",
       "version_major": 2,
       "version_minor": 0
      },
      "text/plain": [
       "MultiCanvas(height=400, width=800)"
      ]
     },
     "metadata": {},
     "output_type": "display_data"
    },
    {
     "name": "stdout",
     "output_type": "stream",
     "text": [
      "Next is Mini's turn.\n",
      "Mini chose a\n",
      "Current state:\n"
     ]
    },
    {
     "data": {
      "application/vnd.jupyter.widget-view+json": {
       "model_id": "cb8648ca1f414fc2b4080e03e2bca87c",
       "version_major": 2,
       "version_minor": 0
      },
      "text/plain": [
       "MultiCanvas(height=400, width=800)"
      ]
     },
     "metadata": {},
     "output_type": "display_data"
    },
    {
     "name": "stdout",
     "output_type": "stream",
     "text": [
      "Next is Rando's turn.\n",
      "Rando chose D\n",
      "Current state:\n"
     ]
    },
    {
     "data": {
      "application/vnd.jupyter.widget-view+json": {
       "model_id": "0e516051ff41443bab938bc86a653e7d",
       "version_major": 2,
       "version_minor": 0
      },
      "text/plain": [
       "MultiCanvas(height=400, width=800)"
      ]
     },
     "metadata": {},
     "output_type": "display_data"
    },
    {
     "name": "stdout",
     "output_type": "stream",
     "text": [
      "Next is Mini's turn.\n",
      "Mini chose c\n",
      "Current state:\n"
     ]
    },
    {
     "data": {
      "application/vnd.jupyter.widget-view+json": {
       "model_id": "aa14a02e5fd24b0e810a8df3f8fab2d8",
       "version_major": 2,
       "version_minor": 0
      },
      "text/plain": [
       "MultiCanvas(height=400, width=800)"
      ]
     },
     "metadata": {},
     "output_type": "display_data"
    },
    {
     "name": "stdout",
     "output_type": "stream",
     "text": [
      "Next is Rando's turn.\n",
      "Rando chose F\n",
      "Rando gets another turn!\n",
      "Current state:\n"
     ]
    },
    {
     "data": {
      "application/vnd.jupyter.widget-view+json": {
       "model_id": "3ba522bf1afd44f0b3f05dace2bbd352",
       "version_major": 2,
       "version_minor": 0
      },
      "text/plain": [
       "MultiCanvas(height=400, width=800)"
      ]
     },
     "metadata": {},
     "output_type": "display_data"
    },
    {
     "name": "stdout",
     "output_type": "stream",
     "text": [
      "Next is Rando's turn.\n",
      "Rando chose C\n",
      "Current state:\n"
     ]
    },
    {
     "data": {
      "application/vnd.jupyter.widget-view+json": {
       "model_id": "9971381086704f05bfef859e1dbc10a0",
       "version_major": 2,
       "version_minor": 0
      },
      "text/plain": [
       "MultiCanvas(height=400, width=800)"
      ]
     },
     "metadata": {},
     "output_type": "display_data"
    },
    {
     "name": "stdout",
     "output_type": "stream",
     "text": [
      "Next is Mini's turn.\n",
      "Mini chose b\n",
      "Current state:\n"
     ]
    },
    {
     "data": {
      "application/vnd.jupyter.widget-view+json": {
       "model_id": "a4204da6c25a42aaa1134bf02c19b225",
       "version_major": 2,
       "version_minor": 0
      },
      "text/plain": [
       "MultiCanvas(height=400, width=800)"
      ]
     },
     "metadata": {},
     "output_type": "display_data"
    },
    {
     "name": "stdout",
     "output_type": "stream",
     "text": [
      "Next is Rando's turn.\n",
      "Rando chose E\n",
      "Current state:\n"
     ]
    },
    {
     "data": {
      "application/vnd.jupyter.widget-view+json": {
       "model_id": "604f3364f685416d8995c65b3b5772fc",
       "version_major": 2,
       "version_minor": 0
      },
      "text/plain": [
       "MultiCanvas(height=400, width=800)"
      ]
     },
     "metadata": {},
     "output_type": "display_data"
    },
    {
     "name": "stdout",
     "output_type": "stream",
     "text": [
      "Next is Mini's turn.\n",
      "Mini chose c\n",
      "Current state:\n"
     ]
    },
    {
     "data": {
      "application/vnd.jupyter.widget-view+json": {
       "model_id": "92cd24516ac745cfadaa7c68e191661e",
       "version_major": 2,
       "version_minor": 0
      },
      "text/plain": [
       "MultiCanvas(height=400, width=800)"
      ]
     },
     "metadata": {},
     "output_type": "display_data"
    },
    {
     "name": "stdout",
     "output_type": "stream",
     "text": [
      "Next is Rando's turn.\n",
      "Rando chose A\n",
      "Current state:\n"
     ]
    },
    {
     "data": {
      "application/vnd.jupyter.widget-view+json": {
       "model_id": "46bcc11eedb54cc7b2c702b5d446ff17",
       "version_major": 2,
       "version_minor": 0
      },
      "text/plain": [
       "MultiCanvas(height=400, width=800)"
      ]
     },
     "metadata": {},
     "output_type": "display_data"
    },
    {
     "name": "stdout",
     "output_type": "stream",
     "text": [
      "Next is Mini's turn.\n",
      "Mini chose f\n",
      "Current state:\n"
     ]
    },
    {
     "data": {
      "application/vnd.jupyter.widget-view+json": {
       "model_id": "93e1d55a3d8d461baab05883f9f74285",
       "version_major": 2,
       "version_minor": 0
      },
      "text/plain": [
       "MultiCanvas(height=400, width=800)"
      ]
     },
     "metadata": {},
     "output_type": "display_data"
    },
    {
     "name": "stdout",
     "output_type": "stream",
     "text": [
      "Next is Rando's turn.\n",
      "Rando chose B\n",
      "Current state:\n"
     ]
    },
    {
     "data": {
      "application/vnd.jupyter.widget-view+json": {
       "model_id": "871d3697b84645bba58c35b3f6c4b635",
       "version_major": 2,
       "version_minor": 0
      },
      "text/plain": [
       "MultiCanvas(height=400, width=800)"
      ]
     },
     "metadata": {},
     "output_type": "display_data"
    },
    {
     "name": "stdout",
     "output_type": "stream",
     "text": [
      "Next is Mini's turn.\n",
      "Mini chose a\n",
      "Current state:\n"
     ]
    },
    {
     "data": {
      "application/vnd.jupyter.widget-view+json": {
       "model_id": "c7d61ccfcfea46dba68869a0a9113eb8",
       "version_major": 2,
       "version_minor": 0
      },
      "text/plain": [
       "MultiCanvas(height=400, width=800)"
      ]
     },
     "metadata": {},
     "output_type": "display_data"
    },
    {
     "name": "stdout",
     "output_type": "stream",
     "text": [
      "Next is Rando's turn.\n",
      "Rando chose F\n",
      "Current state:\n"
     ]
    },
    {
     "data": {
      "application/vnd.jupyter.widget-view+json": {
       "model_id": "24f32c0afc354e6599476e04f2b74127",
       "version_major": 2,
       "version_minor": 0
      },
      "text/plain": [
       "MultiCanvas(height=400, width=800)"
      ]
     },
     "metadata": {},
     "output_type": "display_data"
    },
    {
     "name": "stdout",
     "output_type": "stream",
     "text": [
      "Next is Mini's turn.\n",
      "Mini chose b\n",
      "Current state:\n"
     ]
    },
    {
     "data": {
      "application/vnd.jupyter.widget-view+json": {
       "model_id": "958a2848aaf140c2879f727ab5c16f3b",
       "version_major": 2,
       "version_minor": 0
      },
      "text/plain": [
       "MultiCanvas(height=400, width=800)"
      ]
     },
     "metadata": {},
     "output_type": "display_data"
    },
    {
     "name": "stdout",
     "output_type": "stream",
     "text": [
      "Next is Rando's turn.\n",
      "Rando chose D\n",
      "Rando gets another turn!\n",
      "Current state:\n"
     ]
    },
    {
     "data": {
      "application/vnd.jupyter.widget-view+json": {
       "model_id": "88a4abd4311f4332b15d45ce2f5f4fb5",
       "version_major": 2,
       "version_minor": 0
      },
      "text/plain": [
       "MultiCanvas(height=400, width=800)"
      ]
     },
     "metadata": {},
     "output_type": "display_data"
    },
    {
     "name": "stdout",
     "output_type": "stream",
     "text": [
      "Next is Rando's turn.\n",
      "Rando chose F\n",
      "Rando gets another turn!\n",
      "Current state:\n"
     ]
    },
    {
     "data": {
      "application/vnd.jupyter.widget-view+json": {
       "model_id": "51a5415b87e34bc094a2f3b84329180a",
       "version_major": 2,
       "version_minor": 0
      },
      "text/plain": [
       "MultiCanvas(height=400, width=800)"
      ]
     },
     "metadata": {},
     "output_type": "display_data"
    },
    {
     "name": "stdout",
     "output_type": "stream",
     "text": [
      "Next is Rando's turn.\n",
      "Rando chose C\n",
      "Current state:\n"
     ]
    },
    {
     "data": {
      "application/vnd.jupyter.widget-view+json": {
       "model_id": "95de7346c5ac45c4b802fb48facae304",
       "version_major": 2,
       "version_minor": 0
      },
      "text/plain": [
       "MultiCanvas(height=400, width=800)"
      ]
     },
     "metadata": {},
     "output_type": "display_data"
    },
    {
     "name": "stdout",
     "output_type": "stream",
     "text": [
      "Next is Mini's turn.\n",
      "Mini chose e\n",
      "Current state:\n"
     ]
    },
    {
     "data": {
      "application/vnd.jupyter.widget-view+json": {
       "model_id": "701dea4793934b24a7e4c316c0c2e066",
       "version_major": 2,
       "version_minor": 0
      },
      "text/plain": [
       "MultiCanvas(height=400, width=800)"
      ]
     },
     "metadata": {},
     "output_type": "display_data"
    },
    {
     "name": "stdout",
     "output_type": "stream",
     "text": [
      "Next is Rando's turn.\n",
      "Rando chose C\n",
      "Current state:\n"
     ]
    },
    {
     "data": {
      "application/vnd.jupyter.widget-view+json": {
       "model_id": "134c272e2b804e4b9367b4d145de72db",
       "version_major": 2,
       "version_minor": 0
      },
      "text/plain": [
       "MultiCanvas(height=400, width=800)"
      ]
     },
     "metadata": {},
     "output_type": "display_data"
    },
    {
     "name": "stdout",
     "output_type": "stream",
     "text": [
      "Next is Mini's turn.\n",
      "Mini chose d\n",
      "Current state:\n"
     ]
    },
    {
     "data": {
      "application/vnd.jupyter.widget-view+json": {
       "model_id": "9acd109f2e5b448c86544a8c8269741a",
       "version_major": 2,
       "version_minor": 0
      },
      "text/plain": [
       "MultiCanvas(height=400, width=800)"
      ]
     },
     "metadata": {},
     "output_type": "display_data"
    },
    {
     "name": "stdout",
     "output_type": "stream",
     "text": [
      "Next is Rando's turn.\n",
      "Rando chose D\n",
      "Current state:\n"
     ]
    },
    {
     "data": {
      "application/vnd.jupyter.widget-view+json": {
       "model_id": "4d530aab7d7d46eab3077efe7dd383c5",
       "version_major": 2,
       "version_minor": 0
      },
      "text/plain": [
       "MultiCanvas(height=400, width=800)"
      ]
     },
     "metadata": {},
     "output_type": "display_data"
    },
    {
     "name": "stdout",
     "output_type": "stream",
     "text": [
      "Next is Mini's turn.\n",
      "Mini chose c\n",
      "Mini gets another turn!\n",
      "Current state:\n"
     ]
    },
    {
     "data": {
      "application/vnd.jupyter.widget-view+json": {
       "model_id": "e9d1d8b7120e42cb838df9a39c57ff5a",
       "version_major": 2,
       "version_minor": 0
      },
      "text/plain": [
       "MultiCanvas(height=400, width=800)"
      ]
     },
     "metadata": {},
     "output_type": "display_data"
    },
    {
     "name": "stdout",
     "output_type": "stream",
     "text": [
      "Next is Mini's turn.\n",
      "Mini chose f\n",
      "Current state:\n"
     ]
    },
    {
     "data": {
      "application/vnd.jupyter.widget-view+json": {
       "model_id": "34b777631373459289bf6a3cf2ef657f",
       "version_major": 2,
       "version_minor": 0
      },
      "text/plain": [
       "MultiCanvas(height=400, width=800)"
      ]
     },
     "metadata": {},
     "output_type": "display_data"
    },
    {
     "name": "stdout",
     "output_type": "stream",
     "text": [
      "Next is Rando's turn.\n",
      "Rando chose F\n",
      "Current state:\n"
     ]
    },
    {
     "data": {
      "application/vnd.jupyter.widget-view+json": {
       "model_id": "8c3143d2d49844708b4307668e300100",
       "version_major": 2,
       "version_minor": 0
      },
      "text/plain": [
       "MultiCanvas(height=400, width=800)"
      ]
     },
     "metadata": {},
     "output_type": "display_data"
    },
    {
     "name": "stdout",
     "output_type": "stream",
     "text": [
      "Next is Mini's turn.\n",
      "Mini chose e\n",
      "Mini gets another turn!\n",
      "Current state:\n"
     ]
    },
    {
     "data": {
      "application/vnd.jupyter.widget-view+json": {
       "model_id": "c70fdbf71f854862a7c5e834991a179b",
       "version_major": 2,
       "version_minor": 0
      },
      "text/plain": [
       "MultiCanvas(height=400, width=800)"
      ]
     },
     "metadata": {},
     "output_type": "display_data"
    },
    {
     "name": "stdout",
     "output_type": "stream",
     "text": [
      "Next is Mini's turn.\n",
      "Mini chose f\n",
      "Mini gets another turn!\n",
      "Current state:\n"
     ]
    },
    {
     "data": {
      "application/vnd.jupyter.widget-view+json": {
       "model_id": "dd24e7a32f164fdeb18f40b263dcaa2c",
       "version_major": 2,
       "version_minor": 0
      },
      "text/plain": [
       "MultiCanvas(height=400, width=800)"
      ]
     },
     "metadata": {},
     "output_type": "display_data"
    },
    {
     "name": "stdout",
     "output_type": "stream",
     "text": [
      "Next is Mini's turn.\n",
      "Mini chose a\n",
      "Current state:\n"
     ]
    },
    {
     "data": {
      "application/vnd.jupyter.widget-view+json": {
       "model_id": "bb6aba770d1c437b8158c3d04d5bde8a",
       "version_major": 2,
       "version_minor": 0
      },
      "text/plain": [
       "MultiCanvas(height=400, width=800)"
      ]
     },
     "metadata": {},
     "output_type": "display_data"
    },
    {
     "name": "stdout",
     "output_type": "stream",
     "text": [
      "Next is Rando's turn.\n",
      "Rando chose B\n",
      "Current state:\n"
     ]
    },
    {
     "data": {
      "application/vnd.jupyter.widget-view+json": {
       "model_id": "8d05c37303ab45af9fa6a8f47ce140e7",
       "version_major": 2,
       "version_minor": 0
      },
      "text/plain": [
       "MultiCanvas(height=400, width=800)"
      ]
     },
     "metadata": {},
     "output_type": "display_data"
    },
    {
     "name": "stdout",
     "output_type": "stream",
     "text": [
      "Next is Mini's turn.\n",
      "Mini chose c\n",
      "Current state:\n"
     ]
    },
    {
     "data": {
      "application/vnd.jupyter.widget-view+json": {
       "model_id": "51b6ecfd7fad41028e155c3ac352741f",
       "version_major": 2,
       "version_minor": 0
      },
      "text/plain": [
       "MultiCanvas(height=400, width=800)"
      ]
     },
     "metadata": {},
     "output_type": "display_data"
    },
    {
     "name": "stdout",
     "output_type": "stream",
     "text": [
      "Next is Rando's turn.\n",
      "Rando chose D\n",
      "Current state:\n"
     ]
    },
    {
     "data": {
      "application/vnd.jupyter.widget-view+json": {
       "model_id": "2637c18c0e634d939d9bf27505b90532",
       "version_major": 2,
       "version_minor": 0
      },
      "text/plain": [
       "MultiCanvas(height=400, width=800)"
      ]
     },
     "metadata": {},
     "output_type": "display_data"
    },
    {
     "name": "stdout",
     "output_type": "stream",
     "text": [
      "Next is Mini's turn.\n",
      "Mini chose d\n",
      "Mini gets another turn!\n",
      "Current state:\n"
     ]
    },
    {
     "data": {
      "application/vnd.jupyter.widget-view+json": {
       "model_id": "d8dacb72d72d4237b9c3f943b5a4a8f4",
       "version_major": 2,
       "version_minor": 0
      },
      "text/plain": [
       "MultiCanvas(height=400, width=800)"
      ]
     },
     "metadata": {},
     "output_type": "display_data"
    },
    {
     "name": "stdout",
     "output_type": "stream",
     "text": [
      "Next is Mini's turn.\n",
      "Mini chose e\n",
      "Current state:\n"
     ]
    },
    {
     "data": {
      "application/vnd.jupyter.widget-view+json": {
       "model_id": "e515f0600aca413aae59d4306b098019",
       "version_major": 2,
       "version_minor": 0
      },
      "text/plain": [
       "MultiCanvas(height=400, width=800)"
      ]
     },
     "metadata": {},
     "output_type": "display_data"
    },
    {
     "name": "stdout",
     "output_type": "stream",
     "text": [
      "Next is Rando's turn.\n",
      "Rando chose C\n",
      "Current state:\n"
     ]
    },
    {
     "data": {
      "application/vnd.jupyter.widget-view+json": {
       "model_id": "ee6eae4bd3024cc997d1b46954418af0",
       "version_major": 2,
       "version_minor": 0
      },
      "text/plain": [
       "MultiCanvas(height=400, width=800)"
      ]
     },
     "metadata": {},
     "output_type": "display_data"
    },
    {
     "name": "stdout",
     "output_type": "stream",
     "text": [
      "Next is Mini's turn.\n",
      "Mini chose f\n"
     ]
    },
    {
     "data": {
      "application/vnd.jupyter.widget-view+json": {
       "model_id": "0033ea18a8614e8aa0e1bdb5de0b7bb7",
       "version_major": 2,
       "version_minor": 0
      },
      "text/plain": [
       "MultiCanvas(height=400, width=800)"
      ]
     },
     "metadata": {},
     "output_type": "display_data"
    },
    {
     "name": "stdout",
     "output_type": "stream",
     "text": [
      "Finished Game!\n",
      "Mini wins!\n",
      "Wall time: 8.42 s\n"
     ]
    }
   ],
   "source": [
    "%%time\n",
    "game.start()"
   ]
  },
  {
   "cell_type": "markdown",
   "metadata": {},
   "source": [
    "The Minimax AI wins which is the desired outcome because the decisions from the Minimax AI should be thought-out in contrast to the random decisions from the random AI."
   ]
  },
  {
   "cell_type": "code",
   "execution_count": 26,
   "metadata": {
    "cell_id": "5125f641-0038-46b0-a045-cc5411c46cbc",
    "deepnote_cell_height": 84.15625,
    "deepnote_cell_type": "code",
    "tags": []
   },
   "outputs": [],
   "source": [
    "timestamp = str(dt.datetime.now()).replace(':','.')\n",
    "game.log_to_file(timestamp)"
   ]
  },
  {
   "cell_type": "markdown",
   "metadata": {
    "cell_id": "46af8d46-0a0b-46f6-b89c-01eb041a63df",
    "deepnote_cell_height": 126.140625,
    "deepnote_cell_type": "markdown",
    "tags": []
   },
   "source": [
    "### Tests of Repeat Game"
   ]
  },
  {
   "cell_type": "markdown",
   "metadata": {},
   "source": [
    "The function repeat_game takes a logfile as input and shows the game with the chosen display mode. The boolean parameter determines if the decisions from the logfile should be repeated or if they should be computed again which leads to a different gameplay."
   ]
  },
  {
   "cell_type": "code",
   "execution_count": 27,
   "metadata": {
    "cell_id": "38ce819b-6096-4eaf-85ad-26a5d1eb5978",
    "deepnote_cell_height": 84.15625,
    "deepnote_cell_type": "code",
    "tags": []
   },
   "outputs": [
    {
     "name": "stdout",
     "output_type": "stream",
     "text": [
      "\n",
      "Current state:\n",
      "Rando:\t\t\tO: 0  F: 4  E: 4  D: 4  C: 4  B: 4  A: 4  \n",
      "Mini:\t\t\ta: 4  b: 4  c: 4  d: 4  e: 4  f: 4  o: 0  \n",
      "\n",
      "Next is Rando's turn.\n",
      "Rando chose F\n",
      "\n",
      "Current state:\n",
      "Rando:\t\t\tO: 1  F: 0  E: 4  D: 4  C: 4  B: 4  A: 4  \n",
      "Mini:\t\t\ta: 5  b: 5  c: 5  d: 4  e: 4  f: 4  o: 0  \n",
      "\n",
      "Next is Mini's turn.\n",
      "Mini chose b\n",
      "Mini gets another turn!\n",
      "\n",
      "Current state:\n",
      "Rando:\t\t\tO: 0  F: 0  E: 4  D: 4  C: 4  B: 4  A: 4  \n",
      "Mini:\t\t\ta: 5  b: 0  c: 6  d: 5  e: 5  f: 5  o: 2  \n",
      "\n",
      "Next is Mini's turn.\n",
      "Mini chose a\n",
      "\n",
      "Current state:\n",
      "Rando:\t\t\tO: 0  F: 0  E: 4  D: 4  C: 4  B: 4  A: 4  \n",
      "Mini:\t\t\ta: 0  b: 1  c: 7  d: 6  e: 6  f: 6  o: 2  \n",
      "\n",
      "Next is Rando's turn.\n",
      "Rando chose D\n",
      "\n",
      "Current state:\n",
      "Rando:\t\t\tO: 1  F: 1  E: 5  D: 0  C: 4  B: 4  A: 4  \n",
      "Mini:\t\t\ta: 1  b: 1  c: 7  d: 6  e: 6  f: 6  o: 2  \n",
      "\n",
      "Next is Mini's turn.\n",
      "Mini chose c\n",
      "\n",
      "Current state:\n",
      "Rando:\t\t\tO: 1  F: 1  E: 5  D: 0  C: 5  B: 5  A: 5  \n",
      "Mini:\t\t\ta: 1  b: 1  c: 0  d: 7  e: 7  f: 7  o: 3  \n",
      "\n",
      "Next is Rando's turn.\n",
      "Rando chose F\n",
      "Rando gets another turn!\n",
      "\n",
      "Current state:\n",
      "Rando:\t\t\tO: 2  F: 0  E: 5  D: 0  C: 5  B: 5  A: 5  \n",
      "Mini:\t\t\ta: 1  b: 1  c: 0  d: 7  e: 7  f: 7  o: 3  \n",
      "\n",
      "Next is Rando's turn.\n",
      "Rando chose C\n",
      "\n",
      "Current state:\n",
      "Rando:\t\t\tO: 3  F: 1  E: 6  D: 1  C: 0  B: 5  A: 5  \n",
      "Mini:\t\t\ta: 2  b: 1  c: 0  d: 7  e: 7  f: 7  o: 3  \n",
      "\n",
      "Next is Mini's turn.\n",
      "Mini chose b\n",
      "\n",
      "Current state:\n",
      "Rando:\t\t\tO: 3  F: 1  E: 6  D: 0  C: 0  B: 5  A: 5  \n",
      "Mini:\t\t\ta: 2  b: 0  c: 0  d: 7  e: 7  f: 7  o: 5  \n",
      "\n",
      "Next is Rando's turn.\n",
      "Rando chose E\n",
      "\n",
      "Current state:\n",
      "Rando:\t\t\tO: 4  F: 2  E: 0  D: 0  C: 0  B: 5  A: 5  \n",
      "Mini:\t\t\ta: 3  b: 1  c: 1  d: 8  e: 7  f: 7  o: 5  \n",
      "\n",
      "Next is Mini's turn.\n",
      "Mini chose c\n",
      "\n",
      "Current state:\n",
      "Rando:\t\t\tO: 4  F: 2  E: 0  D: 0  C: 0  B: 5  A: 5  \n",
      "Mini:\t\t\ta: 3  b: 1  c: 0  d: 9  e: 7  f: 7  o: 5  \n",
      "\n",
      "Next is Rando's turn.\n",
      "Rando chose A\n",
      "\n",
      "Current state:\n",
      "Rando:\t\t\tO: 4  F: 3  E: 1  D: 1  C: 1  B: 6  A: 0  \n",
      "Mini:\t\t\ta: 3  b: 1  c: 0  d: 9  e: 7  f: 7  o: 5  \n",
      "\n",
      "Next is Mini's turn.\n",
      "Mini chose f\n",
      "\n",
      "Current state:\n",
      "Rando:\t\t\tO: 4  F: 4  E: 2  D: 2  C: 2  B: 7  A: 1  \n",
      "Mini:\t\t\ta: 3  b: 1  c: 0  d: 9  e: 7  f: 0  o: 6  \n",
      "\n",
      "Next is Rando's turn.\n",
      "Rando chose B\n",
      "\n",
      "Current state:\n",
      "Rando:\t\t\tO: 5  F: 5  E: 3  D: 3  C: 3  B: 0  A: 1  \n",
      "Mini:\t\t\ta: 4  b: 2  c: 0  d: 9  e: 7  f: 0  o: 6  \n",
      "\n",
      "Next is Mini's turn.\n",
      "Mini chose a\n",
      "\n",
      "Current state:\n",
      "Rando:\t\t\tO: 5  F: 5  E: 3  D: 3  C: 3  B: 0  A: 1  \n",
      "Mini:\t\t\ta: 0  b: 3  c: 1  d: 10  e: 8  f: 0  o: 6  \n",
      "\n",
      "Next is Rando's turn.\n",
      "Rando chose F\n",
      "\n",
      "Current state:\n",
      "Rando:\t\t\tO: 6  F: 0  E: 3  D: 3  C: 3  B: 0  A: 1  \n",
      "Mini:\t\t\ta: 1  b: 4  c: 2  d: 11  e: 8  f: 0  o: 6  \n",
      "\n",
      "Next is Mini's turn.\n",
      "Mini chose b\n",
      "\n",
      "Current state:\n",
      "Rando:\t\t\tO: 6  F: 0  E: 3  D: 3  C: 3  B: 0  A: 0  \n",
      "Mini:\t\t\ta: 1  b: 0  c: 3  d: 12  e: 9  f: 0  o: 8  \n",
      "\n",
      "Next is Rando's turn.\n",
      "Rando chose D\n",
      "Rando gets another turn!\n",
      "\n",
      "Current state:\n",
      "Rando:\t\t\tO: 7  F: 1  E: 4  D: 0  C: 3  B: 0  A: 0  \n",
      "Mini:\t\t\ta: 1  b: 0  c: 3  d: 12  e: 9  f: 0  o: 8  \n",
      "\n",
      "Next is Rando's turn.\n",
      "Rando chose F\n",
      "Rando gets another turn!\n",
      "\n",
      "Current state:\n",
      "Rando:\t\t\tO: 8  F: 0  E: 4  D: 0  C: 3  B: 0  A: 0  \n",
      "Mini:\t\t\ta: 1  b: 0  c: 3  d: 12  e: 9  f: 0  o: 8  \n",
      "\n",
      "Next is Rando's turn.\n",
      "Rando chose C\n",
      "\n",
      "Current state:\n",
      "Rando:\t\t\tO: 10  F: 0  E: 5  D: 1  C: 0  B: 0  A: 0  \n",
      "Mini:\t\t\ta: 0  b: 0  c: 3  d: 12  e: 9  f: 0  o: 8  \n",
      "\n",
      "Next is Mini's turn.\n",
      "Mini chose e\n",
      "\n",
      "Current state:\n",
      "Rando:\t\t\tO: 10  F: 0  E: 6  D: 2  C: 1  B: 1  A: 1  \n",
      "Mini:\t\t\ta: 0  b: 0  c: 3  d: 12  e: 0  f: 1  o: 11  \n",
      "\n",
      "Next is Rando's turn.\n",
      "Rando chose C\n",
      "\n",
      "Current state:\n",
      "Rando:\t\t\tO: 10  F: 0  E: 6  D: 3  C: 0  B: 1  A: 1  \n",
      "Mini:\t\t\ta: 0  b: 0  c: 3  d: 12  e: 0  f: 1  o: 11  \n",
      "\n",
      "Next is Mini's turn.\n",
      "Mini chose d\n",
      "\n",
      "Current state:\n",
      "Rando:\t\t\tO: 10  F: 1  E: 7  D: 4  C: 1  B: 2  A: 2  \n",
      "Mini:\t\t\ta: 1  b: 1  c: 4  d: 0  e: 1  f: 2  o: 12  \n",
      "\n",
      "Next is Rando's turn.\n",
      "Rando chose D\n",
      "\n",
      "Current state:\n",
      "Rando:\t\t\tO: 11  F: 2  E: 8  D: 0  C: 1  B: 2  A: 2  \n",
      "Mini:\t\t\ta: 2  b: 1  c: 4  d: 0  e: 1  f: 2  o: 12  \n",
      "\n",
      "Next is Mini's turn.\n",
      "Mini chose c\n",
      "Mini gets another turn!\n",
      "\n",
      "Current state:\n",
      "Rando:\t\t\tO: 11  F: 2  E: 8  D: 0  C: 1  B: 2  A: 2  \n",
      "Mini:\t\t\ta: 2  b: 1  c: 0  d: 1  e: 2  f: 3  o: 13  \n",
      "\n",
      "Next is Mini's turn.\n",
      "Mini chose f\n",
      "\n",
      "Current state:\n",
      "Rando:\t\t\tO: 11  F: 2  E: 0  D: 0  C: 1  B: 3  A: 3  \n",
      "Mini:\t\t\ta: 2  b: 0  c: 0  d: 1  e: 2  f: 0  o: 23  \n",
      "\n",
      "Next is Rando's turn.\n",
      "Rando chose F\n",
      "\n",
      "Current state:\n",
      "Rando:\t\t\tO: 12  F: 0  E: 0  D: 0  C: 1  B: 3  A: 3  \n",
      "Mini:\t\t\ta: 3  b: 0  c: 0  d: 1  e: 2  f: 0  o: 23  \n",
      "\n",
      "Next is Mini's turn.\n",
      "Mini chose e\n",
      "Mini gets another turn!\n",
      "\n",
      "Current state:\n",
      "Rando:\t\t\tO: 12  F: 0  E: 0  D: 0  C: 1  B: 3  A: 3  \n",
      "Mini:\t\t\ta: 3  b: 0  c: 0  d: 1  e: 0  f: 1  o: 24  \n",
      "\n",
      "Next is Mini's turn.\n",
      "Mini chose f\n",
      "Mini gets another turn!\n",
      "\n",
      "Current state:\n",
      "Rando:\t\t\tO: 12  F: 0  E: 0  D: 0  C: 1  B: 3  A: 3  \n",
      "Mini:\t\t\ta: 3  b: 0  c: 0  d: 1  e: 0  f: 0  o: 25  \n",
      "\n",
      "Next is Mini's turn.\n",
      "Mini chose a\n",
      "\n",
      "Current state:\n",
      "Rando:\t\t\tO: 12  F: 0  E: 0  D: 0  C: 1  B: 3  A: 3  \n",
      "Mini:\t\t\ta: 0  b: 1  c: 1  d: 2  e: 0  f: 0  o: 25  \n",
      "\n",
      "Next is Rando's turn.\n",
      "Rando chose B\n",
      "\n",
      "Current state:\n",
      "Rando:\t\t\tO: 14  F: 0  E: 0  D: 1  C: 2  B: 0  A: 3  \n",
      "Mini:\t\t\ta: 0  b: 0  c: 1  d: 2  e: 0  f: 0  o: 25  \n",
      "\n",
      "Next is Mini's turn.\n",
      "Mini chose c\n",
      "\n",
      "Current state:\n",
      "Rando:\t\t\tO: 14  F: 0  E: 0  D: 1  C: 2  B: 0  A: 3  \n",
      "Mini:\t\t\ta: 0  b: 0  c: 0  d: 3  e: 0  f: 0  o: 25  \n",
      "\n",
      "Next is Rando's turn.\n",
      "Rando chose D\n",
      "\n",
      "Current state:\n",
      "Rando:\t\t\tO: 14  F: 0  E: 1  D: 0  C: 2  B: 0  A: 3  \n",
      "Mini:\t\t\ta: 0  b: 0  c: 0  d: 3  e: 0  f: 0  o: 25  \n",
      "\n",
      "Next is Mini's turn.\n",
      "Mini chose d\n",
      "Mini gets another turn!\n",
      "\n",
      "Current state:\n",
      "Rando:\t\t\tO: 14  F: 0  E: 1  D: 0  C: 2  B: 0  A: 3  \n",
      "Mini:\t\t\ta: 0  b: 0  c: 0  d: 0  e: 1  f: 1  o: 26  \n",
      "\n",
      "Next is Mini's turn.\n",
      "Mini chose e\n",
      "\n",
      "Current state:\n",
      "Rando:\t\t\tO: 14  F: 0  E: 1  D: 0  C: 2  B: 0  A: 3  \n",
      "Mini:\t\t\ta: 0  b: 0  c: 0  d: 0  e: 0  f: 2  o: 26  \n",
      "\n",
      "Next is Rando's turn.\n",
      "Rando chose C\n",
      "\n",
      "Current state:\n",
      "Rando:\t\t\tO: 14  F: 0  E: 2  D: 1  C: 0  B: 0  A: 3  \n",
      "Mini:\t\t\ta: 0  b: 0  c: 0  d: 0  e: 0  f: 2  o: 26  \n",
      "\n",
      "Next is Mini's turn.\n",
      "Mini chose f\n",
      "\n",
      "Rando:\t\t\tO: 14  F: 0  E: 2  D: 1  C: 0  B: 0  A: 4  \n",
      "Mini:\t\t\ta: 0  b: 0  c: 0  d: 0  e: 0  f: 0  o: 27  \n",
      "\n",
      "Finished Game!\n",
      "Mini wins!\n",
      "Wall time: 71 ms\n"
     ]
    }
   ],
   "source": [
    "%%time\n",
    "repeat_game(f\"log_{timestamp}.json\",True,1)"
   ]
  },
  {
   "cell_type": "markdown",
   "metadata": {},
   "source": [
    "Repeating the game of two AIs, where the decisions are repeated based on the log file (Player types: Repeated_Player)"
   ]
  },
  {
   "cell_type": "code",
   "execution_count": 28,
   "metadata": {
    "cell_id": "cb91697d-e8a1-46df-a0de-f9d00cfab266",
    "deepnote_cell_height": 84.15625,
    "deepnote_cell_type": "code",
    "tags": []
   },
   "outputs": [
    {
     "name": "stdout",
     "output_type": "stream",
     "text": [
      "\n",
      "Current state:\n",
      "Rando:\t\t\tO: 0  F: 4  E: 4  D: 4  C: 4  B: 4  A: 4  \n",
      "Mini:\t\t\ta: 4  b: 4  c: 4  d: 4  e: 4  f: 4  o: 0  \n",
      "\n",
      "Next is Rando's turn.\n",
      "Rando chose B\n",
      "\n",
      "Current state:\n",
      "Rando:\t\t\tO: 0  F: 5  E: 5  D: 5  C: 5  B: 0  A: 4  \n",
      "Mini:\t\t\ta: 4  b: 4  c: 4  d: 4  e: 4  f: 4  o: 0  \n",
      "\n",
      "Next is Mini's turn.\n",
      "Mini chose a\n",
      "\n",
      "Current state:\n",
      "Rando:\t\t\tO: 0  F: 5  E: 5  D: 5  C: 5  B: 0  A: 4  \n",
      "Mini:\t\t\ta: 0  b: 5  c: 5  d: 5  e: 5  f: 4  o: 0  \n",
      "\n",
      "Next is Rando's turn.\n",
      "Rando chose D\n",
      "\n",
      "Current state:\n",
      "Rando:\t\t\tO: 1  F: 6  E: 6  D: 0  C: 5  B: 0  A: 4  \n",
      "Mini:\t\t\ta: 1  b: 6  c: 5  d: 5  e: 5  f: 4  o: 0  \n",
      "\n",
      "Next is Mini's turn.\n",
      "Mini chose a\n",
      "\n",
      "Current state:\n",
      "Rando:\t\t\tO: 1  F: 6  E: 6  D: 0  C: 5  B: 0  A: 4  \n",
      "Mini:\t\t\ta: 0  b: 7  c: 5  d: 5  e: 5  f: 4  o: 0  \n",
      "\n",
      "Next is Rando's turn.\n",
      "Rando chose F\n",
      "\n",
      "Current state:\n",
      "Rando:\t\t\tO: 2  F: 0  E: 6  D: 0  C: 5  B: 0  A: 4  \n",
      "Mini:\t\t\ta: 1  b: 8  c: 6  d: 6  e: 6  f: 4  o: 0  \n",
      "\n",
      "Next is Mini's turn.\n",
      "Mini chose c\n",
      "\n",
      "Current state:\n",
      "Rando:\t\t\tO: 2  F: 0  E: 6  D: 0  C: 5  B: 1  A: 5  \n",
      "Mini:\t\t\ta: 1  b: 8  c: 0  d: 7  e: 7  f: 5  o: 1  \n",
      "\n",
      "Next is Rando's turn.\n",
      "Rando chose E\n",
      "\n",
      "Current state:\n",
      "Rando:\t\t\tO: 3  F: 1  E: 0  D: 0  C: 5  B: 1  A: 5  \n",
      "Mini:\t\t\ta: 2  b: 9  c: 1  d: 8  e: 7  f: 5  o: 1  \n",
      "\n",
      "Next is Mini's turn.\n",
      "Mini chose c\n",
      "\n",
      "Current state:\n",
      "Rando:\t\t\tO: 3  F: 1  E: 0  D: 0  C: 5  B: 1  A: 5  \n",
      "Mini:\t\t\ta: 2  b: 9  c: 0  d: 9  e: 7  f: 5  o: 1  \n",
      "\n",
      "Next is Rando's turn.\n",
      "Rando chose F\n",
      "Rando gets another turn!\n",
      "\n",
      "Current state:\n",
      "Rando:\t\t\tO: 4  F: 0  E: 0  D: 0  C: 5  B: 1  A: 5  \n",
      "Mini:\t\t\ta: 2  b: 9  c: 0  d: 9  e: 7  f: 5  o: 1  \n",
      "\n",
      "Next is Rando's turn.\n",
      "Rando chose A\n",
      "\n",
      "Current state:\n",
      "Rando:\t\t\tO: 7  F: 0  E: 1  D: 1  C: 6  B: 2  A: 0  \n",
      "Mini:\t\t\ta: 0  b: 9  c: 0  d: 9  e: 7  f: 5  o: 1  \n",
      "\n",
      "Next is Mini's turn.\n",
      "Mini chose b\n",
      "\n",
      "Current state:\n",
      "Rando:\t\t\tO: 7  F: 0  E: 1  D: 2  C: 7  B: 3  A: 1  \n",
      "Mini:\t\t\ta: 0  b: 0  c: 1  d: 10  e: 8  f: 6  o: 2  \n",
      "\n",
      "Next is Rando's turn.\n",
      "Rando chose D\n",
      "\n",
      "Current state:\n",
      "Rando:\t\t\tO: 7  F: 1  E: 2  D: 0  C: 7  B: 3  A: 1  \n",
      "Mini:\t\t\ta: 0  b: 0  c: 1  d: 10  e: 8  f: 6  o: 2  \n",
      "\n",
      "Next is Mini's turn.\n",
      "Mini chose c\n",
      "\n",
      "Current state:\n",
      "Rando:\t\t\tO: 7  F: 1  E: 2  D: 0  C: 7  B: 3  A: 1  \n",
      "Mini:\t\t\ta: 0  b: 0  c: 0  d: 11  e: 8  f: 6  o: 2  \n",
      "\n",
      "Next is Rando's turn.\n",
      "Rando chose E\n",
      "Rando gets another turn!\n",
      "\n",
      "Current state:\n",
      "Rando:\t\t\tO: 8  F: 2  E: 0  D: 0  C: 7  B: 3  A: 1  \n",
      "Mini:\t\t\ta: 0  b: 0  c: 0  d: 11  e: 8  f: 6  o: 2  \n",
      "\n",
      "Next is Rando's turn.\n",
      "Rando chose F\n",
      "\n",
      "Current state:\n",
      "Rando:\t\t\tO: 16  F: 0  E: 0  D: 0  C: 7  B: 3  A: 0  \n",
      "Mini:\t\t\ta: 1  b: 0  c: 0  d: 11  e: 8  f: 0  o: 2  \n",
      "\n",
      "Next is Mini's turn.\n",
      "Mini chose e\n",
      "\n",
      "Current state:\n",
      "Rando:\t\t\tO: 16  F: 1  E: 1  D: 1  C: 8  B: 4  A: 0  \n",
      "Mini:\t\t\ta: 1  b: 0  c: 0  d: 11  e: 0  f: 0  o: 5  \n",
      "\n",
      "Next is Rando's turn.\n",
      "Rando chose B\n",
      "\n",
      "Current state:\n",
      "Rando:\t\t\tO: 16  F: 2  E: 2  D: 2  C: 9  B: 0  A: 0  \n",
      "Mini:\t\t\ta: 1  b: 0  c: 0  d: 11  e: 0  f: 0  o: 5  \n",
      "\n",
      "Next is Mini's turn.\n",
      "Mini chose d\n",
      "\n",
      "Current state:\n",
      "Rando:\t\t\tO: 16  F: 3  E: 0  D: 3  C: 10  B: 1  A: 1  \n",
      "Mini:\t\t\ta: 2  b: 0  c: 0  d: 0  e: 1  f: 1  o: 10  \n",
      "\n",
      "Next is Rando's turn.\n",
      "Rando chose C\n",
      "\n",
      "Current state:\n",
      "Rando:\t\t\tO: 17  F: 4  E: 1  D: 4  C: 0  B: 1  A: 1  \n",
      "Mini:\t\t\ta: 3  b: 1  c: 1  d: 1  e: 2  f: 2  o: 10  \n",
      "\n",
      "Next is Mini's turn.\n",
      "Mini chose d\n",
      "\n",
      "Current state:\n",
      "Rando:\t\t\tO: 17  F: 4  E: 1  D: 4  C: 0  B: 1  A: 1  \n",
      "Mini:\t\t\ta: 3  b: 1  c: 1  d: 0  e: 3  f: 2  o: 10  \n",
      "\n",
      "Next is Rando's turn.\n",
      "Rando chose F\n",
      "\n",
      "Current state:\n",
      "Rando:\t\t\tO: 18  F: 0  E: 1  D: 4  C: 0  B: 1  A: 1  \n",
      "Mini:\t\t\ta: 4  b: 2  c: 2  d: 0  e: 3  f: 2  o: 10  \n",
      "\n",
      "Next is Mini's turn.\n",
      "Mini chose a\n",
      "\n",
      "Current state:\n",
      "Rando:\t\t\tO: 18  F: 0  E: 1  D: 4  C: 0  B: 1  A: 1  \n",
      "Mini:\t\t\ta: 0  b: 3  c: 3  d: 1  e: 4  f: 2  o: 10  \n",
      "\n",
      "Next is Rando's turn.\n",
      "Rando chose D\n",
      "\n",
      "Current state:\n",
      "Rando:\t\t\tO: 22  F: 1  E: 2  D: 0  C: 0  B: 1  A: 0  \n",
      "Mini:\t\t\ta: 1  b: 3  c: 3  d: 1  e: 4  f: 0  o: 10  \n",
      "\n",
      "Next is Mini's turn.\n",
      "Mini chose a\n",
      "\n",
      "Current state:\n",
      "Rando:\t\t\tO: 22  F: 1  E: 2  D: 0  C: 0  B: 1  A: 0  \n",
      "Mini:\t\t\ta: 0  b: 4  c: 3  d: 1  e: 4  f: 0  o: 10  \n",
      "\n",
      "Next is Rando's turn.\n",
      "Rando chose B\n",
      "\n",
      "Current state:\n",
      "Rando:\t\t\tO: 24  F: 1  E: 2  D: 0  C: 0  B: 0  A: 0  \n",
      "Mini:\t\t\ta: 0  b: 4  c: 3  d: 0  e: 4  f: 0  o: 10  \n",
      "\n",
      "Next is Mini's turn.\n",
      "Mini chose b\n",
      "\n",
      "Current state:\n",
      "Rando:\t\t\tO: 24  F: 1  E: 2  D: 0  C: 0  B: 0  A: 0  \n",
      "Mini:\t\t\ta: 0  b: 0  c: 4  d: 1  e: 5  f: 1  o: 10  \n",
      "\n",
      "Next is Rando's turn.\n",
      "Rando chose E\n",
      "Rando gets another turn!\n",
      "\n",
      "Current state:\n",
      "Rando:\t\t\tO: 25  F: 2  E: 0  D: 0  C: 0  B: 0  A: 0  \n",
      "Mini:\t\t\ta: 0  b: 0  c: 4  d: 1  e: 5  f: 1  o: 10  \n",
      "\n",
      "Next is Rando's turn.\n",
      "Rando chose F\n",
      "\n",
      "Rando:\t\t\tO: 26  F: 0  E: 0  D: 0  C: 0  B: 0  A: 0  \n",
      "Mini:\t\t\ta: 1  b: 0  c: 4  d: 1  e: 5  f: 1  o: 10  \n",
      "\n",
      "Finished Game!\n",
      "Rando wins!\n",
      "Wall time: 94 ms\n"
     ]
    }
   ],
   "source": [
    "%%time\n",
    "repeat_game(f\"log_{timestamp}.json\",False,1)"
   ]
  },
  {
   "cell_type": "markdown",
   "metadata": {
    "cell_id": "bd7a8d9f-d537-44f0-901c-20618c2f037b",
    "deepnote_cell_height": 78.15625,
    "deepnote_cell_type": "markdown",
    "tags": []
   },
   "source": [
    "Repeating the game of two AIs, where both of them calculate their decisions new (Player types: Random_AI)"
   ]
  },
  {
   "cell_type": "markdown",
   "metadata": {
    "created_in_deepnote_cell": true,
    "deepnote_cell_type": "markdown",
    "tags": []
   },
   "source": [
    "<a style='text-decoration:none;line-height:16px;display:flex;color:#5B5B62;padding:10px;justify-content:end;' href='https://deepnote.com?utm_source=created-in-deepnote-cell&projectId=b91c3ea7-d814-439b-837a-72fdc90697b1' target=\"_blank\">\n",
    "<img alt='Created in deepnote.com' style='display:inline;max-height:16px;margin:0px;margin-right:7.5px;' src='data:image/svg+xml;base64,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' > </img>\n",
    "Created in <span style='font-weight:600;margin-left:4px;'>Deepnote</span></a>"
   ]
  }
 ],
 "metadata": {
  "deepnote": {},
  "deepnote_execution_queue": [],
  "deepnote_notebook_id": "14354731-2ca2-41c5-970e-e7a0cfba5e9c",
  "kernelspec": {
   "display_name": "Python 3",
   "language": "python",
   "name": "python3"
  },
  "language_info": {
   "codemirror_mode": {
    "name": "ipython",
    "version": 3
   },
   "file_extension": ".py",
   "mimetype": "text/x-python",
   "name": "python",
   "nbconvert_exporter": "python",
   "pygments_lexer": "ipython3",
   "version": "3.7.4"
  }
 },
 "nbformat": 4,
 "nbformat_minor": 2
}
