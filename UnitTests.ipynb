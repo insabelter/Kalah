{
 "cells": [
  {
   "cell_type": "markdown",
   "source": "# UnitTests\n\nThis notebook is used for testing the functions from the notebook \"Classes\".",
   "metadata": {
    "cell_id": "fa3129e4-867e-4e55-9ce9-10502287d90a",
    "deepnote_cell_type": "markdown",
    "deepnote_cell_height": 120.390625
   }
  },
  {
   "cell_type": "code",
   "metadata": {
    "cell_id": "b757e62a-ba19-41fd-aa26-d9ec3fc97ce2",
    "tags": [],
    "deepnote_to_be_reexecuted": false,
    "source_hash": "a9451e71",
    "execution_start": 1650977247280,
    "execution_millis": 234,
    "deepnote_cell_type": "code",
    "deepnote_cell_height": 112
   },
   "source": "%run Classes.ipynb",
   "execution_count": 42,
   "outputs": [
    {
     "name": "stdout",
     "text": "1\n",
     "output_type": "stream"
    }
   ]
  },
  {
   "cell_type": "markdown",
   "source": "## Tests of global game functions",
   "metadata": {
    "cell_id": "d2934c819a044a8bb171b8d588cc78ea",
    "tags": [],
    "deepnote_to_be_reexecuted": false,
    "source_hash": "f44517b3",
    "execution_start": 1650975968544,
    "execution_millis": 0,
    "owner_user_id": "239986da-4d54-40b6-a333-38b7fc4b6fc0",
    "deepnote_cell_type": "markdown",
    "deepnote_cell_height": 70
   },
   "outputs": [],
   "execution_count": 29
  },
  {
   "cell_type": "markdown",
   "source": "### other_player",
   "metadata": {
    "cell_id": "b34c48ad776b446d8d2a4f8c75eb41d3",
    "tags": [],
    "deepnote_cell_type": "markdown",
    "deepnote_cell_height": 62
   }
  },
  {
   "cell_type": "code",
   "source": "assert other_player(0) == 1",
   "metadata": {
    "cell_id": "5677f9f6eaa244ebb54719c48428207a",
    "tags": [],
    "deepnote_to_be_reexecuted": false,
    "source_hash": "e82b6487",
    "execution_start": 1650976123601,
    "execution_millis": 8,
    "deepnote_cell_type": "code",
    "deepnote_cell_height": 81
   },
   "outputs": [],
   "execution_count": 32
  },
  {
   "cell_type": "markdown",
   "source": "The other_player function changes the current player with the help of modulo. As expected the result for other_player(0) is the opponent with the number 1.",
   "metadata": {
    "cell_id": "cd4b7ad4ea794324939c2bd2c85c4f67",
    "tags": [],
    "deepnote_cell_type": "markdown",
    "deepnote_cell_height": 74.796875
   }
  },
  {
   "cell_type": "markdown",
   "source": "### move",
   "metadata": {
    "cell_id": "6ce6b495f0bf4bf4ad21c8d33fd5b81b",
    "tags": [],
    "deepnote_cell_type": "markdown",
    "deepnote_cell_height": 62
   }
  },
  {
   "cell_type": "code",
   "source": "assert move(gStartState, 0, 4) == ([[4, 4, 4, 4, 0, 5, 1], [5, 5, 4, 4, 4, 4, 0]], False)",
   "metadata": {
    "cell_id": "5d4ec374a70d4a7d9cc719826a86ceb1",
    "tags": [],
    "deepnote_to_be_reexecuted": false,
    "source_hash": "fb6bb429",
    "execution_start": 1650976819696,
    "execution_millis": 1,
    "deepnote_cell_type": "code",
    "deepnote_cell_height": 81
   },
   "outputs": [],
   "execution_count": 35
  },
  {
   "cell_type": "code",
   "source": "assert move(gStartState, 0, 2) == ([[4, 4, 0, 5, 5, 5, 1], [4, 4, 4, 4, 4, 4, 0]], True)",
   "metadata": {
    "cell_id": "5440e9f2bc0b48b888132db68c173bf5",
    "tags": [],
    "deepnote_to_be_reexecuted": false,
    "source_hash": "65e88e68",
    "execution_start": 1650977293591,
    "execution_millis": 1,
    "deepnote_cell_type": "code",
    "deepnote_cell_height": 81
   },
   "outputs": [],
   "execution_count": 50
  },
  {
   "cell_type": "markdown",
   "source": "The move function returns True if the player gets another turn. If it is the opponents turn move returns False. In a game with four feeds in the start state the player gets another turn when he choses the house with the index 2.  ",
   "metadata": {
    "cell_id": "ff6fe64de11842758e5c6e637fa97022",
    "tags": [],
    "deepnote_cell_type": "markdown",
    "deepnote_cell_height": 74.796875
   }
  },
  {
   "cell_type": "markdown",
   "source": "### next_states",
   "metadata": {
    "cell_id": "852f402fcb57461db5fc6f9d26d917ab",
    "tags": [],
    "deepnote_cell_type": "markdown",
    "deepnote_cell_height": 62
   }
  },
  {
   "cell_type": "code",
   "source": "assert next_states([[0, 0, 0, 0, 0, 1, 43], [0, 2, 0, 1, 2, 1, 22]],0) == [([[0, 0, 0, 0, 0, 0, 44], [0, 2, 0, 1, 2, 1, 22]], [5])]",
   "metadata": {
    "cell_id": "f0db7b2776914e4aa81113c715623fc5",
    "tags": [],
    "deepnote_to_be_reexecuted": false,
    "source_hash": "78920294",
    "execution_start": 1650977529586,
    "execution_millis": 5,
    "deepnote_cell_type": "code",
    "deepnote_cell_height": 81
   },
   "outputs": [],
   "execution_count": 52
  },
  {
   "cell_type": "markdown",
   "source": "### finished",
   "metadata": {
    "cell_id": "c3f61a4bd9184f1ab3636ec411d78543",
    "tags": [],
    "deepnote_cell_type": "markdown",
    "deepnote_cell_height": 62
   }
  },
  {
   "cell_type": "code",
   "source": "assert finished([[0,0,5,0,0,0,12],[0,4,0,0,0,0,15]]) == False",
   "metadata": {
    "cell_id": "8a1e2d6c649d4e64abe24ad941ce548b",
    "tags": [],
    "deepnote_to_be_reexecuted": false,
    "source_hash": "8d2ad286",
    "execution_start": 1650977562852,
    "execution_millis": 4,
    "deepnote_cell_type": "code",
    "deepnote_cell_height": 81
   },
   "outputs": [],
   "execution_count": 53
  },
  {
   "cell_type": "code",
   "source": "assert finished([[0, 0, 0, 0, 1, 1, 18], [0, 0, 0, 0, 0, 0, 28]]) == True",
   "metadata": {
    "cell_id": "e62caf175bcf4fe0a4e863b20af53b68",
    "tags": [],
    "deepnote_to_be_reexecuted": false,
    "source_hash": "2a958d4a",
    "allow_embed": false,
    "execution_start": 1650978348740,
    "execution_millis": 4,
    "deepnote_cell_type": "code",
    "deepnote_cell_height": 81
   },
   "outputs": [],
   "execution_count": 55
  },
  {
   "cell_type": "markdown",
   "source": "### utility",
   "metadata": {
    "cell_id": "d480b9612b1c42e98de35079dd67943c",
    "tags": [],
    "deepnote_cell_type": "markdown",
    "deepnote_cell_height": 62
   }
  },
  {
   "cell_type": "code",
   "source": "assert utility([[0, 0, 0, 0, 1, 1, 18], [0, 0, 0, 0, 0, 0, 28]],1) == 1",
   "metadata": {
    "cell_id": "cf71a1a3be014019aea0c3b07f6afe3a",
    "tags": [],
    "deepnote_to_be_reexecuted": false,
    "source_hash": "c621789a",
    "execution_start": 1650978411296,
    "execution_millis": 2,
    "deepnote_cell_type": "code",
    "deepnote_cell_height": 81
   },
   "outputs": [],
   "execution_count": 61
  },
  {
   "cell_type": "code",
   "source": "assert utility([[0, 0, 0, 0, 1, 1, 18], [0, 0, 0, 0, 0, 0, 28]],0) == -1",
   "metadata": {
    "cell_id": "af507218d8b1421c80c81c0782e15f93",
    "tags": [],
    "deepnote_to_be_reexecuted": false,
    "source_hash": "6189dfcf",
    "allow_embed": false,
    "execution_start": 1650978447432,
    "execution_millis": 6,
    "deepnote_cell_type": "code",
    "deepnote_cell_height": 81
   },
   "outputs": [],
   "execution_count": 65
  },
  {
   "cell_type": "markdown",
   "source": "## Tests of Player Class",
   "metadata": {
    "cell_id": "802ed9b2-2e18-400d-b802-ec4470c9be96",
    "tags": [],
    "deepnote_cell_type": "markdown",
    "deepnote_cell_height": 70
   }
  },
  {
   "cell_type": "markdown",
   "source": "### 1. Player number must be 0 or 1",
   "metadata": {
    "cell_id": "70c7c929-377d-42cd-a88b-b5aa24c6ced7",
    "tags": [],
    "deepnote_cell_type": "markdown",
    "deepnote_cell_height": 62
   }
  },
  {
   "cell_type": "code",
   "metadata": {
    "cell_id": "d24b69da-8615-487c-810e-164499661daf",
    "tags": [],
    "deepnote_to_be_reexecuted": false,
    "source_hash": "50141332",
    "execution_start": 1650975136058,
    "execution_millis": 2,
    "deepnote_cell_type": "code",
    "deepnote_cell_height": 166
   },
   "source": "try:\n    Player(2, \"Player1\")\nexcept ValueError as e:\n    print(e)",
   "execution_count": 5,
   "outputs": [
    {
     "name": "stdout",
     "text": "Number of player must be 0 or 1!\n",
     "output_type": "stream"
    }
   ]
  },
  {
   "cell_type": "markdown",
   "source": "### 2. Player name must be a string",
   "metadata": {
    "cell_id": "620e2c31-605b-4c29-9a9a-b0cc89b5c816",
    "tags": [],
    "deepnote_cell_type": "markdown",
    "deepnote_cell_height": 62
   }
  },
  {
   "cell_type": "code",
   "metadata": {
    "cell_id": "9fdde0cd-4699-4275-84d0-f650a22c0e40",
    "tags": [],
    "deepnote_to_be_reexecuted": false,
    "source_hash": "ac300006",
    "execution_start": 1650975141421,
    "execution_millis": 28,
    "deepnote_cell_type": "code",
    "deepnote_cell_height": 166
   },
   "source": "try:\n    Player(0, 3)\nexcept ValueError as e:\n    print(e)",
   "execution_count": 6,
   "outputs": [
    {
     "name": "stdout",
     "text": "Name must be a string!\n",
     "output_type": "stream"
    }
   ]
  },
  {
   "cell_type": "markdown",
   "source": "### 3. Successful Player creation",
   "metadata": {
    "cell_id": "66140f91-2464-409d-9844-c76d9d68d00a",
    "tags": [],
    "deepnote_cell_type": "markdown",
    "deepnote_cell_height": 62
   }
  },
  {
   "cell_type": "code",
   "metadata": {
    "cell_id": "ce926aec-132a-4487-8e45-33cffe234ca2",
    "tags": [],
    "deepnote_to_be_reexecuted": false,
    "source_hash": "cf4eee45",
    "execution_start": 1650975142508,
    "execution_millis": 22,
    "deepnote_cell_type": "code",
    "deepnote_cell_height": 118.1875,
    "deepnote_output_heights": [
     21.1875
    ]
   },
   "source": "Player(0, \"Player1\")",
   "execution_count": 7,
   "outputs": [
    {
     "output_type": "execute_result",
     "execution_count": 7,
     "data": {
      "text/plain": "<__main__.Player at 0x7fd2205bbb10>"
     },
     "metadata": {}
    }
   ]
  },
  {
   "cell_type": "markdown",
   "source": "### Test of Human Player Class",
   "metadata": {
    "cell_id": "e71e6e0f-fb02-42e5-a3c5-f40f8a57a72e",
    "tags": [],
    "deepnote_cell_type": "markdown",
    "deepnote_cell_height": 62
   }
  },
  {
   "cell_type": "code",
   "metadata": {
    "cell_id": "e962bef4-7f4c-40bb-a01b-7cf99362cbf8",
    "tags": [],
    "deepnote_to_be_reexecuted": false,
    "source_hash": "c543ce6e",
    "execution_start": 1650975146953,
    "execution_millis": 18,
    "deepnote_cell_type": "code",
    "deepnote_cell_height": 81
   },
   "source": "human = Human(1,\"Hans\")",
   "execution_count": 8,
   "outputs": []
  },
  {
   "cell_type": "code",
   "metadata": {
    "cell_id": "7127e4d4-bc9e-44a0-8762-4883555c1f83",
    "tags": [],
    "deepnote_to_be_reexecuted": false,
    "source_hash": "55e0c865",
    "execution_start": 1650975229116,
    "execution_millis": 3,
    "deepnote_cell_type": "code",
    "deepnote_cell_height": 99
   },
   "source": "#choose house testen\n#human.choose_house([[6,6,6,6,6,6,0], [6,0,6,6,4,6,0]])",
   "execution_count": 17,
   "outputs": []
  },
  {
   "cell_type": "markdown",
   "source": "### Test of Random_AI Player Class",
   "metadata": {
    "cell_id": "ca9d91f6-82ec-4a19-ad42-ab8fe3eb6bf2",
    "tags": [],
    "deepnote_cell_type": "markdown",
    "deepnote_cell_height": 62
   }
  },
  {
   "cell_type": "code",
   "metadata": {
    "cell_id": "39ed7357-3283-4318-8c33-60378f95bfc4",
    "tags": [],
    "deepnote_to_be_reexecuted": false,
    "source_hash": "68533d11",
    "execution_start": 1650978571135,
    "execution_millis": 11,
    "deepnote_cell_type": "code",
    "deepnote_cell_height": 81
   },
   "source": "ai = Random_AI(0,\"Rando\", 1)",
   "execution_count": 81,
   "outputs": []
  },
  {
   "cell_type": "code",
   "metadata": {
    "cell_id": "5592fb44-6510-42a9-8aa4-f8c8e08caed4",
    "tags": [],
    "deepnote_to_be_reexecuted": false,
    "source_hash": "6e8ecac2",
    "execution_start": 1650978571476,
    "execution_millis": 0,
    "deepnote_cell_type": "code",
    "deepnote_cell_height": 81
   },
   "source": "assert ai.choose_house(gStartState) == 1",
   "execution_count": 82,
   "outputs": []
  },
  {
   "cell_type": "markdown",
   "source": "",
   "metadata": {
    "cell_id": "e4158e42c1b44394b13d7260fe61e7bb",
    "tags": [],
    "deepnote_cell_type": "markdown",
    "deepnote_cell_height": 46
   }
  },
  {
   "cell_type": "markdown",
   "source": "### Test of Minimax Player Class",
   "metadata": {
    "cell_id": "7af0768e-858f-43cd-bb16-34afd8a4bab9",
    "tags": [],
    "deepnote_cell_type": "markdown",
    "deepnote_cell_height": 62
   }
  },
  {
   "cell_type": "code",
   "metadata": {
    "cell_id": "fc83914d-7e50-4362-8f15-9890ff84ac5f",
    "tags": [],
    "deepnote_to_be_reexecuted": false,
    "source_hash": "5d9e941f",
    "execution_start": 1650978773749,
    "execution_millis": 0,
    "deepnote_cell_type": "code",
    "deepnote_cell_height": 81,
    "deepnote_output_heights": [
     21.1875
    ]
   },
   "source": "assert Minimax(1,\"Mini\",5).choose_house(gStartState) == 2",
   "execution_count": 89,
   "outputs": []
  },
  {
   "cell_type": "markdown",
   "source": "## Tests of Kalah_Game Class",
   "metadata": {
    "cell_id": "29b73475-9122-48fd-8a6f-d6e7174b0c39",
    "tags": [],
    "owner_user_id": "f69dee13-5c5e-4b97-89fa-71f96690ed33",
    "deepnote_cell_type": "markdown",
    "deepnote_cell_height": 70
   }
  },
  {
   "cell_type": "markdown",
   "source": "### 1. There must be exactly two players",
   "metadata": {
    "cell_id": "90e2ba1b-956b-494e-9c3d-d038526c45ea",
    "tags": [],
    "deepnote_cell_type": "markdown",
    "deepnote_cell_height": 62
   }
  },
  {
   "cell_type": "code",
   "metadata": {
    "cell_id": "3f773e00-1bcf-4800-b67c-35779e37c3d8",
    "tags": [],
    "deepnote_cell_type": "code",
    "deepnote_cell_height": 120
   },
   "source": "try:\n    game = Kalah_Game([Player(0,\"Test\")],0)\nexcept ValueError as e:\n    print(e)",
   "execution_count": null,
   "outputs": []
  },
  {
   "cell_type": "markdown",
   "source": "### 2. Players must be instances of a Player sublass",
   "metadata": {
    "cell_id": "00019-cd2aa7f3-dd66-4654-bcfb-f84053f653b2",
    "tags": [],
    "deepnote_cell_type": "markdown",
    "deepnote_cell_height": 62
   }
  },
  {
   "cell_type": "code",
   "metadata": {
    "cell_id": "9775da90-dc80-4087-bad9-20dcd3688ee5",
    "tags": [],
    "deepnote_cell_type": "code",
    "deepnote_cell_height": 120
   },
   "source": "try:\n    game = Kalah_Game([Player(0,\"Test\"), Player(1,\"Test\")],0)\nexcept ValueError as e:\n    print(e)",
   "execution_count": null,
   "outputs": []
  },
  {
   "cell_type": "markdown",
   "source": "### 3. Player numbers must be 0 and 1",
   "metadata": {
    "cell_id": "5e35de19-dad2-4782-987a-c8ad716b3d27",
    "tags": [],
    "deepnote_cell_type": "markdown",
    "deepnote_cell_height": 62
   }
  },
  {
   "cell_type": "code",
   "metadata": {
    "cell_id": "be806c51-8bcb-41f6-b155-3758412dc805",
    "tags": [],
    "deepnote_cell_type": "code",
    "deepnote_cell_height": 120
   },
   "source": "try:\n    game = Kalah_Game([Human(1,\"Human\"), Random_AI(1,\"AI\",2)],0)\nexcept ValueError as e:\n    print(e)",
   "execution_count": null,
   "outputs": []
  },
  {
   "cell_type": "markdown",
   "source": "### 4. Display mode must be 0, 1 or 2",
   "metadata": {
    "cell_id": "44bf0339-add2-4a8e-8b10-ae908adc30f5",
    "tags": [],
    "deepnote_cell_type": "markdown",
    "deepnote_cell_height": 62
   }
  },
  {
   "cell_type": "code",
   "metadata": {
    "cell_id": "fcb9111f-e805-4e75-88af-8bbd73a5617d",
    "tags": [],
    "deepnote_cell_type": "code",
    "deepnote_cell_height": 120
   },
   "source": "try:\n    game = Kalah_Game([Human(1,\"Human\"), Random_AI(0,\"AI\",2)],3)\nexcept ValueError as e:\n    print(e)",
   "execution_count": null,
   "outputs": []
  },
  {
   "cell_type": "markdown",
   "source": "### 5. Successful Game creation with two AIs",
   "metadata": {
    "cell_id": "59f51523-9192-474c-8e1e-2e93f9be0d4c",
    "tags": [],
    "deepnote_cell_type": "markdown",
    "deepnote_cell_height": 62
   }
  },
  {
   "cell_type": "code",
   "metadata": {
    "cell_id": "173410ec-18d3-4971-97fb-978834830cc6",
    "tags": [],
    "deepnote_cell_type": "code",
    "deepnote_cell_height": 66
   },
   "source": "game = Kalah_Game([Random_AI(0,\"Rando\",1), Minimax(1,\"Mini\",3)], 2)",
   "execution_count": null,
   "outputs": []
  },
  {
   "cell_type": "code",
   "metadata": {
    "cell_id": "ee7b8a06-dfb2-407a-bc6e-605c4da68e43",
    "tags": [],
    "deepnote_cell_type": "code",
    "deepnote_cell_height": 84
   },
   "source": "%%time\ngame.start()",
   "execution_count": null,
   "outputs": []
  },
  {
   "cell_type": "code",
   "metadata": {
    "cell_id": "5125f641-0038-46b0-a045-cc5411c46cbc",
    "tags": [],
    "deepnote_cell_type": "code",
    "deepnote_cell_height": 84
   },
   "source": "timestamp = str(dt.datetime.now()).replace(':','.')\ngame.log_to_file(timestamp)",
   "execution_count": null,
   "outputs": []
  },
  {
   "cell_type": "markdown",
   "source": "### Tests of Repeat Game\n#### Repeating the game of two AIs, where the decisions are repeated based on the log file (Player types: Repeated_Player)",
   "metadata": {
    "cell_id": "46af8d46-0a0b-46f6-b89c-01eb041a63df",
    "tags": [],
    "deepnote_cell_type": "markdown",
    "deepnote_cell_height": 126
   }
  },
  {
   "cell_type": "code",
   "metadata": {
    "cell_id": "38ce819b-6096-4eaf-85ad-26a5d1eb5978",
    "tags": [],
    "deepnote_cell_type": "code",
    "deepnote_cell_height": 84
   },
   "source": "%%time\nrepeat_game(f\"log_{timestamp}.json\",True,1)",
   "execution_count": null,
   "outputs": []
  },
  {
   "cell_type": "markdown",
   "source": "#### Repeating the game of two AIs, where both of them calculate their decisions new (Player types: Random_AI)",
   "metadata": {
    "cell_id": "bd7a8d9f-d537-44f0-901c-20618c2f037b",
    "tags": [],
    "deepnote_cell_type": "markdown",
    "deepnote_cell_height": 78
   }
  },
  {
   "cell_type": "code",
   "metadata": {
    "cell_id": "cb91697d-e8a1-46df-a0de-f9d00cfab266",
    "tags": [],
    "deepnote_cell_type": "code",
    "deepnote_cell_height": 84
   },
   "source": "%%time\nrepeat_game(f\"log_{timestamp}.json\",False,1)",
   "execution_count": null,
   "outputs": []
  },
  {
   "cell_type": "markdown",
   "source": "<a style='text-decoration:none;line-height:16px;display:flex;color:#5B5B62;padding:10px;justify-content:end;' href='https://deepnote.com?utm_source=created-in-deepnote-cell&projectId=b91c3ea7-d814-439b-837a-72fdc90697b1' target=\"_blank\">\n<img alt='Created in deepnote.com' style='display:inline;max-height:16px;margin:0px;margin-right:7.5px;' src='data:image/svg+xml;base64,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' > </img>\nCreated in <span style='font-weight:600;margin-left:4px;'>Deepnote</span></a>",
   "metadata": {
    "tags": [],
    "created_in_deepnote_cell": true,
    "deepnote_cell_type": "markdown"
   }
  }
 ],
 "nbformat": 4,
 "nbformat_minor": 2,
 "metadata": {
  "kernelspec": {
   "display_name": "Python 3",
   "language": "python",
   "name": "python3"
  },
  "language_info": {
   "codemirror_mode": {
    "name": "ipython",
    "version": 3
   },
   "file_extension": ".py",
   "mimetype": "text/x-python",
   "name": "python",
   "nbconvert_exporter": "python",
   "pygments_lexer": "ipython3",
   "version": "3.7.4"
  },
  "deepnote_notebook_id": "14354731-2ca2-41c5-970e-e7a0cfba5e9c",
  "deepnote": {},
  "deepnote_execution_queue": []
 }
}