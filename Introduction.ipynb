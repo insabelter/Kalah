{
 "cells": [
  {
   "cell_type": "markdown",
   "source": "# Introduction\n\nThis student project focuses on programming the game [Kalah](https://en.wikipedia.org/wiki/Kalah) in Python with an appropriate graphical user interface and three different game AI's to compete against. Kalah is a game in the mancala family which means that it is a two-player turn-based strategy board game that is played with small seeds (or stones) on a game board. The goal of this project is to implement the game in a way that different variations of player types can play against each other. This means that not only a human should be able to play against one of the different AI's, but that also two humans or two (different) AI's could play against each other. \n\nOne important focus of the student project is developing a heuristic for the game Kalah, which determines the value of a game state for a player and therefore is the basis for the behaviour of all of the different AI's. The three AI's which are implemented in this student project are based on the Minimax, the AlphaBeta and the Scout algorithm. Whereas the Minimax and the AlphaBeta algorithm were explained in a student lecture on Artificial Intelligence on the basis of other two-player games, the main difficulty of this student project lies in understanding and implementing the AI algorithm Scout, based on the [Scout research paper](https://www.aaai.org/Papers/AAAI/1980/AAAI80-041.pdf) from Judea Pearl. To improve the efficiency of the AI's, the implementations should also include suitable memoization methods and progressive deepening with move ordering (for AlphaBeta and Scout).\n\nIn the end, the different implemented AI's should be analyzed and compared. Eventhough they should all make the same deterministic game moves if they are depth limited to the same limit, they should differ in their number of node inspections and therefore also in their computing time. ",
   "metadata": {
    "tags": [],
    "cell_id": "7a983968-16b3-42f9-b037-2144138f1b83",
    "deepnote_cell_type": "markdown",
    "deepnote_cell_height": 394.6875
   }
  },
  {
   "cell_type": "markdown",
   "source": "# Kalah Rules\n\n### Game Structure:\n<p>The game board consists of six houses per side and one additional large house per player at the edge, the so-called storage. At the beginning of the game, four seeds are placed in each house except the storage. The game could also be played with another number of start seeds in the houses, but four is the standard number. The Kalah board in the start state of the game is shown below:</p>\n\n![title](images/Board_start_state.png)\n\n### Gameplay:\n<p>Alternately, a player selects a house on his side of the board. The player then places seeds in the following houses one seed at the time in a counter-clockwise direction. If visited, a seed is placed in the own storage. The opponent's storage is left out. The player's turn ends if all seeds from the chosen house are placed.\n\nThere are some special rules, that apply if the last seed is placed in the player's storage or an empty player's house:\n1. If the last seed is placed in the own storage, it is the player's turn again.\n2. If the last seed is placed in an empty house on the player's own side of the board, this seed and all the seeds in the opposite opponent's house are placed in the player's storage. This so-called  \"stealing\" can only occur if the opposite house contains at least one seed.</p>\n\n### End of the game:\n<p>The game ends when all the houses of one player have been emptied. The opposing player then places all remaining seed in his storage and the seeds in the storages are counted.</p>\n\n### Object of the game:\n<p>The winner is the player who has more seeds in his storage at the end of the game. If both players have the same amount of seeds in their houses, the game ends in a draw.</p><br>\n\nSource: http://gambiter.com/mancala/Kalah.html (05.06.2022), http://www.iggamecenter.com/info/en/kalah.html (05.06.2022)",
   "metadata": {
    "cell_id": "33f47447421a4ff0abf16b4e17286945",
    "tags": [],
    "owner_user_id": "f69dee13-5c5e-4b97-89fa-71f96690ed33",
    "deepnote_cell_type": "markdown",
    "deepnote_cell_height": 1147.859375
   }
  },
  {
   "cell_type": "markdown",
   "source": "",
   "metadata": {
    "cell_id": "3769749406654b65a5126e630a11edda",
    "tags": [],
    "deepnote_cell_type": "markdown",
    "deepnote_cell_height": 46
   }
  },
  {
   "cell_type": "markdown",
   "source": "<a style='text-decoration:none;line-height:16px;display:flex;color:#5B5B62;padding:10px;justify-content:end;' href='https://deepnote.com?utm_source=created-in-deepnote-cell&projectId=b91c3ea7-d814-439b-837a-72fdc90697b1' target=\"_blank\">\n<img alt='Created in deepnote.com' style='display:inline;max-height:16px;margin:0px;margin-right:7.5px;' src='data:image/svg+xml;base64,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' > </img>\nCreated in <span style='font-weight:600;margin-left:4px;'>Deepnote</span></a>",
   "metadata": {
    "tags": [],
    "created_in_deepnote_cell": true,
    "deepnote_cell_type": "markdown"
   }
  }
 ],
 "nbformat": 4,
 "nbformat_minor": 2,
 "metadata": {
  "orig_nbformat": 2,
  "deepnote": {},
  "deepnote_notebook_id": "886863ce-8356-445a-98ac-bf470472d25a",
  "deepnote_execution_queue": []
 }
}