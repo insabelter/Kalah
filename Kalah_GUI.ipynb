{
 "cells": [
  {
   "cell_type": "code",
   "execution_count": 1,
   "id": "4d10eedf",
   "metadata": {},
   "outputs": [
    {
     "data": {
      "text/html": [
       "<link href='http://fonts.googleapis.com/css?family=Alegreya+Sans:100,300,400,500,700,800,900,100italic,300italic,400italic,500italic,700italic,800italic,900italic' rel='stylesheet' type='text/css'>\n",
       "<link href='http://fonts.googleapis.com/css?family=Arvo:400,700,400italic' rel='stylesheet' type='text/css'>\n",
       "<link href='http://fonts.googleapis.com/css?family=PT+Mono' rel='stylesheet' type='text/css'>\n",
       "<link href='http://fonts.googleapis.com/css?family=Shadows+Into+Light' rel='stylesheet' type='text/css'>\n",
       "<link href='http://fonts.googleapis.com/css?family=Philosopher:400,700,400italic,700italic' rel='stylesheet' type='text/css'>\n",
       "\n",
       "<style>\n",
       "\n",
       "@font-face {\n",
       "    font-family: \"Computer Modern\";\n",
       "    src: url('http://mirrors.ctan.org/fonts/cm-unicode/fonts/otf/cmunss.otf');\n",
       "}\n",
       "\n",
       ".container { width: 100% }\n",
       "\n",
       "/* Formatting for header cells */\n",
       ".text_cell_render h1 {\n",
       "    font-family: 'Philosopher', sans-serif;\n",
       "    font-weight: 400;\n",
       "    font-size: 2.2em;\n",
       "    line-height: 100%;\n",
       "    color: rgb(0, 80, 120);\n",
       "    margin-bottom: 0.1em;\n",
       "    margin-top: 0.1em;\n",
       "    display: block;\n",
       "}\t\n",
       ".text_cell_render h2 {\n",
       "    font-family: 'Philosopher', serif;\n",
       "    font-weight: 400;\n",
       "    font-size: 1.9em;\n",
       "    line-height: 100%;\n",
       "    color: rgb(200,100,0);\n",
       "    margin-bottom: 0.1em;\n",
       "    margin-top: 0.1em;\n",
       "    display: block;\n",
       "}\t\n",
       "\n",
       ".text_cell_render h3 {\n",
       "    font-family: 'Philosopher', serif;\n",
       "    margin-top:12px;\n",
       "    margin-bottom: 3px;\n",
       "    font-style: italic;\n",
       "    color: rgb(94,127,192);\n",
       "}\n",
       "\n",
       ".text_cell_render h4 {\n",
       "    font-family: 'Philosopher', serif;\n",
       "}\n",
       "\n",
       ".text_cell_render h5 {\n",
       "    font-family: 'Alegreya Sans', sans-serif;\n",
       "    font-weight: 300;\n",
       "    font-size: 16pt;\n",
       "    color: grey;\n",
       "    font-style: italic;\n",
       "    margin-bottom: .1em;\n",
       "    margin-top: 0.1em;\n",
       "    display: block;\n",
       "}\n",
       "\n",
       ".text_cell_render h6 {\n",
       "    font-family: 'PT Mono', sans-serif;\n",
       "    font-weight: 300;\n",
       "    font-size: 10pt;\n",
       "    color: grey;\n",
       "    margin-bottom: 1px;\n",
       "    margin-top: 1px;\n",
       "}\n",
       "\n",
       ".text_cell_render em {\n",
       "    font-family: 'Philosopher', sans-serif;\n",
       "    color:        blue;\n",
       "    background-color: rgb(255,220,180);\n",
       "    font-size:    110%;\n",
       "    margin-left:   2px;\n",
       "    margin-right:  2px;\n",
       "    font-weight:   100;\n",
       "}\n",
       "\n",
       ".text_cell_render b {\n",
       "    color:            rgb(255,195,195);\n",
       "    background-color: rgb(0,0,0);\n",
       "    font-size:    110%;\n",
       "    margin-left:   2px;\n",
       "    margin-right:  2px;\n",
       "    font-weight:   650;\n",
       "}\n",
       "\n",
       ".text_cell_render tt {\n",
       "    font-size:    120%;\n",
       "    margin-left:   2px;\n",
       "    margin-right:  2px;\n",
       "    font-weight:   150;\n",
       "}\n",
       "\n",
       ".Codemirror {\n",
       "    font-family: \"PT Mono\";\n",
       "    font-size: 100%;\n",
       "}\n",
       "\n",
       "</style>\n",
       "\n"
      ],
      "text/plain": [
       "<IPython.core.display.HTML object>"
      ]
     },
     "execution_count": 1,
     "metadata": {},
     "output_type": "execute_result"
    }
   ],
   "source": [
    "from ipycanvas import MultiCanvas,hold_canvas\n",
    "from ipywidgets import Image\n",
    "import math\n",
    "import random\n",
    "import IPython.display\n",
    "from IPython.core.display import HTML\n",
    "with open('style.css', 'r') as file:\n",
    "    css = file.read()\n",
    "HTML(css)"
   ]
  },
  {
   "cell_type": "markdown",
   "id": "86aac2fa",
   "metadata": {},
   "source": [
    "## Graphical User Interface\n",
    "In this section we develop the graphical user interface the player is going to use to play the game. This includes the representation of a game state and the implementation of user input."
   ]
  },
  {
   "cell_type": "markdown",
   "id": "80d5ae95",
   "metadata": {},
   "source": [
    "### The Board\n",
    "The following image shows the entire board including some notations. The general setup of the board is pretty simple: we see 12 circular \"holes\" in the middle area and one big yet round \"hole\" on either end of the board. We call these **houses**. The big houses are special houses often referred to as **Kalah**. The houses are split between the 2 players such that each player gets 6 regular houses and 1 Kalah. "
   ]
  },
  {
   "cell_type": "markdown",
   "id": "1bf81165",
   "metadata": {},
   "source": [
    "### The Board Class\n",
    "We define a board class to simplify the approach of drawing the board and the according state of the game.\n",
    "\n",
    "#### Variables & Constants\n",
    "This class contains the following variables:\n",
    "- `canvas` = Holds the canvas object used for displaying the current game state\n",
    "\n",
    "and the following constants:\n",
    "- `BACKGROUND_IMG` = Contains the file location as string, which refers to the background image of the canvas\n",
    "- `SEED_IMG` = Contains the file location as string, which refers to the image used for one seed"
   ]
  },
  {
   "cell_type": "code",
   "execution_count": 2,
   "id": "fe520f55",
   "metadata": {},
   "outputs": [],
   "source": [
    "class Board:\n",
    "    canvas = MultiCanvas(2,width=800, height=400)\n",
    "    background = canvas[0]\n",
    "    foreground = canvas[1]\n",
    "    BACKGROUND_IMG = 'images/Board.png'\n",
    "    SEED_IMG = 'images/seed.png'"
   ]
  },
  {
   "cell_type": "code",
   "execution_count": 3,
   "id": "13407b3f",
   "metadata": {},
   "outputs": [],
   "source": [
    "def _drawBackground(self):\n",
    "    # Load the image\n",
    "    background_sprite = Image.from_file(self.BACKGROUND_IMG)\n",
    "    # Draw the image on the background layer\n",
    "    self.background.draw_image(background_sprite,0,0)\n",
    "    \n",
    "Board._drawBackground = _drawBackground\n",
    "del _drawBackground"
   ]
  },
  {
   "cell_type": "code",
   "execution_count": 4,
   "id": "efefcd5e",
   "metadata": {},
   "outputs": [],
   "source": [
    "def state_to_dict(state):\n",
    "    d = {}\n",
    "    for i in [0,1]:\n",
    "        for j in range(7):\n",
    "            d[order[i][j]] = state[i][j]\n",
    "    return d"
   ]
  },
  {
   "cell_type": "code",
   "execution_count": 5,
   "id": "1cc9dac5",
   "metadata": {},
   "outputs": [],
   "source": [
    "def _drawSeeds(self, centerX, centerY, rad, cnt):\n",
    "    #account for thickness of seed\n",
    "    seed_sprite = Image.from_file(self.SEED_IMG)\n",
    "    seed_width = 15\n",
    "    seed_height = 15\n",
    "    \n",
    "    #self.foreground.fill_circle(centerX,centerY,5)\n",
    "    with hold_canvas(self.foreground):\n",
    "        while cnt > 0:\n",
    "            \n",
    "            r = rad * math.sqrt(random.random())\n",
    "            theta = random.random() * 2 * math.pi\n",
    "            x = centerX + r * math.cos(theta)\n",
    "            y = centerY + r * math.sin(theta)\n",
    "            self.foreground.save()\n",
    "            \n",
    "            # Rotate by random amount for variation\n",
    "            self.foreground.translate(x, y)\n",
    "            self.foreground.rotate(random.uniform(0., math.pi))\n",
    "            self.foreground.translate(-x, -y)\n",
    "            self.foreground.draw_image(seed_sprite, x-seed_width, y-seed_height)\n",
    "            cnt-= 1\n",
    "            self.foreground.restore()\n",
    "        \n",
    "        \n",
    "Board._drawSeeds = _drawSeeds\n",
    "del _drawSeeds"
   ]
  },
  {
   "cell_type": "code",
   "execution_count": 6,
   "id": "79b44d01",
   "metadata": {},
   "outputs": [],
   "source": [
    "def draw(self):\n",
    "#     CENTER_Y = self.canvas.height/2\n",
    "#     Y_OFFSET_TEXT = 35\n",
    "    \n",
    "#     house = state_to_dict(state)\n",
    "#     self.foreground.font = '32px serif'\n",
    "#     foreground.fill_style = 'black'\n",
    "\n",
    "#     # Upper row of numbers for the houses\n",
    "#     self.foreground.fill_text(str(house['F']),135,CENTER_Y - Y_OFFSET_TEXT)\n",
    "#     self.foreground.fill_text(str(house['E']),235,CENTER_Y - Y_OFFSET_TEXT)\n",
    "#     self.foreground.fill_text(str(house['D']),335,CENTER_Y - Y_OFFSET_TEXT)\n",
    "#     self.foreground.fill_text(str(house['C']),435,CENTER_Y - Y_OFFSET_TEXT)\n",
    "#     self.foreground.fill_text(str(house['B']),535,CENTER_Y - Y_OFFSET_TEXT)\n",
    "#     self.foreground.fill_text(str(house['A']),635,CENTER_Y - Y_OFFSET_TEXT)\n",
    "\n",
    "#     # Lower row of numbers for the houses\n",
    "#     self.foreground.fill_text(str(house['a']),135,CENTER_Y + Y_OFFSET_TEXT)\n",
    "#     self.foreground.fill_text(str(house['b']),235,CENTER_Y + Y_OFFSET_TEXT)\n",
    "#     self.foreground.fill_text(str(house['c']),335,CENTER_Y + Y_OFFSET_TEXT)\n",
    "#     self.foreground.fill_text(str(house['d']),435,CENTER_Y + Y_OFFSET_TEXT)\n",
    "#     self.foreground.fill_text(str(house['e']),535,CENTER_Y + Y_OFFSET_TEXT)\n",
    "#     self.foreground.fill_text(str(house['f']),635,CENTER_Y + Y_OFFSET_TEXT)\n",
    "\n",
    "#     foreground.fill_text(str(house['o']),730,175)\n",
    "#     foreground.fill_text(str(house['O']),40,175)\n",
    "    \n",
    "    #IPython.display.clear_output()\n",
    "    display(self.canvas)\n",
    "\n",
    "Board.draw = draw\n",
    "del draw"
   ]
  },
  {
   "cell_type": "code",
   "execution_count": 7,
   "id": "db1ee175",
   "metadata": {},
   "outputs": [],
   "source": [
    "TOP_ROW_POSITION = (175,130)\n",
    "HOUSE_OFFSETS = (90,145)\n",
    "board = Board()"
   ]
  },
  {
   "cell_type": "code",
   "execution_count": 8,
   "id": "c81700bf",
   "metadata": {
    "scrolled": false
   },
   "outputs": [
    {
     "data": {
      "application/vnd.jupyter.widget-view+json": {
       "model_id": "cb7cabf290cb4bf59242a354fd99b3f3",
       "version_major": 2,
       "version_minor": 0
      },
      "text/plain": [
       "MultiCanvas(height=400, width=800)"
      ]
     },
     "metadata": {},
     "output_type": "display_data"
    }
   ],
   "source": [
    "board._drawSeeds(265,275,20,10)\n",
    "board._drawBackground()\n",
    "board.draw()"
   ]
  },
  {
   "cell_type": "code",
   "execution_count": 9,
   "id": "f7368d04",
   "metadata": {},
   "outputs": [],
   "source": [
    "def _state_to_dict(state):\n",
    "        d = {}\n",
    "        for i in [0,1]:\n",
    "            for j in range(7):\n",
    "                d[order[i][j]] = state[i][j]\n",
    "        return d"
   ]
  },
  {
   "cell_type": "code",
   "execution_count": 31,
   "id": "88761622",
   "metadata": {},
   "outputs": [],
   "source": [
    "def drawSeeds(canvas, state,housemap):\n",
    "    HOUSE_RAD = 20\n",
    "    canvas.clear()\n",
    "    #account for thickness of seed\n",
    "    seed_sprite = Image.from_file(SEED_IMG)\n",
    "    seed_width = 15\n",
    "    seed_height = 15\n",
    "    \n",
    "    \n",
    "    for house in state:\n",
    "        for seed in range(state[house]):\n",
    "            if house == 'O':\n",
    "                centerX, centerY = (TOP_ROW_POSITION[0]-HOUSE_OFFSETS[0],random.randrange(TOP_ROW_POSITION[1],TOP_ROW_POSITION[1]+HOUSE_OFFSETS[1]))\n",
    "            elif house == 'o':\n",
    "                centerX, centerY = (TOP_ROW_POSITION[0]+HOUSE_OFFSETS[0]*6,random.randrange(TOP_ROW_POSITION[1],TOP_ROW_POSITION[1]+HOUSE_OFFSETS[1]))\n",
    "            else:\n",
    "                centerX, centerY = housemap[house]\n",
    "\n",
    "            r = HOUSE_RAD * math.sqrt(random.random())\n",
    "            theta = random.random() * 2 * math.pi\n",
    "            x = centerX + r * math.cos(theta)\n",
    "            y = centerY + r * math.sin(theta)\n",
    "            canvas.save()\n",
    "\n",
    "            #Rotate by random amount for variation\n",
    "            canvas.translate(x, y)\n",
    "            canvas.rotate(random.uniform(0.,math.pi))\n",
    "            canvas.translate(-x, -y)\n",
    "            canvas.draw_image(seed_sprite, x-seed_width, y-seed_height)\n",
    "            canvas.restore()"
   ]
  },
  {
   "cell_type": "code",
   "execution_count": 59,
   "id": "00edea36",
   "metadata": {},
   "outputs": [],
   "source": [
    "def drawNumbers(canvas,state,housemap):\n",
    "    NUMBER_OFFSET_X = 7\n",
    "    NUMBER_OFFSET_Y_BOT = 50\n",
    "    NUMBER_OFFSET_Y_TOP = 60\n",
    "    housenumbermap = {\n",
    "        'F': (housemap['F'][0]-NUMBER_OFFSET_X,housemap['F'][1]+NUMBER_OFFSET_Y_TOP),\n",
    "        'E': (housemap['E'][0]-NUMBER_OFFSET_X,housemap['E'][1]+NUMBER_OFFSET_Y_TOP),\n",
    "        'D': (housemap['D'][0]-NUMBER_OFFSET_X,housemap['D'][1]+NUMBER_OFFSET_Y_TOP),\n",
    "        'C': (housemap['C'][0]-NUMBER_OFFSET_X,housemap['C'][1]+NUMBER_OFFSET_Y_TOP),\n",
    "        'B': (housemap['B'][0]-NUMBER_OFFSET_X,housemap['B'][1]+NUMBER_OFFSET_Y_TOP),\n",
    "        'A': (housemap['A'][0]-NUMBER_OFFSET_X,housemap['A'][1]+NUMBER_OFFSET_Y_TOP),\n",
    "        'a': (housemap['a'][0]-NUMBER_OFFSET_X,housemap['a'][1]-NUMBER_OFFSET_Y_BOT),\n",
    "        'b': (housemap['b'][0]-NUMBER_OFFSET_X,housemap['b'][1]-NUMBER_OFFSET_Y_BOT),\n",
    "        'c': (housemap['c'][0]-NUMBER_OFFSET_X,housemap['c'][1]-NUMBER_OFFSET_Y_BOT),\n",
    "        'd': (housemap['d'][0]-NUMBER_OFFSET_X,housemap['d'][1]-NUMBER_OFFSET_Y_BOT),\n",
    "        'e': (housemap['e'][0]-NUMBER_OFFSET_X,housemap['e'][1]-NUMBER_OFFSET_Y_BOT),\n",
    "        'f': (housemap['f'][0]-NUMBER_OFFSET_X,housemap['f'][1]-NUMBER_OFFSET_Y_BOT)\n",
    "    }\n",
    "    \n",
    "    canvas.font = '26px serif'\n",
    "    for key in housenumbermap:\n",
    "        canvas.fill_text(state[key],housenumbermap[key][0],housenumbermap[key][1])"
   ]
  },
  {
   "cell_type": "code",
   "execution_count": 32,
   "id": "2909216c",
   "metadata": {},
   "outputs": [],
   "source": [
    "def drawBoard(canvas,state):\n",
    "    TOP_ROW_POSITION = (175,130)\n",
    "    HOUSE_OFFSETS = (90,145)\n",
    "    \n",
    "    HOUSE_MAP={\n",
    "        'F':TOP_ROW_POSITION,\n",
    "        'E':(TOP_ROW_POSITION[0]+HOUSE_OFFSETS[0],TOP_ROW_POSITION[1]),\n",
    "        'D':(TOP_ROW_POSITION[0]+HOUSE_OFFSETS[0]*2,TOP_ROW_POSITION[1]),\n",
    "        'C':(TOP_ROW_POSITION[0]+HOUSE_OFFSETS[0]*3,TOP_ROW_POSITION[1]),\n",
    "        'B':(TOP_ROW_POSITION[0]+HOUSE_OFFSETS[0]*4,TOP_ROW_POSITION[1]),\n",
    "        'A':(TOP_ROW_POSITION[0]+HOUSE_OFFSETS[0]*5,TOP_ROW_POSITION[1]),\n",
    "        'a':(TOP_ROW_POSITION[0],TOP_ROW_POSITION[1]+HOUSE_OFFSETS[1]),\n",
    "        'b':(TOP_ROW_POSITION[0]+HOUSE_OFFSETS[0],TOP_ROW_POSITION[1]+HOUSE_OFFSETS[1]),\n",
    "        'c':(TOP_ROW_POSITION[0]+HOUSE_OFFSETS[0]*2,TOP_ROW_POSITION[1]+HOUSE_OFFSETS[1]),\n",
    "        'd':(TOP_ROW_POSITION[0]+HOUSE_OFFSETS[0]*3,TOP_ROW_POSITION[1]+HOUSE_OFFSETS[1]),\n",
    "        'e':(TOP_ROW_POSITION[0]+HOUSE_OFFSETS[0]*4,TOP_ROW_POSITION[1]+HOUSE_OFFSETS[1]),\n",
    "        'f':(TOP_ROW_POSITION[0]+HOUSE_OFFSETS[0]*5,TOP_ROW_POSITION[1]+HOUSE_OFFSETS[1]),\n",
    "    }\n",
    "    state = _state_to_dict(state)\n",
    "    with hold_canvas(canvas):\n",
    "        drawSeeds(canvas,state,HOUSE_MAP)\n",
    "        drawNumbers(canvas,state,HOUSE_MAP)"
   ]
  },
  {
   "cell_type": "code",
   "execution_count": 60,
   "id": "ca9d3b4d",
   "metadata": {},
   "outputs": [
    {
     "data": {
      "application/vnd.jupyter.widget-view+json": {
       "model_id": "9792302ecf99421483b7879382cf42a3",
       "version_major": 2,
       "version_minor": 0
      },
      "text/plain": [
       "MultiCanvas(height=400, width=800)"
      ]
     },
     "metadata": {},
     "output_type": "display_data"
    }
   ],
   "source": [
    "order = [['A','B','C','D','E','F','O'],\n",
    "         ['a','b','c','d','e','f','o']]\n",
    "\n",
    "canvas = MultiCanvas(3,width=800, height=400)\n",
    "background = canvas[0]\n",
    "foreground = canvas[1]\n",
    "BACKGROUND_IMG = 'images/Board.png'\n",
    "SEED_IMG = 'images/seed.png'\n",
    "\n",
    "# Load the image\n",
    "background_sprite = Image.from_file(BACKGROUND_IMG)\n",
    "# Draw the image on the background layer\n",
    "background.draw_image(background_sprite,0,0)\n",
    "\n",
    "drawBoard(foreground,[(1,6,8,0,20,6,17), (0,0,4,18,2,1,3)])\n",
    "\n",
    "display(canvas)"
   ]
  }
 ],
 "metadata": {
  "kernelspec": {
   "display_name": "Python 3 (ipykernel)",
   "language": "python",
   "name": "python3"
  },
  "language_info": {
   "codemirror_mode": {
    "name": "ipython",
    "version": 3
   },
   "file_extension": ".py",
   "mimetype": "text/x-python",
   "name": "python",
   "nbconvert_exporter": "python",
   "pygments_lexer": "ipython3",
   "version": "3.9.1"
  }
 },
 "nbformat": 4,
 "nbformat_minor": 5
}
